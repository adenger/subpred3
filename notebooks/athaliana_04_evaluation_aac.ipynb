{
 "cells": [
  {
   "cell_type": "markdown",
   "metadata": {},
   "source": [
    "# Feature performance comparison\n",
    "\n",
    "The purpose of this notebook is to compare the classification performance of the individual features, and their combination, for A. Thaliana"
   ]
  },
  {
   "cell_type": "markdown",
   "metadata": {},
   "source": [
    "# Imports"
   ]
  },
  {
   "cell_type": "code",
   "execution_count": 1,
   "metadata": {
    "execution": {
     "iopub.execute_input": "2022-07-15T13:42:19.686006Z",
     "iopub.status.busy": "2022-07-15T13:42:19.685432Z",
     "iopub.status.idle": "2022-07-15T13:42:20.306755Z",
     "shell.execute_reply": "2022-07-15T13:42:20.306266Z"
    }
   },
   "outputs": [],
   "source": [
    "from subpred.transporter_dataset import create_dataset\n",
    "from subpred.eval import (\n",
    "    get_independent_test_set,\n",
    "    optimize_hyperparams,\n",
    "    preprocess_pandas,\n",
    "    models_quick_compare,\n",
    "    get_confusion_matrix,\n",
    "    get_classification_report,\n",
    ")\n",
    "from subpred.compositions import calculate_aac"
   ]
  },
  {
   "cell_type": "markdown",
   "metadata": {},
   "source": [
    "# Dataset"
   ]
  },
  {
   "cell_type": "code",
   "execution_count": 2,
   "metadata": {
    "execution": {
     "iopub.execute_input": "2022-07-15T13:42:20.311789Z",
     "iopub.status.busy": "2022-07-15T13:42:20.311575Z",
     "iopub.status.idle": "2022-07-15T13:42:30.971760Z",
     "shell.execute_reply": "2022-07-15T13:42:30.970603Z"
    }
   },
   "outputs": [
    {
     "name": "stdout",
     "output_type": "stream",
     "text": [
      "cd-hit: clustered 165 sequences into 117 clusters at threshold 70\n"
     ]
    }
   ],
   "source": [
    "df = create_dataset(\n",
    "    keywords_substrate_filter=[\"Amino-acid transport\", \"Sugar transport\"],\n",
    "    keywords_component_filter=[\"Membrane\"],\n",
    "    keywords_transport_filter=[\"Transport\"],\n",
    "    input_file=\"../data/raw/swissprot/uniprot-reviewed_yes.tab.gz\",\n",
    "    multi_substrate=\"remove\",\n",
    "    outliers=[\"O81775\", \"Q9SW07\", \"Q9FHH5\", \"Q8S8A0\", \"Q3E965\", \"Q3EAV6\", \"Q3E8L0\"],\n",
    "    verbose=True,\n",
    "    tax_ids_filter=[3702],\n",
    "    output_log=\"../logs/athaliana_sugar_amino.log\",\n",
    "    sequence_clustering=70\n",
    ")"
   ]
  },
  {
   "cell_type": "markdown",
   "metadata": {},
   "source": [
    "# Feature generation\n",
    "\n",
    "## Labels"
   ]
  },
  {
   "cell_type": "code",
   "execution_count": 3,
   "metadata": {
    "execution": {
     "iopub.execute_input": "2022-07-15T13:42:31.016732Z",
     "iopub.status.busy": "2022-07-15T13:42:31.016385Z",
     "iopub.status.idle": "2022-07-15T13:42:31.033097Z",
     "shell.execute_reply": "2022-07-15T13:42:31.032264Z"
    }
   },
   "outputs": [
    {
     "data": {
      "text/plain": [
       "Sugar transport         84\n",
       "Amino-acid transport    33\n",
       "Name: keywords_transport, dtype: int64"
      ]
     },
     "execution_count": 3,
     "metadata": {},
     "output_type": "execute_result"
    }
   ],
   "source": [
    "labels = df.keywords_transport\n",
    "labels.value_counts()"
   ]
  },
  {
   "cell_type": "markdown",
   "metadata": {},
   "source": [
    "## AAC"
   ]
  },
  {
   "cell_type": "code",
   "execution_count": 4,
   "metadata": {
    "execution": {
     "iopub.execute_input": "2022-07-15T13:42:31.037310Z",
     "iopub.status.busy": "2022-07-15T13:42:31.037033Z",
     "iopub.status.idle": "2022-07-15T13:42:31.088909Z",
     "shell.execute_reply": "2022-07-15T13:42:31.087775Z"
    }
   },
   "outputs": [
    {
     "data": {
      "text/html": [
       "<div>\n",
       "<style scoped>\n",
       "    .dataframe tbody tr th:only-of-type {\n",
       "        vertical-align: middle;\n",
       "    }\n",
       "\n",
       "    .dataframe tbody tr th {\n",
       "        vertical-align: top;\n",
       "    }\n",
       "\n",
       "    .dataframe thead th {\n",
       "        text-align: right;\n",
       "    }\n",
       "</style>\n",
       "<table border=\"1\" class=\"dataframe\">\n",
       "  <thead>\n",
       "    <tr style=\"text-align: right;\">\n",
       "      <th></th>\n",
       "      <th>A</th>\n",
       "      <th>C</th>\n",
       "      <th>D</th>\n",
       "      <th>E</th>\n",
       "      <th>F</th>\n",
       "      <th>G</th>\n",
       "      <th>H</th>\n",
       "      <th>I</th>\n",
       "      <th>K</th>\n",
       "      <th>L</th>\n",
       "      <th>M</th>\n",
       "      <th>N</th>\n",
       "      <th>P</th>\n",
       "      <th>Q</th>\n",
       "      <th>R</th>\n",
       "      <th>S</th>\n",
       "      <th>T</th>\n",
       "      <th>V</th>\n",
       "      <th>W</th>\n",
       "      <th>Y</th>\n",
       "    </tr>\n",
       "    <tr>\n",
       "      <th>Uniprot</th>\n",
       "      <th></th>\n",
       "      <th></th>\n",
       "      <th></th>\n",
       "      <th></th>\n",
       "      <th></th>\n",
       "      <th></th>\n",
       "      <th></th>\n",
       "      <th></th>\n",
       "      <th></th>\n",
       "      <th></th>\n",
       "      <th></th>\n",
       "      <th></th>\n",
       "      <th></th>\n",
       "      <th></th>\n",
       "      <th></th>\n",
       "      <th></th>\n",
       "      <th></th>\n",
       "      <th></th>\n",
       "      <th></th>\n",
       "      <th></th>\n",
       "    </tr>\n",
       "  </thead>\n",
       "  <tbody>\n",
       "    <tr>\n",
       "      <th>Q9SFG0</th>\n",
       "      <td>0.090730</td>\n",
       "      <td>0.015779</td>\n",
       "      <td>0.033531</td>\n",
       "      <td>0.035503</td>\n",
       "      <td>0.086785</td>\n",
       "      <td>0.088757</td>\n",
       "      <td>0.015779</td>\n",
       "      <td>0.092702</td>\n",
       "      <td>0.033531</td>\n",
       "      <td>0.104536</td>\n",
       "      <td>0.033531</td>\n",
       "      <td>0.033531</td>\n",
       "      <td>0.039448</td>\n",
       "      <td>0.029586</td>\n",
       "      <td>0.039448</td>\n",
       "      <td>0.055227</td>\n",
       "      <td>0.041420</td>\n",
       "      <td>0.086785</td>\n",
       "      <td>0.017751</td>\n",
       "      <td>0.025641</td>\n",
       "    </tr>\n",
       "    <tr>\n",
       "      <th>Q84WN3</th>\n",
       "      <td>0.066390</td>\n",
       "      <td>0.004149</td>\n",
       "      <td>0.020747</td>\n",
       "      <td>0.053942</td>\n",
       "      <td>0.070539</td>\n",
       "      <td>0.074689</td>\n",
       "      <td>0.008299</td>\n",
       "      <td>0.070539</td>\n",
       "      <td>0.041494</td>\n",
       "      <td>0.120332</td>\n",
       "      <td>0.029046</td>\n",
       "      <td>0.033195</td>\n",
       "      <td>0.041494</td>\n",
       "      <td>0.016598</td>\n",
       "      <td>0.029046</td>\n",
       "      <td>0.087137</td>\n",
       "      <td>0.058091</td>\n",
       "      <td>0.103734</td>\n",
       "      <td>0.016598</td>\n",
       "      <td>0.053942</td>\n",
       "    </tr>\n",
       "    <tr>\n",
       "      <th>O04249</th>\n",
       "      <td>0.079922</td>\n",
       "      <td>0.013645</td>\n",
       "      <td>0.017544</td>\n",
       "      <td>0.042885</td>\n",
       "      <td>0.066277</td>\n",
       "      <td>0.107212</td>\n",
       "      <td>0.011696</td>\n",
       "      <td>0.076023</td>\n",
       "      <td>0.035088</td>\n",
       "      <td>0.120858</td>\n",
       "      <td>0.031189</td>\n",
       "      <td>0.038986</td>\n",
       "      <td>0.035088</td>\n",
       "      <td>0.035088</td>\n",
       "      <td>0.037037</td>\n",
       "      <td>0.064327</td>\n",
       "      <td>0.058480</td>\n",
       "      <td>0.081871</td>\n",
       "      <td>0.017544</td>\n",
       "      <td>0.029240</td>\n",
       "    </tr>\n",
       "    <tr>\n",
       "      <th>Q56ZZ7</th>\n",
       "      <td>0.128205</td>\n",
       "      <td>0.009158</td>\n",
       "      <td>0.020147</td>\n",
       "      <td>0.038462</td>\n",
       "      <td>0.051282</td>\n",
       "      <td>0.106227</td>\n",
       "      <td>0.003663</td>\n",
       "      <td>0.058608</td>\n",
       "      <td>0.031136</td>\n",
       "      <td>0.120879</td>\n",
       "      <td>0.020147</td>\n",
       "      <td>0.018315</td>\n",
       "      <td>0.027473</td>\n",
       "      <td>0.027473</td>\n",
       "      <td>0.040293</td>\n",
       "      <td>0.115385</td>\n",
       "      <td>0.051282</td>\n",
       "      <td>0.089744</td>\n",
       "      <td>0.014652</td>\n",
       "      <td>0.027473</td>\n",
       "    </tr>\n",
       "    <tr>\n",
       "      <th>Q8H184</th>\n",
       "      <td>0.065217</td>\n",
       "      <td>0.012077</td>\n",
       "      <td>0.045894</td>\n",
       "      <td>0.057971</td>\n",
       "      <td>0.084541</td>\n",
       "      <td>0.062802</td>\n",
       "      <td>0.009662</td>\n",
       "      <td>0.050725</td>\n",
       "      <td>0.050725</td>\n",
       "      <td>0.111111</td>\n",
       "      <td>0.038647</td>\n",
       "      <td>0.026570</td>\n",
       "      <td>0.031401</td>\n",
       "      <td>0.028986</td>\n",
       "      <td>0.026570</td>\n",
       "      <td>0.072464</td>\n",
       "      <td>0.079710</td>\n",
       "      <td>0.096618</td>\n",
       "      <td>0.021739</td>\n",
       "      <td>0.026570</td>\n",
       "    </tr>\n",
       "    <tr>\n",
       "      <th>...</th>\n",
       "      <td>...</td>\n",
       "      <td>...</td>\n",
       "      <td>...</td>\n",
       "      <td>...</td>\n",
       "      <td>...</td>\n",
       "      <td>...</td>\n",
       "      <td>...</td>\n",
       "      <td>...</td>\n",
       "      <td>...</td>\n",
       "      <td>...</td>\n",
       "      <td>...</td>\n",
       "      <td>...</td>\n",
       "      <td>...</td>\n",
       "      <td>...</td>\n",
       "      <td>...</td>\n",
       "      <td>...</td>\n",
       "      <td>...</td>\n",
       "      <td>...</td>\n",
       "      <td>...</td>\n",
       "      <td>...</td>\n",
       "    </tr>\n",
       "    <tr>\n",
       "      <th>Q94B65</th>\n",
       "      <td>0.095975</td>\n",
       "      <td>0.009288</td>\n",
       "      <td>0.015480</td>\n",
       "      <td>0.027864</td>\n",
       "      <td>0.055728</td>\n",
       "      <td>0.077399</td>\n",
       "      <td>0.012384</td>\n",
       "      <td>0.068111</td>\n",
       "      <td>0.055728</td>\n",
       "      <td>0.148607</td>\n",
       "      <td>0.043344</td>\n",
       "      <td>0.030960</td>\n",
       "      <td>0.030960</td>\n",
       "      <td>0.021672</td>\n",
       "      <td>0.015480</td>\n",
       "      <td>0.086687</td>\n",
       "      <td>0.065015</td>\n",
       "      <td>0.099071</td>\n",
       "      <td>0.003096</td>\n",
       "      <td>0.037152</td>\n",
       "    </tr>\n",
       "    <tr>\n",
       "      <th>Q0WWW9</th>\n",
       "      <td>0.082437</td>\n",
       "      <td>0.010753</td>\n",
       "      <td>0.028674</td>\n",
       "      <td>0.037634</td>\n",
       "      <td>0.066308</td>\n",
       "      <td>0.114695</td>\n",
       "      <td>0.007168</td>\n",
       "      <td>0.060932</td>\n",
       "      <td>0.039427</td>\n",
       "      <td>0.154122</td>\n",
       "      <td>0.014337</td>\n",
       "      <td>0.014337</td>\n",
       "      <td>0.044803</td>\n",
       "      <td>0.026882</td>\n",
       "      <td>0.041219</td>\n",
       "      <td>0.093190</td>\n",
       "      <td>0.041219</td>\n",
       "      <td>0.075269</td>\n",
       "      <td>0.012545</td>\n",
       "      <td>0.034050</td>\n",
       "    </tr>\n",
       "    <tr>\n",
       "      <th>Q2V4B9</th>\n",
       "      <td>0.092929</td>\n",
       "      <td>0.020202</td>\n",
       "      <td>0.024242</td>\n",
       "      <td>0.038384</td>\n",
       "      <td>0.062626</td>\n",
       "      <td>0.105051</td>\n",
       "      <td>0.008081</td>\n",
       "      <td>0.050505</td>\n",
       "      <td>0.036364</td>\n",
       "      <td>0.137374</td>\n",
       "      <td>0.026263</td>\n",
       "      <td>0.020202</td>\n",
       "      <td>0.032323</td>\n",
       "      <td>0.020202</td>\n",
       "      <td>0.044444</td>\n",
       "      <td>0.101010</td>\n",
       "      <td>0.050505</td>\n",
       "      <td>0.101010</td>\n",
       "      <td>0.012121</td>\n",
       "      <td>0.016162</td>\n",
       "    </tr>\n",
       "    <tr>\n",
       "      <th>Q94EI9</th>\n",
       "      <td>0.082353</td>\n",
       "      <td>0.014706</td>\n",
       "      <td>0.014706</td>\n",
       "      <td>0.041176</td>\n",
       "      <td>0.058824</td>\n",
       "      <td>0.064706</td>\n",
       "      <td>0.011765</td>\n",
       "      <td>0.088235</td>\n",
       "      <td>0.052941</td>\n",
       "      <td>0.132353</td>\n",
       "      <td>0.044118</td>\n",
       "      <td>0.044118</td>\n",
       "      <td>0.029412</td>\n",
       "      <td>0.011765</td>\n",
       "      <td>0.020588</td>\n",
       "      <td>0.073529</td>\n",
       "      <td>0.052941</td>\n",
       "      <td>0.105882</td>\n",
       "      <td>0.017647</td>\n",
       "      <td>0.038235</td>\n",
       "    </tr>\n",
       "    <tr>\n",
       "      <th>F4IHS9</th>\n",
       "      <td>0.055556</td>\n",
       "      <td>0.017544</td>\n",
       "      <td>0.023392</td>\n",
       "      <td>0.017544</td>\n",
       "      <td>0.076023</td>\n",
       "      <td>0.064327</td>\n",
       "      <td>0.023392</td>\n",
       "      <td>0.067251</td>\n",
       "      <td>0.055556</td>\n",
       "      <td>0.154971</td>\n",
       "      <td>0.026316</td>\n",
       "      <td>0.046784</td>\n",
       "      <td>0.032164</td>\n",
       "      <td>0.035088</td>\n",
       "      <td>0.011696</td>\n",
       "      <td>0.093567</td>\n",
       "      <td>0.081871</td>\n",
       "      <td>0.084795</td>\n",
       "      <td>0.002924</td>\n",
       "      <td>0.029240</td>\n",
       "    </tr>\n",
       "  </tbody>\n",
       "</table>\n",
       "<p>117 rows × 20 columns</p>\n",
       "</div>"
      ],
      "text/plain": [
       "                A         C         D         E         F         G         H  \\\n",
       "Uniprot                                                                         \n",
       "Q9SFG0   0.090730  0.015779  0.033531  0.035503  0.086785  0.088757  0.015779   \n",
       "Q84WN3   0.066390  0.004149  0.020747  0.053942  0.070539  0.074689  0.008299   \n",
       "O04249   0.079922  0.013645  0.017544  0.042885  0.066277  0.107212  0.011696   \n",
       "Q56ZZ7   0.128205  0.009158  0.020147  0.038462  0.051282  0.106227  0.003663   \n",
       "Q8H184   0.065217  0.012077  0.045894  0.057971  0.084541  0.062802  0.009662   \n",
       "...           ...       ...       ...       ...       ...       ...       ...   \n",
       "Q94B65   0.095975  0.009288  0.015480  0.027864  0.055728  0.077399  0.012384   \n",
       "Q0WWW9   0.082437  0.010753  0.028674  0.037634  0.066308  0.114695  0.007168   \n",
       "Q2V4B9   0.092929  0.020202  0.024242  0.038384  0.062626  0.105051  0.008081   \n",
       "Q94EI9   0.082353  0.014706  0.014706  0.041176  0.058824  0.064706  0.011765   \n",
       "F4IHS9   0.055556  0.017544  0.023392  0.017544  0.076023  0.064327  0.023392   \n",
       "\n",
       "                I         K         L         M         N         P         Q  \\\n",
       "Uniprot                                                                         \n",
       "Q9SFG0   0.092702  0.033531  0.104536  0.033531  0.033531  0.039448  0.029586   \n",
       "Q84WN3   0.070539  0.041494  0.120332  0.029046  0.033195  0.041494  0.016598   \n",
       "O04249   0.076023  0.035088  0.120858  0.031189  0.038986  0.035088  0.035088   \n",
       "Q56ZZ7   0.058608  0.031136  0.120879  0.020147  0.018315  0.027473  0.027473   \n",
       "Q8H184   0.050725  0.050725  0.111111  0.038647  0.026570  0.031401  0.028986   \n",
       "...           ...       ...       ...       ...       ...       ...       ...   \n",
       "Q94B65   0.068111  0.055728  0.148607  0.043344  0.030960  0.030960  0.021672   \n",
       "Q0WWW9   0.060932  0.039427  0.154122  0.014337  0.014337  0.044803  0.026882   \n",
       "Q2V4B9   0.050505  0.036364  0.137374  0.026263  0.020202  0.032323  0.020202   \n",
       "Q94EI9   0.088235  0.052941  0.132353  0.044118  0.044118  0.029412  0.011765   \n",
       "F4IHS9   0.067251  0.055556  0.154971  0.026316  0.046784  0.032164  0.035088   \n",
       "\n",
       "                R         S         T         V         W         Y  \n",
       "Uniprot                                                              \n",
       "Q9SFG0   0.039448  0.055227  0.041420  0.086785  0.017751  0.025641  \n",
       "Q84WN3   0.029046  0.087137  0.058091  0.103734  0.016598  0.053942  \n",
       "O04249   0.037037  0.064327  0.058480  0.081871  0.017544  0.029240  \n",
       "Q56ZZ7   0.040293  0.115385  0.051282  0.089744  0.014652  0.027473  \n",
       "Q8H184   0.026570  0.072464  0.079710  0.096618  0.021739  0.026570  \n",
       "...           ...       ...       ...       ...       ...       ...  \n",
       "Q94B65   0.015480  0.086687  0.065015  0.099071  0.003096  0.037152  \n",
       "Q0WWW9   0.041219  0.093190  0.041219  0.075269  0.012545  0.034050  \n",
       "Q2V4B9   0.044444  0.101010  0.050505  0.101010  0.012121  0.016162  \n",
       "Q94EI9   0.020588  0.073529  0.052941  0.105882  0.017647  0.038235  \n",
       "F4IHS9   0.011696  0.093567  0.081871  0.084795  0.002924  0.029240  \n",
       "\n",
       "[117 rows x 20 columns]"
      ]
     },
     "execution_count": 4,
     "metadata": {},
     "output_type": "execute_result"
    }
   ],
   "source": [
    "df_aac = calculate_aac(df.sequence)\n",
    "df_aac"
   ]
  },
  {
   "cell_type": "markdown",
   "metadata": {},
   "source": [
    "# AAC"
   ]
  },
  {
   "cell_type": "markdown",
   "metadata": {},
   "source": [
    "### Independent test set"
   ]
  },
  {
   "cell_type": "code",
   "execution_count": 5,
   "metadata": {
    "execution": {
     "iopub.execute_input": "2022-07-15T13:42:31.093080Z",
     "iopub.status.busy": "2022-07-15T13:42:31.092948Z",
     "iopub.status.idle": "2022-07-15T13:42:31.100861Z",
     "shell.execute_reply": "2022-07-15T13:42:31.099798Z"
    }
   },
   "outputs": [],
   "source": [
    "X, y, feature_names, sample_names = preprocess_pandas(\n",
    "    df_aac, labels, return_names=True\n",
    ")\n",
    "(\n",
    "    X_train,\n",
    "    X_test,\n",
    "    y_train,\n",
    "    y_test,\n",
    "    sample_names_train,\n",
    "    sample_names_test,\n",
    ") = get_independent_test_set(X, y, sample_names=sample_names, test_size=0.2)\n",
    "\n"
   ]
  },
  {
   "cell_type": "markdown",
   "metadata": {},
   "source": [
    "### Model selection\n",
    "\n",
    "SVC (with default RBF kernel) looks the most promising."
   ]
  },
  {
   "cell_type": "code",
   "execution_count": 6,
   "metadata": {
    "execution": {
     "iopub.execute_input": "2022-07-15T13:42:31.104820Z",
     "iopub.status.busy": "2022-07-15T13:42:31.104407Z",
     "iopub.status.idle": "2022-07-15T13:42:32.102258Z",
     "shell.execute_reply": "2022-07-15T13:42:32.101400Z"
    }
   },
   "outputs": [
    {
     "data": {
      "text/html": [
       "<div>\n",
       "<style scoped>\n",
       "    .dataframe tbody tr th:only-of-type {\n",
       "        vertical-align: middle;\n",
       "    }\n",
       "\n",
       "    .dataframe tbody tr th {\n",
       "        vertical-align: top;\n",
       "    }\n",
       "\n",
       "    .dataframe thead th {\n",
       "        text-align: right;\n",
       "    }\n",
       "</style>\n",
       "<table border=\"1\" class=\"dataframe\">\n",
       "  <thead>\n",
       "    <tr style=\"text-align: right;\">\n",
       "      <th></th>\n",
       "      <th>0</th>\n",
       "      <th>1</th>\n",
       "      <th>2</th>\n",
       "      <th>3</th>\n",
       "      <th>4</th>\n",
       "      <th>mean</th>\n",
       "      <th>std</th>\n",
       "    </tr>\n",
       "    <tr>\n",
       "      <th>est</th>\n",
       "      <th></th>\n",
       "      <th></th>\n",
       "      <th></th>\n",
       "      <th></th>\n",
       "      <th></th>\n",
       "      <th></th>\n",
       "      <th></th>\n",
       "    </tr>\n",
       "  </thead>\n",
       "  <tbody>\n",
       "    <tr>\n",
       "      <th>GaussianNB()</th>\n",
       "      <td>0.593</td>\n",
       "      <td>0.683</td>\n",
       "      <td>0.808</td>\n",
       "      <td>0.679</td>\n",
       "      <td>0.839</td>\n",
       "      <td>0.720</td>\n",
       "      <td>0.102</td>\n",
       "    </tr>\n",
       "    <tr>\n",
       "      <th>KNeighborsClassifier()</th>\n",
       "      <td>0.842</td>\n",
       "      <td>0.927</td>\n",
       "      <td>0.936</td>\n",
       "      <td>0.839</td>\n",
       "      <td>0.557</td>\n",
       "      <td>0.820</td>\n",
       "      <td>0.154</td>\n",
       "    </tr>\n",
       "    <tr>\n",
       "      <th>LinearSVC(class_weight='balanced', max_iter=1000000.0, random_state=0)</th>\n",
       "      <td>0.680</td>\n",
       "      <td>0.782</td>\n",
       "      <td>0.942</td>\n",
       "      <td>0.699</td>\n",
       "      <td>0.723</td>\n",
       "      <td>0.765</td>\n",
       "      <td>0.106</td>\n",
       "    </tr>\n",
       "    <tr>\n",
       "      <th>LinearSVC(max_iter=1000000.0, random_state=0)</th>\n",
       "      <td>0.680</td>\n",
       "      <td>0.737</td>\n",
       "      <td>0.942</td>\n",
       "      <td>0.699</td>\n",
       "      <td>0.778</td>\n",
       "      <td>0.767</td>\n",
       "      <td>0.104</td>\n",
       "    </tr>\n",
       "    <tr>\n",
       "      <th>RandomForestClassifier(class_weight='balanced', random_state=0)</th>\n",
       "      <td>0.604</td>\n",
       "      <td>0.737</td>\n",
       "      <td>0.683</td>\n",
       "      <td>0.734</td>\n",
       "      <td>0.839</td>\n",
       "      <td>0.720</td>\n",
       "      <td>0.086</td>\n",
       "    </tr>\n",
       "    <tr>\n",
       "      <th>RandomForestClassifier(random_state=0)</th>\n",
       "      <td>0.562</td>\n",
       "      <td>0.729</td>\n",
       "      <td>0.562</td>\n",
       "      <td>0.557</td>\n",
       "      <td>0.778</td>\n",
       "      <td>0.637</td>\n",
       "      <td>0.107</td>\n",
       "    </tr>\n",
       "    <tr>\n",
       "      <th>SGDClassifier(random_state=0)</th>\n",
       "      <td>0.680</td>\n",
       "      <td>0.683</td>\n",
       "      <td>0.942</td>\n",
       "      <td>0.699</td>\n",
       "      <td>0.778</td>\n",
       "      <td>0.756</td>\n",
       "      <td>0.111</td>\n",
       "    </tr>\n",
       "    <tr>\n",
       "      <th>SVC(class_weight='balanced', random_state=0)</th>\n",
       "      <td>0.878</td>\n",
       "      <td>0.708</td>\n",
       "      <td>0.936</td>\n",
       "      <td>0.862</td>\n",
       "      <td>0.862</td>\n",
       "      <td>0.849</td>\n",
       "      <td>0.085</td>\n",
       "    </tr>\n",
       "    <tr>\n",
       "      <th>SVC(random_state=0)</th>\n",
       "      <td>0.842</td>\n",
       "      <td>0.729</td>\n",
       "      <td>0.683</td>\n",
       "      <td>0.926</td>\n",
       "      <td>0.734</td>\n",
       "      <td>0.783</td>\n",
       "      <td>0.099</td>\n",
       "    </tr>\n",
       "  </tbody>\n",
       "</table>\n",
       "</div>"
      ],
      "text/plain": [
       "                                                        0      1      2  \\\n",
       "est                                                                       \n",
       "GaussianNB()                                        0.593  0.683  0.808   \n",
       "KNeighborsClassifier()                              0.842  0.927  0.936   \n",
       "LinearSVC(class_weight='balanced', max_iter=100...  0.680  0.782  0.942   \n",
       "LinearSVC(max_iter=1000000.0, random_state=0)       0.680  0.737  0.942   \n",
       "RandomForestClassifier(class_weight='balanced',...  0.604  0.737  0.683   \n",
       "RandomForestClassifier(random_state=0)              0.562  0.729  0.562   \n",
       "SGDClassifier(random_state=0)                       0.680  0.683  0.942   \n",
       "SVC(class_weight='balanced', random_state=0)        0.878  0.708  0.936   \n",
       "SVC(random_state=0)                                 0.842  0.729  0.683   \n",
       "\n",
       "                                                        3      4   mean    std  \n",
       "est                                                                             \n",
       "GaussianNB()                                        0.679  0.839  0.720  0.102  \n",
       "KNeighborsClassifier()                              0.839  0.557  0.820  0.154  \n",
       "LinearSVC(class_weight='balanced', max_iter=100...  0.699  0.723  0.765  0.106  \n",
       "LinearSVC(max_iter=1000000.0, random_state=0)       0.699  0.778  0.767  0.104  \n",
       "RandomForestClassifier(class_weight='balanced',...  0.734  0.839  0.720  0.086  \n",
       "RandomForestClassifier(random_state=0)              0.557  0.778  0.637  0.107  \n",
       "SGDClassifier(random_state=0)                       0.699  0.778  0.756  0.111  \n",
       "SVC(class_weight='balanced', random_state=0)        0.862  0.862  0.849  0.085  \n",
       "SVC(random_state=0)                                 0.926  0.734  0.783  0.099  "
      ]
     },
     "execution_count": 6,
     "metadata": {},
     "output_type": "execute_result"
    }
   ],
   "source": [
    "models_quick_compare(X_train, y_train)"
   ]
  },
  {
   "cell_type": "markdown",
   "metadata": {},
   "source": [
    "### Parameter tuning"
   ]
  },
  {
   "cell_type": "code",
   "execution_count": 7,
   "metadata": {
    "execution": {
     "iopub.execute_input": "2022-07-15T13:42:32.106936Z",
     "iopub.status.busy": "2022-07-15T13:42:32.106615Z",
     "iopub.status.idle": "2022-07-15T13:42:35.069820Z",
     "shell.execute_reply": "2022-07-15T13:42:35.068964Z"
    }
   },
   "outputs": [
    {
     "name": "stdout",
     "output_type": "stream",
     "text": [
      "{'svc__C': 10, 'svc__class_weight': 'balanced', 'svc__gamma': 'scale'}\n",
      "0.859\n"
     ]
    }
   ],
   "source": [
    "gsearch = optimize_hyperparams(X_train, y_train, kernel=\"rbf\", dim_reduction=None, C=[1,10,100])\n",
    "best_estimator_svc = gsearch"
   ]
  },
  {
   "cell_type": "markdown",
   "metadata": {},
   "source": [
    "### Dimensionality reduction"
   ]
  },
  {
   "cell_type": "code",
   "execution_count": 8,
   "metadata": {
    "execution": {
     "iopub.execute_input": "2022-07-15T13:42:35.072638Z",
     "iopub.status.busy": "2022-07-15T13:42:35.072433Z",
     "iopub.status.idle": "2022-07-15T13:42:37.933877Z",
     "shell.execute_reply": "2022-07-15T13:42:37.932466Z"
    }
   },
   "outputs": [
    {
     "name": "stdout",
     "output_type": "stream",
     "text": [
      "{'selectkbest__k': 18, 'svc__C': 1, 'svc__class_weight': 'balanced', 'svc__gamma': 'scale'}\n",
      "0.888\n"
     ]
    }
   ],
   "source": [
    "gsearch = optimize_hyperparams(\n",
    "    X_train, y_train, kernel=\"rbf\", dim_reduction=\"kbest\"\n",
    ")\n",
    "best_estimator_svc_kbest = gsearch"
   ]
  },
  {
   "cell_type": "code",
   "execution_count": 9,
   "metadata": {
    "execution": {
     "iopub.execute_input": "2022-07-15T13:42:37.939646Z",
     "iopub.status.busy": "2022-07-15T13:42:37.938963Z",
     "iopub.status.idle": "2022-07-15T13:42:40.538896Z",
     "shell.execute_reply": "2022-07-15T13:42:40.537904Z"
    }
   },
   "outputs": [
    {
     "name": "stdout",
     "output_type": "stream",
     "text": [
      "{'pca__n_components': 0.98, 'svc__C': 10, 'svc__class_weight': 'balanced', 'svc__gamma': 0.01}\n",
      "0.832\n"
     ]
    }
   ],
   "source": [
    "gsearch = optimize_hyperparams(\n",
    "    X_train,\n",
    "    y_train,\n",
    "    kernel=\"rbf\",\n",
    "    dim_reduction=\"pca\",\n",
    "    C=[1, 10, 100],\n",
    "    gamma=[0.1, 0.01, 0.001],\n",
    ")\n",
    "best_estimator_svc_pca = gsearch\n"
   ]
  },
  {
   "cell_type": "markdown",
   "metadata": {},
   "source": [
    "### Validation"
   ]
  },
  {
   "cell_type": "code",
   "execution_count": 10,
   "metadata": {
    "execution": {
     "iopub.execute_input": "2022-07-15T13:42:40.544001Z",
     "iopub.status.busy": "2022-07-15T13:42:40.543779Z",
     "iopub.status.idle": "2022-07-15T13:42:40.558698Z",
     "shell.execute_reply": "2022-07-15T13:42:40.557824Z"
    }
   },
   "outputs": [
    {
     "data": {
      "text/html": [
       "<div>\n",
       "<style scoped>\n",
       "    .dataframe tbody tr th:only-of-type {\n",
       "        vertical-align: middle;\n",
       "    }\n",
       "\n",
       "    .dataframe tbody tr th {\n",
       "        vertical-align: top;\n",
       "    }\n",
       "\n",
       "    .dataframe thead th {\n",
       "        text-align: right;\n",
       "    }\n",
       "</style>\n",
       "<table border=\"1\" class=\"dataframe\">\n",
       "  <thead>\n",
       "    <tr style=\"text-align: right;\">\n",
       "      <th>predicted</th>\n",
       "      <th>Amino-acid transport</th>\n",
       "      <th>Sugar transport</th>\n",
       "    </tr>\n",
       "    <tr>\n",
       "      <th>observed</th>\n",
       "      <th></th>\n",
       "      <th></th>\n",
       "    </tr>\n",
       "  </thead>\n",
       "  <tbody>\n",
       "    <tr>\n",
       "      <th>Amino-acid transport</th>\n",
       "      <td>6</td>\n",
       "      <td>1</td>\n",
       "    </tr>\n",
       "    <tr>\n",
       "      <th>Sugar transport</th>\n",
       "      <td>2</td>\n",
       "      <td>15</td>\n",
       "    </tr>\n",
       "  </tbody>\n",
       "</table>\n",
       "</div>"
      ],
      "text/plain": [
       "predicted             Amino-acid transport  Sugar transport\n",
       "observed                                                   \n",
       "Amino-acid transport                     6                1\n",
       "Sugar transport                          2               15"
      ]
     },
     "execution_count": 10,
     "metadata": {},
     "output_type": "execute_result"
    }
   ],
   "source": [
    "get_confusion_matrix(X_test, y_test, best_estimator_svc_kbest, labels=labels)"
   ]
  },
  {
   "cell_type": "code",
   "execution_count": 11,
   "metadata": {
    "execution": {
     "iopub.execute_input": "2022-07-15T13:42:40.562455Z",
     "iopub.status.busy": "2022-07-15T13:42:40.562140Z",
     "iopub.status.idle": "2022-07-15T13:42:40.585235Z",
     "shell.execute_reply": "2022-07-15T13:42:40.584568Z"
    }
   },
   "outputs": [
    {
     "data": {
      "text/html": [
       "<div>\n",
       "<style scoped>\n",
       "    .dataframe tbody tr th:only-of-type {\n",
       "        vertical-align: middle;\n",
       "    }\n",
       "\n",
       "    .dataframe tbody tr th {\n",
       "        vertical-align: top;\n",
       "    }\n",
       "\n",
       "    .dataframe thead th {\n",
       "        text-align: right;\n",
       "    }\n",
       "</style>\n",
       "<table border=\"1\" class=\"dataframe\">\n",
       "  <thead>\n",
       "    <tr style=\"text-align: right;\">\n",
       "      <th></th>\n",
       "      <th>precision</th>\n",
       "      <th>recall</th>\n",
       "      <th>f1-score</th>\n",
       "      <th>support</th>\n",
       "    </tr>\n",
       "  </thead>\n",
       "  <tbody>\n",
       "    <tr>\n",
       "      <th>Amino-acid transport</th>\n",
       "      <td>0.75</td>\n",
       "      <td>0.857</td>\n",
       "      <td>0.800</td>\n",
       "      <td>7</td>\n",
       "    </tr>\n",
       "    <tr>\n",
       "      <th>Sugar transport</th>\n",
       "      <td>0.938</td>\n",
       "      <td>0.882</td>\n",
       "      <td>0.909</td>\n",
       "      <td>17</td>\n",
       "    </tr>\n",
       "    <tr>\n",
       "      <th>macro avg</th>\n",
       "      <td>0.844</td>\n",
       "      <td>0.87</td>\n",
       "      <td>0.855</td>\n",
       "      <td>24</td>\n",
       "    </tr>\n",
       "    <tr>\n",
       "      <th>weighted avg</th>\n",
       "      <td>0.883</td>\n",
       "      <td>0.875</td>\n",
       "      <td>0.877</td>\n",
       "      <td>24</td>\n",
       "    </tr>\n",
       "    <tr>\n",
       "      <th>balanced accuracy</th>\n",
       "      <td></td>\n",
       "      <td></td>\n",
       "      <td>0.870</td>\n",
       "      <td>24</td>\n",
       "    </tr>\n",
       "  </tbody>\n",
       "</table>\n",
       "</div>"
      ],
      "text/plain": [
       "                     precision recall  f1-score  support\n",
       "Amino-acid transport      0.75  0.857     0.800        7\n",
       "Sugar transport          0.938  0.882     0.909       17\n",
       "macro avg                0.844   0.87     0.855       24\n",
       "weighted avg             0.883  0.875     0.877       24\n",
       "balanced accuracy                         0.870       24"
      ]
     },
     "execution_count": 11,
     "metadata": {},
     "output_type": "execute_result"
    }
   ],
   "source": [
    "get_classification_report(\n",
    "    X_test, y_test, best_estimator_svc_kbest, labels=labels, add_balanced_accuracy=True\n",
    ")"
   ]
  },
  {
   "cell_type": "code",
   "execution_count": 12,
   "metadata": {
    "execution": {
     "iopub.execute_input": "2022-07-15T13:42:40.589329Z",
     "iopub.status.busy": "2022-07-15T13:42:40.589047Z",
     "iopub.status.idle": "2022-07-15T13:42:40.599650Z",
     "shell.execute_reply": "2022-07-15T13:42:40.598935Z"
    }
   },
   "outputs": [
    {
     "data": {
      "text/html": [
       "<div>\n",
       "<style scoped>\n",
       "    .dataframe tbody tr th:only-of-type {\n",
       "        vertical-align: middle;\n",
       "    }\n",
       "\n",
       "    .dataframe tbody tr th {\n",
       "        vertical-align: top;\n",
       "    }\n",
       "\n",
       "    .dataframe thead th {\n",
       "        text-align: right;\n",
       "    }\n",
       "</style>\n",
       "<table border=\"1\" class=\"dataframe\">\n",
       "  <thead>\n",
       "    <tr style=\"text-align: right;\">\n",
       "      <th>predicted</th>\n",
       "      <th>Amino-acid transport</th>\n",
       "      <th>Sugar transport</th>\n",
       "    </tr>\n",
       "    <tr>\n",
       "      <th>observed</th>\n",
       "      <th></th>\n",
       "      <th></th>\n",
       "    </tr>\n",
       "  </thead>\n",
       "  <tbody>\n",
       "    <tr>\n",
       "      <th>Amino-acid transport</th>\n",
       "      <td>5</td>\n",
       "      <td>2</td>\n",
       "    </tr>\n",
       "    <tr>\n",
       "      <th>Sugar transport</th>\n",
       "      <td>0</td>\n",
       "      <td>17</td>\n",
       "    </tr>\n",
       "  </tbody>\n",
       "</table>\n",
       "</div>"
      ],
      "text/plain": [
       "predicted             Amino-acid transport  Sugar transport\n",
       "observed                                                   \n",
       "Amino-acid transport                     5                2\n",
       "Sugar transport                          0               17"
      ]
     },
     "execution_count": 12,
     "metadata": {},
     "output_type": "execute_result"
    }
   ],
   "source": [
    "get_confusion_matrix(X_test, y_test, best_estimator_svc_pca, labels=labels)"
   ]
  },
  {
   "cell_type": "code",
   "execution_count": 13,
   "metadata": {
    "execution": {
     "iopub.execute_input": "2022-07-15T13:42:40.603355Z",
     "iopub.status.busy": "2022-07-15T13:42:40.602998Z",
     "iopub.status.idle": "2022-07-15T13:42:40.624309Z",
     "shell.execute_reply": "2022-07-15T13:42:40.623452Z"
    }
   },
   "outputs": [
    {
     "data": {
      "text/html": [
       "<div>\n",
       "<style scoped>\n",
       "    .dataframe tbody tr th:only-of-type {\n",
       "        vertical-align: middle;\n",
       "    }\n",
       "\n",
       "    .dataframe tbody tr th {\n",
       "        vertical-align: top;\n",
       "    }\n",
       "\n",
       "    .dataframe thead th {\n",
       "        text-align: right;\n",
       "    }\n",
       "</style>\n",
       "<table border=\"1\" class=\"dataframe\">\n",
       "  <thead>\n",
       "    <tr style=\"text-align: right;\">\n",
       "      <th></th>\n",
       "      <th>precision</th>\n",
       "      <th>recall</th>\n",
       "      <th>f1-score</th>\n",
       "      <th>support</th>\n",
       "    </tr>\n",
       "  </thead>\n",
       "  <tbody>\n",
       "    <tr>\n",
       "      <th>Amino-acid transport</th>\n",
       "      <td>1.000</td>\n",
       "      <td>0.714</td>\n",
       "      <td>0.833</td>\n",
       "      <td>7</td>\n",
       "    </tr>\n",
       "    <tr>\n",
       "      <th>Sugar transport</th>\n",
       "      <td>0.895</td>\n",
       "      <td>1.000</td>\n",
       "      <td>0.944</td>\n",
       "      <td>17</td>\n",
       "    </tr>\n",
       "    <tr>\n",
       "      <th>macro avg</th>\n",
       "      <td>0.947</td>\n",
       "      <td>0.857</td>\n",
       "      <td>0.889</td>\n",
       "      <td>24</td>\n",
       "    </tr>\n",
       "    <tr>\n",
       "      <th>weighted avg</th>\n",
       "      <td>0.925</td>\n",
       "      <td>0.917</td>\n",
       "      <td>0.912</td>\n",
       "      <td>24</td>\n",
       "    </tr>\n",
       "  </tbody>\n",
       "</table>\n",
       "</div>"
      ],
      "text/plain": [
       "                      precision  recall  f1-score  support\n",
       "Amino-acid transport      1.000   0.714     0.833        7\n",
       "Sugar transport           0.895   1.000     0.944       17\n",
       "macro avg                 0.947   0.857     0.889       24\n",
       "weighted avg              0.925   0.917     0.912       24"
      ]
     },
     "execution_count": 13,
     "metadata": {},
     "output_type": "execute_result"
    }
   ],
   "source": [
    "get_classification_report(X_test, y_test, best_estimator_svc_pca, labels=labels)"
   ]
  }
 ],
 "metadata": {
  "kernelspec": {
   "display_name": "Python 3.9.12 ('subpred')",
   "language": "python",
   "name": "python3"
  },
  "language_info": {
   "codemirror_mode": {
    "name": "ipython",
    "version": 3
   },
   "file_extension": ".py",
   "mimetype": "text/x-python",
   "name": "python",
   "nbconvert_exporter": "python",
   "pygments_lexer": "ipython3",
   "version": "3.9.12"
  },
  "vscode": {
   "interpreter": {
    "hash": "a3c5a88a8b1fa059748e807688afdff6c3f31eb23364e67d8e1c7f5771f5e23f"
   }
  }
 },
 "nbformat": 4,
 "nbformat_minor": 2
}
