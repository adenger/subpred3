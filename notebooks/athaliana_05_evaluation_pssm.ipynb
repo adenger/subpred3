{
 "cells": [
  {
   "cell_type": "markdown",
   "metadata": {},
   "source": [
    "# Feature performance comparison\n",
    "\n",
    "The purpose of this notebook is to compare the classification performance of the individual features, and their combination, for A. Thaliana"
   ]
  },
  {
   "cell_type": "markdown",
   "metadata": {},
   "source": [
    "# Imports"
   ]
  },
  {
   "cell_type": "code",
   "execution_count": 93,
   "metadata": {},
   "outputs": [],
   "source": [
    "from subpred.transporter_dataset import create_dataset\n",
    "from subpred.eval import (\n",
    "    get_independent_test_set,\n",
    "    optimize_hyperparams,\n",
    "    preprocess_pandas,\n",
    "    models_quick_compare,\n",
    "    get_confusion_matrix,\n",
    "    get_classification_report,\n",
    "    full_test,\n",
    "    quick_test\n",
    ")\n",
    "from subpred.pssm import calculate_pssms_notebook\n",
    "import pandas as pd\n",
    "import seaborn as sns"
   ]
  },
  {
   "cell_type": "markdown",
   "metadata": {},
   "source": [
    "# Dataset"
   ]
  },
  {
   "cell_type": "code",
   "execution_count": 20,
   "metadata": {},
   "outputs": [
    {
     "name": "stdout",
     "output_type": "stream",
     "text": [
      "cd-hit: clustered 165 sequences into 117 clusters at threshold 70\n"
     ]
    }
   ],
   "source": [
    "df = create_dataset(\n",
    "    keywords_substrate_filter=[\"Amino-acid transport\", \"Sugar transport\"],\n",
    "    keywords_component_filter=[\"Membrane\"],\n",
    "    keywords_transport_filter=[\"Transport\"],\n",
    "    input_file=\"../data/raw/swissprot/uniprot-reviewed_yes.tab.gz\",\n",
    "    multi_substrate=\"remove\",\n",
    "    outliers=[\"O81775\", \"Q9SW07\", \"Q9FHH5\", \"Q8S8A0\", \"Q3E965\", \"Q3EAV6\", \"Q3E8L0\"],\n",
    "    verbose=True,\n",
    "    tax_ids_filter=[3702],\n",
    "    output_log=\"../logs/athaliana_sugar_amino.log\",\n",
    "    sequence_clustering=70\n",
    ")"
   ]
  },
  {
   "cell_type": "markdown",
   "metadata": {},
   "source": [
    "# Feature generation"
   ]
  },
  {
   "cell_type": "code",
   "execution_count": 21,
   "metadata": {},
   "outputs": [
    {
     "data": {
      "text/plain": [
       "Sugar transport         84\n",
       "Amino-acid transport    33\n",
       "Name: keywords_transport, dtype: int64"
      ]
     },
     "execution_count": 21,
     "metadata": {},
     "output_type": "execute_result"
    }
   ],
   "source": [
    "labels = df.keywords_transport\n",
    "labels.value_counts()"
   ]
  },
  {
   "cell_type": "code",
   "execution_count": 22,
   "metadata": {},
   "outputs": [
    {
     "data": {
      "text/html": [
       "<div>\n",
       "<style scoped>\n",
       "    .dataframe tbody tr th:only-of-type {\n",
       "        vertical-align: middle;\n",
       "    }\n",
       "\n",
       "    .dataframe tbody tr th {\n",
       "        vertical-align: top;\n",
       "    }\n",
       "\n",
       "    .dataframe thead th {\n",
       "        text-align: right;\n",
       "    }\n",
       "</style>\n",
       "<table border=\"1\" class=\"dataframe\">\n",
       "  <thead>\n",
       "    <tr style=\"text-align: right;\">\n",
       "      <th></th>\n",
       "      <th>AA_50_1</th>\n",
       "      <th>AR_50_1</th>\n",
       "      <th>AN_50_1</th>\n",
       "      <th>AD_50_1</th>\n",
       "      <th>AC_50_1</th>\n",
       "      <th>AQ_50_1</th>\n",
       "      <th>AE_50_1</th>\n",
       "      <th>AG_50_1</th>\n",
       "      <th>AH_50_1</th>\n",
       "      <th>AI_50_1</th>\n",
       "      <th>...</th>\n",
       "      <th>VL_90_3</th>\n",
       "      <th>VK_90_3</th>\n",
       "      <th>VM_90_3</th>\n",
       "      <th>VF_90_3</th>\n",
       "      <th>VP_90_3</th>\n",
       "      <th>VS_90_3</th>\n",
       "      <th>VT_90_3</th>\n",
       "      <th>VW_90_3</th>\n",
       "      <th>VY_90_3</th>\n",
       "      <th>VV_90_3</th>\n",
       "    </tr>\n",
       "    <tr>\n",
       "      <th>Uniprot</th>\n",
       "      <th></th>\n",
       "      <th></th>\n",
       "      <th></th>\n",
       "      <th></th>\n",
       "      <th></th>\n",
       "      <th></th>\n",
       "      <th></th>\n",
       "      <th></th>\n",
       "      <th></th>\n",
       "      <th></th>\n",
       "      <th></th>\n",
       "      <th></th>\n",
       "      <th></th>\n",
       "      <th></th>\n",
       "      <th></th>\n",
       "      <th></th>\n",
       "      <th></th>\n",
       "      <th></th>\n",
       "      <th></th>\n",
       "      <th></th>\n",
       "      <th></th>\n",
       "    </tr>\n",
       "  </thead>\n",
       "  <tbody>\n",
       "    <tr>\n",
       "      <th>Q9SFG0</th>\n",
       "      <td>0.784223</td>\n",
       "      <td>0.252900</td>\n",
       "      <td>0.327146</td>\n",
       "      <td>0.238979</td>\n",
       "      <td>0.394432</td>\n",
       "      <td>0.350348</td>\n",
       "      <td>0.276102</td>\n",
       "      <td>0.545244</td>\n",
       "      <td>0.227378</td>\n",
       "      <td>0.317865</td>\n",
       "      <td>...</td>\n",
       "      <td>0.434307</td>\n",
       "      <td>0.381387</td>\n",
       "      <td>0.421533</td>\n",
       "      <td>0.578467</td>\n",
       "      <td>0.357664</td>\n",
       "      <td>0.390511</td>\n",
       "      <td>0.392336</td>\n",
       "      <td>0.512774</td>\n",
       "      <td>0.656934</td>\n",
       "      <td>0.417883</td>\n",
       "    </tr>\n",
       "    <tr>\n",
       "      <th>Q84WN3</th>\n",
       "      <td>0.664740</td>\n",
       "      <td>0.416185</td>\n",
       "      <td>0.462428</td>\n",
       "      <td>0.427746</td>\n",
       "      <td>0.624277</td>\n",
       "      <td>0.445087</td>\n",
       "      <td>0.456647</td>\n",
       "      <td>0.526012</td>\n",
       "      <td>0.479769</td>\n",
       "      <td>0.543353</td>\n",
       "      <td>...</td>\n",
       "      <td>0.383260</td>\n",
       "      <td>0.264317</td>\n",
       "      <td>0.374449</td>\n",
       "      <td>0.726872</td>\n",
       "      <td>0.215859</td>\n",
       "      <td>0.286344</td>\n",
       "      <td>0.312775</td>\n",
       "      <td>0.493392</td>\n",
       "      <td>0.982379</td>\n",
       "      <td>0.352423</td>\n",
       "    </tr>\n",
       "    <tr>\n",
       "      <th>O04249</th>\n",
       "      <td>0.735484</td>\n",
       "      <td>0.286022</td>\n",
       "      <td>0.352688</td>\n",
       "      <td>0.281720</td>\n",
       "      <td>0.479570</td>\n",
       "      <td>0.352688</td>\n",
       "      <td>0.318280</td>\n",
       "      <td>0.531183</td>\n",
       "      <td>0.279570</td>\n",
       "      <td>0.417204</td>\n",
       "      <td>...</td>\n",
       "      <td>0.476898</td>\n",
       "      <td>0.415842</td>\n",
       "      <td>0.471947</td>\n",
       "      <td>0.592409</td>\n",
       "      <td>0.387789</td>\n",
       "      <td>0.415842</td>\n",
       "      <td>0.422442</td>\n",
       "      <td>0.514851</td>\n",
       "      <td>0.702970</td>\n",
       "      <td>0.450495</td>\n",
       "    </tr>\n",
       "    <tr>\n",
       "      <th>Q56ZZ7</th>\n",
       "      <td>0.798913</td>\n",
       "      <td>0.173913</td>\n",
       "      <td>0.217391</td>\n",
       "      <td>0.153986</td>\n",
       "      <td>0.389493</td>\n",
       "      <td>0.251812</td>\n",
       "      <td>0.190217</td>\n",
       "      <td>0.481884</td>\n",
       "      <td>0.148551</td>\n",
       "      <td>0.367754</td>\n",
       "      <td>...</td>\n",
       "      <td>0.488636</td>\n",
       "      <td>0.433442</td>\n",
       "      <td>0.472403</td>\n",
       "      <td>0.608766</td>\n",
       "      <td>0.420455</td>\n",
       "      <td>0.461039</td>\n",
       "      <td>0.462662</td>\n",
       "      <td>0.514610</td>\n",
       "      <td>0.657468</td>\n",
       "      <td>0.470779</td>\n",
       "    </tr>\n",
       "    <tr>\n",
       "      <th>Q8H184</th>\n",
       "      <td>0.652482</td>\n",
       "      <td>0.308511</td>\n",
       "      <td>0.372340</td>\n",
       "      <td>0.269504</td>\n",
       "      <td>0.510638</td>\n",
       "      <td>0.365248</td>\n",
       "      <td>0.301418</td>\n",
       "      <td>0.457447</td>\n",
       "      <td>0.368794</td>\n",
       "      <td>0.425532</td>\n",
       "      <td>...</td>\n",
       "      <td>0.486772</td>\n",
       "      <td>0.391534</td>\n",
       "      <td>0.473545</td>\n",
       "      <td>0.595238</td>\n",
       "      <td>0.370370</td>\n",
       "      <td>0.417989</td>\n",
       "      <td>0.431217</td>\n",
       "      <td>0.505291</td>\n",
       "      <td>0.679894</td>\n",
       "      <td>0.473545</td>\n",
       "    </tr>\n",
       "    <tr>\n",
       "      <th>...</th>\n",
       "      <td>...</td>\n",
       "      <td>...</td>\n",
       "      <td>...</td>\n",
       "      <td>...</td>\n",
       "      <td>...</td>\n",
       "      <td>...</td>\n",
       "      <td>...</td>\n",
       "      <td>...</td>\n",
       "      <td>...</td>\n",
       "      <td>...</td>\n",
       "      <td>...</td>\n",
       "      <td>...</td>\n",
       "      <td>...</td>\n",
       "      <td>...</td>\n",
       "      <td>...</td>\n",
       "      <td>...</td>\n",
       "      <td>...</td>\n",
       "      <td>...</td>\n",
       "      <td>...</td>\n",
       "      <td>...</td>\n",
       "      <td>...</td>\n",
       "    </tr>\n",
       "    <tr>\n",
       "      <th>Q94B65</th>\n",
       "      <td>0.814126</td>\n",
       "      <td>0.304833</td>\n",
       "      <td>0.408922</td>\n",
       "      <td>0.271375</td>\n",
       "      <td>0.579926</td>\n",
       "      <td>0.408922</td>\n",
       "      <td>0.349442</td>\n",
       "      <td>0.516729</td>\n",
       "      <td>0.334572</td>\n",
       "      <td>0.539033</td>\n",
       "      <td>...</td>\n",
       "      <td>0.542056</td>\n",
       "      <td>0.489097</td>\n",
       "      <td>0.529595</td>\n",
       "      <td>0.716511</td>\n",
       "      <td>0.426791</td>\n",
       "      <td>0.523364</td>\n",
       "      <td>0.504673</td>\n",
       "      <td>0.613707</td>\n",
       "      <td>0.894081</td>\n",
       "      <td>0.520249</td>\n",
       "    </tr>\n",
       "    <tr>\n",
       "      <th>Q0WWW9</th>\n",
       "      <td>0.760736</td>\n",
       "      <td>0.388037</td>\n",
       "      <td>0.424847</td>\n",
       "      <td>0.380368</td>\n",
       "      <td>0.556748</td>\n",
       "      <td>0.412577</td>\n",
       "      <td>0.423313</td>\n",
       "      <td>0.532209</td>\n",
       "      <td>0.375767</td>\n",
       "      <td>0.469325</td>\n",
       "      <td>...</td>\n",
       "      <td>0.544582</td>\n",
       "      <td>0.465021</td>\n",
       "      <td>0.515775</td>\n",
       "      <td>0.632373</td>\n",
       "      <td>0.455418</td>\n",
       "      <td>0.486968</td>\n",
       "      <td>0.482853</td>\n",
       "      <td>0.539095</td>\n",
       "      <td>0.703704</td>\n",
       "      <td>0.514403</td>\n",
       "    </tr>\n",
       "    <tr>\n",
       "      <th>Q2V4B9</th>\n",
       "      <td>0.800373</td>\n",
       "      <td>0.294776</td>\n",
       "      <td>0.341418</td>\n",
       "      <td>0.298507</td>\n",
       "      <td>0.468284</td>\n",
       "      <td>0.386194</td>\n",
       "      <td>0.386194</td>\n",
       "      <td>0.537313</td>\n",
       "      <td>0.261194</td>\n",
       "      <td>0.414179</td>\n",
       "      <td>...</td>\n",
       "      <td>0.521151</td>\n",
       "      <td>0.495770</td>\n",
       "      <td>0.510998</td>\n",
       "      <td>0.566836</td>\n",
       "      <td>0.477157</td>\n",
       "      <td>0.502538</td>\n",
       "      <td>0.502538</td>\n",
       "      <td>0.509306</td>\n",
       "      <td>0.602369</td>\n",
       "      <td>0.500846</td>\n",
       "    </tr>\n",
       "    <tr>\n",
       "      <th>Q94EI9</th>\n",
       "      <td>0.807471</td>\n",
       "      <td>0.396552</td>\n",
       "      <td>0.425287</td>\n",
       "      <td>0.350575</td>\n",
       "      <td>0.718391</td>\n",
       "      <td>0.465517</td>\n",
       "      <td>0.410920</td>\n",
       "      <td>0.589080</td>\n",
       "      <td>0.393678</td>\n",
       "      <td>0.591954</td>\n",
       "      <td>...</td>\n",
       "      <td>0.469697</td>\n",
       "      <td>0.412121</td>\n",
       "      <td>0.463636</td>\n",
       "      <td>0.660606</td>\n",
       "      <td>0.378788</td>\n",
       "      <td>0.433333</td>\n",
       "      <td>0.445455</td>\n",
       "      <td>0.633333</td>\n",
       "      <td>0.903030</td>\n",
       "      <td>0.463636</td>\n",
       "    </tr>\n",
       "    <tr>\n",
       "      <th>F4IHS9</th>\n",
       "      <td>0.745981</td>\n",
       "      <td>0.495177</td>\n",
       "      <td>0.520900</td>\n",
       "      <td>0.450161</td>\n",
       "      <td>0.649518</td>\n",
       "      <td>0.520900</td>\n",
       "      <td>0.485531</td>\n",
       "      <td>0.578778</td>\n",
       "      <td>0.469453</td>\n",
       "      <td>0.604502</td>\n",
       "      <td>...</td>\n",
       "      <td>0.533654</td>\n",
       "      <td>0.492788</td>\n",
       "      <td>0.543269</td>\n",
       "      <td>0.639423</td>\n",
       "      <td>0.492788</td>\n",
       "      <td>0.526442</td>\n",
       "      <td>0.524038</td>\n",
       "      <td>0.661058</td>\n",
       "      <td>0.713942</td>\n",
       "      <td>0.533654</td>\n",
       "    </tr>\n",
       "  </tbody>\n",
       "</table>\n",
       "<p>117 rows × 1600 columns</p>\n",
       "</div>"
      ],
      "text/plain": [
       "          AA_50_1   AR_50_1   AN_50_1   AD_50_1   AC_50_1   AQ_50_1   AE_50_1  \\\n",
       "Uniprot                                                                         \n",
       "Q9SFG0   0.784223  0.252900  0.327146  0.238979  0.394432  0.350348  0.276102   \n",
       "Q84WN3   0.664740  0.416185  0.462428  0.427746  0.624277  0.445087  0.456647   \n",
       "O04249   0.735484  0.286022  0.352688  0.281720  0.479570  0.352688  0.318280   \n",
       "Q56ZZ7   0.798913  0.173913  0.217391  0.153986  0.389493  0.251812  0.190217   \n",
       "Q8H184   0.652482  0.308511  0.372340  0.269504  0.510638  0.365248  0.301418   \n",
       "...           ...       ...       ...       ...       ...       ...       ...   \n",
       "Q94B65   0.814126  0.304833  0.408922  0.271375  0.579926  0.408922  0.349442   \n",
       "Q0WWW9   0.760736  0.388037  0.424847  0.380368  0.556748  0.412577  0.423313   \n",
       "Q2V4B9   0.800373  0.294776  0.341418  0.298507  0.468284  0.386194  0.386194   \n",
       "Q94EI9   0.807471  0.396552  0.425287  0.350575  0.718391  0.465517  0.410920   \n",
       "F4IHS9   0.745981  0.495177  0.520900  0.450161  0.649518  0.520900  0.485531   \n",
       "\n",
       "          AG_50_1   AH_50_1   AI_50_1  ...   VL_90_3   VK_90_3   VM_90_3  \\\n",
       "Uniprot                                ...                                 \n",
       "Q9SFG0   0.545244  0.227378  0.317865  ...  0.434307  0.381387  0.421533   \n",
       "Q84WN3   0.526012  0.479769  0.543353  ...  0.383260  0.264317  0.374449   \n",
       "O04249   0.531183  0.279570  0.417204  ...  0.476898  0.415842  0.471947   \n",
       "Q56ZZ7   0.481884  0.148551  0.367754  ...  0.488636  0.433442  0.472403   \n",
       "Q8H184   0.457447  0.368794  0.425532  ...  0.486772  0.391534  0.473545   \n",
       "...           ...       ...       ...  ...       ...       ...       ...   \n",
       "Q94B65   0.516729  0.334572  0.539033  ...  0.542056  0.489097  0.529595   \n",
       "Q0WWW9   0.532209  0.375767  0.469325  ...  0.544582  0.465021  0.515775   \n",
       "Q2V4B9   0.537313  0.261194  0.414179  ...  0.521151  0.495770  0.510998   \n",
       "Q94EI9   0.589080  0.393678  0.591954  ...  0.469697  0.412121  0.463636   \n",
       "F4IHS9   0.578778  0.469453  0.604502  ...  0.533654  0.492788  0.543269   \n",
       "\n",
       "          VF_90_3   VP_90_3   VS_90_3   VT_90_3   VW_90_3   VY_90_3   VV_90_3  \n",
       "Uniprot                                                                        \n",
       "Q9SFG0   0.578467  0.357664  0.390511  0.392336  0.512774  0.656934  0.417883  \n",
       "Q84WN3   0.726872  0.215859  0.286344  0.312775  0.493392  0.982379  0.352423  \n",
       "O04249   0.592409  0.387789  0.415842  0.422442  0.514851  0.702970  0.450495  \n",
       "Q56ZZ7   0.608766  0.420455  0.461039  0.462662  0.514610  0.657468  0.470779  \n",
       "Q8H184   0.595238  0.370370  0.417989  0.431217  0.505291  0.679894  0.473545  \n",
       "...           ...       ...       ...       ...       ...       ...       ...  \n",
       "Q94B65   0.716511  0.426791  0.523364  0.504673  0.613707  0.894081  0.520249  \n",
       "Q0WWW9   0.632373  0.455418  0.486968  0.482853  0.539095  0.703704  0.514403  \n",
       "Q2V4B9   0.566836  0.477157  0.502538  0.502538  0.509306  0.602369  0.500846  \n",
       "Q94EI9   0.660606  0.378788  0.433333  0.445455  0.633333  0.903030  0.463636  \n",
       "F4IHS9   0.639423  0.492788  0.526442  0.524038  0.661058  0.713942  0.533654  \n",
       "\n",
       "[117 rows x 1600 columns]"
      ]
     },
     "execution_count": 22,
     "metadata": {},
     "output_type": "execute_result"
    }
   ],
   "source": [
    "df_pssm = calculate_pssms_notebook(df.sequence)\n",
    "df_pssm"
   ]
  },
  {
   "cell_type": "markdown",
   "metadata": {},
   "source": [
    "## Independent test set"
   ]
  },
  {
   "cell_type": "code",
   "execution_count": 23,
   "metadata": {},
   "outputs": [],
   "source": [
    "X, y, feature_names, sample_names = preprocess_pandas(\n",
    "    df_pssm, labels, return_names=True\n",
    ")\n",
    "(\n",
    "    X_train,\n",
    "    X_test,\n",
    "    y_train,\n",
    "    y_test,\n",
    "    sample_names_train,\n",
    "    sample_names_test,\n",
    ") = get_independent_test_set(X, y, sample_names=sample_names, test_size=0.2)\n",
    "\n"
   ]
  },
  {
   "cell_type": "markdown",
   "metadata": {},
   "source": [
    "## Model comparison"
   ]
  },
  {
   "cell_type": "code",
   "execution_count": 24,
   "metadata": {},
   "outputs": [
    {
     "data": {
      "text/html": [
       "<div>\n",
       "<style scoped>\n",
       "    .dataframe tbody tr th:only-of-type {\n",
       "        vertical-align: middle;\n",
       "    }\n",
       "\n",
       "    .dataframe tbody tr th {\n",
       "        vertical-align: top;\n",
       "    }\n",
       "\n",
       "    .dataframe thead th {\n",
       "        text-align: right;\n",
       "    }\n",
       "</style>\n",
       "<table border=\"1\" class=\"dataframe\">\n",
       "  <thead>\n",
       "    <tr style=\"text-align: right;\">\n",
       "      <th></th>\n",
       "      <th>0</th>\n",
       "      <th>1</th>\n",
       "      <th>2</th>\n",
       "      <th>3</th>\n",
       "      <th>4</th>\n",
       "      <th>mean</th>\n",
       "      <th>std</th>\n",
       "    </tr>\n",
       "    <tr>\n",
       "      <th>est</th>\n",
       "      <th></th>\n",
       "      <th></th>\n",
       "      <th></th>\n",
       "      <th></th>\n",
       "      <th></th>\n",
       "      <th></th>\n",
       "      <th></th>\n",
       "    </tr>\n",
       "  </thead>\n",
       "  <tbody>\n",
       "    <tr>\n",
       "      <th>GaussianNB()</th>\n",
       "      <td>0.782</td>\n",
       "      <td>0.782</td>\n",
       "      <td>0.878</td>\n",
       "      <td>0.862</td>\n",
       "      <td>0.585</td>\n",
       "      <td>0.778</td>\n",
       "      <td>0.117</td>\n",
       "    </tr>\n",
       "    <tr>\n",
       "      <th>KNeighborsClassifier()</th>\n",
       "      <td>0.864</td>\n",
       "      <td>0.683</td>\n",
       "      <td>0.936</td>\n",
       "      <td>0.926</td>\n",
       "      <td>0.734</td>\n",
       "      <td>0.829</td>\n",
       "      <td>0.114</td>\n",
       "    </tr>\n",
       "    <tr>\n",
       "      <th>LinearSVC(class_weight='balanced', max_iter=1000000.0)</th>\n",
       "      <td>0.878</td>\n",
       "      <td>0.864</td>\n",
       "      <td>0.887</td>\n",
       "      <td>0.875</td>\n",
       "      <td>0.875</td>\n",
       "      <td>0.876</td>\n",
       "      <td>0.008</td>\n",
       "    </tr>\n",
       "    <tr>\n",
       "      <th>LinearSVC(max_iter=1000000.0)</th>\n",
       "      <td>0.878</td>\n",
       "      <td>0.864</td>\n",
       "      <td>0.887</td>\n",
       "      <td>0.875</td>\n",
       "      <td>0.875</td>\n",
       "      <td>0.876</td>\n",
       "      <td>0.008</td>\n",
       "    </tr>\n",
       "    <tr>\n",
       "      <th>RandomForestClassifier()</th>\n",
       "      <td>0.737</td>\n",
       "      <td>0.782</td>\n",
       "      <td>1.000</td>\n",
       "      <td>0.839</td>\n",
       "      <td>0.839</td>\n",
       "      <td>0.840</td>\n",
       "      <td>0.099</td>\n",
       "    </tr>\n",
       "    <tr>\n",
       "      <th>RandomForestClassifier(class_weight='balanced')</th>\n",
       "      <td>0.737</td>\n",
       "      <td>0.737</td>\n",
       "      <td>0.936</td>\n",
       "      <td>0.926</td>\n",
       "      <td>0.839</td>\n",
       "      <td>0.835</td>\n",
       "      <td>0.097</td>\n",
       "    </tr>\n",
       "    <tr>\n",
       "      <th>SGDClassifier()</th>\n",
       "      <td>0.878</td>\n",
       "      <td>0.808</td>\n",
       "      <td>0.887</td>\n",
       "      <td>0.875</td>\n",
       "      <td>0.819</td>\n",
       "      <td>0.854</td>\n",
       "      <td>0.037</td>\n",
       "    </tr>\n",
       "    <tr>\n",
       "      <th>SVC()</th>\n",
       "      <td>0.737</td>\n",
       "      <td>0.842</td>\n",
       "      <td>0.936</td>\n",
       "      <td>1.000</td>\n",
       "      <td>0.734</td>\n",
       "      <td>0.850</td>\n",
       "      <td>0.118</td>\n",
       "    </tr>\n",
       "    <tr>\n",
       "      <th>SVC(class_weight='balanced')</th>\n",
       "      <td>1.000</td>\n",
       "      <td>0.927</td>\n",
       "      <td>1.000</td>\n",
       "      <td>1.000</td>\n",
       "      <td>1.000</td>\n",
       "      <td>0.985</td>\n",
       "      <td>0.033</td>\n",
       "    </tr>\n",
       "  </tbody>\n",
       "</table>\n",
       "</div>"
      ],
      "text/plain": [
       "                                                        0      1      2  \\\n",
       "est                                                                       \n",
       "GaussianNB()                                        0.782  0.782  0.878   \n",
       "KNeighborsClassifier()                              0.864  0.683  0.936   \n",
       "LinearSVC(class_weight='balanced', max_iter=100...  0.878  0.864  0.887   \n",
       "LinearSVC(max_iter=1000000.0)                       0.878  0.864  0.887   \n",
       "RandomForestClassifier()                            0.737  0.782  1.000   \n",
       "RandomForestClassifier(class_weight='balanced')     0.737  0.737  0.936   \n",
       "SGDClassifier()                                     0.878  0.808  0.887   \n",
       "SVC()                                               0.737  0.842  0.936   \n",
       "SVC(class_weight='balanced')                        1.000  0.927  1.000   \n",
       "\n",
       "                                                        3      4   mean    std  \n",
       "est                                                                             \n",
       "GaussianNB()                                        0.862  0.585  0.778  0.117  \n",
       "KNeighborsClassifier()                              0.926  0.734  0.829  0.114  \n",
       "LinearSVC(class_weight='balanced', max_iter=100...  0.875  0.875  0.876  0.008  \n",
       "LinearSVC(max_iter=1000000.0)                       0.875  0.875  0.876  0.008  \n",
       "RandomForestClassifier()                            0.839  0.839  0.840  0.099  \n",
       "RandomForestClassifier(class_weight='balanced')     0.926  0.839  0.835  0.097  \n",
       "SGDClassifier()                                     0.875  0.819  0.854  0.037  \n",
       "SVC()                                               1.000  0.734  0.850  0.118  \n",
       "SVC(class_weight='balanced')                        1.000  1.000  0.985  0.033  "
      ]
     },
     "execution_count": 24,
     "metadata": {},
     "output_type": "execute_result"
    }
   ],
   "source": [
    "models_quick_compare(X_train, y_train)"
   ]
  },
  {
   "cell_type": "markdown",
   "metadata": {},
   "source": [
    "## Investigation of the dataset\n",
    "\n",
    "The SVC results are surprisingly good, let's look at the data:"
   ]
  },
  {
   "cell_type": "code",
   "execution_count": 34,
   "metadata": {},
   "outputs": [
    {
     "data": {
      "text/plain": [
       "<AxesSubplot:xlabel='PC1', ylabel='PC2'>"
      ]
     },
     "execution_count": 34,
     "metadata": {},
     "output_type": "execute_result"
    },
    {
     "data": {
      "image/png": "[encoded data removed]",
      "text/plain": [
       "<Figure size 720x432 with 1 Axes>"
      ]
     },
     "metadata": {},
     "output_type": "display_data"
    }
   ],
   "source": [
    "from subpred.plots import pca_plot_2d, pca_plot_3d\n",
    "\n",
    "pca_plot_2d(df_pssm, labels)\n",
    "# pca_plot_3d(df_pssm, labels)"
   ]
  },
  {
   "cell_type": "markdown",
   "metadata": {},
   "source": [
    "It seems like sugar has higher variance in PC2. The pattern of sugar transporters having higher variance persists.\n",
    "\n",
    "The PSSM feature encodes the likelyhood of amino acid exchanges from BLAST searches, which find proteins with similar sequences. A large number of similar proteins is available for virtually all proteins. The PSSM feature is a measure of amino acid conservation throughout evolution, not of the sequences themselves. When analyzing the amino acid composititons of the individual proteins, we found that the most important AAs are among the least frequent ones. What amino acids are the most common in the top-50 performing features?"
   ]
  },
  {
   "cell_type": "code",
   "execution_count": 80,
   "metadata": {},
   "outputs": [
    {
     "data": {
      "text/plain": [
       "<AxesSubplot:>"
      ]
     },
     "execution_count": 80,
     "metadata": {},
     "output_type": "execute_result"
    },
    {
     "data": {
      "image/png": "[encoded data removed]",
      "text/plain": [
       "<Figure size 576x396 with 1 Axes>"
      ]
     },
     "metadata": {},
     "output_type": "display_data"
    }
   ],
   "source": [
    "from subpred.plots import get_feature_score\n",
    "get_feature_score(df_pssm, labels).sort_values(\n",
    "    \"Normalized score\", ascending=False\n",
    ").iloc[:50, :].Feature.apply(lambda x: [x[0], x[1]]).explode().value_counts().plot.bar()"
   ]
  },
  {
   "cell_type": "markdown",
   "metadata": {},
   "source": [
    "There is a disproportionate amount of histidine exchanges among the 50 best features according to ANOVA F-score. It seems like the likelyhood of exchanging histidine during evolution is related to the class distinction between sugar and amino acid transporters. How do the actual features look like?"
   ]
  },
  {
   "cell_type": "code",
   "execution_count": 84,
   "metadata": {},
   "outputs": [
    {
     "data": {
      "text/html": [
       "<div>\n",
       "<style scoped>\n",
       "    .dataframe tbody tr th:only-of-type {\n",
       "        vertical-align: middle;\n",
       "    }\n",
       "\n",
       "    .dataframe tbody tr th {\n",
       "        vertical-align: top;\n",
       "    }\n",
       "\n",
       "    .dataframe thead th {\n",
       "        text-align: right;\n",
       "    }\n",
       "</style>\n",
       "<table border=\"1\" class=\"dataframe\">\n",
       "  <thead>\n",
       "    <tr style=\"text-align: right;\">\n",
       "      <th></th>\n",
       "      <th>Feature</th>\n",
       "      <th>Normalized score</th>\n",
       "      <th>Measure</th>\n",
       "    </tr>\n",
       "  </thead>\n",
       "  <tbody>\n",
       "    <tr>\n",
       "      <th>568</th>\n",
       "      <td>HH_50_3</td>\n",
       "      <td>0.011996</td>\n",
       "      <td>Feature importance (f_classif)</td>\n",
       "    </tr>\n",
       "    <tr>\n",
       "      <th>564</th>\n",
       "      <td>HC_50_3</td>\n",
       "      <td>0.009336</td>\n",
       "      <td>Feature importance (f_classif)</td>\n",
       "    </tr>\n",
       "    <tr>\n",
       "      <th>578</th>\n",
       "      <td>HY_50_3</td>\n",
       "      <td>0.008544</td>\n",
       "      <td>Feature importance (f_classif)</td>\n",
       "    </tr>\n",
       "    <tr>\n",
       "      <th>577</th>\n",
       "      <td>HW_50_3</td>\n",
       "      <td>0.008169</td>\n",
       "      <td>Feature importance (f_classif)</td>\n",
       "    </tr>\n",
       "    <tr>\n",
       "      <th>424</th>\n",
       "      <td>RC_50_3</td>\n",
       "      <td>0.006735</td>\n",
       "      <td>Feature importance (f_classif)</td>\n",
       "    </tr>\n",
       "    <tr>\n",
       "      <th>724</th>\n",
       "      <td>TC_50_3</td>\n",
       "      <td>0.006594</td>\n",
       "      <td>Feature importance (f_classif)</td>\n",
       "    </tr>\n",
       "    <tr>\n",
       "      <th>589</th>\n",
       "      <td>II_50_3</td>\n",
       "      <td>0.006264</td>\n",
       "      <td>Feature importance (f_classif)</td>\n",
       "    </tr>\n",
       "    <tr>\n",
       "      <th>749</th>\n",
       "      <td>WI_50_3</td>\n",
       "      <td>0.006147</td>\n",
       "      <td>Feature importance (f_classif)</td>\n",
       "    </tr>\n",
       "    <tr>\n",
       "      <th>573</th>\n",
       "      <td>HF_50_3</td>\n",
       "      <td>0.006110</td>\n",
       "      <td>Feature importance (f_classif)</td>\n",
       "    </tr>\n",
       "    <tr>\n",
       "      <th>569</th>\n",
       "      <td>HI_50_3</td>\n",
       "      <td>0.005786</td>\n",
       "      <td>Feature importance (f_classif)</td>\n",
       "    </tr>\n",
       "    <tr>\n",
       "      <th>443</th>\n",
       "      <td>ND_50_3</td>\n",
       "      <td>0.005745</td>\n",
       "      <td>Feature importance (f_classif)</td>\n",
       "    </tr>\n",
       "    <tr>\n",
       "      <th>468</th>\n",
       "      <td>DH_50_3</td>\n",
       "      <td>0.005597</td>\n",
       "      <td>Feature importance (f_classif)</td>\n",
       "    </tr>\n",
       "    <tr>\n",
       "      <th>654</th>\n",
       "      <td>MP_50_3</td>\n",
       "      <td>0.005188</td>\n",
       "      <td>Feature importance (f_classif)</td>\n",
       "    </tr>\n",
       "    <tr>\n",
       "      <th>628</th>\n",
       "      <td>KH_50_3</td>\n",
       "      <td>0.005083</td>\n",
       "      <td>Feature importance (f_classif)</td>\n",
       "    </tr>\n",
       "    <tr>\n",
       "      <th>744</th>\n",
       "      <td>WC_50_3</td>\n",
       "      <td>0.005069</td>\n",
       "      <td>Feature importance (f_classif)</td>\n",
       "    </tr>\n",
       "    <tr>\n",
       "      <th>400</th>\n",
       "      <td>AA_50_3</td>\n",
       "      <td>0.004870</td>\n",
       "      <td>Feature importance (f_classif)</td>\n",
       "    </tr>\n",
       "    <tr>\n",
       "      <th>549</th>\n",
       "      <td>GI_50_3</td>\n",
       "      <td>0.004858</td>\n",
       "      <td>Feature importance (f_classif)</td>\n",
       "    </tr>\n",
       "    <tr>\n",
       "      <th>1454</th>\n",
       "      <td>MP_90_3</td>\n",
       "      <td>0.004670</td>\n",
       "      <td>Feature importance (f_classif)</td>\n",
       "    </tr>\n",
       "    <tr>\n",
       "      <th>579</th>\n",
       "      <td>HV_50_3</td>\n",
       "      <td>0.004631</td>\n",
       "      <td>Feature importance (f_classif)</td>\n",
       "    </tr>\n",
       "    <tr>\n",
       "      <th>1243</th>\n",
       "      <td>ND_90_3</td>\n",
       "      <td>0.004448</td>\n",
       "      <td>Feature importance (f_classif)</td>\n",
       "    </tr>\n",
       "  </tbody>\n",
       "</table>\n",
       "</div>"
      ],
      "text/plain": [
       "      Feature  Normalized score                         Measure\n",
       "568   HH_50_3          0.011996  Feature importance (f_classif)\n",
       "564   HC_50_3          0.009336  Feature importance (f_classif)\n",
       "578   HY_50_3          0.008544  Feature importance (f_classif)\n",
       "577   HW_50_3          0.008169  Feature importance (f_classif)\n",
       "424   RC_50_3          0.006735  Feature importance (f_classif)\n",
       "724   TC_50_3          0.006594  Feature importance (f_classif)\n",
       "589   II_50_3          0.006264  Feature importance (f_classif)\n",
       "749   WI_50_3          0.006147  Feature importance (f_classif)\n",
       "573   HF_50_3          0.006110  Feature importance (f_classif)\n",
       "569   HI_50_3          0.005786  Feature importance (f_classif)\n",
       "443   ND_50_3          0.005745  Feature importance (f_classif)\n",
       "468   DH_50_3          0.005597  Feature importance (f_classif)\n",
       "654   MP_50_3          0.005188  Feature importance (f_classif)\n",
       "628   KH_50_3          0.005083  Feature importance (f_classif)\n",
       "744   WC_50_3          0.005069  Feature importance (f_classif)\n",
       "400   AA_50_3          0.004870  Feature importance (f_classif)\n",
       "549   GI_50_3          0.004858  Feature importance (f_classif)\n",
       "1454  MP_90_3          0.004670  Feature importance (f_classif)\n",
       "579   HV_50_3          0.004631  Feature importance (f_classif)\n",
       "1243  ND_90_3          0.004448  Feature importance (f_classif)"
      ]
     },
     "execution_count": 84,
     "metadata": {},
     "output_type": "execute_result"
    }
   ],
   "source": [
    "get_feature_score(df_pssm, labels).sort_values(\n",
    "    \"Normalized score\", ascending=False\n",
    ").head(20)#.Feature.apply(lambda x: [x[0], x[1]])"
   ]
  },
  {
   "cell_type": "markdown",
   "metadata": {},
   "source": [
    "The most important feature is the Histidine-Histidine exchange rate, which is equivalent to its conservation. What is the difference in His conservation across the classes?"
   ]
  },
  {
   "cell_type": "code",
   "execution_count": 97,
   "metadata": {},
   "outputs": [
    {
     "data": {
      "text/plain": [
       "<AxesSubplot:xlabel='label', ylabel='HH_50_3'>"
      ]
     },
     "execution_count": 97,
     "metadata": {},
     "output_type": "execute_result"
    },
    {
     "data": {
      "image/png": "[encoded data removed]",
      "text/plain": [
       "<Figure size 576x396 with 1 Axes>"
      ]
     },
     "metadata": {},
     "output_type": "display_data"
    }
   ],
   "source": [
    "sugar_hh = df_pssm.loc[labels == \"Sugar transport\"].HH_50_3\n",
    "sugar_hh = df_pssm.loc[labels == \"Sugar transport\"].HH_50_3\n",
    "\n",
    "df_hh = pd.DataFrame(df_pssm.HH_50_3)\n",
    "df_hh[\"label\"] = labels\n",
    "\n",
    "sns.boxplot(data=df_hh, x=\"label\", y=\"HH_50_3\")"
   ]
  },
  {
   "cell_type": "markdown",
   "metadata": {},
   "source": [
    "Histidine conservation is greater in AA transporters.\n",
    "\n",
    "I do not think that information sharing is a reason for the good results, it just seems like Histidine conservation and exchange rates are a good measure for distinguishing sugar and amino-acid transporters. \n",
    "\n",
    "Another interesting observation is that the top 17 features all stem from BLAST searches performed on Uniref50, with three iterations of Psiblast. These are the most distantly related proteins, but the 50% threshold of Uniref50 includes more of them. It could be that these parameters include more distantly related transporters, like splice variants for example, and therefore provide a clearer picture of the differences, especially in the His content."
   ]
  },
  {
   "cell_type": "markdown",
   "metadata": {},
   "source": [
    "Does the choice of training and validation set influence the results?"
   ]
  },
  {
   "cell_type": "code",
   "execution_count": 99,
   "metadata": {},
   "outputs": [
    {
     "name": "stdout",
     "output_type": "stream",
     "text": [
      "mean (20 runs)\n"
     ]
    },
    {
     "data": {
      "text/html": [
       "<div>\n",
       "<style scoped>\n",
       "    .dataframe tbody tr th:only-of-type {\n",
       "        vertical-align: middle;\n",
       "    }\n",
       "\n",
       "    .dataframe tbody tr th {\n",
       "        vertical-align: top;\n",
       "    }\n",
       "\n",
       "    .dataframe thead th {\n",
       "        text-align: right;\n",
       "    }\n",
       "</style>\n",
       "<table border=\"1\" class=\"dataframe\">\n",
       "  <thead>\n",
       "    <tr style=\"text-align: right;\">\n",
       "      <th>dataset</th>\n",
       "      <th>test</th>\n",
       "      <th>train</th>\n",
       "    </tr>\n",
       "    <tr>\n",
       "      <th>label</th>\n",
       "      <th></th>\n",
       "      <th></th>\n",
       "    </tr>\n",
       "  </thead>\n",
       "  <tbody>\n",
       "    <tr>\n",
       "      <th>Amino-acid transport</th>\n",
       "      <td>0.9458</td>\n",
       "      <td>0.91550</td>\n",
       "    </tr>\n",
       "    <tr>\n",
       "      <th>Sugar transport</th>\n",
       "      <td>0.9798</td>\n",
       "      <td>0.96965</td>\n",
       "    </tr>\n",
       "  </tbody>\n",
       "</table>\n",
       "</div>"
      ],
      "text/plain": [
       "dataset                 test    train\n",
       "label                                \n",
       "Amino-acid transport  0.9458  0.91550\n",
       "Sugar transport       0.9798  0.96965"
      ]
     },
     "metadata": {},
     "output_type": "display_data"
    },
    {
     "name": "stdout",
     "output_type": "stream",
     "text": [
      "sdev (20 runs)\n"
     ]
    },
    {
     "data": {
      "text/html": [
       "<div>\n",
       "<style scoped>\n",
       "    .dataframe tbody tr th:only-of-type {\n",
       "        vertical-align: middle;\n",
       "    }\n",
       "\n",
       "    .dataframe tbody tr th {\n",
       "        vertical-align: top;\n",
       "    }\n",
       "\n",
       "    .dataframe thead th {\n",
       "        text-align: right;\n",
       "    }\n",
       "</style>\n",
       "<table border=\"1\" class=\"dataframe\">\n",
       "  <thead>\n",
       "    <tr style=\"text-align: right;\">\n",
       "      <th>dataset</th>\n",
       "      <th>test</th>\n",
       "      <th>train</th>\n",
       "    </tr>\n",
       "    <tr>\n",
       "      <th>label</th>\n",
       "      <th></th>\n",
       "      <th></th>\n",
       "    </tr>\n",
       "  </thead>\n",
       "  <tbody>\n",
       "    <tr>\n",
       "      <th>Amino-acid transport</th>\n",
       "      <td>0.053032</td>\n",
       "      <td>0.040288</td>\n",
       "    </tr>\n",
       "    <tr>\n",
       "      <th>Sugar transport</th>\n",
       "      <td>0.018693</td>\n",
       "      <td>0.014572</td>\n",
       "    </tr>\n",
       "  </tbody>\n",
       "</table>\n",
       "</div>"
      ],
      "text/plain": [
       "dataset                   test     train\n",
       "label                                   \n",
       "Amino-acid transport  0.053032  0.040288\n",
       "Sugar transport       0.018693  0.014572"
      ]
     },
     "execution_count": 99,
     "metadata": {},
     "output_type": "execute_result"
    }
   ],
   "source": [
    "repetitions = 20\n",
    "df_stats, _ = full_test(df_pssm, labels, repetitions=repetitions)\n",
    "df_stats_gr = df_stats.groupby([\"label\", \"dataset\"], as_index=False)\n",
    "print(f\"mean ({repetitions} runs)\")\n",
    "display(df_stats_gr.mean().pivot(\"label\", \"dataset\", \"F1 score\"))\n",
    "print(f\"sdev ({repetitions} runs)\")\n",
    "df_stats_gr.std().pivot(\"label\", \"dataset\", \"F1 score\")"
   ]
  },
  {
   "cell_type": "markdown",
   "metadata": {},
   "source": [
    "The scores drop by about 5% on average with the default parameter grid, by choosing independent test splits with 20 different random_states other than the default (42). This seems more reasonable than 1.0 for almost every fold.\n",
    "\n",
    "(Note: I finished the analysis before testing this, so the slight overfitting on the test set happened by chance.)"
   ]
  },
  {
   "cell_type": "markdown",
   "metadata": {},
   "source": [
    "## Parameter tuning"
   ]
  },
  {
   "cell_type": "code",
   "execution_count": 9,
   "metadata": {},
   "outputs": [
    {
     "name": "stdout",
     "output_type": "stream",
     "text": [
      "{'linearsvc__C': 100, 'linearsvc__class_weight': None, 'linearsvc__dual': False, 'linearsvc__max_iter': 100000000.0}\n",
      "0.959\n"
     ]
    }
   ],
   "source": [
    "gsearch = optimize_hyperparams(\n",
    "    X_train,\n",
    "    y_train,\n",
    "    kernel=\"linear\",\n",
    "    dim_reduction=None,\n",
    "    C=[1, 10, 100],\n",
    "    # feature_transformer=\"pssm\",\n",
    "    # feature_names=feature_names,\n",
    ")\n",
    "best_estimator_svc = gsearch\n"
   ]
  },
  {
   "cell_type": "code",
   "execution_count": 8,
   "metadata": {},
   "outputs": [
    {
     "name": "stdout",
     "output_type": "stream",
     "text": [
      "{'linearsvc__C': 100, 'linearsvc__class_weight': None, 'linearsvc__dual': False, 'linearsvc__max_iter': 100000000.0, 'pssmselector__iterations': 1, 'pssmselector__uniref_threshold': 50}\n",
      "0.959\n"
     ]
    }
   ],
   "source": [
    "gsearch = optimize_hyperparams(\n",
    "    X_train,\n",
    "    y_train,\n",
    "    kernel=\"linear\",\n",
    "    dim_reduction=None,\n",
    "    C=[1, 10, 100],\n",
    "    feature_transformer=\"pssm\",\n",
    "    feature_names=feature_names,\n",
    ")\n",
    "best_estimator_svc = gsearch\n"
   ]
  },
  {
   "cell_type": "markdown",
   "metadata": {},
   "source": [
    "## Dimensionality reduction"
   ]
  },
  {
   "cell_type": "code",
   "execution_count": 10,
   "metadata": {},
   "outputs": [],
   "source": [
    "gsearch = optimize_hyperparams(\n",
    "    X_train, y_train, kernel=\"linear\", dim_reduction=\"kbest\", C=[1, 10, 100]\n",
    ")\n",
    "best_estimator_svc_kbest = gsearch"
   ]
  },
  {
   "cell_type": "code",
   "execution_count": 9,
   "metadata": {},
   "outputs": [
    {
     "name": "stdout",
     "output_type": "stream",
     "text": [
      "{'linearsvc__C': 0.1, 'linearsvc__class_weight': 'balanced', 'linearsvc__dual': True, 'linearsvc__max_iter': 100000000.0, 'pca__n_components': 0.8}\n",
      "0.907\n"
     ]
    }
   ],
   "source": [
    "gsearch = optimize_hyperparams(\n",
    "    X_train,\n",
    "    y_train,\n",
    "    kernel=\"linear\",\n",
    "    dim_reduction=\"pca\",\n",
    "    # C=[0.1, 0.01, 0.001],\n",
    "    # gamma=[0.1, 0.01, 0.001],\n",
    ")"
   ]
  },
  {
   "cell_type": "markdown",
   "metadata": {},
   "source": [
    "PCA seems to perform the best, how about the RBF kernel on the lower dimensional feature set?"
   ]
  },
  {
   "cell_type": "code",
   "execution_count": 10,
   "metadata": {},
   "outputs": [
    {
     "name": "stdout",
     "output_type": "stream",
     "text": [
      "{'pca__n_components': 0.81, 'svc__C': 10, 'svc__class_weight': 'balanced', 'svc__gamma': 'scale'}\n",
      "0.936\n"
     ]
    }
   ],
   "source": [
    "gsearch = optimize_hyperparams(\n",
    "    X_train,\n",
    "    y_train,\n",
    "    kernel=\"rbf\",\n",
    "    dim_reduction=\"pca\",\n",
    "    # C=[0.1, 0.01, 0.001],\n",
    "    # gamma=[0.1, 0.01, 0.001],\n",
    ")\n",
    "best_estimator_svc_pca = gsearch"
   ]
  },
  {
   "cell_type": "markdown",
   "metadata": {},
   "source": [
    "## Validation"
   ]
  },
  {
   "cell_type": "markdown",
   "metadata": {},
   "source": [
    "### Kbest"
   ]
  },
  {
   "cell_type": "code",
   "execution_count": 11,
   "metadata": {},
   "outputs": [
    {
     "data": {
      "text/html": [
       "<div>\n",
       "<style scoped>\n",
       "    .dataframe tbody tr th:only-of-type {\n",
       "        vertical-align: middle;\n",
       "    }\n",
       "\n",
       "    .dataframe tbody tr th {\n",
       "        vertical-align: top;\n",
       "    }\n",
       "\n",
       "    .dataframe thead th {\n",
       "        text-align: right;\n",
       "    }\n",
       "</style>\n",
       "<table border=\"1\" class=\"dataframe\">\n",
       "  <thead>\n",
       "    <tr style=\"text-align: right;\">\n",
       "      <th>predicted</th>\n",
       "      <th>Amino-acid transport</th>\n",
       "      <th>Sugar transport</th>\n",
       "    </tr>\n",
       "    <tr>\n",
       "      <th>observed</th>\n",
       "      <th></th>\n",
       "      <th></th>\n",
       "    </tr>\n",
       "  </thead>\n",
       "  <tbody>\n",
       "    <tr>\n",
       "      <th>Amino-acid transport</th>\n",
       "      <td>6</td>\n",
       "      <td>1</td>\n",
       "    </tr>\n",
       "    <tr>\n",
       "      <th>Sugar transport</th>\n",
       "      <td>1</td>\n",
       "      <td>16</td>\n",
       "    </tr>\n",
       "  </tbody>\n",
       "</table>\n",
       "</div>"
      ],
      "text/plain": [
       "predicted             Amino-acid transport  Sugar transport\n",
       "observed                                                   \n",
       "Amino-acid transport                     6                1\n",
       "Sugar transport                          1               16"
      ]
     },
     "execution_count": 11,
     "metadata": {},
     "output_type": "execute_result"
    }
   ],
   "source": [
    "get_confusion_matrix(X_test, y_test, best_estimator_svc_kbest, labels=labels)"
   ]
  },
  {
   "cell_type": "code",
   "execution_count": 12,
   "metadata": {},
   "outputs": [
    {
     "data": {
      "text/html": [
       "<div>\n",
       "<style scoped>\n",
       "    .dataframe tbody tr th:only-of-type {\n",
       "        vertical-align: middle;\n",
       "    }\n",
       "\n",
       "    .dataframe tbody tr th {\n",
       "        vertical-align: top;\n",
       "    }\n",
       "\n",
       "    .dataframe thead th {\n",
       "        text-align: right;\n",
       "    }\n",
       "</style>\n",
       "<table border=\"1\" class=\"dataframe\">\n",
       "  <thead>\n",
       "    <tr style=\"text-align: right;\">\n",
       "      <th></th>\n",
       "      <th>precision</th>\n",
       "      <th>recall</th>\n",
       "      <th>f1-score</th>\n",
       "      <th>support</th>\n",
       "    </tr>\n",
       "  </thead>\n",
       "  <tbody>\n",
       "    <tr>\n",
       "      <th>Amino-acid transport</th>\n",
       "      <td>0.857</td>\n",
       "      <td>0.857</td>\n",
       "      <td>0.857</td>\n",
       "      <td>7</td>\n",
       "    </tr>\n",
       "    <tr>\n",
       "      <th>Sugar transport</th>\n",
       "      <td>0.941</td>\n",
       "      <td>0.941</td>\n",
       "      <td>0.941</td>\n",
       "      <td>17</td>\n",
       "    </tr>\n",
       "    <tr>\n",
       "      <th>macro avg</th>\n",
       "      <td>0.899</td>\n",
       "      <td>0.899</td>\n",
       "      <td>0.899</td>\n",
       "      <td>24</td>\n",
       "    </tr>\n",
       "    <tr>\n",
       "      <th>weighted avg</th>\n",
       "      <td>0.917</td>\n",
       "      <td>0.917</td>\n",
       "      <td>0.917</td>\n",
       "      <td>24</td>\n",
       "    </tr>\n",
       "  </tbody>\n",
       "</table>\n",
       "</div>"
      ],
      "text/plain": [
       "                      precision  recall  f1-score  support\n",
       "Amino-acid transport      0.857   0.857     0.857        7\n",
       "Sugar transport           0.941   0.941     0.941       17\n",
       "macro avg                 0.899   0.899     0.899       24\n",
       "weighted avg              0.917   0.917     0.917       24"
      ]
     },
     "execution_count": 12,
     "metadata": {},
     "output_type": "execute_result"
    }
   ],
   "source": [
    "get_classification_report(X_test, y_test, best_estimator_svc_kbest, labels=labels)"
   ]
  },
  {
   "cell_type": "markdown",
   "metadata": {},
   "source": [
    "### PCA"
   ]
  },
  {
   "cell_type": "code",
   "execution_count": 13,
   "metadata": {},
   "outputs": [
    {
     "data": {
      "text/html": [
       "<div>\n",
       "<style scoped>\n",
       "    .dataframe tbody tr th:only-of-type {\n",
       "        vertical-align: middle;\n",
       "    }\n",
       "\n",
       "    .dataframe tbody tr th {\n",
       "        vertical-align: top;\n",
       "    }\n",
       "\n",
       "    .dataframe thead th {\n",
       "        text-align: right;\n",
       "    }\n",
       "</style>\n",
       "<table border=\"1\" class=\"dataframe\">\n",
       "  <thead>\n",
       "    <tr style=\"text-align: right;\">\n",
       "      <th>predicted</th>\n",
       "      <th>Amino-acid transport</th>\n",
       "      <th>Sugar transport</th>\n",
       "    </tr>\n",
       "    <tr>\n",
       "      <th>observed</th>\n",
       "      <th></th>\n",
       "      <th></th>\n",
       "    </tr>\n",
       "  </thead>\n",
       "  <tbody>\n",
       "    <tr>\n",
       "      <th>Amino-acid transport</th>\n",
       "      <td>7</td>\n",
       "      <td>0</td>\n",
       "    </tr>\n",
       "    <tr>\n",
       "      <th>Sugar transport</th>\n",
       "      <td>0</td>\n",
       "      <td>17</td>\n",
       "    </tr>\n",
       "  </tbody>\n",
       "</table>\n",
       "</div>"
      ],
      "text/plain": [
       "predicted             Amino-acid transport  Sugar transport\n",
       "observed                                                   \n",
       "Amino-acid transport                     7                0\n",
       "Sugar transport                          0               17"
      ]
     },
     "execution_count": 13,
     "metadata": {},
     "output_type": "execute_result"
    }
   ],
   "source": [
    "get_confusion_matrix(X_test, y_test, best_estimator_svc_pca, labels=labels)"
   ]
  },
  {
   "cell_type": "code",
   "execution_count": 14,
   "metadata": {},
   "outputs": [
    {
     "data": {
      "text/html": [
       "<div>\n",
       "<style scoped>\n",
       "    .dataframe tbody tr th:only-of-type {\n",
       "        vertical-align: middle;\n",
       "    }\n",
       "\n",
       "    .dataframe tbody tr th {\n",
       "        vertical-align: top;\n",
       "    }\n",
       "\n",
       "    .dataframe thead th {\n",
       "        text-align: right;\n",
       "    }\n",
       "</style>\n",
       "<table border=\"1\" class=\"dataframe\">\n",
       "  <thead>\n",
       "    <tr style=\"text-align: right;\">\n",
       "      <th></th>\n",
       "      <th>precision</th>\n",
       "      <th>recall</th>\n",
       "      <th>f1-score</th>\n",
       "      <th>support</th>\n",
       "    </tr>\n",
       "  </thead>\n",
       "  <tbody>\n",
       "    <tr>\n",
       "      <th>Amino-acid transport</th>\n",
       "      <td>1.0</td>\n",
       "      <td>1.0</td>\n",
       "      <td>1.0</td>\n",
       "      <td>7</td>\n",
       "    </tr>\n",
       "    <tr>\n",
       "      <th>Sugar transport</th>\n",
       "      <td>1.0</td>\n",
       "      <td>1.0</td>\n",
       "      <td>1.0</td>\n",
       "      <td>17</td>\n",
       "    </tr>\n",
       "    <tr>\n",
       "      <th>macro avg</th>\n",
       "      <td>1.0</td>\n",
       "      <td>1.0</td>\n",
       "      <td>1.0</td>\n",
       "      <td>24</td>\n",
       "    </tr>\n",
       "    <tr>\n",
       "      <th>weighted avg</th>\n",
       "      <td>1.0</td>\n",
       "      <td>1.0</td>\n",
       "      <td>1.0</td>\n",
       "      <td>24</td>\n",
       "    </tr>\n",
       "  </tbody>\n",
       "</table>\n",
       "</div>"
      ],
      "text/plain": [
       "                      precision  recall  f1-score  support\n",
       "Amino-acid transport        1.0     1.0       1.0        7\n",
       "Sugar transport             1.0     1.0       1.0       17\n",
       "macro avg                   1.0     1.0       1.0       24\n",
       "weighted avg                1.0     1.0       1.0       24"
      ]
     },
     "execution_count": 14,
     "metadata": {},
     "output_type": "execute_result"
    }
   ],
   "source": [
    "get_classification_report(X_test, y_test, best_estimator_svc_pca, labels=labels)"
   ]
  },
  {
   "cell_type": "markdown",
   "metadata": {},
   "source": [
    "## Estimating validation variance\n",
    "\n",
    "Mean and standard deviation for randomly selected training and validation sets."
   ]
  },
  {
   "cell_type": "code",
   "execution_count": 15,
   "metadata": {},
   "outputs": [],
   "source": [
    "df_scores, df_params = full_test(\n",
    "    df_paac, labels, dim_reduction=\"pca\", kernel=\"rbf\", repetitions=10\n",
    ")"
   ]
  },
  {
   "cell_type": "code",
   "execution_count": 16,
   "metadata": {},
   "outputs": [],
   "source": [
    "df_scores_gr = df_scores.groupby([\"label\", \"dataset\"], as_index=False)"
   ]
  },
  {
   "cell_type": "markdown",
   "metadata": {},
   "source": [
    "#### Mean F1"
   ]
  },
  {
   "cell_type": "code",
   "execution_count": 17,
   "metadata": {},
   "outputs": [
    {
     "data": {
      "text/html": [
       "<div>\n",
       "<style scoped>\n",
       "    .dataframe tbody tr th:only-of-type {\n",
       "        vertical-align: middle;\n",
       "    }\n",
       "\n",
       "    .dataframe tbody tr th {\n",
       "        vertical-align: top;\n",
       "    }\n",
       "\n",
       "    .dataframe thead th {\n",
       "        text-align: right;\n",
       "    }\n",
       "</style>\n",
       "<table border=\"1\" class=\"dataframe\">\n",
       "  <thead>\n",
       "    <tr style=\"text-align: right;\">\n",
       "      <th>dataset</th>\n",
       "      <th>test</th>\n",
       "      <th>train</th>\n",
       "    </tr>\n",
       "    <tr>\n",
       "      <th>label</th>\n",
       "      <th></th>\n",
       "      <th></th>\n",
       "    </tr>\n",
       "  </thead>\n",
       "  <tbody>\n",
       "    <tr>\n",
       "      <th>Amino-acid transport</th>\n",
       "      <td>0.8395</td>\n",
       "      <td>0.8818</td>\n",
       "    </tr>\n",
       "    <tr>\n",
       "      <th>Sugar transport</th>\n",
       "      <td>0.9394</td>\n",
       "      <td>0.9554</td>\n",
       "    </tr>\n",
       "  </tbody>\n",
       "</table>\n",
       "</div>"
      ],
      "text/plain": [
       "dataset                 test   train\n",
       "label                               \n",
       "Amino-acid transport  0.8395  0.8818\n",
       "Sugar transport       0.9394  0.9554"
      ]
     },
     "execution_count": 17,
     "metadata": {},
     "output_type": "execute_result"
    }
   ],
   "source": [
    "df_scores_gr.mean().pivot(index=\"label\", columns=\"dataset\", values=\"F1 score\")"
   ]
  },
  {
   "cell_type": "markdown",
   "metadata": {},
   "source": [
    "#### Standard deviation F1"
   ]
  },
  {
   "cell_type": "code",
   "execution_count": 18,
   "metadata": {},
   "outputs": [
    {
     "data": {
      "text/html": [
       "<div>\n",
       "<style scoped>\n",
       "    .dataframe tbody tr th:only-of-type {\n",
       "        vertical-align: middle;\n",
       "    }\n",
       "\n",
       "    .dataframe tbody tr th {\n",
       "        vertical-align: top;\n",
       "    }\n",
       "\n",
       "    .dataframe thead th {\n",
       "        text-align: right;\n",
       "    }\n",
       "</style>\n",
       "<table border=\"1\" class=\"dataframe\">\n",
       "  <thead>\n",
       "    <tr style=\"text-align: right;\">\n",
       "      <th>dataset</th>\n",
       "      <th>test</th>\n",
       "      <th>train</th>\n",
       "    </tr>\n",
       "    <tr>\n",
       "      <th>label</th>\n",
       "      <th></th>\n",
       "      <th></th>\n",
       "    </tr>\n",
       "  </thead>\n",
       "  <tbody>\n",
       "    <tr>\n",
       "      <th>Amino-acid transport</th>\n",
       "      <td>0.081425</td>\n",
       "      <td>0.052482</td>\n",
       "    </tr>\n",
       "    <tr>\n",
       "      <th>Sugar transport</th>\n",
       "      <td>0.028068</td>\n",
       "      <td>0.017115</td>\n",
       "    </tr>\n",
       "  </tbody>\n",
       "</table>\n",
       "</div>"
      ],
      "text/plain": [
       "dataset                   test     train\n",
       "label                                   \n",
       "Amino-acid transport  0.081425  0.052482\n",
       "Sugar transport       0.028068  0.017115"
      ]
     },
     "execution_count": 18,
     "metadata": {},
     "output_type": "execute_result"
    }
   ],
   "source": [
    "df_scores_gr.std().pivot(index=\"label\", columns=\"dataset\", values=\"F1 score\")"
   ]
  },
  {
   "cell_type": "markdown",
   "metadata": {},
   "source": [
    "#### Parameters"
   ]
  },
  {
   "cell_type": "code",
   "execution_count": 19,
   "metadata": {},
   "outputs": [
    {
     "data": {
      "text/html": [
       "<div>\n",
       "<style scoped>\n",
       "    .dataframe tbody tr th:only-of-type {\n",
       "        vertical-align: middle;\n",
       "    }\n",
       "\n",
       "    .dataframe tbody tr th {\n",
       "        vertical-align: top;\n",
       "    }\n",
       "\n",
       "    .dataframe thead th {\n",
       "        text-align: right;\n",
       "    }\n",
       "</style>\n",
       "<table border=\"1\" class=\"dataframe\">\n",
       "  <thead>\n",
       "    <tr style=\"text-align: right;\">\n",
       "      <th></th>\n",
       "      <th>0</th>\n",
       "      <th>1</th>\n",
       "      <th>2</th>\n",
       "      <th>3</th>\n",
       "      <th>4</th>\n",
       "      <th>5</th>\n",
       "      <th>6</th>\n",
       "      <th>7</th>\n",
       "      <th>8</th>\n",
       "      <th>9</th>\n",
       "    </tr>\n",
       "  </thead>\n",
       "  <tbody>\n",
       "    <tr>\n",
       "      <th>pca__n_components</th>\n",
       "      <td>0.81</td>\n",
       "      <td>0.8</td>\n",
       "      <td>0.82</td>\n",
       "      <td>0.8</td>\n",
       "      <td>0.88</td>\n",
       "      <td>0.97</td>\n",
       "      <td>0.9</td>\n",
       "      <td>0.85</td>\n",
       "      <td>0.88</td>\n",
       "      <td>0.8</td>\n",
       "    </tr>\n",
       "    <tr>\n",
       "      <th>svc__C</th>\n",
       "      <td>1</td>\n",
       "      <td>10</td>\n",
       "      <td>1</td>\n",
       "      <td>1</td>\n",
       "      <td>10</td>\n",
       "      <td>1</td>\n",
       "      <td>1</td>\n",
       "      <td>10</td>\n",
       "      <td>1</td>\n",
       "      <td>10</td>\n",
       "    </tr>\n",
       "    <tr>\n",
       "      <th>svc__class_weight</th>\n",
       "      <td>balanced</td>\n",
       "      <td>balanced</td>\n",
       "      <td>balanced</td>\n",
       "      <td>balanced</td>\n",
       "      <td>balanced</td>\n",
       "      <td>balanced</td>\n",
       "      <td>balanced</td>\n",
       "      <td>balanced</td>\n",
       "      <td>balanced</td>\n",
       "      <td>balanced</td>\n",
       "    </tr>\n",
       "    <tr>\n",
       "      <th>svc__gamma</th>\n",
       "      <td>scale</td>\n",
       "      <td>scale</td>\n",
       "      <td>0.01</td>\n",
       "      <td>0.01</td>\n",
       "      <td>scale</td>\n",
       "      <td>0.01</td>\n",
       "      <td>scale</td>\n",
       "      <td>scale</td>\n",
       "      <td>0.01</td>\n",
       "      <td>scale</td>\n",
       "    </tr>\n",
       "  </tbody>\n",
       "</table>\n",
       "</div>"
      ],
      "text/plain": [
       "                          0         1         2         3         4         5  \\\n",
       "pca__n_components      0.81       0.8      0.82       0.8      0.88      0.97   \n",
       "svc__C                    1        10         1         1        10         1   \n",
       "svc__class_weight  balanced  balanced  balanced  balanced  balanced  balanced   \n",
       "svc__gamma            scale     scale      0.01      0.01     scale      0.01   \n",
       "\n",
       "                          6         7         8         9  \n",
       "pca__n_components       0.9      0.85      0.88       0.8  \n",
       "svc__C                    1        10         1        10  \n",
       "svc__class_weight  balanced  balanced  balanced  balanced  \n",
       "svc__gamma            scale     scale      0.01     scale  "
      ]
     },
     "execution_count": 19,
     "metadata": {},
     "output_type": "execute_result"
    }
   ],
   "source": [
    "df_params"
   ]
  }
 ],
 "metadata": {
  "interpreter": {
   "hash": "7d9587acfc26b94842e9ed1391c37acbb1c055ffb7f48359e727081012dc2cc7"
  },
  "kernelspec": {
   "display_name": "Python 3.9.11 ('subpred')",
   "language": "python",
   "name": "python3"
  },
  "language_info": {
   "codemirror_mode": {
    "name": "ipython",
    "version": 3
   },
   "file_extension": ".py",
   "mimetype": "text/x-python",
   "name": "python",
   "nbconvert_exporter": "python",
   "pygments_lexer": "ipython3",
   "version": "3.9.12"
  },
  "orig_nbformat": 4
 },
 "nbformat": 4,
 "nbformat_minor": 2
}
