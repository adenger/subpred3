{
 "cells": [
  {
   "cell_type": "markdown",
   "metadata": {},
   "source": [
    "# Feature performance comparison\n",
    "\n",
    "The purpose of this notebook is to compare the classification performance of the individual features, and their combination, for A. Thaliana"
   ]
  },
  {
   "cell_type": "markdown",
   "metadata": {},
   "source": [
    "# Imports"
   ]
  },
  {
   "cell_type": "code",
   "execution_count": 1,
   "metadata": {
    "execution": {
     "iopub.execute_input": "2022-09-13T16:39:49.715013Z",
     "iopub.status.busy": "2022-09-13T16:39:49.714429Z",
     "iopub.status.idle": "2022-09-13T16:39:50.951787Z",
     "shell.execute_reply": "2022-09-13T16:39:50.950734Z"
    }
   },
   "outputs": [],
   "source": [
    "import os\n",
    "import sys\n",
    "from IPython.display import display\n",
    "\n",
    "sys.path.append('../src')\n",
    "from sklearn.preprocessing import LabelEncoder, StandardScaler\n",
    "from sklearn.svm import SVC, LinearSVC\n",
    "from sklearn.feature_selection import SelectKBest\n",
    "from sklearn.decomposition import PCA, KernelPCA\n",
    "from sklearn.pipeline import make_pipeline, Pipeline\n",
    "from sklearn.feature_selection import SelectKBest, RFE\n",
    "from sklearn.naive_bayes import GaussianNB\n",
    "from sklearn.metrics import f1_score, classification_report, confusion_matrix\n",
    "from sklearn.neighbors import KNeighborsClassifier\n",
    "from sklearn.ensemble import RandomForestClassifier\n",
    "from sklearn.model_selection import train_test_split, cross_val_score, cross_val_predict, GridSearchCV\n",
    "from sklearn.linear_model import SGDClassifier\n",
    "from sklearn.base import clone\n",
    "\n",
    "import matplotlib.pyplot as plt\n",
    "\n",
    "from yellowbrick.features import ParallelCoordinates\n",
    "from yellowbrick.features import Rank1D, Rank2D\n",
    "\n",
    "import pandas as pd\n",
    "import numpy as np\n",
    "import seaborn as sns\n",
    "\n",
    "from dataset.transporter_dataset import create_dataset\n",
    "from dataset.cluster_fasta import cd_hit\n",
    "from features.labels import fasta_to_labels\n",
    "from features.compositions import calculate_composition_feature\n",
    "from features.pssm import calculate_pssm_feature\n",
    "from features.coexp import calculate_coexp_feature\n",
    "from models.eval import nested_crossval\n",
    "from visualization.feature_plots import create_plot"
   ]
  },
  {
   "cell_type": "markdown",
   "metadata": {},
   "source": [
    "# Globals"
   ]
  },
  {
   "cell_type": "code",
   "execution_count": 2,
   "metadata": {
    "execution": {
     "iopub.execute_input": "2022-09-13T16:39:50.956594Z",
     "iopub.status.busy": "2022-09-13T16:39:50.956450Z",
     "iopub.status.idle": "2022-09-13T16:39:50.960469Z",
     "shell.execute_reply": "2022-09-13T16:39:50.959752Z"
    }
   },
   "outputs": [],
   "source": [
    "ORGANISM=\"athaliana\"\n",
    "LOG_FILE = f\"../logs/{ORGANISM}_amino_sugar.log\"\n",
    "N_THREADS = 16\n",
    "IDENTITY_THRESHOLD=70\n",
    "TAX_ID = 3702\n",
    "OUTLIERS = [\"O81775\", \"Q9SW07\", \"Q9FHH5\", \"Q8S8A0\", \"Q3E965\", \"Q3EAV6\", \"Q3E8L0\"]"
   ]
  },
  {
   "cell_type": "markdown",
   "metadata": {},
   "source": [
    "# Dataset"
   ]
  },
  {
   "cell_type": "code",
   "execution_count": 3,
   "metadata": {
    "execution": {
     "iopub.execute_input": "2022-09-13T16:39:50.964810Z",
     "iopub.status.busy": "2022-09-13T16:39:50.964684Z",
     "iopub.status.idle": "2022-09-13T16:40:01.181286Z",
     "shell.execute_reply": "2022-09-13T16:40:01.180052Z"
    }
   },
   "outputs": [
    {
     "data": {
      "text/html": [
       "<div>\n",
       "<style scoped>\n",
       "    .dataframe tbody tr th:only-of-type {\n",
       "        vertical-align: middle;\n",
       "    }\n",
       "\n",
       "    .dataframe tbody tr th {\n",
       "        vertical-align: top;\n",
       "    }\n",
       "\n",
       "    .dataframe thead th {\n",
       "        text-align: right;\n",
       "    }\n",
       "</style>\n",
       "<table border=\"1\" class=\"dataframe\">\n",
       "  <thead>\n",
       "    <tr style=\"text-align: right;\">\n",
       "      <th></th>\n",
       "      <th>keywords_transport</th>\n",
       "      <th>keywords_location</th>\n",
       "      <th>keywords_transport_related</th>\n",
       "      <th>gene_names</th>\n",
       "      <th>protein_names</th>\n",
       "      <th>tcdb_id</th>\n",
       "      <th>organism_id</th>\n",
       "      <th>sequence</th>\n",
       "    </tr>\n",
       "    <tr>\n",
       "      <th>Uniprot</th>\n",
       "      <th></th>\n",
       "      <th></th>\n",
       "      <th></th>\n",
       "      <th></th>\n",
       "      <th></th>\n",
       "      <th></th>\n",
       "      <th></th>\n",
       "      <th></th>\n",
       "    </tr>\n",
       "  </thead>\n",
       "  <tbody>\n",
       "    <tr>\n",
       "      <th>Q9SFG0</th>\n",
       "      <td>Sugar transport</td>\n",
       "      <td>Membrane;Transmembrane</td>\n",
       "      <td>Symport;Transport</td>\n",
       "      <td>STP6 At3g05960 F2O10.8</td>\n",
       "      <td>Sugar transport protein 6 (Hexose transporter 6)</td>\n",
       "      <td>2.A.1.1.56</td>\n",
       "      <td>3702</td>\n",
       "      <td>MAVVVSNANAPAFEAKMTVYVFICVMIAAVGGLIFGYDIGISGGVS...</td>\n",
       "    </tr>\n",
       "    <tr>\n",
       "      <th>Q9ZVK6</th>\n",
       "      <td>Sugar transport</td>\n",
       "      <td>Cell membrane;Membrane;Transmembrane</td>\n",
       "      <td>Symport;Transport</td>\n",
       "      <td>SUC8 At2g14670 T6B13.9</td>\n",
       "      <td>Sucrose transport protein SUC8 (Sucrose permea...</td>\n",
       "      <td>NaN</td>\n",
       "      <td>3702</td>\n",
       "      <td>MSDLQAKNDVVAVDRQSSSSLADLDGPSPLRKMISVASIAAGIQFG...</td>\n",
       "    </tr>\n",
       "    <tr>\n",
       "      <th>Q84WN3</th>\n",
       "      <td>Sugar transport</td>\n",
       "      <td>Membrane;Transmembrane</td>\n",
       "      <td>Transport</td>\n",
       "      <td>SWEET17 At4g15920 dl4000c FCAALL.237</td>\n",
       "      <td>Bidirectional sugar transporter SWEET17 (AtSWE...</td>\n",
       "      <td>NaN</td>\n",
       "      <td>3702</td>\n",
       "      <td>MAEASFYIGVIGNVISVLVFLSPVETFWKIVKRRSTEEYKSLPYIC...</td>\n",
       "    </tr>\n",
       "    <tr>\n",
       "      <th>O04249</th>\n",
       "      <td>Sugar transport</td>\n",
       "      <td>Cell membrane;Membrane;Transmembrane</td>\n",
       "      <td>Symport;Transport</td>\n",
       "      <td>STP7 At4g02050 AGAA.1 T10M13.6</td>\n",
       "      <td>Sugar transport protein 7 (Hexose transporter 7)</td>\n",
       "      <td>NaN</td>\n",
       "      <td>3702</td>\n",
       "      <td>MAGGSFGPTGVAKERAEQYQGKVTSYVIIACLVAAIGGSIFGYDIG...</td>\n",
       "    </tr>\n",
       "    <tr>\n",
       "      <th>Q56ZZ7</th>\n",
       "      <td>Sugar transport</td>\n",
       "      <td>Membrane;Plastid inner membrane;Transmembrane</td>\n",
       "      <td>Transport</td>\n",
       "      <td>At5g16150 T21H19.70</td>\n",
       "      <td>Plastidic glucose transporter 4 (AtpGlcT)</td>\n",
       "      <td>2.A.1.1.102</td>\n",
       "      <td>3702</td>\n",
       "      <td>MQSSTYAVKGNAAFAFQRRTFSSDRSTTSTGIRFAGYKSLATTGPL...</td>\n",
       "    </tr>\n",
       "    <tr>\n",
       "      <th>...</th>\n",
       "      <td>...</td>\n",
       "      <td>...</td>\n",
       "      <td>...</td>\n",
       "      <td>...</td>\n",
       "      <td>...</td>\n",
       "      <td>...</td>\n",
       "      <td>...</td>\n",
       "      <td>...</td>\n",
       "    </tr>\n",
       "    <tr>\n",
       "      <th>Q94EI9</th>\n",
       "      <td>Sugar transport</td>\n",
       "      <td>Membrane;Transmembrane</td>\n",
       "      <td>Transport</td>\n",
       "      <td>At3g14410 MLN21.19</td>\n",
       "      <td>Probable sugar phosphate/phosphate translocato...</td>\n",
       "      <td>NaN</td>\n",
       "      <td>3702</td>\n",
       "      <td>MADRSKGFMRAEFVTYAYILLYIALSSGQIFFNKWVLSSKEINFPY...</td>\n",
       "    </tr>\n",
       "    <tr>\n",
       "      <th>Q8L6Z8</th>\n",
       "      <td>Sugar transport</td>\n",
       "      <td>Membrane;Transmembrane</td>\n",
       "      <td>Transport</td>\n",
       "      <td>At3g03090 T17B22.22</td>\n",
       "      <td>D-xylose-proton symporter-like 1</td>\n",
       "      <td>2.A.1.1.45</td>\n",
       "      <td>3702</td>\n",
       "      <td>MGFDPENQSISSVGQVVGDSSSGGITAEKEPLLKENHSPENYSVLA...</td>\n",
       "    </tr>\n",
       "    <tr>\n",
       "      <th>Q9FDZ5</th>\n",
       "      <td>Sugar transport</td>\n",
       "      <td>Membrane;Transmembrane</td>\n",
       "      <td>Antiport;Transport</td>\n",
       "      <td>URGT6 At1g34020 F12G12.16 T15K4.8</td>\n",
       "      <td>UDP-rhamnose/UDP-galactose transporter 6 (UDP-...</td>\n",
       "      <td>NaN</td>\n",
       "      <td>3702</td>\n",
       "      <td>MAPVSKADKKAAVDAAAWMFNVVTSVGIIIVNKALMATYGYSFATT...</td>\n",
       "    </tr>\n",
       "    <tr>\n",
       "      <th>F4IHS9</th>\n",
       "      <td>Sugar transport</td>\n",
       "      <td>Endoplasmic reticulum;Membrane;Transmembrane</td>\n",
       "      <td>Antiport;Transport</td>\n",
       "      <td>UXT1 At2g28315 T1B3.18</td>\n",
       "      <td>UDP-xylose transporter 1</td>\n",
       "      <td>NaN</td>\n",
       "      <td>3702</td>\n",
       "      <td>MGEMKSMQMGVIGALFLSVASSVSIVICNKALMTNLGFPFATTLTS...</td>\n",
       "    </tr>\n",
       "    <tr>\n",
       "      <th>Q93Z80</th>\n",
       "      <td>Sugar transport</td>\n",
       "      <td>Membrane;Transmembrane</td>\n",
       "      <td>Transport</td>\n",
       "      <td>At3g05160 T12H1.13</td>\n",
       "      <td>Sugar transporter ERD6-like 10</td>\n",
       "      <td>NaN</td>\n",
       "      <td>3702</td>\n",
       "      <td>MEEGLLRHENDRDDRRITACVILSTFVAVCSSFSYGCANGYTSGAE...</td>\n",
       "    </tr>\n",
       "  </tbody>\n",
       "</table>\n",
       "<p>165 rows × 8 columns</p>\n",
       "</div>"
      ],
      "text/plain": [
       "        keywords_transport                              keywords_location  \\\n",
       "Uniprot                                                                     \n",
       "Q9SFG0     Sugar transport                         Membrane;Transmembrane   \n",
       "Q9ZVK6     Sugar transport           Cell membrane;Membrane;Transmembrane   \n",
       "Q84WN3     Sugar transport                         Membrane;Transmembrane   \n",
       "O04249     Sugar transport           Cell membrane;Membrane;Transmembrane   \n",
       "Q56ZZ7     Sugar transport  Membrane;Plastid inner membrane;Transmembrane   \n",
       "...                    ...                                            ...   \n",
       "Q94EI9     Sugar transport                         Membrane;Transmembrane   \n",
       "Q8L6Z8     Sugar transport                         Membrane;Transmembrane   \n",
       "Q9FDZ5     Sugar transport                         Membrane;Transmembrane   \n",
       "F4IHS9     Sugar transport   Endoplasmic reticulum;Membrane;Transmembrane   \n",
       "Q93Z80     Sugar transport                         Membrane;Transmembrane   \n",
       "\n",
       "        keywords_transport_related                            gene_names  \\\n",
       "Uniprot                                                                    \n",
       "Q9SFG0           Symport;Transport                STP6 At3g05960 F2O10.8   \n",
       "Q9ZVK6           Symport;Transport                SUC8 At2g14670 T6B13.9   \n",
       "Q84WN3                   Transport  SWEET17 At4g15920 dl4000c FCAALL.237   \n",
       "O04249           Symport;Transport        STP7 At4g02050 AGAA.1 T10M13.6   \n",
       "Q56ZZ7                   Transport                   At5g16150 T21H19.70   \n",
       "...                            ...                                   ...   \n",
       "Q94EI9                   Transport                    At3g14410 MLN21.19   \n",
       "Q8L6Z8                   Transport                   At3g03090 T17B22.22   \n",
       "Q9FDZ5          Antiport;Transport     URGT6 At1g34020 F12G12.16 T15K4.8   \n",
       "F4IHS9          Antiport;Transport                UXT1 At2g28315 T1B3.18   \n",
       "Q93Z80                   Transport                    At3g05160 T12H1.13   \n",
       "\n",
       "                                             protein_names      tcdb_id  \\\n",
       "Uniprot                                                                   \n",
       "Q9SFG0    Sugar transport protein 6 (Hexose transporter 6)   2.A.1.1.56   \n",
       "Q9ZVK6   Sucrose transport protein SUC8 (Sucrose permea...          NaN   \n",
       "Q84WN3   Bidirectional sugar transporter SWEET17 (AtSWE...          NaN   \n",
       "O04249    Sugar transport protein 7 (Hexose transporter 7)          NaN   \n",
       "Q56ZZ7           Plastidic glucose transporter 4 (AtpGlcT)  2.A.1.1.102   \n",
       "...                                                    ...          ...   \n",
       "Q94EI9   Probable sugar phosphate/phosphate translocato...          NaN   \n",
       "Q8L6Z8                    D-xylose-proton symporter-like 1   2.A.1.1.45   \n",
       "Q9FDZ5   UDP-rhamnose/UDP-galactose transporter 6 (UDP-...          NaN   \n",
       "F4IHS9                            UDP-xylose transporter 1          NaN   \n",
       "Q93Z80                      Sugar transporter ERD6-like 10          NaN   \n",
       "\n",
       "         organism_id                                           sequence  \n",
       "Uniprot                                                                  \n",
       "Q9SFG0          3702  MAVVVSNANAPAFEAKMTVYVFICVMIAAVGGLIFGYDIGISGGVS...  \n",
       "Q9ZVK6          3702  MSDLQAKNDVVAVDRQSSSSLADLDGPSPLRKMISVASIAAGIQFG...  \n",
       "Q84WN3          3702  MAEASFYIGVIGNVISVLVFLSPVETFWKIVKRRSTEEYKSLPYIC...  \n",
       "O04249          3702  MAGGSFGPTGVAKERAEQYQGKVTSYVIIACLVAAIGGSIFGYDIG...  \n",
       "Q56ZZ7          3702  MQSSTYAVKGNAAFAFQRRTFSSDRSTTSTGIRFAGYKSLATTGPL...  \n",
       "...              ...                                                ...  \n",
       "Q94EI9          3702  MADRSKGFMRAEFVTYAYILLYIALSSGQIFFNKWVLSSKEINFPY...  \n",
       "Q8L6Z8          3702  MGFDPENQSISSVGQVVGDSSSGGITAEKEPLLKENHSPENYSVLA...  \n",
       "Q9FDZ5          3702  MAPVSKADKKAAVDAAAWMFNVVTSVGIIIVNKALMATYGYSFATT...  \n",
       "F4IHS9          3702  MGEMKSMQMGVIGALFLSVASSVSIVICNKALMTNLGFPFATTLTS...  \n",
       "Q93Z80          3702  MEEGLLRHENDRDDRRITACVILSTFVAVCSSFSYGCANGYTSGAE...  \n",
       "\n",
       "[165 rows x 8 columns]"
      ]
     },
     "execution_count": 3,
     "metadata": {},
     "output_type": "execute_result"
    }
   ],
   "source": [
    "# Delete previous log\n",
    "if os.path.exists(LOG_FILE):\n",
    "    with open(LOG_FILE, \"w\"):\n",
    "        pass\n",
    "\n",
    "create_dataset(\n",
    "    keywords_substrate_filter=[\"Amino-acid transport\", \"Sugar transport\"],\n",
    "    keywords_component_filter=[\"Membrane\"],\n",
    "    keywords_transport_filter=[\"Transport\"],\n",
    "    input_file=\"../data/raw/swissprot/uniprot-reviewed_yes.tab.gz\",\n",
    "    multi_substrate=\"remove\",\n",
    "    outliers=OUTLIERS,\n",
    "    verbose=True,\n",
    "    tax_ids_filter=[TAX_ID],\n",
    "    output_tsv=f\"../data/datasets/{ORGANISM}_amino_sugar.tsv\",\n",
    "    output_fasta=f\"../data/datasets/{ORGANISM}_amino_sugar.fasta\",\n",
    "    output_log=LOG_FILE,\n",
    ")"
   ]
  },
  {
   "cell_type": "markdown",
   "metadata": {},
   "source": [
    "## Clustering"
   ]
  },
  {
   "cell_type": "code",
   "execution_count": 4,
   "metadata": {
    "execution": {
     "iopub.execute_input": "2022-09-13T16:40:01.224858Z",
     "iopub.status.busy": "2022-09-13T16:40:01.224270Z",
     "iopub.status.idle": "2022-09-13T16:40:01.576883Z",
     "shell.execute_reply": "2022-09-13T16:40:01.575270Z"
    }
   },
   "outputs": [],
   "source": [
    "cd_hit(\n",
    "    executable_location=\"cd-hit\",\n",
    "    input_fasta=f\"../data/datasets/{ORGANISM}_amino_sugar.fasta\",\n",
    "    output_fasta=f\"../data/datasets/{ORGANISM}_amino_sugar_cluster{IDENTITY_THRESHOLD}.fasta\",\n",
    "    log_file=LOG_FILE,\n",
    "    identity_threshold=IDENTITY_THRESHOLD,\n",
    "    n_threads=N_THREADS,\n",
    "    memory=4096,\n",
    "    verbose=True,\n",
    ")"
   ]
  },
  {
   "cell_type": "markdown",
   "metadata": {},
   "source": [
    "## Annotations"
   ]
  },
  {
   "cell_type": "code",
   "execution_count": 5,
   "metadata": {
    "execution": {
     "iopub.execute_input": "2022-09-13T16:40:01.581630Z",
     "iopub.status.busy": "2022-09-13T16:40:01.581392Z",
     "iopub.status.idle": "2022-09-13T16:40:01.608044Z",
     "shell.execute_reply": "2022-09-13T16:40:01.607386Z"
    }
   },
   "outputs": [
    {
     "data": {
      "text/html": [
       "<div>\n",
       "<style scoped>\n",
       "    .dataframe tbody tr th:only-of-type {\n",
       "        vertical-align: middle;\n",
       "    }\n",
       "\n",
       "    .dataframe tbody tr th {\n",
       "        vertical-align: top;\n",
       "    }\n",
       "\n",
       "    .dataframe thead th {\n",
       "        text-align: right;\n",
       "    }\n",
       "</style>\n",
       "<table border=\"1\" class=\"dataframe\">\n",
       "  <thead>\n",
       "    <tr style=\"text-align: right;\">\n",
       "      <th></th>\n",
       "      <th>keywords_transport</th>\n",
       "      <th>keywords_location</th>\n",
       "      <th>keywords_transport_related</th>\n",
       "      <th>gene_names</th>\n",
       "      <th>protein_names</th>\n",
       "      <th>tcdb_id</th>\n",
       "      <th>organism_id</th>\n",
       "      <th>sequence</th>\n",
       "    </tr>\n",
       "    <tr>\n",
       "      <th>Uniprot</th>\n",
       "      <th></th>\n",
       "      <th></th>\n",
       "      <th></th>\n",
       "      <th></th>\n",
       "      <th></th>\n",
       "      <th></th>\n",
       "      <th></th>\n",
       "      <th></th>\n",
       "    </tr>\n",
       "  </thead>\n",
       "  <tbody>\n",
       "    <tr>\n",
       "      <th>Q9SFG0</th>\n",
       "      <td>Sugar transport</td>\n",
       "      <td>Membrane;Transmembrane</td>\n",
       "      <td>Symport;Transport</td>\n",
       "      <td>STP6 At3g05960 F2O10.8</td>\n",
       "      <td>Sugar transport protein 6 (Hexose transporter 6)</td>\n",
       "      <td>2.A.1.1.56</td>\n",
       "      <td>3702</td>\n",
       "      <td>MAVVVSNANAPAFEAKMTVYVFICVMIAAVGGLIFGYDIGISGGVS...</td>\n",
       "    </tr>\n",
       "    <tr>\n",
       "      <th>Q9ZVK6</th>\n",
       "      <td>Sugar transport</td>\n",
       "      <td>Cell membrane;Membrane;Transmembrane</td>\n",
       "      <td>Symport;Transport</td>\n",
       "      <td>SUC8 At2g14670 T6B13.9</td>\n",
       "      <td>Sucrose transport protein SUC8 (Sucrose permea...</td>\n",
       "      <td>NaN</td>\n",
       "      <td>3702</td>\n",
       "      <td>MSDLQAKNDVVAVDRQSSSSLADLDGPSPLRKMISVASIAAGIQFG...</td>\n",
       "    </tr>\n",
       "    <tr>\n",
       "      <th>Q84WN3</th>\n",
       "      <td>Sugar transport</td>\n",
       "      <td>Membrane;Transmembrane</td>\n",
       "      <td>Transport</td>\n",
       "      <td>SWEET17 At4g15920 dl4000c FCAALL.237</td>\n",
       "      <td>Bidirectional sugar transporter SWEET17 (AtSWE...</td>\n",
       "      <td>NaN</td>\n",
       "      <td>3702</td>\n",
       "      <td>MAEASFYIGVIGNVISVLVFLSPVETFWKIVKRRSTEEYKSLPYIC...</td>\n",
       "    </tr>\n",
       "    <tr>\n",
       "      <th>O04249</th>\n",
       "      <td>Sugar transport</td>\n",
       "      <td>Cell membrane;Membrane;Transmembrane</td>\n",
       "      <td>Symport;Transport</td>\n",
       "      <td>STP7 At4g02050 AGAA.1 T10M13.6</td>\n",
       "      <td>Sugar transport protein 7 (Hexose transporter 7)</td>\n",
       "      <td>NaN</td>\n",
       "      <td>3702</td>\n",
       "      <td>MAGGSFGPTGVAKERAEQYQGKVTSYVIIACLVAAIGGSIFGYDIG...</td>\n",
       "    </tr>\n",
       "    <tr>\n",
       "      <th>Q56ZZ7</th>\n",
       "      <td>Sugar transport</td>\n",
       "      <td>Membrane;Plastid inner membrane;Transmembrane</td>\n",
       "      <td>Transport</td>\n",
       "      <td>At5g16150 T21H19.70</td>\n",
       "      <td>Plastidic glucose transporter 4 (AtpGlcT)</td>\n",
       "      <td>2.A.1.1.102</td>\n",
       "      <td>3702</td>\n",
       "      <td>MQSSTYAVKGNAAFAFQRRTFSSDRSTTSTGIRFAGYKSLATTGPL...</td>\n",
       "    </tr>\n",
       "  </tbody>\n",
       "</table>\n",
       "</div>"
      ],
      "text/plain": [
       "        keywords_transport                              keywords_location  \\\n",
       "Uniprot                                                                     \n",
       "Q9SFG0     Sugar transport                         Membrane;Transmembrane   \n",
       "Q9ZVK6     Sugar transport           Cell membrane;Membrane;Transmembrane   \n",
       "Q84WN3     Sugar transport                         Membrane;Transmembrane   \n",
       "O04249     Sugar transport           Cell membrane;Membrane;Transmembrane   \n",
       "Q56ZZ7     Sugar transport  Membrane;Plastid inner membrane;Transmembrane   \n",
       "\n",
       "        keywords_transport_related                            gene_names  \\\n",
       "Uniprot                                                                    \n",
       "Q9SFG0           Symport;Transport                STP6 At3g05960 F2O10.8   \n",
       "Q9ZVK6           Symport;Transport                SUC8 At2g14670 T6B13.9   \n",
       "Q84WN3                   Transport  SWEET17 At4g15920 dl4000c FCAALL.237   \n",
       "O04249           Symport;Transport        STP7 At4g02050 AGAA.1 T10M13.6   \n",
       "Q56ZZ7                   Transport                   At5g16150 T21H19.70   \n",
       "\n",
       "                                             protein_names      tcdb_id  \\\n",
       "Uniprot                                                                   \n",
       "Q9SFG0    Sugar transport protein 6 (Hexose transporter 6)   2.A.1.1.56   \n",
       "Q9ZVK6   Sucrose transport protein SUC8 (Sucrose permea...          NaN   \n",
       "Q84WN3   Bidirectional sugar transporter SWEET17 (AtSWE...          NaN   \n",
       "O04249    Sugar transport protein 7 (Hexose transporter 7)          NaN   \n",
       "Q56ZZ7           Plastidic glucose transporter 4 (AtpGlcT)  2.A.1.1.102   \n",
       "\n",
       "         organism_id                                           sequence  \n",
       "Uniprot                                                                  \n",
       "Q9SFG0          3702  MAVVVSNANAPAFEAKMTVYVFICVMIAAVGGLIFGYDIGISGGVS...  \n",
       "Q9ZVK6          3702  MSDLQAKNDVVAVDRQSSSSLADLDGPSPLRKMISVASIAAGIQFG...  \n",
       "Q84WN3          3702  MAEASFYIGVIGNVISVLVFLSPVETFWKIVKRRSTEEYKSLPYIC...  \n",
       "O04249          3702  MAGGSFGPTGVAKERAEQYQGKVTSYVIIACLVAAIGGSIFGYDIG...  \n",
       "Q56ZZ7          3702  MQSSTYAVKGNAAFAFQRRTFSSDRSTTSTGIRFAGYKSLATTGPL...  "
      ]
     },
     "execution_count": 5,
     "metadata": {},
     "output_type": "execute_result"
    }
   ],
   "source": [
    "df_annotations = pd.read_table(f\"../data/datasets/{ORGANISM}_amino_sugar.tsv\", index_col=0)\n",
    "df_annotations.head()"
   ]
  },
  {
   "cell_type": "markdown",
   "metadata": {},
   "source": [
    "# Feature generation\n",
    "\n",
    "## Labels"
   ]
  },
  {
   "cell_type": "code",
   "execution_count": 6,
   "metadata": {
    "execution": {
     "iopub.execute_input": "2022-09-13T16:40:01.612765Z",
     "iopub.status.busy": "2022-09-13T16:40:01.612449Z",
     "iopub.status.idle": "2022-09-13T16:40:01.628960Z",
     "shell.execute_reply": "2022-09-13T16:40:01.628248Z"
    }
   },
   "outputs": [
    {
     "data": {
      "text/plain": [
       "Sugar transport         84\n",
       "Amino-acid transport    33\n",
       "Name: labels, dtype: int64"
      ]
     },
     "execution_count": 6,
     "metadata": {},
     "output_type": "execute_result"
    }
   ],
   "source": [
    "fasta_to_labels(\n",
    "    input_fasta=f\"../data/datasets/{ORGANISM}_amino_sugar_cluster{IDENTITY_THRESHOLD}.fasta\",\n",
    "    output_tsv=f\"../data/features/{ORGANISM}_amino_sugar_cluster{IDENTITY_THRESHOLD}_labels.tsv\",\n",
    ")\n",
    "df_labels = pd.read_table(\n",
    "    f\"../data/features/{ORGANISM}_amino_sugar_cluster{IDENTITY_THRESHOLD}_labels.tsv\",\n",
    "    index_col=0,\n",
    ")\n",
    "df_labels.labels.value_counts()"
   ]
  },
  {
   "cell_type": "markdown",
   "metadata": {},
   "source": [
    "## PAAC"
   ]
  },
  {
   "cell_type": "code",
   "execution_count": 7,
   "metadata": {
    "execution": {
     "iopub.execute_input": "2022-09-13T16:40:01.632551Z",
     "iopub.status.busy": "2022-09-13T16:40:01.632245Z",
     "iopub.status.idle": "2022-09-13T16:40:01.804803Z",
     "shell.execute_reply": "2022-09-13T16:40:01.803975Z"
    }
   },
   "outputs": [],
   "source": [
    "calculate_composition_feature(\n",
    "    input_fasta=f\"../data/datasets/{ORGANISM}_amino_sugar_cluster{IDENTITY_THRESHOLD}.fasta\",\n",
    "    output_tsv=f\"../data/features/{ORGANISM}_amino_sugar_cluster{IDENTITY_THRESHOLD}_paac.tsv\",\n",
    "    feature_type=\"paac\",\n",
    ")"
   ]
  },
  {
   "cell_type": "markdown",
   "metadata": {},
   "source": [
    "## Reading dataframes"
   ]
  },
  {
   "cell_type": "code",
   "execution_count": 8,
   "metadata": {
    "execution": {
     "iopub.execute_input": "2022-09-13T16:40:01.809210Z",
     "iopub.status.busy": "2022-09-13T16:40:01.808853Z",
     "iopub.status.idle": "2022-09-13T16:40:01.844606Z",
     "shell.execute_reply": "2022-09-13T16:40:01.843728Z"
    }
   },
   "outputs": [],
   "source": [
    "df_paac = pd.read_table(\n",
    "    f\"../data/features/{ORGANISM}_amino_sugar_cluster{IDENTITY_THRESHOLD}_paac.tsv\",\n",
    "    index_col=0,\n",
    ")"
   ]
  },
  {
   "cell_type": "markdown",
   "metadata": {},
   "source": [
    "# Functions"
   ]
  },
  {
   "cell_type": "code",
   "execution_count": 9,
   "metadata": {
    "execution": {
     "iopub.execute_input": "2022-09-13T16:40:01.849647Z",
     "iopub.status.busy": "2022-09-13T16:40:01.849429Z",
     "iopub.status.idle": "2022-09-13T16:40:01.858734Z",
     "shell.execute_reply": "2022-09-13T16:40:01.857967Z"
    }
   },
   "outputs": [],
   "source": [
    "def get_feature_stats(df_features, df_labels_, labels=[\"Amino-acid transport\", \"Sugar transport\"]):\n",
    "    df_stats = pd.concat(\n",
    "        {\n",
    "            \"corr\": df_features.corrwith(\n",
    "                df_labels_.labels.transform(lambda x: 1.0 if x == labels[1] else 0.0)\n",
    "            ),\n",
    "            \"mean\": df_features.mean(),\n",
    "            \"std\": df_features.std(),\n",
    "        },\n",
    "        axis=1,\n",
    "    )\n",
    "\n",
    "    df_stats[\"corr_abs\"] = df_stats[\"corr\"].abs()\n",
    "\n",
    "    df_stats[\"mean0\"] = df_features.loc[df_labels_[df_labels_.labels == labels[0]].index].mean()\n",
    "    df_stats[\"mean1\"] = df_features.loc[df_labels_[df_labels_.labels == labels[1]].index].mean()\n",
    "\n",
    "    df_stats[\"median0\"] = df_features.loc[\n",
    "        df_labels_[df_labels_.labels == labels[0]].index\n",
    "    ].median()\n",
    "    df_stats[\"median1\"] = df_features.loc[\n",
    "        df_labels_[df_labels_.labels == labels[1]].index\n",
    "    ].median()\n",
    "\n",
    "    df_stats[\"mediandiff\"] = (df_stats[\"median0\"] - df_stats[\"median1\"]).abs()\n",
    "    df_stats = df_stats.sort_values(\"mediandiff\", ascending=False)\n",
    "    return df_stats"
   ]
  },
  {
   "cell_type": "code",
   "execution_count": 10,
   "metadata": {
    "execution": {
     "iopub.execute_input": "2022-09-13T16:40:01.862896Z",
     "iopub.status.busy": "2022-09-13T16:40:01.862641Z",
     "iopub.status.idle": "2022-09-13T16:40:01.870246Z",
     "shell.execute_reply": "2022-09-13T16:40:01.869301Z"
    }
   },
   "outputs": [],
   "source": [
    "def get_independent_test_set(\n",
    "    df_features, df_labels_, labels=[\"Amino-acid transport\", \"Sugar transport\"], test_size=0.2\n",
    "):\n",
    "    X = df_features.to_numpy()\n",
    "    y = np.where(df_labels_.labels == labels[1], 1, 0)\n",
    "    feature_names = df_features.columns.to_numpy()\n",
    "    sample_names = df_features.index.to_numpy()\n",
    "    (\n",
    "        X_train,\n",
    "        X_test,\n",
    "        y_train,\n",
    "        y_test,\n",
    "        sample_names_train,\n",
    "        sample_names_test,\n",
    "    ) = train_test_split(\n",
    "        X, y, sample_names, stratify=y, random_state=42, shuffle=True, test_size=test_size\n",
    "    )\n",
    "    return (\n",
    "        X_train,\n",
    "        X_test,\n",
    "        y_train,\n",
    "        y_test,\n",
    "        sample_names_train,\n",
    "        sample_names_test,\n",
    "        feature_names,\n",
    "    )\n"
   ]
  },
  {
   "cell_type": "code",
   "execution_count": 11,
   "metadata": {
    "execution": {
     "iopub.execute_input": "2022-09-13T16:40:01.874306Z",
     "iopub.status.busy": "2022-09-13T16:40:01.873988Z",
     "iopub.status.idle": "2022-09-13T16:40:01.880594Z",
     "shell.execute_reply": "2022-09-13T16:40:01.879690Z"
    }
   },
   "outputs": [],
   "source": [
    "def print_validation_results(y_true_, y_pred_, labels = [\"Amino\", \"Sugar\"]):\n",
    "    report_dict = classification_report(y_true=y_true_, y_pred=y_pred_, output_dict=True)\n",
    "    report_dict = {\n",
    "        labels[0]: report_dict['0'],\n",
    "        labels[1]: report_dict['1'],\n",
    "        \"Macro\": report_dict[\"macro avg\"],\n",
    "        \"Weighted\": report_dict[\"weighted avg\"]\n",
    "    }\n",
    "    report_df = pd.DataFrame.from_dict(report_dict)\n",
    "    confusion_matrix_df = pd.DataFrame(\n",
    "        confusion_matrix(y_true_, y_pred_),\n",
    "        columns=labels,\n",
    "        index=labels,\n",
    "    )\n",
    "    return report_df, confusion_matrix_df"
   ]
  },
  {
   "cell_type": "markdown",
   "metadata": {},
   "source": [
    "# Individual Features"
   ]
  },
  {
   "cell_type": "markdown",
   "metadata": {},
   "source": [
    "## PAAC"
   ]
  },
  {
   "cell_type": "markdown",
   "metadata": {},
   "source": [
    "### Stats"
   ]
  },
  {
   "cell_type": "code",
   "execution_count": 12,
   "metadata": {
    "execution": {
     "iopub.execute_input": "2022-09-13T16:40:01.884715Z",
     "iopub.status.busy": "2022-09-13T16:40:01.884462Z",
     "iopub.status.idle": "2022-09-13T16:40:02.073455Z",
     "shell.execute_reply": "2022-09-13T16:40:02.072564Z"
    }
   },
   "outputs": [
    {
     "data": {
      "text/html": [
       "<div>\n",
       "<style scoped>\n",
       "    .dataframe tbody tr th:only-of-type {\n",
       "        vertical-align: middle;\n",
       "    }\n",
       "\n",
       "    .dataframe tbody tr th {\n",
       "        vertical-align: top;\n",
       "    }\n",
       "\n",
       "    .dataframe thead th {\n",
       "        text-align: right;\n",
       "    }\n",
       "</style>\n",
       "<table border=\"1\" class=\"dataframe\">\n",
       "  <thead>\n",
       "    <tr style=\"text-align: right;\">\n",
       "      <th></th>\n",
       "      <th>corr</th>\n",
       "      <th>mean</th>\n",
       "      <th>std</th>\n",
       "      <th>corr_abs</th>\n",
       "      <th>mean0</th>\n",
       "      <th>mean1</th>\n",
       "      <th>median0</th>\n",
       "      <th>median1</th>\n",
       "      <th>mediandiff</th>\n",
       "    </tr>\n",
       "  </thead>\n",
       "  <tbody>\n",
       "    <tr>\n",
       "      <th>FL</th>\n",
       "      <td>0.393504</td>\n",
       "      <td>0.008660</td>\n",
       "      <td>0.004984</td>\n",
       "      <td>0.393504</td>\n",
       "      <td>0.005545</td>\n",
       "      <td>0.009884</td>\n",
       "      <td>0.005464</td>\n",
       "      <td>0.009072</td>\n",
       "      <td>0.003607</td>\n",
       "    </tr>\n",
       "    <tr>\n",
       "      <th>LF</th>\n",
       "      <td>0.302802</td>\n",
       "      <td>0.008633</td>\n",
       "      <td>0.004697</td>\n",
       "      <td>0.302802</td>\n",
       "      <td>0.006374</td>\n",
       "      <td>0.009521</td>\n",
       "      <td>0.005792</td>\n",
       "      <td>0.008889</td>\n",
       "      <td>0.003098</td>\n",
       "    </tr>\n",
       "    <tr>\n",
       "      <th>LP</th>\n",
       "      <td>-0.372488</td>\n",
       "      <td>0.005226</td>\n",
       "      <td>0.002930</td>\n",
       "      <td>0.372488</td>\n",
       "      <td>0.006960</td>\n",
       "      <td>0.004545</td>\n",
       "      <td>0.007042</td>\n",
       "      <td>0.004193</td>\n",
       "      <td>0.002849</td>\n",
       "    </tr>\n",
       "    <tr>\n",
       "      <th>FG</th>\n",
       "      <td>-0.141151</td>\n",
       "      <td>0.007673</td>\n",
       "      <td>0.003893</td>\n",
       "      <td>0.141151</td>\n",
       "      <td>0.008546</td>\n",
       "      <td>0.007330</td>\n",
       "      <td>0.008949</td>\n",
       "      <td>0.006237</td>\n",
       "      <td>0.002712</td>\n",
       "    </tr>\n",
       "    <tr>\n",
       "      <th>TA</th>\n",
       "      <td>-0.164300</td>\n",
       "      <td>0.004614</td>\n",
       "      <td>0.003540</td>\n",
       "      <td>0.164300</td>\n",
       "      <td>0.005538</td>\n",
       "      <td>0.004251</td>\n",
       "      <td>0.006263</td>\n",
       "      <td>0.003630</td>\n",
       "      <td>0.002633</td>\n",
       "    </tr>\n",
       "    <tr>\n",
       "      <th>VS</th>\n",
       "      <td>0.275030</td>\n",
       "      <td>0.007755</td>\n",
       "      <td>0.004163</td>\n",
       "      <td>0.275030</td>\n",
       "      <td>0.005936</td>\n",
       "      <td>0.008469</td>\n",
       "      <td>0.005792</td>\n",
       "      <td>0.008288</td>\n",
       "      <td>0.002496</td>\n",
       "    </tr>\n",
       "    <tr>\n",
       "      <th>PS</th>\n",
       "      <td>-0.275323</td>\n",
       "      <td>0.003287</td>\n",
       "      <td>0.003025</td>\n",
       "      <td>0.275323</td>\n",
       "      <td>0.004610</td>\n",
       "      <td>0.002767</td>\n",
       "      <td>0.004556</td>\n",
       "      <td>0.002119</td>\n",
       "      <td>0.002436</td>\n",
       "    </tr>\n",
       "    <tr>\n",
       "      <th>YT</th>\n",
       "      <td>-0.320678</td>\n",
       "      <td>0.001938</td>\n",
       "      <td>0.002287</td>\n",
       "      <td>0.320678</td>\n",
       "      <td>0.003103</td>\n",
       "      <td>0.001481</td>\n",
       "      <td>0.002347</td>\n",
       "      <td>0.000000</td>\n",
       "      <td>0.002347</td>\n",
       "    </tr>\n",
       "    <tr>\n",
       "      <th>SY</th>\n",
       "      <td>-0.290847</td>\n",
       "      <td>0.003100</td>\n",
       "      <td>0.002666</td>\n",
       "      <td>0.290847</td>\n",
       "      <td>0.004332</td>\n",
       "      <td>0.002616</td>\n",
       "      <td>0.004357</td>\n",
       "      <td>0.002033</td>\n",
       "      <td>0.002325</td>\n",
       "    </tr>\n",
       "    <tr>\n",
       "      <th>IV</th>\n",
       "      <td>-0.206625</td>\n",
       "      <td>0.006337</td>\n",
       "      <td>0.003726</td>\n",
       "      <td>0.206625</td>\n",
       "      <td>0.007560</td>\n",
       "      <td>0.005856</td>\n",
       "      <td>0.007767</td>\n",
       "      <td>0.005443</td>\n",
       "      <td>0.002324</td>\n",
       "    </tr>\n",
       "  </tbody>\n",
       "</table>\n",
       "</div>"
      ],
      "text/plain": [
       "        corr      mean       std  corr_abs     mean0     mean1   median0  \\\n",
       "FL  0.393504  0.008660  0.004984  0.393504  0.005545  0.009884  0.005464   \n",
       "LF  0.302802  0.008633  0.004697  0.302802  0.006374  0.009521  0.005792   \n",
       "LP -0.372488  0.005226  0.002930  0.372488  0.006960  0.004545  0.007042   \n",
       "FG -0.141151  0.007673  0.003893  0.141151  0.008546  0.007330  0.008949   \n",
       "TA -0.164300  0.004614  0.003540  0.164300  0.005538  0.004251  0.006263   \n",
       "VS  0.275030  0.007755  0.004163  0.275030  0.005936  0.008469  0.005792   \n",
       "PS -0.275323  0.003287  0.003025  0.275323  0.004610  0.002767  0.004556   \n",
       "YT -0.320678  0.001938  0.002287  0.320678  0.003103  0.001481  0.002347   \n",
       "SY -0.290847  0.003100  0.002666  0.290847  0.004332  0.002616  0.004357   \n",
       "IV -0.206625  0.006337  0.003726  0.206625  0.007560  0.005856  0.007767   \n",
       "\n",
       "     median1  mediandiff  \n",
       "FL  0.009072    0.003607  \n",
       "LF  0.008889    0.003098  \n",
       "LP  0.004193    0.002849  \n",
       "FG  0.006237    0.002712  \n",
       "TA  0.003630    0.002633  \n",
       "VS  0.008288    0.002496  \n",
       "PS  0.002119    0.002436  \n",
       "YT  0.000000    0.002347  \n",
       "SY  0.002033    0.002325  \n",
       "IV  0.005443    0.002324  "
      ]
     },
     "metadata": {},
     "output_type": "display_data"
    },
    {
     "data": {
      "text/html": [
       "<div>\n",
       "<style scoped>\n",
       "    .dataframe tbody tr th:only-of-type {\n",
       "        vertical-align: middle;\n",
       "    }\n",
       "\n",
       "    .dataframe tbody tr th {\n",
       "        vertical-align: top;\n",
       "    }\n",
       "\n",
       "    .dataframe thead th {\n",
       "        text-align: right;\n",
       "    }\n",
       "</style>\n",
       "<table border=\"1\" class=\"dataframe\">\n",
       "  <thead>\n",
       "    <tr style=\"text-align: right;\">\n",
       "      <th></th>\n",
       "      <th>corr</th>\n",
       "      <th>mean</th>\n",
       "      <th>std</th>\n",
       "      <th>corr_abs</th>\n",
       "      <th>mean0</th>\n",
       "      <th>mean1</th>\n",
       "      <th>median0</th>\n",
       "      <th>median1</th>\n",
       "      <th>mediandiff</th>\n",
       "    </tr>\n",
       "  </thead>\n",
       "  <tbody>\n",
       "    <tr>\n",
       "      <th>FL</th>\n",
       "      <td>0.393504</td>\n",
       "      <td>0.008660</td>\n",
       "      <td>0.004984</td>\n",
       "      <td>0.393504</td>\n",
       "      <td>0.005545</td>\n",
       "      <td>0.009884</td>\n",
       "      <td>0.005464</td>\n",
       "      <td>0.009072</td>\n",
       "      <td>0.003607</td>\n",
       "    </tr>\n",
       "    <tr>\n",
       "      <th>LF</th>\n",
       "      <td>0.302802</td>\n",
       "      <td>0.008633</td>\n",
       "      <td>0.004697</td>\n",
       "      <td>0.302802</td>\n",
       "      <td>0.006374</td>\n",
       "      <td>0.009521</td>\n",
       "      <td>0.005792</td>\n",
       "      <td>0.008889</td>\n",
       "      <td>0.003098</td>\n",
       "    </tr>\n",
       "    <tr>\n",
       "      <th>VS</th>\n",
       "      <td>0.275030</td>\n",
       "      <td>0.007755</td>\n",
       "      <td>0.004163</td>\n",
       "      <td>0.275030</td>\n",
       "      <td>0.005936</td>\n",
       "      <td>0.008469</td>\n",
       "      <td>0.005792</td>\n",
       "      <td>0.008288</td>\n",
       "      <td>0.002496</td>\n",
       "    </tr>\n",
       "    <tr>\n",
       "      <th>FG</th>\n",
       "      <td>-0.141151</td>\n",
       "      <td>0.007673</td>\n",
       "      <td>0.003893</td>\n",
       "      <td>0.141151</td>\n",
       "      <td>0.008546</td>\n",
       "      <td>0.007330</td>\n",
       "      <td>0.008949</td>\n",
       "      <td>0.006237</td>\n",
       "      <td>0.002712</td>\n",
       "    </tr>\n",
       "    <tr>\n",
       "      <th>TA</th>\n",
       "      <td>-0.164300</td>\n",
       "      <td>0.004614</td>\n",
       "      <td>0.003540</td>\n",
       "      <td>0.164300</td>\n",
       "      <td>0.005538</td>\n",
       "      <td>0.004251</td>\n",
       "      <td>0.006263</td>\n",
       "      <td>0.003630</td>\n",
       "      <td>0.002633</td>\n",
       "    </tr>\n",
       "    <tr>\n",
       "      <th>IV</th>\n",
       "      <td>-0.206625</td>\n",
       "      <td>0.006337</td>\n",
       "      <td>0.003726</td>\n",
       "      <td>0.206625</td>\n",
       "      <td>0.007560</td>\n",
       "      <td>0.005856</td>\n",
       "      <td>0.007767</td>\n",
       "      <td>0.005443</td>\n",
       "      <td>0.002324</td>\n",
       "    </tr>\n",
       "    <tr>\n",
       "      <th>PS</th>\n",
       "      <td>-0.275323</td>\n",
       "      <td>0.003287</td>\n",
       "      <td>0.003025</td>\n",
       "      <td>0.275323</td>\n",
       "      <td>0.004610</td>\n",
       "      <td>0.002767</td>\n",
       "      <td>0.004556</td>\n",
       "      <td>0.002119</td>\n",
       "      <td>0.002436</td>\n",
       "    </tr>\n",
       "    <tr>\n",
       "      <th>SY</th>\n",
       "      <td>-0.290847</td>\n",
       "      <td>0.003100</td>\n",
       "      <td>0.002666</td>\n",
       "      <td>0.290847</td>\n",
       "      <td>0.004332</td>\n",
       "      <td>0.002616</td>\n",
       "      <td>0.004357</td>\n",
       "      <td>0.002033</td>\n",
       "      <td>0.002325</td>\n",
       "    </tr>\n",
       "    <tr>\n",
       "      <th>YT</th>\n",
       "      <td>-0.320678</td>\n",
       "      <td>0.001938</td>\n",
       "      <td>0.002287</td>\n",
       "      <td>0.320678</td>\n",
       "      <td>0.003103</td>\n",
       "      <td>0.001481</td>\n",
       "      <td>0.002347</td>\n",
       "      <td>0.000000</td>\n",
       "      <td>0.002347</td>\n",
       "    </tr>\n",
       "    <tr>\n",
       "      <th>LP</th>\n",
       "      <td>-0.372488</td>\n",
       "      <td>0.005226</td>\n",
       "      <td>0.002930</td>\n",
       "      <td>0.372488</td>\n",
       "      <td>0.006960</td>\n",
       "      <td>0.004545</td>\n",
       "      <td>0.007042</td>\n",
       "      <td>0.004193</td>\n",
       "      <td>0.002849</td>\n",
       "    </tr>\n",
       "  </tbody>\n",
       "</table>\n",
       "</div>"
      ],
      "text/plain": [
       "        corr      mean       std  corr_abs     mean0     mean1   median0  \\\n",
       "FL  0.393504  0.008660  0.004984  0.393504  0.005545  0.009884  0.005464   \n",
       "LF  0.302802  0.008633  0.004697  0.302802  0.006374  0.009521  0.005792   \n",
       "VS  0.275030  0.007755  0.004163  0.275030  0.005936  0.008469  0.005792   \n",
       "FG -0.141151  0.007673  0.003893  0.141151  0.008546  0.007330  0.008949   \n",
       "TA -0.164300  0.004614  0.003540  0.164300  0.005538  0.004251  0.006263   \n",
       "IV -0.206625  0.006337  0.003726  0.206625  0.007560  0.005856  0.007767   \n",
       "PS -0.275323  0.003287  0.003025  0.275323  0.004610  0.002767  0.004556   \n",
       "SY -0.290847  0.003100  0.002666  0.290847  0.004332  0.002616  0.004357   \n",
       "YT -0.320678  0.001938  0.002287  0.320678  0.003103  0.001481  0.002347   \n",
       "LP -0.372488  0.005226  0.002930  0.372488  0.006960  0.004545  0.007042   \n",
       "\n",
       "     median1  mediandiff  \n",
       "FL  0.009072    0.003607  \n",
       "LF  0.008889    0.003098  \n",
       "VS  0.008288    0.002496  \n",
       "FG  0.006237    0.002712  \n",
       "TA  0.003630    0.002633  \n",
       "IV  0.005443    0.002324  \n",
       "PS  0.002119    0.002436  \n",
       "SY  0.002033    0.002325  \n",
       "YT  0.000000    0.002347  \n",
       "LP  0.004193    0.002849  "
      ]
     },
     "metadata": {},
     "output_type": "display_data"
    }
   ],
   "source": [
    "df_stats = get_feature_stats(df_paac, df_labels).head(10)\n",
    "# 10 best features\n",
    "display(df_stats.head(10))\n",
    "\n",
    "display(df_stats.sort_values(\"corr\", ascending=False))"
   ]
  },
  {
   "cell_type": "markdown",
   "metadata": {},
   "source": [
    "### Independent test set"
   ]
  },
  {
   "cell_type": "code",
   "execution_count": 13,
   "metadata": {
    "execution": {
     "iopub.execute_input": "2022-09-13T16:40:02.078162Z",
     "iopub.status.busy": "2022-09-13T16:40:02.077865Z",
     "iopub.status.idle": "2022-09-13T16:40:02.084818Z",
     "shell.execute_reply": "2022-09-13T16:40:02.083808Z"
    }
   },
   "outputs": [],
   "source": [
    "(\n",
    "    X_train,\n",
    "    X_test,\n",
    "    y_train,\n",
    "    y_test,\n",
    "    sample_names_train,\n",
    "    sample_names_test,\n",
    "    feature_names,\n",
    ") = get_independent_test_set(df_paac, df_labels)"
   ]
  },
  {
   "cell_type": "markdown",
   "metadata": {},
   "source": [
    "### Model selection"
   ]
  },
  {
   "cell_type": "code",
   "execution_count": 14,
   "metadata": {
    "execution": {
     "iopub.execute_input": "2022-09-13T16:40:02.088958Z",
     "iopub.status.busy": "2022-09-13T16:40:02.088615Z",
     "iopub.status.idle": "2022-09-13T16:40:02.823090Z",
     "shell.execute_reply": "2022-09-13T16:40:02.822706Z"
    }
   },
   "outputs": [
    {
     "name": "stdout",
     "output_type": "stream",
     "text": [
      "###  LinearSVC\n",
      "CV folds: [0.424 0.424 0.406 0.419 0.419]\n",
      "Mean: 0.419\n",
      "Std: 0.007\n",
      "###  SVC\n",
      "CV folds: [0.424 0.424 0.406 0.419 0.419]\n",
      "Mean: 0.419\n",
      "Std: 0.007\n",
      "###  GaussianNB\n",
      "CV folds: [0.729 0.842 0.708 0.862 0.518]\n",
      "Mean: 0.731\n",
      "Std: 0.123\n",
      "###  KNeighborsClassifier\n",
      "CV folds: [0.864 0.636 0.808 0.862 0.926]\n",
      "Mean: 0.819\n",
      "Std: 0.099\n",
      "###  RandomForestClassifier\n",
      "CV folds: [0.604 0.424 0.683 0.6   0.419]\n",
      "Mean: 0.546\n",
      "Std: 0.106\n",
      "###  SGDClassifier\n",
      "CV folds: [0.208 0.424 0.406 0.419 0.217]\n",
      "Mean: 0.335\n",
      "Std: 0.1\n"
     ]
    }
   ],
   "source": [
    "for estimator in [LinearSVC(random_state=0), SVC(), GaussianNB(), KNeighborsClassifier(), RandomForestClassifier(random_state=0), SGDClassifier(random_state=0)]:\n",
    "    pipe = make_pipeline(StandardScaler(), estimator)\n",
    "    scores = cross_val_score(estimator, X_train, y_train, scoring=\"f1_macro\")\n",
    "    print(\"### \",type(estimator).__name__)\n",
    "    print(f\"CV folds: {scores.round(3)}\")\n",
    "    print(f\"Mean: {scores.mean().round(3)}\")\n",
    "    print(f\"Std: {scores.std().round(3)}\")"
   ]
  },
  {
   "cell_type": "markdown",
   "metadata": {},
   "source": [
    "### Hyperparameters"
   ]
  },
  {
   "cell_type": "code",
   "execution_count": 15,
   "metadata": {
    "execution": {
     "iopub.execute_input": "2022-09-13T16:40:02.827896Z",
     "iopub.status.busy": "2022-09-13T16:40:02.827612Z",
     "iopub.status.idle": "2022-09-13T16:40:05.822840Z",
     "shell.execute_reply": "2022-09-13T16:40:05.821922Z"
    }
   },
   "outputs": [
    {
     "name": "stdout",
     "output_type": "stream",
     "text": [
      "{'kneighborsclassifier__metric': 'manhattan', 'kneighborsclassifier__n_neighbors': 4, 'kneighborsclassifier__weights': 'distance'}\n",
      "0.9138533114395184\n"
     ]
    }
   ],
   "source": [
    "params = {\n",
    "    \"kneighborsclassifier__n_neighbors\": list(range(3,10)),\n",
    "    \"kneighborsclassifier__weights\": [\"uniform\", \"distance\"],\n",
    "    \"kneighborsclassifier__metric\": [\"minkowski\", \"euclidean\", \"manhattan\"],\n",
    "}\n",
    "gsearch = GridSearchCV(\n",
    "    make_pipeline(StandardScaler(), KNeighborsClassifier()),\n",
    "    param_grid=params,\n",
    "    cv=5,\n",
    "    scoring=\"f1_macro\",\n",
    "    n_jobs=-1,\n",
    "    return_train_score=True,\n",
    ")\n",
    "gsearch.fit(X_train, y_train)\n",
    "print(gsearch.best_params_)\n",
    "print(gsearch.best_score_)\n",
    "best_estimator_knn = gsearch.best_estimator_\n"
   ]
  },
  {
   "cell_type": "markdown",
   "metadata": {},
   "source": [
    "### Dimensionality reduction"
   ]
  },
  {
   "cell_type": "code",
   "execution_count": 16,
   "metadata": {
    "execution": {
     "iopub.execute_input": "2022-09-13T16:40:05.825878Z",
     "iopub.status.busy": "2022-09-13T16:40:05.825532Z",
     "iopub.status.idle": "2022-09-13T16:40:51.932109Z",
     "shell.execute_reply": "2022-09-13T16:40:51.931163Z"
    }
   },
   "outputs": [
    {
     "name": "stdout",
     "output_type": "stream",
     "text": [
      "{'kbest__k': 266, 'knn__metric': 'manhattan', 'knn__n_neighbors': 3, 'knn__weights': 'uniform'}\n",
      "0.953\n"
     ]
    }
   ],
   "source": [
    "gsearch = GridSearchCV(\n",
    "    estimator=Pipeline(\n",
    "        [\n",
    "            (\"scale\", StandardScaler()),\n",
    "            (\"kbest\", SelectKBest()),\n",
    "            (\"scale2\", StandardScaler()),\n",
    "            (\"knn\", KNeighborsClassifier()),\n",
    "        ]\n",
    "    ),\n",
    "    param_grid={\n",
    "        \"knn__n_neighbors\": list(range(3, 6)),\n",
    "        \"knn__weights\": [\"uniform\", \"distance\"],\n",
    "        \"knn__metric\": [\"minkowski\", \"euclidean\", \"manhattan\"],\n",
    "        \"kbest__k\": list(range(1, 400)),\n",
    "    },\n",
    "    cv=5,\n",
    "    scoring=\"f1_macro\",\n",
    "    n_jobs=-1,\n",
    "    return_train_score=True,\n",
    ")\n",
    "gsearch.fit(X_train, y_train)\n",
    "print(gsearch.best_params_)\n",
    "print(gsearch.best_score_.round(3))\n",
    "best_estimator_knn_kbest = gsearch.best_estimator_"
   ]
  },
  {
   "cell_type": "code",
   "execution_count": 17,
   "metadata": {
    "execution": {
     "iopub.execute_input": "2022-09-13T16:40:51.936581Z",
     "iopub.status.busy": "2022-09-13T16:40:51.936415Z",
     "iopub.status.idle": "2022-09-13T16:40:54.792826Z",
     "shell.execute_reply": "2022-09-13T16:40:54.791432Z"
    }
   },
   "outputs": [
    {
     "name": "stdout",
     "output_type": "stream",
     "text": [
      "Number of components to explain 95% variance: 71\n",
      "{'knn__metric': 'manhattan', 'knn__n_neighbors': 4, 'knn__weights': 'uniform', 'pca__n_components': 0.97}\n",
      "0.89\n"
     ]
    }
   ],
   "source": [
    "pca = PCA()\n",
    "pca.fit(X_train)\n",
    "csum = np.cumsum(pca.explained_variance_ratio_)\n",
    "print(\"Number of components to explain 95% variance:\", np.argmax(csum >= 0.95) + 1)\n",
    "\n",
    "gsearch = GridSearchCV(\n",
    "    estimator=Pipeline(\n",
    "        [\n",
    "            (\"scale\", StandardScaler()),\n",
    "            (\"pca\", PCA()),\n",
    "            (\"scale2\", StandardScaler()),\n",
    "            (\"knn\", KNeighborsClassifier()),\n",
    "        ]\n",
    "    ),\n",
    "    param_grid={\n",
    "        \"knn__n_neighbors\": list(range(3, 6)),\n",
    "        \"knn__weights\": [\"uniform\", \"distance\"],\n",
    "        \"knn__metric\": [\"minkowski\", \"euclidean\", \"manhattan\"],\n",
    "        \"pca__n_components\": np.linspace(0.8, 0.99, 20),\n",
    "    },\n",
    "    cv=5,\n",
    "    scoring=\"f1_macro\",\n",
    "    n_jobs=-1,\n",
    "    return_train_score=True,\n",
    ")\n",
    "gsearch.fit(X_train, y_train)\n",
    "print(gsearch.best_params_)\n",
    "print(gsearch.best_score_.round(3))\n",
    "best_estimator_knn_pca = gsearch.best_estimator_\n"
   ]
  },
  {
   "cell_type": "markdown",
   "metadata": {},
   "source": [
    "### Validation"
   ]
  },
  {
   "cell_type": "code",
   "execution_count": 18,
   "metadata": {
    "execution": {
     "iopub.execute_input": "2022-09-13T16:40:54.799171Z",
     "iopub.status.busy": "2022-09-13T16:40:54.797885Z",
     "iopub.status.idle": "2022-09-13T16:40:54.804429Z",
     "shell.execute_reply": "2022-09-13T16:40:54.803255Z"
    }
   },
   "outputs": [],
   "source": [
    "best_estimator = best_estimator_knn_kbest"
   ]
  },
  {
   "cell_type": "code",
   "execution_count": 19,
   "metadata": {
    "execution": {
     "iopub.execute_input": "2022-09-13T16:40:54.810111Z",
     "iopub.status.busy": "2022-09-13T16:40:54.809401Z",
     "iopub.status.idle": "2022-09-13T16:40:54.926793Z",
     "shell.execute_reply": "2022-09-13T16:40:54.926178Z"
    }
   },
   "outputs": [
    {
     "name": "stdout",
     "output_type": "stream",
     "text": [
      "Train scores: 0.953+-0.064\n"
     ]
    },
    {
     "data": {
      "text/html": [
       "<div>\n",
       "<style scoped>\n",
       "    .dataframe tbody tr th:only-of-type {\n",
       "        vertical-align: middle;\n",
       "    }\n",
       "\n",
       "    .dataframe tbody tr th {\n",
       "        vertical-align: top;\n",
       "    }\n",
       "\n",
       "    .dataframe thead th {\n",
       "        text-align: right;\n",
       "    }\n",
       "</style>\n",
       "<table border=\"1\" class=\"dataframe\">\n",
       "  <thead>\n",
       "    <tr style=\"text-align: right;\">\n",
       "      <th></th>\n",
       "      <th>Amino</th>\n",
       "      <th>Sugar</th>\n",
       "      <th>Macro</th>\n",
       "      <th>Weighted</th>\n",
       "    </tr>\n",
       "  </thead>\n",
       "  <tbody>\n",
       "    <tr>\n",
       "      <th>precision</th>\n",
       "      <td>1.000</td>\n",
       "      <td>0.944</td>\n",
       "      <td>0.972</td>\n",
       "      <td>0.961</td>\n",
       "    </tr>\n",
       "    <tr>\n",
       "      <th>recall</th>\n",
       "      <td>0.857</td>\n",
       "      <td>1.000</td>\n",
       "      <td>0.929</td>\n",
       "      <td>0.958</td>\n",
       "    </tr>\n",
       "    <tr>\n",
       "      <th>f1-score</th>\n",
       "      <td>0.923</td>\n",
       "      <td>0.971</td>\n",
       "      <td>0.947</td>\n",
       "      <td>0.957</td>\n",
       "    </tr>\n",
       "    <tr>\n",
       "      <th>support</th>\n",
       "      <td>7.000</td>\n",
       "      <td>17.000</td>\n",
       "      <td>24.000</td>\n",
       "      <td>24.000</td>\n",
       "    </tr>\n",
       "  </tbody>\n",
       "</table>\n",
       "</div>"
      ],
      "text/plain": [
       "           Amino   Sugar   Macro  Weighted\n",
       "precision  1.000   0.944   0.972     0.961\n",
       "recall     0.857   1.000   0.929     0.958\n",
       "f1-score   0.923   0.971   0.947     0.957\n",
       "support    7.000  17.000  24.000    24.000"
      ]
     },
     "metadata": {},
     "output_type": "display_data"
    },
    {
     "data": {
      "text/html": [
       "<div>\n",
       "<style scoped>\n",
       "    .dataframe tbody tr th:only-of-type {\n",
       "        vertical-align: middle;\n",
       "    }\n",
       "\n",
       "    .dataframe tbody tr th {\n",
       "        vertical-align: top;\n",
       "    }\n",
       "\n",
       "    .dataframe thead th {\n",
       "        text-align: right;\n",
       "    }\n",
       "</style>\n",
       "<table border=\"1\" class=\"dataframe\">\n",
       "  <thead>\n",
       "    <tr style=\"text-align: right;\">\n",
       "      <th></th>\n",
       "      <th>Amino</th>\n",
       "      <th>Sugar</th>\n",
       "    </tr>\n",
       "  </thead>\n",
       "  <tbody>\n",
       "    <tr>\n",
       "      <th>Amino</th>\n",
       "      <td>6</td>\n",
       "      <td>1</td>\n",
       "    </tr>\n",
       "    <tr>\n",
       "      <th>Sugar</th>\n",
       "      <td>0</td>\n",
       "      <td>17</td>\n",
       "    </tr>\n",
       "  </tbody>\n",
       "</table>\n",
       "</div>"
      ],
      "text/plain": [
       "       Amino  Sugar\n",
       "Amino      6      1\n",
       "Sugar      0     17"
      ]
     },
     "metadata": {},
     "output_type": "display_data"
    }
   ],
   "source": [
    "best_scores = cross_val_score(\n",
    "    estimator=clone(best_estimator), X=X_train, y=y_train, scoring=\"f1_macro\"\n",
    ")\n",
    "print(f\"Train scores: {best_scores.mean().round(3)}+-{best_scores.std().round(3)}\")\n",
    "\n",
    "y_pred = best_estimator.predict(X_test)\n",
    "y_true = y_test.copy()\n",
    "\n",
    "report_df, confusion_matrix_df = print_validation_results(y_true, y_pred, labels=[\"Amino\", \"Sugar\"])\n",
    "display(report_df.round(3))\n",
    "display(confusion_matrix_df)"
   ]
  },
  {
   "cell_type": "code",
   "execution_count": null,
   "metadata": {},
   "outputs": [],
   "source": []
  }
 ],
 "metadata": {
  "kernelspec": {
   "display_name": "Python 3.9.12 ('subpred')",
   "language": "python",
   "name": "python3"
  },
  "language_info": {
   "codemirror_mode": {
    "name": "ipython",
    "version": 3
   },
   "file_extension": ".py",
   "mimetype": "text/x-python",
   "name": "python",
   "nbconvert_exporter": "python",
   "pygments_lexer": "ipython3",
   "version": "3.9.12"
  },
  "vscode": {
   "interpreter": {
    "hash": "7d9587acfc26b94842e9ed1391c37acbb1c055ffb7f48359e727081012dc2cc7"
   }
  }
 },
 "nbformat": 4,
 "nbformat_minor": 2
}
