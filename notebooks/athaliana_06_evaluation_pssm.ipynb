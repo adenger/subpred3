{
 "cells": [
  {
   "cell_type": "markdown",
   "metadata": {},
   "source": [
    "# Feature performance comparison\n",
    "\n",
    "The purpose of this notebook is to compare the classification performance of the individual features, and their combination, for A. Thaliana"
   ]
  },
  {
   "cell_type": "markdown",
   "metadata": {},
   "source": [
    "# Imports"
   ]
  },
  {
   "cell_type": "code",
   "execution_count": 1,
   "metadata": {
    "execution": {
     "iopub.execute_input": "2022-07-15T13:44:42.525528Z",
     "iopub.status.busy": "2022-07-15T13:44:42.524990Z",
     "iopub.status.idle": "2022-07-15T13:44:43.750593Z",
     "shell.execute_reply": "2022-07-15T13:44:43.749959Z"
    }
   },
   "outputs": [],
   "source": [
    "from subpred.transporter_dataset import create_dataset\n",
    "from subpred.eval import (\n",
    "    get_independent_test_set,\n",
    "    optimize_hyperparams,\n",
    "    preprocess_pandas,\n",
    "    models_quick_compare,\n",
    "    get_confusion_matrix,\n",
    "    get_classification_report,\n",
    "    full_test,\n",
    "    quick_test\n",
    ")\n",
    "from subpred.plots import pca_plot_2d, pca_plot_3d\n",
    "from subpred.util import get_feature_score\n",
    "from subpred.pssm import calculate_pssms_notebook\n",
    "import pandas as pd\n",
    "import seaborn as sns"
   ]
  },
  {
   "cell_type": "markdown",
   "metadata": {},
   "source": [
    "# Dataset"
   ]
  },
  {
   "cell_type": "code",
   "execution_count": 2,
   "metadata": {
    "execution": {
     "iopub.execute_input": "2022-07-15T13:44:43.753147Z",
     "iopub.status.busy": "2022-07-15T13:44:43.752901Z",
     "iopub.status.idle": "2022-07-15T13:44:54.361900Z",
     "shell.execute_reply": "2022-07-15T13:44:54.360797Z"
    }
   },
   "outputs": [
    {
     "name": "stdout",
     "output_type": "stream",
     "text": [
      "cd-hit: clustered 165 sequences into 117 clusters at threshold 70\n"
     ]
    }
   ],
   "source": [
    "df = create_dataset(\n",
    "    keywords_substrate_filter=[\"Amino-acid transport\", \"Sugar transport\"],\n",
    "    keywords_component_filter=[\"Membrane\"],\n",
    "    keywords_transport_filter=[\"Transport\"],\n",
    "    input_file=\"../data/raw/swissprot/uniprot-reviewed_yes.tab.gz\",\n",
    "    multi_substrate=\"remove\",\n",
    "    outliers=[\"O81775\", \"Q9SW07\", \"Q9FHH5\", \"Q8S8A0\", \"Q3E965\", \"Q3EAV6\", \"Q3E8L0\"],\n",
    "    verbose=True,\n",
    "    tax_ids_filter=[3702],\n",
    "    output_log=\"../logs/athaliana_sugar_amino.log\",\n",
    "    sequence_clustering=70\n",
    ")"
   ]
  },
  {
   "cell_type": "markdown",
   "metadata": {},
   "source": [
    "# Feature generation"
   ]
  },
  {
   "cell_type": "code",
   "execution_count": 3,
   "metadata": {
    "execution": {
     "iopub.execute_input": "2022-07-15T13:44:54.406897Z",
     "iopub.status.busy": "2022-07-15T13:44:54.406477Z",
     "iopub.status.idle": "2022-07-15T13:44:54.422197Z",
     "shell.execute_reply": "2022-07-15T13:44:54.421523Z"
    }
   },
   "outputs": [
    {
     "data": {
      "text/plain": [
       "Sugar transport         84\n",
       "Amino-acid transport    33\n",
       "Name: keywords_transport, dtype: int64"
      ]
     },
     "execution_count": 3,
     "metadata": {},
     "output_type": "execute_result"
    }
   ],
   "source": [
    "labels = df.keywords_transport\n",
    "labels.value_counts()"
   ]
  },
  {
   "cell_type": "code",
   "execution_count": 4,
   "metadata": {
    "execution": {
     "iopub.execute_input": "2022-07-15T13:44:54.426303Z",
     "iopub.status.busy": "2022-07-15T13:44:54.425950Z",
     "iopub.status.idle": "2022-07-15T13:44:55.677045Z",
     "shell.execute_reply": "2022-07-15T13:44:55.676594Z"
    }
   },
   "outputs": [
    {
     "data": {
      "text/html": [
       "<div>\n",
       "<style scoped>\n",
       "    .dataframe tbody tr th:only-of-type {\n",
       "        vertical-align: middle;\n",
       "    }\n",
       "\n",
       "    .dataframe tbody tr th {\n",
       "        vertical-align: top;\n",
       "    }\n",
       "\n",
       "    .dataframe thead th {\n",
       "        text-align: right;\n",
       "    }\n",
       "</style>\n",
       "<table border=\"1\" class=\"dataframe\">\n",
       "  <thead>\n",
       "    <tr style=\"text-align: right;\">\n",
       "      <th></th>\n",
       "      <th>AA_50_1</th>\n",
       "      <th>AR_50_1</th>\n",
       "      <th>AN_50_1</th>\n",
       "      <th>AD_50_1</th>\n",
       "      <th>AC_50_1</th>\n",
       "      <th>AQ_50_1</th>\n",
       "      <th>AE_50_1</th>\n",
       "      <th>AG_50_1</th>\n",
       "      <th>AH_50_1</th>\n",
       "      <th>AI_50_1</th>\n",
       "      <th>...</th>\n",
       "      <th>VL_90_3</th>\n",
       "      <th>VK_90_3</th>\n",
       "      <th>VM_90_3</th>\n",
       "      <th>VF_90_3</th>\n",
       "      <th>VP_90_3</th>\n",
       "      <th>VS_90_3</th>\n",
       "      <th>VT_90_3</th>\n",
       "      <th>VW_90_3</th>\n",
       "      <th>VY_90_3</th>\n",
       "      <th>VV_90_3</th>\n",
       "    </tr>\n",
       "    <tr>\n",
       "      <th>Uniprot</th>\n",
       "      <th></th>\n",
       "      <th></th>\n",
       "      <th></th>\n",
       "      <th></th>\n",
       "      <th></th>\n",
       "      <th></th>\n",
       "      <th></th>\n",
       "      <th></th>\n",
       "      <th></th>\n",
       "      <th></th>\n",
       "      <th></th>\n",
       "      <th></th>\n",
       "      <th></th>\n",
       "      <th></th>\n",
       "      <th></th>\n",
       "      <th></th>\n",
       "      <th></th>\n",
       "      <th></th>\n",
       "      <th></th>\n",
       "      <th></th>\n",
       "      <th></th>\n",
       "    </tr>\n",
       "  </thead>\n",
       "  <tbody>\n",
       "    <tr>\n",
       "      <th>Q9SFG0</th>\n",
       "      <td>0.784223</td>\n",
       "      <td>0.252900</td>\n",
       "      <td>0.327146</td>\n",
       "      <td>0.238979</td>\n",
       "      <td>0.394432</td>\n",
       "      <td>0.350348</td>\n",
       "      <td>0.276102</td>\n",
       "      <td>0.545244</td>\n",
       "      <td>0.227378</td>\n",
       "      <td>0.317865</td>\n",
       "      <td>...</td>\n",
       "      <td>0.434307</td>\n",
       "      <td>0.381387</td>\n",
       "      <td>0.421533</td>\n",
       "      <td>0.578467</td>\n",
       "      <td>0.357664</td>\n",
       "      <td>0.390511</td>\n",
       "      <td>0.392336</td>\n",
       "      <td>0.512774</td>\n",
       "      <td>0.656934</td>\n",
       "      <td>0.417883</td>\n",
       "    </tr>\n",
       "    <tr>\n",
       "      <th>Q84WN3</th>\n",
       "      <td>0.664740</td>\n",
       "      <td>0.416185</td>\n",
       "      <td>0.462428</td>\n",
       "      <td>0.427746</td>\n",
       "      <td>0.624277</td>\n",
       "      <td>0.445087</td>\n",
       "      <td>0.456647</td>\n",
       "      <td>0.526012</td>\n",
       "      <td>0.479769</td>\n",
       "      <td>0.543353</td>\n",
       "      <td>...</td>\n",
       "      <td>0.383260</td>\n",
       "      <td>0.264317</td>\n",
       "      <td>0.374449</td>\n",
       "      <td>0.726872</td>\n",
       "      <td>0.215859</td>\n",
       "      <td>0.286344</td>\n",
       "      <td>0.312775</td>\n",
       "      <td>0.493392</td>\n",
       "      <td>0.982379</td>\n",
       "      <td>0.352423</td>\n",
       "    </tr>\n",
       "    <tr>\n",
       "      <th>O04249</th>\n",
       "      <td>0.735484</td>\n",
       "      <td>0.286022</td>\n",
       "      <td>0.352688</td>\n",
       "      <td>0.281720</td>\n",
       "      <td>0.479570</td>\n",
       "      <td>0.352688</td>\n",
       "      <td>0.318280</td>\n",
       "      <td>0.531183</td>\n",
       "      <td>0.279570</td>\n",
       "      <td>0.417204</td>\n",
       "      <td>...</td>\n",
       "      <td>0.476898</td>\n",
       "      <td>0.415842</td>\n",
       "      <td>0.471947</td>\n",
       "      <td>0.592409</td>\n",
       "      <td>0.387789</td>\n",
       "      <td>0.415842</td>\n",
       "      <td>0.422442</td>\n",
       "      <td>0.514851</td>\n",
       "      <td>0.702970</td>\n",
       "      <td>0.450495</td>\n",
       "    </tr>\n",
       "    <tr>\n",
       "      <th>Q56ZZ7</th>\n",
       "      <td>0.798913</td>\n",
       "      <td>0.173913</td>\n",
       "      <td>0.217391</td>\n",
       "      <td>0.153986</td>\n",
       "      <td>0.389493</td>\n",
       "      <td>0.251812</td>\n",
       "      <td>0.190217</td>\n",
       "      <td>0.481884</td>\n",
       "      <td>0.148551</td>\n",
       "      <td>0.367754</td>\n",
       "      <td>...</td>\n",
       "      <td>0.488636</td>\n",
       "      <td>0.433442</td>\n",
       "      <td>0.472403</td>\n",
       "      <td>0.608766</td>\n",
       "      <td>0.420455</td>\n",
       "      <td>0.461039</td>\n",
       "      <td>0.462662</td>\n",
       "      <td>0.514610</td>\n",
       "      <td>0.657468</td>\n",
       "      <td>0.470779</td>\n",
       "    </tr>\n",
       "    <tr>\n",
       "      <th>Q8H184</th>\n",
       "      <td>0.652482</td>\n",
       "      <td>0.308511</td>\n",
       "      <td>0.372340</td>\n",
       "      <td>0.269504</td>\n",
       "      <td>0.510638</td>\n",
       "      <td>0.365248</td>\n",
       "      <td>0.301418</td>\n",
       "      <td>0.457447</td>\n",
       "      <td>0.368794</td>\n",
       "      <td>0.425532</td>\n",
       "      <td>...</td>\n",
       "      <td>0.486772</td>\n",
       "      <td>0.391534</td>\n",
       "      <td>0.473545</td>\n",
       "      <td>0.595238</td>\n",
       "      <td>0.370370</td>\n",
       "      <td>0.417989</td>\n",
       "      <td>0.431217</td>\n",
       "      <td>0.505291</td>\n",
       "      <td>0.679894</td>\n",
       "      <td>0.473545</td>\n",
       "    </tr>\n",
       "    <tr>\n",
       "      <th>...</th>\n",
       "      <td>...</td>\n",
       "      <td>...</td>\n",
       "      <td>...</td>\n",
       "      <td>...</td>\n",
       "      <td>...</td>\n",
       "      <td>...</td>\n",
       "      <td>...</td>\n",
       "      <td>...</td>\n",
       "      <td>...</td>\n",
       "      <td>...</td>\n",
       "      <td>...</td>\n",
       "      <td>...</td>\n",
       "      <td>...</td>\n",
       "      <td>...</td>\n",
       "      <td>...</td>\n",
       "      <td>...</td>\n",
       "      <td>...</td>\n",
       "      <td>...</td>\n",
       "      <td>...</td>\n",
       "      <td>...</td>\n",
       "      <td>...</td>\n",
       "    </tr>\n",
       "    <tr>\n",
       "      <th>Q94B65</th>\n",
       "      <td>0.814126</td>\n",
       "      <td>0.304833</td>\n",
       "      <td>0.408922</td>\n",
       "      <td>0.271375</td>\n",
       "      <td>0.579926</td>\n",
       "      <td>0.408922</td>\n",
       "      <td>0.349442</td>\n",
       "      <td>0.516729</td>\n",
       "      <td>0.334572</td>\n",
       "      <td>0.539033</td>\n",
       "      <td>...</td>\n",
       "      <td>0.542056</td>\n",
       "      <td>0.489097</td>\n",
       "      <td>0.529595</td>\n",
       "      <td>0.716511</td>\n",
       "      <td>0.426791</td>\n",
       "      <td>0.523364</td>\n",
       "      <td>0.504673</td>\n",
       "      <td>0.613707</td>\n",
       "      <td>0.894081</td>\n",
       "      <td>0.520249</td>\n",
       "    </tr>\n",
       "    <tr>\n",
       "      <th>Q0WWW9</th>\n",
       "      <td>0.760736</td>\n",
       "      <td>0.388037</td>\n",
       "      <td>0.424847</td>\n",
       "      <td>0.380368</td>\n",
       "      <td>0.556748</td>\n",
       "      <td>0.412577</td>\n",
       "      <td>0.423313</td>\n",
       "      <td>0.532209</td>\n",
       "      <td>0.375767</td>\n",
       "      <td>0.469325</td>\n",
       "      <td>...</td>\n",
       "      <td>0.544582</td>\n",
       "      <td>0.465021</td>\n",
       "      <td>0.515775</td>\n",
       "      <td>0.632373</td>\n",
       "      <td>0.455418</td>\n",
       "      <td>0.486968</td>\n",
       "      <td>0.482853</td>\n",
       "      <td>0.539095</td>\n",
       "      <td>0.703704</td>\n",
       "      <td>0.514403</td>\n",
       "    </tr>\n",
       "    <tr>\n",
       "      <th>Q2V4B9</th>\n",
       "      <td>0.800373</td>\n",
       "      <td>0.294776</td>\n",
       "      <td>0.341418</td>\n",
       "      <td>0.298507</td>\n",
       "      <td>0.468284</td>\n",
       "      <td>0.386194</td>\n",
       "      <td>0.386194</td>\n",
       "      <td>0.537313</td>\n",
       "      <td>0.261194</td>\n",
       "      <td>0.414179</td>\n",
       "      <td>...</td>\n",
       "      <td>0.521151</td>\n",
       "      <td>0.495770</td>\n",
       "      <td>0.510998</td>\n",
       "      <td>0.566836</td>\n",
       "      <td>0.477157</td>\n",
       "      <td>0.502538</td>\n",
       "      <td>0.502538</td>\n",
       "      <td>0.509306</td>\n",
       "      <td>0.602369</td>\n",
       "      <td>0.500846</td>\n",
       "    </tr>\n",
       "    <tr>\n",
       "      <th>Q94EI9</th>\n",
       "      <td>0.807471</td>\n",
       "      <td>0.396552</td>\n",
       "      <td>0.425287</td>\n",
       "      <td>0.350575</td>\n",
       "      <td>0.718391</td>\n",
       "      <td>0.465517</td>\n",
       "      <td>0.410920</td>\n",
       "      <td>0.589080</td>\n",
       "      <td>0.393678</td>\n",
       "      <td>0.591954</td>\n",
       "      <td>...</td>\n",
       "      <td>0.469697</td>\n",
       "      <td>0.412121</td>\n",
       "      <td>0.463636</td>\n",
       "      <td>0.660606</td>\n",
       "      <td>0.378788</td>\n",
       "      <td>0.433333</td>\n",
       "      <td>0.445455</td>\n",
       "      <td>0.633333</td>\n",
       "      <td>0.903030</td>\n",
       "      <td>0.463636</td>\n",
       "    </tr>\n",
       "    <tr>\n",
       "      <th>F4IHS9</th>\n",
       "      <td>0.745981</td>\n",
       "      <td>0.495177</td>\n",
       "      <td>0.520900</td>\n",
       "      <td>0.450161</td>\n",
       "      <td>0.649518</td>\n",
       "      <td>0.520900</td>\n",
       "      <td>0.485531</td>\n",
       "      <td>0.578778</td>\n",
       "      <td>0.469453</td>\n",
       "      <td>0.604502</td>\n",
       "      <td>...</td>\n",
       "      <td>0.533654</td>\n",
       "      <td>0.492788</td>\n",
       "      <td>0.543269</td>\n",
       "      <td>0.639423</td>\n",
       "      <td>0.492788</td>\n",
       "      <td>0.526442</td>\n",
       "      <td>0.524038</td>\n",
       "      <td>0.661058</td>\n",
       "      <td>0.713942</td>\n",
       "      <td>0.533654</td>\n",
       "    </tr>\n",
       "  </tbody>\n",
       "</table>\n",
       "<p>117 rows × 1600 columns</p>\n",
       "</div>"
      ],
      "text/plain": [
       "          AA_50_1   AR_50_1   AN_50_1   AD_50_1   AC_50_1   AQ_50_1   AE_50_1  \\\n",
       "Uniprot                                                                         \n",
       "Q9SFG0   0.784223  0.252900  0.327146  0.238979  0.394432  0.350348  0.276102   \n",
       "Q84WN3   0.664740  0.416185  0.462428  0.427746  0.624277  0.445087  0.456647   \n",
       "O04249   0.735484  0.286022  0.352688  0.281720  0.479570  0.352688  0.318280   \n",
       "Q56ZZ7   0.798913  0.173913  0.217391  0.153986  0.389493  0.251812  0.190217   \n",
       "Q8H184   0.652482  0.308511  0.372340  0.269504  0.510638  0.365248  0.301418   \n",
       "...           ...       ...       ...       ...       ...       ...       ...   \n",
       "Q94B65   0.814126  0.304833  0.408922  0.271375  0.579926  0.408922  0.349442   \n",
       "Q0WWW9   0.760736  0.388037  0.424847  0.380368  0.556748  0.412577  0.423313   \n",
       "Q2V4B9   0.800373  0.294776  0.341418  0.298507  0.468284  0.386194  0.386194   \n",
       "Q94EI9   0.807471  0.396552  0.425287  0.350575  0.718391  0.465517  0.410920   \n",
       "F4IHS9   0.745981  0.495177  0.520900  0.450161  0.649518  0.520900  0.485531   \n",
       "\n",
       "          AG_50_1   AH_50_1   AI_50_1  ...   VL_90_3   VK_90_3   VM_90_3  \\\n",
       "Uniprot                                ...                                 \n",
       "Q9SFG0   0.545244  0.227378  0.317865  ...  0.434307  0.381387  0.421533   \n",
       "Q84WN3   0.526012  0.479769  0.543353  ...  0.383260  0.264317  0.374449   \n",
       "O04249   0.531183  0.279570  0.417204  ...  0.476898  0.415842  0.471947   \n",
       "Q56ZZ7   0.481884  0.148551  0.367754  ...  0.488636  0.433442  0.472403   \n",
       "Q8H184   0.457447  0.368794  0.425532  ...  0.486772  0.391534  0.473545   \n",
       "...           ...       ...       ...  ...       ...       ...       ...   \n",
       "Q94B65   0.516729  0.334572  0.539033  ...  0.542056  0.489097  0.529595   \n",
       "Q0WWW9   0.532209  0.375767  0.469325  ...  0.544582  0.465021  0.515775   \n",
       "Q2V4B9   0.537313  0.261194  0.414179  ...  0.521151  0.495770  0.510998   \n",
       "Q94EI9   0.589080  0.393678  0.591954  ...  0.469697  0.412121  0.463636   \n",
       "F4IHS9   0.578778  0.469453  0.604502  ...  0.533654  0.492788  0.543269   \n",
       "\n",
       "          VF_90_3   VP_90_3   VS_90_3   VT_90_3   VW_90_3   VY_90_3   VV_90_3  \n",
       "Uniprot                                                                        \n",
       "Q9SFG0   0.578467  0.357664  0.390511  0.392336  0.512774  0.656934  0.417883  \n",
       "Q84WN3   0.726872  0.215859  0.286344  0.312775  0.493392  0.982379  0.352423  \n",
       "O04249   0.592409  0.387789  0.415842  0.422442  0.514851  0.702970  0.450495  \n",
       "Q56ZZ7   0.608766  0.420455  0.461039  0.462662  0.514610  0.657468  0.470779  \n",
       "Q8H184   0.595238  0.370370  0.417989  0.431217  0.505291  0.679894  0.473545  \n",
       "...           ...       ...       ...       ...       ...       ...       ...  \n",
       "Q94B65   0.716511  0.426791  0.523364  0.504673  0.613707  0.894081  0.520249  \n",
       "Q0WWW9   0.632373  0.455418  0.486968  0.482853  0.539095  0.703704  0.514403  \n",
       "Q2V4B9   0.566836  0.477157  0.502538  0.502538  0.509306  0.602369  0.500846  \n",
       "Q94EI9   0.660606  0.378788  0.433333  0.445455  0.633333  0.903030  0.463636  \n",
       "F4IHS9   0.639423  0.492788  0.526442  0.524038  0.661058  0.713942  0.533654  \n",
       "\n",
       "[117 rows x 1600 columns]"
      ]
     },
     "execution_count": 4,
     "metadata": {},
     "output_type": "execute_result"
    }
   ],
   "source": [
    "df_pssm = calculate_pssms_notebook(df.sequence)\n",
    "df_pssm"
   ]
  },
  {
   "cell_type": "markdown",
   "metadata": {},
   "source": [
    "## Independent test set"
   ]
  },
  {
   "cell_type": "code",
   "execution_count": 5,
   "metadata": {
    "execution": {
     "iopub.execute_input": "2022-07-15T13:44:55.683326Z",
     "iopub.status.busy": "2022-07-15T13:44:55.682929Z",
     "iopub.status.idle": "2022-07-15T13:44:55.695550Z",
     "shell.execute_reply": "2022-07-15T13:44:55.694885Z"
    }
   },
   "outputs": [],
   "source": [
    "X, y, feature_names, sample_names = preprocess_pandas(\n",
    "    df_pssm, labels, return_names=True\n",
    ")\n",
    "(\n",
    "    X_train,\n",
    "    X_test,\n",
    "    y_train,\n",
    "    y_test,\n",
    "    sample_names_train,\n",
    "    sample_names_test,\n",
    ") = get_independent_test_set(X, y, sample_names=sample_names, test_size=0.2)\n",
    "\n"
   ]
  },
  {
   "cell_type": "markdown",
   "metadata": {},
   "source": [
    "## Model comparison"
   ]
  },
  {
   "cell_type": "code",
   "execution_count": 6,
   "metadata": {
    "execution": {
     "iopub.execute_input": "2022-07-15T13:44:55.700375Z",
     "iopub.status.busy": "2022-07-15T13:44:55.700072Z",
     "iopub.status.idle": "2022-07-15T13:44:57.460670Z",
     "shell.execute_reply": "2022-07-15T13:44:57.460320Z"
    }
   },
   "outputs": [
    {
     "data": {
      "text/html": [
       "<div>\n",
       "<style scoped>\n",
       "    .dataframe tbody tr th:only-of-type {\n",
       "        vertical-align: middle;\n",
       "    }\n",
       "\n",
       "    .dataframe tbody tr th {\n",
       "        vertical-align: top;\n",
       "    }\n",
       "\n",
       "    .dataframe thead th {\n",
       "        text-align: right;\n",
       "    }\n",
       "</style>\n",
       "<table border=\"1\" class=\"dataframe\">\n",
       "  <thead>\n",
       "    <tr style=\"text-align: right;\">\n",
       "      <th></th>\n",
       "      <th>0</th>\n",
       "      <th>1</th>\n",
       "      <th>2</th>\n",
       "      <th>3</th>\n",
       "      <th>4</th>\n",
       "      <th>mean</th>\n",
       "      <th>std</th>\n",
       "    </tr>\n",
       "    <tr>\n",
       "      <th>est</th>\n",
       "      <th></th>\n",
       "      <th></th>\n",
       "      <th></th>\n",
       "      <th></th>\n",
       "      <th></th>\n",
       "      <th></th>\n",
       "      <th></th>\n",
       "    </tr>\n",
       "  </thead>\n",
       "  <tbody>\n",
       "    <tr>\n",
       "      <th>GaussianNB()</th>\n",
       "      <td>0.782</td>\n",
       "      <td>0.782</td>\n",
       "      <td>0.878</td>\n",
       "      <td>0.862</td>\n",
       "      <td>0.585</td>\n",
       "      <td>0.778</td>\n",
       "      <td>0.117</td>\n",
       "    </tr>\n",
       "    <tr>\n",
       "      <th>KNeighborsClassifier()</th>\n",
       "      <td>0.864</td>\n",
       "      <td>0.683</td>\n",
       "      <td>0.936</td>\n",
       "      <td>0.926</td>\n",
       "      <td>0.734</td>\n",
       "      <td>0.829</td>\n",
       "      <td>0.114</td>\n",
       "    </tr>\n",
       "    <tr>\n",
       "      <th>LinearSVC(class_weight='balanced', max_iter=1000000.0, random_state=0)</th>\n",
       "      <td>0.878</td>\n",
       "      <td>0.864</td>\n",
       "      <td>0.887</td>\n",
       "      <td>0.875</td>\n",
       "      <td>0.875</td>\n",
       "      <td>0.876</td>\n",
       "      <td>0.008</td>\n",
       "    </tr>\n",
       "    <tr>\n",
       "      <th>LinearSVC(max_iter=1000000.0, random_state=0)</th>\n",
       "      <td>0.878</td>\n",
       "      <td>0.864</td>\n",
       "      <td>0.887</td>\n",
       "      <td>0.875</td>\n",
       "      <td>0.875</td>\n",
       "      <td>0.876</td>\n",
       "      <td>0.008</td>\n",
       "    </tr>\n",
       "    <tr>\n",
       "      <th>RandomForestClassifier(class_weight='balanced', random_state=0)</th>\n",
       "      <td>0.737</td>\n",
       "      <td>0.842</td>\n",
       "      <td>0.864</td>\n",
       "      <td>1.000</td>\n",
       "      <td>0.839</td>\n",
       "      <td>0.857</td>\n",
       "      <td>0.094</td>\n",
       "    </tr>\n",
       "    <tr>\n",
       "      <th>RandomForestClassifier(random_state=0)</th>\n",
       "      <td>0.683</td>\n",
       "      <td>0.842</td>\n",
       "      <td>1.000</td>\n",
       "      <td>0.926</td>\n",
       "      <td>0.839</td>\n",
       "      <td>0.858</td>\n",
       "      <td>0.118</td>\n",
       "    </tr>\n",
       "    <tr>\n",
       "      <th>SGDClassifier(random_state=0)</th>\n",
       "      <td>0.825</td>\n",
       "      <td>0.936</td>\n",
       "      <td>0.835</td>\n",
       "      <td>0.935</td>\n",
       "      <td>0.819</td>\n",
       "      <td>0.870</td>\n",
       "      <td>0.060</td>\n",
       "    </tr>\n",
       "    <tr>\n",
       "      <th>SVC(class_weight='balanced', random_state=0)</th>\n",
       "      <td>1.000</td>\n",
       "      <td>0.927</td>\n",
       "      <td>1.000</td>\n",
       "      <td>1.000</td>\n",
       "      <td>1.000</td>\n",
       "      <td>0.985</td>\n",
       "      <td>0.033</td>\n",
       "    </tr>\n",
       "    <tr>\n",
       "      <th>SVC(random_state=0)</th>\n",
       "      <td>0.737</td>\n",
       "      <td>0.842</td>\n",
       "      <td>0.936</td>\n",
       "      <td>1.000</td>\n",
       "      <td>0.734</td>\n",
       "      <td>0.850</td>\n",
       "      <td>0.118</td>\n",
       "    </tr>\n",
       "  </tbody>\n",
       "</table>\n",
       "</div>"
      ],
      "text/plain": [
       "                                                        0      1      2  \\\n",
       "est                                                                       \n",
       "GaussianNB()                                        0.782  0.782  0.878   \n",
       "KNeighborsClassifier()                              0.864  0.683  0.936   \n",
       "LinearSVC(class_weight='balanced', max_iter=100...  0.878  0.864  0.887   \n",
       "LinearSVC(max_iter=1000000.0, random_state=0)       0.878  0.864  0.887   \n",
       "RandomForestClassifier(class_weight='balanced',...  0.737  0.842  0.864   \n",
       "RandomForestClassifier(random_state=0)              0.683  0.842  1.000   \n",
       "SGDClassifier(random_state=0)                       0.825  0.936  0.835   \n",
       "SVC(class_weight='balanced', random_state=0)        1.000  0.927  1.000   \n",
       "SVC(random_state=0)                                 0.737  0.842  0.936   \n",
       "\n",
       "                                                        3      4   mean    std  \n",
       "est                                                                             \n",
       "GaussianNB()                                        0.862  0.585  0.778  0.117  \n",
       "KNeighborsClassifier()                              0.926  0.734  0.829  0.114  \n",
       "LinearSVC(class_weight='balanced', max_iter=100...  0.875  0.875  0.876  0.008  \n",
       "LinearSVC(max_iter=1000000.0, random_state=0)       0.875  0.875  0.876  0.008  \n",
       "RandomForestClassifier(class_weight='balanced',...  1.000  0.839  0.857  0.094  \n",
       "RandomForestClassifier(random_state=0)              0.926  0.839  0.858  0.118  \n",
       "SGDClassifier(random_state=0)                       0.935  0.819  0.870  0.060  \n",
       "SVC(class_weight='balanced', random_state=0)        1.000  1.000  0.985  0.033  \n",
       "SVC(random_state=0)                                 1.000  0.734  0.850  0.118  "
      ]
     },
     "execution_count": 6,
     "metadata": {},
     "output_type": "execute_result"
    }
   ],
   "source": [
    "models_quick_compare(X_train, y_train)"
   ]
  },
  {
   "cell_type": "markdown",
   "metadata": {},
   "source": [
    "## Investigation of the dataset\n",
    "\n",
    "The SVC results are surprisingly good, let's look at the data:"
   ]
  },
  {
   "cell_type": "code",
   "execution_count": 7,
   "metadata": {
    "execution": {
     "iopub.execute_input": "2022-07-15T13:44:57.463156Z",
     "iopub.status.busy": "2022-07-15T13:44:57.462656Z",
     "iopub.status.idle": "2022-07-15T13:44:57.966901Z",
     "shell.execute_reply": "2022-07-15T13:44:57.966274Z"
    }
   },
   "outputs": [
    {
     "data": {
      "text/plain": [
       "<AxesSubplot:xlabel='PC1', ylabel='PC2'>"
      ]
     },
     "execution_count": 7,
     "metadata": {},
     "output_type": "execute_result"
    },
    {
     "data": {
      "image/png": "[encoded data removed]",
      "text/plain": [
       "<Figure size 720x432 with 1 Axes>"
      ]
     },
     "metadata": {
      "needs_background": "light"
     },
     "output_type": "display_data"
    }
   ],
   "source": [
    "\n",
    "pca_plot_2d(df_pssm, labels)\n",
    "# pca_plot_3d(df_pssm, labels)"
   ]
  },
  {
   "cell_type": "markdown",
   "metadata": {},
   "source": [
    "It seems like sugar has higher variance in PC2. The pattern of sugar transporters having higher variance persists.\n",
    "\n",
    "The PSSM feature encodes the likelyhood of amino acid exchanges from BLAST searches, which find proteins with similar sequences. A large number of similar proteins is available for virtually all proteins. The PSSM feature is a measure of amino acid conservation throughout evolution, not of the sequences themselves. When analyzing the amino acid composititons of the individual proteins, we found that the most important AAs are among the least frequent ones. What amino acids are the most common in the top-50 performing features?"
   ]
  },
  {
   "cell_type": "code",
   "execution_count": 8,
   "metadata": {
    "execution": {
     "iopub.execute_input": "2022-07-15T13:44:57.972985Z",
     "iopub.status.busy": "2022-07-15T13:44:57.972845Z",
     "iopub.status.idle": "2022-07-15T13:44:58.138172Z",
     "shell.execute_reply": "2022-07-15T13:44:58.137568Z"
    }
   },
   "outputs": [
    {
     "data": {
      "text/plain": [
       "<AxesSubplot:>"
      ]
     },
     "execution_count": 8,
     "metadata": {},
     "output_type": "execute_result"
    },
    {
     "data": {
      "image/png": "[encoded data removed]",
      "text/plain": [
       "<Figure size 432x288 with 1 Axes>"
      ]
     },
     "metadata": {},
     "output_type": "display_data"
    }
   ],
   "source": [
    "get_feature_score(df_pssm, labels).sort_values(\n",
    "    \"Normalized score\", ascending=False\n",
    ").iloc[:50, :].Feature.apply(lambda x: [x[0], x[1]]).explode().value_counts().plot.bar()"
   ]
  },
  {
   "cell_type": "markdown",
   "metadata": {},
   "source": [
    "There is a disproportionate amount of histidine exchanges among the 50 best features according to ANOVA F-score. It seems like the likelyhood of exchanging histidine during evolution is related to the class distinction between sugar and amino acid transporters. How do the actual features look like?"
   ]
  },
  {
   "cell_type": "code",
   "execution_count": 9,
   "metadata": {
    "execution": {
     "iopub.execute_input": "2022-07-15T13:44:58.142471Z",
     "iopub.status.busy": "2022-07-15T13:44:58.141887Z",
     "iopub.status.idle": "2022-07-15T13:44:58.168106Z",
     "shell.execute_reply": "2022-07-15T13:44:58.167396Z"
    }
   },
   "outputs": [
    {
     "data": {
      "text/html": [
       "<div>\n",
       "<style scoped>\n",
       "    .dataframe tbody tr th:only-of-type {\n",
       "        vertical-align: middle;\n",
       "    }\n",
       "\n",
       "    .dataframe tbody tr th {\n",
       "        vertical-align: top;\n",
       "    }\n",
       "\n",
       "    .dataframe thead th {\n",
       "        text-align: right;\n",
       "    }\n",
       "</style>\n",
       "<table border=\"1\" class=\"dataframe\">\n",
       "  <thead>\n",
       "    <tr style=\"text-align: right;\">\n",
       "      <th></th>\n",
       "      <th>Feature</th>\n",
       "      <th>Normalized score</th>\n",
       "      <th>Measure</th>\n",
       "    </tr>\n",
       "  </thead>\n",
       "  <tbody>\n",
       "    <tr>\n",
       "      <th>568</th>\n",
       "      <td>HH_50_3</td>\n",
       "      <td>0.011996</td>\n",
       "      <td>Feature importance (f_classif)</td>\n",
       "    </tr>\n",
       "    <tr>\n",
       "      <th>564</th>\n",
       "      <td>HC_50_3</td>\n",
       "      <td>0.009336</td>\n",
       "      <td>Feature importance (f_classif)</td>\n",
       "    </tr>\n",
       "    <tr>\n",
       "      <th>578</th>\n",
       "      <td>HY_50_3</td>\n",
       "      <td>0.008544</td>\n",
       "      <td>Feature importance (f_classif)</td>\n",
       "    </tr>\n",
       "    <tr>\n",
       "      <th>577</th>\n",
       "      <td>HW_50_3</td>\n",
       "      <td>0.008169</td>\n",
       "      <td>Feature importance (f_classif)</td>\n",
       "    </tr>\n",
       "    <tr>\n",
       "      <th>424</th>\n",
       "      <td>RC_50_3</td>\n",
       "      <td>0.006735</td>\n",
       "      <td>Feature importance (f_classif)</td>\n",
       "    </tr>\n",
       "    <tr>\n",
       "      <th>724</th>\n",
       "      <td>TC_50_3</td>\n",
       "      <td>0.006594</td>\n",
       "      <td>Feature importance (f_classif)</td>\n",
       "    </tr>\n",
       "    <tr>\n",
       "      <th>589</th>\n",
       "      <td>II_50_3</td>\n",
       "      <td>0.006264</td>\n",
       "      <td>Feature importance (f_classif)</td>\n",
       "    </tr>\n",
       "    <tr>\n",
       "      <th>749</th>\n",
       "      <td>WI_50_3</td>\n",
       "      <td>0.006147</td>\n",
       "      <td>Feature importance (f_classif)</td>\n",
       "    </tr>\n",
       "    <tr>\n",
       "      <th>573</th>\n",
       "      <td>HF_50_3</td>\n",
       "      <td>0.006110</td>\n",
       "      <td>Feature importance (f_classif)</td>\n",
       "    </tr>\n",
       "    <tr>\n",
       "      <th>569</th>\n",
       "      <td>HI_50_3</td>\n",
       "      <td>0.005786</td>\n",
       "      <td>Feature importance (f_classif)</td>\n",
       "    </tr>\n",
       "    <tr>\n",
       "      <th>443</th>\n",
       "      <td>ND_50_3</td>\n",
       "      <td>0.005745</td>\n",
       "      <td>Feature importance (f_classif)</td>\n",
       "    </tr>\n",
       "    <tr>\n",
       "      <th>468</th>\n",
       "      <td>DH_50_3</td>\n",
       "      <td>0.005597</td>\n",
       "      <td>Feature importance (f_classif)</td>\n",
       "    </tr>\n",
       "    <tr>\n",
       "      <th>654</th>\n",
       "      <td>MP_50_3</td>\n",
       "      <td>0.005188</td>\n",
       "      <td>Feature importance (f_classif)</td>\n",
       "    </tr>\n",
       "    <tr>\n",
       "      <th>628</th>\n",
       "      <td>KH_50_3</td>\n",
       "      <td>0.005083</td>\n",
       "      <td>Feature importance (f_classif)</td>\n",
       "    </tr>\n",
       "    <tr>\n",
       "      <th>744</th>\n",
       "      <td>WC_50_3</td>\n",
       "      <td>0.005069</td>\n",
       "      <td>Feature importance (f_classif)</td>\n",
       "    </tr>\n",
       "    <tr>\n",
       "      <th>400</th>\n",
       "      <td>AA_50_3</td>\n",
       "      <td>0.004870</td>\n",
       "      <td>Feature importance (f_classif)</td>\n",
       "    </tr>\n",
       "    <tr>\n",
       "      <th>549</th>\n",
       "      <td>GI_50_3</td>\n",
       "      <td>0.004858</td>\n",
       "      <td>Feature importance (f_classif)</td>\n",
       "    </tr>\n",
       "    <tr>\n",
       "      <th>1454</th>\n",
       "      <td>MP_90_3</td>\n",
       "      <td>0.004670</td>\n",
       "      <td>Feature importance (f_classif)</td>\n",
       "    </tr>\n",
       "    <tr>\n",
       "      <th>579</th>\n",
       "      <td>HV_50_3</td>\n",
       "      <td>0.004631</td>\n",
       "      <td>Feature importance (f_classif)</td>\n",
       "    </tr>\n",
       "    <tr>\n",
       "      <th>1243</th>\n",
       "      <td>ND_90_3</td>\n",
       "      <td>0.004448</td>\n",
       "      <td>Feature importance (f_classif)</td>\n",
       "    </tr>\n",
       "  </tbody>\n",
       "</table>\n",
       "</div>"
      ],
      "text/plain": [
       "      Feature  Normalized score                         Measure\n",
       "568   HH_50_3          0.011996  Feature importance (f_classif)\n",
       "564   HC_50_3          0.009336  Feature importance (f_classif)\n",
       "578   HY_50_3          0.008544  Feature importance (f_classif)\n",
       "577   HW_50_3          0.008169  Feature importance (f_classif)\n",
       "424   RC_50_3          0.006735  Feature importance (f_classif)\n",
       "724   TC_50_3          0.006594  Feature importance (f_classif)\n",
       "589   II_50_3          0.006264  Feature importance (f_classif)\n",
       "749   WI_50_3          0.006147  Feature importance (f_classif)\n",
       "573   HF_50_3          0.006110  Feature importance (f_classif)\n",
       "569   HI_50_3          0.005786  Feature importance (f_classif)\n",
       "443   ND_50_3          0.005745  Feature importance (f_classif)\n",
       "468   DH_50_3          0.005597  Feature importance (f_classif)\n",
       "654   MP_50_3          0.005188  Feature importance (f_classif)\n",
       "628   KH_50_3          0.005083  Feature importance (f_classif)\n",
       "744   WC_50_3          0.005069  Feature importance (f_classif)\n",
       "400   AA_50_3          0.004870  Feature importance (f_classif)\n",
       "549   GI_50_3          0.004858  Feature importance (f_classif)\n",
       "1454  MP_90_3          0.004670  Feature importance (f_classif)\n",
       "579   HV_50_3          0.004631  Feature importance (f_classif)\n",
       "1243  ND_90_3          0.004448  Feature importance (f_classif)"
      ]
     },
     "execution_count": 9,
     "metadata": {},
     "output_type": "execute_result"
    }
   ],
   "source": [
    "get_feature_score(df_pssm, labels).sort_values(\n",
    "    \"Normalized score\", ascending=False\n",
    ").head(20)#.Feature.apply(lambda x: [x[0], x[1]])"
   ]
  },
  {
   "cell_type": "markdown",
   "metadata": {},
   "source": [
    "The most important feature is the Histidine-Histidine exchange rate, which is equivalent to its conservation. What is the difference in His conservation across the classes?"
   ]
  },
  {
   "cell_type": "code",
   "execution_count": 10,
   "metadata": {
    "execution": {
     "iopub.execute_input": "2022-07-15T13:44:58.172309Z",
     "iopub.status.busy": "2022-07-15T13:44:58.172095Z",
     "iopub.status.idle": "2022-07-15T13:44:58.272518Z",
     "shell.execute_reply": "2022-07-15T13:44:58.271974Z"
    }
   },
   "outputs": [
    {
     "data": {
      "text/plain": [
       "<AxesSubplot:xlabel='keywords_transport', ylabel='HH_50_3'>"
      ]
     },
     "execution_count": 10,
     "metadata": {},
     "output_type": "execute_result"
    },
    {
     "data": {
      "image/png": "[encoded data removed]",
      "text/plain": [
       "<Figure size 432x288 with 1 Axes>"
      ]
     },
     "metadata": {},
     "output_type": "display_data"
    }
   ],
   "source": [
    "sns.boxplot(data=df_pssm, x=labels, y=\"HH_50_3\")"
   ]
  },
  {
   "cell_type": "markdown",
   "metadata": {},
   "source": [
    "Histidine conservation is greater in AA transporters.\n",
    "\n",
    "I do not think that information sharing is a reason for the good results, it just seems like Histidine conservation and exchange rates are a good measure for distinguishing sugar and amino-acid transporters. \n",
    "\n",
    "Another interesting observation is that the top 17 features all stem from BLAST searches performed on Uniref50, with three iterations of Psiblast. These are the most distantly related proteins, but the 50% threshold of Uniref50 includes more of them. It could be that these parameters include more distantly related transporters, like splice variants for example, and therefore provide a clearer picture of the differences, especially in the His content."
   ]
  },
  {
   "cell_type": "markdown",
   "metadata": {},
   "source": [
    "Does the choice of training and validation set influence the results?"
   ]
  },
  {
   "cell_type": "code",
   "execution_count": 11,
   "metadata": {
    "execution": {
     "iopub.execute_input": "2022-07-15T13:44:58.276520Z",
     "iopub.status.busy": "2022-07-15T13:44:58.276360Z",
     "iopub.status.idle": "2022-07-15T13:45:11.000564Z",
     "shell.execute_reply": "2022-07-15T13:45:10.999423Z"
    }
   },
   "outputs": [
    {
     "name": "stdout",
     "output_type": "stream",
     "text": [
      "mean (20 runs)\n"
     ]
    },
    {
     "data": {
      "text/html": [
       "<div>\n",
       "<style scoped>\n",
       "    .dataframe tbody tr th:only-of-type {\n",
       "        vertical-align: middle;\n",
       "    }\n",
       "\n",
       "    .dataframe tbody tr th {\n",
       "        vertical-align: top;\n",
       "    }\n",
       "\n",
       "    .dataframe thead th {\n",
       "        text-align: right;\n",
       "    }\n",
       "</style>\n",
       "<table border=\"1\" class=\"dataframe\">\n",
       "  <thead>\n",
       "    <tr style=\"text-align: right;\">\n",
       "      <th>dataset</th>\n",
       "      <th>test</th>\n",
       "      <th>train</th>\n",
       "    </tr>\n",
       "    <tr>\n",
       "      <th>label</th>\n",
       "      <th></th>\n",
       "      <th></th>\n",
       "    </tr>\n",
       "  </thead>\n",
       "  <tbody>\n",
       "    <tr>\n",
       "      <th>Amino-acid transport</th>\n",
       "      <td>0.9458</td>\n",
       "      <td>0.91550</td>\n",
       "    </tr>\n",
       "    <tr>\n",
       "      <th>Sugar transport</th>\n",
       "      <td>0.9798</td>\n",
       "      <td>0.96965</td>\n",
       "    </tr>\n",
       "  </tbody>\n",
       "</table>\n",
       "</div>"
      ],
      "text/plain": [
       "dataset                 test    train\n",
       "label                                \n",
       "Amino-acid transport  0.9458  0.91550\n",
       "Sugar transport       0.9798  0.96965"
      ]
     },
     "metadata": {},
     "output_type": "display_data"
    },
    {
     "name": "stdout",
     "output_type": "stream",
     "text": [
      "sdev (20 runs)\n"
     ]
    },
    {
     "data": {
      "text/html": [
       "<div>\n",
       "<style scoped>\n",
       "    .dataframe tbody tr th:only-of-type {\n",
       "        vertical-align: middle;\n",
       "    }\n",
       "\n",
       "    .dataframe tbody tr th {\n",
       "        vertical-align: top;\n",
       "    }\n",
       "\n",
       "    .dataframe thead th {\n",
       "        text-align: right;\n",
       "    }\n",
       "</style>\n",
       "<table border=\"1\" class=\"dataframe\">\n",
       "  <thead>\n",
       "    <tr style=\"text-align: right;\">\n",
       "      <th>dataset</th>\n",
       "      <th>test</th>\n",
       "      <th>train</th>\n",
       "    </tr>\n",
       "    <tr>\n",
       "      <th>label</th>\n",
       "      <th></th>\n",
       "      <th></th>\n",
       "    </tr>\n",
       "  </thead>\n",
       "  <tbody>\n",
       "    <tr>\n",
       "      <th>Amino-acid transport</th>\n",
       "      <td>0.053032</td>\n",
       "      <td>0.040288</td>\n",
       "    </tr>\n",
       "    <tr>\n",
       "      <th>Sugar transport</th>\n",
       "      <td>0.018693</td>\n",
       "      <td>0.014572</td>\n",
       "    </tr>\n",
       "  </tbody>\n",
       "</table>\n",
       "</div>"
      ],
      "text/plain": [
       "dataset                   test     train\n",
       "label                                   \n",
       "Amino-acid transport  0.053032  0.040288\n",
       "Sugar transport       0.018693  0.014572"
      ]
     },
     "execution_count": 11,
     "metadata": {},
     "output_type": "execute_result"
    }
   ],
   "source": [
    "repetitions = 20\n",
    "df_stats, _ = full_test(df_pssm, labels, repetitions=repetitions)\n",
    "df_stats_gr = df_stats.groupby([\"label\", \"dataset\"], as_index=False)\n",
    "print(f\"mean ({repetitions} runs)\")\n",
    "display(df_stats_gr.mean().pivot(\"label\", \"dataset\", \"F1 score\"))\n",
    "print(f\"sdev ({repetitions} runs)\")\n",
    "df_stats_gr.std().pivot(\"label\", \"dataset\", \"F1 score\")"
   ]
  },
  {
   "cell_type": "markdown",
   "metadata": {},
   "source": [
    "The scores drop by about 5% on average with the default parameter grid, by choosing independent test splits with 20 different random_states other than the default (42). This seems more reasonable than getting 1.0 for almost every fold.\n",
    "\n",
    "(Note: I finished the analysis before testing this, so the slight overfitting on the test set happened by chance.)"
   ]
  },
  {
   "cell_type": "markdown",
   "metadata": {},
   "source": [
    "## Parameter tuning"
   ]
  },
  {
   "cell_type": "markdown",
   "metadata": {},
   "source": [
    "#### Custom transformer\n",
    "\n",
    "Here, we try the multi-pssm feature, which tries all combinations of feature generation parameters, and selects the best ones based on the training set."
   ]
  },
  {
   "cell_type": "markdown",
   "metadata": {},
   "source": [
    "Whole dataset, linear svm"
   ]
  },
  {
   "cell_type": "code",
   "execution_count": 12,
   "metadata": {
    "execution": {
     "iopub.execute_input": "2022-07-15T13:45:11.006382Z",
     "iopub.status.busy": "2022-07-15T13:45:11.005910Z",
     "iopub.status.idle": "2022-07-15T13:45:14.027489Z",
     "shell.execute_reply": "2022-07-15T13:45:14.026566Z"
    }
   },
   "outputs": [
    {
     "name": "stdout",
     "output_type": "stream",
     "text": [
      "{'linearsvc__C': 100, 'linearsvc__class_weight': None, 'linearsvc__dual': False, 'linearsvc__max_iter': 100000000.0}\n",
      "0.959\n"
     ]
    }
   ],
   "source": [
    "gsearch = optimize_hyperparams(\n",
    "    X_train,\n",
    "    y_train,\n",
    "    kernel=\"linear\",\n",
    "    dim_reduction=None,\n",
    "    C=[10, 100, 1000],\n",
    ")\n",
    "best_estimator_svc = gsearch\n"
   ]
  },
  {
   "cell_type": "markdown",
   "metadata": {},
   "source": [
    "Good results, but relatively high value for C. With the custom transformer:"
   ]
  },
  {
   "cell_type": "code",
   "execution_count": 13,
   "metadata": {
    "execution": {
     "iopub.execute_input": "2022-07-15T13:45:14.032423Z",
     "iopub.status.busy": "2022-07-15T13:45:14.032067Z",
     "iopub.status.idle": "2022-07-15T13:45:18.657996Z",
     "shell.execute_reply": "2022-07-15T13:45:18.657124Z"
    }
   },
   "outputs": [
    {
     "name": "stdout",
     "output_type": "stream",
     "text": [
      "{'linearsvc__C': 10, 'linearsvc__class_weight': 'balanced', 'linearsvc__dual': False, 'linearsvc__max_iter': 100000000.0, 'pssmselector__iterations': 3, 'pssmselector__uniref_threshold': 50}\n",
      "0.987\n"
     ]
    }
   ],
   "source": [
    "gsearch = optimize_hyperparams(\n",
    "    X_train,\n",
    "    y_train,\n",
    "    kernel=\"linear\",\n",
    "    dim_reduction=None,\n",
    "    C=[1, 10, 100],\n",
    "    feature_transformer=\"pssm\",\n",
    "    feature_names=feature_names,\n",
    ")\n",
    "best_estimator_svc = gsearch\n"
   ]
  },
  {
   "cell_type": "markdown",
   "metadata": {},
   "source": [
    "Lower value of C, better results. Does RBF improve anything?"
   ]
  },
  {
   "cell_type": "code",
   "execution_count": 14,
   "metadata": {
    "execution": {
     "iopub.execute_input": "2022-07-15T13:45:18.662986Z",
     "iopub.status.busy": "2022-07-15T13:45:18.662533Z",
     "iopub.status.idle": "2022-07-15T13:45:19.065176Z",
     "shell.execute_reply": "2022-07-15T13:45:19.064489Z"
    }
   },
   "outputs": [
    {
     "name": "stdout",
     "output_type": "stream",
     "text": [
      "{'svc__C': 1, 'svc__class_weight': 'balanced', 'svc__gamma': 'scale'}\n",
      "0.985\n"
     ]
    }
   ],
   "source": [
    "gsearch = optimize_hyperparams(\n",
    "    X_train,\n",
    "    y_train,\n",
    "    kernel=\"rbf\",\n",
    "    dim_reduction=None,\n",
    "    C=[0.1, 1, 10],\n",
    ")\n",
    "best_estimator_svc = gsearch"
   ]
  },
  {
   "cell_type": "markdown",
   "metadata": {},
   "source": [
    "This works with C and gamma at their default values. What about the transformer?"
   ]
  },
  {
   "cell_type": "code",
   "execution_count": 15,
   "metadata": {
    "execution": {
     "iopub.execute_input": "2022-07-15T13:45:19.070257Z",
     "iopub.status.busy": "2022-07-15T13:45:19.070016Z",
     "iopub.status.idle": "2022-07-15T13:45:21.102702Z",
     "shell.execute_reply": "2022-07-15T13:45:21.101385Z"
    }
   },
   "outputs": [
    {
     "name": "stdout",
     "output_type": "stream",
     "text": [
      "{'pssmselector__iterations': 1, 'pssmselector__uniref_threshold': 90, 'svc__C': 1, 'svc__class_weight': 'balanced', 'svc__gamma': 'scale'}\n",
      "0.987\n"
     ]
    }
   ],
   "source": [
    "gsearch = optimize_hyperparams(\n",
    "    X_train,\n",
    "    y_train,\n",
    "    kernel=\"rbf\",\n",
    "    dim_reduction=None,\n",
    "    C=[0.1, 1, 10],\n",
    "    feature_transformer=\"pssm\",\n",
    "    feature_names=feature_names,\n",
    ")\n",
    "best_estimator_svc = gsearch"
   ]
  },
  {
   "cell_type": "markdown",
   "metadata": {},
   "source": [
    "This time, the transformer actually selects the Uniref90 PSSMs with one iteration of Psiblast, instead of Uniref50 + 3 iterations, which was also selected by the feature importance scores above."
   ]
  },
  {
   "cell_type": "markdown",
   "metadata": {},
   "source": [
    "## Dimensionality reduction"
   ]
  },
  {
   "cell_type": "markdown",
   "metadata": {},
   "source": [
    "Trying only in steps of 20, to reduct runtime. With the linear kernel, we get the high C again:"
   ]
  },
  {
   "cell_type": "code",
   "execution_count": 16,
   "metadata": {
    "execution": {
     "iopub.execute_input": "2022-07-15T13:45:21.108236Z",
     "iopub.status.busy": "2022-07-15T13:45:21.107780Z",
     "iopub.status.idle": "2022-07-15T13:45:33.658249Z",
     "shell.execute_reply": "2022-07-15T13:45:33.656918Z"
    }
   },
   "outputs": [
    {
     "name": "stdout",
     "output_type": "stream",
     "text": [
      "{'linearsvc__C': 100, 'linearsvc__class_weight': None, 'linearsvc__dual': False, 'linearsvc__max_iter': 100000000.0, 'selectkbest__k': 1221}\n",
      "0.974\n"
     ]
    }
   ],
   "source": [
    "gsearch = optimize_hyperparams(\n",
    "    X_train, y_train, kernel=\"linear\", dim_reduction=\"kbest\", C=[10, 100, 1000], select_k_steps=20\n",
    ")\n",
    "best_estimator_svc_kbest = gsearch"
   ]
  },
  {
   "cell_type": "code",
   "execution_count": 17,
   "metadata": {
    "execution": {
     "iopub.execute_input": "2022-07-15T13:45:33.663633Z",
     "iopub.status.busy": "2022-07-15T13:45:33.663199Z",
     "iopub.status.idle": "2022-07-15T13:45:36.004098Z",
     "shell.execute_reply": "2022-07-15T13:45:36.002880Z"
    }
   },
   "outputs": [
    {
     "name": "stdout",
     "output_type": "stream",
     "text": [
      "{'linearsvc__C': 1, 'linearsvc__class_weight': 'balanced', 'linearsvc__dual': True, 'linearsvc__max_iter': 100000000.0, 'pca__n_components': 0.98}\n",
      "0.987\n"
     ]
    }
   ],
   "source": [
    "gsearch = optimize_hyperparams(\n",
    "    X_train,\n",
    "    y_train,\n",
    "    kernel=\"linear\",\n",
    "    dim_reduction=\"pca\",\n",
    "    # feature_transformer=\"pssm\",\n",
    "    # feature_names=feature_names,\n",
    "    # C=[0.1, 0.01, 0.001],\n",
    "    # gamma=[0.1, 0.01, 0.001],\n",
    ")\n"
   ]
  },
  {
   "cell_type": "markdown",
   "metadata": {},
   "source": [
    "PCA seems to perform the best and is faster, how about the RBF kernel?"
   ]
  },
  {
   "cell_type": "code",
   "execution_count": 18,
   "metadata": {
    "execution": {
     "iopub.execute_input": "2022-07-15T13:45:36.010134Z",
     "iopub.status.busy": "2022-07-15T13:45:36.009758Z",
     "iopub.status.idle": "2022-07-15T13:45:40.326652Z",
     "shell.execute_reply": "2022-07-15T13:45:40.325798Z"
    }
   },
   "outputs": [
    {
     "name": "stdout",
     "output_type": "stream",
     "text": [
      "{'pca__n_components': 0.96, 'svc__C': 10, 'svc__class_weight': 'balanced', 'svc__gamma': 0.01}\n",
      "0.987\n"
     ]
    }
   ],
   "source": [
    "gsearch = optimize_hyperparams(\n",
    "    X_train,\n",
    "    y_train,\n",
    "    kernel=\"rbf\",\n",
    "    dim_reduction=\"pca\",\n",
    "    # feature_transformer=\"pssm\",\n",
    "    # feature_names=feature_names,\n",
    "    C=[1, 10,100],\n",
    "    gamma=[\"scale\", 0.1, 0.01, 0.001],\n",
    ")\n",
    "best_estimator_svc_pca = gsearch"
   ]
  },
  {
   "cell_type": "markdown",
   "metadata": {},
   "source": [
    "With the custom transformer, rbf and pca, we get a perfect score:"
   ]
  },
  {
   "cell_type": "code",
   "execution_count": 19,
   "metadata": {
    "execution": {
     "iopub.execute_input": "2022-07-15T13:45:40.332087Z",
     "iopub.status.busy": "2022-07-15T13:45:40.331560Z",
     "iopub.status.idle": "2022-07-15T13:46:22.844658Z",
     "shell.execute_reply": "2022-07-15T13:46:22.843364Z"
    }
   },
   "outputs": [
    {
     "name": "stdout",
     "output_type": "stream",
     "text": [
      "{'pca__n_components': 0.96, 'pssmselector__iterations': 3, 'pssmselector__uniref_threshold': 'all', 'svc__C': 1, 'svc__class_weight': 'balanced', 'svc__gamma': 0.01}\n",
      "1.0\n"
     ]
    }
   ],
   "source": [
    "gsearch = optimize_hyperparams(\n",
    "    X_train,\n",
    "    y_train,\n",
    "    kernel=\"rbf\",\n",
    "    dim_reduction=\"pca\",\n",
    "    feature_transformer=\"pssm\",\n",
    "    feature_names=feature_names,\n",
    "    C=[1, 0.1, 10],\n",
    "    gamma=[\"scale\", 0.1, 0.01, 0.001],\n",
    ")\n",
    "best_estimator_svc_pca = gsearch"
   ]
  },
  {
   "cell_type": "markdown",
   "metadata": {},
   "source": [
    "## Validation\n",
    "\n",
    "And that perfect score also happens on the validation set! Both for PCA, and Kbest"
   ]
  },
  {
   "cell_type": "markdown",
   "metadata": {},
   "source": [
    "### Kbest"
   ]
  },
  {
   "cell_type": "code",
   "execution_count": 20,
   "metadata": {
    "execution": {
     "iopub.execute_input": "2022-07-15T13:46:22.850948Z",
     "iopub.status.busy": "2022-07-15T13:46:22.850193Z",
     "iopub.status.idle": "2022-07-15T13:46:22.874537Z",
     "shell.execute_reply": "2022-07-15T13:46:22.873519Z"
    }
   },
   "outputs": [
    {
     "data": {
      "text/html": [
       "<div>\n",
       "<style scoped>\n",
       "    .dataframe tbody tr th:only-of-type {\n",
       "        vertical-align: middle;\n",
       "    }\n",
       "\n",
       "    .dataframe tbody tr th {\n",
       "        vertical-align: top;\n",
       "    }\n",
       "\n",
       "    .dataframe thead th {\n",
       "        text-align: right;\n",
       "    }\n",
       "</style>\n",
       "<table border=\"1\" class=\"dataframe\">\n",
       "  <thead>\n",
       "    <tr style=\"text-align: right;\">\n",
       "      <th>predicted</th>\n",
       "      <th>Amino-acid transport</th>\n",
       "      <th>Sugar transport</th>\n",
       "    </tr>\n",
       "    <tr>\n",
       "      <th>observed</th>\n",
       "      <th></th>\n",
       "      <th></th>\n",
       "    </tr>\n",
       "  </thead>\n",
       "  <tbody>\n",
       "    <tr>\n",
       "      <th>Amino-acid transport</th>\n",
       "      <td>7</td>\n",
       "      <td>0</td>\n",
       "    </tr>\n",
       "    <tr>\n",
       "      <th>Sugar transport</th>\n",
       "      <td>0</td>\n",
       "      <td>17</td>\n",
       "    </tr>\n",
       "  </tbody>\n",
       "</table>\n",
       "</div>"
      ],
      "text/plain": [
       "predicted             Amino-acid transport  Sugar transport\n",
       "observed                                                   \n",
       "Amino-acid transport                     7                0\n",
       "Sugar transport                          0               17"
      ]
     },
     "execution_count": 20,
     "metadata": {},
     "output_type": "execute_result"
    }
   ],
   "source": [
    "get_confusion_matrix(X_test, y_test, best_estimator_svc_kbest, labels=labels)"
   ]
  },
  {
   "cell_type": "code",
   "execution_count": 21,
   "metadata": {
    "execution": {
     "iopub.execute_input": "2022-07-15T13:46:22.880377Z",
     "iopub.status.busy": "2022-07-15T13:46:22.879945Z",
     "iopub.status.idle": "2022-07-15T13:46:22.916497Z",
     "shell.execute_reply": "2022-07-15T13:46:22.915511Z"
    }
   },
   "outputs": [
    {
     "data": {
      "text/html": [
       "<div>\n",
       "<style scoped>\n",
       "    .dataframe tbody tr th:only-of-type {\n",
       "        vertical-align: middle;\n",
       "    }\n",
       "\n",
       "    .dataframe tbody tr th {\n",
       "        vertical-align: top;\n",
       "    }\n",
       "\n",
       "    .dataframe thead th {\n",
       "        text-align: right;\n",
       "    }\n",
       "</style>\n",
       "<table border=\"1\" class=\"dataframe\">\n",
       "  <thead>\n",
       "    <tr style=\"text-align: right;\">\n",
       "      <th></th>\n",
       "      <th>precision</th>\n",
       "      <th>recall</th>\n",
       "      <th>f1-score</th>\n",
       "      <th>support</th>\n",
       "    </tr>\n",
       "  </thead>\n",
       "  <tbody>\n",
       "    <tr>\n",
       "      <th>Amino-acid transport</th>\n",
       "      <td>1.0</td>\n",
       "      <td>1.0</td>\n",
       "      <td>1.0</td>\n",
       "      <td>7</td>\n",
       "    </tr>\n",
       "    <tr>\n",
       "      <th>Sugar transport</th>\n",
       "      <td>1.0</td>\n",
       "      <td>1.0</td>\n",
       "      <td>1.0</td>\n",
       "      <td>17</td>\n",
       "    </tr>\n",
       "    <tr>\n",
       "      <th>macro avg</th>\n",
       "      <td>1.0</td>\n",
       "      <td>1.0</td>\n",
       "      <td>1.0</td>\n",
       "      <td>24</td>\n",
       "    </tr>\n",
       "    <tr>\n",
       "      <th>weighted avg</th>\n",
       "      <td>1.0</td>\n",
       "      <td>1.0</td>\n",
       "      <td>1.0</td>\n",
       "      <td>24</td>\n",
       "    </tr>\n",
       "  </tbody>\n",
       "</table>\n",
       "</div>"
      ],
      "text/plain": [
       "                      precision  recall  f1-score  support\n",
       "Amino-acid transport        1.0     1.0       1.0        7\n",
       "Sugar transport             1.0     1.0       1.0       17\n",
       "macro avg                   1.0     1.0       1.0       24\n",
       "weighted avg                1.0     1.0       1.0       24"
      ]
     },
     "execution_count": 21,
     "metadata": {},
     "output_type": "execute_result"
    }
   ],
   "source": [
    "get_classification_report(X_test, y_test, best_estimator_svc_kbest, labels=labels)"
   ]
  },
  {
   "cell_type": "markdown",
   "metadata": {},
   "source": [
    "### PCA"
   ]
  },
  {
   "cell_type": "code",
   "execution_count": 22,
   "metadata": {
    "execution": {
     "iopub.execute_input": "2022-07-15T13:46:22.922159Z",
     "iopub.status.busy": "2022-07-15T13:46:22.921735Z",
     "iopub.status.idle": "2022-07-15T13:46:22.938169Z",
     "shell.execute_reply": "2022-07-15T13:46:22.937182Z"
    }
   },
   "outputs": [
    {
     "data": {
      "text/html": [
       "<div>\n",
       "<style scoped>\n",
       "    .dataframe tbody tr th:only-of-type {\n",
       "        vertical-align: middle;\n",
       "    }\n",
       "\n",
       "    .dataframe tbody tr th {\n",
       "        vertical-align: top;\n",
       "    }\n",
       "\n",
       "    .dataframe thead th {\n",
       "        text-align: right;\n",
       "    }\n",
       "</style>\n",
       "<table border=\"1\" class=\"dataframe\">\n",
       "  <thead>\n",
       "    <tr style=\"text-align: right;\">\n",
       "      <th>predicted</th>\n",
       "      <th>Amino-acid transport</th>\n",
       "      <th>Sugar transport</th>\n",
       "    </tr>\n",
       "    <tr>\n",
       "      <th>observed</th>\n",
       "      <th></th>\n",
       "      <th></th>\n",
       "    </tr>\n",
       "  </thead>\n",
       "  <tbody>\n",
       "    <tr>\n",
       "      <th>Amino-acid transport</th>\n",
       "      <td>7</td>\n",
       "      <td>0</td>\n",
       "    </tr>\n",
       "    <tr>\n",
       "      <th>Sugar transport</th>\n",
       "      <td>0</td>\n",
       "      <td>17</td>\n",
       "    </tr>\n",
       "  </tbody>\n",
       "</table>\n",
       "</div>"
      ],
      "text/plain": [
       "predicted             Amino-acid transport  Sugar transport\n",
       "observed                                                   \n",
       "Amino-acid transport                     7                0\n",
       "Sugar transport                          0               17"
      ]
     },
     "execution_count": 22,
     "metadata": {},
     "output_type": "execute_result"
    }
   ],
   "source": [
    "get_confusion_matrix(X_test, y_test, best_estimator_svc_pca, labels=labels)"
   ]
  },
  {
   "cell_type": "code",
   "execution_count": 23,
   "metadata": {
    "execution": {
     "iopub.execute_input": "2022-07-15T13:46:22.943712Z",
     "iopub.status.busy": "2022-07-15T13:46:22.943370Z",
     "iopub.status.idle": "2022-07-15T13:46:22.965345Z",
     "shell.execute_reply": "2022-07-15T13:46:22.964904Z"
    }
   },
   "outputs": [
    {
     "data": {
      "text/html": [
       "<div>\n",
       "<style scoped>\n",
       "    .dataframe tbody tr th:only-of-type {\n",
       "        vertical-align: middle;\n",
       "    }\n",
       "\n",
       "    .dataframe tbody tr th {\n",
       "        vertical-align: top;\n",
       "    }\n",
       "\n",
       "    .dataframe thead th {\n",
       "        text-align: right;\n",
       "    }\n",
       "</style>\n",
       "<table border=\"1\" class=\"dataframe\">\n",
       "  <thead>\n",
       "    <tr style=\"text-align: right;\">\n",
       "      <th></th>\n",
       "      <th>precision</th>\n",
       "      <th>recall</th>\n",
       "      <th>f1-score</th>\n",
       "      <th>support</th>\n",
       "    </tr>\n",
       "  </thead>\n",
       "  <tbody>\n",
       "    <tr>\n",
       "      <th>Amino-acid transport</th>\n",
       "      <td>1.0</td>\n",
       "      <td>1.0</td>\n",
       "      <td>1.0</td>\n",
       "      <td>7</td>\n",
       "    </tr>\n",
       "    <tr>\n",
       "      <th>Sugar transport</th>\n",
       "      <td>1.0</td>\n",
       "      <td>1.0</td>\n",
       "      <td>1.0</td>\n",
       "      <td>17</td>\n",
       "    </tr>\n",
       "    <tr>\n",
       "      <th>macro avg</th>\n",
       "      <td>1.0</td>\n",
       "      <td>1.0</td>\n",
       "      <td>1.0</td>\n",
       "      <td>24</td>\n",
       "    </tr>\n",
       "    <tr>\n",
       "      <th>weighted avg</th>\n",
       "      <td>1.0</td>\n",
       "      <td>1.0</td>\n",
       "      <td>1.0</td>\n",
       "      <td>24</td>\n",
       "    </tr>\n",
       "  </tbody>\n",
       "</table>\n",
       "</div>"
      ],
      "text/plain": [
       "                      precision  recall  f1-score  support\n",
       "Amino-acid transport        1.0     1.0       1.0        7\n",
       "Sugar transport             1.0     1.0       1.0       17\n",
       "macro avg                   1.0     1.0       1.0       24\n",
       "weighted avg                1.0     1.0       1.0       24"
      ]
     },
     "execution_count": 23,
     "metadata": {},
     "output_type": "execute_result"
    }
   ],
   "source": [
    "get_classification_report(X_test, y_test, best_estimator_svc_pca, labels=labels)"
   ]
  },
  {
   "cell_type": "markdown",
   "metadata": {},
   "source": [
    "## Estimating validation variance\n",
    "\n",
    "How much did the result depend on choosing the training and test sets?\n",
    "\n",
    "Mean and standard deviation for randomly selected training and validation sets."
   ]
  },
  {
   "cell_type": "code",
   "execution_count": 24,
   "metadata": {
    "execution": {
     "iopub.execute_input": "2022-07-15T13:46:22.969470Z",
     "iopub.status.busy": "2022-07-15T13:46:22.969233Z",
     "iopub.status.idle": "2022-07-15T13:53:26.657266Z",
     "shell.execute_reply": "2022-07-15T13:53:26.655991Z"
    }
   },
   "outputs": [
    {
     "name": "stdout",
     "output_type": "stream",
     "text": [
      "Mean F1\n"
     ]
    },
    {
     "data": {
      "text/html": [
       "<div>\n",
       "<style scoped>\n",
       "    .dataframe tbody tr th:only-of-type {\n",
       "        vertical-align: middle;\n",
       "    }\n",
       "\n",
       "    .dataframe tbody tr th {\n",
       "        vertical-align: top;\n",
       "    }\n",
       "\n",
       "    .dataframe thead th {\n",
       "        text-align: right;\n",
       "    }\n",
       "</style>\n",
       "<table border=\"1\" class=\"dataframe\">\n",
       "  <thead>\n",
       "    <tr style=\"text-align: right;\">\n",
       "      <th>dataset</th>\n",
       "      <th>test</th>\n",
       "      <th>train</th>\n",
       "    </tr>\n",
       "    <tr>\n",
       "      <th>label</th>\n",
       "      <th></th>\n",
       "      <th></th>\n",
       "    </tr>\n",
       "  </thead>\n",
       "  <tbody>\n",
       "    <tr>\n",
       "      <th>Amino-acid transport</th>\n",
       "      <td>0.9536</td>\n",
       "      <td>0.9960</td>\n",
       "    </tr>\n",
       "    <tr>\n",
       "      <th>Sugar transport</th>\n",
       "      <td>0.9827</td>\n",
       "      <td>0.9986</td>\n",
       "    </tr>\n",
       "  </tbody>\n",
       "</table>\n",
       "</div>"
      ],
      "text/plain": [
       "dataset                 test   train\n",
       "label                               \n",
       "Amino-acid transport  0.9536  0.9960\n",
       "Sugar transport       0.9827  0.9986"
      ]
     },
     "metadata": {},
     "output_type": "display_data"
    },
    {
     "name": "stdout",
     "output_type": "stream",
     "text": [
      "Sdev F1\n"
     ]
    },
    {
     "data": {
      "text/html": [
       "<div>\n",
       "<style scoped>\n",
       "    .dataframe tbody tr th:only-of-type {\n",
       "        vertical-align: middle;\n",
       "    }\n",
       "\n",
       "    .dataframe tbody tr th {\n",
       "        vertical-align: top;\n",
       "    }\n",
       "\n",
       "    .dataframe thead th {\n",
       "        text-align: right;\n",
       "    }\n",
       "</style>\n",
       "<table border=\"1\" class=\"dataframe\">\n",
       "  <thead>\n",
       "    <tr style=\"text-align: right;\">\n",
       "      <th>dataset</th>\n",
       "      <th>test</th>\n",
       "      <th>train</th>\n",
       "    </tr>\n",
       "    <tr>\n",
       "      <th>label</th>\n",
       "      <th></th>\n",
       "      <th></th>\n",
       "    </tr>\n",
       "  </thead>\n",
       "  <tbody>\n",
       "    <tr>\n",
       "      <th>Amino-acid transport</th>\n",
       "      <td>0.065546</td>\n",
       "      <td>0.008433</td>\n",
       "    </tr>\n",
       "    <tr>\n",
       "      <th>Sugar transport</th>\n",
       "      <td>0.024281</td>\n",
       "      <td>0.002951</td>\n",
       "    </tr>\n",
       "  </tbody>\n",
       "</table>\n",
       "</div>"
      ],
      "text/plain": [
       "dataset                   test     train\n",
       "label                                   \n",
       "Amino-acid transport  0.065546  0.008433\n",
       "Sugar transport       0.024281  0.002951"
      ]
     },
     "metadata": {},
     "output_type": "display_data"
    },
    {
     "name": "stdout",
     "output_type": "stream",
     "text": [
      "Parameters\n"
     ]
    },
    {
     "data": {
      "text/html": [
       "<div>\n",
       "<style scoped>\n",
       "    .dataframe tbody tr th:only-of-type {\n",
       "        vertical-align: middle;\n",
       "    }\n",
       "\n",
       "    .dataframe tbody tr th {\n",
       "        vertical-align: top;\n",
       "    }\n",
       "\n",
       "    .dataframe thead th {\n",
       "        text-align: right;\n",
       "    }\n",
       "</style>\n",
       "<table border=\"1\" class=\"dataframe\">\n",
       "  <thead>\n",
       "    <tr style=\"text-align: right;\">\n",
       "      <th></th>\n",
       "      <th>0</th>\n",
       "      <th>1</th>\n",
       "      <th>2</th>\n",
       "      <th>3</th>\n",
       "      <th>4</th>\n",
       "      <th>5</th>\n",
       "      <th>6</th>\n",
       "      <th>7</th>\n",
       "      <th>8</th>\n",
       "      <th>9</th>\n",
       "    </tr>\n",
       "  </thead>\n",
       "  <tbody>\n",
       "    <tr>\n",
       "      <th>pca__n_components</th>\n",
       "      <td>0.95</td>\n",
       "      <td>0.94</td>\n",
       "      <td>0.98</td>\n",
       "      <td>0.92</td>\n",
       "      <td>0.95</td>\n",
       "      <td>0.82</td>\n",
       "      <td>0.96</td>\n",
       "      <td>0.96</td>\n",
       "      <td>0.92</td>\n",
       "      <td>0.99</td>\n",
       "    </tr>\n",
       "    <tr>\n",
       "      <th>pssmselector__iterations</th>\n",
       "      <td>3</td>\n",
       "      <td>all</td>\n",
       "      <td>3</td>\n",
       "      <td>1</td>\n",
       "      <td>all</td>\n",
       "      <td>3</td>\n",
       "      <td>1</td>\n",
       "      <td>3</td>\n",
       "      <td>3</td>\n",
       "      <td>3</td>\n",
       "    </tr>\n",
       "    <tr>\n",
       "      <th>pssmselector__uniref_threshold</th>\n",
       "      <td>all</td>\n",
       "      <td>all</td>\n",
       "      <td>50</td>\n",
       "      <td>50</td>\n",
       "      <td>all</td>\n",
       "      <td>50</td>\n",
       "      <td>90</td>\n",
       "      <td>all</td>\n",
       "      <td>50</td>\n",
       "      <td>50</td>\n",
       "    </tr>\n",
       "    <tr>\n",
       "      <th>svc__C</th>\n",
       "      <td>1</td>\n",
       "      <td>1</td>\n",
       "      <td>10</td>\n",
       "      <td>1</td>\n",
       "      <td>1</td>\n",
       "      <td>1</td>\n",
       "      <td>10</td>\n",
       "      <td>1</td>\n",
       "      <td>10</td>\n",
       "      <td>1</td>\n",
       "    </tr>\n",
       "    <tr>\n",
       "      <th>svc__class_weight</th>\n",
       "      <td>balanced</td>\n",
       "      <td>balanced</td>\n",
       "      <td>balanced</td>\n",
       "      <td>None</td>\n",
       "      <td>balanced</td>\n",
       "      <td>balanced</td>\n",
       "      <td>balanced</td>\n",
       "      <td>balanced</td>\n",
       "      <td>balanced</td>\n",
       "      <td>balanced</td>\n",
       "    </tr>\n",
       "    <tr>\n",
       "      <th>svc__gamma</th>\n",
       "      <td>0.01</td>\n",
       "      <td>scale</td>\n",
       "      <td>0.01</td>\n",
       "      <td>scale</td>\n",
       "      <td>0.01</td>\n",
       "      <td>scale</td>\n",
       "      <td>0.01</td>\n",
       "      <td>0.01</td>\n",
       "      <td>0.01</td>\n",
       "      <td>0.01</td>\n",
       "    </tr>\n",
       "  </tbody>\n",
       "</table>\n",
       "</div>"
      ],
      "text/plain": [
       "                                       0         1         2      3         4  \\\n",
       "pca__n_components                   0.95      0.94      0.98   0.92      0.95   \n",
       "pssmselector__iterations               3       all         3      1       all   \n",
       "pssmselector__uniref_threshold       all       all        50     50       all   \n",
       "svc__C                                 1         1        10      1         1   \n",
       "svc__class_weight               balanced  balanced  balanced   None  balanced   \n",
       "svc__gamma                          0.01     scale      0.01  scale      0.01   \n",
       "\n",
       "                                       5         6         7         8  \\\n",
       "pca__n_components                   0.82      0.96      0.96      0.92   \n",
       "pssmselector__iterations               3         1         3         3   \n",
       "pssmselector__uniref_threshold        50        90       all        50   \n",
       "svc__C                                 1        10         1        10   \n",
       "svc__class_weight               balanced  balanced  balanced  balanced   \n",
       "svc__gamma                         scale      0.01      0.01      0.01   \n",
       "\n",
       "                                       9  \n",
       "pca__n_components                   0.99  \n",
       "pssmselector__iterations               3  \n",
       "pssmselector__uniref_threshold        50  \n",
       "svc__C                                 1  \n",
       "svc__class_weight               balanced  \n",
       "svc__gamma                          0.01  "
      ]
     },
     "metadata": {},
     "output_type": "display_data"
    }
   ],
   "source": [
    "df_scores, df_params = full_test(\n",
    "    df_pssm,\n",
    "    labels,\n",
    "    dim_reduction=\"pca\",\n",
    "    kernel=\"rbf\",\n",
    "    repetitions=10,\n",
    "    feature_transformer=\"pssm\",\n",
    ")\n",
    "df_scores_gr = df_scores.groupby([\"label\", \"dataset\"], as_index=False)\n",
    "print(\"Mean F1\")\n",
    "display(df_scores_gr.mean().pivot(index=\"label\", columns=\"dataset\", values=\"F1 score\"))\n",
    "print(\"Sdev F1\")\n",
    "display(df_scores_gr.std().pivot(index=\"label\", columns=\"dataset\", values=\"F1 score\"))\n",
    "print(\"Parameters\")\n",
    "display(df_params)"
   ]
  },
  {
   "cell_type": "markdown",
   "metadata": {},
   "source": [
    "There is some variance in choosing the PSSM parameters across the splits. What if we set it to only Uniref50/3 iterations?"
   ]
  },
  {
   "cell_type": "code",
   "execution_count": 25,
   "metadata": {
    "execution": {
     "iopub.execute_input": "2022-07-15T13:53:26.662588Z",
     "iopub.status.busy": "2022-07-15T13:53:26.662118Z",
     "iopub.status.idle": "2022-07-15T13:53:26.697275Z",
     "shell.execute_reply": "2022-07-15T13:53:26.696804Z"
    }
   },
   "outputs": [
    {
     "data": {
      "text/html": [
       "<div>\n",
       "<style scoped>\n",
       "    .dataframe tbody tr th:only-of-type {\n",
       "        vertical-align: middle;\n",
       "    }\n",
       "\n",
       "    .dataframe tbody tr th {\n",
       "        vertical-align: top;\n",
       "    }\n",
       "\n",
       "    .dataframe thead th {\n",
       "        text-align: right;\n",
       "    }\n",
       "</style>\n",
       "<table border=\"1\" class=\"dataframe\">\n",
       "  <thead>\n",
       "    <tr style=\"text-align: right;\">\n",
       "      <th></th>\n",
       "      <th>AA_50_3</th>\n",
       "      <th>AR_50_3</th>\n",
       "      <th>AN_50_3</th>\n",
       "      <th>AD_50_3</th>\n",
       "      <th>AC_50_3</th>\n",
       "      <th>AQ_50_3</th>\n",
       "      <th>AE_50_3</th>\n",
       "      <th>AG_50_3</th>\n",
       "      <th>AH_50_3</th>\n",
       "      <th>AI_50_3</th>\n",
       "      <th>...</th>\n",
       "      <th>VL_50_3</th>\n",
       "      <th>VK_50_3</th>\n",
       "      <th>VM_50_3</th>\n",
       "      <th>VF_50_3</th>\n",
       "      <th>VP_50_3</th>\n",
       "      <th>VS_50_3</th>\n",
       "      <th>VT_50_3</th>\n",
       "      <th>VW_50_3</th>\n",
       "      <th>VY_50_3</th>\n",
       "      <th>VV_50_3</th>\n",
       "    </tr>\n",
       "    <tr>\n",
       "      <th>Uniprot</th>\n",
       "      <th></th>\n",
       "      <th></th>\n",
       "      <th></th>\n",
       "      <th></th>\n",
       "      <th></th>\n",
       "      <th></th>\n",
       "      <th></th>\n",
       "      <th></th>\n",
       "      <th></th>\n",
       "      <th></th>\n",
       "      <th></th>\n",
       "      <th></th>\n",
       "      <th></th>\n",
       "      <th></th>\n",
       "      <th></th>\n",
       "      <th></th>\n",
       "      <th></th>\n",
       "      <th></th>\n",
       "      <th></th>\n",
       "      <th></th>\n",
       "      <th></th>\n",
       "    </tr>\n",
       "  </thead>\n",
       "  <tbody>\n",
       "    <tr>\n",
       "      <th>Q9SFG0</th>\n",
       "      <td>0.817597</td>\n",
       "      <td>0.281116</td>\n",
       "      <td>0.349785</td>\n",
       "      <td>0.240343</td>\n",
       "      <td>0.379828</td>\n",
       "      <td>0.394850</td>\n",
       "      <td>0.315451</td>\n",
       "      <td>0.590129</td>\n",
       "      <td>0.236052</td>\n",
       "      <td>0.324034</td>\n",
       "      <td>...</td>\n",
       "      <td>0.549356</td>\n",
       "      <td>0.469957</td>\n",
       "      <td>0.536481</td>\n",
       "      <td>0.643777</td>\n",
       "      <td>0.459227</td>\n",
       "      <td>0.484979</td>\n",
       "      <td>0.484979</td>\n",
       "      <td>0.637339</td>\n",
       "      <td>0.701717</td>\n",
       "      <td>0.508584</td>\n",
       "    </tr>\n",
       "    <tr>\n",
       "      <th>Q84WN3</th>\n",
       "      <td>0.695000</td>\n",
       "      <td>0.340000</td>\n",
       "      <td>0.370000</td>\n",
       "      <td>0.320000</td>\n",
       "      <td>0.590000</td>\n",
       "      <td>0.360000</td>\n",
       "      <td>0.355000</td>\n",
       "      <td>0.525000</td>\n",
       "      <td>0.330000</td>\n",
       "      <td>0.600000</td>\n",
       "      <td>...</td>\n",
       "      <td>0.485000</td>\n",
       "      <td>0.290000</td>\n",
       "      <td>0.490000</td>\n",
       "      <td>0.840000</td>\n",
       "      <td>0.205000</td>\n",
       "      <td>0.385000</td>\n",
       "      <td>0.385000</td>\n",
       "      <td>0.545000</td>\n",
       "      <td>1.000000</td>\n",
       "      <td>0.435000</td>\n",
       "    </tr>\n",
       "    <tr>\n",
       "      <th>O04249</th>\n",
       "      <td>0.772643</td>\n",
       "      <td>0.349353</td>\n",
       "      <td>0.397412</td>\n",
       "      <td>0.327172</td>\n",
       "      <td>0.462107</td>\n",
       "      <td>0.414048</td>\n",
       "      <td>0.367837</td>\n",
       "      <td>0.609982</td>\n",
       "      <td>0.327172</td>\n",
       "      <td>0.462107</td>\n",
       "      <td>...</td>\n",
       "      <td>0.567468</td>\n",
       "      <td>0.495379</td>\n",
       "      <td>0.548983</td>\n",
       "      <td>0.639556</td>\n",
       "      <td>0.493530</td>\n",
       "      <td>0.502773</td>\n",
       "      <td>0.512015</td>\n",
       "      <td>0.606285</td>\n",
       "      <td>0.709797</td>\n",
       "      <td>0.530499</td>\n",
       "    </tr>\n",
       "    <tr>\n",
       "      <th>Q56ZZ7</th>\n",
       "      <td>0.812925</td>\n",
       "      <td>0.188776</td>\n",
       "      <td>0.234694</td>\n",
       "      <td>0.159864</td>\n",
       "      <td>0.409864</td>\n",
       "      <td>0.256803</td>\n",
       "      <td>0.214286</td>\n",
       "      <td>0.561224</td>\n",
       "      <td>0.173469</td>\n",
       "      <td>0.433673</td>\n",
       "      <td>...</td>\n",
       "      <td>0.530612</td>\n",
       "      <td>0.459184</td>\n",
       "      <td>0.525510</td>\n",
       "      <td>0.664966</td>\n",
       "      <td>0.438776</td>\n",
       "      <td>0.511905</td>\n",
       "      <td>0.510204</td>\n",
       "      <td>0.554422</td>\n",
       "      <td>0.695578</td>\n",
       "      <td>0.511905</td>\n",
       "    </tr>\n",
       "    <tr>\n",
       "      <th>Q8H184</th>\n",
       "      <td>0.781931</td>\n",
       "      <td>0.320872</td>\n",
       "      <td>0.389408</td>\n",
       "      <td>0.286604</td>\n",
       "      <td>0.560748</td>\n",
       "      <td>0.404984</td>\n",
       "      <td>0.342679</td>\n",
       "      <td>0.548287</td>\n",
       "      <td>0.380062</td>\n",
       "      <td>0.485981</td>\n",
       "      <td>...</td>\n",
       "      <td>0.610592</td>\n",
       "      <td>0.492212</td>\n",
       "      <td>0.626168</td>\n",
       "      <td>0.700935</td>\n",
       "      <td>0.467290</td>\n",
       "      <td>0.538941</td>\n",
       "      <td>0.557632</td>\n",
       "      <td>0.613707</td>\n",
       "      <td>0.722741</td>\n",
       "      <td>0.613707</td>\n",
       "    </tr>\n",
       "    <tr>\n",
       "      <th>...</th>\n",
       "      <td>...</td>\n",
       "      <td>...</td>\n",
       "      <td>...</td>\n",
       "      <td>...</td>\n",
       "      <td>...</td>\n",
       "      <td>...</td>\n",
       "      <td>...</td>\n",
       "      <td>...</td>\n",
       "      <td>...</td>\n",
       "      <td>...</td>\n",
       "      <td>...</td>\n",
       "      <td>...</td>\n",
       "      <td>...</td>\n",
       "      <td>...</td>\n",
       "      <td>...</td>\n",
       "      <td>...</td>\n",
       "      <td>...</td>\n",
       "      <td>...</td>\n",
       "      <td>...</td>\n",
       "      <td>...</td>\n",
       "      <td>...</td>\n",
       "    </tr>\n",
       "    <tr>\n",
       "      <th>Q94B65</th>\n",
       "      <td>0.802260</td>\n",
       "      <td>0.375706</td>\n",
       "      <td>0.401130</td>\n",
       "      <td>0.324859</td>\n",
       "      <td>0.590395</td>\n",
       "      <td>0.446328</td>\n",
       "      <td>0.384181</td>\n",
       "      <td>0.573446</td>\n",
       "      <td>0.372881</td>\n",
       "      <td>0.612994</td>\n",
       "      <td>...</td>\n",
       "      <td>0.598870</td>\n",
       "      <td>0.525424</td>\n",
       "      <td>0.587571</td>\n",
       "      <td>0.751412</td>\n",
       "      <td>0.460452</td>\n",
       "      <td>0.550847</td>\n",
       "      <td>0.545198</td>\n",
       "      <td>0.692090</td>\n",
       "      <td>0.858757</td>\n",
       "      <td>0.584746</td>\n",
       "    </tr>\n",
       "    <tr>\n",
       "      <th>Q0WWW9</th>\n",
       "      <td>0.811047</td>\n",
       "      <td>0.428779</td>\n",
       "      <td>0.463663</td>\n",
       "      <td>0.436047</td>\n",
       "      <td>0.607558</td>\n",
       "      <td>0.450581</td>\n",
       "      <td>0.460756</td>\n",
       "      <td>0.611919</td>\n",
       "      <td>0.404070</td>\n",
       "      <td>0.529070</td>\n",
       "      <td>...</td>\n",
       "      <td>0.598837</td>\n",
       "      <td>0.502907</td>\n",
       "      <td>0.590116</td>\n",
       "      <td>0.703488</td>\n",
       "      <td>0.497093</td>\n",
       "      <td>0.555233</td>\n",
       "      <td>0.547965</td>\n",
       "      <td>0.590116</td>\n",
       "      <td>0.725291</td>\n",
       "      <td>0.566860</td>\n",
       "    </tr>\n",
       "    <tr>\n",
       "      <th>Q2V4B9</th>\n",
       "      <td>0.840367</td>\n",
       "      <td>0.315596</td>\n",
       "      <td>0.374312</td>\n",
       "      <td>0.346789</td>\n",
       "      <td>0.495413</td>\n",
       "      <td>0.405505</td>\n",
       "      <td>0.403670</td>\n",
       "      <td>0.601835</td>\n",
       "      <td>0.295413</td>\n",
       "      <td>0.475229</td>\n",
       "      <td>...</td>\n",
       "      <td>0.609174</td>\n",
       "      <td>0.565138</td>\n",
       "      <td>0.607339</td>\n",
       "      <td>0.653211</td>\n",
       "      <td>0.541284</td>\n",
       "      <td>0.583486</td>\n",
       "      <td>0.585321</td>\n",
       "      <td>0.596330</td>\n",
       "      <td>0.678899</td>\n",
       "      <td>0.579817</td>\n",
       "    </tr>\n",
       "    <tr>\n",
       "      <th>Q94EI9</th>\n",
       "      <td>0.829545</td>\n",
       "      <td>0.366477</td>\n",
       "      <td>0.375000</td>\n",
       "      <td>0.318182</td>\n",
       "      <td>0.676136</td>\n",
       "      <td>0.411932</td>\n",
       "      <td>0.360795</td>\n",
       "      <td>0.579545</td>\n",
       "      <td>0.380682</td>\n",
       "      <td>0.551136</td>\n",
       "      <td>...</td>\n",
       "      <td>0.644886</td>\n",
       "      <td>0.465909</td>\n",
       "      <td>0.602273</td>\n",
       "      <td>0.741477</td>\n",
       "      <td>0.426136</td>\n",
       "      <td>0.517045</td>\n",
       "      <td>0.525568</td>\n",
       "      <td>0.710227</td>\n",
       "      <td>0.855114</td>\n",
       "      <td>0.585227</td>\n",
       "    </tr>\n",
       "    <tr>\n",
       "      <th>F4IHS9</th>\n",
       "      <td>0.793017</td>\n",
       "      <td>0.473815</td>\n",
       "      <td>0.513716</td>\n",
       "      <td>0.456359</td>\n",
       "      <td>0.663342</td>\n",
       "      <td>0.516209</td>\n",
       "      <td>0.481297</td>\n",
       "      <td>0.618454</td>\n",
       "      <td>0.481297</td>\n",
       "      <td>0.620948</td>\n",
       "      <td>...</td>\n",
       "      <td>0.653367</td>\n",
       "      <td>0.578554</td>\n",
       "      <td>0.680798</td>\n",
       "      <td>0.730673</td>\n",
       "      <td>0.563591</td>\n",
       "      <td>0.628429</td>\n",
       "      <td>0.638404</td>\n",
       "      <td>0.720698</td>\n",
       "      <td>0.770574</td>\n",
       "      <td>0.643392</td>\n",
       "    </tr>\n",
       "  </tbody>\n",
       "</table>\n",
       "<p>117 rows × 400 columns</p>\n",
       "</div>"
      ],
      "text/plain": [
       "          AA_50_3   AR_50_3   AN_50_3   AD_50_3   AC_50_3   AQ_50_3   AE_50_3  \\\n",
       "Uniprot                                                                         \n",
       "Q9SFG0   0.817597  0.281116  0.349785  0.240343  0.379828  0.394850  0.315451   \n",
       "Q84WN3   0.695000  0.340000  0.370000  0.320000  0.590000  0.360000  0.355000   \n",
       "O04249   0.772643  0.349353  0.397412  0.327172  0.462107  0.414048  0.367837   \n",
       "Q56ZZ7   0.812925  0.188776  0.234694  0.159864  0.409864  0.256803  0.214286   \n",
       "Q8H184   0.781931  0.320872  0.389408  0.286604  0.560748  0.404984  0.342679   \n",
       "...           ...       ...       ...       ...       ...       ...       ...   \n",
       "Q94B65   0.802260  0.375706  0.401130  0.324859  0.590395  0.446328  0.384181   \n",
       "Q0WWW9   0.811047  0.428779  0.463663  0.436047  0.607558  0.450581  0.460756   \n",
       "Q2V4B9   0.840367  0.315596  0.374312  0.346789  0.495413  0.405505  0.403670   \n",
       "Q94EI9   0.829545  0.366477  0.375000  0.318182  0.676136  0.411932  0.360795   \n",
       "F4IHS9   0.793017  0.473815  0.513716  0.456359  0.663342  0.516209  0.481297   \n",
       "\n",
       "          AG_50_3   AH_50_3   AI_50_3  ...   VL_50_3   VK_50_3   VM_50_3  \\\n",
       "Uniprot                                ...                                 \n",
       "Q9SFG0   0.590129  0.236052  0.324034  ...  0.549356  0.469957  0.536481   \n",
       "Q84WN3   0.525000  0.330000  0.600000  ...  0.485000  0.290000  0.490000   \n",
       "O04249   0.609982  0.327172  0.462107  ...  0.567468  0.495379  0.548983   \n",
       "Q56ZZ7   0.561224  0.173469  0.433673  ...  0.530612  0.459184  0.525510   \n",
       "Q8H184   0.548287  0.380062  0.485981  ...  0.610592  0.492212  0.626168   \n",
       "...           ...       ...       ...  ...       ...       ...       ...   \n",
       "Q94B65   0.573446  0.372881  0.612994  ...  0.598870  0.525424  0.587571   \n",
       "Q0WWW9   0.611919  0.404070  0.529070  ...  0.598837  0.502907  0.590116   \n",
       "Q2V4B9   0.601835  0.295413  0.475229  ...  0.609174  0.565138  0.607339   \n",
       "Q94EI9   0.579545  0.380682  0.551136  ...  0.644886  0.465909  0.602273   \n",
       "F4IHS9   0.618454  0.481297  0.620948  ...  0.653367  0.578554  0.680798   \n",
       "\n",
       "          VF_50_3   VP_50_3   VS_50_3   VT_50_3   VW_50_3   VY_50_3   VV_50_3  \n",
       "Uniprot                                                                        \n",
       "Q9SFG0   0.643777  0.459227  0.484979  0.484979  0.637339  0.701717  0.508584  \n",
       "Q84WN3   0.840000  0.205000  0.385000  0.385000  0.545000  1.000000  0.435000  \n",
       "O04249   0.639556  0.493530  0.502773  0.512015  0.606285  0.709797  0.530499  \n",
       "Q56ZZ7   0.664966  0.438776  0.511905  0.510204  0.554422  0.695578  0.511905  \n",
       "Q8H184   0.700935  0.467290  0.538941  0.557632  0.613707  0.722741  0.613707  \n",
       "...           ...       ...       ...       ...       ...       ...       ...  \n",
       "Q94B65   0.751412  0.460452  0.550847  0.545198  0.692090  0.858757  0.584746  \n",
       "Q0WWW9   0.703488  0.497093  0.555233  0.547965  0.590116  0.725291  0.566860  \n",
       "Q2V4B9   0.653211  0.541284  0.583486  0.585321  0.596330  0.678899  0.579817  \n",
       "Q94EI9   0.741477  0.426136  0.517045  0.525568  0.710227  0.855114  0.585227  \n",
       "F4IHS9   0.730673  0.563591  0.628429  0.638404  0.720698  0.770574  0.643392  \n",
       "\n",
       "[117 rows x 400 columns]"
      ]
     },
     "execution_count": 25,
     "metadata": {},
     "output_type": "execute_result"
    }
   ],
   "source": [
    "df_pssm_50_3 = df_pssm.loc[:,df_pssm.columns.str.endswith(\"50_3\")]\n",
    "\n",
    "df_pssm_50_3"
   ]
  },
  {
   "cell_type": "code",
   "execution_count": 26,
   "metadata": {
    "execution": {
     "iopub.execute_input": "2022-07-15T13:53:26.700018Z",
     "iopub.status.busy": "2022-07-15T13:53:26.699831Z",
     "iopub.status.idle": "2022-07-15T13:54:01.211177Z",
     "shell.execute_reply": "2022-07-15T13:54:01.210301Z"
    }
   },
   "outputs": [
    {
     "name": "stdout",
     "output_type": "stream",
     "text": [
      "Mean F1\n"
     ]
    },
    {
     "data": {
      "text/html": [
       "<div>\n",
       "<style scoped>\n",
       "    .dataframe tbody tr th:only-of-type {\n",
       "        vertical-align: middle;\n",
       "    }\n",
       "\n",
       "    .dataframe tbody tr th {\n",
       "        vertical-align: top;\n",
       "    }\n",
       "\n",
       "    .dataframe thead th {\n",
       "        text-align: right;\n",
       "    }\n",
       "</style>\n",
       "<table border=\"1\" class=\"dataframe\">\n",
       "  <thead>\n",
       "    <tr style=\"text-align: right;\">\n",
       "      <th>dataset</th>\n",
       "      <th>test</th>\n",
       "      <th>train</th>\n",
       "    </tr>\n",
       "    <tr>\n",
       "      <th>label</th>\n",
       "      <th></th>\n",
       "      <th></th>\n",
       "    </tr>\n",
       "  </thead>\n",
       "  <tbody>\n",
       "    <tr>\n",
       "      <th>Amino-acid transport</th>\n",
       "      <td>0.9469</td>\n",
       "      <td>0.9881</td>\n",
       "    </tr>\n",
       "    <tr>\n",
       "      <th>Sugar transport</th>\n",
       "      <td>0.9797</td>\n",
       "      <td>0.9957</td>\n",
       "    </tr>\n",
       "  </tbody>\n",
       "</table>\n",
       "</div>"
      ],
      "text/plain": [
       "dataset                 test   train\n",
       "label                               \n",
       "Amino-acid transport  0.9469  0.9881\n",
       "Sugar transport       0.9797  0.9957"
      ]
     },
     "metadata": {},
     "output_type": "display_data"
    },
    {
     "name": "stdout",
     "output_type": "stream",
     "text": [
      "Sdev F1\n"
     ]
    },
    {
     "data": {
      "text/html": [
       "<div>\n",
       "<style scoped>\n",
       "    .dataframe tbody tr th:only-of-type {\n",
       "        vertical-align: middle;\n",
       "    }\n",
       "\n",
       "    .dataframe tbody tr th {\n",
       "        vertical-align: top;\n",
       "    }\n",
       "\n",
       "    .dataframe thead th {\n",
       "        text-align: right;\n",
       "    }\n",
       "</style>\n",
       "<table border=\"1\" class=\"dataframe\">\n",
       "  <thead>\n",
       "    <tr style=\"text-align: right;\">\n",
       "      <th>dataset</th>\n",
       "      <th>test</th>\n",
       "      <th>train</th>\n",
       "    </tr>\n",
       "    <tr>\n",
       "      <th>label</th>\n",
       "      <th></th>\n",
       "      <th></th>\n",
       "    </tr>\n",
       "  </thead>\n",
       "  <tbody>\n",
       "    <tr>\n",
       "      <th>Amino-acid transport</th>\n",
       "      <td>0.063674</td>\n",
       "      <td>0.010246</td>\n",
       "    </tr>\n",
       "    <tr>\n",
       "      <th>Sugar transport</th>\n",
       "      <td>0.023754</td>\n",
       "      <td>0.003713</td>\n",
       "    </tr>\n",
       "  </tbody>\n",
       "</table>\n",
       "</div>"
      ],
      "text/plain": [
       "dataset                   test     train\n",
       "label                                   \n",
       "Amino-acid transport  0.063674  0.010246\n",
       "Sugar transport       0.023754  0.003713"
      ]
     },
     "metadata": {},
     "output_type": "display_data"
    },
    {
     "name": "stdout",
     "output_type": "stream",
     "text": [
      "Parameters\n"
     ]
    },
    {
     "data": {
      "text/html": [
       "<div>\n",
       "<style scoped>\n",
       "    .dataframe tbody tr th:only-of-type {\n",
       "        vertical-align: middle;\n",
       "    }\n",
       "\n",
       "    .dataframe tbody tr th {\n",
       "        vertical-align: top;\n",
       "    }\n",
       "\n",
       "    .dataframe thead th {\n",
       "        text-align: right;\n",
       "    }\n",
       "</style>\n",
       "<table border=\"1\" class=\"dataframe\">\n",
       "  <thead>\n",
       "    <tr style=\"text-align: right;\">\n",
       "      <th></th>\n",
       "      <th>0</th>\n",
       "      <th>1</th>\n",
       "      <th>2</th>\n",
       "      <th>3</th>\n",
       "      <th>4</th>\n",
       "      <th>5</th>\n",
       "      <th>6</th>\n",
       "      <th>7</th>\n",
       "      <th>8</th>\n",
       "      <th>9</th>\n",
       "    </tr>\n",
       "  </thead>\n",
       "  <tbody>\n",
       "    <tr>\n",
       "      <th>pca__n_components</th>\n",
       "      <td>0.94</td>\n",
       "      <td>0.83</td>\n",
       "      <td>0.98</td>\n",
       "      <td>0.95</td>\n",
       "      <td>0.86</td>\n",
       "      <td>0.82</td>\n",
       "      <td>0.97</td>\n",
       "      <td>0.87</td>\n",
       "      <td>0.92</td>\n",
       "      <td>0.99</td>\n",
       "    </tr>\n",
       "    <tr>\n",
       "      <th>svc__C</th>\n",
       "      <td>1</td>\n",
       "      <td>1</td>\n",
       "      <td>10</td>\n",
       "      <td>10</td>\n",
       "      <td>1</td>\n",
       "      <td>1</td>\n",
       "      <td>1</td>\n",
       "      <td>1</td>\n",
       "      <td>10</td>\n",
       "      <td>1</td>\n",
       "    </tr>\n",
       "    <tr>\n",
       "      <th>svc__class_weight</th>\n",
       "      <td>balanced</td>\n",
       "      <td>balanced</td>\n",
       "      <td>balanced</td>\n",
       "      <td>balanced</td>\n",
       "      <td>None</td>\n",
       "      <td>balanced</td>\n",
       "      <td>balanced</td>\n",
       "      <td>None</td>\n",
       "      <td>balanced</td>\n",
       "      <td>balanced</td>\n",
       "    </tr>\n",
       "    <tr>\n",
       "      <th>svc__gamma</th>\n",
       "      <td>0.01</td>\n",
       "      <td>scale</td>\n",
       "      <td>0.01</td>\n",
       "      <td>0.01</td>\n",
       "      <td>0.1</td>\n",
       "      <td>scale</td>\n",
       "      <td>0.01</td>\n",
       "      <td>0.1</td>\n",
       "      <td>0.01</td>\n",
       "      <td>0.01</td>\n",
       "    </tr>\n",
       "  </tbody>\n",
       "</table>\n",
       "</div>"
      ],
      "text/plain": [
       "                          0         1         2         3     4         5  \\\n",
       "pca__n_components      0.94      0.83      0.98      0.95  0.86      0.82   \n",
       "svc__C                    1         1        10        10     1         1   \n",
       "svc__class_weight  balanced  balanced  balanced  balanced  None  balanced   \n",
       "svc__gamma             0.01     scale      0.01      0.01   0.1     scale   \n",
       "\n",
       "                          6     7         8         9  \n",
       "pca__n_components      0.97  0.87      0.92      0.99  \n",
       "svc__C                    1     1        10         1  \n",
       "svc__class_weight  balanced  None  balanced  balanced  \n",
       "svc__gamma             0.01   0.1      0.01      0.01  "
      ]
     },
     "metadata": {},
     "output_type": "display_data"
    }
   ],
   "source": [
    "df_scores, df_params = full_test(\n",
    "    df_pssm_50_3,\n",
    "    labels,\n",
    "    dim_reduction=\"pca\",\n",
    "    kernel=\"rbf\",\n",
    "    repetitions=10,\n",
    "    # feature_transformer=\"pssm\",\n",
    ")\n",
    "df_scores_gr = df_scores.groupby([\"label\", \"dataset\"], as_index=False)\n",
    "print(\"Mean F1\")\n",
    "display(df_scores_gr.mean().pivot(index=\"label\", columns=\"dataset\", values=\"F1 score\"))\n",
    "print(\"Sdev F1\")\n",
    "display(df_scores_gr.std().pivot(index=\"label\", columns=\"dataset\", values=\"F1 score\"))\n",
    "print(\"Parameters\")\n",
    "display(df_params)"
   ]
  },
  {
   "cell_type": "markdown",
   "metadata": {},
   "source": [
    "This version without the feature parameter selector doesn't take as long to calculate, but the multi-pssm version with the transformer above has higher scores."
   ]
  }
 ],
 "metadata": {
  "kernelspec": {
   "display_name": "Python 3.9.12 ('subpred')",
   "language": "python",
   "name": "python3"
  },
  "language_info": {
   "codemirror_mode": {
    "name": "ipython",
    "version": 3
   },
   "file_extension": ".py",
   "mimetype": "text/x-python",
   "name": "python",
   "nbconvert_exporter": "python",
   "pygments_lexer": "ipython3",
   "version": "3.9.12"
  },
  "vscode": {
   "interpreter": {
    "hash": "a3c5a88a8b1fa059748e807688afdff6c3f31eb23364e67d8e1c7f5771f5e23f"
   }
  }
 },
 "nbformat": 4,
 "nbformat_minor": 2
}
