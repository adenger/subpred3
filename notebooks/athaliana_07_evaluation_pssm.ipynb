{
 "cells": [
  {
   "cell_type": "markdown",
   "metadata": {},
   "source": [
    "# Feature performance comparison\n",
    "\n",
    "The purpose of this notebook is to compare the classification performance of the individual features, and their combination, for A. Thaliana"
   ]
  },
  {
   "cell_type": "markdown",
   "metadata": {},
   "source": [
    "# Imports"
   ]
  },
  {
   "cell_type": "code",
   "execution_count": 1,
   "metadata": {
    "execution": {
     "iopub.execute_input": "2022-09-13T11:19:19.599453Z",
     "iopub.status.busy": "2022-09-13T11:19:19.598999Z",
     "iopub.status.idle": "2022-09-13T11:19:20.813072Z",
     "shell.execute_reply": "2022-09-13T11:19:20.812351Z"
    }
   },
   "outputs": [],
   "source": [
    "import os\n",
    "import sys\n",
    "from IPython.display import display\n",
    "\n",
    "sys.path.append('../src')\n",
    "from sklearn.preprocessing import LabelEncoder, StandardScaler\n",
    "from sklearn.svm import SVC, LinearSVC\n",
    "from sklearn.feature_selection import SelectKBest\n",
    "from sklearn.decomposition import PCA, KernelPCA\n",
    "from sklearn.pipeline import make_pipeline, Pipeline\n",
    "from sklearn.feature_selection import SelectKBest, RFE, VarianceThreshold\n",
    "from sklearn.naive_bayes import GaussianNB\n",
    "from sklearn.metrics import f1_score, classification_report, confusion_matrix\n",
    "from sklearn.neighbors import KNeighborsClassifier\n",
    "from sklearn.ensemble import RandomForestClassifier\n",
    "from sklearn.model_selection import train_test_split, cross_val_score, cross_val_predict, GridSearchCV\n",
    "from sklearn.linear_model import SGDClassifier\n",
    "from sklearn.base import clone\n",
    "from scipy.stats import shapiro\n",
    "import matplotlib.pyplot as plt\n",
    "from sklearn.base import BaseEstimator,TransformerMixin\n",
    "\n",
    "from yellowbrick.features import ParallelCoordinates\n",
    "from yellowbrick.features import Rank1D, Rank2D\n",
    "\n",
    "import pandas as pd\n",
    "import numpy as np\n",
    "import seaborn as sns\n",
    "\n",
    "from dataset.transporter_dataset import create_dataset\n",
    "from dataset.cluster_fasta import cd_hit\n",
    "from features.labels import fasta_to_labels\n",
    "from features.compositions import calculate_composition_feature\n",
    "from features.pssm import calculate_pssm_feature\n",
    "from features.coexp import calculate_coexp_feature\n",
    "from models.eval import nested_crossval\n",
    "from visualization.feature_plots import create_plot"
   ]
  },
  {
   "cell_type": "markdown",
   "metadata": {},
   "source": [
    "# Globals"
   ]
  },
  {
   "cell_type": "code",
   "execution_count": 2,
   "metadata": {
    "execution": {
     "iopub.execute_input": "2022-09-13T11:19:20.816055Z",
     "iopub.status.busy": "2022-09-13T11:19:20.815803Z",
     "iopub.status.idle": "2022-09-13T11:19:20.819043Z",
     "shell.execute_reply": "2022-09-13T11:19:20.818552Z"
    }
   },
   "outputs": [],
   "source": [
    "ORGANISM=\"athaliana\"\n",
    "LOG_FILE = f\"../logs/{ORGANISM}_amino_sugar.log\"\n",
    "N_THREADS = 16\n",
    "IDENTITY_THRESHOLD=70\n",
    "TAX_ID = 3702\n",
    "OUTLIERS = [\"O81775\", \"Q9SW07\", \"Q9FHH5\", \"Q8S8A0\", \"Q3E965\", \"Q3EAV6\", \"Q3E8L0\"]"
   ]
  },
  {
   "cell_type": "markdown",
   "metadata": {},
   "source": [
    "# Dataset"
   ]
  },
  {
   "cell_type": "code",
   "execution_count": 3,
   "metadata": {
    "execution": {
     "iopub.execute_input": "2022-09-13T11:19:20.821562Z",
     "iopub.status.busy": "2022-09-13T11:19:20.821351Z",
     "iopub.status.idle": "2022-09-13T11:19:31.185530Z",
     "shell.execute_reply": "2022-09-13T11:19:31.184540Z"
    }
   },
   "outputs": [
    {
     "data": {
      "text/html": [
       "<div>\n",
       "<style scoped>\n",
       "    .dataframe tbody tr th:only-of-type {\n",
       "        vertical-align: middle;\n",
       "    }\n",
       "\n",
       "    .dataframe tbody tr th {\n",
       "        vertical-align: top;\n",
       "    }\n",
       "\n",
       "    .dataframe thead th {\n",
       "        text-align: right;\n",
       "    }\n",
       "</style>\n",
       "<table border=\"1\" class=\"dataframe\">\n",
       "  <thead>\n",
       "    <tr style=\"text-align: right;\">\n",
       "      <th></th>\n",
       "      <th>keywords_transport</th>\n",
       "      <th>keywords_location</th>\n",
       "      <th>keywords_transport_related</th>\n",
       "      <th>gene_names</th>\n",
       "      <th>protein_names</th>\n",
       "      <th>tcdb_id</th>\n",
       "      <th>organism_id</th>\n",
       "      <th>sequence</th>\n",
       "    </tr>\n",
       "    <tr>\n",
       "      <th>Uniprot</th>\n",
       "      <th></th>\n",
       "      <th></th>\n",
       "      <th></th>\n",
       "      <th></th>\n",
       "      <th></th>\n",
       "      <th></th>\n",
       "      <th></th>\n",
       "      <th></th>\n",
       "    </tr>\n",
       "  </thead>\n",
       "  <tbody>\n",
       "    <tr>\n",
       "      <th>Q9SFG0</th>\n",
       "      <td>Sugar transport</td>\n",
       "      <td>Membrane;Transmembrane</td>\n",
       "      <td>Symport;Transport</td>\n",
       "      <td>STP6 At3g05960 F2O10.8</td>\n",
       "      <td>Sugar transport protein 6 (Hexose transporter 6)</td>\n",
       "      <td>2.A.1.1.56</td>\n",
       "      <td>3702</td>\n",
       "      <td>MAVVVSNANAPAFEAKMTVYVFICVMIAAVGGLIFGYDIGISGGVS...</td>\n",
       "    </tr>\n",
       "    <tr>\n",
       "      <th>Q9ZVK6</th>\n",
       "      <td>Sugar transport</td>\n",
       "      <td>Cell membrane;Membrane;Transmembrane</td>\n",
       "      <td>Symport;Transport</td>\n",
       "      <td>SUC8 At2g14670 T6B13.9</td>\n",
       "      <td>Sucrose transport protein SUC8 (Sucrose permea...</td>\n",
       "      <td>NaN</td>\n",
       "      <td>3702</td>\n",
       "      <td>MSDLQAKNDVVAVDRQSSSSLADLDGPSPLRKMISVASIAAGIQFG...</td>\n",
       "    </tr>\n",
       "    <tr>\n",
       "      <th>Q84WN3</th>\n",
       "      <td>Sugar transport</td>\n",
       "      <td>Membrane;Transmembrane</td>\n",
       "      <td>Transport</td>\n",
       "      <td>SWEET17 At4g15920 dl4000c FCAALL.237</td>\n",
       "      <td>Bidirectional sugar transporter SWEET17 (AtSWE...</td>\n",
       "      <td>NaN</td>\n",
       "      <td>3702</td>\n",
       "      <td>MAEASFYIGVIGNVISVLVFLSPVETFWKIVKRRSTEEYKSLPYIC...</td>\n",
       "    </tr>\n",
       "    <tr>\n",
       "      <th>O04249</th>\n",
       "      <td>Sugar transport</td>\n",
       "      <td>Cell membrane;Membrane;Transmembrane</td>\n",
       "      <td>Symport;Transport</td>\n",
       "      <td>STP7 At4g02050 AGAA.1 T10M13.6</td>\n",
       "      <td>Sugar transport protein 7 (Hexose transporter 7)</td>\n",
       "      <td>NaN</td>\n",
       "      <td>3702</td>\n",
       "      <td>MAGGSFGPTGVAKERAEQYQGKVTSYVIIACLVAAIGGSIFGYDIG...</td>\n",
       "    </tr>\n",
       "    <tr>\n",
       "      <th>Q56ZZ7</th>\n",
       "      <td>Sugar transport</td>\n",
       "      <td>Membrane;Plastid inner membrane;Transmembrane</td>\n",
       "      <td>Transport</td>\n",
       "      <td>At5g16150 T21H19.70</td>\n",
       "      <td>Plastidic glucose transporter 4 (AtpGlcT)</td>\n",
       "      <td>2.A.1.1.102</td>\n",
       "      <td>3702</td>\n",
       "      <td>MQSSTYAVKGNAAFAFQRRTFSSDRSTTSTGIRFAGYKSLATTGPL...</td>\n",
       "    </tr>\n",
       "    <tr>\n",
       "      <th>...</th>\n",
       "      <td>...</td>\n",
       "      <td>...</td>\n",
       "      <td>...</td>\n",
       "      <td>...</td>\n",
       "      <td>...</td>\n",
       "      <td>...</td>\n",
       "      <td>...</td>\n",
       "      <td>...</td>\n",
       "    </tr>\n",
       "    <tr>\n",
       "      <th>Q94EI9</th>\n",
       "      <td>Sugar transport</td>\n",
       "      <td>Membrane;Transmembrane</td>\n",
       "      <td>Transport</td>\n",
       "      <td>At3g14410 MLN21.19</td>\n",
       "      <td>Probable sugar phosphate/phosphate translocato...</td>\n",
       "      <td>NaN</td>\n",
       "      <td>3702</td>\n",
       "      <td>MADRSKGFMRAEFVTYAYILLYIALSSGQIFFNKWVLSSKEINFPY...</td>\n",
       "    </tr>\n",
       "    <tr>\n",
       "      <th>Q8L6Z8</th>\n",
       "      <td>Sugar transport</td>\n",
       "      <td>Membrane;Transmembrane</td>\n",
       "      <td>Transport</td>\n",
       "      <td>At3g03090 T17B22.22</td>\n",
       "      <td>D-xylose-proton symporter-like 1</td>\n",
       "      <td>2.A.1.1.45</td>\n",
       "      <td>3702</td>\n",
       "      <td>MGFDPENQSISSVGQVVGDSSSGGITAEKEPLLKENHSPENYSVLA...</td>\n",
       "    </tr>\n",
       "    <tr>\n",
       "      <th>Q9FDZ5</th>\n",
       "      <td>Sugar transport</td>\n",
       "      <td>Membrane;Transmembrane</td>\n",
       "      <td>Antiport;Transport</td>\n",
       "      <td>URGT6 At1g34020 F12G12.16 T15K4.8</td>\n",
       "      <td>UDP-rhamnose/UDP-galactose transporter 6 (UDP-...</td>\n",
       "      <td>NaN</td>\n",
       "      <td>3702</td>\n",
       "      <td>MAPVSKADKKAAVDAAAWMFNVVTSVGIIIVNKALMATYGYSFATT...</td>\n",
       "    </tr>\n",
       "    <tr>\n",
       "      <th>F4IHS9</th>\n",
       "      <td>Sugar transport</td>\n",
       "      <td>Endoplasmic reticulum;Membrane;Transmembrane</td>\n",
       "      <td>Antiport;Transport</td>\n",
       "      <td>UXT1 At2g28315 T1B3.18</td>\n",
       "      <td>UDP-xylose transporter 1</td>\n",
       "      <td>NaN</td>\n",
       "      <td>3702</td>\n",
       "      <td>MGEMKSMQMGVIGALFLSVASSVSIVICNKALMTNLGFPFATTLTS...</td>\n",
       "    </tr>\n",
       "    <tr>\n",
       "      <th>Q93Z80</th>\n",
       "      <td>Sugar transport</td>\n",
       "      <td>Membrane;Transmembrane</td>\n",
       "      <td>Transport</td>\n",
       "      <td>At3g05160 T12H1.13</td>\n",
       "      <td>Sugar transporter ERD6-like 10</td>\n",
       "      <td>NaN</td>\n",
       "      <td>3702</td>\n",
       "      <td>MEEGLLRHENDRDDRRITACVILSTFVAVCSSFSYGCANGYTSGAE...</td>\n",
       "    </tr>\n",
       "  </tbody>\n",
       "</table>\n",
       "<p>165 rows × 8 columns</p>\n",
       "</div>"
      ],
      "text/plain": [
       "        keywords_transport                              keywords_location  \\\n",
       "Uniprot                                                                     \n",
       "Q9SFG0     Sugar transport                         Membrane;Transmembrane   \n",
       "Q9ZVK6     Sugar transport           Cell membrane;Membrane;Transmembrane   \n",
       "Q84WN3     Sugar transport                         Membrane;Transmembrane   \n",
       "O04249     Sugar transport           Cell membrane;Membrane;Transmembrane   \n",
       "Q56ZZ7     Sugar transport  Membrane;Plastid inner membrane;Transmembrane   \n",
       "...                    ...                                            ...   \n",
       "Q94EI9     Sugar transport                         Membrane;Transmembrane   \n",
       "Q8L6Z8     Sugar transport                         Membrane;Transmembrane   \n",
       "Q9FDZ5     Sugar transport                         Membrane;Transmembrane   \n",
       "F4IHS9     Sugar transport   Endoplasmic reticulum;Membrane;Transmembrane   \n",
       "Q93Z80     Sugar transport                         Membrane;Transmembrane   \n",
       "\n",
       "        keywords_transport_related                            gene_names  \\\n",
       "Uniprot                                                                    \n",
       "Q9SFG0           Symport;Transport                STP6 At3g05960 F2O10.8   \n",
       "Q9ZVK6           Symport;Transport                SUC8 At2g14670 T6B13.9   \n",
       "Q84WN3                   Transport  SWEET17 At4g15920 dl4000c FCAALL.237   \n",
       "O04249           Symport;Transport        STP7 At4g02050 AGAA.1 T10M13.6   \n",
       "Q56ZZ7                   Transport                   At5g16150 T21H19.70   \n",
       "...                            ...                                   ...   \n",
       "Q94EI9                   Transport                    At3g14410 MLN21.19   \n",
       "Q8L6Z8                   Transport                   At3g03090 T17B22.22   \n",
       "Q9FDZ5          Antiport;Transport     URGT6 At1g34020 F12G12.16 T15K4.8   \n",
       "F4IHS9          Antiport;Transport                UXT1 At2g28315 T1B3.18   \n",
       "Q93Z80                   Transport                    At3g05160 T12H1.13   \n",
       "\n",
       "                                             protein_names      tcdb_id  \\\n",
       "Uniprot                                                                   \n",
       "Q9SFG0    Sugar transport protein 6 (Hexose transporter 6)   2.A.1.1.56   \n",
       "Q9ZVK6   Sucrose transport protein SUC8 (Sucrose permea...          NaN   \n",
       "Q84WN3   Bidirectional sugar transporter SWEET17 (AtSWE...          NaN   \n",
       "O04249    Sugar transport protein 7 (Hexose transporter 7)          NaN   \n",
       "Q56ZZ7           Plastidic glucose transporter 4 (AtpGlcT)  2.A.1.1.102   \n",
       "...                                                    ...          ...   \n",
       "Q94EI9   Probable sugar phosphate/phosphate translocato...          NaN   \n",
       "Q8L6Z8                    D-xylose-proton symporter-like 1   2.A.1.1.45   \n",
       "Q9FDZ5   UDP-rhamnose/UDP-galactose transporter 6 (UDP-...          NaN   \n",
       "F4IHS9                            UDP-xylose transporter 1          NaN   \n",
       "Q93Z80                      Sugar transporter ERD6-like 10          NaN   \n",
       "\n",
       "         organism_id                                           sequence  \n",
       "Uniprot                                                                  \n",
       "Q9SFG0          3702  MAVVVSNANAPAFEAKMTVYVFICVMIAAVGGLIFGYDIGISGGVS...  \n",
       "Q9ZVK6          3702  MSDLQAKNDVVAVDRQSSSSLADLDGPSPLRKMISVASIAAGIQFG...  \n",
       "Q84WN3          3702  MAEASFYIGVIGNVISVLVFLSPVETFWKIVKRRSTEEYKSLPYIC...  \n",
       "O04249          3702  MAGGSFGPTGVAKERAEQYQGKVTSYVIIACLVAAIGGSIFGYDIG...  \n",
       "Q56ZZ7          3702  MQSSTYAVKGNAAFAFQRRTFSSDRSTTSTGIRFAGYKSLATTGPL...  \n",
       "...              ...                                                ...  \n",
       "Q94EI9          3702  MADRSKGFMRAEFVTYAYILLYIALSSGQIFFNKWVLSSKEINFPY...  \n",
       "Q8L6Z8          3702  MGFDPENQSISSVGQVVGDSSSGGITAEKEPLLKENHSPENYSVLA...  \n",
       "Q9FDZ5          3702  MAPVSKADKKAAVDAAAWMFNVVTSVGIIIVNKALMATYGYSFATT...  \n",
       "F4IHS9          3702  MGEMKSMQMGVIGALFLSVASSVSIVICNKALMTNLGFPFATTLTS...  \n",
       "Q93Z80          3702  MEEGLLRHENDRDDRRITACVILSTFVAVCSSFSYGCANGYTSGAE...  \n",
       "\n",
       "[165 rows x 8 columns]"
      ]
     },
     "execution_count": 3,
     "metadata": {},
     "output_type": "execute_result"
    }
   ],
   "source": [
    "# Delete previous log\n",
    "if os.path.exists(LOG_FILE):\n",
    "    with open(LOG_FILE, \"w\"):\n",
    "        pass\n",
    "\n",
    "create_dataset(\n",
    "    keywords_substrate_filter=[\"Amino-acid transport\", \"Sugar transport\"],\n",
    "    keywords_component_filter=[\"Membrane\"],\n",
    "    keywords_transport_filter=[\"Transport\"],\n",
    "    input_file=\"../data/raw/swissprot/uniprot-reviewed_yes.tab.gz\",\n",
    "    multi_substrate=\"remove\",\n",
    "    outliers=OUTLIERS,\n",
    "    verbose=True,\n",
    "    tax_ids_filter=[TAX_ID],\n",
    "    output_tsv=f\"../data/datasets/{ORGANISM}_amino_sugar.tsv\",\n",
    "    output_fasta=f\"../data/datasets/{ORGANISM}_amino_sugar.fasta\",\n",
    "    output_log=LOG_FILE,\n",
    ")"
   ]
  },
  {
   "cell_type": "markdown",
   "metadata": {},
   "source": [
    "## Clustering"
   ]
  },
  {
   "cell_type": "code",
   "execution_count": 4,
   "metadata": {
    "execution": {
     "iopub.execute_input": "2022-09-13T11:19:31.242451Z",
     "iopub.status.busy": "2022-09-13T11:19:31.241877Z",
     "iopub.status.idle": "2022-09-13T11:19:31.566428Z",
     "shell.execute_reply": "2022-09-13T11:19:31.564702Z"
    }
   },
   "outputs": [],
   "source": [
    "cd_hit(\n",
    "    executable_location=\"cd-hit\",\n",
    "    input_fasta=f\"../data/datasets/{ORGANISM}_amino_sugar.fasta\",\n",
    "    output_fasta=f\"../data/datasets/{ORGANISM}_amino_sugar_cluster{IDENTITY_THRESHOLD}.fasta\",\n",
    "    log_file=LOG_FILE,\n",
    "    identity_threshold=IDENTITY_THRESHOLD,\n",
    "    n_threads=N_THREADS,\n",
    "    memory=4096,\n",
    "    verbose=True,\n",
    ")"
   ]
  },
  {
   "cell_type": "markdown",
   "metadata": {},
   "source": [
    "## Annotations"
   ]
  },
  {
   "cell_type": "code",
   "execution_count": 5,
   "metadata": {
    "execution": {
     "iopub.execute_input": "2022-09-13T11:19:31.573480Z",
     "iopub.status.busy": "2022-09-13T11:19:31.572916Z",
     "iopub.status.idle": "2022-09-13T11:19:31.598801Z",
     "shell.execute_reply": "2022-09-13T11:19:31.598262Z"
    }
   },
   "outputs": [
    {
     "data": {
      "text/html": [
       "<div>\n",
       "<style scoped>\n",
       "    .dataframe tbody tr th:only-of-type {\n",
       "        vertical-align: middle;\n",
       "    }\n",
       "\n",
       "    .dataframe tbody tr th {\n",
       "        vertical-align: top;\n",
       "    }\n",
       "\n",
       "    .dataframe thead th {\n",
       "        text-align: right;\n",
       "    }\n",
       "</style>\n",
       "<table border=\"1\" class=\"dataframe\">\n",
       "  <thead>\n",
       "    <tr style=\"text-align: right;\">\n",
       "      <th></th>\n",
       "      <th>keywords_transport</th>\n",
       "      <th>keywords_location</th>\n",
       "      <th>keywords_transport_related</th>\n",
       "      <th>gene_names</th>\n",
       "      <th>protein_names</th>\n",
       "      <th>tcdb_id</th>\n",
       "      <th>organism_id</th>\n",
       "      <th>sequence</th>\n",
       "    </tr>\n",
       "    <tr>\n",
       "      <th>Uniprot</th>\n",
       "      <th></th>\n",
       "      <th></th>\n",
       "      <th></th>\n",
       "      <th></th>\n",
       "      <th></th>\n",
       "      <th></th>\n",
       "      <th></th>\n",
       "      <th></th>\n",
       "    </tr>\n",
       "  </thead>\n",
       "  <tbody>\n",
       "    <tr>\n",
       "      <th>Q9SFG0</th>\n",
       "      <td>Sugar transport</td>\n",
       "      <td>Membrane;Transmembrane</td>\n",
       "      <td>Symport;Transport</td>\n",
       "      <td>STP6 At3g05960 F2O10.8</td>\n",
       "      <td>Sugar transport protein 6 (Hexose transporter 6)</td>\n",
       "      <td>2.A.1.1.56</td>\n",
       "      <td>3702</td>\n",
       "      <td>MAVVVSNANAPAFEAKMTVYVFICVMIAAVGGLIFGYDIGISGGVS...</td>\n",
       "    </tr>\n",
       "    <tr>\n",
       "      <th>Q9ZVK6</th>\n",
       "      <td>Sugar transport</td>\n",
       "      <td>Cell membrane;Membrane;Transmembrane</td>\n",
       "      <td>Symport;Transport</td>\n",
       "      <td>SUC8 At2g14670 T6B13.9</td>\n",
       "      <td>Sucrose transport protein SUC8 (Sucrose permea...</td>\n",
       "      <td>NaN</td>\n",
       "      <td>3702</td>\n",
       "      <td>MSDLQAKNDVVAVDRQSSSSLADLDGPSPLRKMISVASIAAGIQFG...</td>\n",
       "    </tr>\n",
       "    <tr>\n",
       "      <th>Q84WN3</th>\n",
       "      <td>Sugar transport</td>\n",
       "      <td>Membrane;Transmembrane</td>\n",
       "      <td>Transport</td>\n",
       "      <td>SWEET17 At4g15920 dl4000c FCAALL.237</td>\n",
       "      <td>Bidirectional sugar transporter SWEET17 (AtSWE...</td>\n",
       "      <td>NaN</td>\n",
       "      <td>3702</td>\n",
       "      <td>MAEASFYIGVIGNVISVLVFLSPVETFWKIVKRRSTEEYKSLPYIC...</td>\n",
       "    </tr>\n",
       "    <tr>\n",
       "      <th>O04249</th>\n",
       "      <td>Sugar transport</td>\n",
       "      <td>Cell membrane;Membrane;Transmembrane</td>\n",
       "      <td>Symport;Transport</td>\n",
       "      <td>STP7 At4g02050 AGAA.1 T10M13.6</td>\n",
       "      <td>Sugar transport protein 7 (Hexose transporter 7)</td>\n",
       "      <td>NaN</td>\n",
       "      <td>3702</td>\n",
       "      <td>MAGGSFGPTGVAKERAEQYQGKVTSYVIIACLVAAIGGSIFGYDIG...</td>\n",
       "    </tr>\n",
       "    <tr>\n",
       "      <th>Q56ZZ7</th>\n",
       "      <td>Sugar transport</td>\n",
       "      <td>Membrane;Plastid inner membrane;Transmembrane</td>\n",
       "      <td>Transport</td>\n",
       "      <td>At5g16150 T21H19.70</td>\n",
       "      <td>Plastidic glucose transporter 4 (AtpGlcT)</td>\n",
       "      <td>2.A.1.1.102</td>\n",
       "      <td>3702</td>\n",
       "      <td>MQSSTYAVKGNAAFAFQRRTFSSDRSTTSTGIRFAGYKSLATTGPL...</td>\n",
       "    </tr>\n",
       "  </tbody>\n",
       "</table>\n",
       "</div>"
      ],
      "text/plain": [
       "        keywords_transport                              keywords_location  \\\n",
       "Uniprot                                                                     \n",
       "Q9SFG0     Sugar transport                         Membrane;Transmembrane   \n",
       "Q9ZVK6     Sugar transport           Cell membrane;Membrane;Transmembrane   \n",
       "Q84WN3     Sugar transport                         Membrane;Transmembrane   \n",
       "O04249     Sugar transport           Cell membrane;Membrane;Transmembrane   \n",
       "Q56ZZ7     Sugar transport  Membrane;Plastid inner membrane;Transmembrane   \n",
       "\n",
       "        keywords_transport_related                            gene_names  \\\n",
       "Uniprot                                                                    \n",
       "Q9SFG0           Symport;Transport                STP6 At3g05960 F2O10.8   \n",
       "Q9ZVK6           Symport;Transport                SUC8 At2g14670 T6B13.9   \n",
       "Q84WN3                   Transport  SWEET17 At4g15920 dl4000c FCAALL.237   \n",
       "O04249           Symport;Transport        STP7 At4g02050 AGAA.1 T10M13.6   \n",
       "Q56ZZ7                   Transport                   At5g16150 T21H19.70   \n",
       "\n",
       "                                             protein_names      tcdb_id  \\\n",
       "Uniprot                                                                   \n",
       "Q9SFG0    Sugar transport protein 6 (Hexose transporter 6)   2.A.1.1.56   \n",
       "Q9ZVK6   Sucrose transport protein SUC8 (Sucrose permea...          NaN   \n",
       "Q84WN3   Bidirectional sugar transporter SWEET17 (AtSWE...          NaN   \n",
       "O04249    Sugar transport protein 7 (Hexose transporter 7)          NaN   \n",
       "Q56ZZ7           Plastidic glucose transporter 4 (AtpGlcT)  2.A.1.1.102   \n",
       "\n",
       "         organism_id                                           sequence  \n",
       "Uniprot                                                                  \n",
       "Q9SFG0          3702  MAVVVSNANAPAFEAKMTVYVFICVMIAAVGGLIFGYDIGISGGVS...  \n",
       "Q9ZVK6          3702  MSDLQAKNDVVAVDRQSSSSLADLDGPSPLRKMISVASIAAGIQFG...  \n",
       "Q84WN3          3702  MAEASFYIGVIGNVISVLVFLSPVETFWKIVKRRSTEEYKSLPYIC...  \n",
       "O04249          3702  MAGGSFGPTGVAKERAEQYQGKVTSYVIIACLVAAIGGSIFGYDIG...  \n",
       "Q56ZZ7          3702  MQSSTYAVKGNAAFAFQRRTFSSDRSTTSTGIRFAGYKSLATTGPL...  "
      ]
     },
     "execution_count": 5,
     "metadata": {},
     "output_type": "execute_result"
    }
   ],
   "source": [
    "df_annotations = pd.read_table(f\"../data/datasets/{ORGANISM}_amino_sugar.tsv\", index_col=0)\n",
    "df_annotations.head()"
   ]
  },
  {
   "cell_type": "markdown",
   "metadata": {},
   "source": [
    "# Feature generation\n",
    "\n",
    "## Labels"
   ]
  },
  {
   "cell_type": "code",
   "execution_count": 6,
   "metadata": {
    "execution": {
     "iopub.execute_input": "2022-09-13T11:19:31.602973Z",
     "iopub.status.busy": "2022-09-13T11:19:31.602676Z",
     "iopub.status.idle": "2022-09-13T11:19:31.619349Z",
     "shell.execute_reply": "2022-09-13T11:19:31.618647Z"
    }
   },
   "outputs": [
    {
     "data": {
      "text/plain": [
       "Sugar transport         84\n",
       "Amino-acid transport    33\n",
       "Name: labels, dtype: int64"
      ]
     },
     "execution_count": 6,
     "metadata": {},
     "output_type": "execute_result"
    }
   ],
   "source": [
    "fasta_to_labels(\n",
    "    input_fasta=f\"../data/datasets/{ORGANISM}_amino_sugar_cluster{IDENTITY_THRESHOLD}.fasta\",\n",
    "    output_tsv=f\"../data/features/{ORGANISM}_amino_sugar_cluster{IDENTITY_THRESHOLD}_labels.tsv\",\n",
    ")\n",
    "pd.read_table(\n",
    "    f\"../data/features/{ORGANISM}_amino_sugar_cluster{IDENTITY_THRESHOLD}_labels.tsv\",\n",
    "    index_col=0,\n",
    ").labels.value_counts()"
   ]
  },
  {
   "cell_type": "markdown",
   "metadata": {},
   "source": [
    "## PSSM"
   ]
  },
  {
   "cell_type": "code",
   "execution_count": 7,
   "metadata": {
    "execution": {
     "iopub.execute_input": "2022-09-13T11:19:31.623144Z",
     "iopub.status.busy": "2022-09-13T11:19:31.622848Z",
     "iopub.status.idle": "2022-09-13T11:19:33.238415Z",
     "shell.execute_reply": "2022-09-13T11:19:33.237900Z"
    }
   },
   "outputs": [],
   "source": [
    "for uniref_cluster_threshold in [50, 90]:\n",
    "    for psiblast_iterations in [1, 3]:\n",
    "        calculate_pssm_feature(\n",
    "            input_fasta=f\"../data/datasets/{ORGANISM}_amino_sugar_cluster{IDENTITY_THRESHOLD}.fasta\",\n",
    "            output_tsv=\"../data/features/{}_amino_sugar_cluster{}_pssm_ur{}_{}it.tsv\".format(\n",
    "                ORGANISM,\n",
    "                IDENTITY_THRESHOLD,\n",
    "                uniref_cluster_threshold,\n",
    "                psiblast_iterations,\n",
    "            ),\n",
    "            tmp_folder=\"../data/intermediate/blast/pssm_uniref{}_{}it\".format(\n",
    "                uniref_cluster_threshold, psiblast_iterations\n",
    "            ),\n",
    "            blast_db=\"../data/raw/uniref/uniref{}/uniref{}.fasta\".format(\n",
    "                uniref_cluster_threshold, uniref_cluster_threshold\n",
    "            ),\n",
    "            iterations=psiblast_iterations,\n",
    "            psiblast_executable=\"psiblast\",\n",
    "            psiblast_threads=N_THREADS,\n",
    "            verbose=False,\n",
    "        )\n"
   ]
  },
  {
   "cell_type": "markdown",
   "metadata": {},
   "source": [
    "## Reading dataframes"
   ]
  },
  {
   "cell_type": "code",
   "execution_count": 8,
   "metadata": {
    "execution": {
     "iopub.execute_input": "2022-09-13T11:19:33.243265Z",
     "iopub.status.busy": "2022-09-13T11:19:33.243006Z",
     "iopub.status.idle": "2022-09-13T11:19:33.321870Z",
     "shell.execute_reply": "2022-09-13T11:19:33.321399Z"
    }
   },
   "outputs": [],
   "source": [
    "df_labels = pd.read_table(\n",
    "    f\"../data/features/{ORGANISM}_amino_sugar_cluster{IDENTITY_THRESHOLD}_labels.tsv\",\n",
    "    index_col=0,\n",
    ")\n",
    "df_pssm_50_1it = pd.read_table(\n",
    "    f\"../data/features/{ORGANISM}_amino_sugar_cluster{IDENTITY_THRESHOLD}_pssm_ur50_1it.tsv\",\n",
    "    index_col=0,\n",
    ")\n",
    "df_pssm_50_3it = pd.read_table(\n",
    "    f\"../data/features/{ORGANISM}_amino_sugar_cluster{IDENTITY_THRESHOLD}_pssm_ur50_3it.tsv\",\n",
    "    index_col=0,\n",
    ")\n",
    "df_pssm_90_1it = pd.read_table(\n",
    "    f\"../data/features/{ORGANISM}_amino_sugar_cluster{IDENTITY_THRESHOLD}_pssm_ur90_1it.tsv\",\n",
    "    index_col=0,\n",
    ")\n",
    "df_pssm_90_3it = pd.read_table(\n",
    "    f\"../data/features/{ORGANISM}_amino_sugar_cluster{IDENTITY_THRESHOLD}_pssm_ur90_3it.tsv\",\n",
    "    index_col=0,\n",
    ")"
   ]
  },
  {
   "cell_type": "markdown",
   "metadata": {},
   "source": [
    "## Combining dataframes"
   ]
  },
  {
   "cell_type": "code",
   "execution_count": 9,
   "metadata": {
    "execution": {
     "iopub.execute_input": "2022-09-13T11:19:33.326473Z",
     "iopub.status.busy": "2022-09-13T11:19:33.326218Z",
     "iopub.status.idle": "2022-09-13T11:19:33.333678Z",
     "shell.execute_reply": "2022-09-13T11:19:33.332963Z"
    }
   },
   "outputs": [],
   "source": [
    "df_pssm_all = pd.concat(\n",
    "    [\n",
    "        df_pssm_50_1it.rename(columns=lambda c: c + \"_50_1\"),\n",
    "        df_pssm_50_3it.rename(columns=lambda c: c + \"_50_3\"),\n",
    "        df_pssm_90_1it.rename(columns=lambda c: c + \"_90_1\"),\n",
    "        df_pssm_90_3it.rename(columns=lambda c: c + \"_90_3\"),\n",
    "    ],\n",
    "    axis=1,\n",
    ")\n"
   ]
  },
  {
   "cell_type": "markdown",
   "metadata": {},
   "source": [
    "## Custom Transformer to try all parameters"
   ]
  },
  {
   "cell_type": "code",
   "execution_count": 10,
   "metadata": {
    "execution": {
     "iopub.execute_input": "2022-09-13T11:19:33.338257Z",
     "iopub.status.busy": "2022-09-13T11:19:33.337911Z",
     "iopub.status.idle": "2022-09-13T11:19:33.348750Z",
     "shell.execute_reply": "2022-09-13T11:19:33.348020Z"
    }
   },
   "outputs": [],
   "source": [
    "class PSSMSelector(BaseEstimator, TransformerMixin):\n",
    "    def __init__(self, feature_names, uniref_threshold=\"all\", iterations=\"all\"):\n",
    "        self.feature_names = feature_names\n",
    "        self.uniref_threshold = uniref_threshold\n",
    "        self.iterations = iterations\n",
    "\n",
    "    def fit(self, X, y=None):\n",
    "        if self.uniref_threshold in {50, 90}:\n",
    "            has_uniref = (\n",
    "                np.char.find(self.feature_names, str(self.uniref_threshold)) >= 0\n",
    "            )\n",
    "        elif self.uniref_threshold == \"all\":\n",
    "            has_uniref = np.array([True] * len(self.feature_names))\n",
    "        else:\n",
    "            raise ValueError(f\"Incorrect uniref threshold {self.uniref_threshold}\")\n",
    "\n",
    "        if self.iterations in {1, 3}:\n",
    "            has_iterations = np.char.find(self.feature_names, str(self.iterations)) >= 0\n",
    "        elif self.iterations == \"all\":\n",
    "            has_iterations = np.array([True] * len(self.feature_names))\n",
    "        else:\n",
    "            raise ValueError(f\"Incorrect iteration count: {self.iterations}\")\n",
    "        self.mask = np.bitwise_and(has_uniref, has_iterations)\n",
    "        return self\n",
    "\n",
    "    def transform(self, X, y=None):\n",
    "        X = np.array(X)\n",
    "        X = X[:, self.mask]\n",
    "        return X\n"
   ]
  },
  {
   "cell_type": "markdown",
   "metadata": {},
   "source": [
    "# Functions"
   ]
  },
  {
   "cell_type": "code",
   "execution_count": 11,
   "metadata": {
    "execution": {
     "iopub.execute_input": "2022-09-13T11:19:33.352732Z",
     "iopub.status.busy": "2022-09-13T11:19:33.352384Z",
     "iopub.status.idle": "2022-09-13T11:19:33.362318Z",
     "shell.execute_reply": "2022-09-13T11:19:33.361613Z"
    }
   },
   "outputs": [],
   "source": [
    "def get_feature_stats(df_features, df_labels_, labels=[\"Amino-acid transport\", \"Sugar transport\"]):\n",
    "    df_stats = pd.concat(\n",
    "        {\n",
    "            \"corr\": df_features.corrwith(\n",
    "                df_labels_.labels.transform(lambda x: 1.0 if x == labels[1] else 0.0)\n",
    "            ),\n",
    "            \"mean\": df_features.mean(),\n",
    "            \"std\": df_features.std(),\n",
    "        },\n",
    "        axis=1,\n",
    "    )\n",
    "\n",
    "    df_stats[\"sum\"] = df_stats.sum(axis=1)\n",
    "    df_stats[\"corr_abs\"] = df_stats[\"corr\"].abs()\n",
    "\n",
    "    df_stats[\"mean0\"] = df_features.loc[df_labels_[df_labels_.labels == labels[0]].index].mean()\n",
    "    df_stats[\"mean1\"] = df_features.loc[df_labels_[df_labels_.labels == labels[1]].index].mean()\n",
    "\n",
    "    df_stats[\"median0\"] = df_features.loc[\n",
    "        df_labels_[df_labels_.labels == labels[0]].index\n",
    "    ].median()\n",
    "    df_stats[\"median1\"] = df_features.loc[\n",
    "        df_labels_[df_labels_.labels == labels[1]].index\n",
    "    ].median()\n",
    "\n",
    "    df_stats[\"mediandiff\"] = (df_stats[\"median0\"] - df_stats[\"median1\"]).abs()\n",
    "    df_stats = df_stats.sort_values(\"mediandiff\", ascending=False)\n",
    "    return df_stats"
   ]
  },
  {
   "cell_type": "code",
   "execution_count": 12,
   "metadata": {
    "execution": {
     "iopub.execute_input": "2022-09-13T11:19:33.366070Z",
     "iopub.status.busy": "2022-09-13T11:19:33.365733Z",
     "iopub.status.idle": "2022-09-13T11:19:33.372995Z",
     "shell.execute_reply": "2022-09-13T11:19:33.372267Z"
    }
   },
   "outputs": [],
   "source": [
    "def get_independent_test_set(\n",
    "    df_features, df_labels_, labels=[\"Amino-acid transport\", \"Sugar transport\"], test_size=0.2\n",
    "):\n",
    "    X = df_features.to_numpy()\n",
    "    y = np.where(df_labels_.labels == labels[1], 1, 0)\n",
    "    feature_names = df_features.columns.to_numpy(dtype=str)\n",
    "    sample_names = df_features.index.to_numpy(dtype=str)\n",
    "    (\n",
    "        X_train,\n",
    "        X_test,\n",
    "        y_train,\n",
    "        y_test,\n",
    "        sample_names_train,\n",
    "        sample_names_test,\n",
    "    ) = train_test_split(\n",
    "        X, y, sample_names, stratify=y, random_state=42, shuffle=True, test_size=test_size\n",
    "    )\n",
    "    return (\n",
    "        X_train,\n",
    "        X_test,\n",
    "        y_train,\n",
    "        y_test,\n",
    "        sample_names_train,\n",
    "        sample_names_test,\n",
    "        feature_names,\n",
    "    )\n"
   ]
  },
  {
   "cell_type": "code",
   "execution_count": 13,
   "metadata": {
    "execution": {
     "iopub.execute_input": "2022-09-13T11:19:33.376400Z",
     "iopub.status.busy": "2022-09-13T11:19:33.376052Z",
     "iopub.status.idle": "2022-09-13T11:19:33.382687Z",
     "shell.execute_reply": "2022-09-13T11:19:33.381991Z"
    }
   },
   "outputs": [],
   "source": [
    "def print_validation_results(y_true_, y_pred_, labels = [\"Amino\", \"Sugar\"]):\n",
    "    report_dict = classification_report(y_true=y_true_, y_pred=y_pred_, output_dict=True)\n",
    "    report_dict = {\n",
    "        labels[0]: report_dict['0'],\n",
    "        labels[1]: report_dict['1'],\n",
    "        \"Macro\": report_dict[\"macro avg\"],\n",
    "        \"Weighted\": report_dict[\"weighted avg\"]\n",
    "    }\n",
    "    report_df = pd.DataFrame.from_dict(report_dict)\n",
    "    confusion_matrix_df = pd.DataFrame(\n",
    "        confusion_matrix(y_true_, y_pred_),\n",
    "        columns=labels,\n",
    "        index=labels,\n",
    "    )\n",
    "    return report_df, confusion_matrix_df"
   ]
  },
  {
   "cell_type": "markdown",
   "metadata": {},
   "source": [
    "# Individual Features\n",
    "\n",
    "## PSSM\n",
    "\n",
    "### Stats, Plots"
   ]
  },
  {
   "cell_type": "code",
   "execution_count": 14,
   "metadata": {
    "execution": {
     "iopub.execute_input": "2022-09-13T11:19:33.386240Z",
     "iopub.status.busy": "2022-09-13T11:19:33.385907Z",
     "iopub.status.idle": "2022-09-13T11:19:33.575015Z",
     "shell.execute_reply": "2022-09-13T11:19:33.574374Z"
    }
   },
   "outputs": [
    {
     "data": {
      "text/html": [
       "<div>\n",
       "<style scoped>\n",
       "    .dataframe tbody tr th:only-of-type {\n",
       "        vertical-align: middle;\n",
       "    }\n",
       "\n",
       "    .dataframe tbody tr th {\n",
       "        vertical-align: top;\n",
       "    }\n",
       "\n",
       "    .dataframe thead th {\n",
       "        text-align: right;\n",
       "    }\n",
       "</style>\n",
       "<table border=\"1\" class=\"dataframe\">\n",
       "  <thead>\n",
       "    <tr style=\"text-align: right;\">\n",
       "      <th></th>\n",
       "      <th>corr</th>\n",
       "      <th>mean</th>\n",
       "      <th>std</th>\n",
       "      <th>sum</th>\n",
       "      <th>corr_abs</th>\n",
       "      <th>mean0</th>\n",
       "      <th>mean1</th>\n",
       "      <th>median0</th>\n",
       "      <th>median1</th>\n",
       "      <th>mediandiff</th>\n",
       "      <th>shapiro_p</th>\n",
       "      <th>shapiro</th>\n",
       "    </tr>\n",
       "  </thead>\n",
       "  <tbody>\n",
       "    <tr>\n",
       "      <th>CF</th>\n",
       "      <td>-0.214958</td>\n",
       "      <td>0.912919</td>\n",
       "      <td>0.081854</td>\n",
       "      <td>0.779814</td>\n",
       "      <td>0.214958</td>\n",
       "      <td>0.940871</td>\n",
       "      <td>0.901937</td>\n",
       "      <td>0.971302</td>\n",
       "      <td>0.90745</td>\n",
       "      <td>0.063853</td>\n",
       "      <td>0.0</td>\n",
       "      <td>0.897455</td>\n",
       "    </tr>\n",
       "    <tr>\n",
       "      <th>QG</th>\n",
       "      <td>-0.041126</td>\n",
       "      <td>0.919916</td>\n",
       "      <td>0.083638</td>\n",
       "      <td>0.962429</td>\n",
       "      <td>0.041126</td>\n",
       "      <td>0.925381</td>\n",
       "      <td>0.917770</td>\n",
       "      <td>0.926503</td>\n",
       "      <td>0.94043</td>\n",
       "      <td>0.013927</td>\n",
       "      <td>0.0</td>\n",
       "      <td>0.854027</td>\n",
       "    </tr>\n",
       "    <tr>\n",
       "      <th>ID</th>\n",
       "      <td>-0.028214</td>\n",
       "      <td>0.007005</td>\n",
       "      <td>0.022190</td>\n",
       "      <td>0.000981</td>\n",
       "      <td>0.028214</td>\n",
       "      <td>0.007999</td>\n",
       "      <td>0.006614</td>\n",
       "      <td>0.000000</td>\n",
       "      <td>0.00000</td>\n",
       "      <td>0.000000</td>\n",
       "      <td>0.0</td>\n",
       "      <td>0.361149</td>\n",
       "    </tr>\n",
       "  </tbody>\n",
       "</table>\n",
       "</div>"
      ],
      "text/plain": [
       "        corr      mean       std       sum  corr_abs     mean0     mean1  \\\n",
       "CF -0.214958  0.912919  0.081854  0.779814  0.214958  0.940871  0.901937   \n",
       "QG -0.041126  0.919916  0.083638  0.962429  0.041126  0.925381  0.917770   \n",
       "ID -0.028214  0.007005  0.022190  0.000981  0.028214  0.007999  0.006614   \n",
       "\n",
       "     median0  median1  mediandiff  shapiro_p   shapiro  \n",
       "CF  0.971302  0.90745    0.063853        0.0  0.897455  \n",
       "QG  0.926503  0.94043    0.013927        0.0  0.854027  \n",
       "ID  0.000000  0.00000    0.000000        0.0  0.361149  "
      ]
     },
     "metadata": {},
     "output_type": "display_data"
    },
    {
     "data": {
      "text/html": [
       "<div>\n",
       "<style scoped>\n",
       "    .dataframe tbody tr th:only-of-type {\n",
       "        vertical-align: middle;\n",
       "    }\n",
       "\n",
       "    .dataframe tbody tr th {\n",
       "        vertical-align: top;\n",
       "    }\n",
       "\n",
       "    .dataframe thead th {\n",
       "        text-align: right;\n",
       "    }\n",
       "</style>\n",
       "<table border=\"1\" class=\"dataframe\">\n",
       "  <thead>\n",
       "    <tr style=\"text-align: right;\">\n",
       "      <th></th>\n",
       "      <th>corr</th>\n",
       "      <th>mean</th>\n",
       "      <th>std</th>\n",
       "      <th>sum</th>\n",
       "      <th>corr_abs</th>\n",
       "      <th>mean0</th>\n",
       "      <th>mean1</th>\n",
       "      <th>median0</th>\n",
       "      <th>median1</th>\n",
       "      <th>mediandiff</th>\n",
       "      <th>shapiro_p</th>\n",
       "      <th>shapiro</th>\n",
       "    </tr>\n",
       "  </thead>\n",
       "  <tbody>\n",
       "    <tr>\n",
       "      <th>ID</th>\n",
       "      <td>-0.028214</td>\n",
       "      <td>0.007005</td>\n",
       "      <td>0.022190</td>\n",
       "      <td>0.000981</td>\n",
       "      <td>0.028214</td>\n",
       "      <td>0.007999</td>\n",
       "      <td>0.006614</td>\n",
       "      <td>0.000000</td>\n",
       "      <td>0.000000</td>\n",
       "      <td>0.000000</td>\n",
       "      <td>0.0000</td>\n",
       "      <td>0.361149</td>\n",
       "    </tr>\n",
       "    <tr>\n",
       "      <th>IE</th>\n",
       "      <td>0.161258</td>\n",
       "      <td>0.082899</td>\n",
       "      <td>0.035345</td>\n",
       "      <td>0.279502</td>\n",
       "      <td>0.161258</td>\n",
       "      <td>0.073845</td>\n",
       "      <td>0.086457</td>\n",
       "      <td>0.074004</td>\n",
       "      <td>0.080486</td>\n",
       "      <td>0.006482</td>\n",
       "      <td>0.0000</td>\n",
       "      <td>0.923271</td>\n",
       "    </tr>\n",
       "    <tr>\n",
       "      <th>IK</th>\n",
       "      <td>0.090345</td>\n",
       "      <td>0.124707</td>\n",
       "      <td>0.038069</td>\n",
       "      <td>0.253121</td>\n",
       "      <td>0.090345</td>\n",
       "      <td>0.119243</td>\n",
       "      <td>0.126853</td>\n",
       "      <td>0.115903</td>\n",
       "      <td>0.124850</td>\n",
       "      <td>0.008947</td>\n",
       "      <td>0.0007</td>\n",
       "      <td>0.955672</td>\n",
       "    </tr>\n",
       "    <tr>\n",
       "      <th>IN</th>\n",
       "      <td>-0.022585</td>\n",
       "      <td>0.124378</td>\n",
       "      <td>0.039937</td>\n",
       "      <td>0.141730</td>\n",
       "      <td>0.022585</td>\n",
       "      <td>0.125810</td>\n",
       "      <td>0.123815</td>\n",
       "      <td>0.126280</td>\n",
       "      <td>0.120507</td>\n",
       "      <td>0.005773</td>\n",
       "      <td>0.4767</td>\n",
       "      <td>0.989102</td>\n",
       "    </tr>\n",
       "    <tr>\n",
       "      <th>KD</th>\n",
       "      <td>-0.022027</td>\n",
       "      <td>0.523187</td>\n",
       "      <td>0.043982</td>\n",
       "      <td>0.545142</td>\n",
       "      <td>0.022027</td>\n",
       "      <td>0.524726</td>\n",
       "      <td>0.522582</td>\n",
       "      <td>0.530726</td>\n",
       "      <td>0.523618</td>\n",
       "      <td>0.007108</td>\n",
       "      <td>0.0423</td>\n",
       "      <td>0.977047</td>\n",
       "    </tr>\n",
       "    <tr>\n",
       "      <th>...</th>\n",
       "      <td>...</td>\n",
       "      <td>...</td>\n",
       "      <td>...</td>\n",
       "      <td>...</td>\n",
       "      <td>...</td>\n",
       "      <td>...</td>\n",
       "      <td>...</td>\n",
       "      <td>...</td>\n",
       "      <td>...</td>\n",
       "      <td>...</td>\n",
       "      <td>...</td>\n",
       "      <td>...</td>\n",
       "    </tr>\n",
       "    <tr>\n",
       "      <th>QK</th>\n",
       "      <td>-0.008345</td>\n",
       "      <td>0.301692</td>\n",
       "      <td>0.104047</td>\n",
       "      <td>0.397394</td>\n",
       "      <td>0.008345</td>\n",
       "      <td>0.303071</td>\n",
       "      <td>0.301150</td>\n",
       "      <td>0.301790</td>\n",
       "      <td>0.298177</td>\n",
       "      <td>0.003613</td>\n",
       "      <td>0.1745</td>\n",
       "      <td>0.983866</td>\n",
       "    </tr>\n",
       "    <tr>\n",
       "      <th>QY</th>\n",
       "      <td>-0.033589</td>\n",
       "      <td>0.260742</td>\n",
       "      <td>0.104930</td>\n",
       "      <td>0.332084</td>\n",
       "      <td>0.033589</td>\n",
       "      <td>0.266341</td>\n",
       "      <td>0.258543</td>\n",
       "      <td>0.266055</td>\n",
       "      <td>0.276749</td>\n",
       "      <td>0.010694</td>\n",
       "      <td>0.0198</td>\n",
       "      <td>0.973365</td>\n",
       "    </tr>\n",
       "    <tr>\n",
       "      <th>VY</th>\n",
       "      <td>-0.213396</td>\n",
       "      <td>0.752216</td>\n",
       "      <td>0.105318</td>\n",
       "      <td>0.644138</td>\n",
       "      <td>0.213396</td>\n",
       "      <td>0.787919</td>\n",
       "      <td>0.738189</td>\n",
       "      <td>0.786697</td>\n",
       "      <td>0.713136</td>\n",
       "      <td>0.073561</td>\n",
       "      <td>0.0017</td>\n",
       "      <td>0.960791</td>\n",
       "    </tr>\n",
       "    <tr>\n",
       "      <th>QW</th>\n",
       "      <td>-0.086910</td>\n",
       "      <td>0.304861</td>\n",
       "      <td>0.107403</td>\n",
       "      <td>0.325354</td>\n",
       "      <td>0.086910</td>\n",
       "      <td>0.319690</td>\n",
       "      <td>0.299035</td>\n",
       "      <td>0.329073</td>\n",
       "      <td>0.292053</td>\n",
       "      <td>0.037020</td>\n",
       "      <td>0.1666</td>\n",
       "      <td>0.983639</td>\n",
       "    </tr>\n",
       "    <tr>\n",
       "      <th>QL</th>\n",
       "      <td>0.011544</td>\n",
       "      <td>0.255034</td>\n",
       "      <td>0.107902</td>\n",
       "      <td>0.374480</td>\n",
       "      <td>0.011544</td>\n",
       "      <td>0.253055</td>\n",
       "      <td>0.255811</td>\n",
       "      <td>0.260638</td>\n",
       "      <td>0.263928</td>\n",
       "      <td>0.003289</td>\n",
       "      <td>0.0128</td>\n",
       "      <td>0.971218</td>\n",
       "    </tr>\n",
       "  </tbody>\n",
       "</table>\n",
       "<p>400 rows × 12 columns</p>\n",
       "</div>"
      ],
      "text/plain": [
       "        corr      mean       std       sum  corr_abs     mean0     mean1  \\\n",
       "ID -0.028214  0.007005  0.022190  0.000981  0.028214  0.007999  0.006614   \n",
       "IE  0.161258  0.082899  0.035345  0.279502  0.161258  0.073845  0.086457   \n",
       "IK  0.090345  0.124707  0.038069  0.253121  0.090345  0.119243  0.126853   \n",
       "IN -0.022585  0.124378  0.039937  0.141730  0.022585  0.125810  0.123815   \n",
       "KD -0.022027  0.523187  0.043982  0.545142  0.022027  0.524726  0.522582   \n",
       "..       ...       ...       ...       ...       ...       ...       ...   \n",
       "QK -0.008345  0.301692  0.104047  0.397394  0.008345  0.303071  0.301150   \n",
       "QY -0.033589  0.260742  0.104930  0.332084  0.033589  0.266341  0.258543   \n",
       "VY -0.213396  0.752216  0.105318  0.644138  0.213396  0.787919  0.738189   \n",
       "QW -0.086910  0.304861  0.107403  0.325354  0.086910  0.319690  0.299035   \n",
       "QL  0.011544  0.255034  0.107902  0.374480  0.011544  0.253055  0.255811   \n",
       "\n",
       "     median0   median1  mediandiff  shapiro_p   shapiro  \n",
       "ID  0.000000  0.000000    0.000000     0.0000  0.361149  \n",
       "IE  0.074004  0.080486    0.006482     0.0000  0.923271  \n",
       "IK  0.115903  0.124850    0.008947     0.0007  0.955672  \n",
       "IN  0.126280  0.120507    0.005773     0.4767  0.989102  \n",
       "KD  0.530726  0.523618    0.007108     0.0423  0.977047  \n",
       "..       ...       ...         ...        ...       ...  \n",
       "QK  0.301790  0.298177    0.003613     0.1745  0.983866  \n",
       "QY  0.266055  0.276749    0.010694     0.0198  0.973365  \n",
       "VY  0.786697  0.713136    0.073561     0.0017  0.960791  \n",
       "QW  0.329073  0.292053    0.037020     0.1666  0.983639  \n",
       "QL  0.260638  0.263928    0.003289     0.0128  0.971218  \n",
       "\n",
       "[400 rows x 12 columns]"
      ]
     },
     "execution_count": 14,
     "metadata": {},
     "output_type": "execute_result"
    }
   ],
   "source": [
    "df_stats = get_feature_stats(df_pssm_50_1it, df_labels)\n",
    "\n",
    "\n",
    "df_stats[\"shapiro_p\"] = df_pssm_50_1it.apply(lambda col: shapiro(col)[1], axis=0).round(4)\n",
    "df_stats[\"shapiro\"] = df_pssm_50_1it.apply(lambda col: shapiro(col)[0], axis=0)\n",
    "\n",
    "display(df_stats[df_stats.shapiro < 0.9])\n",
    "\n",
    "df_stats.sort_values(\"std\")"
   ]
  },
  {
   "cell_type": "markdown",
   "metadata": {},
   "source": [
    "### Independent test set"
   ]
  },
  {
   "cell_type": "code",
   "execution_count": 15,
   "metadata": {
    "execution": {
     "iopub.execute_input": "2022-09-13T11:19:33.581317Z",
     "iopub.status.busy": "2022-09-13T11:19:33.581004Z",
     "iopub.status.idle": "2022-09-13T11:19:33.591352Z",
     "shell.execute_reply": "2022-09-13T11:19:33.590573Z"
    }
   },
   "outputs": [],
   "source": [
    "(\n",
    "    X_train,\n",
    "    X_test,\n",
    "    y_train,\n",
    "    y_test,\n",
    "    sample_names_train,\n",
    "    sample_names_test,\n",
    "    feature_names,\n",
    ") = get_independent_test_set(df_pssm_all, df_labels, test_size=0.2)"
   ]
  },
  {
   "cell_type": "markdown",
   "metadata": {},
   "source": [
    "### Model selection\n",
    "\n",
    "SVC (with default RBF kernel) looks the most promising."
   ]
  },
  {
   "cell_type": "code",
   "execution_count": 16,
   "metadata": {
    "execution": {
     "iopub.execute_input": "2022-09-13T11:19:33.595685Z",
     "iopub.status.busy": "2022-09-13T11:19:33.595310Z",
     "iopub.status.idle": "2022-09-13T11:19:35.505786Z",
     "shell.execute_reply": "2022-09-13T11:19:35.505334Z"
    }
   },
   "outputs": [
    {
     "name": "stdout",
     "output_type": "stream",
     "text": [
      "###  LinearSVC(class_weight='balanced', max_iter=1000000.0)\n",
      "CV folds: [0.878 0.864 0.887 0.875 0.875]\n",
      "Mean: 0.876\n",
      "Std: 0.007\n",
      "###  SVC(class_weight='balanced')\n",
      "CV folds: [1.    0.927 1.    1.    1.   ]\n",
      "Mean: 0.985\n",
      "Std: 0.029\n",
      "###  RandomForestClassifier(class_weight='balanced')\n",
      "CV folds: [0.737 0.842 0.864 1.    0.734]\n",
      "Mean: 0.835\n",
      "Std: 0.098\n",
      "###  LinearSVC(max_iter=1000000.0)\n",
      "CV folds: [0.878 0.864 0.887 0.875 0.875]\n",
      "Mean: 0.876\n",
      "Std: 0.007\n",
      "###  SVC()\n",
      "CV folds: [0.737 0.842 0.936 1.    0.734]\n",
      "Mean: 0.85\n",
      "Std: 0.106\n",
      "###  RandomForestClassifier()\n",
      "CV folds: [0.604 0.782 1.    0.839 0.734]\n",
      "Mean: 0.792\n",
      "Std: 0.13\n",
      "###  GaussianNB()\n",
      "CV folds: [0.782 0.782 0.878 0.862 0.585]\n",
      "Mean: 0.778\n",
      "Std: 0.104\n",
      "###  KNeighborsClassifier()\n",
      "CV folds: [0.864 0.683 0.936 0.926 0.734]\n",
      "Mean: 0.829\n",
      "Std: 0.102\n",
      "###  SGDClassifier()\n",
      "CV folds: [0.878 0.825 0.887 0.819 0.819]\n",
      "Mean: 0.846\n",
      "Std: 0.03\n"
     ]
    }
   ],
   "source": [
    "for estimator in [\n",
    "    LinearSVC(max_iter=1e6, class_weight=\"balanced\", random_state=0),\n",
    "    SVC(class_weight=\"balanced\"),\n",
    "    RandomForestClassifier(class_weight=\"balanced\", random_state=0),\n",
    "    LinearSVC(max_iter=1e6, random_state=0),\n",
    "    SVC(),\n",
    "    RandomForestClassifier(random_state=0),\n",
    "    GaussianNB(),\n",
    "    KNeighborsClassifier(),\n",
    "    SGDClassifier(random_state=0),\n",
    "]:\n",
    "    pipe = make_pipeline(StandardScaler(), estimator)\n",
    "    scores = cross_val_score(pipe, X_train, y_train, scoring=\"f1_macro\")\n",
    "    print(\"### \", str(estimator))\n",
    "    print(f\"CV folds: {scores.round(3)}\")\n",
    "    print(f\"Mean: {scores.mean().round(3)}\")\n",
    "    print(f\"Std: {scores.std().round(3)}\")\n"
   ]
  },
  {
   "cell_type": "markdown",
   "metadata": {},
   "source": [
    "### Parameter tuning"
   ]
  },
  {
   "cell_type": "code",
   "execution_count": 17,
   "metadata": {
    "execution": {
     "iopub.execute_input": "2022-09-13T11:19:35.510097Z",
     "iopub.status.busy": "2022-09-13T11:19:35.509854Z",
     "iopub.status.idle": "2022-09-13T11:19:40.297716Z",
     "shell.execute_reply": "2022-09-13T11:19:40.296489Z"
    }
   },
   "outputs": [
    {
     "name": "stdout",
     "output_type": "stream",
     "text": [
      "{'linearsvc__C': 10, 'linearsvc__class_weight': 'balanced', 'linearsvc__dual': False, 'pssmselector__iterations': 3, 'pssmselector__uniref_threshold': 50}\n",
      "0.986909090909091\n"
     ]
    }
   ],
   "source": [
    "gsearch = GridSearchCV(\n",
    "    estimator=make_pipeline(\n",
    "        PSSMSelector(feature_names=feature_names),\n",
    "        StandardScaler(),\n",
    "        LinearSVC(max_iter=1e6, random_state=0),\n",
    "    ),\n",
    "    param_grid={\n",
    "        \"pssmselector__uniref_threshold\": [50, 90, \"all\"],\n",
    "        \"pssmselector__iterations\": [1, 3, \"all\"],\n",
    "        \"linearsvc__class_weight\": [\"balanced\"],\n",
    "        \"linearsvc__C\": [0.1, 1, 10],\n",
    "        \"linearsvc__dual\": [True, False],\n",
    "    },\n",
    "    cv=5,\n",
    "    scoring=\"f1_macro\",\n",
    "    n_jobs=-1,\n",
    "    return_train_score=True,\n",
    ")\n",
    "gsearch.fit(X_train, y_train)\n",
    "print(gsearch.best_params_)\n",
    "print(gsearch.best_score_)\n",
    "best_estimator_svc = gsearch.best_estimator_\n"
   ]
  },
  {
   "cell_type": "markdown",
   "metadata": {},
   "source": [
    "### Dimensionality reduction"
   ]
  },
  {
   "cell_type": "code",
   "execution_count": 18,
   "metadata": {
    "execution": {
     "iopub.execute_input": "2022-09-13T11:19:40.302813Z",
     "iopub.status.busy": "2022-09-13T11:19:40.302352Z",
     "iopub.status.idle": "2022-09-13T11:19:40.380383Z",
     "shell.execute_reply": "2022-09-13T11:19:40.379578Z"
    }
   },
   "outputs": [
    {
     "name": "stdout",
     "output_type": "stream",
     "text": [
      "Number of components to explain 97% of variance: 46\n"
     ]
    }
   ],
   "source": [
    "pca = PCA()\n",
    "pca.fit(X_train)\n",
    "csum = np.cumsum(pca.explained_variance_ratio_)\n",
    "print(\"Number of components to explain 97% of variance:\", np.argmax(csum >= 0.97) + 1)"
   ]
  },
  {
   "cell_type": "code",
   "execution_count": 19,
   "metadata": {
    "execution": {
     "iopub.execute_input": "2022-09-13T11:19:40.385610Z",
     "iopub.status.busy": "2022-09-13T11:19:40.385002Z",
     "iopub.status.idle": "2022-09-13T11:19:56.171426Z",
     "shell.execute_reply": "2022-09-13T11:19:56.168690Z"
    }
   },
   "outputs": [
    {
     "name": "stdout",
     "output_type": "stream",
     "text": [
      "{'linearsvc__C': 0.1, 'linearsvc__class_weight': 'balanced', 'linearsvc__dual': True, 'pca__n_components': 0.97, 'pssmselector__iterations': 3, 'pssmselector__uniref_threshold': 'all'}\n",
      "0.986909090909091\n"
     ]
    }
   ],
   "source": [
    "gsearch = GridSearchCV(\n",
    "    estimator=make_pipeline(\n",
    "        PSSMSelector(feature_names=feature_names),\n",
    "        StandardScaler(),\n",
    "        PCA(),\n",
    "        StandardScaler(),\n",
    "        LinearSVC(max_iter=1e6, random_state=0),\n",
    "    ),\n",
    "    param_grid={\n",
    "        \"pssmselector__uniref_threshold\": [50, 90, \"all\"],\n",
    "        \"pssmselector__iterations\": [1, 3, \"all\"],\n",
    "        \"linearsvc__class_weight\": [\"balanced\"],\n",
    "        \"linearsvc__C\": [0.1, 1, 10],\n",
    "        \"linearsvc__dual\": [True, False],\n",
    "        \"pca__n_components\": np.linspace(0.8, 0.99, 20)\n",
    "    },\n",
    "    cv=5,\n",
    "    scoring=\"f1_macro\",\n",
    "    n_jobs=-1,\n",
    "    return_train_score=True,\n",
    ")\n",
    "gsearch.fit(X_train, y_train)\n",
    "print(gsearch.best_params_)\n",
    "print(gsearch.best_score_)\n",
    "best_estimator_svc_pca = gsearch.best_estimator_"
   ]
  },
  {
   "cell_type": "code",
   "execution_count": 20,
   "metadata": {
    "execution": {
     "iopub.execute_input": "2022-09-13T11:19:56.178099Z",
     "iopub.status.busy": "2022-09-13T11:19:56.177568Z",
     "iopub.status.idle": "2022-09-13T11:24:59.543965Z",
     "shell.execute_reply": "2022-09-13T11:24:59.543025Z"
    }
   },
   "outputs": [
    {
     "name": "stdout",
     "output_type": "stream",
     "text": [
      "{'linearsvc__C': 10, 'linearsvc__class_weight': 'balanced', 'linearsvc__dual': False, 'pssmselector__iterations': 3, 'pssmselector__uniref_threshold': 50, 'selectkbest__k': 252}\n",
      "1.0\n"
     ]
    }
   ],
   "source": [
    "gsearch = GridSearchCV(\n",
    "    estimator=make_pipeline(\n",
    "        PSSMSelector(feature_names=feature_names),\n",
    "        StandardScaler(),\n",
    "        SelectKBest(),\n",
    "        StandardScaler(),\n",
    "        LinearSVC(max_iter=1e6, random_state=0),\n",
    "    ),\n",
    "    param_grid={\n",
    "        \"pssmselector__uniref_threshold\": [50, 90, \"all\"],\n",
    "        \"pssmselector__iterations\": [1, 3, \"all\"],\n",
    "        \"linearsvc__class_weight\": [\"balanced\"],\n",
    "        \"linearsvc__C\": [0.1, 1, 10],\n",
    "        \"linearsvc__dual\": [True, False],\n",
    "        \"selectkbest__k\": list(range(1,400))\n",
    "    },\n",
    "    cv=5,\n",
    "    scoring=\"f1_macro\",\n",
    "    n_jobs=-1,\n",
    "    return_train_score=True,\n",
    ")\n",
    "gsearch.fit(X_train, y_train)\n",
    "print(gsearch.best_params_)\n",
    "print(gsearch.best_score_)\n",
    "best_estimator_svc_kbest = gsearch.best_estimator_"
   ]
  },
  {
   "cell_type": "markdown",
   "metadata": {},
   "source": [
    "### Validation"
   ]
  },
  {
   "cell_type": "code",
   "execution_count": 21,
   "metadata": {
    "execution": {
     "iopub.execute_input": "2022-09-13T11:24:59.548653Z",
     "iopub.status.busy": "2022-09-13T11:24:59.548508Z",
     "iopub.status.idle": "2022-09-13T11:24:59.790247Z",
     "shell.execute_reply": "2022-09-13T11:24:59.789248Z"
    }
   },
   "outputs": [
    {
     "name": "stdout",
     "output_type": "stream",
     "text": [
      "Train scores: 0.987+-0.026\n"
     ]
    },
    {
     "data": {
      "text/html": [
       "<div>\n",
       "<style scoped>\n",
       "    .dataframe tbody tr th:only-of-type {\n",
       "        vertical-align: middle;\n",
       "    }\n",
       "\n",
       "    .dataframe tbody tr th {\n",
       "        vertical-align: top;\n",
       "    }\n",
       "\n",
       "    .dataframe thead th {\n",
       "        text-align: right;\n",
       "    }\n",
       "</style>\n",
       "<table border=\"1\" class=\"dataframe\">\n",
       "  <thead>\n",
       "    <tr style=\"text-align: right;\">\n",
       "      <th></th>\n",
       "      <th>Amino</th>\n",
       "      <th>Sugar</th>\n",
       "      <th>Macro</th>\n",
       "      <th>Weighted</th>\n",
       "    </tr>\n",
       "  </thead>\n",
       "  <tbody>\n",
       "    <tr>\n",
       "      <th>precision</th>\n",
       "      <td>1.0</td>\n",
       "      <td>1.0</td>\n",
       "      <td>1.0</td>\n",
       "      <td>1.0</td>\n",
       "    </tr>\n",
       "    <tr>\n",
       "      <th>recall</th>\n",
       "      <td>1.0</td>\n",
       "      <td>1.0</td>\n",
       "      <td>1.0</td>\n",
       "      <td>1.0</td>\n",
       "    </tr>\n",
       "    <tr>\n",
       "      <th>f1-score</th>\n",
       "      <td>1.0</td>\n",
       "      <td>1.0</td>\n",
       "      <td>1.0</td>\n",
       "      <td>1.0</td>\n",
       "    </tr>\n",
       "    <tr>\n",
       "      <th>support</th>\n",
       "      <td>7.0</td>\n",
       "      <td>17.0</td>\n",
       "      <td>24.0</td>\n",
       "      <td>24.0</td>\n",
       "    </tr>\n",
       "  </tbody>\n",
       "</table>\n",
       "</div>"
      ],
      "text/plain": [
       "           Amino  Sugar  Macro  Weighted\n",
       "precision    1.0    1.0    1.0       1.0\n",
       "recall       1.0    1.0    1.0       1.0\n",
       "f1-score     1.0    1.0    1.0       1.0\n",
       "support      7.0   17.0   24.0      24.0"
      ]
     },
     "metadata": {},
     "output_type": "display_data"
    },
    {
     "data": {
      "text/html": [
       "<div>\n",
       "<style scoped>\n",
       "    .dataframe tbody tr th:only-of-type {\n",
       "        vertical-align: middle;\n",
       "    }\n",
       "\n",
       "    .dataframe tbody tr th {\n",
       "        vertical-align: top;\n",
       "    }\n",
       "\n",
       "    .dataframe thead th {\n",
       "        text-align: right;\n",
       "    }\n",
       "</style>\n",
       "<table border=\"1\" class=\"dataframe\">\n",
       "  <thead>\n",
       "    <tr style=\"text-align: right;\">\n",
       "      <th></th>\n",
       "      <th>Amino</th>\n",
       "      <th>Sugar</th>\n",
       "    </tr>\n",
       "  </thead>\n",
       "  <tbody>\n",
       "    <tr>\n",
       "      <th>Amino</th>\n",
       "      <td>7</td>\n",
       "      <td>0</td>\n",
       "    </tr>\n",
       "    <tr>\n",
       "      <th>Sugar</th>\n",
       "      <td>0</td>\n",
       "      <td>17</td>\n",
       "    </tr>\n",
       "  </tbody>\n",
       "</table>\n",
       "</div>"
      ],
      "text/plain": [
       "       Amino  Sugar\n",
       "Amino      7      0\n",
       "Sugar      0     17"
      ]
     },
     "metadata": {},
     "output_type": "display_data"
    }
   ],
   "source": [
    "best_estimator = best_estimator_svc_pca\n",
    "best_scores = cross_val_score(\n",
    "    estimator=clone(best_estimator), X=X_train, y=y_train, scoring=\"f1_macro\"\n",
    ")\n",
    "print(f\"Train scores: {best_scores.mean().round(3)}+-{best_scores.std().round(3)}\")\n",
    "\n",
    "y_pred = best_estimator.predict(X_test)\n",
    "y_true = y_test.copy()\n",
    "\n",
    "report_df, confusion_matrix_df = print_validation_results(y_true, y_pred, labels=[\"Amino\", \"Sugar\"])\n",
    "display(report_df.round(3))\n",
    "display(confusion_matrix_df)"
   ]
  },
  {
   "cell_type": "code",
   "execution_count": 22,
   "metadata": {
    "execution": {
     "iopub.execute_input": "2022-09-13T11:24:59.794952Z",
     "iopub.status.busy": "2022-09-13T11:24:59.794553Z",
     "iopub.status.idle": "2022-09-13T11:25:00.039190Z",
     "shell.execute_reply": "2022-09-13T11:25:00.038842Z"
    }
   },
   "outputs": [
    {
     "name": "stdout",
     "output_type": "stream",
     "text": [
      "Train scores: 1.0+-0.0\n"
     ]
    },
    {
     "data": {
      "text/html": [
       "<div>\n",
       "<style scoped>\n",
       "    .dataframe tbody tr th:only-of-type {\n",
       "        vertical-align: middle;\n",
       "    }\n",
       "\n",
       "    .dataframe tbody tr th {\n",
       "        vertical-align: top;\n",
       "    }\n",
       "\n",
       "    .dataframe thead th {\n",
       "        text-align: right;\n",
       "    }\n",
       "</style>\n",
       "<table border=\"1\" class=\"dataframe\">\n",
       "  <thead>\n",
       "    <tr style=\"text-align: right;\">\n",
       "      <th></th>\n",
       "      <th>Amino</th>\n",
       "      <th>Sugar</th>\n",
       "      <th>Macro</th>\n",
       "      <th>Weighted</th>\n",
       "    </tr>\n",
       "  </thead>\n",
       "  <tbody>\n",
       "    <tr>\n",
       "      <th>precision</th>\n",
       "      <td>1.0</td>\n",
       "      <td>1.0</td>\n",
       "      <td>1.0</td>\n",
       "      <td>1.0</td>\n",
       "    </tr>\n",
       "    <tr>\n",
       "      <th>recall</th>\n",
       "      <td>1.0</td>\n",
       "      <td>1.0</td>\n",
       "      <td>1.0</td>\n",
       "      <td>1.0</td>\n",
       "    </tr>\n",
       "    <tr>\n",
       "      <th>f1-score</th>\n",
       "      <td>1.0</td>\n",
       "      <td>1.0</td>\n",
       "      <td>1.0</td>\n",
       "      <td>1.0</td>\n",
       "    </tr>\n",
       "    <tr>\n",
       "      <th>support</th>\n",
       "      <td>7.0</td>\n",
       "      <td>17.0</td>\n",
       "      <td>24.0</td>\n",
       "      <td>24.0</td>\n",
       "    </tr>\n",
       "  </tbody>\n",
       "</table>\n",
       "</div>"
      ],
      "text/plain": [
       "           Amino  Sugar  Macro  Weighted\n",
       "precision    1.0    1.0    1.0       1.0\n",
       "recall       1.0    1.0    1.0       1.0\n",
       "f1-score     1.0    1.0    1.0       1.0\n",
       "support      7.0   17.0   24.0      24.0"
      ]
     },
     "metadata": {},
     "output_type": "display_data"
    },
    {
     "data": {
      "text/html": [
       "<div>\n",
       "<style scoped>\n",
       "    .dataframe tbody tr th:only-of-type {\n",
       "        vertical-align: middle;\n",
       "    }\n",
       "\n",
       "    .dataframe tbody tr th {\n",
       "        vertical-align: top;\n",
       "    }\n",
       "\n",
       "    .dataframe thead th {\n",
       "        text-align: right;\n",
       "    }\n",
       "</style>\n",
       "<table border=\"1\" class=\"dataframe\">\n",
       "  <thead>\n",
       "    <tr style=\"text-align: right;\">\n",
       "      <th></th>\n",
       "      <th>Amino</th>\n",
       "      <th>Sugar</th>\n",
       "    </tr>\n",
       "  </thead>\n",
       "  <tbody>\n",
       "    <tr>\n",
       "      <th>Amino</th>\n",
       "      <td>7</td>\n",
       "      <td>0</td>\n",
       "    </tr>\n",
       "    <tr>\n",
       "      <th>Sugar</th>\n",
       "      <td>0</td>\n",
       "      <td>17</td>\n",
       "    </tr>\n",
       "  </tbody>\n",
       "</table>\n",
       "</div>"
      ],
      "text/plain": [
       "       Amino  Sugar\n",
       "Amino      7      0\n",
       "Sugar      0     17"
      ]
     },
     "metadata": {},
     "output_type": "display_data"
    }
   ],
   "source": [
    "best_estimator = best_estimator_svc_kbest\n",
    "best_scores = cross_val_score(\n",
    "    estimator=clone(best_estimator), X=X_train, y=y_train, scoring=\"f1_macro\"\n",
    ")\n",
    "print(f\"Train scores: {best_scores.mean().round(3)}+-{best_scores.std().round(3)}\")\n",
    "\n",
    "y_pred = best_estimator.predict(X_test)\n",
    "y_true = y_test.copy()\n",
    "\n",
    "report_df, confusion_matrix_df = print_validation_results(y_true, y_pred, labels=[\"Amino\", \"Sugar\"])\n",
    "display(report_df.round(3))\n",
    "display(confusion_matrix_df)"
   ]
  },
  {
   "cell_type": "code",
   "execution_count": null,
   "metadata": {},
   "outputs": [],
   "source": []
  }
 ],
 "metadata": {
  "kernelspec": {
   "display_name": "Python 3.9.12 ('subpred')",
   "language": "python",
   "name": "python3"
  },
  "language_info": {
   "codemirror_mode": {
    "name": "ipython",
    "version": 3
   },
   "file_extension": ".py",
   "mimetype": "text/x-python",
   "name": "python",
   "nbconvert_exporter": "python",
   "pygments_lexer": "ipython3",
   "version": "3.9.12"
  },
  "vscode": {
   "interpreter": {
    "hash": "a3c5a88a8b1fa059748e807688afdff6c3f31eb23364e67d8e1c7f5771f5e23f"
   }
  }
 },
 "nbformat": 4,
 "nbformat_minor": 2
}
