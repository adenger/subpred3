{
 "cells": [
  {
   "cell_type": "markdown",
   "metadata": {},
   "source": [
    "# Feature performance comparison\n",
    "\n",
    "The purpose of this notebook is to compare the classification performance of the individual features, and their combination, for A. Thaliana\n",
    "\n",
    "\n",
    "# TODO"
   ]
  },
  {
   "cell_type": "markdown",
   "metadata": {},
   "source": [
    "# Imports"
   ]
  },
  {
   "cell_type": "code",
   "execution_count": 1,
   "metadata": {},
   "outputs": [
    {
     "name": "stderr",
     "output_type": "stream",
     "text": [
      "Intel(R) Extension for Scikit-learn* enabled (https://github.com/intel/scikit-learn-intelex)\n"
     ]
    }
   ],
   "source": [
    "import os\n",
    "import sys\n",
    "from IPython.display import display\n",
    "\n",
    "from sklearnex import patch_sklearn\n",
    "patch_sklearn()\n",
    "\n",
    "sys.path.append('../src')\n",
    "from sklearn.preprocessing import LabelEncoder, StandardScaler, Binarizer\n",
    "from sklearn.svm import SVC, LinearSVC\n",
    "from sklearn.feature_selection import SelectKBest\n",
    "from sklearn.decomposition import PCA, KernelPCA\n",
    "from sklearn.pipeline import make_pipeline, Pipeline\n",
    "from sklearn.feature_selection import SelectKBest, RFE, VarianceThreshold\n",
    "from sklearn.naive_bayes import GaussianNB\n",
    "from sklearn.metrics import f1_score, classification_report, confusion_matrix\n",
    "from sklearn.neighbors import KNeighborsClassifier\n",
    "from sklearn.ensemble import RandomForestClassifier\n",
    "from sklearn.model_selection import train_test_split, cross_val_score, cross_val_predict, GridSearchCV\n",
    "from sklearn.linear_model import SGDClassifier\n",
    "from sklearn.base import clone\n",
    "from scipy.stats import shapiro\n",
    "import matplotlib.pyplot as plt\n",
    "from sklearn.base import BaseEstimator,TransformerMixin\n",
    "\n",
    "from yellowbrick.features import ParallelCoordinates\n",
    "from yellowbrick.features import Rank1D, Rank2D\n",
    "\n",
    "import pandas as pd\n",
    "import numpy as np\n",
    "import seaborn as sns\n",
    "\n",
    "from dataset.transporter_dataset import create_dataset\n",
    "from dataset.cluster_fasta import cd_hit\n",
    "from features.labels import fasta_to_labels\n",
    "from features.compositions import calculate_composition_feature\n",
    "from features.pssm import calculate_pssm_feature\n",
    "from features.coexp import calculate_coexp_feature\n",
    "from models.eval import nested_crossval\n",
    "from visualization.feature_plots import create_plot"
   ]
  },
  {
   "cell_type": "markdown",
   "metadata": {},
   "source": [
    "# Globals"
   ]
  },
  {
   "cell_type": "code",
   "execution_count": 2,
   "metadata": {},
   "outputs": [],
   "source": [
    "LOG_FILE = \"../logs/athaliana_amino_sugar.log\"\n",
    "N_THREADS = 16\n",
    "IDENTITY_THRESHOLD=70"
   ]
  },
  {
   "cell_type": "markdown",
   "metadata": {},
   "source": [
    "# Dataset"
   ]
  },
  {
   "cell_type": "code",
   "execution_count": 3,
   "metadata": {},
   "outputs": [],
   "source": [
    "# Delete previous log\n",
    "if os.path.exists(LOG_FILE):\n",
    "    with open(LOG_FILE, \"w\"):\n",
    "        pass\n",
    "\n",
    "create_dataset(\n",
    "    keywords_substrate_filter=[\"Amino-acid transport\", \"Sugar transport\"],\n",
    "    keywords_component_filter=[\"Membrane\"],\n",
    "    keywords_transport_filter=[\"Transport\"],\n",
    "    input_file=\"../data/raw/swissprot/uniprot-reviewed_yes.tab.gz\",\n",
    "    multi_substrate=\"remove\",\n",
    "    outliers=[\"O81775\", \"Q9SW07\", \"Q9FHH5\", \"Q8S8A0\", \"Q3E965\", \"Q3EAV6\", \"Q3E8L0\"],\n",
    "    verbose=True,\n",
    "    tax_ids_filter=[3702],\n",
    "    output_tsv=\"../data/datasets/athaliana_amino_sugar.tsv\",\n",
    "    output_fasta=\"../data/datasets/athaliana_amino_sugar.fasta\",\n",
    "    output_log=LOG_FILE,\n",
    ")"
   ]
  },
  {
   "cell_type": "markdown",
   "metadata": {},
   "source": [
    "## Clustering"
   ]
  },
  {
   "cell_type": "code",
   "execution_count": null,
   "metadata": {},
   "outputs": [],
   "source": [
    "cd_hit(\n",
    "    executable_location=\"cd-hit\",\n",
    "    input_fasta=f\"../data/datasets/athaliana_amino_sugar.fasta\",\n",
    "    output_fasta=f\"../data/datasets/athaliana_amino_sugar_cluster{IDENTITY_THRESHOLD}.fasta\",\n",
    "    log_file=LOG_FILE,\n",
    "    identity_threshold=IDENTITY_THRESHOLD,\n",
    "    n_threads=N_THREADS,\n",
    "    memory=4096,\n",
    "    verbose=True,\n",
    ")"
   ]
  },
  {
   "cell_type": "markdown",
   "metadata": {},
   "source": [
    "## Annotations"
   ]
  },
  {
   "cell_type": "code",
   "execution_count": 133,
   "metadata": {},
   "outputs": [
    {
     "data": {
      "text/html": [
       "<div>\n",
       "<style scoped>\n",
       "    .dataframe tbody tr th:only-of-type {\n",
       "        vertical-align: middle;\n",
       "    }\n",
       "\n",
       "    .dataframe tbody tr th {\n",
       "        vertical-align: top;\n",
       "    }\n",
       "\n",
       "    .dataframe thead th {\n",
       "        text-align: right;\n",
       "    }\n",
       "</style>\n",
       "<table border=\"1\" class=\"dataframe\">\n",
       "  <thead>\n",
       "    <tr style=\"text-align: right;\">\n",
       "      <th></th>\n",
       "      <th>keywords_transport</th>\n",
       "      <th>gene_names</th>\n",
       "      <th>protein_names</th>\n",
       "      <th>tcdb_id</th>\n",
       "      <th>organism_id</th>\n",
       "      <th>sequence</th>\n",
       "    </tr>\n",
       "    <tr>\n",
       "      <th>Uniprot</th>\n",
       "      <th></th>\n",
       "      <th></th>\n",
       "      <th></th>\n",
       "      <th></th>\n",
       "      <th></th>\n",
       "      <th></th>\n",
       "    </tr>\n",
       "  </thead>\n",
       "  <tbody>\n",
       "    <tr>\n",
       "      <th>Q9SFG0</th>\n",
       "      <td>Sugar transport</td>\n",
       "      <td>STP6 At3g05960 F2O10.8</td>\n",
       "      <td>Sugar transport protein 6 (Hexose transporter 6)</td>\n",
       "      <td>2.A.1.1.56</td>\n",
       "      <td>3702</td>\n",
       "      <td>MAVVVSNANAPAFEAKMTVYVFICVMIAAVGGLIFGYDIGISGGVS...</td>\n",
       "    </tr>\n",
       "    <tr>\n",
       "      <th>Q9ZVK6</th>\n",
       "      <td>Sugar transport</td>\n",
       "      <td>SUC8 At2g14670 T6B13.9</td>\n",
       "      <td>Sucrose transport protein SUC8 (Sucrose permea...</td>\n",
       "      <td>NaN</td>\n",
       "      <td>3702</td>\n",
       "      <td>MSDLQAKNDVVAVDRQSSSSLADLDGPSPLRKMISVASIAAGIQFG...</td>\n",
       "    </tr>\n",
       "    <tr>\n",
       "      <th>Q84WN3</th>\n",
       "      <td>Sugar transport</td>\n",
       "      <td>SWEET17 At4g15920 dl4000c FCAALL.237</td>\n",
       "      <td>Bidirectional sugar transporter SWEET17 (AtSWE...</td>\n",
       "      <td>NaN</td>\n",
       "      <td>3702</td>\n",
       "      <td>MAEASFYIGVIGNVISVLVFLSPVETFWKIVKRRSTEEYKSLPYIC...</td>\n",
       "    </tr>\n",
       "    <tr>\n",
       "      <th>O04249</th>\n",
       "      <td>Sugar transport</td>\n",
       "      <td>STP7 At4g02050 AGAA.1 T10M13.6</td>\n",
       "      <td>Sugar transport protein 7 (Hexose transporter 7)</td>\n",
       "      <td>NaN</td>\n",
       "      <td>3702</td>\n",
       "      <td>MAGGSFGPTGVAKERAEQYQGKVTSYVIIACLVAAIGGSIFGYDIG...</td>\n",
       "    </tr>\n",
       "    <tr>\n",
       "      <th>Q56ZZ7</th>\n",
       "      <td>Sugar transport</td>\n",
       "      <td>At5g16150 T21H19.70</td>\n",
       "      <td>Plastidic glucose transporter 4 (AtpGlcT)</td>\n",
       "      <td>2.A.1.1.102</td>\n",
       "      <td>3702</td>\n",
       "      <td>MQSSTYAVKGNAAFAFQRRTFSSDRSTTSTGIRFAGYKSLATTGPL...</td>\n",
       "    </tr>\n",
       "  </tbody>\n",
       "</table>\n",
       "</div>"
      ],
      "text/plain": [
       "        keywords_transport                            gene_names  \\\n",
       "Uniprot                                                            \n",
       "Q9SFG0     Sugar transport                STP6 At3g05960 F2O10.8   \n",
       "Q9ZVK6     Sugar transport                SUC8 At2g14670 T6B13.9   \n",
       "Q84WN3     Sugar transport  SWEET17 At4g15920 dl4000c FCAALL.237   \n",
       "O04249     Sugar transport        STP7 At4g02050 AGAA.1 T10M13.6   \n",
       "Q56ZZ7     Sugar transport                   At5g16150 T21H19.70   \n",
       "\n",
       "                                             protein_names      tcdb_id  \\\n",
       "Uniprot                                                                   \n",
       "Q9SFG0    Sugar transport protein 6 (Hexose transporter 6)   2.A.1.1.56   \n",
       "Q9ZVK6   Sucrose transport protein SUC8 (Sucrose permea...          NaN   \n",
       "Q84WN3   Bidirectional sugar transporter SWEET17 (AtSWE...          NaN   \n",
       "O04249    Sugar transport protein 7 (Hexose transporter 7)          NaN   \n",
       "Q56ZZ7           Plastidic glucose transporter 4 (AtpGlcT)  2.A.1.1.102   \n",
       "\n",
       "         organism_id                                           sequence  \n",
       "Uniprot                                                                  \n",
       "Q9SFG0          3702  MAVVVSNANAPAFEAKMTVYVFICVMIAAVGGLIFGYDIGISGGVS...  \n",
       "Q9ZVK6          3702  MSDLQAKNDVVAVDRQSSSSLADLDGPSPLRKMISVASIAAGIQFG...  \n",
       "Q84WN3          3702  MAEASFYIGVIGNVISVLVFLSPVETFWKIVKRRSTEEYKSLPYIC...  \n",
       "O04249          3702  MAGGSFGPTGVAKERAEQYQGKVTSYVIIACLVAAIGGSIFGYDIG...  \n",
       "Q56ZZ7          3702  MQSSTYAVKGNAAFAFQRRTFSSDRSTTSTGIRFAGYKSLATTGPL...  "
      ]
     },
     "execution_count": 133,
     "metadata": {},
     "output_type": "execute_result"
    }
   ],
   "source": [
    "df_annotations = pd.read_table(\"../data/datasets/athaliana_amino_sugar.tsv\", index_col=0)\n",
    "df_annotations.head()"
   ]
  },
  {
   "cell_type": "markdown",
   "metadata": {},
   "source": [
    "# Feature generation\n",
    "\n",
    "## Labels"
   ]
  },
  {
   "cell_type": "code",
   "execution_count": 134,
   "metadata": {},
   "outputs": [
    {
     "data": {
      "text/plain": [
       "Sugar transport         84\n",
       "Amino-acid transport    33\n",
       "Name: labels, dtype: int64"
      ]
     },
     "execution_count": 134,
     "metadata": {},
     "output_type": "execute_result"
    }
   ],
   "source": [
    "fasta_to_labels(\n",
    "    input_fasta=f\"../data/datasets/athaliana_amino_sugar_cluster{IDENTITY_THRESHOLD}.fasta\",\n",
    "    output_tsv=f\"../data/features/athaliana_amino_sugar_cluster{IDENTITY_THRESHOLD}_labels.tsv\",\n",
    ")\n",
    "pd.read_table(\n",
    "    f\"../data/features/athaliana_amino_sugar_cluster{IDENTITY_THRESHOLD}_labels.tsv\",\n",
    "    index_col=0,\n",
    ").labels.value_counts()"
   ]
  },
  {
   "cell_type": "markdown",
   "metadata": {},
   "source": [
    "## COEXP"
   ]
  },
  {
   "cell_type": "code",
   "execution_count": 135,
   "metadata": {},
   "outputs": [],
   "source": [
    "neighbor_counts = list(range(5,21,5))\n",
    "selected_neighbor_counts = lambda x: range(1,x,1)"
   ]
  },
  {
   "cell_type": "code",
   "execution_count": null,
   "metadata": {},
   "outputs": [
    {
     "name": "stdout",
     "output_type": "stream",
     "text": [
      "5 1\n",
      "5 2\n",
      "5 3\n",
      "5 4\n",
      "10 1\n",
      "10 2\n",
      "10 3\n",
      "10 4\n",
      "10 5\n",
      "10 6\n",
      "10 7\n",
      "10 8\n",
      "10 9\n",
      "15 1\n",
      "15 2\n",
      "15 3\n",
      "15 4\n",
      "15 5\n",
      "15 6\n",
      "15 7\n",
      "15 8\n",
      "15 9\n",
      "15 10\n",
      "15 11\n",
      "15 12\n",
      "15 13\n",
      "15 14\n",
      "20 1\n",
      "20 2\n",
      "20 3\n",
      "20 4\n",
      "20 5\n",
      "20 6\n",
      "20 7\n",
      "20 8\n",
      "20 9\n",
      "20 10\n",
      "20 11\n",
      "20 12\n",
      "20 13\n",
      "20 14\n",
      "20 15\n",
      "20 16\n",
      "20 17\n",
      "20 18\n",
      "20 19\n"
     ]
    }
   ],
   "source": [
    "# TODO only transporter neighbors, or only transporters, or both.\n",
    "for neighbor_count in neighbor_counts:\n",
    "    for selected_neighbor_count in selected_neighbor_counts(neighbor_count):\n",
    "        print(neighbor_count, selected_neighbor_count)\n",
    "        calculate_coexp_feature(\n",
    "            gene_expression_folder=\"../data/intermediate/gene_expression/athaliana\",\n",
    "            fasta_file_training=\"../data/datasets/athaliana_amino_sugar_cluster{}.fasta\".format(\n",
    "                IDENTITY_THRESHOLD\n",
    "            ),\n",
    "            log_file=LOG_FILE,\n",
    "            gene_pos_file=\"../data/intermediate/gene_positions/gene_positions_athaliana.tsv\",\n",
    "            go_file=\"../data/intermediate/gene_ontology/goa_athaliana.tsv\",\n",
    "            output_folder=\"../data/features/coexp/athaliana_amino_sugar_cluster{}\".format(\n",
    "                IDENTITY_THRESHOLD\n",
    "            ),\n",
    "            neighbor_count=neighbor_count,\n",
    "            selected_neighbor_count=selected_neighbor_count,\n",
    "            go_percentage_threshold=None,\n",
    "            feature_type=\"percentage\",\n",
    "            ontologies=[\"F\", \"P\", \"C\"],\n",
    "            verbose=True,\n",
    "            n_threads=N_THREADS,\n",
    "        )\n"
   ]
  },
  {
   "cell_type": "markdown",
   "metadata": {},
   "source": [
    "## Reading dataframes"
   ]
  },
  {
   "cell_type": "code",
   "execution_count": 136,
   "metadata": {},
   "outputs": [],
   "source": [
    "df_labels = pd.read_table(\n",
    "    f\"../data/features/athaliana_amino_sugar_cluster{IDENTITY_THRESHOLD}_labels.tsv\",\n",
    "    index_col=0,\n",
    ")\n",
    "\n",
    "coexp_dataframes = []\n",
    "\n",
    "for neighbor_count in neighbor_counts:\n",
    "    for selected_neighbor_count in selected_neighbor_counts(neighbor_count):\n",
    "        for normalized_array in [True, False]:\n",
    "            df = pd.read_table(\n",
    "                \"../data/features/coexp/athaliana_amino_sugar_cluster70/e_tabm_17{}_n{}_s{}_pNone_percentage_CFP.tsv\".format(\n",
    "                    \"_norm\" if normalized_array else \"\",\n",
    "                    neighbor_count,\n",
    "                    selected_neighbor_count,\n",
    "                ),\n",
    "                index_col=0,\n",
    "            )\n",
    "            df = df.rename(\n",
    "                columns=lambda c: c.replace(\" \", \"_\")\n",
    "                + \"_{}_{}_{}\".format(\n",
    "                    neighbor_count,\n",
    "                    selected_neighbor_count,\n",
    "                    \"norm\" if normalized_array else \"notnorm\",\n",
    "                )\n",
    "            )\n",
    "\n",
    "            coexp_dataframes.append(df)\n"
   ]
  },
  {
   "cell_type": "markdown",
   "metadata": {},
   "source": [
    "## Combining dataframes"
   ]
  },
  {
   "cell_type": "code",
   "execution_count": 137,
   "metadata": {},
   "outputs": [
    {
     "data": {
      "text/plain": [
       "(111, 2800)"
      ]
     },
     "execution_count": 137,
     "metadata": {},
     "output_type": "execute_result"
    }
   ],
   "source": [
    "df_coexp_all = pd.concat(\n",
    "    coexp_dataframes,\n",
    "    axis=1,\n",
    ")\n",
    "df_labels = df_labels.loc[df_coexp_all.index]\n",
    "df_coexp_all.shape"
   ]
  },
  {
   "cell_type": "markdown",
   "metadata": {},
   "source": [
    "## Custom Transformer to try all parameters"
   ]
  },
  {
   "cell_type": "code",
   "execution_count": 138,
   "metadata": {},
   "outputs": [],
   "source": [
    "class CoexpParameterSelector(BaseEstimator, TransformerMixin):\n",
    "    def __init__(self, feature_names, normalized_expression=True, neighbors=(5, 3)):\n",
    "        self.feature_names = feature_names\n",
    "        self.neighbors = neighbors\n",
    "        self.normalized_expression = normalized_expression\n",
    "\n",
    "    def fit(self, X, y=None):\n",
    "        self.mask = np.char.endswith(\n",
    "            self.feature_names,\n",
    "            \"{}_{}_{}\".format(\n",
    "                self.neighbors[0],\n",
    "                self.neighbors[1],\n",
    "                \"norm\" if self.normalized_expression else \"notnorm\",\n",
    "            ),\n",
    "        )\n",
    "        return self\n",
    "\n",
    "    def transform(self, X, y=None):\n",
    "        X = np.array(X)\n",
    "        X = X[:, self.mask]\n",
    "        return X\n"
   ]
  },
  {
   "cell_type": "markdown",
   "metadata": {},
   "source": [
    "# Functions"
   ]
  },
  {
   "cell_type": "code",
   "execution_count": 139,
   "metadata": {},
   "outputs": [],
   "source": [
    "def get_feature_stats(df_features, df_labels_, labels=[\"Amino-acid transport\", \"Sugar transport\"]):\n",
    "    df_stats = pd.concat(\n",
    "        {\n",
    "            \"corr\": df_features.corrwith(\n",
    "                df_labels_.labels.transform(lambda x: 1.0 if x == labels[1] else 0.0)\n",
    "            ),\n",
    "            \"mean\": df_features.mean(),\n",
    "            \"std\": df_features.std(),\n",
    "        },\n",
    "        axis=1,\n",
    "    )\n",
    "\n",
    "    df_stats[\"sum\"] = df_stats.sum(axis=1)\n",
    "    df_stats[\"corr_abs\"] = df_stats[\"corr\"].abs()\n",
    "\n",
    "    df_stats[\"mean0\"] = df_features.loc[df_labels_[df_labels_.labels == labels[0]].index].mean()\n",
    "    df_stats[\"mean1\"] = df_features.loc[df_labels_[df_labels_.labels == labels[1]].index].mean()\n",
    "\n",
    "    df_stats[\"median0\"] = df_features.loc[\n",
    "        df_labels_[df_labels_.labels == labels[0]].index\n",
    "    ].median()\n",
    "    df_stats[\"median1\"] = df_features.loc[\n",
    "        df_labels_[df_labels_.labels == labels[1]].index\n",
    "    ].median()\n",
    "\n",
    "    df_stats[\"mediandiff\"] = (df_stats[\"median0\"] - df_stats[\"median1\"]).abs()\n",
    "    df_stats = df_stats.sort_values(\"mediandiff\", ascending=False)\n",
    "    return df_stats"
   ]
  },
  {
   "cell_type": "code",
   "execution_count": 140,
   "metadata": {},
   "outputs": [],
   "source": [
    "def get_independent_test_set(\n",
    "    df_features, df_labels_, labels=[\"Amino-acid transport\", \"Sugar transport\"], test_size=0.2\n",
    "):\n",
    "    X = df_features.to_numpy()\n",
    "    y = np.where(df_labels_.labels == labels[1], 1, 0)\n",
    "    feature_names = df_features.columns.to_numpy(dtype=str)\n",
    "    sample_names = df_features.index.to_numpy(dtype=str)\n",
    "    (\n",
    "        X_train,\n",
    "        X_test,\n",
    "        y_train,\n",
    "        y_test,\n",
    "        sample_names_train,\n",
    "        sample_names_test,\n",
    "    ) = train_test_split(\n",
    "        X, y, sample_names, stratify=y, random_state=42, shuffle=True, test_size=test_size\n",
    "    )\n",
    "    return (\n",
    "        X_train,\n",
    "        X_test,\n",
    "        y_train,\n",
    "        y_test,\n",
    "        sample_names_train,\n",
    "        sample_names_test,\n",
    "        feature_names,\n",
    "    )\n"
   ]
  },
  {
   "cell_type": "code",
   "execution_count": 141,
   "metadata": {},
   "outputs": [],
   "source": [
    "def print_validation_results(y_true_, y_pred_, labels = [\"Amino\", \"Sugar\"]):\n",
    "    report_dict = classification_report(y_true=y_true_, y_pred=y_pred_, output_dict=True)\n",
    "    report_dict = {\n",
    "        labels[0]: report_dict['0'],\n",
    "        labels[1]: report_dict['1'],\n",
    "        \"Macro\": report_dict[\"macro avg\"],\n",
    "        \"Weighted\": report_dict[\"weighted avg\"]\n",
    "    }\n",
    "    report_df = pd.DataFrame.from_dict(report_dict)\n",
    "    confusion_matrix_df = pd.DataFrame(\n",
    "        confusion_matrix(y_true_, y_pred_),\n",
    "        columns=labels,\n",
    "        index=labels,\n",
    "    )\n",
    "    return report_df, confusion_matrix_df"
   ]
  },
  {
   "cell_type": "markdown",
   "metadata": {},
   "source": [
    "# Individual Features\n",
    "\n",
    "## COEXP\n",
    "\n",
    "### Stats, Plots"
   ]
  },
  {
   "cell_type": "code",
   "execution_count": 142,
   "metadata": {},
   "outputs": [],
   "source": [
    "df_stats = get_feature_stats(df_coexp_all, df_labels)\n",
    "\n",
    "\n",
    "df_stats[\"shapiro_p\"] = df_coexp_all.apply(lambda col: shapiro(col)[1], axis=0).round(4)\n",
    "df_stats[\"shapiro\"] = df_coexp_all.apply(lambda col: shapiro(col)[0], axis=0)\n",
    "\n",
    "# display(df_stats[df_stats.shapiro < 0.9])"
   ]
  },
  {
   "cell_type": "code",
   "execution_count": 143,
   "metadata": {},
   "outputs": [],
   "source": [
    "# df_pssm_50_1it = df_pssm_50_1it.drop([\"ID\", \"IP\"], axis=1)\n",
    "# print(df_pssm_50_1it.shape)"
   ]
  },
  {
   "cell_type": "markdown",
   "metadata": {},
   "source": [
    "### Independent test set"
   ]
  },
  {
   "cell_type": "code",
   "execution_count": 144,
   "metadata": {},
   "outputs": [],
   "source": [
    "(\n",
    "    X_train,\n",
    "    X_test,\n",
    "    y_train,\n",
    "    y_test,\n",
    "    sample_names_train,\n",
    "    sample_names_test,\n",
    "    feature_names,\n",
    ") = get_independent_test_set(df_coexp_all, df_labels, test_size=0.2)"
   ]
  },
  {
   "cell_type": "markdown",
   "metadata": {},
   "source": [
    "### Model selection\n",
    "\n",
    "No models look promising"
   ]
  },
  {
   "cell_type": "code",
   "execution_count": 145,
   "metadata": {},
   "outputs": [
    {
     "name": "stdout",
     "output_type": "stream",
     "text": [
      "###  LinearSVC(class_weight='balanced', max_iter=1000000.0)\n",
      "CV folds: [0.481 0.379 0.379 0.575 0.346]\n",
      "Mean: 0.432\n",
      "Std: 0.085\n",
      "###  SVC(class_weight='balanced')\n",
      "CV folds: [0.446 0.419 0.4   0.414 0.393]\n",
      "Mean: 0.414\n",
      "Std: 0.018\n",
      "###  RandomForestClassifier(class_weight='balanced')\n",
      "CV folds: [0.419 0.419 0.4   0.414 0.414]\n",
      "Mean: 0.413\n",
      "Std: 0.007\n",
      "###  LinearSVC(max_iter=1000000.0)\n",
      "CV folds: [0.518 0.4   0.379 0.575 0.346]\n",
      "Mean: 0.444\n",
      "Std: 0.088\n",
      "###  SVC()\n",
      "CV folds: [0.419 0.419 0.4   0.414 0.414]\n",
      "Mean: 0.413\n",
      "Std: 0.007\n",
      "###  RandomForestClassifier()\n",
      "CV folds: [0.419 0.419 0.4   0.414 0.414]\n",
      "Mean: 0.413\n",
      "Std: 0.007\n",
      "###  GaussianNB()\n",
      "CV folds: [0.357 0.419 0.4   0.393 0.37 ]\n",
      "Mean: 0.388\n",
      "Std: 0.022\n",
      "###  KNeighborsClassifier()\n",
      "CV folds: [0.419 0.419 0.4   0.414 0.414]\n",
      "Mean: 0.413\n",
      "Std: 0.007\n",
      "###  SGDClassifier()\n",
      "CV folds: [0.518 0.419 0.379 0.575 0.346]\n",
      "Mean: 0.448\n",
      "Std: 0.086\n"
     ]
    }
   ],
   "source": [
    "for estimator in [\n",
    "    LinearSVC(max_iter=1e6, class_weight=\"balanced\"),\n",
    "    SVC(class_weight=\"balanced\"),\n",
    "    RandomForestClassifier(class_weight=\"balanced\"),\n",
    "    LinearSVC(max_iter=1e6),\n",
    "    SVC(),\n",
    "    RandomForestClassifier(),\n",
    "    GaussianNB(),\n",
    "    KNeighborsClassifier(),\n",
    "    SGDClassifier(),\n",
    "]:\n",
    "    pipe = make_pipeline(StandardScaler(),VarianceThreshold(),PCA(0.90),StandardScaler(), estimator)\n",
    "    scores = cross_val_score(pipe, X_train, y_train, scoring=\"f1_macro\")\n",
    "    print(\"### \", str(estimator))\n",
    "    print(f\"CV folds: {scores.round(3)}\")\n",
    "    print(f\"Mean: {scores.mean().round(3)}\")\n",
    "    print(f\"Std: {scores.std().round(3)}\")\n"
   ]
  },
  {
   "cell_type": "markdown",
   "metadata": {},
   "source": [
    "### Parameter tuning"
   ]
  },
  {
   "cell_type": "code",
   "execution_count": 146,
   "metadata": {},
   "outputs": [],
   "source": [
    "neighbors_parameters = []\n",
    "for neighbor_count in neighbor_counts:\n",
    "    for selected_neighbor_count in selected_neighbor_counts(neighbor_count):\n",
    "        neighbors_parameters.append((neighbor_count, selected_neighbor_count))"
   ]
  },
  {
   "cell_type": "markdown",
   "metadata": {},
   "source": [
    "#### Frequencies"
   ]
  },
  {
   "cell_type": "code",
   "execution_count": 147,
   "metadata": {},
   "outputs": [
    {
     "name": "stdout",
     "output_type": "stream",
     "text": [
      "{'coexpparameterselector__neighbors': (20, 10), 'coexpparameterselector__normalized_expression': False, 'linearsvc__C': 1, 'linearsvc__class_weight': 'balanced', 'linearsvc__dual': True}\n",
      "0.7008305961349439\n"
     ]
    }
   ],
   "source": [
    "gsearch = GridSearchCV(\n",
    "    estimator=make_pipeline(\n",
    "        CoexpParameterSelector(feature_names=feature_names),\n",
    "        StandardScaler(),\n",
    "        LinearSVC(max_iter=1e6),\n",
    "    ),\n",
    "    param_grid={\n",
    "        \"coexpparameterselector__normalized_expression\": [True, False],\n",
    "        \"coexpparameterselector__neighbors\": neighbors_parameters,\n",
    "        \"linearsvc__class_weight\": [\"balanced\"],\n",
    "        \"linearsvc__C\": [0.1, 1, 10],\n",
    "        \"linearsvc__dual\": [True, False],\n",
    "    },\n",
    "    cv=5,\n",
    "    scoring=\"f1_macro\",\n",
    "    n_jobs=-1,\n",
    "    return_train_score=True,\n",
    ")\n",
    "gsearch.fit(X_train, y_train)\n",
    "print(gsearch.best_params_)\n",
    "print(gsearch.best_score_)\n",
    "best_estimator_lsvc_freq = gsearch.best_estimator_"
   ]
  },
  {
   "cell_type": "markdown",
   "metadata": {},
   "source": [
    "#### Binary"
   ]
  },
  {
   "cell_type": "code",
   "execution_count": 148,
   "metadata": {},
   "outputs": [
    {
     "name": "stdout",
     "output_type": "stream",
     "text": [
      "{'binarizer__threshold': 0.2, 'coexpparameterselector__neighbors': (5, 4), 'coexpparameterselector__normalized_expression': True, 'linearsvc__C': 1, 'linearsvc__class_weight': 'balanced', 'linearsvc__dual': True}\n",
      "0.6973427699514655\n"
     ]
    }
   ],
   "source": [
    "gsearch = GridSearchCV(\n",
    "    estimator=make_pipeline(\n",
    "        CoexpParameterSelector(feature_names=feature_names),\n",
    "        Binarizer(),\n",
    "        StandardScaler(),\n",
    "        LinearSVC(max_iter=1e6),\n",
    "    ),\n",
    "    param_grid={\n",
    "        \"coexpparameterselector__normalized_expression\": [True, False],\n",
    "        \"coexpparameterselector__neighbors\": neighbors_parameters,\n",
    "        \"binarizer__threshold\": np.linspace(0.1, 0.9, 9),\n",
    "        \"linearsvc__class_weight\": [\"balanced\"],\n",
    "        \"linearsvc__C\": [0.1, 1, 10],\n",
    "        \"linearsvc__dual\": [True, False],\n",
    "    },\n",
    "    cv=5,\n",
    "    scoring=\"f1_macro\",\n",
    "    n_jobs=-1,\n",
    "    return_train_score=True,\n",
    ")\n",
    "gsearch.fit(X_train, y_train)\n",
    "print(gsearch.best_params_)\n",
    "print(gsearch.best_score_)\n",
    "best_estimator_lsvc_binary = gsearch.best_estimator_"
   ]
  },
  {
   "cell_type": "markdown",
   "metadata": {},
   "source": [
    "### Dimensionality reduction"
   ]
  },
  {
   "cell_type": "markdown",
   "metadata": {},
   "source": [
    "#### Frequencies"
   ]
  },
  {
   "cell_type": "code",
   "execution_count": 149,
   "metadata": {},
   "outputs": [
    {
     "name": "stdout",
     "output_type": "stream",
     "text": [
      "{'coexpparameterselector__neighbors': (20, 2), 'coexpparameterselector__normalized_expression': False, 'linearsvc__C': 0.1, 'linearsvc__class_weight': 'balanced', 'linearsvc__dual': True, 'pca__n_components': 0.565}\n",
      "0.6696138643964731\n"
     ]
    }
   ],
   "source": [
    "gsearch = GridSearchCV(\n",
    "    estimator=make_pipeline(\n",
    "        CoexpParameterSelector(feature_names=feature_names),\n",
    "        StandardScaler(),\n",
    "        PCA(),\n",
    "        StandardScaler(),\n",
    "        LinearSVC(max_iter=1e6),\n",
    "    ),\n",
    "    param_grid={\n",
    "        \"coexpparameterselector__normalized_expression\": [True, False],\n",
    "        \"coexpparameterselector__neighbors\": neighbors_parameters,\n",
    "        \"linearsvc__class_weight\": [\"balanced\"],\n",
    "        \"linearsvc__C\": [0.1, 1, 10],\n",
    "        \"linearsvc__dual\": [True, False],\n",
    "        \"pca__n_components\": np.linspace(0.4, 0.95, 11)\n",
    "\n",
    "    },\n",
    "    cv=5,\n",
    "    scoring=\"f1_macro\",\n",
    "    n_jobs=-1,\n",
    "    return_train_score=True,\n",
    ")\n",
    "gsearch.fit(X_train, y_train)\n",
    "print(gsearch.best_params_)\n",
    "print(gsearch.best_score_)\n",
    "best_estimator_lsvc_freq_pca = gsearch.best_estimator_"
   ]
  },
  {
   "cell_type": "markdown",
   "metadata": {},
   "source": [
    "#### Binary"
   ]
  },
  {
   "cell_type": "code",
   "execution_count": 150,
   "metadata": {},
   "outputs": [
    {
     "name": "stdout",
     "output_type": "stream",
     "text": [
      "{'binarizer__threshold': 0.5, 'coexpparameterselector__neighbors': (20, 8), 'coexpparameterselector__normalized_expression': False, 'linearsvc__C': 1, 'linearsvc__class_weight': 'balanced', 'linearsvc__dual': True, 'pca__n_components': 0.7849999999999999}\n",
      "0.7494384842210928\n"
     ]
    }
   ],
   "source": [
    "gsearch = GridSearchCV(\n",
    "    estimator=make_pipeline(\n",
    "        CoexpParameterSelector(feature_names=feature_names),\n",
    "        Binarizer(),\n",
    "        StandardScaler(),\n",
    "        PCA(),\n",
    "        StandardScaler(),\n",
    "        LinearSVC(max_iter=1e6),\n",
    "    ),\n",
    "    param_grid={\n",
    "        \"coexpparameterselector__normalized_expression\": [True, False],\n",
    "        \"coexpparameterselector__neighbors\": neighbors_parameters,\n",
    "        \"binarizer__threshold\": np.linspace(0.1, 0.9, 9),\n",
    "        \"linearsvc__class_weight\": [\"balanced\"],\n",
    "        \"linearsvc__C\": [0.1, 1, 10],\n",
    "        \"linearsvc__dual\": [True, False],\n",
    "        \"pca__n_components\": np.linspace(0.4, 0.95, 11)\n",
    "\n",
    "    },\n",
    "    cv=5,\n",
    "    scoring=\"f1_macro\",\n",
    "    n_jobs=-1,\n",
    "    return_train_score=True,\n",
    ")\n",
    "gsearch.fit(X_train, y_train)\n",
    "print(gsearch.best_params_)\n",
    "print(gsearch.best_score_)\n",
    "best_estimator_lsvc_binary_pca = gsearch.best_estimator_"
   ]
  },
  {
   "cell_type": "markdown",
   "metadata": {},
   "source": [
    "### Validation"
   ]
  },
  {
   "cell_type": "code",
   "execution_count": 151,
   "metadata": {},
   "outputs": [
    {
     "name": "stdout",
     "output_type": "stream",
     "text": [
      "Train scores: 0.701+-0.146\n"
     ]
    },
    {
     "data": {
      "text/html": [
       "<div>\n",
       "<style scoped>\n",
       "    .dataframe tbody tr th:only-of-type {\n",
       "        vertical-align: middle;\n",
       "    }\n",
       "\n",
       "    .dataframe tbody tr th {\n",
       "        vertical-align: top;\n",
       "    }\n",
       "\n",
       "    .dataframe thead th {\n",
       "        text-align: right;\n",
       "    }\n",
       "</style>\n",
       "<table border=\"1\" class=\"dataframe\">\n",
       "  <thead>\n",
       "    <tr style=\"text-align: right;\">\n",
       "      <th></th>\n",
       "      <th>Amino</th>\n",
       "      <th>Sugar</th>\n",
       "      <th>Macro</th>\n",
       "      <th>Weighted</th>\n",
       "    </tr>\n",
       "  </thead>\n",
       "  <tbody>\n",
       "    <tr>\n",
       "      <th>precision</th>\n",
       "      <td>0.375</td>\n",
       "      <td>0.733</td>\n",
       "      <td>0.554</td>\n",
       "      <td>0.624</td>\n",
       "    </tr>\n",
       "    <tr>\n",
       "      <th>recall</th>\n",
       "      <td>0.429</td>\n",
       "      <td>0.688</td>\n",
       "      <td>0.558</td>\n",
       "      <td>0.609</td>\n",
       "    </tr>\n",
       "    <tr>\n",
       "      <th>f1-score</th>\n",
       "      <td>0.400</td>\n",
       "      <td>0.710</td>\n",
       "      <td>0.555</td>\n",
       "      <td>0.615</td>\n",
       "    </tr>\n",
       "    <tr>\n",
       "      <th>support</th>\n",
       "      <td>7.000</td>\n",
       "      <td>16.000</td>\n",
       "      <td>23.000</td>\n",
       "      <td>23.000</td>\n",
       "    </tr>\n",
       "  </tbody>\n",
       "</table>\n",
       "</div>"
      ],
      "text/plain": [
       "           Amino   Sugar   Macro  Weighted\n",
       "precision  0.375   0.733   0.554     0.624\n",
       "recall     0.429   0.688   0.558     0.609\n",
       "f1-score   0.400   0.710   0.555     0.615\n",
       "support    7.000  16.000  23.000    23.000"
      ]
     },
     "metadata": {},
     "output_type": "display_data"
    },
    {
     "data": {
      "text/html": [
       "<div>\n",
       "<style scoped>\n",
       "    .dataframe tbody tr th:only-of-type {\n",
       "        vertical-align: middle;\n",
       "    }\n",
       "\n",
       "    .dataframe tbody tr th {\n",
       "        vertical-align: top;\n",
       "    }\n",
       "\n",
       "    .dataframe thead th {\n",
       "        text-align: right;\n",
       "    }\n",
       "</style>\n",
       "<table border=\"1\" class=\"dataframe\">\n",
       "  <thead>\n",
       "    <tr style=\"text-align: right;\">\n",
       "      <th></th>\n",
       "      <th>Amino</th>\n",
       "      <th>Sugar</th>\n",
       "    </tr>\n",
       "  </thead>\n",
       "  <tbody>\n",
       "    <tr>\n",
       "      <th>Amino</th>\n",
       "      <td>3</td>\n",
       "      <td>4</td>\n",
       "    </tr>\n",
       "    <tr>\n",
       "      <th>Sugar</th>\n",
       "      <td>5</td>\n",
       "      <td>11</td>\n",
       "    </tr>\n",
       "  </tbody>\n",
       "</table>\n",
       "</div>"
      ],
      "text/plain": [
       "       Amino  Sugar\n",
       "Amino      3      4\n",
       "Sugar      5     11"
      ]
     },
     "metadata": {},
     "output_type": "display_data"
    }
   ],
   "source": [
    "best_estimator = best_estimator_lsvc_freq\n",
    "best_scores = cross_val_score(\n",
    "    estimator=clone(best_estimator), X=X_train, y=y_train, scoring=\"f1_macro\"\n",
    ")\n",
    "print(f\"Train scores: {best_scores.mean().round(3)}+-{best_scores.std().round(3)}\")\n",
    "\n",
    "y_pred = best_estimator.predict(X_test)\n",
    "y_true = y_test.copy()\n",
    "\n",
    "report_df, confusion_matrix_df = print_validation_results(y_true, y_pred, labels=[\"Amino\", \"Sugar\"])\n",
    "display(report_df.round(3))\n",
    "display(confusion_matrix_df)"
   ]
  }
 ],
 "metadata": {
  "interpreter": {
   "hash": "cafa6b7dc1febcc0744577543e15b34b5215c03d8268d29e811de6df626dceab"
  },
  "kernelspec": {
   "display_name": "Python 3.8.10 ('venv': venv)",
   "language": "python",
   "name": "python3"
  },
  "language_info": {
   "codemirror_mode": {
    "name": "ipython",
    "version": 3
   },
   "file_extension": ".py",
   "mimetype": "text/x-python",
   "name": "python",
   "nbconvert_exporter": "python",
   "pygments_lexer": "ipython3",
   "version": "3.9.11"
  },
  "orig_nbformat": 4
 },
 "nbformat": 4,
 "nbformat_minor": 2
}
