{
 "cells": [
  {
   "cell_type": "markdown",
   "metadata": {},
   "source": [
    "# Automatic feature selection\n",
    "\n",
    "The purpose of this notebook is to explore the possibility of a feature transformer that automatically selects the best combination of machine learning features from a list (i.e. AAC, PAAC, and the four PSSM-features). As a testing dataset, the four-substrate dataset from A. Thaliana is used."
   ]
  },
  {
   "cell_type": "code",
   "execution_count": 2,
   "metadata": {
    "execution": {
     "iopub.execute_input": "2022-09-30T00:00:40.986251Z",
     "iopub.status.busy": "2022-09-30T00:00:40.985685Z",
     "iopub.status.idle": "2022-09-30T00:00:42.151453Z",
     "shell.execute_reply": "2022-09-30T00:00:42.150464Z"
    }
   },
   "outputs": [],
   "source": [
    "import sys\n",
    "from itertools import combinations\n",
    "\n",
    "import matplotlib.pyplot as plt\n",
    "import seaborn as sns\n",
    "import numpy as np\n",
    "import pandas as pd\n",
    "\n",
    "from sklearn.feature_selection import SelectKBest, VarianceThreshold\n",
    "from sklearn.preprocessing import StandardScaler\n",
    "from sklearn.svm import SVC\n",
    "from sklearn.pipeline import make_pipeline\n",
    "from sklearn.metrics import (\n",
    "    confusion_matrix,\n",
    "    balanced_accuracy_score,\n",
    "    f1_score,\n",
    ")\n",
    "from sklearn.model_selection import (\n",
    "    cross_val_score,\n",
    "    GridSearchCV,\n",
    ")\n",
    "from sklearn.base import BaseEstimator, TransformerMixin\n",
    "\n",
    "from subpred.transporter_dataset import create_dataset\n",
    "from subpred.eval import full_test, get_independent_test_set, preprocess_pandas, optimize_hyperparams\n",
    "from subpred.compositions import calculate_aac, calculate_paac\n",
    "from subpred.pssm import calculate_pssms_notebook\n",
    "from subpred.eval import preprocess_pandas\n",
    "\n",
    "\n",
    "LOG_FILE = \"../logs/athaliana_amino_sugar_potassium_feature_transformer.log\""
   ]
  },
  {
   "cell_type": "markdown",
   "metadata": {},
   "source": [
    "## Dataset creation"
   ]
  },
  {
   "cell_type": "code",
   "execution_count": 3,
   "metadata": {
    "execution": {
     "iopub.execute_input": "2022-09-30T00:00:42.155761Z",
     "iopub.status.busy": "2022-09-30T00:00:42.155505Z",
     "iopub.status.idle": "2022-09-30T00:00:52.768733Z",
     "shell.execute_reply": "2022-09-30T00:00:52.767758Z"
    }
   },
   "outputs": [
    {
     "name": "stdout",
     "output_type": "stream",
     "text": [
      "cd-hit: clustered 297 sequences into 223 clusters at threshold 70\n"
     ]
    }
   ],
   "source": [
    "sodium = [\"Q2UVJ5\", \"O04034\", \"Q9FKP1\", \"Q9LJI2\", \"Q9SYG9\", \"Q84TI7\"]\n",
    "gdu = [\"O81775\", \"Q9SW07\", \"Q9FHH5\", \"Q8S8A0\", \"Q3E965\", \"Q3EAV6\", \"Q3E8L0\"]\n",
    "df_all = create_dataset(\n",
    "    keywords_substrate_filter=[\n",
    "        \"Amino-acid transport\",\n",
    "        \"Electron transport\",\n",
    "        \"Sugar transport\",\n",
    "        \"Potassium transport\",\n",
    "    ],\n",
    "    keywords_component_filter=[\"Transmembrane\"],\n",
    "    keywords_transport_filter=[\"Transport\"],\n",
    "    input_file=\"../data/raw/swissprot/uniprot-reviewed_yes.tab.gz\",\n",
    "    multi_substrate=\"integrate\",\n",
    "    outliers=gdu + sodium,\n",
    "    verbose=True,\n",
    "    tax_ids_filter=[3702],\n",
    "    output_log=LOG_FILE,\n",
    "    sequence_clustering=70,\n",
    ")"
   ]
  },
  {
   "cell_type": "code",
   "execution_count": 4,
   "metadata": {
    "execution": {
     "iopub.execute_input": "2022-09-30T00:00:52.811800Z",
     "iopub.status.busy": "2022-09-30T00:00:52.811380Z",
     "iopub.status.idle": "2022-09-30T00:00:52.818317Z",
     "shell.execute_reply": "2022-09-30T00:00:52.817332Z"
    }
   },
   "outputs": [],
   "source": [
    "labels = df_all.keywords_transport"
   ]
  },
  {
   "cell_type": "code",
   "execution_count": 5,
   "metadata": {
    "execution": {
     "iopub.execute_input": "2022-09-30T00:00:52.822741Z",
     "iopub.status.busy": "2022-09-30T00:00:52.822374Z",
     "iopub.status.idle": "2022-09-30T00:00:55.449869Z",
     "shell.execute_reply": "2022-09-30T00:00:55.449365Z"
    }
   },
   "outputs": [],
   "source": [
    "df_aac = calculate_aac(df_all.sequence)\n",
    "df_paac = calculate_paac(df_all.sequence)\n",
    "df_pssm = calculate_pssms_notebook(df_all.sequence)"
   ]
  },
  {
   "cell_type": "markdown",
   "metadata": {},
   "source": [
    "### Preparing the features:\n",
    "\n",
    "Each feature type gets encoded in the column names of the feature dataframe, separated with a double-underscore from the feature name:"
   ]
  },
  {
   "cell_type": "code",
   "execution_count": 6,
   "metadata": {
    "execution": {
     "iopub.execute_input": "2022-09-30T00:00:55.454642Z",
     "iopub.status.busy": "2022-09-30T00:00:55.454394Z",
     "iopub.status.idle": "2022-09-30T00:00:55.478175Z",
     "shell.execute_reply": "2022-09-30T00:00:55.477771Z"
    }
   },
   "outputs": [
    {
     "data": {
      "text/html": [
       "<div>\n",
       "<style scoped>\n",
       "    .dataframe tbody tr th:only-of-type {\n",
       "        vertical-align: middle;\n",
       "    }\n",
       "\n",
       "    .dataframe tbody tr th {\n",
       "        vertical-align: top;\n",
       "    }\n",
       "\n",
       "    .dataframe thead th {\n",
       "        text-align: right;\n",
       "    }\n",
       "</style>\n",
       "<table border=\"1\" class=\"dataframe\">\n",
       "  <thead>\n",
       "    <tr style=\"text-align: right;\">\n",
       "      <th></th>\n",
       "      <th>AAC__A</th>\n",
       "      <th>AAC__C</th>\n",
       "      <th>AAC__D</th>\n",
       "      <th>AAC__E</th>\n",
       "      <th>AAC__F</th>\n",
       "      <th>AAC__G</th>\n",
       "      <th>AAC__H</th>\n",
       "      <th>AAC__I</th>\n",
       "      <th>AAC__K</th>\n",
       "      <th>AAC__L</th>\n",
       "      <th>AAC__M</th>\n",
       "      <th>AAC__N</th>\n",
       "      <th>AAC__P</th>\n",
       "      <th>AAC__Q</th>\n",
       "      <th>AAC__R</th>\n",
       "      <th>AAC__S</th>\n",
       "      <th>AAC__T</th>\n",
       "      <th>AAC__V</th>\n",
       "      <th>AAC__W</th>\n",
       "      <th>AAC__Y</th>\n",
       "    </tr>\n",
       "    <tr>\n",
       "      <th>Uniprot</th>\n",
       "      <th></th>\n",
       "      <th></th>\n",
       "      <th></th>\n",
       "      <th></th>\n",
       "      <th></th>\n",
       "      <th></th>\n",
       "      <th></th>\n",
       "      <th></th>\n",
       "      <th></th>\n",
       "      <th></th>\n",
       "      <th></th>\n",
       "      <th></th>\n",
       "      <th></th>\n",
       "      <th></th>\n",
       "      <th></th>\n",
       "      <th></th>\n",
       "      <th></th>\n",
       "      <th></th>\n",
       "      <th></th>\n",
       "      <th></th>\n",
       "    </tr>\n",
       "  </thead>\n",
       "  <tbody>\n",
       "    <tr>\n",
       "      <th>Q9SFG0</th>\n",
       "      <td>0.090730</td>\n",
       "      <td>0.015779</td>\n",
       "      <td>0.033531</td>\n",
       "      <td>0.035503</td>\n",
       "      <td>0.086785</td>\n",
       "      <td>0.088757</td>\n",
       "      <td>0.015779</td>\n",
       "      <td>0.092702</td>\n",
       "      <td>0.033531</td>\n",
       "      <td>0.104536</td>\n",
       "      <td>0.033531</td>\n",
       "      <td>0.033531</td>\n",
       "      <td>0.039448</td>\n",
       "      <td>0.029586</td>\n",
       "      <td>0.039448</td>\n",
       "      <td>0.055227</td>\n",
       "      <td>0.041420</td>\n",
       "      <td>0.086785</td>\n",
       "      <td>0.017751</td>\n",
       "      <td>0.025641</td>\n",
       "    </tr>\n",
       "    <tr>\n",
       "      <th>Q84WN3</th>\n",
       "      <td>0.066390</td>\n",
       "      <td>0.004149</td>\n",
       "      <td>0.020747</td>\n",
       "      <td>0.053942</td>\n",
       "      <td>0.070539</td>\n",
       "      <td>0.074689</td>\n",
       "      <td>0.008299</td>\n",
       "      <td>0.070539</td>\n",
       "      <td>0.041494</td>\n",
       "      <td>0.120332</td>\n",
       "      <td>0.029046</td>\n",
       "      <td>0.033195</td>\n",
       "      <td>0.041494</td>\n",
       "      <td>0.016598</td>\n",
       "      <td>0.029046</td>\n",
       "      <td>0.087137</td>\n",
       "      <td>0.058091</td>\n",
       "      <td>0.103734</td>\n",
       "      <td>0.016598</td>\n",
       "      <td>0.053942</td>\n",
       "    </tr>\n",
       "    <tr>\n",
       "      <th>P0DKI1</th>\n",
       "      <td>0.079812</td>\n",
       "      <td>0.004695</td>\n",
       "      <td>0.018779</td>\n",
       "      <td>0.028169</td>\n",
       "      <td>0.042254</td>\n",
       "      <td>0.065728</td>\n",
       "      <td>0.023474</td>\n",
       "      <td>0.065728</td>\n",
       "      <td>0.046948</td>\n",
       "      <td>0.098592</td>\n",
       "      <td>0.023474</td>\n",
       "      <td>0.032864</td>\n",
       "      <td>0.042254</td>\n",
       "      <td>0.046948</td>\n",
       "      <td>0.056338</td>\n",
       "      <td>0.122066</td>\n",
       "      <td>0.084507</td>\n",
       "      <td>0.061033</td>\n",
       "      <td>0.004695</td>\n",
       "      <td>0.051643</td>\n",
       "    </tr>\n",
       "    <tr>\n",
       "      <th>O04249</th>\n",
       "      <td>0.079922</td>\n",
       "      <td>0.013645</td>\n",
       "      <td>0.017544</td>\n",
       "      <td>0.042885</td>\n",
       "      <td>0.066277</td>\n",
       "      <td>0.107212</td>\n",
       "      <td>0.011696</td>\n",
       "      <td>0.076023</td>\n",
       "      <td>0.035088</td>\n",
       "      <td>0.120858</td>\n",
       "      <td>0.031189</td>\n",
       "      <td>0.038986</td>\n",
       "      <td>0.035088</td>\n",
       "      <td>0.035088</td>\n",
       "      <td>0.037037</td>\n",
       "      <td>0.064327</td>\n",
       "      <td>0.058480</td>\n",
       "      <td>0.081871</td>\n",
       "      <td>0.017544</td>\n",
       "      <td>0.029240</td>\n",
       "    </tr>\n",
       "    <tr>\n",
       "      <th>Q56ZZ7</th>\n",
       "      <td>0.128205</td>\n",
       "      <td>0.009158</td>\n",
       "      <td>0.020147</td>\n",
       "      <td>0.038462</td>\n",
       "      <td>0.051282</td>\n",
       "      <td>0.106227</td>\n",
       "      <td>0.003663</td>\n",
       "      <td>0.058608</td>\n",
       "      <td>0.031136</td>\n",
       "      <td>0.120879</td>\n",
       "      <td>0.020147</td>\n",
       "      <td>0.018315</td>\n",
       "      <td>0.027473</td>\n",
       "      <td>0.027473</td>\n",
       "      <td>0.040293</td>\n",
       "      <td>0.115385</td>\n",
       "      <td>0.051282</td>\n",
       "      <td>0.089744</td>\n",
       "      <td>0.014652</td>\n",
       "      <td>0.027473</td>\n",
       "    </tr>\n",
       "  </tbody>\n",
       "</table>\n",
       "</div>"
      ],
      "text/plain": [
       "           AAC__A    AAC__C    AAC__D    AAC__E    AAC__F    AAC__G    AAC__H  \\\n",
       "Uniprot                                                                         \n",
       "Q9SFG0   0.090730  0.015779  0.033531  0.035503  0.086785  0.088757  0.015779   \n",
       "Q84WN3   0.066390  0.004149  0.020747  0.053942  0.070539  0.074689  0.008299   \n",
       "P0DKI1   0.079812  0.004695  0.018779  0.028169  0.042254  0.065728  0.023474   \n",
       "O04249   0.079922  0.013645  0.017544  0.042885  0.066277  0.107212  0.011696   \n",
       "Q56ZZ7   0.128205  0.009158  0.020147  0.038462  0.051282  0.106227  0.003663   \n",
       "\n",
       "           AAC__I    AAC__K    AAC__L    AAC__M    AAC__N    AAC__P    AAC__Q  \\\n",
       "Uniprot                                                                         \n",
       "Q9SFG0   0.092702  0.033531  0.104536  0.033531  0.033531  0.039448  0.029586   \n",
       "Q84WN3   0.070539  0.041494  0.120332  0.029046  0.033195  0.041494  0.016598   \n",
       "P0DKI1   0.065728  0.046948  0.098592  0.023474  0.032864  0.042254  0.046948   \n",
       "O04249   0.076023  0.035088  0.120858  0.031189  0.038986  0.035088  0.035088   \n",
       "Q56ZZ7   0.058608  0.031136  0.120879  0.020147  0.018315  0.027473  0.027473   \n",
       "\n",
       "           AAC__R    AAC__S    AAC__T    AAC__V    AAC__W    AAC__Y  \n",
       "Uniprot                                                              \n",
       "Q9SFG0   0.039448  0.055227  0.041420  0.086785  0.017751  0.025641  \n",
       "Q84WN3   0.029046  0.087137  0.058091  0.103734  0.016598  0.053942  \n",
       "P0DKI1   0.056338  0.122066  0.084507  0.061033  0.004695  0.051643  \n",
       "O04249   0.037037  0.064327  0.058480  0.081871  0.017544  0.029240  \n",
       "Q56ZZ7   0.040293  0.115385  0.051282  0.089744  0.014652  0.027473  "
      ]
     },
     "execution_count": 6,
     "metadata": {},
     "output_type": "execute_result"
    }
   ],
   "source": [
    "df_aac.columns = df_aac.columns.to_series().apply(lambda x: f\"AAC__{x}\")\n",
    "df_aac.head()"
   ]
  },
  {
   "cell_type": "code",
   "execution_count": 7,
   "metadata": {
    "execution": {
     "iopub.execute_input": "2022-09-30T00:00:55.483320Z",
     "iopub.status.busy": "2022-09-30T00:00:55.483021Z",
     "iopub.status.idle": "2022-09-30T00:00:55.514306Z",
     "shell.execute_reply": "2022-09-30T00:00:55.513745Z"
    }
   },
   "outputs": [
    {
     "data": {
      "text/html": [
       "<div>\n",
       "<style scoped>\n",
       "    .dataframe tbody tr th:only-of-type {\n",
       "        vertical-align: middle;\n",
       "    }\n",
       "\n",
       "    .dataframe tbody tr th {\n",
       "        vertical-align: top;\n",
       "    }\n",
       "\n",
       "    .dataframe thead th {\n",
       "        text-align: right;\n",
       "    }\n",
       "</style>\n",
       "<table border=\"1\" class=\"dataframe\">\n",
       "  <thead>\n",
       "    <tr style=\"text-align: right;\">\n",
       "      <th></th>\n",
       "      <th>PAAC__AA</th>\n",
       "      <th>PAAC__AC</th>\n",
       "      <th>PAAC__AD</th>\n",
       "      <th>PAAC__AE</th>\n",
       "      <th>PAAC__AF</th>\n",
       "      <th>PAAC__AG</th>\n",
       "      <th>PAAC__AH</th>\n",
       "      <th>PAAC__AI</th>\n",
       "      <th>PAAC__AK</th>\n",
       "      <th>PAAC__AL</th>\n",
       "      <th>...</th>\n",
       "      <th>PAAC__YM</th>\n",
       "      <th>PAAC__YN</th>\n",
       "      <th>PAAC__YP</th>\n",
       "      <th>PAAC__YQ</th>\n",
       "      <th>PAAC__YR</th>\n",
       "      <th>PAAC__YS</th>\n",
       "      <th>PAAC__YT</th>\n",
       "      <th>PAAC__YV</th>\n",
       "      <th>PAAC__YW</th>\n",
       "      <th>PAAC__YY</th>\n",
       "    </tr>\n",
       "    <tr>\n",
       "      <th>Uniprot</th>\n",
       "      <th></th>\n",
       "      <th></th>\n",
       "      <th></th>\n",
       "      <th></th>\n",
       "      <th></th>\n",
       "      <th></th>\n",
       "      <th></th>\n",
       "      <th></th>\n",
       "      <th></th>\n",
       "      <th></th>\n",
       "      <th></th>\n",
       "      <th></th>\n",
       "      <th></th>\n",
       "      <th></th>\n",
       "      <th></th>\n",
       "      <th></th>\n",
       "      <th></th>\n",
       "      <th></th>\n",
       "      <th></th>\n",
       "      <th></th>\n",
       "      <th></th>\n",
       "    </tr>\n",
       "  </thead>\n",
       "  <tbody>\n",
       "    <tr>\n",
       "      <th>Q9SFG0</th>\n",
       "      <td>0.005929</td>\n",
       "      <td>0.001976</td>\n",
       "      <td>0.00000</td>\n",
       "      <td>0.000000</td>\n",
       "      <td>0.005929</td>\n",
       "      <td>0.005929</td>\n",
       "      <td>0.000000</td>\n",
       "      <td>0.003953</td>\n",
       "      <td>0.003953</td>\n",
       "      <td>0.009881</td>\n",
       "      <td>...</td>\n",
       "      <td>0.001976</td>\n",
       "      <td>0.0</td>\n",
       "      <td>0.000000</td>\n",
       "      <td>0.000000</td>\n",
       "      <td>0.001976</td>\n",
       "      <td>0.000000</td>\n",
       "      <td>0.0</td>\n",
       "      <td>0.003953</td>\n",
       "      <td>0.000000</td>\n",
       "      <td>0.000000</td>\n",
       "    </tr>\n",
       "    <tr>\n",
       "      <th>Q84WN3</th>\n",
       "      <td>0.004167</td>\n",
       "      <td>0.000000</td>\n",
       "      <td>0.00000</td>\n",
       "      <td>0.004167</td>\n",
       "      <td>0.004167</td>\n",
       "      <td>0.004167</td>\n",
       "      <td>0.000000</td>\n",
       "      <td>0.008333</td>\n",
       "      <td>0.004167</td>\n",
       "      <td>0.008333</td>\n",
       "      <td>...</td>\n",
       "      <td>0.004167</td>\n",
       "      <td>0.0</td>\n",
       "      <td>0.000000</td>\n",
       "      <td>0.000000</td>\n",
       "      <td>0.004167</td>\n",
       "      <td>0.000000</td>\n",
       "      <td>0.0</td>\n",
       "      <td>0.004167</td>\n",
       "      <td>0.000000</td>\n",
       "      <td>0.004167</td>\n",
       "    </tr>\n",
       "    <tr>\n",
       "      <th>P0DKI1</th>\n",
       "      <td>0.014151</td>\n",
       "      <td>0.000000</td>\n",
       "      <td>0.00000</td>\n",
       "      <td>0.000000</td>\n",
       "      <td>0.004717</td>\n",
       "      <td>0.009434</td>\n",
       "      <td>0.000000</td>\n",
       "      <td>0.014151</td>\n",
       "      <td>0.000000</td>\n",
       "      <td>0.014151</td>\n",
       "      <td>...</td>\n",
       "      <td>0.000000</td>\n",
       "      <td>0.0</td>\n",
       "      <td>0.004717</td>\n",
       "      <td>0.009434</td>\n",
       "      <td>0.000000</td>\n",
       "      <td>0.000000</td>\n",
       "      <td>0.0</td>\n",
       "      <td>0.000000</td>\n",
       "      <td>0.000000</td>\n",
       "      <td>0.000000</td>\n",
       "    </tr>\n",
       "    <tr>\n",
       "      <th>O04249</th>\n",
       "      <td>0.005859</td>\n",
       "      <td>0.001953</td>\n",
       "      <td>0.00000</td>\n",
       "      <td>0.003906</td>\n",
       "      <td>0.009766</td>\n",
       "      <td>0.011719</td>\n",
       "      <td>0.001953</td>\n",
       "      <td>0.003906</td>\n",
       "      <td>0.001953</td>\n",
       "      <td>0.005859</td>\n",
       "      <td>...</td>\n",
       "      <td>0.000000</td>\n",
       "      <td>0.0</td>\n",
       "      <td>0.000000</td>\n",
       "      <td>0.001953</td>\n",
       "      <td>0.000000</td>\n",
       "      <td>0.003906</td>\n",
       "      <td>0.0</td>\n",
       "      <td>0.001953</td>\n",
       "      <td>0.000000</td>\n",
       "      <td>0.000000</td>\n",
       "    </tr>\n",
       "    <tr>\n",
       "      <th>Q56ZZ7</th>\n",
       "      <td>0.011009</td>\n",
       "      <td>0.001835</td>\n",
       "      <td>0.00367</td>\n",
       "      <td>0.003670</td>\n",
       "      <td>0.007339</td>\n",
       "      <td>0.018349</td>\n",
       "      <td>0.000000</td>\n",
       "      <td>0.012844</td>\n",
       "      <td>0.003670</td>\n",
       "      <td>0.020183</td>\n",
       "      <td>...</td>\n",
       "      <td>0.000000</td>\n",
       "      <td>0.0</td>\n",
       "      <td>0.000000</td>\n",
       "      <td>0.000000</td>\n",
       "      <td>0.000000</td>\n",
       "      <td>0.003670</td>\n",
       "      <td>0.0</td>\n",
       "      <td>0.001835</td>\n",
       "      <td>0.001835</td>\n",
       "      <td>0.001835</td>\n",
       "    </tr>\n",
       "  </tbody>\n",
       "</table>\n",
       "<p>5 rows × 400 columns</p>\n",
       "</div>"
      ],
      "text/plain": [
       "         PAAC__AA  PAAC__AC  PAAC__AD  PAAC__AE  PAAC__AF  PAAC__AG  PAAC__AH  \\\n",
       "Uniprot                                                                         \n",
       "Q9SFG0   0.005929  0.001976   0.00000  0.000000  0.005929  0.005929  0.000000   \n",
       "Q84WN3   0.004167  0.000000   0.00000  0.004167  0.004167  0.004167  0.000000   \n",
       "P0DKI1   0.014151  0.000000   0.00000  0.000000  0.004717  0.009434  0.000000   \n",
       "O04249   0.005859  0.001953   0.00000  0.003906  0.009766  0.011719  0.001953   \n",
       "Q56ZZ7   0.011009  0.001835   0.00367  0.003670  0.007339  0.018349  0.000000   \n",
       "\n",
       "         PAAC__AI  PAAC__AK  PAAC__AL  ...  PAAC__YM  PAAC__YN  PAAC__YP  \\\n",
       "Uniprot                                ...                                 \n",
       "Q9SFG0   0.003953  0.003953  0.009881  ...  0.001976       0.0  0.000000   \n",
       "Q84WN3   0.008333  0.004167  0.008333  ...  0.004167       0.0  0.000000   \n",
       "P0DKI1   0.014151  0.000000  0.014151  ...  0.000000       0.0  0.004717   \n",
       "O04249   0.003906  0.001953  0.005859  ...  0.000000       0.0  0.000000   \n",
       "Q56ZZ7   0.012844  0.003670  0.020183  ...  0.000000       0.0  0.000000   \n",
       "\n",
       "         PAAC__YQ  PAAC__YR  PAAC__YS  PAAC__YT  PAAC__YV  PAAC__YW  PAAC__YY  \n",
       "Uniprot                                                                        \n",
       "Q9SFG0   0.000000  0.001976  0.000000       0.0  0.003953  0.000000  0.000000  \n",
       "Q84WN3   0.000000  0.004167  0.000000       0.0  0.004167  0.000000  0.004167  \n",
       "P0DKI1   0.009434  0.000000  0.000000       0.0  0.000000  0.000000  0.000000  \n",
       "O04249   0.001953  0.000000  0.003906       0.0  0.001953  0.000000  0.000000  \n",
       "Q56ZZ7   0.000000  0.000000  0.003670       0.0  0.001835  0.001835  0.001835  \n",
       "\n",
       "[5 rows x 400 columns]"
      ]
     },
     "execution_count": 7,
     "metadata": {},
     "output_type": "execute_result"
    }
   ],
   "source": [
    "df_paac.columns = df_paac.columns.to_series().apply(lambda x: f\"PAAC__{x}\")\n",
    "df_paac.head()"
   ]
  },
  {
   "cell_type": "code",
   "execution_count": 8,
   "metadata": {
    "execution": {
     "iopub.execute_input": "2022-09-30T00:00:55.517635Z",
     "iopub.status.busy": "2022-09-30T00:00:55.517340Z",
     "iopub.status.idle": "2022-09-30T00:00:55.545111Z",
     "shell.execute_reply": "2022-09-30T00:00:55.544480Z"
    }
   },
   "outputs": [
    {
     "data": {
      "text/html": [
       "<div>\n",
       "<style scoped>\n",
       "    .dataframe tbody tr th:only-of-type {\n",
       "        vertical-align: middle;\n",
       "    }\n",
       "\n",
       "    .dataframe tbody tr th {\n",
       "        vertical-align: top;\n",
       "    }\n",
       "\n",
       "    .dataframe thead th {\n",
       "        text-align: right;\n",
       "    }\n",
       "</style>\n",
       "<table border=\"1\" class=\"dataframe\">\n",
       "  <thead>\n",
       "    <tr style=\"text-align: right;\">\n",
       "      <th></th>\n",
       "      <th>PSSM_50_1__AA</th>\n",
       "      <th>PSSM_50_1__AR</th>\n",
       "      <th>PSSM_50_1__AN</th>\n",
       "      <th>PSSM_50_1__AD</th>\n",
       "      <th>PSSM_50_1__AC</th>\n",
       "      <th>PSSM_50_1__AQ</th>\n",
       "      <th>PSSM_50_1__AE</th>\n",
       "      <th>PSSM_50_1__AG</th>\n",
       "      <th>PSSM_50_1__AH</th>\n",
       "      <th>PSSM_50_1__AI</th>\n",
       "      <th>...</th>\n",
       "      <th>PSSM_90_3__VL</th>\n",
       "      <th>PSSM_90_3__VK</th>\n",
       "      <th>PSSM_90_3__VM</th>\n",
       "      <th>PSSM_90_3__VF</th>\n",
       "      <th>PSSM_90_3__VP</th>\n",
       "      <th>PSSM_90_3__VS</th>\n",
       "      <th>PSSM_90_3__VT</th>\n",
       "      <th>PSSM_90_3__VW</th>\n",
       "      <th>PSSM_90_3__VY</th>\n",
       "      <th>PSSM_90_3__VV</th>\n",
       "    </tr>\n",
       "    <tr>\n",
       "      <th>Uniprot</th>\n",
       "      <th></th>\n",
       "      <th></th>\n",
       "      <th></th>\n",
       "      <th></th>\n",
       "      <th></th>\n",
       "      <th></th>\n",
       "      <th></th>\n",
       "      <th></th>\n",
       "      <th></th>\n",
       "      <th></th>\n",
       "      <th></th>\n",
       "      <th></th>\n",
       "      <th></th>\n",
       "      <th></th>\n",
       "      <th></th>\n",
       "      <th></th>\n",
       "      <th></th>\n",
       "      <th></th>\n",
       "      <th></th>\n",
       "      <th></th>\n",
       "      <th></th>\n",
       "    </tr>\n",
       "  </thead>\n",
       "  <tbody>\n",
       "    <tr>\n",
       "      <th>Q9SFG0</th>\n",
       "      <td>0.784223</td>\n",
       "      <td>0.252900</td>\n",
       "      <td>0.327146</td>\n",
       "      <td>0.238979</td>\n",
       "      <td>0.394432</td>\n",
       "      <td>0.350348</td>\n",
       "      <td>0.276102</td>\n",
       "      <td>0.545244</td>\n",
       "      <td>0.227378</td>\n",
       "      <td>0.317865</td>\n",
       "      <td>...</td>\n",
       "      <td>0.434307</td>\n",
       "      <td>0.381387</td>\n",
       "      <td>0.421533</td>\n",
       "      <td>0.578467</td>\n",
       "      <td>0.357664</td>\n",
       "      <td>0.390511</td>\n",
       "      <td>0.392336</td>\n",
       "      <td>0.512774</td>\n",
       "      <td>0.656934</td>\n",
       "      <td>0.417883</td>\n",
       "    </tr>\n",
       "    <tr>\n",
       "      <th>Q84WN3</th>\n",
       "      <td>0.664740</td>\n",
       "      <td>0.416185</td>\n",
       "      <td>0.462428</td>\n",
       "      <td>0.427746</td>\n",
       "      <td>0.624277</td>\n",
       "      <td>0.445087</td>\n",
       "      <td>0.456647</td>\n",
       "      <td>0.526012</td>\n",
       "      <td>0.479769</td>\n",
       "      <td>0.543353</td>\n",
       "      <td>...</td>\n",
       "      <td>0.383260</td>\n",
       "      <td>0.264317</td>\n",
       "      <td>0.374449</td>\n",
       "      <td>0.726872</td>\n",
       "      <td>0.215859</td>\n",
       "      <td>0.286344</td>\n",
       "      <td>0.312775</td>\n",
       "      <td>0.493392</td>\n",
       "      <td>0.982379</td>\n",
       "      <td>0.352423</td>\n",
       "    </tr>\n",
       "    <tr>\n",
       "      <th>P0DKI1</th>\n",
       "      <td>0.759494</td>\n",
       "      <td>0.265823</td>\n",
       "      <td>0.348101</td>\n",
       "      <td>0.227848</td>\n",
       "      <td>0.379747</td>\n",
       "      <td>0.322785</td>\n",
       "      <td>0.303797</td>\n",
       "      <td>0.417722</td>\n",
       "      <td>0.278481</td>\n",
       "      <td>0.348101</td>\n",
       "      <td>...</td>\n",
       "      <td>0.490798</td>\n",
       "      <td>0.398773</td>\n",
       "      <td>0.447853</td>\n",
       "      <td>0.705521</td>\n",
       "      <td>0.331288</td>\n",
       "      <td>0.453988</td>\n",
       "      <td>0.417178</td>\n",
       "      <td>0.533742</td>\n",
       "      <td>0.871166</td>\n",
       "      <td>0.478528</td>\n",
       "    </tr>\n",
       "    <tr>\n",
       "      <th>O04249</th>\n",
       "      <td>0.735484</td>\n",
       "      <td>0.286022</td>\n",
       "      <td>0.352688</td>\n",
       "      <td>0.281720</td>\n",
       "      <td>0.479570</td>\n",
       "      <td>0.352688</td>\n",
       "      <td>0.318280</td>\n",
       "      <td>0.531183</td>\n",
       "      <td>0.279570</td>\n",
       "      <td>0.417204</td>\n",
       "      <td>...</td>\n",
       "      <td>0.476898</td>\n",
       "      <td>0.415842</td>\n",
       "      <td>0.471947</td>\n",
       "      <td>0.592409</td>\n",
       "      <td>0.387789</td>\n",
       "      <td>0.415842</td>\n",
       "      <td>0.422442</td>\n",
       "      <td>0.514851</td>\n",
       "      <td>0.702970</td>\n",
       "      <td>0.450495</td>\n",
       "    </tr>\n",
       "    <tr>\n",
       "      <th>Q56ZZ7</th>\n",
       "      <td>0.798913</td>\n",
       "      <td>0.173913</td>\n",
       "      <td>0.217391</td>\n",
       "      <td>0.153986</td>\n",
       "      <td>0.389493</td>\n",
       "      <td>0.251812</td>\n",
       "      <td>0.190217</td>\n",
       "      <td>0.481884</td>\n",
       "      <td>0.148551</td>\n",
       "      <td>0.367754</td>\n",
       "      <td>...</td>\n",
       "      <td>0.488636</td>\n",
       "      <td>0.433442</td>\n",
       "      <td>0.472403</td>\n",
       "      <td>0.608766</td>\n",
       "      <td>0.420455</td>\n",
       "      <td>0.461039</td>\n",
       "      <td>0.462662</td>\n",
       "      <td>0.514610</td>\n",
       "      <td>0.657468</td>\n",
       "      <td>0.470779</td>\n",
       "    </tr>\n",
       "  </tbody>\n",
       "</table>\n",
       "<p>5 rows × 1600 columns</p>\n",
       "</div>"
      ],
      "text/plain": [
       "         PSSM_50_1__AA  PSSM_50_1__AR  PSSM_50_1__AN  PSSM_50_1__AD  \\\n",
       "Uniprot                                                               \n",
       "Q9SFG0        0.784223       0.252900       0.327146       0.238979   \n",
       "Q84WN3        0.664740       0.416185       0.462428       0.427746   \n",
       "P0DKI1        0.759494       0.265823       0.348101       0.227848   \n",
       "O04249        0.735484       0.286022       0.352688       0.281720   \n",
       "Q56ZZ7        0.798913       0.173913       0.217391       0.153986   \n",
       "\n",
       "         PSSM_50_1__AC  PSSM_50_1__AQ  PSSM_50_1__AE  PSSM_50_1__AG  \\\n",
       "Uniprot                                                               \n",
       "Q9SFG0        0.394432       0.350348       0.276102       0.545244   \n",
       "Q84WN3        0.624277       0.445087       0.456647       0.526012   \n",
       "P0DKI1        0.379747       0.322785       0.303797       0.417722   \n",
       "O04249        0.479570       0.352688       0.318280       0.531183   \n",
       "Q56ZZ7        0.389493       0.251812       0.190217       0.481884   \n",
       "\n",
       "         PSSM_50_1__AH  PSSM_50_1__AI  ...  PSSM_90_3__VL  PSSM_90_3__VK  \\\n",
       "Uniprot                                ...                                 \n",
       "Q9SFG0        0.227378       0.317865  ...       0.434307       0.381387   \n",
       "Q84WN3        0.479769       0.543353  ...       0.383260       0.264317   \n",
       "P0DKI1        0.278481       0.348101  ...       0.490798       0.398773   \n",
       "O04249        0.279570       0.417204  ...       0.476898       0.415842   \n",
       "Q56ZZ7        0.148551       0.367754  ...       0.488636       0.433442   \n",
       "\n",
       "         PSSM_90_3__VM  PSSM_90_3__VF  PSSM_90_3__VP  PSSM_90_3__VS  \\\n",
       "Uniprot                                                               \n",
       "Q9SFG0        0.421533       0.578467       0.357664       0.390511   \n",
       "Q84WN3        0.374449       0.726872       0.215859       0.286344   \n",
       "P0DKI1        0.447853       0.705521       0.331288       0.453988   \n",
       "O04249        0.471947       0.592409       0.387789       0.415842   \n",
       "Q56ZZ7        0.472403       0.608766       0.420455       0.461039   \n",
       "\n",
       "         PSSM_90_3__VT  PSSM_90_3__VW  PSSM_90_3__VY  PSSM_90_3__VV  \n",
       "Uniprot                                                              \n",
       "Q9SFG0        0.392336       0.512774       0.656934       0.417883  \n",
       "Q84WN3        0.312775       0.493392       0.982379       0.352423  \n",
       "P0DKI1        0.417178       0.533742       0.871166       0.478528  \n",
       "O04249        0.422442       0.514851       0.702970       0.450495  \n",
       "Q56ZZ7        0.462662       0.514610       0.657468       0.470779  \n",
       "\n",
       "[5 rows x 1600 columns]"
      ]
     },
     "execution_count": 8,
     "metadata": {},
     "output_type": "execute_result"
    }
   ],
   "source": [
    "def transform_pssm_col(col_name):\n",
    "    values = col_name.split(\"_\")\n",
    "    aa_exchange = values[0]\n",
    "    blastdb = values[1]\n",
    "    iterations = values[2]\n",
    "    return f\"PSSM_{blastdb}_{iterations}__{aa_exchange}\"\n",
    "df_pssm.columns = df_pssm.columns.to_series().apply(transform_pssm_col)\n",
    "df_pssm.head()"
   ]
  },
  {
   "cell_type": "code",
   "execution_count": 9,
   "metadata": {
    "execution": {
     "iopub.execute_input": "2022-09-30T00:00:55.549403Z",
     "iopub.status.busy": "2022-09-30T00:00:55.549088Z",
     "iopub.status.idle": "2022-09-30T00:00:55.575197Z",
     "shell.execute_reply": "2022-09-30T00:00:55.574608Z"
    }
   },
   "outputs": [
    {
     "data": {
      "text/html": [
       "<div>\n",
       "<style scoped>\n",
       "    .dataframe tbody tr th:only-of-type {\n",
       "        vertical-align: middle;\n",
       "    }\n",
       "\n",
       "    .dataframe tbody tr th {\n",
       "        vertical-align: top;\n",
       "    }\n",
       "\n",
       "    .dataframe thead th {\n",
       "        text-align: right;\n",
       "    }\n",
       "</style>\n",
       "<table border=\"1\" class=\"dataframe\">\n",
       "  <thead>\n",
       "    <tr style=\"text-align: right;\">\n",
       "      <th></th>\n",
       "      <th>AAC__A</th>\n",
       "      <th>AAC__C</th>\n",
       "      <th>AAC__D</th>\n",
       "      <th>AAC__E</th>\n",
       "      <th>AAC__F</th>\n",
       "      <th>AAC__G</th>\n",
       "      <th>AAC__H</th>\n",
       "      <th>AAC__I</th>\n",
       "      <th>AAC__K</th>\n",
       "      <th>AAC__L</th>\n",
       "      <th>...</th>\n",
       "      <th>PSSM_90_3__VL</th>\n",
       "      <th>PSSM_90_3__VK</th>\n",
       "      <th>PSSM_90_3__VM</th>\n",
       "      <th>PSSM_90_3__VF</th>\n",
       "      <th>PSSM_90_3__VP</th>\n",
       "      <th>PSSM_90_3__VS</th>\n",
       "      <th>PSSM_90_3__VT</th>\n",
       "      <th>PSSM_90_3__VW</th>\n",
       "      <th>PSSM_90_3__VY</th>\n",
       "      <th>PSSM_90_3__VV</th>\n",
       "    </tr>\n",
       "    <tr>\n",
       "      <th>Uniprot</th>\n",
       "      <th></th>\n",
       "      <th></th>\n",
       "      <th></th>\n",
       "      <th></th>\n",
       "      <th></th>\n",
       "      <th></th>\n",
       "      <th></th>\n",
       "      <th></th>\n",
       "      <th></th>\n",
       "      <th></th>\n",
       "      <th></th>\n",
       "      <th></th>\n",
       "      <th></th>\n",
       "      <th></th>\n",
       "      <th></th>\n",
       "      <th></th>\n",
       "      <th></th>\n",
       "      <th></th>\n",
       "      <th></th>\n",
       "      <th></th>\n",
       "      <th></th>\n",
       "    </tr>\n",
       "  </thead>\n",
       "  <tbody>\n",
       "    <tr>\n",
       "      <th>Q9SFG0</th>\n",
       "      <td>0.090730</td>\n",
       "      <td>0.015779</td>\n",
       "      <td>0.033531</td>\n",
       "      <td>0.035503</td>\n",
       "      <td>0.086785</td>\n",
       "      <td>0.088757</td>\n",
       "      <td>0.015779</td>\n",
       "      <td>0.092702</td>\n",
       "      <td>0.033531</td>\n",
       "      <td>0.104536</td>\n",
       "      <td>...</td>\n",
       "      <td>0.434307</td>\n",
       "      <td>0.381387</td>\n",
       "      <td>0.421533</td>\n",
       "      <td>0.578467</td>\n",
       "      <td>0.357664</td>\n",
       "      <td>0.390511</td>\n",
       "      <td>0.392336</td>\n",
       "      <td>0.512774</td>\n",
       "      <td>0.656934</td>\n",
       "      <td>0.417883</td>\n",
       "    </tr>\n",
       "    <tr>\n",
       "      <th>Q84WN3</th>\n",
       "      <td>0.066390</td>\n",
       "      <td>0.004149</td>\n",
       "      <td>0.020747</td>\n",
       "      <td>0.053942</td>\n",
       "      <td>0.070539</td>\n",
       "      <td>0.074689</td>\n",
       "      <td>0.008299</td>\n",
       "      <td>0.070539</td>\n",
       "      <td>0.041494</td>\n",
       "      <td>0.120332</td>\n",
       "      <td>...</td>\n",
       "      <td>0.383260</td>\n",
       "      <td>0.264317</td>\n",
       "      <td>0.374449</td>\n",
       "      <td>0.726872</td>\n",
       "      <td>0.215859</td>\n",
       "      <td>0.286344</td>\n",
       "      <td>0.312775</td>\n",
       "      <td>0.493392</td>\n",
       "      <td>0.982379</td>\n",
       "      <td>0.352423</td>\n",
       "    </tr>\n",
       "    <tr>\n",
       "      <th>P0DKI1</th>\n",
       "      <td>0.079812</td>\n",
       "      <td>0.004695</td>\n",
       "      <td>0.018779</td>\n",
       "      <td>0.028169</td>\n",
       "      <td>0.042254</td>\n",
       "      <td>0.065728</td>\n",
       "      <td>0.023474</td>\n",
       "      <td>0.065728</td>\n",
       "      <td>0.046948</td>\n",
       "      <td>0.098592</td>\n",
       "      <td>...</td>\n",
       "      <td>0.490798</td>\n",
       "      <td>0.398773</td>\n",
       "      <td>0.447853</td>\n",
       "      <td>0.705521</td>\n",
       "      <td>0.331288</td>\n",
       "      <td>0.453988</td>\n",
       "      <td>0.417178</td>\n",
       "      <td>0.533742</td>\n",
       "      <td>0.871166</td>\n",
       "      <td>0.478528</td>\n",
       "    </tr>\n",
       "    <tr>\n",
       "      <th>O04249</th>\n",
       "      <td>0.079922</td>\n",
       "      <td>0.013645</td>\n",
       "      <td>0.017544</td>\n",
       "      <td>0.042885</td>\n",
       "      <td>0.066277</td>\n",
       "      <td>0.107212</td>\n",
       "      <td>0.011696</td>\n",
       "      <td>0.076023</td>\n",
       "      <td>0.035088</td>\n",
       "      <td>0.120858</td>\n",
       "      <td>...</td>\n",
       "      <td>0.476898</td>\n",
       "      <td>0.415842</td>\n",
       "      <td>0.471947</td>\n",
       "      <td>0.592409</td>\n",
       "      <td>0.387789</td>\n",
       "      <td>0.415842</td>\n",
       "      <td>0.422442</td>\n",
       "      <td>0.514851</td>\n",
       "      <td>0.702970</td>\n",
       "      <td>0.450495</td>\n",
       "    </tr>\n",
       "    <tr>\n",
       "      <th>Q56ZZ7</th>\n",
       "      <td>0.128205</td>\n",
       "      <td>0.009158</td>\n",
       "      <td>0.020147</td>\n",
       "      <td>0.038462</td>\n",
       "      <td>0.051282</td>\n",
       "      <td>0.106227</td>\n",
       "      <td>0.003663</td>\n",
       "      <td>0.058608</td>\n",
       "      <td>0.031136</td>\n",
       "      <td>0.120879</td>\n",
       "      <td>...</td>\n",
       "      <td>0.488636</td>\n",
       "      <td>0.433442</td>\n",
       "      <td>0.472403</td>\n",
       "      <td>0.608766</td>\n",
       "      <td>0.420455</td>\n",
       "      <td>0.461039</td>\n",
       "      <td>0.462662</td>\n",
       "      <td>0.514610</td>\n",
       "      <td>0.657468</td>\n",
       "      <td>0.470779</td>\n",
       "    </tr>\n",
       "  </tbody>\n",
       "</table>\n",
       "<p>5 rows × 2020 columns</p>\n",
       "</div>"
      ],
      "text/plain": [
       "           AAC__A    AAC__C    AAC__D    AAC__E    AAC__F    AAC__G    AAC__H  \\\n",
       "Uniprot                                                                         \n",
       "Q9SFG0   0.090730  0.015779  0.033531  0.035503  0.086785  0.088757  0.015779   \n",
       "Q84WN3   0.066390  0.004149  0.020747  0.053942  0.070539  0.074689  0.008299   \n",
       "P0DKI1   0.079812  0.004695  0.018779  0.028169  0.042254  0.065728  0.023474   \n",
       "O04249   0.079922  0.013645  0.017544  0.042885  0.066277  0.107212  0.011696   \n",
       "Q56ZZ7   0.128205  0.009158  0.020147  0.038462  0.051282  0.106227  0.003663   \n",
       "\n",
       "           AAC__I    AAC__K    AAC__L  ...  PSSM_90_3__VL  PSSM_90_3__VK  \\\n",
       "Uniprot                                ...                                 \n",
       "Q9SFG0   0.092702  0.033531  0.104536  ...       0.434307       0.381387   \n",
       "Q84WN3   0.070539  0.041494  0.120332  ...       0.383260       0.264317   \n",
       "P0DKI1   0.065728  0.046948  0.098592  ...       0.490798       0.398773   \n",
       "O04249   0.076023  0.035088  0.120858  ...       0.476898       0.415842   \n",
       "Q56ZZ7   0.058608  0.031136  0.120879  ...       0.488636       0.433442   \n",
       "\n",
       "         PSSM_90_3__VM  PSSM_90_3__VF  PSSM_90_3__VP  PSSM_90_3__VS  \\\n",
       "Uniprot                                                               \n",
       "Q9SFG0        0.421533       0.578467       0.357664       0.390511   \n",
       "Q84WN3        0.374449       0.726872       0.215859       0.286344   \n",
       "P0DKI1        0.447853       0.705521       0.331288       0.453988   \n",
       "O04249        0.471947       0.592409       0.387789       0.415842   \n",
       "Q56ZZ7        0.472403       0.608766       0.420455       0.461039   \n",
       "\n",
       "         PSSM_90_3__VT  PSSM_90_3__VW  PSSM_90_3__VY  PSSM_90_3__VV  \n",
       "Uniprot                                                              \n",
       "Q9SFG0        0.392336       0.512774       0.656934       0.417883  \n",
       "Q84WN3        0.312775       0.493392       0.982379       0.352423  \n",
       "P0DKI1        0.417178       0.533742       0.871166       0.478528  \n",
       "O04249        0.422442       0.514851       0.702970       0.450495  \n",
       "Q56ZZ7        0.462662       0.514610       0.657468       0.470779  \n",
       "\n",
       "[5 rows x 2020 columns]"
      ]
     },
     "execution_count": 9,
     "metadata": {},
     "output_type": "execute_result"
    }
   ],
   "source": [
    "df_combined = pd.concat([\n",
    "    df_aac, df_paac, df_pssm\n",
    "], axis=1)\n",
    "df_combined.head()"
   ]
  },
  {
   "cell_type": "markdown",
   "metadata": {},
   "source": [
    "Now, the feature dataframe contains six different features:\n",
    "\n",
    "- AAC\n",
    "- PAAC\n",
    "- PSSM (1 iteration, Uniref50)\n",
    "- PSSM (3 iterations, Uniref50)\n",
    "- PSSM (1 iteration, Uniref90)\n",
    "- PSSM (3 iterations, Uniref90)\n",
    "\n",
    "The feature type and the features are separated by a double-underscore."
   ]
  },
  {
   "cell_type": "markdown",
   "metadata": {},
   "source": [
    "The custom transformer code:"
   ]
  },
  {
   "cell_type": "code",
   "execution_count": 10,
   "metadata": {
    "execution": {
     "iopub.execute_input": "2022-09-30T00:00:55.579490Z",
     "iopub.status.busy": "2022-09-30T00:00:55.579211Z",
     "iopub.status.idle": "2022-09-30T00:00:55.586704Z",
     "shell.execute_reply": "2022-09-30T00:00:55.586026Z"
    }
   },
   "outputs": [],
   "source": [
    "# this should be used this in combination with a standardscaler, since the features are not in the same ranges.\n",
    "class FeatureCombinator(BaseEstimator, TransformerMixin):\n",
    "    # feature_names have the shape \"feature_type__feature_name\", separated by two underscores.\n",
    "    def __init__(self, feature_names: np.array, feature_types: np.array):\n",
    "        # grid search sets these fields with the values from the parameter grid, then fit is called.\n",
    "        self.feature_names = feature_names\n",
    "        self.feature_types = feature_types\n",
    "\n",
    "    def __filter_column_names(self):\n",
    "        for feature_name in self.feature_names:\n",
    "            feature_type = feature_name.split(\"__\")[0]\n",
    "            yield feature_type in self.feature_types\n",
    "\n",
    "    def fit(self, X, y=None):\n",
    "        self.mask = list(self.__filter_column_names())\n",
    "        return self\n",
    "\n",
    "    def transform(self, X, y=None):\n",
    "        # would throw error with pandas dataframes because .loc is missing\n",
    "        if isinstance(X, pd.DataFrame):\n",
    "            X = np.array(X)\n",
    "        X = X[:, self.mask]\n",
    "        return X"
   ]
  },
  {
   "cell_type": "markdown",
   "metadata": {},
   "source": [
    "## Preparing data for machine learning:"
   ]
  },
  {
   "cell_type": "code",
   "execution_count": 11,
   "metadata": {
    "execution": {
     "iopub.execute_input": "2022-09-30T00:00:55.590843Z",
     "iopub.status.busy": "2022-09-30T00:00:55.590507Z",
     "iopub.status.idle": "2022-09-30T00:00:55.609724Z",
     "shell.execute_reply": "2022-09-30T00:00:55.609056Z"
    }
   },
   "outputs": [],
   "source": [
    "X, y, _, sample_names = preprocess_pandas(\n",
    "    df_combined, labels, return_names=True\n",
    ")\n",
    "(\n",
    "    X_train,\n",
    "    X_test,\n",
    "    y_train,\n",
    "    y_test,\n",
    "    sample_names_train,\n",
    "    sample_names_test,\n",
    ") = get_independent_test_set(X, y, sample_names=sample_names, test_size=0.2)"
   ]
  },
  {
   "cell_type": "code",
   "execution_count": 12,
   "metadata": {
    "execution": {
     "iopub.execute_input": "2022-09-30T00:00:55.613556Z",
     "iopub.status.busy": "2022-09-30T00:00:55.613251Z",
     "iopub.status.idle": "2022-09-30T00:00:55.621281Z",
     "shell.execute_reply": "2022-09-30T00:00:55.620548Z"
    }
   },
   "outputs": [
    {
     "name": "stdout",
     "output_type": "stream",
     "text": [
      "['AAC' 'PAAC' 'PSSM_50_1' 'PSSM_50_3' 'PSSM_90_1' 'PSSM_90_3']\n"
     ]
    }
   ],
   "source": [
    "feature_names = df_combined.columns.values\n",
    "feature_types = df_combined.columns.to_series().apply(lambda x: x.split(\"__\")[0]).unique()\n",
    "\n",
    "print(feature_types)\n",
    "\n",
    "# all possible subsets of feature_types, (except the empty set of course)\n",
    "all_subsets = []\n",
    "for num_features in range(1,len(feature_types)):\n",
    "    subset = [list(x) for x in combinations(feature_types, num_features)]\n",
    "    all_subsets.extend(subset)"
   ]
  },
  {
   "cell_type": "markdown",
   "metadata": {},
   "source": [
    "## Evaluation"
   ]
  },
  {
   "cell_type": "markdown",
   "metadata": {},
   "source": [
    "### Only optimizing the feature choice\n",
    "\n",
    "Here, we only use the feature combinator and leave all other parameters at their default values."
   ]
  },
  {
   "cell_type": "code",
   "execution_count": 12,
   "metadata": {
    "execution": {
     "iopub.execute_input": "2022-09-30T00:00:55.625825Z",
     "iopub.status.busy": "2022-09-30T00:00:55.625536Z",
     "iopub.status.idle": "2022-09-30T00:01:01.034997Z",
     "shell.execute_reply": "2022-09-30T00:01:01.034553Z"
    }
   },
   "outputs": [
    {
     "name": "stdout",
     "output_type": "stream",
     "text": [
      "0.968\n",
      "{'featurecombinator__feature_types': ['PAAC', 'PSSM_50_1', 'PSSM_50_3'], 'svc__class_weight': 'balanced'}\n",
      "0.936\n"
     ]
    }
   ],
   "source": [
    "pipe = make_pipeline(\n",
    "    FeatureCombinator(feature_names, feature_types), StandardScaler(), SVC()\n",
    ")\n",
    "\n",
    "gsearch = GridSearchCV(\n",
    "    pipe,\n",
    "    param_grid={\n",
    "        \"svc__class_weight\": [\"balanced\"],\n",
    "        \"featurecombinator__feature_types\": all_subsets\n",
    "    },\n",
    "    scoring=\"f1_macro\",\n",
    "    n_jobs=-1\n",
    ")\n",
    "\n",
    "gsearch.fit(X_train, y_train)\n",
    "\n",
    "print(gsearch.best_score_.round(3))\n",
    "print(gsearch.best_params_)\n",
    "test_score = f1_score(y_test, gsearch.best_estimator_.predict(X_test), average=\"macro\")\n",
    "print(test_score.round(3))"
   ]
  },
  {
   "cell_type": "markdown",
   "metadata": {},
   "source": [
    "### Also optimizing SVM hyperparameters\n",
    "\n",
    "Now we can try to also optimize the SVM parameters:"
   ]
  },
  {
   "cell_type": "code",
   "execution_count": 13,
   "metadata": {
    "execution": {
     "iopub.execute_input": "2022-09-30T00:01:01.040540Z",
     "iopub.status.busy": "2022-09-30T00:01:01.040075Z",
     "iopub.status.idle": "2022-09-30T00:02:17.611903Z",
     "shell.execute_reply": "2022-09-30T00:02:17.610623Z"
    }
   },
   "outputs": [
    {
     "name": "stdout",
     "output_type": "stream",
     "text": [
      "0.974\n",
      "{'featurecombinator__feature_types': ['AAC', 'PSSM_50_3', 'PSSM_90_1', 'PSSM_90_3'], 'svc__C': 10, 'svc__class_weight': 'balanced', 'svc__decision_function_shape': 'ovo', 'svc__gamma': 'scale'}\n",
      "0.976\n"
     ]
    }
   ],
   "source": [
    "pipe = make_pipeline(\n",
    "    FeatureCombinator(feature_names, feature_types), StandardScaler(), SVC()\n",
    ")\n",
    "\n",
    "gsearch = GridSearchCV(\n",
    "    pipe,\n",
    "    param_grid={\n",
    "        \"svc__decision_function_shape\": [\"ovo\", \"ovr\"],\n",
    "        \"svc__class_weight\": [\"balanced\", None],\n",
    "        \"svc__C\": [1, 0.1, 10, 100],\n",
    "        \"svc__gamma\": [\"scale\", 0.01, 0.1, 1],\n",
    "        \"featurecombinator__feature_types\": all_subsets\n",
    "    },\n",
    "    scoring=\"f1_macro\",\n",
    "    n_jobs=-1\n",
    ")\n",
    "\n",
    "gsearch.fit(X_train, y_train)\n",
    "\n",
    "print(gsearch.best_score_.round(3))\n",
    "print(gsearch.best_params_)\n",
    "test_score = f1_score(y_test, gsearch.best_estimator_.predict(X_test), average=\"macro\")\n",
    "print(test_score.round(3))"
   ]
  },
  {
   "cell_type": "code",
   "execution_count": 19,
   "metadata": {},
   "outputs": [],
   "source": []
  },
  {
   "cell_type": "markdown",
   "metadata": {},
   "source": [
    "## Feature selection\n",
    "\n",
    "Finally, we see the impact of selecting up to 20 features (the smallest possible dataset)"
   ]
  },
  {
   "cell_type": "code",
   "execution_count": 14,
   "metadata": {
    "execution": {
     "iopub.execute_input": "2022-09-30T00:02:17.615532Z",
     "iopub.status.busy": "2022-09-30T00:02:17.615090Z",
     "iopub.status.idle": "2022-09-30T00:02:53.825676Z",
     "shell.execute_reply": "2022-09-30T00:02:53.824589Z"
    }
   },
   "outputs": [],
   "source": [
    "records = []\n",
    "\n",
    "for k in range(1, 20):\n",
    "    pipe = make_pipeline(\n",
    "        FeatureCombinator(feature_names, feature_types),\n",
    "        StandardScaler(),\n",
    "        VarianceThreshold(),\n",
    "        SelectKBest(k=k),\n",
    "        SVC(),\n",
    "    )\n",
    "\n",
    "    gsearch = GridSearchCV(\n",
    "        pipe,\n",
    "        param_grid={\n",
    "            \"svc__class_weight\": [\"balanced\"],\n",
    "            \"featurecombinator__feature_types\": all_subsets,\n",
    "        },\n",
    "        scoring=\"f1_macro\",\n",
    "        n_jobs=-1,\n",
    "    )\n",
    "\n",
    "    gsearch.fit(X_train, y_train)\n",
    "    train_score = gsearch.best_score_\n",
    "    test_score = f1_score(y_test, gsearch.best_estimator_.predict(X_test), average=\"macro\")\n",
    "    records.append([k, \"train\", train_score])\n",
    "    records.append([k, \"test\", test_score])\n",
    "\n",
    "df_results = pd.DataFrame.from_records(records, columns=[\"k\", \"dataset\", \"score\"])"
   ]
  },
  {
   "cell_type": "code",
   "execution_count": 15,
   "metadata": {
    "execution": {
     "iopub.execute_input": "2022-09-30T00:02:53.831219Z",
     "iopub.status.busy": "2022-09-30T00:02:53.830973Z",
     "iopub.status.idle": "2022-09-30T00:02:54.188963Z",
     "shell.execute_reply": "2022-09-30T00:02:54.188475Z"
    }
   },
   "outputs": [
    {
     "data": {
      "text/plain": [
       "<AxesSubplot:xlabel='k', ylabel='score'>"
      ]
     },
     "execution_count": 15,
     "metadata": {},
     "output_type": "execute_result"
    },
    {
     "data": {
      "image/png": "[encoded data removed]",
      "text/plain": [
       "<Figure size 432x288 with 1 Axes>"
      ]
     },
     "metadata": {
      "needs_background": "light"
     },
     "output_type": "display_data"
    }
   ],
   "source": [
    "g = sns.lineplot(data=df_results, x=\"k\", y=\"score\", hue=\"dataset\")\n",
    "g.set_ylim([0,1])\n",
    "g.set_xticks(list(range(1,20)))\n",
    "g"
   ]
  },
  {
   "cell_type": "code",
   "execution_count": 16,
   "metadata": {
    "execution": {
     "iopub.execute_input": "2022-09-30T00:02:54.192105Z",
     "iopub.status.busy": "2022-09-30T00:02:54.191873Z",
     "iopub.status.idle": "2022-09-30T00:02:54.201578Z",
     "shell.execute_reply": "2022-09-30T00:02:54.201135Z"
    }
   },
   "outputs": [
    {
     "data": {
      "text/html": [
       "<div>\n",
       "<style scoped>\n",
       "    .dataframe tbody tr th:only-of-type {\n",
       "        vertical-align: middle;\n",
       "    }\n",
       "\n",
       "    .dataframe tbody tr th {\n",
       "        vertical-align: top;\n",
       "    }\n",
       "\n",
       "    .dataframe thead th {\n",
       "        text-align: right;\n",
       "    }\n",
       "</style>\n",
       "<table border=\"1\" class=\"dataframe\">\n",
       "  <thead>\n",
       "    <tr style=\"text-align: right;\">\n",
       "      <th>dataset</th>\n",
       "      <th>test</th>\n",
       "      <th>train</th>\n",
       "    </tr>\n",
       "    <tr>\n",
       "      <th>k</th>\n",
       "      <th></th>\n",
       "      <th></th>\n",
       "    </tr>\n",
       "  </thead>\n",
       "  <tbody>\n",
       "    <tr>\n",
       "      <th>1</th>\n",
       "      <td>0.431</td>\n",
       "      <td>0.506</td>\n",
       "    </tr>\n",
       "    <tr>\n",
       "      <th>2</th>\n",
       "      <td>0.496</td>\n",
       "      <td>0.589</td>\n",
       "    </tr>\n",
       "    <tr>\n",
       "      <th>3</th>\n",
       "      <td>0.574</td>\n",
       "      <td>0.640</td>\n",
       "    </tr>\n",
       "    <tr>\n",
       "      <th>4</th>\n",
       "      <td>0.615</td>\n",
       "      <td>0.670</td>\n",
       "    </tr>\n",
       "    <tr>\n",
       "      <th>5</th>\n",
       "      <td>0.635</td>\n",
       "      <td>0.702</td>\n",
       "    </tr>\n",
       "    <tr>\n",
       "      <th>6</th>\n",
       "      <td>0.740</td>\n",
       "      <td>0.744</td>\n",
       "    </tr>\n",
       "    <tr>\n",
       "      <th>7</th>\n",
       "      <td>0.714</td>\n",
       "      <td>0.770</td>\n",
       "    </tr>\n",
       "    <tr>\n",
       "      <th>8</th>\n",
       "      <td>0.714</td>\n",
       "      <td>0.791</td>\n",
       "    </tr>\n",
       "    <tr>\n",
       "      <th>9</th>\n",
       "      <td>0.784</td>\n",
       "      <td>0.796</td>\n",
       "    </tr>\n",
       "    <tr>\n",
       "      <th>10</th>\n",
       "      <td>0.784</td>\n",
       "      <td>0.806</td>\n",
       "    </tr>\n",
       "    <tr>\n",
       "      <th>11</th>\n",
       "      <td>0.773</td>\n",
       "      <td>0.821</td>\n",
       "    </tr>\n",
       "    <tr>\n",
       "      <th>12</th>\n",
       "      <td>0.788</td>\n",
       "      <td>0.820</td>\n",
       "    </tr>\n",
       "    <tr>\n",
       "      <th>13</th>\n",
       "      <td>0.827</td>\n",
       "      <td>0.840</td>\n",
       "    </tr>\n",
       "    <tr>\n",
       "      <th>14</th>\n",
       "      <td>0.770</td>\n",
       "      <td>0.803</td>\n",
       "    </tr>\n",
       "    <tr>\n",
       "      <th>15</th>\n",
       "      <td>0.846</td>\n",
       "      <td>0.805</td>\n",
       "    </tr>\n",
       "    <tr>\n",
       "      <th>16</th>\n",
       "      <td>0.842</td>\n",
       "      <td>0.824</td>\n",
       "    </tr>\n",
       "    <tr>\n",
       "      <th>17</th>\n",
       "      <td>0.842</td>\n",
       "      <td>0.823</td>\n",
       "    </tr>\n",
       "    <tr>\n",
       "      <th>18</th>\n",
       "      <td>0.842</td>\n",
       "      <td>0.836</td>\n",
       "    </tr>\n",
       "    <tr>\n",
       "      <th>19</th>\n",
       "      <td>0.832</td>\n",
       "      <td>0.837</td>\n",
       "    </tr>\n",
       "  </tbody>\n",
       "</table>\n",
       "</div>"
      ],
      "text/plain": [
       "dataset   test  train\n",
       "k                    \n",
       "1        0.431  0.506\n",
       "2        0.496  0.589\n",
       "3        0.574  0.640\n",
       "4        0.615  0.670\n",
       "5        0.635  0.702\n",
       "6        0.740  0.744\n",
       "7        0.714  0.770\n",
       "8        0.714  0.791\n",
       "9        0.784  0.796\n",
       "10       0.784  0.806\n",
       "11       0.773  0.821\n",
       "12       0.788  0.820\n",
       "13       0.827  0.840\n",
       "14       0.770  0.803\n",
       "15       0.846  0.805\n",
       "16       0.842  0.824\n",
       "17       0.842  0.823\n",
       "18       0.842  0.836\n",
       "19       0.832  0.837"
      ]
     },
     "execution_count": 16,
     "metadata": {},
     "output_type": "execute_result"
    }
   ],
   "source": [
    "df_results.pivot(columns=\"dataset\", index=\"k\", values=\"score\").round(3)"
   ]
  },
  {
   "cell_type": "code",
   "execution_count": 17,
   "metadata": {
    "execution": {
     "iopub.execute_input": "2022-09-30T00:02:54.205860Z",
     "iopub.status.busy": "2022-09-30T00:02:54.205658Z",
     "iopub.status.idle": "2022-09-30T00:15:27.916478Z",
     "shell.execute_reply": "2022-09-30T00:15:27.915084Z"
    }
   },
   "outputs": [],
   "source": [
    "all_subsets_400 = list(filter(lambda x: x != [\"AAC\"],all_subsets))\n",
    "records = []\n",
    "\n",
    "for k in range(1, 401):\n",
    "    pipe = make_pipeline(\n",
    "        FeatureCombinator(feature_names, feature_types),\n",
    "        StandardScaler(),\n",
    "        VarianceThreshold(),\n",
    "        SelectKBest(k=k),\n",
    "        SVC(),\n",
    "    )\n",
    "\n",
    "    gsearch = GridSearchCV(\n",
    "        pipe,\n",
    "        param_grid={\n",
    "            \"svc__class_weight\": [\"balanced\"],\n",
    "            \"featurecombinator__feature_types\": all_subsets_400,\n",
    "        },\n",
    "        scoring=\"f1_macro\",\n",
    "        n_jobs=-1,\n",
    "    )\n",
    "\n",
    "    gsearch.fit(X_train, y_train)\n",
    "    train_score = gsearch.best_score_\n",
    "    test_score = f1_score(y_test, gsearch.best_estimator_.predict(X_test), average=\"macro\")\n",
    "    records.append([k, \"train\", train_score])\n",
    "    records.append([k, \"test\", test_score])\n",
    "\n",
    "df_results = pd.DataFrame.from_records(records, columns=[\"k\", \"dataset\", \"score\"])"
   ]
  },
  {
   "cell_type": "code",
   "execution_count": 18,
   "metadata": {
    "execution": {
     "iopub.execute_input": "2022-09-30T00:15:27.923012Z",
     "iopub.status.busy": "2022-09-30T00:15:27.922773Z",
     "iopub.status.idle": "2022-09-30T00:15:28.156503Z",
     "shell.execute_reply": "2022-09-30T00:15:28.155536Z"
    }
   },
   "outputs": [
    {
     "data": {
      "text/plain": [
       "<AxesSubplot:xlabel='k', ylabel='score'>"
      ]
     },
     "execution_count": 18,
     "metadata": {},
     "output_type": "execute_result"
    },
    {
     "data": {
      "image/png": "[encoded data removed]",
      "text/plain": [
       "<Figure size 432x288 with 1 Axes>"
      ]
     },
     "metadata": {
      "needs_background": "light"
     },
     "output_type": "display_data"
    }
   ],
   "source": [
    "g = sns.lineplot(data=df_results, x=\"k\", y=\"score\", hue=\"dataset\")\n",
    "g.set_ylim([0,1])\n",
    "g"
   ]
  },
  {
   "cell_type": "code",
   "execution_count": 19,
   "metadata": {
    "execution": {
     "iopub.execute_input": "2022-09-30T00:15:28.162683Z",
     "iopub.status.busy": "2022-09-30T00:15:28.162350Z",
     "iopub.status.idle": "2022-09-30T00:15:28.178184Z",
     "shell.execute_reply": "2022-09-30T00:15:28.177481Z"
    }
   },
   "outputs": [
    {
     "data": {
      "text/html": [
       "<div>\n",
       "<style scoped>\n",
       "    .dataframe tbody tr th:only-of-type {\n",
       "        vertical-align: middle;\n",
       "    }\n",
       "\n",
       "    .dataframe tbody tr th {\n",
       "        vertical-align: top;\n",
       "    }\n",
       "\n",
       "    .dataframe thead th {\n",
       "        text-align: right;\n",
       "    }\n",
       "</style>\n",
       "<table border=\"1\" class=\"dataframe\">\n",
       "  <thead>\n",
       "    <tr style=\"text-align: right;\">\n",
       "      <th>dataset</th>\n",
       "      <th>test</th>\n",
       "      <th>train</th>\n",
       "    </tr>\n",
       "    <tr>\n",
       "      <th>k</th>\n",
       "      <th></th>\n",
       "      <th></th>\n",
       "    </tr>\n",
       "  </thead>\n",
       "  <tbody>\n",
       "    <tr>\n",
       "      <th>377</th>\n",
       "      <td>0.868099</td>\n",
       "      <td>0.949423</td>\n",
       "    </tr>\n",
       "    <tr>\n",
       "      <th>378</th>\n",
       "      <td>0.868099</td>\n",
       "      <td>0.949423</td>\n",
       "    </tr>\n",
       "  </tbody>\n",
       "</table>\n",
       "</div>"
      ],
      "text/plain": [
       "dataset      test     train\n",
       "k                          \n",
       "377      0.868099  0.949423\n",
       "378      0.868099  0.949423"
      ]
     },
     "execution_count": 19,
     "metadata": {},
     "output_type": "execute_result"
    }
   ],
   "source": [
    "df_results_pivot = df_results.pivot(columns=\"dataset\", index=\"k\", values=\"score\")\n",
    "df_results_pivot[df_results_pivot.train == df_results_pivot.train.max()]"
   ]
  },
  {
   "cell_type": "code",
   "execution_count": 20,
   "metadata": {
    "execution": {
     "iopub.execute_input": "2022-09-30T00:15:28.182226Z",
     "iopub.status.busy": "2022-09-30T00:15:28.181926Z",
     "iopub.status.idle": "2022-09-30T00:15:28.193665Z",
     "shell.execute_reply": "2022-09-30T00:15:28.192937Z"
    }
   },
   "outputs": [
    {
     "data": {
      "text/html": [
       "<div>\n",
       "<style scoped>\n",
       "    .dataframe tbody tr th:only-of-type {\n",
       "        vertical-align: middle;\n",
       "    }\n",
       "\n",
       "    .dataframe tbody tr th {\n",
       "        vertical-align: top;\n",
       "    }\n",
       "\n",
       "    .dataframe thead th {\n",
       "        text-align: right;\n",
       "    }\n",
       "</style>\n",
       "<table border=\"1\" class=\"dataframe\">\n",
       "  <thead>\n",
       "    <tr style=\"text-align: right;\">\n",
       "      <th>dataset</th>\n",
       "      <th>test</th>\n",
       "      <th>train</th>\n",
       "    </tr>\n",
       "    <tr>\n",
       "      <th>k</th>\n",
       "      <th></th>\n",
       "      <th></th>\n",
       "    </tr>\n",
       "  </thead>\n",
       "  <tbody>\n",
       "    <tr>\n",
       "      <th>177</th>\n",
       "      <td>0.951389</td>\n",
       "      <td>0.919242</td>\n",
       "    </tr>\n",
       "    <tr>\n",
       "      <th>221</th>\n",
       "      <td>0.922947</td>\n",
       "      <td>0.919242</td>\n",
       "    </tr>\n",
       "  </tbody>\n",
       "</table>\n",
       "</div>"
      ],
      "text/plain": [
       "dataset      test     train\n",
       "k                          \n",
       "177      0.951389  0.919242\n",
       "221      0.922947  0.919242"
      ]
     },
     "execution_count": 20,
     "metadata": {},
     "output_type": "execute_result"
    }
   ],
   "source": [
    "df_results_pivot[df_results_pivot.train == df_results_pivot.train.median()].drop_duplicates()"
   ]
  },
  {
   "cell_type": "markdown",
   "metadata": {},
   "source": [
    "## Checking dependence on choice of independent test set\n",
    "\n",
    "Using 10 random numbers, we select other independent test sets, in order to compare the average performance to our analysis above. "
   ]
  },
  {
   "cell_type": "code",
   "execution_count": 41,
   "metadata": {
    "execution": {
     "iopub.execute_input": "2022-09-30T00:15:28.198240Z",
     "iopub.status.busy": "2022-09-30T00:15:28.197982Z",
     "iopub.status.idle": "2022-09-30T00:47:10.281658Z",
     "shell.execute_reply": "2022-09-30T00:47:10.280622Z"
    }
   },
   "outputs": [
    {
     "name": "stderr",
     "output_type": "stream",
     "text": [
      "/home/ad/miniconda3/envs/subpred/lib/python3.9/site-packages/sklearn/utils/deprecation.py:103: FutureWarning: Attribute `_pairwise` was deprecated in version 0.24 and will be removed in 1.1 (renaming of 0.26).\n",
      "  warnings.warn(msg, category=FutureWarning)\n"
     ]
    }
   ],
   "source": [
    "import numpy.random as nprnd\n",
    "from joblib.parallel import Parallel, delayed\n",
    "from sklearn.model_selection import train_test_split\n",
    "import warnings\n",
    "\n",
    "\n",
    "def evaluation_svm(X, y, sample_names, random_seed):\n",
    "    records = []\n",
    "    (\n",
    "        X_train,\n",
    "        X_test,\n",
    "        y_train,\n",
    "        y_test,\n",
    "        sample_names_train,\n",
    "        sample_names_test,\n",
    "    ) = train_test_split(\n",
    "        X,\n",
    "        y,\n",
    "        sample_names,\n",
    "        stratify=y,\n",
    "        random_state=random_seed,\n",
    "        shuffle=True,\n",
    "        test_size=0.2,\n",
    "    )\n",
    "    pipe = make_pipeline(\n",
    "        FeatureCombinator(feature_names, feature_types),\n",
    "        StandardScaler(),\n",
    "        SVC(class_weight=\"balanced\",C=10),\n",
    "    )\n",
    "    gsearch = GridSearchCV(\n",
    "        pipe,\n",
    "        param_grid={\n",
    "            # \"svc__class_weight\": [\"balanced\"],\n",
    "            # \"svc__class_weight\": [\"balanced\", None],\n",
    "            # \"svc__C\": [10],\n",
    "            # \"svc__gamma\": [\"scale\", 0.01, 0.1, 1],\n",
    "            \"featurecombinator__feature_types\": all_subsets,\n",
    "        },\n",
    "        scoring=\"f1_macro\",\n",
    "        n_jobs=-1,\n",
    "    )\n",
    "\n",
    "    # future warning about internal function being removed\n",
    "    with warnings.catch_warnings():\n",
    "        warnings.simplefilter(action='ignore', category=FutureWarning)\n",
    "        gsearch.fit(X_train, y_train)\n",
    "    test_score = f1_score(\n",
    "        y_test, gsearch.best_estimator_.predict(X_test), average=\"macro\"\n",
    "    )\n",
    "    records.append([random_seed, \"train\", \"f1_macro_mean\", gsearch.best_score_])\n",
    "    records.append(\n",
    "        [\n",
    "            random_seed,\n",
    "            \"train\",\n",
    "            \"selected_features\",\n",
    "            gsearch.best_params_[\"featurecombinator__feature_types\"],\n",
    "        ]\n",
    "    )\n",
    "    records.append([random_seed, \"test\", \"f1_macro_mean\", test_score])\n",
    "    return records\n",
    "\n",
    "\n",
    "X, y, _, sample_names = preprocess_pandas(df_combined, labels, return_names=True)\n",
    "\n",
    "nprnd.seed(42)\n",
    "results = Parallel(n_jobs=-1,mmap_mode=\"r\")(\n",
    "    delayed(evaluation_svm)(X, y, sample_names, random_seed)\n",
    "    for random_seed in nprnd.randint(1e8, size=1000)\n",
    ")\n",
    "\n",
    "records = list()\n",
    "for sublist in results:\n",
    "    for sublist_item in sublist:\n",
    "        records.append(sublist_item)\n",
    "\n",
    "df_records = pd.DataFrame.from_records(\n",
    "    records, columns=[\"random_seed\", \"dataset\", \"type\", \"value\"]\n",
    ")"
   ]
  },
  {
   "cell_type": "code",
   "execution_count": 42,
   "metadata": {
    "execution": {
     "iopub.execute_input": "2022-09-30T00:47:10.295200Z",
     "iopub.status.busy": "2022-09-30T00:47:10.294789Z",
     "iopub.status.idle": "2022-09-30T00:47:10.317448Z",
     "shell.execute_reply": "2022-09-30T00:47:10.316810Z"
    }
   },
   "outputs": [
    {
     "data": {
      "text/html": [
       "<div>\n",
       "<style scoped>\n",
       "    .dataframe tbody tr th:only-of-type {\n",
       "        vertical-align: middle;\n",
       "    }\n",
       "\n",
       "    .dataframe tbody tr th {\n",
       "        vertical-align: top;\n",
       "    }\n",
       "\n",
       "    .dataframe thead th {\n",
       "        text-align: right;\n",
       "    }\n",
       "</style>\n",
       "<table border=\"1\" class=\"dataframe\">\n",
       "  <thead>\n",
       "    <tr style=\"text-align: right;\">\n",
       "      <th></th>\n",
       "      <th></th>\n",
       "      <th>value</th>\n",
       "    </tr>\n",
       "    <tr>\n",
       "      <th>type</th>\n",
       "      <th>dataset</th>\n",
       "      <th></th>\n",
       "    </tr>\n",
       "  </thead>\n",
       "  <tbody>\n",
       "    <tr>\n",
       "      <th rowspan=\"2\" valign=\"top\">f1_macro_mean</th>\n",
       "      <th>test</th>\n",
       "      <td>0.967</td>\n",
       "    </tr>\n",
       "    <tr>\n",
       "      <th>train</th>\n",
       "      <td>0.973</td>\n",
       "    </tr>\n",
       "  </tbody>\n",
       "</table>\n",
       "</div>"
      ],
      "text/plain": [
       "                       value\n",
       "type          dataset       \n",
       "f1_macro_mean test     0.967\n",
       "              train    0.973"
      ]
     },
     "execution_count": 42,
     "metadata": {},
     "output_type": "execute_result"
    }
   ],
   "source": [
    "df_records[df_records.type != \"selected_features\"].drop(\"random_seed\", axis=1).groupby([\"type\", \"dataset\"]).mean().round(3)"
   ]
  },
  {
   "cell_type": "markdown",
   "metadata": {},
   "source": [
    "Standard deviations of the training and test scores are low:"
   ]
  },
  {
   "cell_type": "code",
   "execution_count": 43,
   "metadata": {
    "execution": {
     "iopub.execute_input": "2022-09-30T00:47:10.324763Z",
     "iopub.status.busy": "2022-09-30T00:47:10.324385Z",
     "iopub.status.idle": "2022-09-30T00:47:10.338636Z",
     "shell.execute_reply": "2022-09-30T00:47:10.338009Z"
    }
   },
   "outputs": [
    {
     "data": {
      "text/html": [
       "<div>\n",
       "<style scoped>\n",
       "    .dataframe tbody tr th:only-of-type {\n",
       "        vertical-align: middle;\n",
       "    }\n",
       "\n",
       "    .dataframe tbody tr th {\n",
       "        vertical-align: top;\n",
       "    }\n",
       "\n",
       "    .dataframe thead th {\n",
       "        text-align: right;\n",
       "    }\n",
       "</style>\n",
       "<table border=\"1\" class=\"dataframe\">\n",
       "  <thead>\n",
       "    <tr style=\"text-align: right;\">\n",
       "      <th></th>\n",
       "      <th>value</th>\n",
       "    </tr>\n",
       "    <tr>\n",
       "      <th>dataset</th>\n",
       "      <th></th>\n",
       "    </tr>\n",
       "  </thead>\n",
       "  <tbody>\n",
       "    <tr>\n",
       "      <th>test</th>\n",
       "      <td>0.030</td>\n",
       "    </tr>\n",
       "    <tr>\n",
       "      <th>train</th>\n",
       "      <td>0.011</td>\n",
       "    </tr>\n",
       "  </tbody>\n",
       "</table>\n",
       "</div>"
      ],
      "text/plain": [
       "         value\n",
       "dataset       \n",
       "test     0.030\n",
       "train    0.011"
      ]
     },
     "execution_count": 43,
     "metadata": {},
     "output_type": "execute_result"
    }
   ],
   "source": [
    "df_records[(df_records.type==\"f1_macro_mean\")].drop([\"random_seed\", \"type\"], axis=1).groupby(\"dataset\").std().round(3)"
   ]
  },
  {
   "cell_type": "code",
   "execution_count": 45,
   "metadata": {
    "execution": {
     "iopub.execute_input": "2022-09-30T00:47:10.354453Z",
     "iopub.status.busy": "2022-09-30T00:47:10.354111Z",
     "iopub.status.idle": "2022-09-30T00:47:10.494649Z",
     "shell.execute_reply": "2022-09-30T00:47:10.493456Z"
    }
   },
   "outputs": [
    {
     "data": {
      "text/plain": [
       "(0.0, 1000.0)"
      ]
     },
     "execution_count": 45,
     "metadata": {},
     "output_type": "execute_result"
    },
    {
     "data": {
      "image/png": "[encoded data removed]",
      "text/plain": [
       "<Figure size 432x288 with 1 Axes>"
      ]
     },
     "metadata": {
      "needs_background": "light"
     },
     "output_type": "display_data"
    }
   ],
   "source": [
    "g = df_records[df_records.type == \"selected_features\"].value.explode().value_counts().plot.bar()\n",
    "\n",
    "g.set_ylim(0,1000)"
   ]
  },
  {
   "cell_type": "code",
   "execution_count": 46,
   "metadata": {
    "execution": {
     "iopub.execute_input": "2022-09-30T00:47:10.498960Z",
     "iopub.status.busy": "2022-09-30T00:47:10.498483Z",
     "iopub.status.idle": "2022-09-30T00:47:10.509793Z",
     "shell.execute_reply": "2022-09-30T00:47:10.509139Z"
    }
   },
   "outputs": [
    {
     "data": {
      "text/plain": [
       "PSSM_50_3    812\n",
       "PSSM_90_3    731\n",
       "PSSM_90_1    415\n",
       "PSSM_50_1    319\n",
       "AAC          256\n",
       "PAAC          67\n",
       "Name: value, dtype: int64"
      ]
     },
     "execution_count": 46,
     "metadata": {},
     "output_type": "execute_result"
    }
   ],
   "source": [
    "df_records[df_records.type == \"selected_features\"].value.explode().value_counts()"
   ]
  },
  {
   "cell_type": "code",
   "execution_count": 49,
   "metadata": {
    "execution": {
     "iopub.execute_input": "2022-09-30T00:47:10.513745Z",
     "iopub.status.busy": "2022-09-30T00:47:10.513421Z",
     "iopub.status.idle": "2022-09-30T00:47:10.525834Z",
     "shell.execute_reply": "2022-09-30T00:47:10.525143Z"
    }
   },
   "outputs": [
    {
     "data": {
      "text/plain": [
       "[PSSM_50_3, PSSM_90_3]                               157\n",
       "[PSSM_50_3, PSSM_90_1, PSSM_90_3]                    139\n",
       "[PSSM_50_3]                                           77\n",
       "[PSSM_50_1, PSSM_50_3, PSSM_90_3]                     73\n",
       "[PSSM_90_1, PSSM_90_3]                                60\n",
       "[AAC, PSSM_50_3, PSSM_90_3]                           54\n",
       "[PSSM_50_1, PSSM_50_3]                                48\n",
       "[AAC, PSSM_50_3, PSSM_90_1, PSSM_90_3]                46\n",
       "[PSSM_50_1, PSSM_50_3, PSSM_90_1, PSSM_90_3]          41\n",
       "[AAC, PSSM_50_3]                                      34\n",
       "[PSSM_50_3, PSSM_90_1]                                27\n",
       "[AAC, PSSM_90_3]                                      23\n",
       "[PSSM_50_1]                                           19\n",
       "[PSSM_90_3]                                           19\n",
       "[AAC, PSSM_50_1, PSSM_50_3, PSSM_90_1, PSSM_90_3]     17\n",
       "Name: value, dtype: int64"
      ]
     },
     "execution_count": 49,
     "metadata": {},
     "output_type": "execute_result"
    }
   ],
   "source": [
    "df_records[df_records.type == \"selected_features\"].value.value_counts().head(15)"
   ]
  },
  {
   "cell_type": "code",
   "execution_count": 57,
   "metadata": {},
   "outputs": [
    {
     "name": "stdout",
     "output_type": "stream",
     "text": [
      "46 out of 62 combinations selected\n"
     ]
    }
   ],
   "source": [
    "print(\n",
    "    f\"{len(df_records[df_records.type == 'selected_features'].value.apply(lambda l: frozenset(l)).unique())} out of {len(all_subsets)} combinations selected\"\n",
    ")"
   ]
  },
  {
   "cell_type": "markdown",
   "metadata": {},
   "source": [
    "## Only using individual features"
   ]
  },
  {
   "cell_type": "code",
   "execution_count": 47,
   "metadata": {
    "execution": {
     "iopub.execute_input": "2022-09-30T00:47:10.530087Z",
     "iopub.status.busy": "2022-09-30T00:47:10.529747Z",
     "iopub.status.idle": "2022-09-30T00:47:18.591314Z",
     "shell.execute_reply": "2022-09-30T00:47:18.590214Z"
    }
   },
   "outputs": [
    {
     "name": "stdout",
     "output_type": "stream",
     "text": [
      "0.95\n",
      "{'featurecombinator__feature_types': ['PSSM_50_3'], 'svc__C': 10, 'svc__class_weight': 'balanced', 'svc__decision_function_shape': 'ovr', 'svc__gamma': 'scale'}\n",
      "1.0\n"
     ]
    },
    {
     "data": {
      "text/plain": [
       "1.0"
      ]
     },
     "execution_count": 47,
     "metadata": {},
     "output_type": "execute_result"
    }
   ],
   "source": [
    "pipe = make_pipeline(\n",
    "    FeatureCombinator(feature_names, feature_types), StandardScaler(), SVC()\n",
    ")\n",
    "\n",
    "gsearch = GridSearchCV(\n",
    "    pipe,\n",
    "    param_grid={\n",
    "        \"svc__decision_function_shape\": [\"ovr\"],\n",
    "        \"svc__class_weight\": [\"balanced\", None],\n",
    "        \"svc__C\": [1, 0.1, 10, 100],\n",
    "        \"svc__gamma\": [\"scale\", 0.01, 0.1, 1],\n",
    "        \"featurecombinator__feature_types\": [[\"AAC\"], [\"PAAC\"], [\"PSSM_50_1\"], [\"PSSM_50_3\"], [\"PSSM_90_1\"], [\"PSSM_90_3\"]]\n",
    "    },\n",
    "    scoring=\"f1_macro\",\n",
    "    n_jobs=-1\n",
    ")\n",
    "\n",
    "gsearch.fit(X_train, y_train)\n",
    "\n",
    "print(gsearch.best_score_.round(3))\n",
    "print(gsearch.best_params_)\n",
    "test_score = f1_score(y_test, gsearch.best_estimator_.predict(X_test), average=\"macro\")\n",
    "print(test_score.round(3))\n",
    "\n",
    "f1_score(y_test, gsearch.best_estimator_.predict(X_test), average=\"macro\")"
   ]
  },
  {
   "cell_type": "markdown",
   "metadata": {},
   "source": [
    "## Only using one combined feature\n"
   ]
  },
  {
   "cell_type": "code",
   "execution_count": 48,
   "metadata": {
    "execution": {
     "iopub.execute_input": "2022-09-30T00:47:18.596859Z",
     "iopub.status.busy": "2022-09-30T00:47:18.596452Z",
     "iopub.status.idle": "2022-09-30T00:47:20.126217Z",
     "shell.execute_reply": "2022-09-30T00:47:20.125140Z"
    }
   },
   "outputs": [
    {
     "name": "stdout",
     "output_type": "stream",
     "text": [
      "0.95\n",
      "{'featurecombinator__feature_types': ['AAC', 'PSSM_50_3'], 'svc__C': 10, 'svc__class_weight': 'balanced', 'svc__decision_function_shape': 'ovr', 'svc__gamma': 'scale'}\n",
      "1.0\n"
     ]
    }
   ],
   "source": [
    "pipe = make_pipeline(\n",
    "    FeatureCombinator(feature_names, feature_types), StandardScaler(), SVC()\n",
    ")\n",
    "\n",
    "gsearch = GridSearchCV(\n",
    "    pipe,\n",
    "    param_grid={\n",
    "        \"svc__decision_function_shape\": [\"ovr\"],\n",
    "        \"svc__class_weight\": [\"balanced\", None],\n",
    "        \"svc__C\": [1, 0.1, 10, 100],\n",
    "        \"svc__gamma\": [\"scale\", 0.01, 0.1, 1],\n",
    "        \"featurecombinator__feature_types\": [[\"AAC\", \"PSSM_50_3\"]]\n",
    "    },\n",
    "    scoring=\"f1_macro\",\n",
    "    n_jobs=-1\n",
    ")\n",
    "\n",
    "gsearch.fit(X_train, y_train)\n",
    "\n",
    "print(gsearch.best_score_.round(3))\n",
    "print(gsearch.best_params_)\n",
    "test_score = f1_score(y_test, gsearch.best_estimator_.predict(X_test), average=\"macro\")\n",
    "print(test_score.round(3))"
   ]
  },
  {
   "cell_type": "markdown",
   "metadata": {},
   "source": [
    "## Conclusion\n"
   ]
  }
 ],
 "metadata": {
  "kernelspec": {
   "display_name": "Python 3.9.12 ('subpred')",
   "language": "python",
   "name": "python3"
  },
  "language_info": {
   "codemirror_mode": {
    "name": "ipython",
    "version": 3
   },
   "file_extension": ".py",
   "mimetype": "text/x-python",
   "name": "python",
   "nbconvert_exporter": "python",
   "pygments_lexer": "ipython3",
   "version": "3.9.12"
  },
  "vscode": {
   "interpreter": {
    "hash": "a3c5a88a8b1fa059748e807688afdff6c3f31eb23364e67d8e1c7f5771f5e23f"
   }
  }
 },
 "nbformat": 4,
 "nbformat_minor": 2
}
