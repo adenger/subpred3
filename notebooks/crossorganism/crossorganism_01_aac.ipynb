{
 "cells": [
  {
   "cell_type": "code",
   "execution_count": 1,
   "metadata": {
    "execution": {
     "iopub.execute_input": "2022-09-14T12:35:51.084931Z",
     "iopub.status.busy": "2022-09-14T12:35:51.084338Z",
     "iopub.status.idle": "2022-09-14T12:35:52.162077Z",
     "shell.execute_reply": "2022-09-14T12:35:52.161369Z"
    }
   },
   "outputs": [],
   "source": [
    "import os\n",
    "import sys\n",
    "\n",
    "import pandas as pd\n",
    "import numpy as np\n",
    "import matplotlib.pyplot as plt\n",
    "\n",
    "sys.path.append(\"../../src\")\n",
    "from main.transporter_dataset import create_dataset\n",
    "from main.cdhit import cd_hit\n",
    "from main.eval import (\n",
    "    optimize_hyperparams,\n",
    "    preprocess_pandas,\n",
    "    get_confusion_matrix,\n",
    "    get_classification_report,\n",
    "    get_independent_test_set\n",
    ")\n",
    "from main.compositions import calculate_aac\n",
    "from main.pssm import calculate_pssms_notebook\n",
    "\n",
    "LOG_FILE = \"../../logs/cross_organism_amino_sugar.log\"\n",
    "\n"
   ]
  },
  {
   "cell_type": "markdown",
   "metadata": {},
   "source": [
    "# Training on A thaliana dataset"
   ]
  },
  {
   "cell_type": "code",
   "execution_count": 2,
   "metadata": {
    "execution": {
     "iopub.execute_input": "2022-09-14T12:35:52.165390Z",
     "iopub.status.busy": "2022-09-14T12:35:52.165163Z",
     "iopub.status.idle": "2022-09-14T12:36:02.749239Z",
     "shell.execute_reply": "2022-09-14T12:36:02.748074Z"
    }
   },
   "outputs": [
    {
     "name": "stdout",
     "output_type": "stream",
     "text": [
      "cd-hit: clustered 165 sequences into 117 clusters at threshold 70\n"
     ]
    }
   ],
   "source": [
    "df_at = create_dataset(\n",
    "    keywords_substrate_filter=[\"Amino-acid transport\", \"Sugar transport\"],\n",
    "    keywords_component_filter=[\"Membrane\"],\n",
    "    keywords_transport_filter=[\"Transport\"],\n",
    "    input_file=\"../../data/raw/swissprot/uniprot-reviewed_yes.tab.gz\",\n",
    "    multi_substrate=\"remove\",\n",
    "    outliers=[\"O81775\", \"Q9SW07\", \"Q9FHH5\", \"Q8S8A0\", \"Q3E965\", \"Q3EAV6\", \"Q3E8L0\"],\n",
    "    verbose=True,\n",
    "    tax_ids_filter=[3702],\n",
    "    output_log=LOG_FILE,\n",
    "    sequence_clustering=70\n",
    ")"
   ]
  },
  {
   "cell_type": "code",
   "execution_count": 3,
   "metadata": {
    "execution": {
     "iopub.execute_input": "2022-09-14T12:36:02.791717Z",
     "iopub.status.busy": "2022-09-14T12:36:02.791453Z",
     "iopub.status.idle": "2022-09-14T12:36:02.808264Z",
     "shell.execute_reply": "2022-09-14T12:36:02.807799Z"
    }
   },
   "outputs": [],
   "source": [
    "df_at_aac = calculate_aac(df_at.sequence)"
   ]
  },
  {
   "cell_type": "code",
   "execution_count": 4,
   "metadata": {
    "execution": {
     "iopub.execute_input": "2022-09-14T12:36:02.811835Z",
     "iopub.status.busy": "2022-09-14T12:36:02.811487Z",
     "iopub.status.idle": "2022-09-14T12:36:02.817190Z",
     "shell.execute_reply": "2022-09-14T12:36:02.816468Z"
    }
   },
   "outputs": [],
   "source": [
    "X_at, y_at = preprocess_pandas(\n",
    "    df_at_aac, df_at.keywords_transport\n",
    ")"
   ]
  },
  {
   "cell_type": "code",
   "execution_count": 5,
   "metadata": {
    "execution": {
     "iopub.execute_input": "2022-09-14T12:36:02.821137Z",
     "iopub.status.busy": "2022-09-14T12:36:02.820793Z",
     "iopub.status.idle": "2022-09-14T12:36:02.840077Z",
     "shell.execute_reply": "2022-09-14T12:36:02.839665Z"
    }
   },
   "outputs": [
    {
     "data": {
      "text/plain": [
       "[array([[0.08243728, 0.01075269, 0.02867384, ..., 0.07526882, 0.0125448 ,\n",
       "         0.03405018],\n",
       "        [0.07854406, 0.01340996, 0.02490421, ..., 0.09003831, 0.02298851,\n",
       "         0.03448276],\n",
       "        [0.08831909, 0.01139601, 0.03133903, ..., 0.08831909, 0.01994302,\n",
       "         0.05128205],\n",
       "        ...,\n",
       "        [0.09607843, 0.01568627, 0.0254902 , ..., 0.08627451, 0.0254902 ,\n",
       "         0.0254902 ],\n",
       "        [0.06382979, 0.0212766 , 0.03782506, ..., 0.08747045, 0.0070922 ,\n",
       "         0.04018913],\n",
       "        [0.10552764, 0.00753769, 0.03015075, ..., 0.0879397 , 0.02261307,\n",
       "         0.01256281]]),\n",
       " array([[0.0811359 , 0.01825558, 0.02839757, 0.04462475, 0.06896552,\n",
       "         0.09736308, 0.01419878, 0.04665314, 0.03245436, 0.14807302,\n",
       "         0.03853955, 0.02231237, 0.04056795, 0.01825558, 0.03651116,\n",
       "         0.09533469, 0.04462475, 0.08924949, 0.01419878, 0.02028398],\n",
       "        [0.07949791, 0.0292887 , 0.0209205 , 0.0209205 , 0.05857741,\n",
       "         0.07740586, 0.01464435, 0.08577406, 0.041841  , 0.12343096,\n",
       "         0.0376569 , 0.03138075, 0.05648536, 0.03138075, 0.0292887 ,\n",
       "         0.07949791, 0.05230126, 0.07740586, 0.0209205 , 0.03138075],\n",
       "        [0.06681034, 0.02155172, 0.02155172, 0.04525862, 0.08405172,\n",
       "         0.09482759, 0.00862069, 0.0862069 , 0.02155172, 0.10775862,\n",
       "         0.04094828, 0.02586207, 0.03232759, 0.03232759, 0.04310345,\n",
       "         0.10775862, 0.04741379, 0.06896552, 0.01939655, 0.0237069 ],\n",
       "        [0.06228374, 0.01038062, 0.03806228, 0.03460208, 0.09342561,\n",
       "         0.04844291, 0.00692042, 0.10726644, 0.07958478, 0.10380623,\n",
       "         0.04844291, 0.02768166, 0.03806228, 0.02768166, 0.02076125,\n",
       "         0.06228374, 0.04152249, 0.10380623, 0.00692042, 0.03806228],\n",
       "        [0.07992203, 0.01364522, 0.01754386, 0.04288499, 0.0662768 ,\n",
       "         0.10721248, 0.01169591, 0.07602339, 0.03508772, 0.1208577 ,\n",
       "         0.03118908, 0.03898635, 0.03508772, 0.03508772, 0.03703704,\n",
       "         0.06432749, 0.05847953, 0.08187135, 0.01754386, 0.02923977],\n",
       "        [0.09461967, 0.00556586, 0.03525046, 0.03339518, 0.04823748,\n",
       "         0.09276438, 0.01113173, 0.07792208, 0.03896104, 0.09461967,\n",
       "         0.03710575, 0.02782931, 0.05751391, 0.02226345, 0.05380334,\n",
       "         0.08348794, 0.05751391, 0.08719852, 0.01669759, 0.02411874],\n",
       "        [0.07261411, 0.01244813, 0.03319502, 0.0373444 , 0.06224066,\n",
       "         0.09543568, 0.00414938, 0.07883817, 0.03112033, 0.13485477,\n",
       "         0.02489627, 0.02074689, 0.03526971, 0.02489627, 0.02904564,\n",
       "         0.11410788, 0.06846473, 0.07676349, 0.01659751, 0.02697095],\n",
       "        [0.05042017, 0.02240896, 0.02240896, 0.02240896, 0.07002801,\n",
       "         0.07282913, 0.01120448, 0.06442577, 0.05322129, 0.1372549 ,\n",
       "         0.02521008, 0.03641457, 0.0280112 , 0.05602241, 0.0140056 ,\n",
       "         0.09243697, 0.08403361, 0.10084034, 0.01120448, 0.02521008],\n",
       "        [0.06989247, 0.01344086, 0.02688172, 0.06451613, 0.05913978,\n",
       "         0.05645161, 0.01612903, 0.06182796, 0.05107527, 0.13709677,\n",
       "         0.03494624, 0.04032258, 0.03494624, 0.03494624, 0.01344086,\n",
       "         0.07258065, 0.06989247, 0.08064516, 0.02419355, 0.03763441],\n",
       "        [0.09284333, 0.01547389, 0.02901354, 0.04448743, 0.07736944,\n",
       "         0.10831721, 0.00580271, 0.07350097, 0.03868472, 0.08897485,\n",
       "         0.04448743, 0.03481625, 0.03675048, 0.03481625, 0.03288201,\n",
       "         0.05415861, 0.0483559 , 0.09090909, 0.01547389, 0.03288201],\n",
       "        [0.11890838, 0.01364522, 0.04288499, 0.02339181, 0.07212476,\n",
       "         0.10136452, 0.00974659, 0.06042885, 0.04873294, 0.11306043,\n",
       "         0.03118908, 0.02729045, 0.0545809 , 0.0214425 , 0.0331384 ,\n",
       "         0.06822612, 0.04873294, 0.07017544, 0.02339181, 0.01754386],\n",
       "        [0.0625    , 0.02822581, 0.02419355, 0.04435484, 0.07459677,\n",
       "         0.09677419, 0.00604839, 0.07258065, 0.03830645, 0.1108871 ,\n",
       "         0.04233871, 0.03024194, 0.03427419, 0.02620968, 0.0483871 ,\n",
       "         0.09475806, 0.05040323, 0.07862903, 0.01612903, 0.02016129],\n",
       "        [0.10666667, 0.02833333, 0.03666667, 0.03      , 0.045     ,\n",
       "         0.09      , 0.01333333, 0.085     , 0.02166667, 0.12166667,\n",
       "         0.01833333, 0.025     , 0.04666667, 0.01666667, 0.035     ,\n",
       "         0.07833333, 0.06      , 0.09333333, 0.01166667, 0.03666667],\n",
       "        [0.09375   , 0.01116071, 0.02678571, 0.03125   , 0.0625    ,\n",
       "         0.07142857, 0.02232143, 0.08705357, 0.03794643, 0.09598214,\n",
       "         0.03348214, 0.02678571, 0.04464286, 0.02901786, 0.03348214,\n",
       "         0.078125  , 0.05133929, 0.08928571, 0.02901786, 0.04464286],\n",
       "        [0.07462687, 0.02238806, 0.05783582, 0.04664179, 0.05783582,\n",
       "         0.07462687, 0.01119403, 0.08955224, 0.04291045, 0.10634328,\n",
       "         0.02985075, 0.03544776, 0.0391791 , 0.0261194 , 0.0261194 ,\n",
       "         0.0858209 , 0.06529851, 0.05783582, 0.0130597 , 0.03731343],\n",
       "        [0.06276151, 0.0167364 , 0.0209205 , 0.0376569 , 0.07531381,\n",
       "         0.06276151, 0.0125523 , 0.09623431, 0.07531381, 0.09623431,\n",
       "         0.0292887 , 0.0334728 , 0.0292887 , 0.0125523 , 0.0209205 ,\n",
       "         0.05857741, 0.05020921, 0.13807531, 0.0125523 , 0.05857741],\n",
       "        [0.10243902, 0.00731707, 0.0195122 , 0.02926829, 0.07073171,\n",
       "         0.07804878, 0.0195122 , 0.10243902, 0.05853659, 0.0902439 ,\n",
       "         0.02439024, 0.04390244, 0.04390244, 0.01707317, 0.03170732,\n",
       "         0.0804878 , 0.04634146, 0.08780488, 0.01463415, 0.03170732],\n",
       "        [0.0856531 , 0.02997859, 0.02141328, 0.03640257, 0.07494647,\n",
       "         0.0856531 , 0.01284797, 0.07708779, 0.0385439 , 0.10920771,\n",
       "         0.02569593, 0.04282655, 0.04282655, 0.0235546 , 0.04068522,\n",
       "         0.05781585, 0.05567452, 0.07708779, 0.01927195, 0.04282655],\n",
       "        [0.09292929, 0.02020202, 0.02424242, 0.03838384, 0.06262626,\n",
       "         0.10505051, 0.00808081, 0.05050505, 0.03636364, 0.13737374,\n",
       "         0.02626263, 0.02020202, 0.03232323, 0.02020202, 0.04444444,\n",
       "         0.1010101 , 0.05050505, 0.1010101 , 0.01212121, 0.01616162],\n",
       "        [0.08745247, 0.01330798, 0.03041825, 0.03802281, 0.07604563,\n",
       "         0.09315589, 0.0095057 , 0.06844106, 0.03612167, 0.11787072,\n",
       "         0.02661597, 0.0418251 , 0.03231939, 0.02661597, 0.04562738,\n",
       "         0.0608365 , 0.06463878, 0.09315589, 0.01711027, 0.02091255],\n",
       "        [0.05272727, 0.02909091, 0.04909091, 0.03090909, 0.05818182,\n",
       "         0.06909091, 0.01090909, 0.07090909, 0.02909091, 0.12909091,\n",
       "         0.03090909, 0.02909091, 0.06      , 0.03090909, 0.02909091,\n",
       "         0.12363636, 0.05636364, 0.07454545, 0.00909091, 0.02727273],\n",
       "        [0.08527132, 0.00968992, 0.02131783, 0.01937984, 0.05813953,\n",
       "         0.10658915, 0.00968992, 0.08527132, 0.01744186, 0.11046512,\n",
       "         0.03100775, 0.03682171, 0.03488372, 0.01744186, 0.02713178,\n",
       "         0.09883721, 0.06976744, 0.09108527, 0.02713178, 0.04263566],\n",
       "        [0.07234043, 0.02553191, 0.02978723, 0.03617021, 0.08085106,\n",
       "         0.10425532, 0.00638298, 0.08085106, 0.02978723, 0.11276596,\n",
       "         0.04893617, 0.02978723, 0.02978723, 0.02765957, 0.03617021,\n",
       "         0.08723404, 0.04468085, 0.07446809, 0.01914894, 0.02340426],\n",
       "        [0.09597523, 0.00928793, 0.01547988, 0.02786378, 0.05572755,\n",
       "         0.07739938, 0.0123839 , 0.06811146, 0.05572755, 0.14860681,\n",
       "         0.04334365, 0.03095975, 0.03095975, 0.02167183, 0.01547988,\n",
       "         0.08668731, 0.06501548, 0.09907121, 0.00309598, 0.0371517 ]]),\n",
       " array([1, 1, 1, 1, 1, 1, 1, 0, 1, 0, 1, 1, 1, 0, 1, 1, 0, 0, 0, 1, 1, 0,\n",
       "        0, 1, 1, 1, 1, 0, 1, 1, 1, 1, 1, 1, 1, 1, 0, 1, 0, 1, 0, 1, 1, 0,\n",
       "        1, 1, 0, 1, 0, 1, 1, 0, 1, 1, 1, 1, 1, 1, 1, 1, 1, 0, 1, 1, 1, 1,\n",
       "        1, 1, 0, 0, 1, 0, 1, 0, 0, 1, 1, 1, 1, 1, 1, 0, 1, 1, 1, 0, 1, 1,\n",
       "        0, 1, 1, 0, 1]),\n",
       " array([1, 0, 1, 1, 1, 1, 1, 1, 1, 1, 1, 1, 0, 0, 0, 1, 1, 0, 1, 1, 0, 0,\n",
       "        1, 1])]"
      ]
     },
     "execution_count": 5,
     "metadata": {},
     "output_type": "execute_result"
    }
   ],
   "source": [
    "get_independent_test_set(X_at,y_at)"
   ]
  },
  {
   "cell_type": "code",
   "execution_count": 6,
   "metadata": {
    "execution": {
     "iopub.execute_input": "2022-09-14T12:36:02.843937Z",
     "iopub.status.busy": "2022-09-14T12:36:02.843760Z",
     "iopub.status.idle": "2022-09-14T12:36:05.886752Z",
     "shell.execute_reply": "2022-09-14T12:36:05.886086Z"
    }
   },
   "outputs": [
    {
     "name": "stdout",
     "output_type": "stream",
     "text": [
      "{'svc__C': 1, 'svc__class_weight': 'balanced', 'svc__decision_function_shape': 'ovo', 'svc__gamma': 'scale'}\n",
      "0.839\n"
     ]
    },
    {
     "data": {
      "text/plain": [
       "GridSearchCV(cv=5,\n",
       "             estimator=Pipeline(steps=[('standardscaler', StandardScaler()),\n",
       "                                       ('svc', SVC())]),\n",
       "             n_jobs=-1,\n",
       "             param_grid={'svc__C': [1, 0.1, 10],\n",
       "                         'svc__class_weight': ['balanced', None],\n",
       "                         'svc__decision_function_shape': ['ovo', 'ovr'],\n",
       "                         'svc__gamma': ['scale', 0.01, 0.1, 1]},\n",
       "             return_train_score=True, scoring='f1_macro')"
      ]
     },
     "execution_count": 6,
     "metadata": {},
     "output_type": "execute_result"
    }
   ],
   "source": [
    "gsearch_at = optimize_hyperparams(X_at,y_at)\n",
    "gsearch_at"
   ]
  },
  {
   "cell_type": "code",
   "execution_count": 7,
   "metadata": {
    "execution": {
     "iopub.execute_input": "2022-09-14T12:36:05.892586Z",
     "iopub.status.busy": "2022-09-14T12:36:05.892155Z",
     "iopub.status.idle": "2022-09-14T12:36:05.896530Z",
     "shell.execute_reply": "2022-09-14T12:36:05.895746Z"
    }
   },
   "outputs": [],
   "source": [
    "best_estimator_at = gsearch_at.best_estimator_"
   ]
  },
  {
   "cell_type": "code",
   "execution_count": 8,
   "metadata": {
    "execution": {
     "iopub.execute_input": "2022-09-14T12:36:05.900127Z",
     "iopub.status.busy": "2022-09-14T12:36:05.899745Z",
     "iopub.status.idle": "2022-09-14T12:36:05.916094Z",
     "shell.execute_reply": "2022-09-14T12:36:05.915296Z"
    }
   },
   "outputs": [
    {
     "data": {
      "text/html": [
       "<div>\n",
       "<style scoped>\n",
       "    .dataframe tbody tr th:only-of-type {\n",
       "        vertical-align: middle;\n",
       "    }\n",
       "\n",
       "    .dataframe tbody tr th {\n",
       "        vertical-align: top;\n",
       "    }\n",
       "\n",
       "    .dataframe thead th {\n",
       "        text-align: right;\n",
       "    }\n",
       "</style>\n",
       "<table border=\"1\" class=\"dataframe\">\n",
       "  <thead>\n",
       "    <tr style=\"text-align: right;\">\n",
       "      <th></th>\n",
       "      <th>Amino-acid transport</th>\n",
       "      <th>Sugar transport</th>\n",
       "    </tr>\n",
       "  </thead>\n",
       "  <tbody>\n",
       "    <tr>\n",
       "      <th>Amino-acid transport</th>\n",
       "      <td>33</td>\n",
       "      <td>0</td>\n",
       "    </tr>\n",
       "    <tr>\n",
       "      <th>Sugar transport</th>\n",
       "      <td>2</td>\n",
       "      <td>82</td>\n",
       "    </tr>\n",
       "  </tbody>\n",
       "</table>\n",
       "</div>"
      ],
      "text/plain": [
       "                      Amino-acid transport  Sugar transport\n",
       "Amino-acid transport                    33                0\n",
       "Sugar transport                          2               82"
      ]
     },
     "execution_count": 8,
     "metadata": {},
     "output_type": "execute_result"
    }
   ],
   "source": [
    "get_confusion_matrix(X_at, y_at, best_estimator_at, labels=df_at.keywords_transport)"
   ]
  },
  {
   "cell_type": "markdown",
   "metadata": {},
   "source": [
    "# Testing on human dataset"
   ]
  },
  {
   "cell_type": "code",
   "execution_count": 9,
   "metadata": {
    "execution": {
     "iopub.execute_input": "2022-09-14T12:36:05.920127Z",
     "iopub.status.busy": "2022-09-14T12:36:05.919820Z",
     "iopub.status.idle": "2022-09-14T12:36:17.035253Z",
     "shell.execute_reply": "2022-09-14T12:36:17.034076Z"
    }
   },
   "outputs": [
    {
     "name": "stdout",
     "output_type": "stream",
     "text": [
      "cd-hit: clustered 87 sequences into 82 clusters at threshold 70\n"
     ]
    }
   ],
   "source": [
    "df_human = create_dataset(\n",
    "    keywords_substrate_filter=[\"Amino-acid transport\", \"Sugar transport\"],\n",
    "    keywords_component_filter=[\"Membrane\"],\n",
    "    keywords_transport_filter=[\"Transport\"],\n",
    "    input_file=\"../../data/raw/swissprot/uniprot-reviewed_yes.tab.gz\",\n",
    "    multi_substrate=\"integrate\",\n",
    "    verbose=True,\n",
    "    outliers=[\"Q9HBR0\", \"Q07837\"],\n",
    "    tax_ids_filter=[9606],\n",
    "    output_log=LOG_FILE,\n",
    "    sequence_clustering=70\n",
    ")"
   ]
  },
  {
   "cell_type": "code",
   "execution_count": 10,
   "metadata": {
    "execution": {
     "iopub.execute_input": "2022-09-14T12:36:17.040848Z",
     "iopub.status.busy": "2022-09-14T12:36:17.040410Z",
     "iopub.status.idle": "2022-09-14T12:36:17.048979Z",
     "shell.execute_reply": "2022-09-14T12:36:17.048278Z"
    }
   },
   "outputs": [
    {
     "data": {
      "text/plain": [
       "Amino-acid transport    48\n",
       "Sugar transport         34\n",
       "Name: keywords_transport, dtype: int64"
      ]
     },
     "execution_count": 10,
     "metadata": {},
     "output_type": "execute_result"
    }
   ],
   "source": [
    "df_human.keywords_transport.value_counts()"
   ]
  },
  {
   "cell_type": "code",
   "execution_count": 11,
   "metadata": {
    "execution": {
     "iopub.execute_input": "2022-09-14T12:36:17.053296Z",
     "iopub.status.busy": "2022-09-14T12:36:17.052949Z",
     "iopub.status.idle": "2022-09-14T12:36:17.068724Z",
     "shell.execute_reply": "2022-09-14T12:36:17.068012Z"
    }
   },
   "outputs": [],
   "source": [
    "df_human_aac = calculate_aac(df_human.sequence)"
   ]
  },
  {
   "cell_type": "code",
   "execution_count": 12,
   "metadata": {
    "execution": {
     "iopub.execute_input": "2022-09-14T12:36:17.072727Z",
     "iopub.status.busy": "2022-09-14T12:36:17.072385Z",
     "iopub.status.idle": "2022-09-14T12:36:17.079211Z",
     "shell.execute_reply": "2022-09-14T12:36:17.078542Z"
    }
   },
   "outputs": [
    {
     "data": {
      "text/plain": [
       "Amino-acid transport    48\n",
       "Sugar transport         34\n",
       "Name: keywords_transport, dtype: int64"
      ]
     },
     "execution_count": 12,
     "metadata": {},
     "output_type": "execute_result"
    }
   ],
   "source": [
    "labels = df_human.keywords_transport\n",
    "labels.value_counts()"
   ]
  },
  {
   "cell_type": "code",
   "execution_count": 13,
   "metadata": {
    "execution": {
     "iopub.execute_input": "2022-09-14T12:36:17.083230Z",
     "iopub.status.busy": "2022-09-14T12:36:17.082897Z",
     "iopub.status.idle": "2022-09-14T12:36:17.088164Z",
     "shell.execute_reply": "2022-09-14T12:36:17.087382Z"
    }
   },
   "outputs": [],
   "source": [
    "X_human, y_human = preprocess_pandas(df_human_aac, labels)"
   ]
  },
  {
   "cell_type": "code",
   "execution_count": 14,
   "metadata": {
    "execution": {
     "iopub.execute_input": "2022-09-14T12:36:17.091821Z",
     "iopub.status.busy": "2022-09-14T12:36:17.091487Z",
     "iopub.status.idle": "2022-09-14T12:36:17.103913Z",
     "shell.execute_reply": "2022-09-14T12:36:17.103243Z"
    }
   },
   "outputs": [
    {
     "data": {
      "text/html": [
       "<div>\n",
       "<style scoped>\n",
       "    .dataframe tbody tr th:only-of-type {\n",
       "        vertical-align: middle;\n",
       "    }\n",
       "\n",
       "    .dataframe tbody tr th {\n",
       "        vertical-align: top;\n",
       "    }\n",
       "\n",
       "    .dataframe thead th {\n",
       "        text-align: right;\n",
       "    }\n",
       "</style>\n",
       "<table border=\"1\" class=\"dataframe\">\n",
       "  <thead>\n",
       "    <tr style=\"text-align: right;\">\n",
       "      <th></th>\n",
       "      <th>Amino-acid transport</th>\n",
       "      <th>Sugar transport</th>\n",
       "    </tr>\n",
       "  </thead>\n",
       "  <tbody>\n",
       "    <tr>\n",
       "      <th>Amino-acid transport</th>\n",
       "      <td>20</td>\n",
       "      <td>28</td>\n",
       "    </tr>\n",
       "    <tr>\n",
       "      <th>Sugar transport</th>\n",
       "      <td>5</td>\n",
       "      <td>29</td>\n",
       "    </tr>\n",
       "  </tbody>\n",
       "</table>\n",
       "</div>"
      ],
      "text/plain": [
       "                      Amino-acid transport  Sugar transport\n",
       "Amino-acid transport                    20               28\n",
       "Sugar transport                          5               29"
      ]
     },
     "execution_count": 14,
     "metadata": {},
     "output_type": "execute_result"
    }
   ],
   "source": [
    "get_confusion_matrix(X_test=X_human, y_test=y_human, clf=best_estimator_at, labels=labels)"
   ]
  },
  {
   "cell_type": "code",
   "execution_count": 15,
   "metadata": {
    "execution": {
     "iopub.execute_input": "2022-09-14T12:36:17.107802Z",
     "iopub.status.busy": "2022-09-14T12:36:17.107494Z",
     "iopub.status.idle": "2022-09-14T12:36:17.130321Z",
     "shell.execute_reply": "2022-09-14T12:36:17.129704Z"
    }
   },
   "outputs": [
    {
     "data": {
      "text/html": [
       "<div>\n",
       "<style scoped>\n",
       "    .dataframe tbody tr th:only-of-type {\n",
       "        vertical-align: middle;\n",
       "    }\n",
       "\n",
       "    .dataframe tbody tr th {\n",
       "        vertical-align: top;\n",
       "    }\n",
       "\n",
       "    .dataframe thead th {\n",
       "        text-align: right;\n",
       "    }\n",
       "</style>\n",
       "<table border=\"1\" class=\"dataframe\">\n",
       "  <thead>\n",
       "    <tr style=\"text-align: right;\">\n",
       "      <th></th>\n",
       "      <th>precision</th>\n",
       "      <th>recall</th>\n",
       "      <th>f1-score</th>\n",
       "      <th>support</th>\n",
       "    </tr>\n",
       "  </thead>\n",
       "  <tbody>\n",
       "    <tr>\n",
       "      <th>Amino-acid transport</th>\n",
       "      <td>0.800</td>\n",
       "      <td>0.417</td>\n",
       "      <td>0.548</td>\n",
       "      <td>48</td>\n",
       "    </tr>\n",
       "    <tr>\n",
       "      <th>Sugar transport</th>\n",
       "      <td>0.509</td>\n",
       "      <td>0.853</td>\n",
       "      <td>0.637</td>\n",
       "      <td>34</td>\n",
       "    </tr>\n",
       "    <tr>\n",
       "      <th>macro avg</th>\n",
       "      <td>0.654</td>\n",
       "      <td>0.635</td>\n",
       "      <td>0.593</td>\n",
       "      <td>82</td>\n",
       "    </tr>\n",
       "    <tr>\n",
       "      <th>weighted avg</th>\n",
       "      <td>0.679</td>\n",
       "      <td>0.598</td>\n",
       "      <td>0.585</td>\n",
       "      <td>82</td>\n",
       "    </tr>\n",
       "  </tbody>\n",
       "</table>\n",
       "</div>"
      ],
      "text/plain": [
       "                      precision  recall  f1-score  support\n",
       "Amino-acid transport      0.800   0.417     0.548       48\n",
       "Sugar transport           0.509   0.853     0.637       34\n",
       "macro avg                 0.654   0.635     0.593       82\n",
       "weighted avg              0.679   0.598     0.585       82"
      ]
     },
     "execution_count": 15,
     "metadata": {},
     "output_type": "execute_result"
    }
   ],
   "source": [
    "get_classification_report(\n",
    "    X_test=X_human, y_test=y_human, clf=best_estimator_at, labels=labels\n",
    ")"
   ]
  },
  {
   "cell_type": "markdown",
   "metadata": {},
   "source": [
    "# Testing on E Coli"
   ]
  },
  {
   "cell_type": "code",
   "execution_count": 16,
   "metadata": {
    "execution": {
     "iopub.execute_input": "2022-09-14T12:36:17.135433Z",
     "iopub.status.busy": "2022-09-14T12:36:17.134831Z",
     "iopub.status.idle": "2022-09-14T12:36:28.267417Z",
     "shell.execute_reply": "2022-09-14T12:36:28.265803Z"
    }
   },
   "outputs": [
    {
     "name": "stdout",
     "output_type": "stream",
     "text": [
      "cd-hit: clustered 99 sequences into 98 clusters at threshold 70\n"
     ]
    }
   ],
   "source": [
    "df_ecoli = create_dataset(\n",
    "    keywords_substrate_filter=[\"Amino-acid transport\", \"Sugar transport\"],\n",
    "    keywords_component_filter=[\"Transmembrane\"],\n",
    "    keywords_transport_filter=[\"Transport\"],\n",
    "    input_file=\"../../data/raw/swissprot/uniprot-reviewed_yes.tab.gz\",\n",
    "    multi_substrate=\"integrate\",\n",
    "    outliers=['P76773', 'Q47706', 'P64550', 'P02943', 'P75733', 'P69856'],\n",
    "    verbose=True,\n",
    "    tax_ids_filter=[83333],\n",
    "    output_log=LOG_FILE,\n",
    "    sequence_clustering=70\n",
    ")"
   ]
  },
  {
   "cell_type": "code",
   "execution_count": 17,
   "metadata": {
    "execution": {
     "iopub.execute_input": "2022-09-14T12:36:28.277035Z",
     "iopub.status.busy": "2022-09-14T12:36:28.276375Z",
     "iopub.status.idle": "2022-09-14T12:36:28.295206Z",
     "shell.execute_reply": "2022-09-14T12:36:28.294073Z"
    }
   },
   "outputs": [],
   "source": [
    "df_ecoli_aac = calculate_aac(df_ecoli.sequence)"
   ]
  },
  {
   "cell_type": "code",
   "execution_count": 18,
   "metadata": {
    "execution": {
     "iopub.execute_input": "2022-09-14T12:36:28.300814Z",
     "iopub.status.busy": "2022-09-14T12:36:28.300272Z",
     "iopub.status.idle": "2022-09-14T12:36:28.307446Z",
     "shell.execute_reply": "2022-09-14T12:36:28.306623Z"
    }
   },
   "outputs": [],
   "source": [
    "X_ecoli, y_ecoli = preprocess_pandas(df_ecoli_aac, labels=df_ecoli.keywords_transport)"
   ]
  },
  {
   "cell_type": "code",
   "execution_count": 19,
   "metadata": {
    "execution": {
     "iopub.execute_input": "2022-09-14T12:36:28.311515Z",
     "iopub.status.busy": "2022-09-14T12:36:28.311153Z",
     "iopub.status.idle": "2022-09-14T12:36:28.327765Z",
     "shell.execute_reply": "2022-09-14T12:36:28.326728Z"
    }
   },
   "outputs": [
    {
     "data": {
      "text/html": [
       "<div>\n",
       "<style scoped>\n",
       "    .dataframe tbody tr th:only-of-type {\n",
       "        vertical-align: middle;\n",
       "    }\n",
       "\n",
       "    .dataframe tbody tr th {\n",
       "        vertical-align: top;\n",
       "    }\n",
       "\n",
       "    .dataframe thead th {\n",
       "        text-align: right;\n",
       "    }\n",
       "</style>\n",
       "<table border=\"1\" class=\"dataframe\">\n",
       "  <thead>\n",
       "    <tr style=\"text-align: right;\">\n",
       "      <th></th>\n",
       "      <th>Amino-acid transport</th>\n",
       "      <th>Sugar transport</th>\n",
       "    </tr>\n",
       "  </thead>\n",
       "  <tbody>\n",
       "    <tr>\n",
       "      <th>Amino-acid transport</th>\n",
       "      <td>14</td>\n",
       "      <td>37</td>\n",
       "    </tr>\n",
       "    <tr>\n",
       "      <th>Sugar transport</th>\n",
       "      <td>2</td>\n",
       "      <td>45</td>\n",
       "    </tr>\n",
       "  </tbody>\n",
       "</table>\n",
       "</div>"
      ],
      "text/plain": [
       "                      Amino-acid transport  Sugar transport\n",
       "Amino-acid transport                    14               37\n",
       "Sugar transport                          2               45"
      ]
     },
     "execution_count": 19,
     "metadata": {},
     "output_type": "execute_result"
    }
   ],
   "source": [
    "get_confusion_matrix(X_test=X_ecoli, y_test=y_ecoli, clf=best_estimator_at, labels=labels)"
   ]
  },
  {
   "cell_type": "code",
   "execution_count": 20,
   "metadata": {
    "execution": {
     "iopub.execute_input": "2022-09-14T12:36:28.332408Z",
     "iopub.status.busy": "2022-09-14T12:36:28.332051Z",
     "iopub.status.idle": "2022-09-14T12:36:28.354242Z",
     "shell.execute_reply": "2022-09-14T12:36:28.353285Z"
    }
   },
   "outputs": [
    {
     "data": {
      "text/html": [
       "<div>\n",
       "<style scoped>\n",
       "    .dataframe tbody tr th:only-of-type {\n",
       "        vertical-align: middle;\n",
       "    }\n",
       "\n",
       "    .dataframe tbody tr th {\n",
       "        vertical-align: top;\n",
       "    }\n",
       "\n",
       "    .dataframe thead th {\n",
       "        text-align: right;\n",
       "    }\n",
       "</style>\n",
       "<table border=\"1\" class=\"dataframe\">\n",
       "  <thead>\n",
       "    <tr style=\"text-align: right;\">\n",
       "      <th></th>\n",
       "      <th>precision</th>\n",
       "      <th>recall</th>\n",
       "      <th>f1-score</th>\n",
       "      <th>support</th>\n",
       "    </tr>\n",
       "  </thead>\n",
       "  <tbody>\n",
       "    <tr>\n",
       "      <th>Amino-acid transport</th>\n",
       "      <td>0.875</td>\n",
       "      <td>0.275</td>\n",
       "      <td>0.418</td>\n",
       "      <td>51</td>\n",
       "    </tr>\n",
       "    <tr>\n",
       "      <th>Sugar transport</th>\n",
       "      <td>0.549</td>\n",
       "      <td>0.957</td>\n",
       "      <td>0.698</td>\n",
       "      <td>47</td>\n",
       "    </tr>\n",
       "    <tr>\n",
       "      <th>macro avg</th>\n",
       "      <td>0.712</td>\n",
       "      <td>0.616</td>\n",
       "      <td>0.558</td>\n",
       "      <td>98</td>\n",
       "    </tr>\n",
       "    <tr>\n",
       "      <th>weighted avg</th>\n",
       "      <td>0.719</td>\n",
       "      <td>0.602</td>\n",
       "      <td>0.552</td>\n",
       "      <td>98</td>\n",
       "    </tr>\n",
       "  </tbody>\n",
       "</table>\n",
       "</div>"
      ],
      "text/plain": [
       "                      precision  recall  f1-score  support\n",
       "Amino-acid transport      0.875   0.275     0.418       51\n",
       "Sugar transport           0.549   0.957     0.698       47\n",
       "macro avg                 0.712   0.616     0.558       98\n",
       "weighted avg              0.719   0.602     0.552       98"
      ]
     },
     "execution_count": 20,
     "metadata": {},
     "output_type": "execute_result"
    }
   ],
   "source": [
    "get_classification_report(\n",
    "    X_test=X_ecoli, y_test=y_ecoli, clf=best_estimator_at, labels=labels\n",
    ")"
   ]
  },
  {
   "cell_type": "markdown",
   "metadata": {},
   "source": [
    "# Testing on Yeast"
   ]
  },
  {
   "cell_type": "code",
   "execution_count": 21,
   "metadata": {
    "execution": {
     "iopub.execute_input": "2022-09-14T12:36:28.358057Z",
     "iopub.status.busy": "2022-09-14T12:36:28.357764Z",
     "iopub.status.idle": "2022-09-14T12:36:39.533238Z",
     "shell.execute_reply": "2022-09-14T12:36:39.531988Z"
    }
   },
   "outputs": [
    {
     "name": "stdout",
     "output_type": "stream",
     "text": [
      "cd-hit: clustered 64 sequences into 51 clusters at threshold 70\n"
     ]
    }
   ],
   "source": [
    "df_yeast = create_dataset(\n",
    "    keywords_substrate_filter=[\"Amino-acid transport\", \"Sugar transport\"],\n",
    "    keywords_component_filter=[\"Membrane\"],\n",
    "    keywords_transport_filter=[\"Transport\"],\n",
    "    input_file=\"../../data/raw/swissprot/uniprot-reviewed_yes.tab.gz\",\n",
    "    multi_substrate=\"integrate\",\n",
    "    verbose=True,\n",
    "    tax_ids_filter=[559292],\n",
    "    output_log=LOG_FILE,\n",
    "    sequence_clustering=70,\n",
    ")"
   ]
  },
  {
   "cell_type": "code",
   "execution_count": 22,
   "metadata": {
    "execution": {
     "iopub.execute_input": "2022-09-14T12:36:39.539219Z",
     "iopub.status.busy": "2022-09-14T12:36:39.538901Z",
     "iopub.status.idle": "2022-09-14T12:36:39.554038Z",
     "shell.execute_reply": "2022-09-14T12:36:39.553253Z"
    }
   },
   "outputs": [],
   "source": [
    "df_yeast_aac = calculate_aac(df_yeast.sequence)"
   ]
  },
  {
   "cell_type": "code",
   "execution_count": 23,
   "metadata": {
    "execution": {
     "iopub.execute_input": "2022-09-14T12:36:39.558200Z",
     "iopub.status.busy": "2022-09-14T12:36:39.557624Z",
     "iopub.status.idle": "2022-09-14T12:36:39.564349Z",
     "shell.execute_reply": "2022-09-14T12:36:39.563330Z"
    }
   },
   "outputs": [],
   "source": [
    "X_yeast, y_yeast = preprocess_pandas(df_yeast_aac, labels=df_yeast.keywords_transport)"
   ]
  },
  {
   "cell_type": "code",
   "execution_count": 24,
   "metadata": {
    "execution": {
     "iopub.execute_input": "2022-09-14T12:36:39.568612Z",
     "iopub.status.busy": "2022-09-14T12:36:39.568242Z",
     "iopub.status.idle": "2022-09-14T12:36:39.583328Z",
     "shell.execute_reply": "2022-09-14T12:36:39.582564Z"
    }
   },
   "outputs": [
    {
     "data": {
      "text/html": [
       "<div>\n",
       "<style scoped>\n",
       "    .dataframe tbody tr th:only-of-type {\n",
       "        vertical-align: middle;\n",
       "    }\n",
       "\n",
       "    .dataframe tbody tr th {\n",
       "        vertical-align: top;\n",
       "    }\n",
       "\n",
       "    .dataframe thead th {\n",
       "        text-align: right;\n",
       "    }\n",
       "</style>\n",
       "<table border=\"1\" class=\"dataframe\">\n",
       "  <thead>\n",
       "    <tr style=\"text-align: right;\">\n",
       "      <th></th>\n",
       "      <th>Amino-acid transport</th>\n",
       "      <th>Sugar transport</th>\n",
       "    </tr>\n",
       "  </thead>\n",
       "  <tbody>\n",
       "    <tr>\n",
       "      <th>Amino-acid transport</th>\n",
       "      <td>10</td>\n",
       "      <td>24</td>\n",
       "    </tr>\n",
       "    <tr>\n",
       "      <th>Sugar transport</th>\n",
       "      <td>3</td>\n",
       "      <td>14</td>\n",
       "    </tr>\n",
       "  </tbody>\n",
       "</table>\n",
       "</div>"
      ],
      "text/plain": [
       "                      Amino-acid transport  Sugar transport\n",
       "Amino-acid transport                    10               24\n",
       "Sugar transport                          3               14"
      ]
     },
     "execution_count": 24,
     "metadata": {},
     "output_type": "execute_result"
    }
   ],
   "source": [
    "get_confusion_matrix(X_test=X_yeast, y_test=y_yeast, clf=best_estimator_at, labels=labels)"
   ]
  },
  {
   "cell_type": "code",
   "execution_count": 25,
   "metadata": {
    "execution": {
     "iopub.execute_input": "2022-09-14T12:36:39.587146Z",
     "iopub.status.busy": "2022-09-14T12:36:39.586810Z",
     "iopub.status.idle": "2022-09-14T12:36:39.609189Z",
     "shell.execute_reply": "2022-09-14T12:36:39.608234Z"
    }
   },
   "outputs": [
    {
     "data": {
      "text/html": [
       "<div>\n",
       "<style scoped>\n",
       "    .dataframe tbody tr th:only-of-type {\n",
       "        vertical-align: middle;\n",
       "    }\n",
       "\n",
       "    .dataframe tbody tr th {\n",
       "        vertical-align: top;\n",
       "    }\n",
       "\n",
       "    .dataframe thead th {\n",
       "        text-align: right;\n",
       "    }\n",
       "</style>\n",
       "<table border=\"1\" class=\"dataframe\">\n",
       "  <thead>\n",
       "    <tr style=\"text-align: right;\">\n",
       "      <th></th>\n",
       "      <th>precision</th>\n",
       "      <th>recall</th>\n",
       "      <th>f1-score</th>\n",
       "      <th>support</th>\n",
       "    </tr>\n",
       "  </thead>\n",
       "  <tbody>\n",
       "    <tr>\n",
       "      <th>Amino-acid transport</th>\n",
       "      <td>0.875</td>\n",
       "      <td>0.275</td>\n",
       "      <td>0.418</td>\n",
       "      <td>51</td>\n",
       "    </tr>\n",
       "    <tr>\n",
       "      <th>Sugar transport</th>\n",
       "      <td>0.549</td>\n",
       "      <td>0.957</td>\n",
       "      <td>0.698</td>\n",
       "      <td>47</td>\n",
       "    </tr>\n",
       "    <tr>\n",
       "      <th>macro avg</th>\n",
       "      <td>0.712</td>\n",
       "      <td>0.616</td>\n",
       "      <td>0.558</td>\n",
       "      <td>98</td>\n",
       "    </tr>\n",
       "    <tr>\n",
       "      <th>weighted avg</th>\n",
       "      <td>0.719</td>\n",
       "      <td>0.602</td>\n",
       "      <td>0.552</td>\n",
       "      <td>98</td>\n",
       "    </tr>\n",
       "  </tbody>\n",
       "</table>\n",
       "</div>"
      ],
      "text/plain": [
       "                      precision  recall  f1-score  support\n",
       "Amino-acid transport      0.875   0.275     0.418       51\n",
       "Sugar transport           0.549   0.957     0.698       47\n",
       "macro avg                 0.712   0.616     0.558       98\n",
       "weighted avg              0.719   0.602     0.552       98"
      ]
     },
     "execution_count": 25,
     "metadata": {},
     "output_type": "execute_result"
    }
   ],
   "source": [
    "get_classification_report(\n",
    "    X_test=X_ecoli, y_test=y_ecoli, clf=best_estimator_at, labels=labels\n",
    ")"
   ]
  },
  {
   "cell_type": "markdown",
   "metadata": {},
   "source": [
    "# Training on E Coli"
   ]
  },
  {
   "cell_type": "code",
   "execution_count": 26,
   "metadata": {
    "execution": {
     "iopub.execute_input": "2022-09-14T12:36:39.613663Z",
     "iopub.status.busy": "2022-09-14T12:36:39.613326Z",
     "iopub.status.idle": "2022-09-14T12:36:40.044069Z",
     "shell.execute_reply": "2022-09-14T12:36:40.042789Z"
    }
   },
   "outputs": [
    {
     "name": "stdout",
     "output_type": "stream",
     "text": [
      "{'svc__C': 1, 'svc__class_weight': 'balanced', 'svc__decision_function_shape': 'ovo', 'svc__gamma': 'scale'}\n",
      "0.825\n"
     ]
    }
   ],
   "source": [
    "gsearch_ecoli = optimize_hyperparams(X_ecoli, y_ecoli)"
   ]
  },
  {
   "cell_type": "code",
   "execution_count": 27,
   "metadata": {
    "execution": {
     "iopub.execute_input": "2022-09-14T12:36:40.048884Z",
     "iopub.status.busy": "2022-09-14T12:36:40.048362Z",
     "iopub.status.idle": "2022-09-14T12:36:40.054213Z",
     "shell.execute_reply": "2022-09-14T12:36:40.053110Z"
    }
   },
   "outputs": [],
   "source": [
    "best_estimator_ecoli = gsearch_ecoli.best_estimator_"
   ]
  },
  {
   "cell_type": "code",
   "execution_count": 28,
   "metadata": {
    "execution": {
     "iopub.execute_input": "2022-09-14T12:36:40.058694Z",
     "iopub.status.busy": "2022-09-14T12:36:40.058176Z",
     "iopub.status.idle": "2022-09-14T12:36:40.072376Z",
     "shell.execute_reply": "2022-09-14T12:36:40.071451Z"
    }
   },
   "outputs": [
    {
     "data": {
      "text/html": [
       "<div>\n",
       "<style scoped>\n",
       "    .dataframe tbody tr th:only-of-type {\n",
       "        vertical-align: middle;\n",
       "    }\n",
       "\n",
       "    .dataframe tbody tr th {\n",
       "        vertical-align: top;\n",
       "    }\n",
       "\n",
       "    .dataframe thead th {\n",
       "        text-align: right;\n",
       "    }\n",
       "</style>\n",
       "<table border=\"1\" class=\"dataframe\">\n",
       "  <thead>\n",
       "    <tr style=\"text-align: right;\">\n",
       "      <th></th>\n",
       "      <th>Amino-acid transport</th>\n",
       "      <th>Sugar transport</th>\n",
       "    </tr>\n",
       "  </thead>\n",
       "  <tbody>\n",
       "    <tr>\n",
       "      <th>Amino-acid transport</th>\n",
       "      <td>51</td>\n",
       "      <td>0</td>\n",
       "    </tr>\n",
       "    <tr>\n",
       "      <th>Sugar transport</th>\n",
       "      <td>3</td>\n",
       "      <td>44</td>\n",
       "    </tr>\n",
       "  </tbody>\n",
       "</table>\n",
       "</div>"
      ],
      "text/plain": [
       "                      Amino-acid transport  Sugar transport\n",
       "Amino-acid transport                    51                0\n",
       "Sugar transport                          3               44"
      ]
     },
     "execution_count": 28,
     "metadata": {},
     "output_type": "execute_result"
    }
   ],
   "source": [
    "get_confusion_matrix(X_ecoli, y_ecoli, best_estimator_ecoli, labels=df_ecoli.keywords_transport)"
   ]
  },
  {
   "cell_type": "code",
   "execution_count": 29,
   "metadata": {
    "execution": {
     "iopub.execute_input": "2022-09-14T12:36:40.076288Z",
     "iopub.status.busy": "2022-09-14T12:36:40.075925Z",
     "iopub.status.idle": "2022-09-14T12:36:40.087717Z",
     "shell.execute_reply": "2022-09-14T12:36:40.086950Z"
    }
   },
   "outputs": [
    {
     "data": {
      "text/html": [
       "<div>\n",
       "<style scoped>\n",
       "    .dataframe tbody tr th:only-of-type {\n",
       "        vertical-align: middle;\n",
       "    }\n",
       "\n",
       "    .dataframe tbody tr th {\n",
       "        vertical-align: top;\n",
       "    }\n",
       "\n",
       "    .dataframe thead th {\n",
       "        text-align: right;\n",
       "    }\n",
       "</style>\n",
       "<table border=\"1\" class=\"dataframe\">\n",
       "  <thead>\n",
       "    <tr style=\"text-align: right;\">\n",
       "      <th></th>\n",
       "      <th>Amino-acid transport</th>\n",
       "      <th>Sugar transport</th>\n",
       "    </tr>\n",
       "  </thead>\n",
       "  <tbody>\n",
       "    <tr>\n",
       "      <th>Amino-acid transport</th>\n",
       "      <td>28</td>\n",
       "      <td>20</td>\n",
       "    </tr>\n",
       "    <tr>\n",
       "      <th>Sugar transport</th>\n",
       "      <td>26</td>\n",
       "      <td>8</td>\n",
       "    </tr>\n",
       "  </tbody>\n",
       "</table>\n",
       "</div>"
      ],
      "text/plain": [
       "                      Amino-acid transport  Sugar transport\n",
       "Amino-acid transport                    28               20\n",
       "Sugar transport                         26                8"
      ]
     },
     "execution_count": 29,
     "metadata": {},
     "output_type": "execute_result"
    }
   ],
   "source": [
    "get_confusion_matrix(X_human, y_human, best_estimator_ecoli, labels=df_human.keywords_transport)"
   ]
  },
  {
   "cell_type": "code",
   "execution_count": 30,
   "metadata": {
    "execution": {
     "iopub.execute_input": "2022-09-14T12:36:40.091679Z",
     "iopub.status.busy": "2022-09-14T12:36:40.091327Z",
     "iopub.status.idle": "2022-09-14T12:36:40.101615Z",
     "shell.execute_reply": "2022-09-14T12:36:40.100655Z"
    }
   },
   "outputs": [
    {
     "data": {
      "text/html": [
       "<div>\n",
       "<style scoped>\n",
       "    .dataframe tbody tr th:only-of-type {\n",
       "        vertical-align: middle;\n",
       "    }\n",
       "\n",
       "    .dataframe tbody tr th {\n",
       "        vertical-align: top;\n",
       "    }\n",
       "\n",
       "    .dataframe thead th {\n",
       "        text-align: right;\n",
       "    }\n",
       "</style>\n",
       "<table border=\"1\" class=\"dataframe\">\n",
       "  <thead>\n",
       "    <tr style=\"text-align: right;\">\n",
       "      <th></th>\n",
       "      <th>Amino-acid transport</th>\n",
       "      <th>Sugar transport</th>\n",
       "    </tr>\n",
       "  </thead>\n",
       "  <tbody>\n",
       "    <tr>\n",
       "      <th>Amino-acid transport</th>\n",
       "      <td>24</td>\n",
       "      <td>10</td>\n",
       "    </tr>\n",
       "    <tr>\n",
       "      <th>Sugar transport</th>\n",
       "      <td>8</td>\n",
       "      <td>9</td>\n",
       "    </tr>\n",
       "  </tbody>\n",
       "</table>\n",
       "</div>"
      ],
      "text/plain": [
       "                      Amino-acid transport  Sugar transport\n",
       "Amino-acid transport                    24               10\n",
       "Sugar transport                          8                9"
      ]
     },
     "execution_count": 30,
     "metadata": {},
     "output_type": "execute_result"
    }
   ],
   "source": [
    "get_confusion_matrix(X_yeast, y_yeast, best_estimator_ecoli, labels=df_yeast.keywords_transport)"
   ]
  },
  {
   "cell_type": "code",
   "execution_count": 31,
   "metadata": {
    "execution": {
     "iopub.execute_input": "2022-09-14T12:36:40.105447Z",
     "iopub.status.busy": "2022-09-14T12:36:40.105067Z",
     "iopub.status.idle": "2022-09-14T12:36:40.117155Z",
     "shell.execute_reply": "2022-09-14T12:36:40.116338Z"
    }
   },
   "outputs": [
    {
     "data": {
      "text/html": [
       "<div>\n",
       "<style scoped>\n",
       "    .dataframe tbody tr th:only-of-type {\n",
       "        vertical-align: middle;\n",
       "    }\n",
       "\n",
       "    .dataframe tbody tr th {\n",
       "        vertical-align: top;\n",
       "    }\n",
       "\n",
       "    .dataframe thead th {\n",
       "        text-align: right;\n",
       "    }\n",
       "</style>\n",
       "<table border=\"1\" class=\"dataframe\">\n",
       "  <thead>\n",
       "    <tr style=\"text-align: right;\">\n",
       "      <th></th>\n",
       "      <th>Amino-acid transport</th>\n",
       "      <th>Sugar transport</th>\n",
       "    </tr>\n",
       "  </thead>\n",
       "  <tbody>\n",
       "    <tr>\n",
       "      <th>Amino-acid transport</th>\n",
       "      <td>28</td>\n",
       "      <td>5</td>\n",
       "    </tr>\n",
       "    <tr>\n",
       "      <th>Sugar transport</th>\n",
       "      <td>56</td>\n",
       "      <td>28</td>\n",
       "    </tr>\n",
       "  </tbody>\n",
       "</table>\n",
       "</div>"
      ],
      "text/plain": [
       "                      Amino-acid transport  Sugar transport\n",
       "Amino-acid transport                    28                5\n",
       "Sugar transport                         56               28"
      ]
     },
     "execution_count": 31,
     "metadata": {},
     "output_type": "execute_result"
    }
   ],
   "source": [
    "get_confusion_matrix(X_at, y_at, best_estimator_ecoli, labels=df_at.keywords_transport)"
   ]
  },
  {
   "cell_type": "markdown",
   "metadata": {},
   "source": [
    "# Training on Human"
   ]
  },
  {
   "cell_type": "code",
   "execution_count": 32,
   "metadata": {
    "execution": {
     "iopub.execute_input": "2022-09-14T12:36:40.121133Z",
     "iopub.status.busy": "2022-09-14T12:36:40.120775Z",
     "iopub.status.idle": "2022-09-14T12:36:40.447636Z",
     "shell.execute_reply": "2022-09-14T12:36:40.446391Z"
    }
   },
   "outputs": [
    {
     "name": "stdout",
     "output_type": "stream",
     "text": [
      "{'svc__C': 1, 'svc__class_weight': 'balanced', 'svc__decision_function_shape': 'ovo', 'svc__gamma': 'scale'}\n",
      "0.624\n"
     ]
    }
   ],
   "source": [
    "gsearch_human = optimize_hyperparams(X_human, y_human)\n",
    "best_estimator_human = gsearch_human.best_estimator_"
   ]
  },
  {
   "cell_type": "code",
   "execution_count": 33,
   "metadata": {
    "execution": {
     "iopub.execute_input": "2022-09-14T12:36:40.451797Z",
     "iopub.status.busy": "2022-09-14T12:36:40.451471Z",
     "iopub.status.idle": "2022-09-14T12:36:40.461967Z",
     "shell.execute_reply": "2022-09-14T12:36:40.461235Z"
    }
   },
   "outputs": [
    {
     "data": {
      "text/html": [
       "<div>\n",
       "<style scoped>\n",
       "    .dataframe tbody tr th:only-of-type {\n",
       "        vertical-align: middle;\n",
       "    }\n",
       "\n",
       "    .dataframe tbody tr th {\n",
       "        vertical-align: top;\n",
       "    }\n",
       "\n",
       "    .dataframe thead th {\n",
       "        text-align: right;\n",
       "    }\n",
       "</style>\n",
       "<table border=\"1\" class=\"dataframe\">\n",
       "  <thead>\n",
       "    <tr style=\"text-align: right;\">\n",
       "      <th></th>\n",
       "      <th>Amino-acid transport</th>\n",
       "      <th>Sugar transport</th>\n",
       "    </tr>\n",
       "  </thead>\n",
       "  <tbody>\n",
       "    <tr>\n",
       "      <th>Amino-acid transport</th>\n",
       "      <td>45</td>\n",
       "      <td>3</td>\n",
       "    </tr>\n",
       "    <tr>\n",
       "      <th>Sugar transport</th>\n",
       "      <td>2</td>\n",
       "      <td>32</td>\n",
       "    </tr>\n",
       "  </tbody>\n",
       "</table>\n",
       "</div>"
      ],
      "text/plain": [
       "                      Amino-acid transport  Sugar transport\n",
       "Amino-acid transport                    45                3\n",
       "Sugar transport                          2               32"
      ]
     },
     "execution_count": 33,
     "metadata": {},
     "output_type": "execute_result"
    }
   ],
   "source": [
    "get_confusion_matrix(X_human, y_human, best_estimator_human, labels=df_human.keywords_transport)"
   ]
  },
  {
   "cell_type": "code",
   "execution_count": 34,
   "metadata": {
    "execution": {
     "iopub.execute_input": "2022-09-14T12:36:40.466013Z",
     "iopub.status.busy": "2022-09-14T12:36:40.465648Z",
     "iopub.status.idle": "2022-09-14T12:36:40.475479Z",
     "shell.execute_reply": "2022-09-14T12:36:40.474736Z"
    }
   },
   "outputs": [
    {
     "data": {
      "text/html": [
       "<div>\n",
       "<style scoped>\n",
       "    .dataframe tbody tr th:only-of-type {\n",
       "        vertical-align: middle;\n",
       "    }\n",
       "\n",
       "    .dataframe tbody tr th {\n",
       "        vertical-align: top;\n",
       "    }\n",
       "\n",
       "    .dataframe thead th {\n",
       "        text-align: right;\n",
       "    }\n",
       "</style>\n",
       "<table border=\"1\" class=\"dataframe\">\n",
       "  <thead>\n",
       "    <tr style=\"text-align: right;\">\n",
       "      <th></th>\n",
       "      <th>Amino-acid transport</th>\n",
       "      <th>Sugar transport</th>\n",
       "    </tr>\n",
       "  </thead>\n",
       "  <tbody>\n",
       "    <tr>\n",
       "      <th>Amino-acid transport</th>\n",
       "      <td>15</td>\n",
       "      <td>19</td>\n",
       "    </tr>\n",
       "    <tr>\n",
       "      <th>Sugar transport</th>\n",
       "      <td>8</td>\n",
       "      <td>9</td>\n",
       "    </tr>\n",
       "  </tbody>\n",
       "</table>\n",
       "</div>"
      ],
      "text/plain": [
       "                      Amino-acid transport  Sugar transport\n",
       "Amino-acid transport                    15               19\n",
       "Sugar transport                          8                9"
      ]
     },
     "execution_count": 34,
     "metadata": {},
     "output_type": "execute_result"
    }
   ],
   "source": [
    "get_confusion_matrix(X_yeast, y_yeast, best_estimator_human, labels=df_yeast.keywords_transport)"
   ]
  },
  {
   "cell_type": "code",
   "execution_count": 35,
   "metadata": {
    "execution": {
     "iopub.execute_input": "2022-09-14T12:36:40.479129Z",
     "iopub.status.busy": "2022-09-14T12:36:40.478768Z",
     "iopub.status.idle": "2022-09-14T12:36:40.489285Z",
     "shell.execute_reply": "2022-09-14T12:36:40.488529Z"
    }
   },
   "outputs": [
    {
     "data": {
      "text/html": [
       "<div>\n",
       "<style scoped>\n",
       "    .dataframe tbody tr th:only-of-type {\n",
       "        vertical-align: middle;\n",
       "    }\n",
       "\n",
       "    .dataframe tbody tr th {\n",
       "        vertical-align: top;\n",
       "    }\n",
       "\n",
       "    .dataframe thead th {\n",
       "        text-align: right;\n",
       "    }\n",
       "</style>\n",
       "<table border=\"1\" class=\"dataframe\">\n",
       "  <thead>\n",
       "    <tr style=\"text-align: right;\">\n",
       "      <th></th>\n",
       "      <th>Amino-acid transport</th>\n",
       "      <th>Sugar transport</th>\n",
       "    </tr>\n",
       "  </thead>\n",
       "  <tbody>\n",
       "    <tr>\n",
       "      <th>Amino-acid transport</th>\n",
       "      <td>25</td>\n",
       "      <td>8</td>\n",
       "    </tr>\n",
       "    <tr>\n",
       "      <th>Sugar transport</th>\n",
       "      <td>26</td>\n",
       "      <td>58</td>\n",
       "    </tr>\n",
       "  </tbody>\n",
       "</table>\n",
       "</div>"
      ],
      "text/plain": [
       "                      Amino-acid transport  Sugar transport\n",
       "Amino-acid transport                    25                8\n",
       "Sugar transport                         26               58"
      ]
     },
     "execution_count": 35,
     "metadata": {},
     "output_type": "execute_result"
    }
   ],
   "source": [
    "get_confusion_matrix(X_at, y_at, best_estimator_human, labels=df_at.keywords_transport)"
   ]
  },
  {
   "cell_type": "code",
   "execution_count": 36,
   "metadata": {
    "execution": {
     "iopub.execute_input": "2022-09-14T12:36:40.493101Z",
     "iopub.status.busy": "2022-09-14T12:36:40.492728Z",
     "iopub.status.idle": "2022-09-14T12:36:40.503092Z",
     "shell.execute_reply": "2022-09-14T12:36:40.502274Z"
    }
   },
   "outputs": [
    {
     "data": {
      "text/html": [
       "<div>\n",
       "<style scoped>\n",
       "    .dataframe tbody tr th:only-of-type {\n",
       "        vertical-align: middle;\n",
       "    }\n",
       "\n",
       "    .dataframe tbody tr th {\n",
       "        vertical-align: top;\n",
       "    }\n",
       "\n",
       "    .dataframe thead th {\n",
       "        text-align: right;\n",
       "    }\n",
       "</style>\n",
       "<table border=\"1\" class=\"dataframe\">\n",
       "  <thead>\n",
       "    <tr style=\"text-align: right;\">\n",
       "      <th></th>\n",
       "      <th>Amino-acid transport</th>\n",
       "      <th>Sugar transport</th>\n",
       "    </tr>\n",
       "  </thead>\n",
       "  <tbody>\n",
       "    <tr>\n",
       "      <th>Amino-acid transport</th>\n",
       "      <td>17</td>\n",
       "      <td>34</td>\n",
       "    </tr>\n",
       "    <tr>\n",
       "      <th>Sugar transport</th>\n",
       "      <td>11</td>\n",
       "      <td>36</td>\n",
       "    </tr>\n",
       "  </tbody>\n",
       "</table>\n",
       "</div>"
      ],
      "text/plain": [
       "                      Amino-acid transport  Sugar transport\n",
       "Amino-acid transport                    17               34\n",
       "Sugar transport                         11               36"
      ]
     },
     "execution_count": 36,
     "metadata": {},
     "output_type": "execute_result"
    }
   ],
   "source": [
    "get_confusion_matrix(X_ecoli, y_ecoli, best_estimator_human, labels=df_ecoli.keywords_transport)"
   ]
  },
  {
   "cell_type": "markdown",
   "metadata": {},
   "source": [
    "# Testing on Yeast"
   ]
  },
  {
   "cell_type": "code",
   "execution_count": 37,
   "metadata": {
    "execution": {
     "iopub.execute_input": "2022-09-14T12:36:40.507378Z",
     "iopub.status.busy": "2022-09-14T12:36:40.506718Z",
     "iopub.status.idle": "2022-09-14T12:36:40.870549Z",
     "shell.execute_reply": "2022-09-14T12:36:40.869266Z"
    }
   },
   "outputs": [
    {
     "name": "stdout",
     "output_type": "stream",
     "text": [
      "{'svc__C': 10, 'svc__class_weight': 'balanced', 'svc__decision_function_shape': 'ovo', 'svc__gamma': 'scale'}\n",
      "0.821\n"
     ]
    }
   ],
   "source": [
    "gsearch_yeast = optimize_hyperparams(X_yeast, y_yeast)\n",
    "best_estimator_yeast = gsearch_yeast.best_estimator_"
   ]
  },
  {
   "cell_type": "code",
   "execution_count": 38,
   "metadata": {
    "execution": {
     "iopub.execute_input": "2022-09-14T12:36:40.875370Z",
     "iopub.status.busy": "2022-09-14T12:36:40.875020Z",
     "iopub.status.idle": "2022-09-14T12:36:40.884941Z",
     "shell.execute_reply": "2022-09-14T12:36:40.884248Z"
    }
   },
   "outputs": [
    {
     "data": {
      "text/html": [
       "<div>\n",
       "<style scoped>\n",
       "    .dataframe tbody tr th:only-of-type {\n",
       "        vertical-align: middle;\n",
       "    }\n",
       "\n",
       "    .dataframe tbody tr th {\n",
       "        vertical-align: top;\n",
       "    }\n",
       "\n",
       "    .dataframe thead th {\n",
       "        text-align: right;\n",
       "    }\n",
       "</style>\n",
       "<table border=\"1\" class=\"dataframe\">\n",
       "  <thead>\n",
       "    <tr style=\"text-align: right;\">\n",
       "      <th></th>\n",
       "      <th>Amino-acid transport</th>\n",
       "      <th>Sugar transport</th>\n",
       "    </tr>\n",
       "  </thead>\n",
       "  <tbody>\n",
       "    <tr>\n",
       "      <th>Amino-acid transport</th>\n",
       "      <td>34</td>\n",
       "      <td>0</td>\n",
       "    </tr>\n",
       "    <tr>\n",
       "      <th>Sugar transport</th>\n",
       "      <td>0</td>\n",
       "      <td>17</td>\n",
       "    </tr>\n",
       "  </tbody>\n",
       "</table>\n",
       "</div>"
      ],
      "text/plain": [
       "                      Amino-acid transport  Sugar transport\n",
       "Amino-acid transport                    34                0\n",
       "Sugar transport                          0               17"
      ]
     },
     "execution_count": 38,
     "metadata": {},
     "output_type": "execute_result"
    }
   ],
   "source": [
    "get_confusion_matrix(X_yeast, y_yeast, best_estimator_yeast, labels=df_yeast.keywords_transport)"
   ]
  },
  {
   "cell_type": "code",
   "execution_count": 39,
   "metadata": {
    "execution": {
     "iopub.execute_input": "2022-09-14T12:36:40.888332Z",
     "iopub.status.busy": "2022-09-14T12:36:40.888004Z",
     "iopub.status.idle": "2022-09-14T12:36:40.897098Z",
     "shell.execute_reply": "2022-09-14T12:36:40.896392Z"
    }
   },
   "outputs": [
    {
     "data": {
      "text/html": [
       "<div>\n",
       "<style scoped>\n",
       "    .dataframe tbody tr th:only-of-type {\n",
       "        vertical-align: middle;\n",
       "    }\n",
       "\n",
       "    .dataframe tbody tr th {\n",
       "        vertical-align: top;\n",
       "    }\n",
       "\n",
       "    .dataframe thead th {\n",
       "        text-align: right;\n",
       "    }\n",
       "</style>\n",
       "<table border=\"1\" class=\"dataframe\">\n",
       "  <thead>\n",
       "    <tr style=\"text-align: right;\">\n",
       "      <th></th>\n",
       "      <th>Amino-acid transport</th>\n",
       "      <th>Sugar transport</th>\n",
       "    </tr>\n",
       "  </thead>\n",
       "  <tbody>\n",
       "    <tr>\n",
       "      <th>Amino-acid transport</th>\n",
       "      <td>42</td>\n",
       "      <td>6</td>\n",
       "    </tr>\n",
       "    <tr>\n",
       "      <th>Sugar transport</th>\n",
       "      <td>29</td>\n",
       "      <td>5</td>\n",
       "    </tr>\n",
       "  </tbody>\n",
       "</table>\n",
       "</div>"
      ],
      "text/plain": [
       "                      Amino-acid transport  Sugar transport\n",
       "Amino-acid transport                    42                6\n",
       "Sugar transport                         29                5"
      ]
     },
     "execution_count": 39,
     "metadata": {},
     "output_type": "execute_result"
    }
   ],
   "source": [
    "get_confusion_matrix(X_human, y_human, best_estimator_yeast, labels=df_human.keywords_transport)"
   ]
  },
  {
   "cell_type": "code",
   "execution_count": 40,
   "metadata": {
    "execution": {
     "iopub.execute_input": "2022-09-14T12:36:40.900799Z",
     "iopub.status.busy": "2022-09-14T12:36:40.900465Z",
     "iopub.status.idle": "2022-09-14T12:36:40.909363Z",
     "shell.execute_reply": "2022-09-14T12:36:40.908657Z"
    }
   },
   "outputs": [
    {
     "data": {
      "text/html": [
       "<div>\n",
       "<style scoped>\n",
       "    .dataframe tbody tr th:only-of-type {\n",
       "        vertical-align: middle;\n",
       "    }\n",
       "\n",
       "    .dataframe tbody tr th {\n",
       "        vertical-align: top;\n",
       "    }\n",
       "\n",
       "    .dataframe thead th {\n",
       "        text-align: right;\n",
       "    }\n",
       "</style>\n",
       "<table border=\"1\" class=\"dataframe\">\n",
       "  <thead>\n",
       "    <tr style=\"text-align: right;\">\n",
       "      <th></th>\n",
       "      <th>Amino-acid transport</th>\n",
       "      <th>Sugar transport</th>\n",
       "    </tr>\n",
       "  </thead>\n",
       "  <tbody>\n",
       "    <tr>\n",
       "      <th>Amino-acid transport</th>\n",
       "      <td>31</td>\n",
       "      <td>2</td>\n",
       "    </tr>\n",
       "    <tr>\n",
       "      <th>Sugar transport</th>\n",
       "      <td>61</td>\n",
       "      <td>23</td>\n",
       "    </tr>\n",
       "  </tbody>\n",
       "</table>\n",
       "</div>"
      ],
      "text/plain": [
       "                      Amino-acid transport  Sugar transport\n",
       "Amino-acid transport                    31                2\n",
       "Sugar transport                         61               23"
      ]
     },
     "execution_count": 40,
     "metadata": {},
     "output_type": "execute_result"
    }
   ],
   "source": [
    "get_confusion_matrix(X_at, y_at, best_estimator_yeast, labels=df_at.keywords_transport)"
   ]
  },
  {
   "cell_type": "code",
   "execution_count": 41,
   "metadata": {
    "execution": {
     "iopub.execute_input": "2022-09-14T12:36:40.913046Z",
     "iopub.status.busy": "2022-09-14T12:36:40.912698Z",
     "iopub.status.idle": "2022-09-14T12:36:40.921546Z",
     "shell.execute_reply": "2022-09-14T12:36:40.920848Z"
    }
   },
   "outputs": [
    {
     "data": {
      "text/html": [
       "<div>\n",
       "<style scoped>\n",
       "    .dataframe tbody tr th:only-of-type {\n",
       "        vertical-align: middle;\n",
       "    }\n",
       "\n",
       "    .dataframe tbody tr th {\n",
       "        vertical-align: top;\n",
       "    }\n",
       "\n",
       "    .dataframe thead th {\n",
       "        text-align: right;\n",
       "    }\n",
       "</style>\n",
       "<table border=\"1\" class=\"dataframe\">\n",
       "  <thead>\n",
       "    <tr style=\"text-align: right;\">\n",
       "      <th></th>\n",
       "      <th>Amino-acid transport</th>\n",
       "      <th>Sugar transport</th>\n",
       "    </tr>\n",
       "  </thead>\n",
       "  <tbody>\n",
       "    <tr>\n",
       "      <th>Amino-acid transport</th>\n",
       "      <td>51</td>\n",
       "      <td>0</td>\n",
       "    </tr>\n",
       "    <tr>\n",
       "      <th>Sugar transport</th>\n",
       "      <td>47</td>\n",
       "      <td>0</td>\n",
       "    </tr>\n",
       "  </tbody>\n",
       "</table>\n",
       "</div>"
      ],
      "text/plain": [
       "                      Amino-acid transport  Sugar transport\n",
       "Amino-acid transport                    51                0\n",
       "Sugar transport                         47                0"
      ]
     },
     "execution_count": 41,
     "metadata": {},
     "output_type": "execute_result"
    }
   ],
   "source": [
    "get_confusion_matrix(X_ecoli, y_ecoli, best_estimator_yeast, labels=df_ecoli.keywords_transport)"
   ]
  },
  {
   "cell_type": "code",
   "execution_count": null,
   "metadata": {},
   "outputs": [],
   "source": []
  }
 ],
 "metadata": {
  "interpreter": {
   "hash": "7d9587acfc26b94842e9ed1391c37acbb1c055ffb7f48359e727081012dc2cc7"
  },
  "kernelspec": {
   "display_name": "Python 3.9.11 ('subpred')",
   "language": "python",
   "name": "python3"
  },
  "language_info": {
   "codemirror_mode": {
    "name": "ipython",
    "version": 3
   },
   "file_extension": ".py",
   "mimetype": "text/x-python",
   "name": "python",
   "nbconvert_exporter": "python",
   "pygments_lexer": "ipython3",
   "version": "3.9.12"
  }
 },
 "nbformat": 4,
 "nbformat_minor": 2
}
