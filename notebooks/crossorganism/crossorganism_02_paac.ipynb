{
 "cells": [
  {
   "cell_type": "code",
   "execution_count": 1,
   "metadata": {
    "execution": {
     "iopub.execute_input": "2022-09-14T12:36:45.643128Z",
     "iopub.status.busy": "2022-09-14T12:36:45.642617Z",
     "iopub.status.idle": "2022-09-14T12:36:46.856312Z",
     "shell.execute_reply": "2022-09-14T12:36:46.855550Z"
    }
   },
   "outputs": [],
   "source": [
    "import os\n",
    "import sys\n",
    "\n",
    "import pandas as pd\n",
    "import numpy as np\n",
    "import matplotlib.pyplot as plt\n",
    "\n",
    "sys.path.append(\"../../src\")\n",
    "from main.transporter_dataset import create_dataset\n",
    "from main.cdhit import cd_hit\n",
    "from main.eval import (\n",
    "    optimize_hyperparams,\n",
    "    preprocess_pandas,\n",
    "    get_confusion_matrix,\n",
    "    get_classification_report,\n",
    ")\n",
    "from main.compositions import calculate_paac\n",
    "from main.pssm import calculate_pssms_notebook\n",
    "\n",
    "LOG_FILE = \"../../logs/cross_organism_amino_sugar.log\"\n",
    "\n"
   ]
  },
  {
   "cell_type": "markdown",
   "metadata": {},
   "source": [
    "# Training on A thaliana dataset"
   ]
  },
  {
   "cell_type": "code",
   "execution_count": 2,
   "metadata": {
    "execution": {
     "iopub.execute_input": "2022-09-14T12:36:46.861067Z",
     "iopub.status.busy": "2022-09-14T12:36:46.860919Z",
     "iopub.status.idle": "2022-09-14T12:36:57.607425Z",
     "shell.execute_reply": "2022-09-14T12:36:57.606614Z"
    }
   },
   "outputs": [
    {
     "name": "stdout",
     "output_type": "stream",
     "text": [
      "cd-hit: clustered 165 sequences into 117 clusters at threshold 70\n"
     ]
    }
   ],
   "source": [
    "df_at = create_dataset(\n",
    "    keywords_substrate_filter=[\"Amino-acid transport\", \"Sugar transport\"],\n",
    "    keywords_component_filter=[\"Membrane\"],\n",
    "    keywords_transport_filter=[\"Transport\"],\n",
    "    input_file=\"../../data/raw/swissprot/uniprot-reviewed_yes.tab.gz\",\n",
    "    multi_substrate=\"remove\",\n",
    "    outliers=[\"O81775\", \"Q9SW07\", \"Q9FHH5\", \"Q8S8A0\", \"Q3E965\", \"Q3EAV6\", \"Q3E8L0\"],\n",
    "    verbose=True,\n",
    "    tax_ids_filter=[3702],\n",
    "    output_log=LOG_FILE,\n",
    "    sequence_clustering=70\n",
    ")"
   ]
  },
  {
   "cell_type": "code",
   "execution_count": 3,
   "metadata": {
    "execution": {
     "iopub.execute_input": "2022-09-14T12:36:57.653746Z",
     "iopub.status.busy": "2022-09-14T12:36:57.653333Z",
     "iopub.status.idle": "2022-09-14T12:36:57.715414Z",
     "shell.execute_reply": "2022-09-14T12:36:57.714975Z"
    }
   },
   "outputs": [],
   "source": [
    "df_at_paac = calculate_paac(df_at.sequence)"
   ]
  },
  {
   "cell_type": "code",
   "execution_count": 4,
   "metadata": {
    "execution": {
     "iopub.execute_input": "2022-09-14T12:36:57.719545Z",
     "iopub.status.busy": "2022-09-14T12:36:57.719305Z",
     "iopub.status.idle": "2022-09-14T12:36:57.724632Z",
     "shell.execute_reply": "2022-09-14T12:36:57.723601Z"
    }
   },
   "outputs": [],
   "source": [
    "X_at, y_at = preprocess_pandas(\n",
    "    df_at_paac, df_at.keywords_transport\n",
    ")"
   ]
  },
  {
   "cell_type": "code",
   "execution_count": 5,
   "metadata": {
    "execution": {
     "iopub.execute_input": "2022-09-14T12:36:57.729243Z",
     "iopub.status.busy": "2022-09-14T12:36:57.728898Z",
     "iopub.status.idle": "2022-09-14T12:37:00.874487Z",
     "shell.execute_reply": "2022-09-14T12:37:00.873832Z"
    }
   },
   "outputs": [
    {
     "name": "stdout",
     "output_type": "stream",
     "text": [
      "{'svc__C': 1, 'svc__class_weight': 'balanced', 'svc__decision_function_shape': 'ovo', 'svc__gamma': 'scale'}\n",
      "0.794\n"
     ]
    },
    {
     "data": {
      "text/plain": [
       "GridSearchCV(cv=5,\n",
       "             estimator=Pipeline(steps=[('standardscaler', StandardScaler()),\n",
       "                                       ('svc', SVC())]),\n",
       "             n_jobs=-1,\n",
       "             param_grid={'svc__C': [1, 0.1, 10],\n",
       "                         'svc__class_weight': ['balanced', None],\n",
       "                         'svc__decision_function_shape': ['ovo', 'ovr'],\n",
       "                         'svc__gamma': ['scale', 0.01, 0.1, 1]},\n",
       "             return_train_score=True, scoring='f1_macro')"
      ]
     },
     "execution_count": 5,
     "metadata": {},
     "output_type": "execute_result"
    }
   ],
   "source": [
    "gsearch_at = optimize_hyperparams(X_at,y_at)\n",
    "gsearch_at"
   ]
  },
  {
   "cell_type": "code",
   "execution_count": 6,
   "metadata": {
    "execution": {
     "iopub.execute_input": "2022-09-14T12:37:00.878122Z",
     "iopub.status.busy": "2022-09-14T12:37:00.877864Z",
     "iopub.status.idle": "2022-09-14T12:37:00.880905Z",
     "shell.execute_reply": "2022-09-14T12:37:00.880302Z"
    }
   },
   "outputs": [],
   "source": [
    "best_estimator_at = gsearch_at.best_estimator_"
   ]
  },
  {
   "cell_type": "code",
   "execution_count": 7,
   "metadata": {
    "execution": {
     "iopub.execute_input": "2022-09-14T12:37:00.883688Z",
     "iopub.status.busy": "2022-09-14T12:37:00.883423Z",
     "iopub.status.idle": "2022-09-14T12:37:00.902425Z",
     "shell.execute_reply": "2022-09-14T12:37:00.901961Z"
    }
   },
   "outputs": [
    {
     "data": {
      "text/html": [
       "<div>\n",
       "<style scoped>\n",
       "    .dataframe tbody tr th:only-of-type {\n",
       "        vertical-align: middle;\n",
       "    }\n",
       "\n",
       "    .dataframe tbody tr th {\n",
       "        vertical-align: top;\n",
       "    }\n",
       "\n",
       "    .dataframe thead th {\n",
       "        text-align: right;\n",
       "    }\n",
       "</style>\n",
       "<table border=\"1\" class=\"dataframe\">\n",
       "  <thead>\n",
       "    <tr style=\"text-align: right;\">\n",
       "      <th></th>\n",
       "      <th>Amino-acid transport</th>\n",
       "      <th>Sugar transport</th>\n",
       "    </tr>\n",
       "  </thead>\n",
       "  <tbody>\n",
       "    <tr>\n",
       "      <th>Amino-acid transport</th>\n",
       "      <td>33</td>\n",
       "      <td>0</td>\n",
       "    </tr>\n",
       "    <tr>\n",
       "      <th>Sugar transport</th>\n",
       "      <td>0</td>\n",
       "      <td>84</td>\n",
       "    </tr>\n",
       "  </tbody>\n",
       "</table>\n",
       "</div>"
      ],
      "text/plain": [
       "                      Amino-acid transport  Sugar transport\n",
       "Amino-acid transport                    33                0\n",
       "Sugar transport                          0               84"
      ]
     },
     "execution_count": 7,
     "metadata": {},
     "output_type": "execute_result"
    }
   ],
   "source": [
    "get_confusion_matrix(X_at, y_at, best_estimator_at, labels=df_at.keywords_transport)"
   ]
  },
  {
   "cell_type": "markdown",
   "metadata": {},
   "source": [
    "# Testing on human dataset"
   ]
  },
  {
   "cell_type": "code",
   "execution_count": 8,
   "metadata": {
    "execution": {
     "iopub.execute_input": "2022-09-14T12:37:00.904669Z",
     "iopub.status.busy": "2022-09-14T12:37:00.904470Z",
     "iopub.status.idle": "2022-09-14T12:37:12.985230Z",
     "shell.execute_reply": "2022-09-14T12:37:12.984538Z"
    }
   },
   "outputs": [
    {
     "name": "stdout",
     "output_type": "stream",
     "text": [
      "cd-hit: clustered 87 sequences into 82 clusters at threshold 70\n"
     ]
    }
   ],
   "source": [
    "df_human = create_dataset(\n",
    "    keywords_substrate_filter=[\"Amino-acid transport\", \"Sugar transport\"],\n",
    "    keywords_component_filter=[\"Membrane\"],\n",
    "    keywords_transport_filter=[\"Transport\"],\n",
    "    input_file=\"../../data/raw/swissprot/uniprot-reviewed_yes.tab.gz\",\n",
    "    multi_substrate=\"integrate\",\n",
    "    verbose=True,\n",
    "    outliers=[\"Q9HBR0\", \"Q07837\"],\n",
    "    tax_ids_filter=[9606],\n",
    "    output_log=LOG_FILE,\n",
    "    sequence_clustering=70\n",
    ")"
   ]
  },
  {
   "cell_type": "code",
   "execution_count": 9,
   "metadata": {
    "execution": {
     "iopub.execute_input": "2022-09-14T12:37:12.990957Z",
     "iopub.status.busy": "2022-09-14T12:37:12.990629Z",
     "iopub.status.idle": "2022-09-14T12:37:12.998398Z",
     "shell.execute_reply": "2022-09-14T12:37:12.997671Z"
    }
   },
   "outputs": [
    {
     "data": {
      "text/plain": [
       "Amino-acid transport    48\n",
       "Sugar transport         34\n",
       "Name: keywords_transport, dtype: int64"
      ]
     },
     "execution_count": 9,
     "metadata": {},
     "output_type": "execute_result"
    }
   ],
   "source": [
    "df_human.keywords_transport.value_counts()"
   ]
  },
  {
   "cell_type": "code",
   "execution_count": 10,
   "metadata": {
    "execution": {
     "iopub.execute_input": "2022-09-14T12:37:13.002389Z",
     "iopub.status.busy": "2022-09-14T12:37:13.002027Z",
     "iopub.status.idle": "2022-09-14T12:37:13.076461Z",
     "shell.execute_reply": "2022-09-14T12:37:13.075363Z"
    }
   },
   "outputs": [],
   "source": [
    "df_human_paac = calculate_paac(df_human.sequence)"
   ]
  },
  {
   "cell_type": "code",
   "execution_count": 11,
   "metadata": {
    "execution": {
     "iopub.execute_input": "2022-09-14T12:37:13.081155Z",
     "iopub.status.busy": "2022-09-14T12:37:13.080891Z",
     "iopub.status.idle": "2022-09-14T12:37:13.088558Z",
     "shell.execute_reply": "2022-09-14T12:37:13.087822Z"
    }
   },
   "outputs": [
    {
     "data": {
      "text/plain": [
       "Amino-acid transport    48\n",
       "Sugar transport         34\n",
       "Name: keywords_transport, dtype: int64"
      ]
     },
     "execution_count": 11,
     "metadata": {},
     "output_type": "execute_result"
    }
   ],
   "source": [
    "labels = df_human.keywords_transport\n",
    "labels.value_counts()"
   ]
  },
  {
   "cell_type": "code",
   "execution_count": 12,
   "metadata": {
    "execution": {
     "iopub.execute_input": "2022-09-14T12:37:13.093338Z",
     "iopub.status.busy": "2022-09-14T12:37:13.093085Z",
     "iopub.status.idle": "2022-09-14T12:37:13.098851Z",
     "shell.execute_reply": "2022-09-14T12:37:13.098072Z"
    }
   },
   "outputs": [],
   "source": [
    "X_human, y_human = preprocess_pandas(df_human_paac, labels)"
   ]
  },
  {
   "cell_type": "code",
   "execution_count": 13,
   "metadata": {
    "execution": {
     "iopub.execute_input": "2022-09-14T12:37:13.102517Z",
     "iopub.status.busy": "2022-09-14T12:37:13.102265Z",
     "iopub.status.idle": "2022-09-14T12:37:13.119241Z",
     "shell.execute_reply": "2022-09-14T12:37:13.118545Z"
    }
   },
   "outputs": [
    {
     "data": {
      "text/html": [
       "<div>\n",
       "<style scoped>\n",
       "    .dataframe tbody tr th:only-of-type {\n",
       "        vertical-align: middle;\n",
       "    }\n",
       "\n",
       "    .dataframe tbody tr th {\n",
       "        vertical-align: top;\n",
       "    }\n",
       "\n",
       "    .dataframe thead th {\n",
       "        text-align: right;\n",
       "    }\n",
       "</style>\n",
       "<table border=\"1\" class=\"dataframe\">\n",
       "  <thead>\n",
       "    <tr style=\"text-align: right;\">\n",
       "      <th></th>\n",
       "      <th>Amino-acid transport</th>\n",
       "      <th>Sugar transport</th>\n",
       "    </tr>\n",
       "  </thead>\n",
       "  <tbody>\n",
       "    <tr>\n",
       "      <th>Amino-acid transport</th>\n",
       "      <td>4</td>\n",
       "      <td>44</td>\n",
       "    </tr>\n",
       "    <tr>\n",
       "      <th>Sugar transport</th>\n",
       "      <td>0</td>\n",
       "      <td>34</td>\n",
       "    </tr>\n",
       "  </tbody>\n",
       "</table>\n",
       "</div>"
      ],
      "text/plain": [
       "                      Amino-acid transport  Sugar transport\n",
       "Amino-acid transport                     4               44\n",
       "Sugar transport                          0               34"
      ]
     },
     "execution_count": 13,
     "metadata": {},
     "output_type": "execute_result"
    }
   ],
   "source": [
    "get_confusion_matrix(X_test=X_human, y_test=y_human, clf=best_estimator_at, labels=labels)"
   ]
  },
  {
   "cell_type": "code",
   "execution_count": 14,
   "metadata": {
    "execution": {
     "iopub.execute_input": "2022-09-14T12:37:13.123524Z",
     "iopub.status.busy": "2022-09-14T12:37:13.123242Z",
     "iopub.status.idle": "2022-09-14T12:37:13.150677Z",
     "shell.execute_reply": "2022-09-14T12:37:13.149747Z"
    }
   },
   "outputs": [
    {
     "data": {
      "text/html": [
       "<div>\n",
       "<style scoped>\n",
       "    .dataframe tbody tr th:only-of-type {\n",
       "        vertical-align: middle;\n",
       "    }\n",
       "\n",
       "    .dataframe tbody tr th {\n",
       "        vertical-align: top;\n",
       "    }\n",
       "\n",
       "    .dataframe thead th {\n",
       "        text-align: right;\n",
       "    }\n",
       "</style>\n",
       "<table border=\"1\" class=\"dataframe\">\n",
       "  <thead>\n",
       "    <tr style=\"text-align: right;\">\n",
       "      <th></th>\n",
       "      <th>precision</th>\n",
       "      <th>recall</th>\n",
       "      <th>f1-score</th>\n",
       "      <th>support</th>\n",
       "    </tr>\n",
       "  </thead>\n",
       "  <tbody>\n",
       "    <tr>\n",
       "      <th>Amino-acid transport</th>\n",
       "      <td>1.000</td>\n",
       "      <td>0.083</td>\n",
       "      <td>0.154</td>\n",
       "      <td>48</td>\n",
       "    </tr>\n",
       "    <tr>\n",
       "      <th>Sugar transport</th>\n",
       "      <td>0.436</td>\n",
       "      <td>1.000</td>\n",
       "      <td>0.607</td>\n",
       "      <td>34</td>\n",
       "    </tr>\n",
       "    <tr>\n",
       "      <th>macro avg</th>\n",
       "      <td>0.718</td>\n",
       "      <td>0.542</td>\n",
       "      <td>0.380</td>\n",
       "      <td>82</td>\n",
       "    </tr>\n",
       "    <tr>\n",
       "      <th>weighted avg</th>\n",
       "      <td>0.766</td>\n",
       "      <td>0.463</td>\n",
       "      <td>0.342</td>\n",
       "      <td>82</td>\n",
       "    </tr>\n",
       "  </tbody>\n",
       "</table>\n",
       "</div>"
      ],
      "text/plain": [
       "                      precision  recall  f1-score  support\n",
       "Amino-acid transport      1.000   0.083     0.154       48\n",
       "Sugar transport           0.436   1.000     0.607       34\n",
       "macro avg                 0.718   0.542     0.380       82\n",
       "weighted avg              0.766   0.463     0.342       82"
      ]
     },
     "execution_count": 14,
     "metadata": {},
     "output_type": "execute_result"
    }
   ],
   "source": [
    "get_classification_report(\n",
    "    X_test=X_human, y_test=y_human, clf=best_estimator_at, labels=labels\n",
    ")"
   ]
  },
  {
   "cell_type": "markdown",
   "metadata": {},
   "source": [
    "# Testing on E Coli"
   ]
  },
  {
   "cell_type": "code",
   "execution_count": 15,
   "metadata": {
    "execution": {
     "iopub.execute_input": "2022-09-14T12:37:13.155185Z",
     "iopub.status.busy": "2022-09-14T12:37:13.154842Z",
     "iopub.status.idle": "2022-09-14T12:37:24.424326Z",
     "shell.execute_reply": "2022-09-14T12:37:24.422692Z"
    }
   },
   "outputs": [
    {
     "name": "stdout",
     "output_type": "stream",
     "text": [
      "cd-hit: clustered 99 sequences into 98 clusters at threshold 70\n"
     ]
    }
   ],
   "source": [
    "df_ecoli = create_dataset(\n",
    "    keywords_substrate_filter=[\"Amino-acid transport\", \"Sugar transport\"],\n",
    "    keywords_component_filter=[\"Transmembrane\"],\n",
    "    keywords_transport_filter=[\"Transport\"],\n",
    "    input_file=\"../../data/raw/swissprot/uniprot-reviewed_yes.tab.gz\",\n",
    "    multi_substrate=\"integrate\",\n",
    "    outliers=['P76773', 'Q47706', 'P64550', 'P02943', 'P75733', 'P69856'],\n",
    "    verbose=True,\n",
    "    tax_ids_filter=[83333],\n",
    "    output_log=LOG_FILE,\n",
    "    sequence_clustering=70\n",
    ")"
   ]
  },
  {
   "cell_type": "code",
   "execution_count": 16,
   "metadata": {
    "execution": {
     "iopub.execute_input": "2022-09-14T12:37:24.429604Z",
     "iopub.status.busy": "2022-09-14T12:37:24.429058Z",
     "iopub.status.idle": "2022-09-14T12:37:24.512891Z",
     "shell.execute_reply": "2022-09-14T12:37:24.511720Z"
    }
   },
   "outputs": [],
   "source": [
    "df_ecoli_paac = calculate_paac(df_ecoli.sequence)"
   ]
  },
  {
   "cell_type": "code",
   "execution_count": 17,
   "metadata": {
    "execution": {
     "iopub.execute_input": "2022-09-14T12:37:24.517373Z",
     "iopub.status.busy": "2022-09-14T12:37:24.516993Z",
     "iopub.status.idle": "2022-09-14T12:37:24.523140Z",
     "shell.execute_reply": "2022-09-14T12:37:24.522198Z"
    }
   },
   "outputs": [],
   "source": [
    "X_ecoli, y_ecoli = preprocess_pandas(df_ecoli_paac, labels=df_ecoli.keywords_transport)"
   ]
  },
  {
   "cell_type": "code",
   "execution_count": 18,
   "metadata": {
    "execution": {
     "iopub.execute_input": "2022-09-14T12:37:24.527813Z",
     "iopub.status.busy": "2022-09-14T12:37:24.527394Z",
     "iopub.status.idle": "2022-09-14T12:37:24.549365Z",
     "shell.execute_reply": "2022-09-14T12:37:24.548153Z"
    }
   },
   "outputs": [
    {
     "data": {
      "text/html": [
       "<div>\n",
       "<style scoped>\n",
       "    .dataframe tbody tr th:only-of-type {\n",
       "        vertical-align: middle;\n",
       "    }\n",
       "\n",
       "    .dataframe tbody tr th {\n",
       "        vertical-align: top;\n",
       "    }\n",
       "\n",
       "    .dataframe thead th {\n",
       "        text-align: right;\n",
       "    }\n",
       "</style>\n",
       "<table border=\"1\" class=\"dataframe\">\n",
       "  <thead>\n",
       "    <tr style=\"text-align: right;\">\n",
       "      <th></th>\n",
       "      <th>Amino-acid transport</th>\n",
       "      <th>Sugar transport</th>\n",
       "    </tr>\n",
       "  </thead>\n",
       "  <tbody>\n",
       "    <tr>\n",
       "      <th>Amino-acid transport</th>\n",
       "      <td>1</td>\n",
       "      <td>50</td>\n",
       "    </tr>\n",
       "    <tr>\n",
       "      <th>Sugar transport</th>\n",
       "      <td>2</td>\n",
       "      <td>45</td>\n",
       "    </tr>\n",
       "  </tbody>\n",
       "</table>\n",
       "</div>"
      ],
      "text/plain": [
       "                      Amino-acid transport  Sugar transport\n",
       "Amino-acid transport                     1               50\n",
       "Sugar transport                          2               45"
      ]
     },
     "execution_count": 18,
     "metadata": {},
     "output_type": "execute_result"
    }
   ],
   "source": [
    "get_confusion_matrix(X_test=X_ecoli, y_test=y_ecoli, clf=best_estimator_at, labels=labels)"
   ]
  },
  {
   "cell_type": "code",
   "execution_count": 19,
   "metadata": {
    "execution": {
     "iopub.execute_input": "2022-09-14T12:37:24.553699Z",
     "iopub.status.busy": "2022-09-14T12:37:24.553327Z",
     "iopub.status.idle": "2022-09-14T12:37:24.583903Z",
     "shell.execute_reply": "2022-09-14T12:37:24.583093Z"
    }
   },
   "outputs": [
    {
     "data": {
      "text/html": [
       "<div>\n",
       "<style scoped>\n",
       "    .dataframe tbody tr th:only-of-type {\n",
       "        vertical-align: middle;\n",
       "    }\n",
       "\n",
       "    .dataframe tbody tr th {\n",
       "        vertical-align: top;\n",
       "    }\n",
       "\n",
       "    .dataframe thead th {\n",
       "        text-align: right;\n",
       "    }\n",
       "</style>\n",
       "<table border=\"1\" class=\"dataframe\">\n",
       "  <thead>\n",
       "    <tr style=\"text-align: right;\">\n",
       "      <th></th>\n",
       "      <th>precision</th>\n",
       "      <th>recall</th>\n",
       "      <th>f1-score</th>\n",
       "      <th>support</th>\n",
       "    </tr>\n",
       "  </thead>\n",
       "  <tbody>\n",
       "    <tr>\n",
       "      <th>Amino-acid transport</th>\n",
       "      <td>0.333</td>\n",
       "      <td>0.020</td>\n",
       "      <td>0.037</td>\n",
       "      <td>51</td>\n",
       "    </tr>\n",
       "    <tr>\n",
       "      <th>Sugar transport</th>\n",
       "      <td>0.474</td>\n",
       "      <td>0.957</td>\n",
       "      <td>0.634</td>\n",
       "      <td>47</td>\n",
       "    </tr>\n",
       "    <tr>\n",
       "      <th>macro avg</th>\n",
       "      <td>0.404</td>\n",
       "      <td>0.489</td>\n",
       "      <td>0.335</td>\n",
       "      <td>98</td>\n",
       "    </tr>\n",
       "    <tr>\n",
       "      <th>weighted avg</th>\n",
       "      <td>0.401</td>\n",
       "      <td>0.469</td>\n",
       "      <td>0.323</td>\n",
       "      <td>98</td>\n",
       "    </tr>\n",
       "  </tbody>\n",
       "</table>\n",
       "</div>"
      ],
      "text/plain": [
       "                      precision  recall  f1-score  support\n",
       "Amino-acid transport      0.333   0.020     0.037       51\n",
       "Sugar transport           0.474   0.957     0.634       47\n",
       "macro avg                 0.404   0.489     0.335       98\n",
       "weighted avg              0.401   0.469     0.323       98"
      ]
     },
     "execution_count": 19,
     "metadata": {},
     "output_type": "execute_result"
    }
   ],
   "source": [
    "get_classification_report(\n",
    "    X_test=X_ecoli, y_test=y_ecoli, clf=best_estimator_at, labels=labels\n",
    ")"
   ]
  },
  {
   "cell_type": "markdown",
   "metadata": {},
   "source": [
    "# Testing on Yeast"
   ]
  },
  {
   "cell_type": "code",
   "execution_count": 20,
   "metadata": {
    "execution": {
     "iopub.execute_input": "2022-09-14T12:37:24.588341Z",
     "iopub.status.busy": "2022-09-14T12:37:24.587963Z",
     "iopub.status.idle": "2022-09-14T12:37:35.873216Z",
     "shell.execute_reply": "2022-09-14T12:37:35.872103Z"
    }
   },
   "outputs": [
    {
     "name": "stdout",
     "output_type": "stream",
     "text": [
      "cd-hit: clustered 64 sequences into 51 clusters at threshold 70\n"
     ]
    }
   ],
   "source": [
    "df_yeast = create_dataset(\n",
    "    keywords_substrate_filter=[\"Amino-acid transport\", \"Sugar transport\"],\n",
    "    keywords_component_filter=[\"Membrane\"],\n",
    "    keywords_transport_filter=[\"Transport\"],\n",
    "    input_file=\"../../data/raw/swissprot/uniprot-reviewed_yes.tab.gz\",\n",
    "    multi_substrate=\"integrate\",\n",
    "    verbose=True,\n",
    "    tax_ids_filter=[559292],\n",
    "    output_log=LOG_FILE,\n",
    "    sequence_clustering=70,\n",
    ")"
   ]
  },
  {
   "cell_type": "code",
   "execution_count": 21,
   "metadata": {
    "execution": {
     "iopub.execute_input": "2022-09-14T12:37:35.879439Z",
     "iopub.status.busy": "2022-09-14T12:37:35.879143Z",
     "iopub.status.idle": "2022-09-14T12:37:35.920390Z",
     "shell.execute_reply": "2022-09-14T12:37:35.919395Z"
    }
   },
   "outputs": [],
   "source": [
    "df_yeast_paac = calculate_paac(df_yeast.sequence)"
   ]
  },
  {
   "cell_type": "code",
   "execution_count": 22,
   "metadata": {
    "execution": {
     "iopub.execute_input": "2022-09-14T12:37:35.924940Z",
     "iopub.status.busy": "2022-09-14T12:37:35.924586Z",
     "iopub.status.idle": "2022-09-14T12:37:35.930270Z",
     "shell.execute_reply": "2022-09-14T12:37:35.929211Z"
    }
   },
   "outputs": [],
   "source": [
    "X_yeast, y_yeast = preprocess_pandas(df_yeast_paac, labels=df_yeast.keywords_transport)"
   ]
  },
  {
   "cell_type": "code",
   "execution_count": 23,
   "metadata": {
    "execution": {
     "iopub.execute_input": "2022-09-14T12:37:35.933985Z",
     "iopub.status.busy": "2022-09-14T12:37:35.933726Z",
     "iopub.status.idle": "2022-09-14T12:37:35.950030Z",
     "shell.execute_reply": "2022-09-14T12:37:35.949038Z"
    }
   },
   "outputs": [
    {
     "data": {
      "text/html": [
       "<div>\n",
       "<style scoped>\n",
       "    .dataframe tbody tr th:only-of-type {\n",
       "        vertical-align: middle;\n",
       "    }\n",
       "\n",
       "    .dataframe tbody tr th {\n",
       "        vertical-align: top;\n",
       "    }\n",
       "\n",
       "    .dataframe thead th {\n",
       "        text-align: right;\n",
       "    }\n",
       "</style>\n",
       "<table border=\"1\" class=\"dataframe\">\n",
       "  <thead>\n",
       "    <tr style=\"text-align: right;\">\n",
       "      <th></th>\n",
       "      <th>Amino-acid transport</th>\n",
       "      <th>Sugar transport</th>\n",
       "    </tr>\n",
       "  </thead>\n",
       "  <tbody>\n",
       "    <tr>\n",
       "      <th>Amino-acid transport</th>\n",
       "      <td>8</td>\n",
       "      <td>26</td>\n",
       "    </tr>\n",
       "    <tr>\n",
       "      <th>Sugar transport</th>\n",
       "      <td>0</td>\n",
       "      <td>17</td>\n",
       "    </tr>\n",
       "  </tbody>\n",
       "</table>\n",
       "</div>"
      ],
      "text/plain": [
       "                      Amino-acid transport  Sugar transport\n",
       "Amino-acid transport                     8               26\n",
       "Sugar transport                          0               17"
      ]
     },
     "execution_count": 23,
     "metadata": {},
     "output_type": "execute_result"
    }
   ],
   "source": [
    "get_confusion_matrix(X_test=X_yeast, y_test=y_yeast, clf=best_estimator_at, labels=labels)"
   ]
  },
  {
   "cell_type": "code",
   "execution_count": 24,
   "metadata": {
    "execution": {
     "iopub.execute_input": "2022-09-14T12:37:35.954459Z",
     "iopub.status.busy": "2022-09-14T12:37:35.954077Z",
     "iopub.status.idle": "2022-09-14T12:37:35.981000Z",
     "shell.execute_reply": "2022-09-14T12:37:35.980121Z"
    }
   },
   "outputs": [
    {
     "data": {
      "text/html": [
       "<div>\n",
       "<style scoped>\n",
       "    .dataframe tbody tr th:only-of-type {\n",
       "        vertical-align: middle;\n",
       "    }\n",
       "\n",
       "    .dataframe tbody tr th {\n",
       "        vertical-align: top;\n",
       "    }\n",
       "\n",
       "    .dataframe thead th {\n",
       "        text-align: right;\n",
       "    }\n",
       "</style>\n",
       "<table border=\"1\" class=\"dataframe\">\n",
       "  <thead>\n",
       "    <tr style=\"text-align: right;\">\n",
       "      <th></th>\n",
       "      <th>precision</th>\n",
       "      <th>recall</th>\n",
       "      <th>f1-score</th>\n",
       "      <th>support</th>\n",
       "    </tr>\n",
       "  </thead>\n",
       "  <tbody>\n",
       "    <tr>\n",
       "      <th>Amino-acid transport</th>\n",
       "      <td>0.333</td>\n",
       "      <td>0.020</td>\n",
       "      <td>0.037</td>\n",
       "      <td>51</td>\n",
       "    </tr>\n",
       "    <tr>\n",
       "      <th>Sugar transport</th>\n",
       "      <td>0.474</td>\n",
       "      <td>0.957</td>\n",
       "      <td>0.634</td>\n",
       "      <td>47</td>\n",
       "    </tr>\n",
       "    <tr>\n",
       "      <th>macro avg</th>\n",
       "      <td>0.404</td>\n",
       "      <td>0.489</td>\n",
       "      <td>0.335</td>\n",
       "      <td>98</td>\n",
       "    </tr>\n",
       "    <tr>\n",
       "      <th>weighted avg</th>\n",
       "      <td>0.401</td>\n",
       "      <td>0.469</td>\n",
       "      <td>0.323</td>\n",
       "      <td>98</td>\n",
       "    </tr>\n",
       "  </tbody>\n",
       "</table>\n",
       "</div>"
      ],
      "text/plain": [
       "                      precision  recall  f1-score  support\n",
       "Amino-acid transport      0.333   0.020     0.037       51\n",
       "Sugar transport           0.474   0.957     0.634       47\n",
       "macro avg                 0.404   0.489     0.335       98\n",
       "weighted avg              0.401   0.469     0.323       98"
      ]
     },
     "execution_count": 24,
     "metadata": {},
     "output_type": "execute_result"
    }
   ],
   "source": [
    "get_classification_report(\n",
    "    X_test=X_ecoli, y_test=y_ecoli, clf=best_estimator_at, labels=labels\n",
    ")"
   ]
  },
  {
   "cell_type": "code",
   "execution_count": null,
   "metadata": {},
   "outputs": [],
   "source": []
  }
 ],
 "metadata": {
  "interpreter": {
   "hash": "7d9587acfc26b94842e9ed1391c37acbb1c055ffb7f48359e727081012dc2cc7"
  },
  "kernelspec": {
   "display_name": "Python 3.9.11 ('subpred')",
   "language": "python",
   "name": "python3"
  },
  "language_info": {
   "codemirror_mode": {
    "name": "ipython",
    "version": 3
   },
   "file_extension": ".py",
   "mimetype": "text/x-python",
   "name": "python",
   "nbconvert_exporter": "python",
   "pygments_lexer": "ipython3",
   "version": "3.9.12"
  }
 },
 "nbformat": 4,
 "nbformat_minor": 2
}
