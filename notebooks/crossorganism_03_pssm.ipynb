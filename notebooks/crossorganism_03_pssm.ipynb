{
 "cells": [
  {
   "cell_type": "code",
   "execution_count": 2,
   "metadata": {},
   "outputs": [],
   "source": [
    "import sys\n",
    "\n",
    "from subpred.transporter_dataset import create_dataset\n",
    "from subpred.eval import (\n",
    "    optimize_hyperparams,\n",
    "    preprocess_pandas,\n",
    "    get_confusion_matrix,\n",
    "    get_classification_report,\n",
    ")\n",
    "from subpred.pssm import calculate_pssms_notebook\n",
    "\n",
    "LOG_FILE = \"../logs/cross_organism_amino_sugar_pssm.log\""
   ]
  },
  {
   "cell_type": "markdown",
   "metadata": {},
   "source": [
    "# Training on A thaliana dataset"
   ]
  },
  {
   "cell_type": "code",
   "execution_count": 3,
   "metadata": {},
   "outputs": [
    {
     "name": "stdout",
     "output_type": "stream",
     "text": [
      "cd-hit: clustered 165 sequences into 117 clusters at threshold 70\n"
     ]
    }
   ],
   "source": [
    "df_at = create_dataset(\n",
    "    keywords_substrate_filter=[\"Amino-acid transport\", \"Sugar transport\"],\n",
    "    keywords_component_filter=[\"Membrane\"],\n",
    "    keywords_transport_filter=[\"Transport\"],\n",
    "    input_file=\"../data/raw/swissprot/uniprot-reviewed_yes.tab.gz\",\n",
    "    multi_substrate=\"remove\",\n",
    "    outliers=[\"O81775\", \"Q9SW07\", \"Q9FHH5\", \"Q8S8A0\", \"Q3E965\", \"Q3EAV6\", \"Q3E8L0\"],\n",
    "    verbose=True,\n",
    "    tax_ids_filter=[3702],\n",
    "    output_log=LOG_FILE,\n",
    "    sequence_clustering=70\n",
    ")"
   ]
  },
  {
   "cell_type": "code",
   "execution_count": 4,
   "metadata": {},
   "outputs": [
    {
     "data": {
      "text/html": [
       "<div>\n",
       "<style scoped>\n",
       "    .dataframe tbody tr th:only-of-type {\n",
       "        vertical-align: middle;\n",
       "    }\n",
       "\n",
       "    .dataframe tbody tr th {\n",
       "        vertical-align: top;\n",
       "    }\n",
       "\n",
       "    .dataframe thead th {\n",
       "        text-align: right;\n",
       "    }\n",
       "</style>\n",
       "<table border=\"1\" class=\"dataframe\">\n",
       "  <thead>\n",
       "    <tr style=\"text-align: right;\">\n",
       "      <th></th>\n",
       "      <th>AA_50_1</th>\n",
       "      <th>AR_50_1</th>\n",
       "      <th>AN_50_1</th>\n",
       "      <th>AD_50_1</th>\n",
       "      <th>AC_50_1</th>\n",
       "      <th>AQ_50_1</th>\n",
       "      <th>AE_50_1</th>\n",
       "      <th>AG_50_1</th>\n",
       "      <th>AH_50_1</th>\n",
       "      <th>AI_50_1</th>\n",
       "      <th>...</th>\n",
       "      <th>VL_90_3</th>\n",
       "      <th>VK_90_3</th>\n",
       "      <th>VM_90_3</th>\n",
       "      <th>VF_90_3</th>\n",
       "      <th>VP_90_3</th>\n",
       "      <th>VS_90_3</th>\n",
       "      <th>VT_90_3</th>\n",
       "      <th>VW_90_3</th>\n",
       "      <th>VY_90_3</th>\n",
       "      <th>VV_90_3</th>\n",
       "    </tr>\n",
       "    <tr>\n",
       "      <th>Uniprot</th>\n",
       "      <th></th>\n",
       "      <th></th>\n",
       "      <th></th>\n",
       "      <th></th>\n",
       "      <th></th>\n",
       "      <th></th>\n",
       "      <th></th>\n",
       "      <th></th>\n",
       "      <th></th>\n",
       "      <th></th>\n",
       "      <th></th>\n",
       "      <th></th>\n",
       "      <th></th>\n",
       "      <th></th>\n",
       "      <th></th>\n",
       "      <th></th>\n",
       "      <th></th>\n",
       "      <th></th>\n",
       "      <th></th>\n",
       "      <th></th>\n",
       "      <th></th>\n",
       "    </tr>\n",
       "  </thead>\n",
       "  <tbody>\n",
       "    <tr>\n",
       "      <th>Q9SFG0</th>\n",
       "      <td>0.784223</td>\n",
       "      <td>0.252900</td>\n",
       "      <td>0.327146</td>\n",
       "      <td>0.238979</td>\n",
       "      <td>0.394432</td>\n",
       "      <td>0.350348</td>\n",
       "      <td>0.276102</td>\n",
       "      <td>0.545244</td>\n",
       "      <td>0.227378</td>\n",
       "      <td>0.317865</td>\n",
       "      <td>...</td>\n",
       "      <td>0.434307</td>\n",
       "      <td>0.381387</td>\n",
       "      <td>0.421533</td>\n",
       "      <td>0.578467</td>\n",
       "      <td>0.357664</td>\n",
       "      <td>0.390511</td>\n",
       "      <td>0.392336</td>\n",
       "      <td>0.512774</td>\n",
       "      <td>0.656934</td>\n",
       "      <td>0.417883</td>\n",
       "    </tr>\n",
       "    <tr>\n",
       "      <th>Q84WN3</th>\n",
       "      <td>0.664740</td>\n",
       "      <td>0.416185</td>\n",
       "      <td>0.462428</td>\n",
       "      <td>0.427746</td>\n",
       "      <td>0.624277</td>\n",
       "      <td>0.445087</td>\n",
       "      <td>0.456647</td>\n",
       "      <td>0.526012</td>\n",
       "      <td>0.479769</td>\n",
       "      <td>0.543353</td>\n",
       "      <td>...</td>\n",
       "      <td>0.383260</td>\n",
       "      <td>0.264317</td>\n",
       "      <td>0.374449</td>\n",
       "      <td>0.726872</td>\n",
       "      <td>0.215859</td>\n",
       "      <td>0.286344</td>\n",
       "      <td>0.312775</td>\n",
       "      <td>0.493392</td>\n",
       "      <td>0.982379</td>\n",
       "      <td>0.352423</td>\n",
       "    </tr>\n",
       "    <tr>\n",
       "      <th>O04249</th>\n",
       "      <td>0.735484</td>\n",
       "      <td>0.286022</td>\n",
       "      <td>0.352688</td>\n",
       "      <td>0.281720</td>\n",
       "      <td>0.479570</td>\n",
       "      <td>0.352688</td>\n",
       "      <td>0.318280</td>\n",
       "      <td>0.531183</td>\n",
       "      <td>0.279570</td>\n",
       "      <td>0.417204</td>\n",
       "      <td>...</td>\n",
       "      <td>0.476898</td>\n",
       "      <td>0.415842</td>\n",
       "      <td>0.471947</td>\n",
       "      <td>0.592409</td>\n",
       "      <td>0.387789</td>\n",
       "      <td>0.415842</td>\n",
       "      <td>0.422442</td>\n",
       "      <td>0.514851</td>\n",
       "      <td>0.702970</td>\n",
       "      <td>0.450495</td>\n",
       "    </tr>\n",
       "    <tr>\n",
       "      <th>Q56ZZ7</th>\n",
       "      <td>0.798913</td>\n",
       "      <td>0.173913</td>\n",
       "      <td>0.217391</td>\n",
       "      <td>0.153986</td>\n",
       "      <td>0.389493</td>\n",
       "      <td>0.251812</td>\n",
       "      <td>0.190217</td>\n",
       "      <td>0.481884</td>\n",
       "      <td>0.148551</td>\n",
       "      <td>0.367754</td>\n",
       "      <td>...</td>\n",
       "      <td>0.488636</td>\n",
       "      <td>0.433442</td>\n",
       "      <td>0.472403</td>\n",
       "      <td>0.608766</td>\n",
       "      <td>0.420455</td>\n",
       "      <td>0.461039</td>\n",
       "      <td>0.462662</td>\n",
       "      <td>0.514610</td>\n",
       "      <td>0.657468</td>\n",
       "      <td>0.470779</td>\n",
       "    </tr>\n",
       "    <tr>\n",
       "      <th>Q8H184</th>\n",
       "      <td>0.652482</td>\n",
       "      <td>0.308511</td>\n",
       "      <td>0.372340</td>\n",
       "      <td>0.269504</td>\n",
       "      <td>0.510638</td>\n",
       "      <td>0.365248</td>\n",
       "      <td>0.301418</td>\n",
       "      <td>0.457447</td>\n",
       "      <td>0.368794</td>\n",
       "      <td>0.425532</td>\n",
       "      <td>...</td>\n",
       "      <td>0.486772</td>\n",
       "      <td>0.391534</td>\n",
       "      <td>0.473545</td>\n",
       "      <td>0.595238</td>\n",
       "      <td>0.370370</td>\n",
       "      <td>0.417989</td>\n",
       "      <td>0.431217</td>\n",
       "      <td>0.505291</td>\n",
       "      <td>0.679894</td>\n",
       "      <td>0.473545</td>\n",
       "    </tr>\n",
       "    <tr>\n",
       "      <th>...</th>\n",
       "      <td>...</td>\n",
       "      <td>...</td>\n",
       "      <td>...</td>\n",
       "      <td>...</td>\n",
       "      <td>...</td>\n",
       "      <td>...</td>\n",
       "      <td>...</td>\n",
       "      <td>...</td>\n",
       "      <td>...</td>\n",
       "      <td>...</td>\n",
       "      <td>...</td>\n",
       "      <td>...</td>\n",
       "      <td>...</td>\n",
       "      <td>...</td>\n",
       "      <td>...</td>\n",
       "      <td>...</td>\n",
       "      <td>...</td>\n",
       "      <td>...</td>\n",
       "      <td>...</td>\n",
       "      <td>...</td>\n",
       "      <td>...</td>\n",
       "    </tr>\n",
       "    <tr>\n",
       "      <th>Q94B65</th>\n",
       "      <td>0.814126</td>\n",
       "      <td>0.304833</td>\n",
       "      <td>0.408922</td>\n",
       "      <td>0.271375</td>\n",
       "      <td>0.579926</td>\n",
       "      <td>0.408922</td>\n",
       "      <td>0.349442</td>\n",
       "      <td>0.516729</td>\n",
       "      <td>0.334572</td>\n",
       "      <td>0.539033</td>\n",
       "      <td>...</td>\n",
       "      <td>0.542056</td>\n",
       "      <td>0.489097</td>\n",
       "      <td>0.529595</td>\n",
       "      <td>0.716511</td>\n",
       "      <td>0.426791</td>\n",
       "      <td>0.523364</td>\n",
       "      <td>0.504673</td>\n",
       "      <td>0.613707</td>\n",
       "      <td>0.894081</td>\n",
       "      <td>0.520249</td>\n",
       "    </tr>\n",
       "    <tr>\n",
       "      <th>Q0WWW9</th>\n",
       "      <td>0.760736</td>\n",
       "      <td>0.388037</td>\n",
       "      <td>0.424847</td>\n",
       "      <td>0.380368</td>\n",
       "      <td>0.556748</td>\n",
       "      <td>0.412577</td>\n",
       "      <td>0.423313</td>\n",
       "      <td>0.532209</td>\n",
       "      <td>0.375767</td>\n",
       "      <td>0.469325</td>\n",
       "      <td>...</td>\n",
       "      <td>0.544582</td>\n",
       "      <td>0.465021</td>\n",
       "      <td>0.515775</td>\n",
       "      <td>0.632373</td>\n",
       "      <td>0.455418</td>\n",
       "      <td>0.486968</td>\n",
       "      <td>0.482853</td>\n",
       "      <td>0.539095</td>\n",
       "      <td>0.703704</td>\n",
       "      <td>0.514403</td>\n",
       "    </tr>\n",
       "    <tr>\n",
       "      <th>Q2V4B9</th>\n",
       "      <td>0.800373</td>\n",
       "      <td>0.294776</td>\n",
       "      <td>0.341418</td>\n",
       "      <td>0.298507</td>\n",
       "      <td>0.468284</td>\n",
       "      <td>0.386194</td>\n",
       "      <td>0.386194</td>\n",
       "      <td>0.537313</td>\n",
       "      <td>0.261194</td>\n",
       "      <td>0.414179</td>\n",
       "      <td>...</td>\n",
       "      <td>0.521151</td>\n",
       "      <td>0.495770</td>\n",
       "      <td>0.510998</td>\n",
       "      <td>0.566836</td>\n",
       "      <td>0.477157</td>\n",
       "      <td>0.502538</td>\n",
       "      <td>0.502538</td>\n",
       "      <td>0.509306</td>\n",
       "      <td>0.602369</td>\n",
       "      <td>0.500846</td>\n",
       "    </tr>\n",
       "    <tr>\n",
       "      <th>Q94EI9</th>\n",
       "      <td>0.807471</td>\n",
       "      <td>0.396552</td>\n",
       "      <td>0.425287</td>\n",
       "      <td>0.350575</td>\n",
       "      <td>0.718391</td>\n",
       "      <td>0.465517</td>\n",
       "      <td>0.410920</td>\n",
       "      <td>0.589080</td>\n",
       "      <td>0.393678</td>\n",
       "      <td>0.591954</td>\n",
       "      <td>...</td>\n",
       "      <td>0.469697</td>\n",
       "      <td>0.412121</td>\n",
       "      <td>0.463636</td>\n",
       "      <td>0.660606</td>\n",
       "      <td>0.378788</td>\n",
       "      <td>0.433333</td>\n",
       "      <td>0.445455</td>\n",
       "      <td>0.633333</td>\n",
       "      <td>0.903030</td>\n",
       "      <td>0.463636</td>\n",
       "    </tr>\n",
       "    <tr>\n",
       "      <th>F4IHS9</th>\n",
       "      <td>0.745981</td>\n",
       "      <td>0.495177</td>\n",
       "      <td>0.520900</td>\n",
       "      <td>0.450161</td>\n",
       "      <td>0.649518</td>\n",
       "      <td>0.520900</td>\n",
       "      <td>0.485531</td>\n",
       "      <td>0.578778</td>\n",
       "      <td>0.469453</td>\n",
       "      <td>0.604502</td>\n",
       "      <td>...</td>\n",
       "      <td>0.533654</td>\n",
       "      <td>0.492788</td>\n",
       "      <td>0.543269</td>\n",
       "      <td>0.639423</td>\n",
       "      <td>0.492788</td>\n",
       "      <td>0.526442</td>\n",
       "      <td>0.524038</td>\n",
       "      <td>0.661058</td>\n",
       "      <td>0.713942</td>\n",
       "      <td>0.533654</td>\n",
       "    </tr>\n",
       "  </tbody>\n",
       "</table>\n",
       "<p>117 rows × 1600 columns</p>\n",
       "</div>"
      ],
      "text/plain": [
       "          AA_50_1   AR_50_1   AN_50_1   AD_50_1   AC_50_1   AQ_50_1   AE_50_1  \\\n",
       "Uniprot                                                                         \n",
       "Q9SFG0   0.784223  0.252900  0.327146  0.238979  0.394432  0.350348  0.276102   \n",
       "Q84WN3   0.664740  0.416185  0.462428  0.427746  0.624277  0.445087  0.456647   \n",
       "O04249   0.735484  0.286022  0.352688  0.281720  0.479570  0.352688  0.318280   \n",
       "Q56ZZ7   0.798913  0.173913  0.217391  0.153986  0.389493  0.251812  0.190217   \n",
       "Q8H184   0.652482  0.308511  0.372340  0.269504  0.510638  0.365248  0.301418   \n",
       "...           ...       ...       ...       ...       ...       ...       ...   \n",
       "Q94B65   0.814126  0.304833  0.408922  0.271375  0.579926  0.408922  0.349442   \n",
       "Q0WWW9   0.760736  0.388037  0.424847  0.380368  0.556748  0.412577  0.423313   \n",
       "Q2V4B9   0.800373  0.294776  0.341418  0.298507  0.468284  0.386194  0.386194   \n",
       "Q94EI9   0.807471  0.396552  0.425287  0.350575  0.718391  0.465517  0.410920   \n",
       "F4IHS9   0.745981  0.495177  0.520900  0.450161  0.649518  0.520900  0.485531   \n",
       "\n",
       "          AG_50_1   AH_50_1   AI_50_1  ...   VL_90_3   VK_90_3   VM_90_3  \\\n",
       "Uniprot                                ...                                 \n",
       "Q9SFG0   0.545244  0.227378  0.317865  ...  0.434307  0.381387  0.421533   \n",
       "Q84WN3   0.526012  0.479769  0.543353  ...  0.383260  0.264317  0.374449   \n",
       "O04249   0.531183  0.279570  0.417204  ...  0.476898  0.415842  0.471947   \n",
       "Q56ZZ7   0.481884  0.148551  0.367754  ...  0.488636  0.433442  0.472403   \n",
       "Q8H184   0.457447  0.368794  0.425532  ...  0.486772  0.391534  0.473545   \n",
       "...           ...       ...       ...  ...       ...       ...       ...   \n",
       "Q94B65   0.516729  0.334572  0.539033  ...  0.542056  0.489097  0.529595   \n",
       "Q0WWW9   0.532209  0.375767  0.469325  ...  0.544582  0.465021  0.515775   \n",
       "Q2V4B9   0.537313  0.261194  0.414179  ...  0.521151  0.495770  0.510998   \n",
       "Q94EI9   0.589080  0.393678  0.591954  ...  0.469697  0.412121  0.463636   \n",
       "F4IHS9   0.578778  0.469453  0.604502  ...  0.533654  0.492788  0.543269   \n",
       "\n",
       "          VF_90_3   VP_90_3   VS_90_3   VT_90_3   VW_90_3   VY_90_3   VV_90_3  \n",
       "Uniprot                                                                        \n",
       "Q9SFG0   0.578467  0.357664  0.390511  0.392336  0.512774  0.656934  0.417883  \n",
       "Q84WN3   0.726872  0.215859  0.286344  0.312775  0.493392  0.982379  0.352423  \n",
       "O04249   0.592409  0.387789  0.415842  0.422442  0.514851  0.702970  0.450495  \n",
       "Q56ZZ7   0.608766  0.420455  0.461039  0.462662  0.514610  0.657468  0.470779  \n",
       "Q8H184   0.595238  0.370370  0.417989  0.431217  0.505291  0.679894  0.473545  \n",
       "...           ...       ...       ...       ...       ...       ...       ...  \n",
       "Q94B65   0.716511  0.426791  0.523364  0.504673  0.613707  0.894081  0.520249  \n",
       "Q0WWW9   0.632373  0.455418  0.486968  0.482853  0.539095  0.703704  0.514403  \n",
       "Q2V4B9   0.566836  0.477157  0.502538  0.502538  0.509306  0.602369  0.500846  \n",
       "Q94EI9   0.660606  0.378788  0.433333  0.445455  0.633333  0.903030  0.463636  \n",
       "F4IHS9   0.639423  0.492788  0.526442  0.524038  0.661058  0.713942  0.533654  \n",
       "\n",
       "[117 rows x 1600 columns]"
      ]
     },
     "execution_count": 4,
     "metadata": {},
     "output_type": "execute_result"
    }
   ],
   "source": [
    "df_at_pssm = calculate_pssms_notebook(df_at.sequence)\n",
    "\n",
    "df_at_pssm"
   ]
  },
  {
   "cell_type": "code",
   "execution_count": 5,
   "metadata": {},
   "outputs": [],
   "source": [
    "X_at, y_at, feature_names, sample_names = preprocess_pandas(\n",
    "    df_at_pssm, df_at.keywords_transport, return_names=True\n",
    ")"
   ]
  },
  {
   "cell_type": "code",
   "execution_count": 7,
   "metadata": {},
   "outputs": [
    {
     "name": "stdout",
     "output_type": "stream",
     "text": [
      "{'pssmselector__iterations': 3, 'pssmselector__uniref_threshold': 50, 'svc__C': 10, 'svc__class_weight': 'balanced', 'svc__gamma': 'scale'}\n",
      "0.977\n"
     ]
    },
    {
     "data": {
      "text/plain": [
       "GridSearchCV(cv=5,\n",
       "             estimator=Pipeline(steps=[('pssmselector',\n",
       "                                        PSSMSelector(feature_names=array(['AA_50_1', 'AR_50_1', 'AN_50_1', ..., 'VW_90_3', 'VY_90_3',\n",
       "       'VV_90_3'], dtype='<U7'))),\n",
       "                                       ('standardscaler', StandardScaler()),\n",
       "                                       ('svc', SVC())]),\n",
       "             n_jobs=-1,\n",
       "             param_grid={'pssmselector__iterations': [1, 3, 'all'],\n",
       "                         'pssmselector__uniref_threshold': [50, 90, 'all'],\n",
       "                         'svc__C': [1, 0.1, 10],\n",
       "                         'svc__class_weight': ['balanced', None],\n",
       "                         'svc__gamma': ['scale', 0.01, 0.1, 1]},\n",
       "             return_train_score=True, scoring='f1_macro')"
      ]
     },
     "execution_count": 7,
     "metadata": {},
     "output_type": "execute_result"
    }
   ],
   "source": [
    "gsearch_at = optimize_hyperparams(X_at,y_at, feature_transformer=\"pssm\", feature_names=feature_names)\n",
    "gsearch_at"
   ]
  },
  {
   "cell_type": "code",
   "execution_count": 8,
   "metadata": {},
   "outputs": [
    {
     "data": {
      "text/plain": [
       "Pipeline(steps=[('pssmselector',\n",
       "                 PSSMSelector(feature_names=array(['AA_50_1', 'AR_50_1', 'AN_50_1', ..., 'VW_90_3', 'VY_90_3',\n",
       "       'VV_90_3'], dtype='<U7'),\n",
       "                              iterations=3, uniref_threshold=50)),\n",
       "                ('standardscaler', StandardScaler()),\n",
       "                ('svc', SVC(C=10, class_weight='balanced'))])"
      ]
     },
     "execution_count": 8,
     "metadata": {},
     "output_type": "execute_result"
    }
   ],
   "source": [
    "best_estimator_at = gsearch_at.best_estimator_\n",
    "\n",
    "best_estimator_at"
   ]
  },
  {
   "cell_type": "code",
   "execution_count": 9,
   "metadata": {},
   "outputs": [
    {
     "data": {
      "text/html": [
       "<div>\n",
       "<style scoped>\n",
       "    .dataframe tbody tr th:only-of-type {\n",
       "        vertical-align: middle;\n",
       "    }\n",
       "\n",
       "    .dataframe tbody tr th {\n",
       "        vertical-align: top;\n",
       "    }\n",
       "\n",
       "    .dataframe thead th {\n",
       "        text-align: right;\n",
       "    }\n",
       "</style>\n",
       "<table border=\"1\" class=\"dataframe\">\n",
       "  <thead>\n",
       "    <tr style=\"text-align: right;\">\n",
       "      <th>predicted</th>\n",
       "      <th>Amino-acid transport</th>\n",
       "      <th>Sugar transport</th>\n",
       "    </tr>\n",
       "    <tr>\n",
       "      <th>observed</th>\n",
       "      <th></th>\n",
       "      <th></th>\n",
       "    </tr>\n",
       "  </thead>\n",
       "  <tbody>\n",
       "    <tr>\n",
       "      <th>Amino-acid transport</th>\n",
       "      <td>33</td>\n",
       "      <td>0</td>\n",
       "    </tr>\n",
       "    <tr>\n",
       "      <th>Sugar transport</th>\n",
       "      <td>0</td>\n",
       "      <td>84</td>\n",
       "    </tr>\n",
       "  </tbody>\n",
       "</table>\n",
       "</div>"
      ],
      "text/plain": [
       "predicted             Amino-acid transport  Sugar transport\n",
       "observed                                                   \n",
       "Amino-acid transport                    33                0\n",
       "Sugar transport                          0               84"
      ]
     },
     "execution_count": 9,
     "metadata": {},
     "output_type": "execute_result"
    }
   ],
   "source": [
    "get_confusion_matrix(X_at, y_at, best_estimator_at, labels=df_at.keywords_transport)"
   ]
  },
  {
   "cell_type": "markdown",
   "metadata": {},
   "source": [
    "# Testing on human dataset"
   ]
  },
  {
   "cell_type": "code",
   "execution_count": 11,
   "metadata": {},
   "outputs": [
    {
     "name": "stdout",
     "output_type": "stream",
     "text": [
      "cd-hit: clustered 87 sequences into 82 clusters at threshold 70\n"
     ]
    }
   ],
   "source": [
    "df_human = create_dataset(\n",
    "    keywords_substrate_filter=[\"Amino-acid transport\", \"Sugar transport\"],\n",
    "    keywords_component_filter=[\"Membrane\"],\n",
    "    keywords_transport_filter=[\"Transport\"],\n",
    "    input_file=\"../data/raw/swissprot/uniprot-reviewed_yes.tab.gz\",\n",
    "    multi_substrate=\"integrate\",\n",
    "    verbose=True,\n",
    "    outliers=[\"Q9HBR0\", \"Q07837\"],\n",
    "    tax_ids_filter=[9606],\n",
    "    output_log=LOG_FILE,\n",
    "    sequence_clustering=70\n",
    ")"
   ]
  },
  {
   "cell_type": "code",
   "execution_count": 12,
   "metadata": {},
   "outputs": [
    {
     "data": {
      "text/plain": [
       "Amino-acid transport    48\n",
       "Sugar transport         34\n",
       "Name: keywords_transport, dtype: int64"
      ]
     },
     "execution_count": 12,
     "metadata": {},
     "output_type": "execute_result"
    }
   ],
   "source": [
    "df_human.keywords_transport.value_counts()"
   ]
  },
  {
   "cell_type": "code",
   "execution_count": 13,
   "metadata": {},
   "outputs": [],
   "source": [
    "df_human_pssm = calculate_pssms_notebook(df_human.sequence)"
   ]
  },
  {
   "cell_type": "code",
   "execution_count": 14,
   "metadata": {},
   "outputs": [
    {
     "data": {
      "text/plain": [
       "Amino-acid transport    48\n",
       "Sugar transport         34\n",
       "Name: keywords_transport, dtype: int64"
      ]
     },
     "execution_count": 14,
     "metadata": {},
     "output_type": "execute_result"
    }
   ],
   "source": [
    "labels = df_human.keywords_transport\n",
    "labels.value_counts()"
   ]
  },
  {
   "cell_type": "code",
   "execution_count": 15,
   "metadata": {},
   "outputs": [],
   "source": [
    "X_human, y_human, feature_names, sample_names = preprocess_pandas(\n",
    "    df_human_pssm, df_human.keywords_transport, return_names=True\n",
    ")"
   ]
  },
  {
   "cell_type": "code",
   "execution_count": 16,
   "metadata": {},
   "outputs": [
    {
     "data": {
      "text/html": [
       "<div>\n",
       "<style scoped>\n",
       "    .dataframe tbody tr th:only-of-type {\n",
       "        vertical-align: middle;\n",
       "    }\n",
       "\n",
       "    .dataframe tbody tr th {\n",
       "        vertical-align: top;\n",
       "    }\n",
       "\n",
       "    .dataframe thead th {\n",
       "        text-align: right;\n",
       "    }\n",
       "</style>\n",
       "<table border=\"1\" class=\"dataframe\">\n",
       "  <thead>\n",
       "    <tr style=\"text-align: right;\">\n",
       "      <th>predicted</th>\n",
       "      <th>Amino-acid transport</th>\n",
       "      <th>Sugar transport</th>\n",
       "    </tr>\n",
       "    <tr>\n",
       "      <th>observed</th>\n",
       "      <th></th>\n",
       "      <th></th>\n",
       "    </tr>\n",
       "  </thead>\n",
       "  <tbody>\n",
       "    <tr>\n",
       "      <th>Amino-acid transport</th>\n",
       "      <td>21</td>\n",
       "      <td>27</td>\n",
       "    </tr>\n",
       "    <tr>\n",
       "      <th>Sugar transport</th>\n",
       "      <td>3</td>\n",
       "      <td>31</td>\n",
       "    </tr>\n",
       "  </tbody>\n",
       "</table>\n",
       "</div>"
      ],
      "text/plain": [
       "predicted             Amino-acid transport  Sugar transport\n",
       "observed                                                   \n",
       "Amino-acid transport                    21               27\n",
       "Sugar transport                          3               31"
      ]
     },
     "execution_count": 16,
     "metadata": {},
     "output_type": "execute_result"
    }
   ],
   "source": [
    "get_confusion_matrix(X_test=X_human, y_test=y_human, clf=best_estimator_at, labels=labels)"
   ]
  },
  {
   "cell_type": "code",
   "execution_count": 17,
   "metadata": {},
   "outputs": [
    {
     "data": {
      "text/html": [
       "<div>\n",
       "<style scoped>\n",
       "    .dataframe tbody tr th:only-of-type {\n",
       "        vertical-align: middle;\n",
       "    }\n",
       "\n",
       "    .dataframe tbody tr th {\n",
       "        vertical-align: top;\n",
       "    }\n",
       "\n",
       "    .dataframe thead th {\n",
       "        text-align: right;\n",
       "    }\n",
       "</style>\n",
       "<table border=\"1\" class=\"dataframe\">\n",
       "  <thead>\n",
       "    <tr style=\"text-align: right;\">\n",
       "      <th></th>\n",
       "      <th>precision</th>\n",
       "      <th>recall</th>\n",
       "      <th>f1-score</th>\n",
       "      <th>support</th>\n",
       "    </tr>\n",
       "  </thead>\n",
       "  <tbody>\n",
       "    <tr>\n",
       "      <th>Amino-acid transport</th>\n",
       "      <td>0.875</td>\n",
       "      <td>0.438</td>\n",
       "      <td>0.583</td>\n",
       "      <td>48</td>\n",
       "    </tr>\n",
       "    <tr>\n",
       "      <th>Sugar transport</th>\n",
       "      <td>0.534</td>\n",
       "      <td>0.912</td>\n",
       "      <td>0.674</td>\n",
       "      <td>34</td>\n",
       "    </tr>\n",
       "    <tr>\n",
       "      <th>macro avg</th>\n",
       "      <td>0.705</td>\n",
       "      <td>0.675</td>\n",
       "      <td>0.629</td>\n",
       "      <td>82</td>\n",
       "    </tr>\n",
       "    <tr>\n",
       "      <th>weighted avg</th>\n",
       "      <td>0.734</td>\n",
       "      <td>0.634</td>\n",
       "      <td>0.621</td>\n",
       "      <td>82</td>\n",
       "    </tr>\n",
       "  </tbody>\n",
       "</table>\n",
       "</div>"
      ],
      "text/plain": [
       "                      precision  recall  f1-score  support\n",
       "Amino-acid transport      0.875   0.438     0.583       48\n",
       "Sugar transport           0.534   0.912     0.674       34\n",
       "macro avg                 0.705   0.675     0.629       82\n",
       "weighted avg              0.734   0.634     0.621       82"
      ]
     },
     "execution_count": 17,
     "metadata": {},
     "output_type": "execute_result"
    }
   ],
   "source": [
    "get_classification_report(\n",
    "    X_test=X_human, y_test=y_human, clf=best_estimator_at, labels=labels\n",
    ")"
   ]
  },
  {
   "cell_type": "markdown",
   "metadata": {},
   "source": [
    "# Testing on E Coli"
   ]
  },
  {
   "cell_type": "code",
   "execution_count": 19,
   "metadata": {},
   "outputs": [
    {
     "name": "stdout",
     "output_type": "stream",
     "text": [
      "cd-hit: clustered 99 sequences into 98 clusters at threshold 70\n"
     ]
    }
   ],
   "source": [
    "df_ecoli = create_dataset(\n",
    "    keywords_substrate_filter=[\"Amino-acid transport\", \"Sugar transport\"],\n",
    "    keywords_component_filter=[\"Transmembrane\"],\n",
    "    keywords_transport_filter=[\"Transport\"],\n",
    "    input_file=\"../data/raw/swissprot/uniprot-reviewed_yes.tab.gz\",\n",
    "    multi_substrate=\"integrate\",\n",
    "    outliers=['P76773', 'Q47706', 'P64550', 'P02943', 'P75733', 'P69856'],\n",
    "    verbose=True,\n",
    "    tax_ids_filter=[83333],\n",
    "    output_log=LOG_FILE,\n",
    "    sequence_clustering=70\n",
    ")"
   ]
  },
  {
   "cell_type": "code",
   "execution_count": 20,
   "metadata": {},
   "outputs": [],
   "source": [
    "df_ecoli_pssm = calculate_pssms_notebook(df_ecoli.sequence)"
   ]
  },
  {
   "cell_type": "code",
   "execution_count": 21,
   "metadata": {},
   "outputs": [],
   "source": [
    "X_ecoli, y_ecoli, feature_names, sample_names = preprocess_pandas(df_ecoli_pssm, labels=df_ecoli.keywords_transport, return_names=True)"
   ]
  },
  {
   "cell_type": "code",
   "execution_count": 22,
   "metadata": {},
   "outputs": [
    {
     "data": {
      "text/html": [
       "<div>\n",
       "<style scoped>\n",
       "    .dataframe tbody tr th:only-of-type {\n",
       "        vertical-align: middle;\n",
       "    }\n",
       "\n",
       "    .dataframe tbody tr th {\n",
       "        vertical-align: top;\n",
       "    }\n",
       "\n",
       "    .dataframe thead th {\n",
       "        text-align: right;\n",
       "    }\n",
       "</style>\n",
       "<table border=\"1\" class=\"dataframe\">\n",
       "  <thead>\n",
       "    <tr style=\"text-align: right;\">\n",
       "      <th>predicted</th>\n",
       "      <th>Amino-acid transport</th>\n",
       "      <th>Sugar transport</th>\n",
       "    </tr>\n",
       "    <tr>\n",
       "      <th>observed</th>\n",
       "      <th></th>\n",
       "      <th></th>\n",
       "    </tr>\n",
       "  </thead>\n",
       "  <tbody>\n",
       "    <tr>\n",
       "      <th>Amino-acid transport</th>\n",
       "      <td>8</td>\n",
       "      <td>43</td>\n",
       "    </tr>\n",
       "    <tr>\n",
       "      <th>Sugar transport</th>\n",
       "      <td>0</td>\n",
       "      <td>47</td>\n",
       "    </tr>\n",
       "  </tbody>\n",
       "</table>\n",
       "</div>"
      ],
      "text/plain": [
       "predicted             Amino-acid transport  Sugar transport\n",
       "observed                                                   \n",
       "Amino-acid transport                     8               43\n",
       "Sugar transport                          0               47"
      ]
     },
     "execution_count": 22,
     "metadata": {},
     "output_type": "execute_result"
    }
   ],
   "source": [
    "get_confusion_matrix(X_test=X_ecoli, y_test=y_ecoli, clf=best_estimator_at, labels=labels)"
   ]
  },
  {
   "cell_type": "code",
   "execution_count": 23,
   "metadata": {},
   "outputs": [
    {
     "data": {
      "text/html": [
       "<div>\n",
       "<style scoped>\n",
       "    .dataframe tbody tr th:only-of-type {\n",
       "        vertical-align: middle;\n",
       "    }\n",
       "\n",
       "    .dataframe tbody tr th {\n",
       "        vertical-align: top;\n",
       "    }\n",
       "\n",
       "    .dataframe thead th {\n",
       "        text-align: right;\n",
       "    }\n",
       "</style>\n",
       "<table border=\"1\" class=\"dataframe\">\n",
       "  <thead>\n",
       "    <tr style=\"text-align: right;\">\n",
       "      <th></th>\n",
       "      <th>precision</th>\n",
       "      <th>recall</th>\n",
       "      <th>f1-score</th>\n",
       "      <th>support</th>\n",
       "    </tr>\n",
       "  </thead>\n",
       "  <tbody>\n",
       "    <tr>\n",
       "      <th>Amino-acid transport</th>\n",
       "      <td>1.000</td>\n",
       "      <td>0.157</td>\n",
       "      <td>0.271</td>\n",
       "      <td>51</td>\n",
       "    </tr>\n",
       "    <tr>\n",
       "      <th>Sugar transport</th>\n",
       "      <td>0.522</td>\n",
       "      <td>1.000</td>\n",
       "      <td>0.686</td>\n",
       "      <td>47</td>\n",
       "    </tr>\n",
       "    <tr>\n",
       "      <th>macro avg</th>\n",
       "      <td>0.761</td>\n",
       "      <td>0.578</td>\n",
       "      <td>0.479</td>\n",
       "      <td>98</td>\n",
       "    </tr>\n",
       "    <tr>\n",
       "      <th>weighted avg</th>\n",
       "      <td>0.771</td>\n",
       "      <td>0.561</td>\n",
       "      <td>0.470</td>\n",
       "      <td>98</td>\n",
       "    </tr>\n",
       "  </tbody>\n",
       "</table>\n",
       "</div>"
      ],
      "text/plain": [
       "                      precision  recall  f1-score  support\n",
       "Amino-acid transport      1.000   0.157     0.271       51\n",
       "Sugar transport           0.522   1.000     0.686       47\n",
       "macro avg                 0.761   0.578     0.479       98\n",
       "weighted avg              0.771   0.561     0.470       98"
      ]
     },
     "execution_count": 23,
     "metadata": {},
     "output_type": "execute_result"
    }
   ],
   "source": [
    "get_classification_report(\n",
    "    X_test=X_ecoli, y_test=y_ecoli, clf=best_estimator_at, labels=labels\n",
    ")"
   ]
  },
  {
   "cell_type": "markdown",
   "metadata": {},
   "source": [
    "# Testing on Yeast"
   ]
  },
  {
   "cell_type": "code",
   "execution_count": 24,
   "metadata": {},
   "outputs": [
    {
     "name": "stdout",
     "output_type": "stream",
     "text": [
      "cd-hit: clustered 64 sequences into 51 clusters at threshold 70\n"
     ]
    }
   ],
   "source": [
    "df_yeast = create_dataset(\n",
    "    keywords_substrate_filter=[\"Amino-acid transport\", \"Sugar transport\"],\n",
    "    keywords_component_filter=[\"Membrane\"],\n",
    "    keywords_transport_filter=[\"Transport\"],\n",
    "    input_file=\"../data/raw/swissprot/uniprot-reviewed_yes.tab.gz\",\n",
    "    multi_substrate=\"integrate\",\n",
    "    verbose=True,\n",
    "    tax_ids_filter=[559292],\n",
    "    output_log=LOG_FILE,\n",
    "    sequence_clustering=70,\n",
    ")"
   ]
  },
  {
   "cell_type": "code",
   "execution_count": 25,
   "metadata": {},
   "outputs": [],
   "source": [
    "df_yeast_pssm = calculate_pssms_notebook(df_yeast.sequence)"
   ]
  },
  {
   "cell_type": "code",
   "execution_count": 26,
   "metadata": {},
   "outputs": [],
   "source": [
    "X_yeast, y_yeast= preprocess_pandas(df_yeast_pssm, labels=df_yeast.keywords_transport)"
   ]
  },
  {
   "cell_type": "code",
   "execution_count": 27,
   "metadata": {},
   "outputs": [
    {
     "data": {
      "text/html": [
       "<div>\n",
       "<style scoped>\n",
       "    .dataframe tbody tr th:only-of-type {\n",
       "        vertical-align: middle;\n",
       "    }\n",
       "\n",
       "    .dataframe tbody tr th {\n",
       "        vertical-align: top;\n",
       "    }\n",
       "\n",
       "    .dataframe thead th {\n",
       "        text-align: right;\n",
       "    }\n",
       "</style>\n",
       "<table border=\"1\" class=\"dataframe\">\n",
       "  <thead>\n",
       "    <tr style=\"text-align: right;\">\n",
       "      <th>predicted</th>\n",
       "      <th>Amino-acid transport</th>\n",
       "      <th>Sugar transport</th>\n",
       "    </tr>\n",
       "    <tr>\n",
       "      <th>observed</th>\n",
       "      <th></th>\n",
       "      <th></th>\n",
       "    </tr>\n",
       "  </thead>\n",
       "  <tbody>\n",
       "    <tr>\n",
       "      <th>Amino-acid transport</th>\n",
       "      <td>9</td>\n",
       "      <td>25</td>\n",
       "    </tr>\n",
       "    <tr>\n",
       "      <th>Sugar transport</th>\n",
       "      <td>0</td>\n",
       "      <td>17</td>\n",
       "    </tr>\n",
       "  </tbody>\n",
       "</table>\n",
       "</div>"
      ],
      "text/plain": [
       "predicted             Amino-acid transport  Sugar transport\n",
       "observed                                                   \n",
       "Amino-acid transport                     9               25\n",
       "Sugar transport                          0               17"
      ]
     },
     "execution_count": 27,
     "metadata": {},
     "output_type": "execute_result"
    }
   ],
   "source": [
    "get_confusion_matrix(X_test=X_yeast, y_test=y_yeast, clf=best_estimator_at, labels=labels)"
   ]
  },
  {
   "cell_type": "code",
   "execution_count": 29,
   "metadata": {},
   "outputs": [
    {
     "data": {
      "text/html": [
       "<div>\n",
       "<style scoped>\n",
       "    .dataframe tbody tr th:only-of-type {\n",
       "        vertical-align: middle;\n",
       "    }\n",
       "\n",
       "    .dataframe tbody tr th {\n",
       "        vertical-align: top;\n",
       "    }\n",
       "\n",
       "    .dataframe thead th {\n",
       "        text-align: right;\n",
       "    }\n",
       "</style>\n",
       "<table border=\"1\" class=\"dataframe\">\n",
       "  <thead>\n",
       "    <tr style=\"text-align: right;\">\n",
       "      <th></th>\n",
       "      <th>precision</th>\n",
       "      <th>recall</th>\n",
       "      <th>f1-score</th>\n",
       "      <th>support</th>\n",
       "    </tr>\n",
       "  </thead>\n",
       "  <tbody>\n",
       "    <tr>\n",
       "      <th>Amino-acid transport</th>\n",
       "      <td>1.000</td>\n",
       "      <td>0.157</td>\n",
       "      <td>0.271</td>\n",
       "      <td>51</td>\n",
       "    </tr>\n",
       "    <tr>\n",
       "      <th>Sugar transport</th>\n",
       "      <td>0.522</td>\n",
       "      <td>1.000</td>\n",
       "      <td>0.686</td>\n",
       "      <td>47</td>\n",
       "    </tr>\n",
       "    <tr>\n",
       "      <th>macro avg</th>\n",
       "      <td>0.761</td>\n",
       "      <td>0.578</td>\n",
       "      <td>0.479</td>\n",
       "      <td>98</td>\n",
       "    </tr>\n",
       "    <tr>\n",
       "      <th>weighted avg</th>\n",
       "      <td>0.771</td>\n",
       "      <td>0.561</td>\n",
       "      <td>0.470</td>\n",
       "      <td>98</td>\n",
       "    </tr>\n",
       "  </tbody>\n",
       "</table>\n",
       "</div>"
      ],
      "text/plain": [
       "                      precision  recall  f1-score  support\n",
       "Amino-acid transport      1.000   0.157     0.271       51\n",
       "Sugar transport           0.522   1.000     0.686       47\n",
       "macro avg                 0.761   0.578     0.479       98\n",
       "weighted avg              0.771   0.561     0.470       98"
      ]
     },
     "execution_count": 29,
     "metadata": {},
     "output_type": "execute_result"
    }
   ],
   "source": [
    "get_classification_report(\n",
    "    X_test=X_ecoli, y_test=y_ecoli, clf=best_estimator_at, labels=labels\n",
    ")"
   ]
  },
  {
   "cell_type": "markdown",
   "metadata": {},
   "source": [
    "## Conclusion\n",
    "\n",
    "As with the other two features, transferring PSSM-based models between organisms is not really possible. The decision function seems to be in the wrong position when providing data from another organism."
   ]
  }
 ],
 "metadata": {
  "interpreter": {
   "hash": "7d9587acfc26b94842e9ed1391c37acbb1c055ffb7f48359e727081012dc2cc7"
  },
  "kernelspec": {
   "display_name": "Python 3.9.11 ('subpred')",
   "language": "python",
   "name": "python3"
  },
  "language_info": {
   "codemirror_mode": {
    "name": "ipython",
    "version": 3
   },
   "file_extension": ".py",
   "mimetype": "text/x-python",
   "name": "python",
   "nbconvert_exporter": "python",
   "pygments_lexer": "ipython3",
   "version": "3.9.12"
  },
  "orig_nbformat": 4
 },
 "nbformat": 4,
 "nbformat_minor": 2
}
