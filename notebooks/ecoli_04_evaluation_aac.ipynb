{
 "cells": [
  {
   "cell_type": "markdown",
   "metadata": {},
   "source": [
    "# Feature performance comparison\n",
    "\n",
    "The purpose of this notebook is to compare the classification performance of the individual features, and their combination"
   ]
  },
  {
   "cell_type": "markdown",
   "metadata": {},
   "source": [
    "# Imports"
   ]
  },
  {
   "cell_type": "code",
   "execution_count": 26,
   "metadata": {},
   "outputs": [],
   "source": [
    "from subpred.transporter_dataset import create_dataset\n",
    "from subpred.eval import (\n",
    "    get_independent_test_set,\n",
    "    optimize_hyperparams,\n",
    "    preprocess_pandas,\n",
    "    models_quick_compare,\n",
    "    get_confusion_matrix,\n",
    "    get_classification_report,\n",
    "    full_test\n",
    ")\n",
    "from subpred.compositions import calculate_aac"
   ]
  },
  {
   "cell_type": "markdown",
   "metadata": {},
   "source": [
    "# Dataset"
   ]
  },
  {
   "cell_type": "code",
   "execution_count": 2,
   "metadata": {},
   "outputs": [
    {
     "name": "stdout",
     "output_type": "stream",
     "text": [
      "cd-hit: clustered 100 sequences into 99 clusters at threshold 70\n"
     ]
    }
   ],
   "source": [
    "df = create_dataset(\n",
    "    keywords_substrate_filter = [\"Amino-acid transport\",\"Sugar transport\"],\n",
    "    keywords_component_filter = [\"Transmembrane\"],\n",
    "    keywords_transport_filter = [\"Transport\"],\n",
    "    input_file = \"../data/raw/swissprot/uniprot-reviewed_yes.tab.gz\",\n",
    "    multi_substrate = \"integrate\",\n",
    "    outliers= ['P76773', 'Q47706', 'P02943', 'P75733', 'P69856'],\n",
    "    verbose = True,\n",
    "    tax_ids_filter = [83333],\n",
    "    output_log = \"../logs/ecoli_amino_sugar_dataset.log\",\n",
    "    sequence_clustering=70\n",
    ")"
   ]
  },
  {
   "cell_type": "markdown",
   "metadata": {},
   "source": [
    "# Feature generation\n",
    "\n",
    "## Labels"
   ]
  },
  {
   "cell_type": "code",
   "execution_count": 4,
   "metadata": {},
   "outputs": [
    {
     "data": {
      "text/plain": [
       "Amino-acid transport    52\n",
       "Sugar transport         47\n",
       "Name: keywords_transport, dtype: int64"
      ]
     },
     "execution_count": 4,
     "metadata": {},
     "output_type": "execute_result"
    }
   ],
   "source": [
    "labels = df.keywords_transport\n",
    "labels.value_counts()"
   ]
  },
  {
   "cell_type": "markdown",
   "metadata": {},
   "source": [
    "## AAC"
   ]
  },
  {
   "cell_type": "code",
   "execution_count": 5,
   "metadata": {},
   "outputs": [
    {
     "data": {
      "text/html": [
       "<div>\n",
       "<style scoped>\n",
       "    .dataframe tbody tr th:only-of-type {\n",
       "        vertical-align: middle;\n",
       "    }\n",
       "\n",
       "    .dataframe tbody tr th {\n",
       "        vertical-align: top;\n",
       "    }\n",
       "\n",
       "    .dataframe thead th {\n",
       "        text-align: right;\n",
       "    }\n",
       "</style>\n",
       "<table border=\"1\" class=\"dataframe\">\n",
       "  <thead>\n",
       "    <tr style=\"text-align: right;\">\n",
       "      <th></th>\n",
       "      <th>A</th>\n",
       "      <th>C</th>\n",
       "      <th>D</th>\n",
       "      <th>E</th>\n",
       "      <th>F</th>\n",
       "      <th>G</th>\n",
       "      <th>H</th>\n",
       "      <th>I</th>\n",
       "      <th>K</th>\n",
       "      <th>L</th>\n",
       "      <th>M</th>\n",
       "      <th>N</th>\n",
       "      <th>P</th>\n",
       "      <th>Q</th>\n",
       "      <th>R</th>\n",
       "      <th>S</th>\n",
       "      <th>T</th>\n",
       "      <th>V</th>\n",
       "      <th>W</th>\n",
       "      <th>Y</th>\n",
       "    </tr>\n",
       "    <tr>\n",
       "      <th>Uniprot</th>\n",
       "      <th></th>\n",
       "      <th></th>\n",
       "      <th></th>\n",
       "      <th></th>\n",
       "      <th></th>\n",
       "      <th></th>\n",
       "      <th></th>\n",
       "      <th></th>\n",
       "      <th></th>\n",
       "      <th></th>\n",
       "      <th></th>\n",
       "      <th></th>\n",
       "      <th></th>\n",
       "      <th></th>\n",
       "      <th></th>\n",
       "      <th></th>\n",
       "      <th></th>\n",
       "      <th></th>\n",
       "      <th></th>\n",
       "      <th></th>\n",
       "    </tr>\n",
       "  </thead>\n",
       "  <tbody>\n",
       "    <tr>\n",
       "      <th>P69801</th>\n",
       "      <td>0.150376</td>\n",
       "      <td>0.007519</td>\n",
       "      <td>0.030075</td>\n",
       "      <td>0.022556</td>\n",
       "      <td>0.037594</td>\n",
       "      <td>0.093985</td>\n",
       "      <td>0.015038</td>\n",
       "      <td>0.120301</td>\n",
       "      <td>0.011278</td>\n",
       "      <td>0.101504</td>\n",
       "      <td>0.048872</td>\n",
       "      <td>0.052632</td>\n",
       "      <td>0.030075</td>\n",
       "      <td>0.033835</td>\n",
       "      <td>0.018797</td>\n",
       "      <td>0.037594</td>\n",
       "      <td>0.056391</td>\n",
       "      <td>0.105263</td>\n",
       "      <td>0.007519</td>\n",
       "      <td>0.018797</td>\n",
       "    </tr>\n",
       "    <tr>\n",
       "      <th>P36672</th>\n",
       "      <td>0.093023</td>\n",
       "      <td>0.012685</td>\n",
       "      <td>0.023256</td>\n",
       "      <td>0.023256</td>\n",
       "      <td>0.044397</td>\n",
       "      <td>0.103594</td>\n",
       "      <td>0.016913</td>\n",
       "      <td>0.105708</td>\n",
       "      <td>0.029598</td>\n",
       "      <td>0.120507</td>\n",
       "      <td>0.038055</td>\n",
       "      <td>0.031712</td>\n",
       "      <td>0.052854</td>\n",
       "      <td>0.052854</td>\n",
       "      <td>0.033827</td>\n",
       "      <td>0.048626</td>\n",
       "      <td>0.040169</td>\n",
       "      <td>0.082452</td>\n",
       "      <td>0.014799</td>\n",
       "      <td>0.031712</td>\n",
       "    </tr>\n",
       "    <tr>\n",
       "      <th>P56580</th>\n",
       "      <td>0.097179</td>\n",
       "      <td>0.012539</td>\n",
       "      <td>0.040752</td>\n",
       "      <td>0.034483</td>\n",
       "      <td>0.034483</td>\n",
       "      <td>0.122257</td>\n",
       "      <td>0.015674</td>\n",
       "      <td>0.100313</td>\n",
       "      <td>0.040752</td>\n",
       "      <td>0.100313</td>\n",
       "      <td>0.018809</td>\n",
       "      <td>0.012539</td>\n",
       "      <td>0.065831</td>\n",
       "      <td>0.034483</td>\n",
       "      <td>0.031348</td>\n",
       "      <td>0.056426</td>\n",
       "      <td>0.062696</td>\n",
       "      <td>0.087774</td>\n",
       "      <td>0.012539</td>\n",
       "      <td>0.018809</td>\n",
       "    </tr>\n",
       "    <tr>\n",
       "      <th>P0AA47</th>\n",
       "      <td>0.106195</td>\n",
       "      <td>0.006637</td>\n",
       "      <td>0.028761</td>\n",
       "      <td>0.026549</td>\n",
       "      <td>0.077434</td>\n",
       "      <td>0.070796</td>\n",
       "      <td>0.013274</td>\n",
       "      <td>0.075221</td>\n",
       "      <td>0.030973</td>\n",
       "      <td>0.110619</td>\n",
       "      <td>0.044248</td>\n",
       "      <td>0.030973</td>\n",
       "      <td>0.046460</td>\n",
       "      <td>0.019912</td>\n",
       "      <td>0.033186</td>\n",
       "      <td>0.064159</td>\n",
       "      <td>0.064159</td>\n",
       "      <td>0.097345</td>\n",
       "      <td>0.015487</td>\n",
       "      <td>0.037611</td>\n",
       "    </tr>\n",
       "    <tr>\n",
       "      <th>P08722</th>\n",
       "      <td>0.100800</td>\n",
       "      <td>0.012800</td>\n",
       "      <td>0.038400</td>\n",
       "      <td>0.033600</td>\n",
       "      <td>0.062400</td>\n",
       "      <td>0.100800</td>\n",
       "      <td>0.016000</td>\n",
       "      <td>0.092800</td>\n",
       "      <td>0.035200</td>\n",
       "      <td>0.108800</td>\n",
       "      <td>0.024000</td>\n",
       "      <td>0.027200</td>\n",
       "      <td>0.054400</td>\n",
       "      <td>0.030400</td>\n",
       "      <td>0.024000</td>\n",
       "      <td>0.056000</td>\n",
       "      <td>0.065600</td>\n",
       "      <td>0.084800</td>\n",
       "      <td>0.014400</td>\n",
       "      <td>0.017600</td>\n",
       "    </tr>\n",
       "    <tr>\n",
       "      <th>...</th>\n",
       "      <td>...</td>\n",
       "      <td>...</td>\n",
       "      <td>...</td>\n",
       "      <td>...</td>\n",
       "      <td>...</td>\n",
       "      <td>...</td>\n",
       "      <td>...</td>\n",
       "      <td>...</td>\n",
       "      <td>...</td>\n",
       "      <td>...</td>\n",
       "      <td>...</td>\n",
       "      <td>...</td>\n",
       "      <td>...</td>\n",
       "      <td>...</td>\n",
       "      <td>...</td>\n",
       "      <td>...</td>\n",
       "      <td>...</td>\n",
       "      <td>...</td>\n",
       "      <td>...</td>\n",
       "      <td>...</td>\n",
       "    </tr>\n",
       "    <tr>\n",
       "      <th>P19642</th>\n",
       "      <td>0.090566</td>\n",
       "      <td>0.013208</td>\n",
       "      <td>0.026415</td>\n",
       "      <td>0.024528</td>\n",
       "      <td>0.066038</td>\n",
       "      <td>0.105660</td>\n",
       "      <td>0.024528</td>\n",
       "      <td>0.084906</td>\n",
       "      <td>0.032075</td>\n",
       "      <td>0.120755</td>\n",
       "      <td>0.033962</td>\n",
       "      <td>0.037736</td>\n",
       "      <td>0.045283</td>\n",
       "      <td>0.032075</td>\n",
       "      <td>0.028302</td>\n",
       "      <td>0.056604</td>\n",
       "      <td>0.056604</td>\n",
       "      <td>0.094340</td>\n",
       "      <td>0.013208</td>\n",
       "      <td>0.013208</td>\n",
       "    </tr>\n",
       "    <tr>\n",
       "      <th>P0AAD4</th>\n",
       "      <td>0.116625</td>\n",
       "      <td>0.007444</td>\n",
       "      <td>0.019851</td>\n",
       "      <td>0.012407</td>\n",
       "      <td>0.064516</td>\n",
       "      <td>0.106700</td>\n",
       "      <td>0.019851</td>\n",
       "      <td>0.062035</td>\n",
       "      <td>0.017370</td>\n",
       "      <td>0.171216</td>\n",
       "      <td>0.032258</td>\n",
       "      <td>0.019851</td>\n",
       "      <td>0.037221</td>\n",
       "      <td>0.027295</td>\n",
       "      <td>0.032258</td>\n",
       "      <td>0.059553</td>\n",
       "      <td>0.057072</td>\n",
       "      <td>0.091811</td>\n",
       "      <td>0.014888</td>\n",
       "      <td>0.029777</td>\n",
       "    </tr>\n",
       "    <tr>\n",
       "      <th>P23173</th>\n",
       "      <td>0.084337</td>\n",
       "      <td>0.016867</td>\n",
       "      <td>0.024096</td>\n",
       "      <td>0.012048</td>\n",
       "      <td>0.093976</td>\n",
       "      <td>0.096386</td>\n",
       "      <td>0.014458</td>\n",
       "      <td>0.113253</td>\n",
       "      <td>0.040964</td>\n",
       "      <td>0.120482</td>\n",
       "      <td>0.019277</td>\n",
       "      <td>0.043373</td>\n",
       "      <td>0.033735</td>\n",
       "      <td>0.009639</td>\n",
       "      <td>0.016867</td>\n",
       "      <td>0.079518</td>\n",
       "      <td>0.050602</td>\n",
       "      <td>0.072289</td>\n",
       "      <td>0.024096</td>\n",
       "      <td>0.033735</td>\n",
       "    </tr>\n",
       "    <tr>\n",
       "      <th>P33361</th>\n",
       "      <td>0.135065</td>\n",
       "      <td>0.012987</td>\n",
       "      <td>0.025974</td>\n",
       "      <td>0.007792</td>\n",
       "      <td>0.044156</td>\n",
       "      <td>0.083117</td>\n",
       "      <td>0.012987</td>\n",
       "      <td>0.067532</td>\n",
       "      <td>0.015584</td>\n",
       "      <td>0.197403</td>\n",
       "      <td>0.023377</td>\n",
       "      <td>0.020779</td>\n",
       "      <td>0.046753</td>\n",
       "      <td>0.038961</td>\n",
       "      <td>0.041558</td>\n",
       "      <td>0.046753</td>\n",
       "      <td>0.044156</td>\n",
       "      <td>0.090909</td>\n",
       "      <td>0.028571</td>\n",
       "      <td>0.015584</td>\n",
       "    </tr>\n",
       "    <tr>\n",
       "      <th>P39328</th>\n",
       "      <td>0.114370</td>\n",
       "      <td>0.005865</td>\n",
       "      <td>0.029326</td>\n",
       "      <td>0.008798</td>\n",
       "      <td>0.038123</td>\n",
       "      <td>0.102639</td>\n",
       "      <td>0.002933</td>\n",
       "      <td>0.099707</td>\n",
       "      <td>0.020528</td>\n",
       "      <td>0.155425</td>\n",
       "      <td>0.035191</td>\n",
       "      <td>0.032258</td>\n",
       "      <td>0.043988</td>\n",
       "      <td>0.032258</td>\n",
       "      <td>0.041056</td>\n",
       "      <td>0.049853</td>\n",
       "      <td>0.061584</td>\n",
       "      <td>0.105572</td>\n",
       "      <td>0.017595</td>\n",
       "      <td>0.002933</td>\n",
       "    </tr>\n",
       "  </tbody>\n",
       "</table>\n",
       "<p>99 rows × 20 columns</p>\n",
       "</div>"
      ],
      "text/plain": [
       "                A         C         D         E         F         G         H  \\\n",
       "Uniprot                                                                         \n",
       "P69801   0.150376  0.007519  0.030075  0.022556  0.037594  0.093985  0.015038   \n",
       "P36672   0.093023  0.012685  0.023256  0.023256  0.044397  0.103594  0.016913   \n",
       "P56580   0.097179  0.012539  0.040752  0.034483  0.034483  0.122257  0.015674   \n",
       "P0AA47   0.106195  0.006637  0.028761  0.026549  0.077434  0.070796  0.013274   \n",
       "P08722   0.100800  0.012800  0.038400  0.033600  0.062400  0.100800  0.016000   \n",
       "...           ...       ...       ...       ...       ...       ...       ...   \n",
       "P19642   0.090566  0.013208  0.026415  0.024528  0.066038  0.105660  0.024528   \n",
       "P0AAD4   0.116625  0.007444  0.019851  0.012407  0.064516  0.106700  0.019851   \n",
       "P23173   0.084337  0.016867  0.024096  0.012048  0.093976  0.096386  0.014458   \n",
       "P33361   0.135065  0.012987  0.025974  0.007792  0.044156  0.083117  0.012987   \n",
       "P39328   0.114370  0.005865  0.029326  0.008798  0.038123  0.102639  0.002933   \n",
       "\n",
       "                I         K         L         M         N         P         Q  \\\n",
       "Uniprot                                                                         \n",
       "P69801   0.120301  0.011278  0.101504  0.048872  0.052632  0.030075  0.033835   \n",
       "P36672   0.105708  0.029598  0.120507  0.038055  0.031712  0.052854  0.052854   \n",
       "P56580   0.100313  0.040752  0.100313  0.018809  0.012539  0.065831  0.034483   \n",
       "P0AA47   0.075221  0.030973  0.110619  0.044248  0.030973  0.046460  0.019912   \n",
       "P08722   0.092800  0.035200  0.108800  0.024000  0.027200  0.054400  0.030400   \n",
       "...           ...       ...       ...       ...       ...       ...       ...   \n",
       "P19642   0.084906  0.032075  0.120755  0.033962  0.037736  0.045283  0.032075   \n",
       "P0AAD4   0.062035  0.017370  0.171216  0.032258  0.019851  0.037221  0.027295   \n",
       "P23173   0.113253  0.040964  0.120482  0.019277  0.043373  0.033735  0.009639   \n",
       "P33361   0.067532  0.015584  0.197403  0.023377  0.020779  0.046753  0.038961   \n",
       "P39328   0.099707  0.020528  0.155425  0.035191  0.032258  0.043988  0.032258   \n",
       "\n",
       "                R         S         T         V         W         Y  \n",
       "Uniprot                                                              \n",
       "P69801   0.018797  0.037594  0.056391  0.105263  0.007519  0.018797  \n",
       "P36672   0.033827  0.048626  0.040169  0.082452  0.014799  0.031712  \n",
       "P56580   0.031348  0.056426  0.062696  0.087774  0.012539  0.018809  \n",
       "P0AA47   0.033186  0.064159  0.064159  0.097345  0.015487  0.037611  \n",
       "P08722   0.024000  0.056000  0.065600  0.084800  0.014400  0.017600  \n",
       "...           ...       ...       ...       ...       ...       ...  \n",
       "P19642   0.028302  0.056604  0.056604  0.094340  0.013208  0.013208  \n",
       "P0AAD4   0.032258  0.059553  0.057072  0.091811  0.014888  0.029777  \n",
       "P23173   0.016867  0.079518  0.050602  0.072289  0.024096  0.033735  \n",
       "P33361   0.041558  0.046753  0.044156  0.090909  0.028571  0.015584  \n",
       "P39328   0.041056  0.049853  0.061584  0.105572  0.017595  0.002933  \n",
       "\n",
       "[99 rows x 20 columns]"
      ]
     },
     "execution_count": 5,
     "metadata": {},
     "output_type": "execute_result"
    }
   ],
   "source": [
    "df_aac = calculate_aac(df.sequence)\n",
    "df_aac"
   ]
  },
  {
   "cell_type": "markdown",
   "metadata": {},
   "source": [
    "### Independent test set"
   ]
  },
  {
   "cell_type": "code",
   "execution_count": 6,
   "metadata": {},
   "outputs": [],
   "source": [
    "X, y, feature_names, sample_names = preprocess_pandas(\n",
    "    df_aac, labels, return_names=True\n",
    ")\n",
    "(\n",
    "    X_train,\n",
    "    X_test,\n",
    "    y_train,\n",
    "    y_test,\n",
    "    sample_names_train,\n",
    "    sample_names_test,\n",
    ") = get_independent_test_set(X, y, sample_names=sample_names, test_size=0.2)\n",
    "\n"
   ]
  },
  {
   "cell_type": "markdown",
   "metadata": {},
   "source": [
    "### Model selection\n",
    "\n",
    "SVC (with default RBF kernel) looks the most promising."
   ]
  },
  {
   "cell_type": "code",
   "execution_count": 7,
   "metadata": {},
   "outputs": [
    {
     "data": {
      "text/html": [
       "<div>\n",
       "<style scoped>\n",
       "    .dataframe tbody tr th:only-of-type {\n",
       "        vertical-align: middle;\n",
       "    }\n",
       "\n",
       "    .dataframe tbody tr th {\n",
       "        vertical-align: top;\n",
       "    }\n",
       "\n",
       "    .dataframe thead th {\n",
       "        text-align: right;\n",
       "    }\n",
       "</style>\n",
       "<table border=\"1\" class=\"dataframe\">\n",
       "  <thead>\n",
       "    <tr style=\"text-align: right;\">\n",
       "      <th></th>\n",
       "      <th>0</th>\n",
       "      <th>1</th>\n",
       "      <th>2</th>\n",
       "      <th>3</th>\n",
       "      <th>4</th>\n",
       "      <th>mean</th>\n",
       "      <th>std</th>\n",
       "    </tr>\n",
       "    <tr>\n",
       "      <th>est</th>\n",
       "      <th></th>\n",
       "      <th></th>\n",
       "      <th></th>\n",
       "      <th></th>\n",
       "      <th></th>\n",
       "      <th></th>\n",
       "      <th></th>\n",
       "    </tr>\n",
       "  </thead>\n",
       "  <tbody>\n",
       "    <tr>\n",
       "      <th>GaussianNB()</th>\n",
       "      <td>0.746</td>\n",
       "      <td>0.619</td>\n",
       "      <td>0.686</td>\n",
       "      <td>0.686</td>\n",
       "      <td>0.722</td>\n",
       "      <td>0.692</td>\n",
       "      <td>0.048</td>\n",
       "    </tr>\n",
       "    <tr>\n",
       "      <th>KNeighborsClassifier()</th>\n",
       "      <td>0.812</td>\n",
       "      <td>0.625</td>\n",
       "      <td>0.686</td>\n",
       "      <td>0.746</td>\n",
       "      <td>0.800</td>\n",
       "      <td>0.734</td>\n",
       "      <td>0.079</td>\n",
       "    </tr>\n",
       "    <tr>\n",
       "      <th>LinearSVC(class_weight='balanced', max_iter=1000000.0)</th>\n",
       "      <td>0.686</td>\n",
       "      <td>0.686</td>\n",
       "      <td>0.686</td>\n",
       "      <td>0.746</td>\n",
       "      <td>0.732</td>\n",
       "      <td>0.707</td>\n",
       "      <td>0.029</td>\n",
       "    </tr>\n",
       "    <tr>\n",
       "      <th>LinearSVC(max_iter=1000000.0)</th>\n",
       "      <td>0.686</td>\n",
       "      <td>0.686</td>\n",
       "      <td>0.686</td>\n",
       "      <td>0.746</td>\n",
       "      <td>0.732</td>\n",
       "      <td>0.707</td>\n",
       "      <td>0.029</td>\n",
       "    </tr>\n",
       "    <tr>\n",
       "      <th>RandomForestClassifier()</th>\n",
       "      <td>0.750</td>\n",
       "      <td>0.619</td>\n",
       "      <td>0.686</td>\n",
       "      <td>0.561</td>\n",
       "      <td>0.796</td>\n",
       "      <td>0.682</td>\n",
       "      <td>0.095</td>\n",
       "    </tr>\n",
       "    <tr>\n",
       "      <th>RandomForestClassifier(class_weight='balanced')</th>\n",
       "      <td>0.686</td>\n",
       "      <td>0.625</td>\n",
       "      <td>0.686</td>\n",
       "      <td>0.686</td>\n",
       "      <td>0.796</td>\n",
       "      <td>0.696</td>\n",
       "      <td>0.062</td>\n",
       "    </tr>\n",
       "    <tr>\n",
       "      <th>SGDClassifier()</th>\n",
       "      <td>0.561</td>\n",
       "      <td>0.619</td>\n",
       "      <td>0.686</td>\n",
       "      <td>0.686</td>\n",
       "      <td>0.866</td>\n",
       "      <td>0.684</td>\n",
       "      <td>0.115</td>\n",
       "    </tr>\n",
       "    <tr>\n",
       "      <th>SVC()</th>\n",
       "      <td>0.812</td>\n",
       "      <td>0.676</td>\n",
       "      <td>0.686</td>\n",
       "      <td>0.625</td>\n",
       "      <td>0.861</td>\n",
       "      <td>0.732</td>\n",
       "      <td>0.100</td>\n",
       "    </tr>\n",
       "    <tr>\n",
       "      <th>SVC(class_weight='balanced')</th>\n",
       "      <td>0.812</td>\n",
       "      <td>0.619</td>\n",
       "      <td>0.686</td>\n",
       "      <td>0.686</td>\n",
       "      <td>0.796</td>\n",
       "      <td>0.720</td>\n",
       "      <td>0.082</td>\n",
       "    </tr>\n",
       "  </tbody>\n",
       "</table>\n",
       "</div>"
      ],
      "text/plain": [
       "                                                        0      1      2  \\\n",
       "est                                                                       \n",
       "GaussianNB()                                        0.746  0.619  0.686   \n",
       "KNeighborsClassifier()                              0.812  0.625  0.686   \n",
       "LinearSVC(class_weight='balanced', max_iter=100...  0.686  0.686  0.686   \n",
       "LinearSVC(max_iter=1000000.0)                       0.686  0.686  0.686   \n",
       "RandomForestClassifier()                            0.750  0.619  0.686   \n",
       "RandomForestClassifier(class_weight='balanced')     0.686  0.625  0.686   \n",
       "SGDClassifier()                                     0.561  0.619  0.686   \n",
       "SVC()                                               0.812  0.676  0.686   \n",
       "SVC(class_weight='balanced')                        0.812  0.619  0.686   \n",
       "\n",
       "                                                        3      4   mean    std  \n",
       "est                                                                             \n",
       "GaussianNB()                                        0.686  0.722  0.692  0.048  \n",
       "KNeighborsClassifier()                              0.746  0.800  0.734  0.079  \n",
       "LinearSVC(class_weight='balanced', max_iter=100...  0.746  0.732  0.707  0.029  \n",
       "LinearSVC(max_iter=1000000.0)                       0.746  0.732  0.707  0.029  \n",
       "RandomForestClassifier()                            0.561  0.796  0.682  0.095  \n",
       "RandomForestClassifier(class_weight='balanced')     0.686  0.796  0.696  0.062  \n",
       "SGDClassifier()                                     0.686  0.866  0.684  0.115  \n",
       "SVC()                                               0.625  0.861  0.732  0.100  \n",
       "SVC(class_weight='balanced')                        0.686  0.796  0.720  0.082  "
      ]
     },
     "execution_count": 7,
     "metadata": {},
     "output_type": "execute_result"
    }
   ],
   "source": [
    "models_quick_compare(X_train, y_train)"
   ]
  },
  {
   "cell_type": "markdown",
   "metadata": {},
   "source": [
    "### Parameter tuning\n",
    "\n",
    "The RBF kernel delivers good results, with C=1"
   ]
  },
  {
   "cell_type": "code",
   "execution_count": 11,
   "metadata": {},
   "outputs": [
    {
     "name": "stdout",
     "output_type": "stream",
     "text": [
      "{'linearsvc__C': 1, 'linearsvc__class_weight': 'balanced', 'linearsvc__dual': True, 'linearsvc__max_iter': 100000000.0}\n",
      "0.707\n"
     ]
    }
   ],
   "source": [
    "gsearch = optimize_hyperparams(X_train, y_train, kernel=\"linear\", dim_reduction=None, C=[1,0.1,10])"
   ]
  },
  {
   "cell_type": "code",
   "execution_count": 12,
   "metadata": {},
   "outputs": [
    {
     "name": "stdout",
     "output_type": "stream",
     "text": [
      "{'svc__C': 1, 'svc__class_weight': 'balanced', 'svc__gamma': 0.01}\n",
      "0.745\n"
     ]
    }
   ],
   "source": [
    "gsearch = optimize_hyperparams(X_train, y_train, kernel=\"rbf\", dim_reduction=None, C=[1,0.1,10])\n",
    "best_estimator_svc = gsearch"
   ]
  },
  {
   "cell_type": "markdown",
   "metadata": {},
   "source": [
    "### Dimensionality reduction"
   ]
  },
  {
   "cell_type": "markdown",
   "metadata": {},
   "source": [
    "PCA performs slightly better."
   ]
  },
  {
   "cell_type": "code",
   "execution_count": 14,
   "metadata": {},
   "outputs": [
    {
     "name": "stdout",
     "output_type": "stream",
     "text": [
      "{'selectkbest__k': 8, 'svc__C': 10, 'svc__class_weight': 'balanced', 'svc__gamma': 'scale'}\n",
      "0.796\n"
     ]
    }
   ],
   "source": [
    "gsearch = optimize_hyperparams(\n",
    "    X_train, y_train, kernel=\"rbf\", dim_reduction=\"kbest\", C=[1,10,100]\n",
    ")\n",
    "best_estimator_svc_kbest = gsearch"
   ]
  },
  {
   "cell_type": "code",
   "execution_count": 20,
   "metadata": {},
   "outputs": [
    {
     "name": "stdout",
     "output_type": "stream",
     "text": [
      "{'pca__n_components': 0.8400000000000001, 'svc__C': 1, 'svc__class_weight': 'balanced', 'svc__gamma': 0.01}\n",
      "0.797\n"
     ]
    }
   ],
   "source": [
    "gsearch = optimize_hyperparams(\n",
    "    X_train,\n",
    "    y_train,\n",
    "    kernel=\"rbf\",\n",
    "    dim_reduction=\"pca\",\n",
    "    C=[1, 0.1, 10],\n",
    "    gamma=[\"scale\", 0.1, 0.01, 0.001],\n",
    ")\n",
    "best_estimator_svc_pca = gsearch"
   ]
  },
  {
   "cell_type": "markdown",
   "metadata": {},
   "source": [
    "### Validation\n",
    "\n",
    "PCA leads to the best evaluation, and seems to be the most stable."
   ]
  },
  {
   "cell_type": "code",
   "execution_count": 21,
   "metadata": {},
   "outputs": [
    {
     "data": {
      "text/html": [
       "<div>\n",
       "<style scoped>\n",
       "    .dataframe tbody tr th:only-of-type {\n",
       "        vertical-align: middle;\n",
       "    }\n",
       "\n",
       "    .dataframe tbody tr th {\n",
       "        vertical-align: top;\n",
       "    }\n",
       "\n",
       "    .dataframe thead th {\n",
       "        text-align: right;\n",
       "    }\n",
       "</style>\n",
       "<table border=\"1\" class=\"dataframe\">\n",
       "  <thead>\n",
       "    <tr style=\"text-align: right;\">\n",
       "      <th>predicted</th>\n",
       "      <th>Amino-acid transport</th>\n",
       "      <th>Sugar transport</th>\n",
       "    </tr>\n",
       "    <tr>\n",
       "      <th>observed</th>\n",
       "      <th></th>\n",
       "      <th></th>\n",
       "    </tr>\n",
       "  </thead>\n",
       "  <tbody>\n",
       "    <tr>\n",
       "      <th>Amino-acid transport</th>\n",
       "      <td>6</td>\n",
       "      <td>5</td>\n",
       "    </tr>\n",
       "    <tr>\n",
       "      <th>Sugar transport</th>\n",
       "      <td>2</td>\n",
       "      <td>7</td>\n",
       "    </tr>\n",
       "  </tbody>\n",
       "</table>\n",
       "</div>"
      ],
      "text/plain": [
       "predicted             Amino-acid transport  Sugar transport\n",
       "observed                                                   \n",
       "Amino-acid transport                     6                5\n",
       "Sugar transport                          2                7"
      ]
     },
     "execution_count": 21,
     "metadata": {},
     "output_type": "execute_result"
    }
   ],
   "source": [
    "get_confusion_matrix(X_test, y_test, best_estimator_svc_kbest, labels=labels)"
   ]
  },
  {
   "cell_type": "code",
   "execution_count": 22,
   "metadata": {},
   "outputs": [
    {
     "data": {
      "text/html": [
       "<div>\n",
       "<style scoped>\n",
       "    .dataframe tbody tr th:only-of-type {\n",
       "        vertical-align: middle;\n",
       "    }\n",
       "\n",
       "    .dataframe tbody tr th {\n",
       "        vertical-align: top;\n",
       "    }\n",
       "\n",
       "    .dataframe thead th {\n",
       "        text-align: right;\n",
       "    }\n",
       "</style>\n",
       "<table border=\"1\" class=\"dataframe\">\n",
       "  <thead>\n",
       "    <tr style=\"text-align: right;\">\n",
       "      <th></th>\n",
       "      <th>precision</th>\n",
       "      <th>recall</th>\n",
       "      <th>f1-score</th>\n",
       "      <th>support</th>\n",
       "    </tr>\n",
       "  </thead>\n",
       "  <tbody>\n",
       "    <tr>\n",
       "      <th>Amino-acid transport</th>\n",
       "      <td>0.750</td>\n",
       "      <td>0.545</td>\n",
       "      <td>0.632</td>\n",
       "      <td>11</td>\n",
       "    </tr>\n",
       "    <tr>\n",
       "      <th>Sugar transport</th>\n",
       "      <td>0.583</td>\n",
       "      <td>0.778</td>\n",
       "      <td>0.667</td>\n",
       "      <td>9</td>\n",
       "    </tr>\n",
       "    <tr>\n",
       "      <th>macro avg</th>\n",
       "      <td>0.667</td>\n",
       "      <td>0.662</td>\n",
       "      <td>0.649</td>\n",
       "      <td>20</td>\n",
       "    </tr>\n",
       "    <tr>\n",
       "      <th>weighted avg</th>\n",
       "      <td>0.675</td>\n",
       "      <td>0.650</td>\n",
       "      <td>0.647</td>\n",
       "      <td>20</td>\n",
       "    </tr>\n",
       "  </tbody>\n",
       "</table>\n",
       "</div>"
      ],
      "text/plain": [
       "                      precision  recall  f1-score  support\n",
       "Amino-acid transport      0.750   0.545     0.632       11\n",
       "Sugar transport           0.583   0.778     0.667        9\n",
       "macro avg                 0.667   0.662     0.649       20\n",
       "weighted avg              0.675   0.650     0.647       20"
      ]
     },
     "execution_count": 22,
     "metadata": {},
     "output_type": "execute_result"
    }
   ],
   "source": [
    "get_classification_report(X_test, y_test, best_estimator_svc_kbest, labels=labels)"
   ]
  },
  {
   "cell_type": "code",
   "execution_count": 23,
   "metadata": {},
   "outputs": [
    {
     "data": {
      "text/html": [
       "<div>\n",
       "<style scoped>\n",
       "    .dataframe tbody tr th:only-of-type {\n",
       "        vertical-align: middle;\n",
       "    }\n",
       "\n",
       "    .dataframe tbody tr th {\n",
       "        vertical-align: top;\n",
       "    }\n",
       "\n",
       "    .dataframe thead th {\n",
       "        text-align: right;\n",
       "    }\n",
       "</style>\n",
       "<table border=\"1\" class=\"dataframe\">\n",
       "  <thead>\n",
       "    <tr style=\"text-align: right;\">\n",
       "      <th>predicted</th>\n",
       "      <th>Amino-acid transport</th>\n",
       "      <th>Sugar transport</th>\n",
       "    </tr>\n",
       "    <tr>\n",
       "      <th>observed</th>\n",
       "      <th></th>\n",
       "      <th></th>\n",
       "    </tr>\n",
       "  </thead>\n",
       "  <tbody>\n",
       "    <tr>\n",
       "      <th>Amino-acid transport</th>\n",
       "      <td>10</td>\n",
       "      <td>1</td>\n",
       "    </tr>\n",
       "    <tr>\n",
       "      <th>Sugar transport</th>\n",
       "      <td>1</td>\n",
       "      <td>8</td>\n",
       "    </tr>\n",
       "  </tbody>\n",
       "</table>\n",
       "</div>"
      ],
      "text/plain": [
       "predicted             Amino-acid transport  Sugar transport\n",
       "observed                                                   \n",
       "Amino-acid transport                    10                1\n",
       "Sugar transport                          1                8"
      ]
     },
     "execution_count": 23,
     "metadata": {},
     "output_type": "execute_result"
    }
   ],
   "source": [
    "get_confusion_matrix(X_test, y_test, best_estimator_svc_pca, labels=labels)"
   ]
  },
  {
   "cell_type": "code",
   "execution_count": 24,
   "metadata": {},
   "outputs": [
    {
     "data": {
      "text/html": [
       "<div>\n",
       "<style scoped>\n",
       "    .dataframe tbody tr th:only-of-type {\n",
       "        vertical-align: middle;\n",
       "    }\n",
       "\n",
       "    .dataframe tbody tr th {\n",
       "        vertical-align: top;\n",
       "    }\n",
       "\n",
       "    .dataframe thead th {\n",
       "        text-align: right;\n",
       "    }\n",
       "</style>\n",
       "<table border=\"1\" class=\"dataframe\">\n",
       "  <thead>\n",
       "    <tr style=\"text-align: right;\">\n",
       "      <th></th>\n",
       "      <th>precision</th>\n",
       "      <th>recall</th>\n",
       "      <th>f1-score</th>\n",
       "      <th>support</th>\n",
       "    </tr>\n",
       "  </thead>\n",
       "  <tbody>\n",
       "    <tr>\n",
       "      <th>Amino-acid transport</th>\n",
       "      <td>0.909</td>\n",
       "      <td>0.909</td>\n",
       "      <td>0.909</td>\n",
       "      <td>11</td>\n",
       "    </tr>\n",
       "    <tr>\n",
       "      <th>Sugar transport</th>\n",
       "      <td>0.889</td>\n",
       "      <td>0.889</td>\n",
       "      <td>0.889</td>\n",
       "      <td>9</td>\n",
       "    </tr>\n",
       "    <tr>\n",
       "      <th>macro avg</th>\n",
       "      <td>0.899</td>\n",
       "      <td>0.899</td>\n",
       "      <td>0.899</td>\n",
       "      <td>20</td>\n",
       "    </tr>\n",
       "    <tr>\n",
       "      <th>weighted avg</th>\n",
       "      <td>0.900</td>\n",
       "      <td>0.900</td>\n",
       "      <td>0.900</td>\n",
       "      <td>20</td>\n",
       "    </tr>\n",
       "  </tbody>\n",
       "</table>\n",
       "</div>"
      ],
      "text/plain": [
       "                      precision  recall  f1-score  support\n",
       "Amino-acid transport      0.909   0.909     0.909       11\n",
       "Sugar transport           0.889   0.889     0.889        9\n",
       "macro avg                 0.899   0.899     0.899       20\n",
       "weighted avg              0.900   0.900     0.900       20"
      ]
     },
     "execution_count": 24,
     "metadata": {},
     "output_type": "execute_result"
    }
   ],
   "source": [
    "get_classification_report(X_test, y_test, best_estimator_svc_pca, labels=labels)"
   ]
  },
  {
   "cell_type": "markdown",
   "metadata": {},
   "source": [
    "## Checking dependence on train test split\n",
    "\n"
   ]
  },
  {
   "cell_type": "code",
   "execution_count": 43,
   "metadata": {},
   "outputs": [],
   "source": [
    "df_scores, df_params = full_test(\n",
    "    df_aac, labels, dim_reduction=\"pca\", kernel=\"rbf\", repetitions=10\n",
    ")"
   ]
  },
  {
   "cell_type": "code",
   "execution_count": 44,
   "metadata": {},
   "outputs": [
    {
     "data": {
      "text/plain": [
       "dataset\n",
       "test     0.83480\n",
       "train    0.87645\n",
       "dtype: float64"
      ]
     },
     "execution_count": 44,
     "metadata": {},
     "output_type": "execute_result"
    }
   ],
   "source": [
    "df_scores.groupby([\"label\", \"dataset\"], as_index=False).mean().pivot(index=\"label\", columns=\"dataset\", values=\"F1 score\").mean()"
   ]
  },
  {
   "cell_type": "code",
   "execution_count": 45,
   "metadata": {},
   "outputs": [
    {
     "data": {
      "text/plain": [
       "0.855625"
      ]
     },
     "execution_count": 45,
     "metadata": {},
     "output_type": "execute_result"
    }
   ],
   "source": [
    "df_scores.groupby([\"label\", \"dataset\"], as_index=False).mean().pivot(index=\"label\", columns=\"dataset\", values=\"F1 score\").mean().mean()"
   ]
  },
  {
   "cell_type": "code",
   "execution_count": 46,
   "metadata": {},
   "outputs": [
    {
     "data": {
      "text/html": [
       "<div>\n",
       "<style scoped>\n",
       "    .dataframe tbody tr th:only-of-type {\n",
       "        vertical-align: middle;\n",
       "    }\n",
       "\n",
       "    .dataframe tbody tr th {\n",
       "        vertical-align: top;\n",
       "    }\n",
       "\n",
       "    .dataframe thead th {\n",
       "        text-align: right;\n",
       "    }\n",
       "</style>\n",
       "<table border=\"1\" class=\"dataframe\">\n",
       "  <thead>\n",
       "    <tr style=\"text-align: right;\">\n",
       "      <th>dataset</th>\n",
       "      <th>test</th>\n",
       "      <th>train</th>\n",
       "    </tr>\n",
       "    <tr>\n",
       "      <th>label</th>\n",
       "      <th></th>\n",
       "      <th></th>\n",
       "    </tr>\n",
       "  </thead>\n",
       "  <tbody>\n",
       "    <tr>\n",
       "      <th>Amino-acid transport</th>\n",
       "      <td>0.067548</td>\n",
       "      <td>0.048607</td>\n",
       "    </tr>\n",
       "    <tr>\n",
       "      <th>Sugar transport</th>\n",
       "      <td>0.116889</td>\n",
       "      <td>0.054288</td>\n",
       "    </tr>\n",
       "  </tbody>\n",
       "</table>\n",
       "</div>"
      ],
      "text/plain": [
       "dataset                   test     train\n",
       "label                                   \n",
       "Amino-acid transport  0.067548  0.048607\n",
       "Sugar transport       0.116889  0.054288"
      ]
     },
     "execution_count": 46,
     "metadata": {},
     "output_type": "execute_result"
    }
   ],
   "source": [
    "df_scores.groupby([\"label\", \"dataset\"], as_index=False).std().pivot(index=\"label\", columns=\"dataset\", values=\"F1 score\")"
   ]
  },
  {
   "cell_type": "markdown",
   "metadata": {},
   "source": [
    "### Full test without the two potential sequence outliers\n",
    "\n",
    "In notebook 2, we found two sequence outliers that only appear for PAAC. Do they influence the AAC results?"
   ]
  },
  {
   "cell_type": "code",
   "execution_count": 47,
   "metadata": {},
   "outputs": [],
   "source": [
    "mask = ~df_aac.index.isin([\"P56579\", \"P64550\"])\n",
    "df_scores, df_params = full_test(\n",
    "    df_aac.loc[mask], labels.loc[mask], dim_reduction=\"pca\", kernel=\"rbf\", repetitions=10\n",
    ")"
   ]
  },
  {
   "cell_type": "code",
   "execution_count": 48,
   "metadata": {},
   "outputs": [
    {
     "data": {
      "text/html": [
       "<div>\n",
       "<style scoped>\n",
       "    .dataframe tbody tr th:only-of-type {\n",
       "        vertical-align: middle;\n",
       "    }\n",
       "\n",
       "    .dataframe tbody tr th {\n",
       "        vertical-align: top;\n",
       "    }\n",
       "\n",
       "    .dataframe thead th {\n",
       "        text-align: right;\n",
       "    }\n",
       "</style>\n",
       "<table border=\"1\" class=\"dataframe\">\n",
       "  <thead>\n",
       "    <tr style=\"text-align: right;\">\n",
       "      <th>dataset</th>\n",
       "      <th>test</th>\n",
       "      <th>train</th>\n",
       "    </tr>\n",
       "    <tr>\n",
       "      <th>label</th>\n",
       "      <th></th>\n",
       "      <th></th>\n",
       "    </tr>\n",
       "  </thead>\n",
       "  <tbody>\n",
       "    <tr>\n",
       "      <th>Amino-acid transport</th>\n",
       "      <td>0.8158</td>\n",
       "      <td>0.8952</td>\n",
       "    </tr>\n",
       "    <tr>\n",
       "      <th>Sugar transport</th>\n",
       "      <td>0.7537</td>\n",
       "      <td>0.8830</td>\n",
       "    </tr>\n",
       "  </tbody>\n",
       "</table>\n",
       "</div>"
      ],
      "text/plain": [
       "dataset                 test   train\n",
       "label                               \n",
       "Amino-acid transport  0.8158  0.8952\n",
       "Sugar transport       0.7537  0.8830"
      ]
     },
     "execution_count": 48,
     "metadata": {},
     "output_type": "execute_result"
    }
   ],
   "source": [
    "df_scores.groupby([\"label\", \"dataset\"], as_index=False).mean().pivot(index=\"label\", columns=\"dataset\", values=\"F1 score\")"
   ]
  },
  {
   "cell_type": "code",
   "execution_count": 49,
   "metadata": {},
   "outputs": [
    {
     "data": {
      "text/plain": [
       "dataset\n",
       "test     0.78475\n",
       "train    0.88910\n",
       "dtype: float64"
      ]
     },
     "execution_count": 49,
     "metadata": {},
     "output_type": "execute_result"
    }
   ],
   "source": [
    "df_scores.groupby([\"label\", \"dataset\"], as_index=False).mean().pivot(index=\"label\", columns=\"dataset\", values=\"F1 score\").mean()"
   ]
  },
  {
   "cell_type": "code",
   "execution_count": 50,
   "metadata": {},
   "outputs": [
    {
     "data": {
      "text/plain": [
       "0.836925"
      ]
     },
     "execution_count": 50,
     "metadata": {},
     "output_type": "execute_result"
    }
   ],
   "source": [
    "df_scores.groupby([\"label\", \"dataset\"], as_index=False).mean().pivot(index=\"label\", columns=\"dataset\", values=\"F1 score\").mean().mean()"
   ]
  },
  {
   "cell_type": "code",
   "execution_count": 51,
   "metadata": {},
   "outputs": [
    {
     "data": {
      "text/html": [
       "<div>\n",
       "<style scoped>\n",
       "    .dataframe tbody tr th:only-of-type {\n",
       "        vertical-align: middle;\n",
       "    }\n",
       "\n",
       "    .dataframe tbody tr th {\n",
       "        vertical-align: top;\n",
       "    }\n",
       "\n",
       "    .dataframe thead th {\n",
       "        text-align: right;\n",
       "    }\n",
       "</style>\n",
       "<table border=\"1\" class=\"dataframe\">\n",
       "  <thead>\n",
       "    <tr style=\"text-align: right;\">\n",
       "      <th>dataset</th>\n",
       "      <th>test</th>\n",
       "      <th>train</th>\n",
       "    </tr>\n",
       "    <tr>\n",
       "      <th>label</th>\n",
       "      <th></th>\n",
       "      <th></th>\n",
       "    </tr>\n",
       "  </thead>\n",
       "  <tbody>\n",
       "    <tr>\n",
       "      <th>Amino-acid transport</th>\n",
       "      <td>0.107324</td>\n",
       "      <td>0.039894</td>\n",
       "    </tr>\n",
       "    <tr>\n",
       "      <th>Sugar transport</th>\n",
       "      <td>0.146362</td>\n",
       "      <td>0.050680</td>\n",
       "    </tr>\n",
       "  </tbody>\n",
       "</table>\n",
       "</div>"
      ],
      "text/plain": [
       "dataset                   test     train\n",
       "label                                   \n",
       "Amino-acid transport  0.107324  0.039894\n",
       "Sugar transport       0.146362  0.050680"
      ]
     },
     "execution_count": 51,
     "metadata": {},
     "output_type": "execute_result"
    }
   ],
   "source": [
    "df_scores.groupby([\"label\", \"dataset\"], as_index=False).std().pivot(index=\"label\", columns=\"dataset\", values=\"F1 score\")"
   ]
  },
  {
   "cell_type": "markdown",
   "metadata": {},
   "source": [
    "Slightly worse scores for test set, slightly better for training set. About 0.02 worse F1 score without the two proteins. Not much of a difference"
   ]
  }
 ],
 "metadata": {
  "interpreter": {
   "hash": "7d9587acfc26b94842e9ed1391c37acbb1c055ffb7f48359e727081012dc2cc7"
  },
  "kernelspec": {
   "display_name": "Python 3.9.11 ('subpred')",
   "language": "python",
   "name": "python3"
  },
  "language_info": {
   "codemirror_mode": {
    "name": "ipython",
    "version": 3
   },
   "file_extension": ".py",
   "mimetype": "text/x-python",
   "name": "python",
   "nbconvert_exporter": "python",
   "pygments_lexer": "ipython3",
   "version": "3.9.12"
  },
  "orig_nbformat": 4
 },
 "nbformat": 4,
 "nbformat_minor": 2
}
