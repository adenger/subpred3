{
 "cells": [
  {
   "cell_type": "markdown",
   "metadata": {},
   "source": [
    "# A Thaliana dataset: Finding the best cd-hit threshold\n",
    "\n",
    "## Task\n",
    "\n",
    "After the outliers were found and removed from the dataset, which improved classification performance, it is now time to find a good sequence clustering threshold for the dataset. Clustering is performed through a self-written python wrapper for cd-hit.\n",
    "\n",
    "Sequence clustering is important for this task, because it reduces dependency between the test set and the training set, as well as reduncancy. \n",
    "\n",
    "The sequence identity threshold is defined by cd-hit as: \"number of identical amino acids or bases in alignment divided by the full length of the shorter sequence\".\n",
    "\n",
    "The default threshold of cd-hit is 90%, some other publications have used a transporter dataset with 70% threshold. On the other hand, those other publications classified transporters independently of organism, so maybe 90% is more appropriate for looking at one organism at a time."
   ]
  },
  {
   "cell_type": "markdown",
   "metadata": {},
   "source": [
    "## Imports"
   ]
  },
  {
   "cell_type": "code",
   "execution_count": 3,
   "metadata": {},
   "outputs": [],
   "source": [
    "import os\n",
    "import sys\n",
    "\n",
    "import pandas as pd\n",
    "import numpy as np\n",
    "\n",
    "import matplotlib.pyplot as plt\n",
    "import seaborn as sns\n",
    "\n",
    "\n",
    "from joblib import Parallel, delayed\n",
    "\n",
    "from sklearn.preprocessing import LabelEncoder, StandardScaler\n",
    "from sklearn.svm import SVC, LinearSVC\n",
    "from sklearn.feature_selection import SelectKBest\n",
    "from sklearn.decomposition import PCA, KernelPCA\n",
    "from sklearn.pipeline import make_pipeline, Pipeline\n",
    "from sklearn.feature_selection import SelectKBest, RFE\n",
    "from sklearn.naive_bayes import GaussianNB\n",
    "from sklearn.metrics import f1_score, classification_report, confusion_matrix, make_scorer\n",
    "from sklearn.neighbors import KNeighborsClassifier\n",
    "from sklearn.ensemble import RandomForestClassifier\n",
    "from sklearn.model_selection import train_test_split, cross_val_score, cross_val_predict, GridSearchCV\n",
    "from sklearn.linear_model import SGDClassifier\n",
    "from sklearn.base import clone\n",
    "\n",
    "from imblearn.under_sampling import RandomUnderSampler\n",
    "\n",
    "sys.path.append(\"../src\")\n",
    "from dataset.transporter_dataset import create_dataset\n",
    "from dataset.cluster_fasta import cd_hit\n",
    "from features.labels import fasta_to_labels\n",
    "from features.compositions import calculate_composition_feature\n",
    "from models.eval import nested_crossval\n"
   ]
  },
  {
   "cell_type": "markdown",
   "metadata": {},
   "source": [
    "## Creating the transporter dataset, without outliers"
   ]
  },
  {
   "cell_type": "code",
   "execution_count": 4,
   "metadata": {},
   "outputs": [],
   "source": [
    "LOG_FILE = \"../logs/meta_amino_sugar.log\"\n",
    "N_THREADS = 16\n",
    "ORGANISM = \"meta_nohuman_noyeast\"\n",
    "\n",
    "# Delete previous log\n",
    "if os.path.exists(LOG_FILE):\n",
    "    with open(LOG_FILE, \"w\"):\n",
    "        pass\n",
    "# e coli, a thaliana, human\n",
    "create_dataset(\n",
    "    keywords_substrate_filter=[\"Amino-acid transport\", \"Sugar transport\"],\n",
    "    keywords_component_filter=[\"Transmembrane\"],\n",
    "    keywords_transport_filter=[\"Transport\"],\n",
    "    input_file=\"../data/raw/swissprot/uniprot-reviewed_yes.tab.gz\",\n",
    "    multi_substrate=\"integrate\",\n",
    "    verbose=True,\n",
    "    outliers=[\"P76773\", \"Q47706\", \"P64550\", \"P02943\", \"P75733\", \"P69856\"]\n",
    "    + [\"O81775\", \"Q9SW07\", \"Q9FHH5\", \"Q8S8A0\", \"Q3E965\", \"Q3EAV6\", \"Q3E8L0\"]\n",
    "    + [\"Q9HBR0\", \"Q07837\"],\n",
    "    tax_ids_filter=[3702, 83333],\n",
    "    output_tsv=f\"../data/datasets/{ORGANISM}_amino_sugar.tsv\",\n",
    "    output_fasta=f\"../data/datasets/{ORGANISM}_amino_sugar.fasta\",\n",
    "    output_log=LOG_FILE,\n",
    ")\n"
   ]
  },
  {
   "cell_type": "markdown",
   "metadata": {},
   "source": [
    "## Creating AAC features for all thresholds"
   ]
  },
  {
   "cell_type": "code",
   "execution_count": 5,
   "metadata": {},
   "outputs": [],
   "source": [
    "for identity_threshold in range(40, 101, 10):\n",
    "    cd_hit(\n",
    "        executable_location=\"cd-hit\",\n",
    "        input_fasta=f\"../data/datasets/{ORGANISM}_amino_sugar.fasta\",\n",
    "        output_fasta=f\"../data/datasets/{ORGANISM}_amino_sugar_cluster{identity_threshold}.fasta\",\n",
    "        log_file=LOG_FILE,\n",
    "        identity_threshold=identity_threshold,\n",
    "        n_threads=N_THREADS,\n",
    "        memory=4096,\n",
    "        verbose=True,\n",
    "    )\n",
    "\n",
    "for composition_type in [\"aac\", \"paac\"]:\n",
    "    for identity_threshold in range(40, 101, 10):\n",
    "        fasta_to_labels(\n",
    "            input_fasta=f\"../data/datasets/{ORGANISM}_amino_sugar_cluster{identity_threshold}.fasta\",\n",
    "            output_tsv=f\"../data/features/{ORGANISM}_amino_sugar_cluster{identity_threshold}_labels.tsv\",\n",
    "        )\n",
    "        calculate_composition_feature(\n",
    "            input_fasta=f\"../data/datasets/{ORGANISM}_amino_sugar_cluster{identity_threshold}.fasta\",\n",
    "            output_tsv=f\"../data/features/{ORGANISM}_amino_sugar_cluster{identity_threshold}_{composition_type}.tsv\",\n",
    "            feature_type=composition_type,\n",
    "        )\n"
   ]
  },
  {
   "cell_type": "markdown",
   "metadata": {},
   "source": [
    "## Plots"
   ]
  },
  {
   "cell_type": "markdown",
   "metadata": {},
   "source": [
    "### Substrate count\n",
    "\n",
    "Sklearn reccomends 50 samples, my test have shown that models don't work reliably below 25 samples. \n",
    "\n",
    "A cluster threshold of at least 70% would be a good idea. \n",
    "\n",
    "A higher threshold would be better if:\n",
    "\n",
    "- The overfitting and standard deviation is reduced\n",
    "- The mean does not change too much, as that could indicate information sharing between training and test set."
   ]
  },
  {
   "cell_type": "code",
   "execution_count": 6,
   "metadata": {},
   "outputs": [
    {
     "name": "stdout",
     "output_type": "stream",
     "text": [
      "keyword             Amino-acid transport  Sugar transport  Ratio\n",
      "identity threshold                                              \n",
      "40                                    62               78   0.79\n",
      "50                                    71              100   0.71\n",
      "60                                    76              121   0.63\n",
      "70                                    84              131   0.64\n",
      "80                                    92              142   0.65\n",
      "90                                    97              158   0.61\n",
      "100                                   98              166   0.59\n"
     ]
    },
    {
     "data": {
      "image/png": "[encoded data removed]",
      "text/plain": [
       "<Figure size 432x288 with 1 Axes>"
      ]
     },
     "metadata": {
      "needs_background": "light"
     },
     "output_type": "display_data"
    }
   ],
   "source": [
    "substrate_value_counts = []\n",
    "for identity_threshold in range(40, 101, 10):\n",
    "    df_vc = pd.read_table(\n",
    "        f\"../data/features/{ORGANISM}_amino_sugar_cluster{identity_threshold}_labels.tsv\",\n",
    "        index_col=0,\n",
    "    ).value_counts()\n",
    "    for substrate_kw in [\"Sugar transport\", \"Amino-acid transport\"]:\n",
    "        substrate_value_counts.append(\n",
    "            [identity_threshold, substrate_kw, df_vc[substrate_kw]]\n",
    "        )\n",
    "substrate_value_counts = pd.DataFrame.from_records(\n",
    "    data=substrate_value_counts, columns=[\"identity threshold\", \"keyword\", \"proteins\"]\n",
    ")\n",
    "sns.lineplot(\n",
    "    data=substrate_value_counts.sort_values(\"keyword\"), x=\"identity threshold\", y=\"proteins\", hue=\"keyword\"\n",
    ")\n",
    "# plt.savefig(f\"plots/{ORGANISM}_sugar_amino_clustering_samples.png\", dpi=300)\n",
    "results = substrate_value_counts.pivot(\n",
    "    index=\"identity threshold\", columns=\"keyword\", values=\"proteins\"\n",
    ")\n",
    "results[\"Ratio\"] = results[\"Amino-acid transport\"] / results[\"Sugar transport\"]\n",
    "print(results.round(2))"
   ]
  },
  {
   "cell_type": "markdown",
   "metadata": {},
   "source": [
    "#### Is the 100% clustering dataset the same as the dataset without clustering?\n",
    "\n",
    "- Happens when there are sequences that are 100% identical to each other.\n",
    "- No, clustering at 100% does not change the original dataset."
   ]
  },
  {
   "cell_type": "code",
   "execution_count": 7,
   "metadata": {},
   "outputs": [
    {
     "name": "stdout",
     "output_type": "stream",
     "text": [
      "labels              \n",
      "Sugar transport         166\n",
      "Amino-acid transport     98\n",
      "dtype: int64\n",
      "labels              \n",
      "Sugar transport         166\n",
      "Amino-acid transport     98\n",
      "dtype: int64\n"
     ]
    }
   ],
   "source": [
    "fasta_to_labels(\n",
    "    input_fasta=f\"../data/datasets/{ORGANISM}_amino_sugar.fasta\",\n",
    "    output_tsv=f\"../data/features/{ORGANISM}_amino_sugar_labels.tsv\",\n",
    ")\n",
    "print(\n",
    "    pd.read_table(\n",
    "        f\"../data/features/{ORGANISM}_amino_sugar_labels.tsv\",\n",
    "        index_col=0,\n",
    "    ).value_counts()\n",
    ")\n",
    "print(\n",
    "    pd.read_table(\n",
    "        f\"../data/features/{ORGANISM}_amino_sugar_cluster100_labels.tsv\",\n",
    "        index_col=0,\n",
    "    ).value_counts()\n",
    ")\n"
   ]
  },
  {
   "cell_type": "markdown",
   "metadata": {},
   "source": [
    "# Evaluation"
   ]
  },
  {
   "cell_type": "code",
   "execution_count": 8,
   "metadata": {},
   "outputs": [],
   "source": [
    "def get_independent_test_set(\n",
    "    df_features, df_labels_, labels=[\"Amino-acid transport\", \"Sugar transport\"], test_size=0.2, random_state=42\n",
    "):\n",
    "    X = df_features.to_numpy()\n",
    "    y = np.where(df_labels_.labels == labels[1], 1, 0)\n",
    "    feature_names = df_features.columns.to_numpy()\n",
    "    sample_names = df_features.index.to_numpy()\n",
    "    (\n",
    "        X_train,\n",
    "        X_test,\n",
    "        y_train,\n",
    "        y_test,\n",
    "        sample_names_train,\n",
    "        sample_names_test,\n",
    "    ) = train_test_split(\n",
    "        X, y, sample_names, stratify=y, random_state=random_state, shuffle=True, test_size=test_size\n",
    "    )\n",
    "    return (\n",
    "        X_train,\n",
    "        X_test,\n",
    "        y_train,\n",
    "        y_test,\n",
    "        sample_names_train,\n",
    "        sample_names_test,\n",
    "        feature_names,\n",
    "    )\n"
   ]
  },
  {
   "cell_type": "code",
   "execution_count": 9,
   "metadata": {},
   "outputs": [],
   "source": [
    "def print_validation_results(y_true_, y_pred_, labels = [\"Amino\", \"Sugar\"]):\n",
    "    report_dict = classification_report(y_true=y_true_, y_pred=y_pred_, output_dict=True)\n",
    "    report_dict = {\n",
    "        labels[0]: report_dict['0'],\n",
    "        labels[1]: report_dict['1'],\n",
    "        \"Macro\": report_dict[\"macro avg\"],\n",
    "        \"Weighted\": report_dict[\"weighted avg\"]\n",
    "    }\n",
    "    report_df = pd.DataFrame.from_dict(report_dict)\n",
    "    confusion_matrix_df = pd.DataFrame(\n",
    "        confusion_matrix(y_true_, y_pred_),\n",
    "        columns=labels,\n",
    "        index=labels,\n",
    "    )\n",
    "    return report_df, confusion_matrix_df"
   ]
  },
  {
   "cell_type": "code",
   "execution_count": 10,
   "metadata": {},
   "outputs": [],
   "source": [
    "def test_thresholds(feature_type, n_samples=20):\n",
    "    records = []\n",
    "    for identity_threshold in [40, 50, 60, 70, 80, 90, 100]:\n",
    "        print()\n",
    "        print(identity_threshold)\n",
    "        for random_seed in range(n_samples):\n",
    "            print(str(random_seed) + \" \", end=\"\", flush=True)\n",
    "            calculate_composition_feature(\n",
    "                input_fasta=f\"../data/datasets/{ORGANISM}_amino_sugar_cluster{identity_threshold}.fasta\",\n",
    "                output_tsv=f\"../data/features/{ORGANISM}_amino_sugar_cluster{identity_threshold}_{feature_type}.tsv\",\n",
    "                feature_type=feature_type,\n",
    "            )\n",
    "            df_features = pd.read_table(\n",
    "                f\"../data/features/{ORGANISM}_amino_sugar_cluster{identity_threshold}_{feature_type}.tsv\",\n",
    "                index_col=0,\n",
    "            )\n",
    "            fasta_to_labels(\n",
    "                input_fasta=f\"../data/datasets/{ORGANISM}_amino_sugar_cluster{identity_threshold}.fasta\",\n",
    "                output_tsv=f\"../data/features/{ORGANISM}_amino_sugar_cluster{identity_threshold}_labels.tsv\",\n",
    "            )\n",
    "            df_labels = pd.read_table(\n",
    "                f\"../data/features/{ORGANISM}_amino_sugar_cluster{identity_threshold}_labels.tsv\",\n",
    "                index_col=0,\n",
    "            )\n",
    "            # print(df_labels.labels.value_counts())\n",
    "            (\n",
    "                X_train,\n",
    "                X_test,\n",
    "                y_train,\n",
    "                y_test,\n",
    "                sample_names_train,\n",
    "                sample_names_test,\n",
    "                feature_names,\n",
    "            ) = get_independent_test_set(\n",
    "                df_features, df_labels, test_size=0.2, random_state=random_seed\n",
    "            )\n",
    "            params_svc = {\n",
    "                \"svc__class_weight\": [\"balanced\", None],\n",
    "                \"svc__C\": [1, 10, 100],\n",
    "                \"svc__gamma\": [1e-1, 1e-2, 1e-3],\n",
    "                \"pca__n_components\": np.linspace(0.8, 0.99, 20),\n",
    "            }\n",
    "            gsearch = GridSearchCV(\n",
    "                make_pipeline(StandardScaler(), PCA(), StandardScaler(), SVC()),\n",
    "                param_grid=params_svc,\n",
    "                cv=5,\n",
    "                scoring=\"f1_macro\",\n",
    "                n_jobs=-1,\n",
    "                # return_train_score=True,\n",
    "                refit=True,\n",
    "            )\n",
    "            gsearch.fit(X_train, y_train)\n",
    "            # print(gsearch.best_params_)\n",
    "            # print(gsearch.best_score_)\n",
    "            best_estimator = gsearch.best_estimator_\n",
    "\n",
    "            scores_train_sugar = cross_val_score(\n",
    "                estimator=best_estimator,\n",
    "                X=X_train,\n",
    "                y=y_train,\n",
    "                scoring=make_scorer(f1_score, pos_label=1),\n",
    "            )\n",
    "            scores_train_amino = cross_val_score(\n",
    "                estimator=best_estimator,\n",
    "                X=X_train,\n",
    "                y=y_train,\n",
    "                scoring=make_scorer(f1_score, pos_label=0),\n",
    "            )\n",
    "            records.append([identity_threshold, scores_train_sugar.mean(), \"Sugar\", \"train\"])\n",
    "            records.append([identity_threshold, scores_train_amino.mean(), \"Amino\", \"train\"])\n",
    "            # print(f\"Train scores: {best_scores.mean().round(3)}+-{best_scores.std().round(3)}\")\n",
    "\n",
    "            y_pred = best_estimator.predict(X_test)\n",
    "            y_true = y_test.copy()\n",
    "\n",
    "            report_df, confusion_matrix_df = print_validation_results(\n",
    "                y_true, y_pred, labels=[\"Amino\", \"Sugar\"]\n",
    "            )\n",
    "            # display(report_df.round(3))\n",
    "            score_amino = report_df.loc[\"f1-score\", \"Amino\"]\n",
    "            records.append([identity_threshold, score_amino, \"Amino\", \"test\"])\n",
    "            score_sugar = report_df.loc[\"f1-score\", \"Sugar\"]\n",
    "            records.append([identity_threshold, score_sugar, \"Sugar\", \"test\"])\n",
    "            # display(confusion_matrix_df)\n",
    "    df_results = pd.DataFrame.from_records(\n",
    "        records, columns=[\"threshold\", \"score\", \"substrate\", \"dataset\"]\n",
    "    )\n",
    "    return df_results"
   ]
  },
  {
   "cell_type": "code",
   "execution_count": 11,
   "metadata": {},
   "outputs": [
    {
     "name": "stdout",
     "output_type": "stream",
     "text": [
      "\n",
      "40\n",
      "0 1 2 3 4 5 6 7 8 9 10 11 12 13 14 15 16 17 18 19 \n",
      "50\n",
      "0 1 2 3 4 5 6 7 8 9 10 11 12 13 14 15 16 17 18 19 \n",
      "60\n",
      "0 1 2 3 4 5 6 7 8 9 10 11 12 13 14 15 16 17 18 19 \n",
      "70\n",
      "0 1 2 3 4 5 6 7 8 9 10 11 12 13 14 15 16 17 18 19 \n",
      "80\n",
      "0 1 2 3 4 5 6 7 8 9 10 11 12 13 14 15 16 17 18 19 \n",
      "90\n",
      "0 1 2 3 4 5 6 7 8 9 10 11 12 13 14 15 16 17 18 19 \n",
      "100\n",
      "0 1 2 3 4 5 6 7 8 9 10 11 12 13 14 15 16 17 18 19 "
     ]
    }
   ],
   "source": [
    "df_results_aac = test_thresholds(feature_type=\"aac\", n_samples=20)"
   ]
  },
  {
   "cell_type": "code",
   "execution_count": 12,
   "metadata": {},
   "outputs": [
    {
     "data": {
      "image/png": "[encoded data removed]",
      "text/plain": [
       "<Figure size 432x288 with 1 Axes>"
      ]
     },
     "metadata": {
      "needs_background": "light"
     },
     "output_type": "display_data"
    }
   ],
   "source": [
    "g = sns.lineplot(\n",
    "    data=df_results_aac[df_results_aac.dataset == \"test\"], x=\"threshold\", y=\"score\", hue=\"substrate\"\n",
    ")\n",
    "g.set(ylim=(0, 1.01))\n",
    "plt.show()"
   ]
  },
  {
   "cell_type": "code",
   "execution_count": 13,
   "metadata": {},
   "outputs": [
    {
     "data": {
      "image/png": "[encoded data removed]",
      "text/plain": [
       "<Figure size 432x288 with 1 Axes>"
      ]
     },
     "metadata": {
      "needs_background": "light"
     },
     "output_type": "display_data"
    }
   ],
   "source": [
    "g = sns.lineplot(\n",
    "    data=df_results_aac[df_results_aac.dataset == \"train\"].sort_values(\"substrate\"),\n",
    "    x=\"threshold\",\n",
    "    y=\"score\",\n",
    "    hue=\"substrate\",\n",
    ")\n",
    "g.set(ylim=(0, 1.01))\n",
    "plt.show()\n"
   ]
  },
  {
   "cell_type": "code",
   "execution_count": 13,
   "metadata": {},
   "outputs": [
    {
     "name": "stdout",
     "output_type": "stream",
     "text": [
      "\n",
      "40\n",
      "0 1 2 3 4 5 6 7 8 9 10 11 12 13 14 15 16 17 18 19 \n",
      "50\n",
      "0 1 2 3 4 5 6 7 8 9 10 11 12 13 14 15 16 17 18 19 \n",
      "60\n",
      "0 1 2 3 4 5 6 7 8 9 10 11 12 13 14 15 16 17 18 19 \n",
      "70\n",
      "0 1 2 3 4 5 6 7 8 9 10 11 12 13 14 15 16 17 18 19 \n",
      "80\n",
      "0 1 2 3 4 5 6 7 8 9 10 11 12 13 14 15 16 17 18 19 \n",
      "90\n",
      "0 1 2 3 4 5 6 7 8 9 10 11 12 13 14 15 16 17 18 19 \n",
      "100\n",
      "0 1 2 3 4 5 6 7 8 9 10 11 12 13 14 15 16 17 18 19 "
     ]
    },
    {
     "data": {
      "image/png": "[encoded data removed]",
      "text/plain": [
       "<Figure size 432x288 with 1 Axes>"
      ]
     },
     "metadata": {
      "needs_background": "light"
     },
     "output_type": "display_data"
    },
    {
     "data": {
      "image/png": "[encoded data removed]",
      "text/plain": [
       "<Figure size 432x288 with 1 Axes>"
      ]
     },
     "metadata": {
      "needs_background": "light"
     },
     "output_type": "display_data"
    }
   ],
   "source": [
    "df_results_aac = test_thresholds(feature_type=\"paac\", n_samples=20)\n",
    "g = sns.lineplot(\n",
    "    data=df_results_aac[df_results_aac.dataset == \"test\"].sort_values(\"substrate\"), x=\"threshold\", y=\"score\", hue=\"substrate\"\n",
    ")\n",
    "g.set(ylim=(0, 1.01))\n",
    "plt.show()\n",
    "g = sns.lineplot(\n",
    "    data=df_results_aac[df_results_aac.dataset == \"train\"].sort_values(\"substrate\"), x=\"threshold\", y=\"score\", hue=\"substrate\"\n",
    ")\n",
    "g.set(ylim=(0, 1.01))\n",
    "plt.show()"
   ]
  },
  {
   "cell_type": "code",
   "execution_count": null,
   "metadata": {},
   "outputs": [],
   "source": []
  }
 ],
 "metadata": {
  "interpreter": {
   "hash": "cafa6b7dc1febcc0744577543e15b34b5215c03d8268d29e811de6df626dceab"
  },
  "kernelspec": {
   "display_name": "Python 3.8.10 ('venv': venv)",
   "language": "python",
   "name": "python3"
  },
  "language_info": {
   "codemirror_mode": {
    "name": "ipython",
    "version": 3
   },
   "file_extension": ".py",
   "mimetype": "text/x-python",
   "name": "python",
   "nbconvert_exporter": "python",
   "pygments_lexer": "ipython3",
   "version": "3.9.12"
  },
  "orig_nbformat": 4
 },
 "nbformat": 4,
 "nbformat_minor": 2
}
