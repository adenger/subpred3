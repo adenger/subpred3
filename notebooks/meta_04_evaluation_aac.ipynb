{
 "cells": [
  {
   "cell_type": "markdown",
   "metadata": {},
   "source": [
    "# AAC feature evaluation"
   ]
  },
  {
   "cell_type": "markdown",
   "metadata": {},
   "source": [
    "# Imports"
   ]
  },
  {
   "cell_type": "code",
   "execution_count": 1,
   "metadata": {
    "execution": {
     "iopub.execute_input": "2022-07-27T16:19:17.923873Z",
     "iopub.status.busy": "2022-07-27T16:19:17.923303Z",
     "iopub.status.idle": "2022-07-27T16:19:18.521960Z",
     "shell.execute_reply": "2022-07-27T16:19:18.521447Z"
    }
   },
   "outputs": [],
   "source": [
    "from subpred.transporter_dataset import create_dataset\n",
    "from subpred.eval import (\n",
    "    get_independent_test_set,\n",
    "    optimize_hyperparams,\n",
    "    preprocess_pandas,\n",
    "    models_quick_compare,\n",
    "    get_confusion_matrix,\n",
    "    get_classification_report,\n",
    "    full_test\n",
    ")\n",
    "from subpred.compositions import calculate_aac"
   ]
  },
  {
   "cell_type": "markdown",
   "metadata": {},
   "source": [
    "# Dataset"
   ]
  },
  {
   "cell_type": "code",
   "execution_count": 2,
   "metadata": {
    "execution": {
     "iopub.execute_input": "2022-07-27T16:19:18.525135Z",
     "iopub.status.busy": "2022-07-27T16:19:18.524929Z",
     "iopub.status.idle": "2022-07-27T16:19:29.464418Z",
     "shell.execute_reply": "2022-07-27T16:19:29.463015Z"
    }
   },
   "outputs": [
    {
     "name": "stdout",
     "output_type": "stream",
     "text": [
      "cd-hit: clustered 413 sequences into 347 clusters at threshold 70\n"
     ]
    }
   ],
   "source": [
    "outliers = (\n",
    "    [\"Q9HBR0\", \"Q07837\"]\n",
    "    + [\"P76773\", \"Q47706\", \"P02943\", \"P75733\", \"P69856\", \"P64550\"]\n",
    "    + [\"O81775\", \"Q9SW07\", \"Q9FHH5\", \"Q8S8A0\", \"Q3E965\", \"Q3EAV6\", \"Q3E8L0\"]\n",
    ")\n",
    "df = create_dataset(\n",
    "    keywords_substrate_filter=[\"Amino-acid transport\", \"Sugar transport\"],\n",
    "    keywords_component_filter=[\"Transmembrane\"],\n",
    "    keywords_transport_filter=[\"Transport\"],\n",
    "    input_file=\"../data/raw/swissprot/uniprot-reviewed_yes.tab.gz\",\n",
    "    multi_substrate=\"integrate\",\n",
    "    verbose=True,\n",
    "    tax_ids_filter=[3702, 9606, 83333, 559292],\n",
    "    output_log=\"../logs/meta_amino_sugar_dataset.log\",\n",
    "    outliers=outliers,\n",
    "    sequence_clustering=70,\n",
    ")\n",
    "taxid_to_organism = {\n",
    "    3702: \"A. thaliana\",\n",
    "    9606: \"Human\",\n",
    "    83333: \"E. coli\",\n",
    "    559292: \"Yeast\",\n",
    "}\n",
    "df = df.assign(organism=df.organism_id.map(taxid_to_organism))\n"
   ]
  },
  {
   "cell_type": "markdown",
   "metadata": {},
   "source": [
    "# Feature generation\n",
    "\n",
    "## Labels"
   ]
  },
  {
   "cell_type": "code",
   "execution_count": 3,
   "metadata": {
    "execution": {
     "iopub.execute_input": "2022-07-27T16:19:29.508646Z",
     "iopub.status.busy": "2022-07-27T16:19:29.508278Z",
     "iopub.status.idle": "2022-07-27T16:19:29.527787Z",
     "shell.execute_reply": "2022-07-27T16:19:29.526739Z"
    }
   },
   "outputs": [
    {
     "data": {
      "text/plain": [
       "Sugar transport         181\n",
       "Amino-acid transport    166\n",
       "Name: keywords_transport, dtype: int64"
      ]
     },
     "execution_count": 3,
     "metadata": {},
     "output_type": "execute_result"
    }
   ],
   "source": [
    "labels = df.keywords_transport\n",
    "labels.value_counts()"
   ]
  },
  {
   "cell_type": "markdown",
   "metadata": {},
   "source": [
    "## AAC"
   ]
  },
  {
   "cell_type": "code",
   "execution_count": 4,
   "metadata": {
    "execution": {
     "iopub.execute_input": "2022-07-27T16:19:29.532459Z",
     "iopub.status.busy": "2022-07-27T16:19:29.532215Z",
     "iopub.status.idle": "2022-07-27T16:19:29.599347Z",
     "shell.execute_reply": "2022-07-27T16:19:29.598345Z"
    }
   },
   "outputs": [
    {
     "data": {
      "text/html": [
       "<div>\n",
       "<style scoped>\n",
       "    .dataframe tbody tr th:only-of-type {\n",
       "        vertical-align: middle;\n",
       "    }\n",
       "\n",
       "    .dataframe tbody tr th {\n",
       "        vertical-align: top;\n",
       "    }\n",
       "\n",
       "    .dataframe thead th {\n",
       "        text-align: right;\n",
       "    }\n",
       "</style>\n",
       "<table border=\"1\" class=\"dataframe\">\n",
       "  <thead>\n",
       "    <tr style=\"text-align: right;\">\n",
       "      <th></th>\n",
       "      <th>A</th>\n",
       "      <th>C</th>\n",
       "      <th>D</th>\n",
       "      <th>E</th>\n",
       "      <th>F</th>\n",
       "      <th>G</th>\n",
       "      <th>H</th>\n",
       "      <th>I</th>\n",
       "      <th>K</th>\n",
       "      <th>L</th>\n",
       "      <th>M</th>\n",
       "      <th>N</th>\n",
       "      <th>P</th>\n",
       "      <th>Q</th>\n",
       "      <th>R</th>\n",
       "      <th>S</th>\n",
       "      <th>T</th>\n",
       "      <th>V</th>\n",
       "      <th>W</th>\n",
       "      <th>Y</th>\n",
       "    </tr>\n",
       "    <tr>\n",
       "      <th>Uniprot</th>\n",
       "      <th></th>\n",
       "      <th></th>\n",
       "      <th></th>\n",
       "      <th></th>\n",
       "      <th></th>\n",
       "      <th></th>\n",
       "      <th></th>\n",
       "      <th></th>\n",
       "      <th></th>\n",
       "      <th></th>\n",
       "      <th></th>\n",
       "      <th></th>\n",
       "      <th></th>\n",
       "      <th></th>\n",
       "      <th></th>\n",
       "      <th></th>\n",
       "      <th></th>\n",
       "      <th></th>\n",
       "      <th></th>\n",
       "      <th></th>\n",
       "    </tr>\n",
       "  </thead>\n",
       "  <tbody>\n",
       "    <tr>\n",
       "      <th>P69801</th>\n",
       "      <td>0.150376</td>\n",
       "      <td>0.007519</td>\n",
       "      <td>0.030075</td>\n",
       "      <td>0.022556</td>\n",
       "      <td>0.037594</td>\n",
       "      <td>0.093985</td>\n",
       "      <td>0.015038</td>\n",
       "      <td>0.120301</td>\n",
       "      <td>0.011278</td>\n",
       "      <td>0.101504</td>\n",
       "      <td>0.048872</td>\n",
       "      <td>0.052632</td>\n",
       "      <td>0.030075</td>\n",
       "      <td>0.033835</td>\n",
       "      <td>0.018797</td>\n",
       "      <td>0.037594</td>\n",
       "      <td>0.056391</td>\n",
       "      <td>0.105263</td>\n",
       "      <td>0.007519</td>\n",
       "      <td>0.018797</td>\n",
       "    </tr>\n",
       "    <tr>\n",
       "      <th>Q9SFG0</th>\n",
       "      <td>0.090730</td>\n",
       "      <td>0.015779</td>\n",
       "      <td>0.033531</td>\n",
       "      <td>0.035503</td>\n",
       "      <td>0.086785</td>\n",
       "      <td>0.088757</td>\n",
       "      <td>0.015779</td>\n",
       "      <td>0.092702</td>\n",
       "      <td>0.033531</td>\n",
       "      <td>0.104536</td>\n",
       "      <td>0.033531</td>\n",
       "      <td>0.033531</td>\n",
       "      <td>0.039448</td>\n",
       "      <td>0.029586</td>\n",
       "      <td>0.039448</td>\n",
       "      <td>0.055227</td>\n",
       "      <td>0.041420</td>\n",
       "      <td>0.086785</td>\n",
       "      <td>0.017751</td>\n",
       "      <td>0.025641</td>\n",
       "    </tr>\n",
       "    <tr>\n",
       "      <th>Q08986</th>\n",
       "      <td>0.085179</td>\n",
       "      <td>0.025554</td>\n",
       "      <td>0.027257</td>\n",
       "      <td>0.047700</td>\n",
       "      <td>0.069847</td>\n",
       "      <td>0.078365</td>\n",
       "      <td>0.010221</td>\n",
       "      <td>0.091993</td>\n",
       "      <td>0.044293</td>\n",
       "      <td>0.090290</td>\n",
       "      <td>0.018739</td>\n",
       "      <td>0.035775</td>\n",
       "      <td>0.032368</td>\n",
       "      <td>0.027257</td>\n",
       "      <td>0.035775</td>\n",
       "      <td>0.105622</td>\n",
       "      <td>0.044293</td>\n",
       "      <td>0.074957</td>\n",
       "      <td>0.017036</td>\n",
       "      <td>0.037479</td>\n",
       "    </tr>\n",
       "    <tr>\n",
       "      <th>Q9BRV3</th>\n",
       "      <td>0.058824</td>\n",
       "      <td>0.022624</td>\n",
       "      <td>0.031674</td>\n",
       "      <td>0.018100</td>\n",
       "      <td>0.058824</td>\n",
       "      <td>0.072398</td>\n",
       "      <td>0.009050</td>\n",
       "      <td>0.045249</td>\n",
       "      <td>0.022624</td>\n",
       "      <td>0.176471</td>\n",
       "      <td>0.027149</td>\n",
       "      <td>0.031674</td>\n",
       "      <td>0.040724</td>\n",
       "      <td>0.045249</td>\n",
       "      <td>0.045249</td>\n",
       "      <td>0.063348</td>\n",
       "      <td>0.072398</td>\n",
       "      <td>0.072398</td>\n",
       "      <td>0.027149</td>\n",
       "      <td>0.058824</td>\n",
       "    </tr>\n",
       "    <tr>\n",
       "      <th>Q84WN3</th>\n",
       "      <td>0.066390</td>\n",
       "      <td>0.004149</td>\n",
       "      <td>0.020747</td>\n",
       "      <td>0.053942</td>\n",
       "      <td>0.070539</td>\n",
       "      <td>0.074689</td>\n",
       "      <td>0.008299</td>\n",
       "      <td>0.070539</td>\n",
       "      <td>0.041494</td>\n",
       "      <td>0.120332</td>\n",
       "      <td>0.029046</td>\n",
       "      <td>0.033195</td>\n",
       "      <td>0.041494</td>\n",
       "      <td>0.016598</td>\n",
       "      <td>0.029046</td>\n",
       "      <td>0.087137</td>\n",
       "      <td>0.058091</td>\n",
       "      <td>0.103734</td>\n",
       "      <td>0.016598</td>\n",
       "      <td>0.053942</td>\n",
       "    </tr>\n",
       "    <tr>\n",
       "      <th>...</th>\n",
       "      <td>...</td>\n",
       "      <td>...</td>\n",
       "      <td>...</td>\n",
       "      <td>...</td>\n",
       "      <td>...</td>\n",
       "      <td>...</td>\n",
       "      <td>...</td>\n",
       "      <td>...</td>\n",
       "      <td>...</td>\n",
       "      <td>...</td>\n",
       "      <td>...</td>\n",
       "      <td>...</td>\n",
       "      <td>...</td>\n",
       "      <td>...</td>\n",
       "      <td>...</td>\n",
       "      <td>...</td>\n",
       "      <td>...</td>\n",
       "      <td>...</td>\n",
       "      <td>...</td>\n",
       "      <td>...</td>\n",
       "    </tr>\n",
       "    <tr>\n",
       "      <th>F4IHS9</th>\n",
       "      <td>0.055556</td>\n",
       "      <td>0.017544</td>\n",
       "      <td>0.023392</td>\n",
       "      <td>0.017544</td>\n",
       "      <td>0.076023</td>\n",
       "      <td>0.064327</td>\n",
       "      <td>0.023392</td>\n",
       "      <td>0.067251</td>\n",
       "      <td>0.055556</td>\n",
       "      <td>0.154971</td>\n",
       "      <td>0.026316</td>\n",
       "      <td>0.046784</td>\n",
       "      <td>0.032164</td>\n",
       "      <td>0.035088</td>\n",
       "      <td>0.011696</td>\n",
       "      <td>0.093567</td>\n",
       "      <td>0.081871</td>\n",
       "      <td>0.084795</td>\n",
       "      <td>0.002924</td>\n",
       "      <td>0.029240</td>\n",
       "    </tr>\n",
       "    <tr>\n",
       "      <th>Q04162</th>\n",
       "      <td>0.072072</td>\n",
       "      <td>0.018018</td>\n",
       "      <td>0.036036</td>\n",
       "      <td>0.032432</td>\n",
       "      <td>0.063063</td>\n",
       "      <td>0.057658</td>\n",
       "      <td>0.009009</td>\n",
       "      <td>0.095495</td>\n",
       "      <td>0.027027</td>\n",
       "      <td>0.122523</td>\n",
       "      <td>0.030631</td>\n",
       "      <td>0.037838</td>\n",
       "      <td>0.037838</td>\n",
       "      <td>0.019820</td>\n",
       "      <td>0.048649</td>\n",
       "      <td>0.106306</td>\n",
       "      <td>0.070270</td>\n",
       "      <td>0.063063</td>\n",
       "      <td>0.010811</td>\n",
       "      <td>0.041441</td>\n",
       "    </tr>\n",
       "    <tr>\n",
       "      <th>P33361</th>\n",
       "      <td>0.135065</td>\n",
       "      <td>0.012987</td>\n",
       "      <td>0.025974</td>\n",
       "      <td>0.007792</td>\n",
       "      <td>0.044156</td>\n",
       "      <td>0.083117</td>\n",
       "      <td>0.012987</td>\n",
       "      <td>0.067532</td>\n",
       "      <td>0.015584</td>\n",
       "      <td>0.197403</td>\n",
       "      <td>0.023377</td>\n",
       "      <td>0.020779</td>\n",
       "      <td>0.046753</td>\n",
       "      <td>0.038961</td>\n",
       "      <td>0.041558</td>\n",
       "      <td>0.046753</td>\n",
       "      <td>0.044156</td>\n",
       "      <td>0.090909</td>\n",
       "      <td>0.028571</td>\n",
       "      <td>0.015584</td>\n",
       "    </tr>\n",
       "    <tr>\n",
       "      <th>P39328</th>\n",
       "      <td>0.114370</td>\n",
       "      <td>0.005865</td>\n",
       "      <td>0.029326</td>\n",
       "      <td>0.008798</td>\n",
       "      <td>0.038123</td>\n",
       "      <td>0.102639</td>\n",
       "      <td>0.002933</td>\n",
       "      <td>0.099707</td>\n",
       "      <td>0.020528</td>\n",
       "      <td>0.155425</td>\n",
       "      <td>0.035191</td>\n",
       "      <td>0.032258</td>\n",
       "      <td>0.043988</td>\n",
       "      <td>0.032258</td>\n",
       "      <td>0.041056</td>\n",
       "      <td>0.049853</td>\n",
       "      <td>0.061584</td>\n",
       "      <td>0.105572</td>\n",
       "      <td>0.017595</td>\n",
       "      <td>0.002933</td>\n",
       "    </tr>\n",
       "    <tr>\n",
       "      <th>P48813</th>\n",
       "      <td>0.081448</td>\n",
       "      <td>0.019608</td>\n",
       "      <td>0.039216</td>\n",
       "      <td>0.052790</td>\n",
       "      <td>0.057315</td>\n",
       "      <td>0.079940</td>\n",
       "      <td>0.015083</td>\n",
       "      <td>0.075415</td>\n",
       "      <td>0.054299</td>\n",
       "      <td>0.085973</td>\n",
       "      <td>0.028658</td>\n",
       "      <td>0.043741</td>\n",
       "      <td>0.036199</td>\n",
       "      <td>0.031674</td>\n",
       "      <td>0.040724</td>\n",
       "      <td>0.082956</td>\n",
       "      <td>0.040724</td>\n",
       "      <td>0.075415</td>\n",
       "      <td>0.019608</td>\n",
       "      <td>0.039216</td>\n",
       "    </tr>\n",
       "  </tbody>\n",
       "</table>\n",
       "<p>347 rows × 20 columns</p>\n",
       "</div>"
      ],
      "text/plain": [
       "                A         C         D         E         F         G         H  \\\n",
       "Uniprot                                                                         \n",
       "P69801   0.150376  0.007519  0.030075  0.022556  0.037594  0.093985  0.015038   \n",
       "Q9SFG0   0.090730  0.015779  0.033531  0.035503  0.086785  0.088757  0.015779   \n",
       "Q08986   0.085179  0.025554  0.027257  0.047700  0.069847  0.078365  0.010221   \n",
       "Q9BRV3   0.058824  0.022624  0.031674  0.018100  0.058824  0.072398  0.009050   \n",
       "Q84WN3   0.066390  0.004149  0.020747  0.053942  0.070539  0.074689  0.008299   \n",
       "...           ...       ...       ...       ...       ...       ...       ...   \n",
       "F4IHS9   0.055556  0.017544  0.023392  0.017544  0.076023  0.064327  0.023392   \n",
       "Q04162   0.072072  0.018018  0.036036  0.032432  0.063063  0.057658  0.009009   \n",
       "P33361   0.135065  0.012987  0.025974  0.007792  0.044156  0.083117  0.012987   \n",
       "P39328   0.114370  0.005865  0.029326  0.008798  0.038123  0.102639  0.002933   \n",
       "P48813   0.081448  0.019608  0.039216  0.052790  0.057315  0.079940  0.015083   \n",
       "\n",
       "                I         K         L         M         N         P         Q  \\\n",
       "Uniprot                                                                         \n",
       "P69801   0.120301  0.011278  0.101504  0.048872  0.052632  0.030075  0.033835   \n",
       "Q9SFG0   0.092702  0.033531  0.104536  0.033531  0.033531  0.039448  0.029586   \n",
       "Q08986   0.091993  0.044293  0.090290  0.018739  0.035775  0.032368  0.027257   \n",
       "Q9BRV3   0.045249  0.022624  0.176471  0.027149  0.031674  0.040724  0.045249   \n",
       "Q84WN3   0.070539  0.041494  0.120332  0.029046  0.033195  0.041494  0.016598   \n",
       "...           ...       ...       ...       ...       ...       ...       ...   \n",
       "F4IHS9   0.067251  0.055556  0.154971  0.026316  0.046784  0.032164  0.035088   \n",
       "Q04162   0.095495  0.027027  0.122523  0.030631  0.037838  0.037838  0.019820   \n",
       "P33361   0.067532  0.015584  0.197403  0.023377  0.020779  0.046753  0.038961   \n",
       "P39328   0.099707  0.020528  0.155425  0.035191  0.032258  0.043988  0.032258   \n",
       "P48813   0.075415  0.054299  0.085973  0.028658  0.043741  0.036199  0.031674   \n",
       "\n",
       "                R         S         T         V         W         Y  \n",
       "Uniprot                                                              \n",
       "P69801   0.018797  0.037594  0.056391  0.105263  0.007519  0.018797  \n",
       "Q9SFG0   0.039448  0.055227  0.041420  0.086785  0.017751  0.025641  \n",
       "Q08986   0.035775  0.105622  0.044293  0.074957  0.017036  0.037479  \n",
       "Q9BRV3   0.045249  0.063348  0.072398  0.072398  0.027149  0.058824  \n",
       "Q84WN3   0.029046  0.087137  0.058091  0.103734  0.016598  0.053942  \n",
       "...           ...       ...       ...       ...       ...       ...  \n",
       "F4IHS9   0.011696  0.093567  0.081871  0.084795  0.002924  0.029240  \n",
       "Q04162   0.048649  0.106306  0.070270  0.063063  0.010811  0.041441  \n",
       "P33361   0.041558  0.046753  0.044156  0.090909  0.028571  0.015584  \n",
       "P39328   0.041056  0.049853  0.061584  0.105572  0.017595  0.002933  \n",
       "P48813   0.040724  0.082956  0.040724  0.075415  0.019608  0.039216  \n",
       "\n",
       "[347 rows x 20 columns]"
      ]
     },
     "execution_count": 4,
     "metadata": {},
     "output_type": "execute_result"
    }
   ],
   "source": [
    "df_aac = calculate_aac(df.sequence)\n",
    "df_aac"
   ]
  },
  {
   "cell_type": "markdown",
   "metadata": {},
   "source": [
    "### Independent test set"
   ]
  },
  {
   "cell_type": "code",
   "execution_count": 5,
   "metadata": {
    "execution": {
     "iopub.execute_input": "2022-07-27T16:19:29.604674Z",
     "iopub.status.busy": "2022-07-27T16:19:29.603856Z",
     "iopub.status.idle": "2022-07-27T16:19:29.613241Z",
     "shell.execute_reply": "2022-07-27T16:19:29.612368Z"
    }
   },
   "outputs": [],
   "source": [
    "X, y, feature_names, sample_names = preprocess_pandas(\n",
    "    df_aac, labels, return_names=True\n",
    ")\n",
    "(\n",
    "    X_train,\n",
    "    X_test,\n",
    "    y_train,\n",
    "    y_test,\n",
    "    sample_names_train,\n",
    "    sample_names_test,\n",
    ") = get_independent_test_set(X, y, sample_names=sample_names, test_size=0.2)"
   ]
  },
  {
   "cell_type": "markdown",
   "metadata": {},
   "source": [
    "### Model selection\n"
   ]
  },
  {
   "cell_type": "code",
   "execution_count": 6,
   "metadata": {
    "execution": {
     "iopub.execute_input": "2022-07-27T16:19:29.617536Z",
     "iopub.status.busy": "2022-07-27T16:19:29.617116Z",
     "iopub.status.idle": "2022-07-27T16:19:31.216499Z",
     "shell.execute_reply": "2022-07-27T16:19:31.215673Z"
    }
   },
   "outputs": [
    {
     "data": {
      "text/html": [
       "<div>\n",
       "<style scoped>\n",
       "    .dataframe tbody tr th:only-of-type {\n",
       "        vertical-align: middle;\n",
       "    }\n",
       "\n",
       "    .dataframe tbody tr th {\n",
       "        vertical-align: top;\n",
       "    }\n",
       "\n",
       "    .dataframe thead th {\n",
       "        text-align: right;\n",
       "    }\n",
       "</style>\n",
       "<table border=\"1\" class=\"dataframe\">\n",
       "  <thead>\n",
       "    <tr style=\"text-align: right;\">\n",
       "      <th></th>\n",
       "      <th>0</th>\n",
       "      <th>1</th>\n",
       "      <th>2</th>\n",
       "      <th>3</th>\n",
       "      <th>4</th>\n",
       "      <th>mean</th>\n",
       "      <th>std</th>\n",
       "    </tr>\n",
       "    <tr>\n",
       "      <th>est</th>\n",
       "      <th></th>\n",
       "      <th></th>\n",
       "      <th></th>\n",
       "      <th></th>\n",
       "      <th></th>\n",
       "      <th></th>\n",
       "      <th></th>\n",
       "    </tr>\n",
       "  </thead>\n",
       "  <tbody>\n",
       "    <tr>\n",
       "      <th>GaussianNB()</th>\n",
       "      <td>0.642</td>\n",
       "      <td>0.750</td>\n",
       "      <td>0.633</td>\n",
       "      <td>0.743</td>\n",
       "      <td>0.672</td>\n",
       "      <td>0.688</td>\n",
       "      <td>0.055</td>\n",
       "    </tr>\n",
       "    <tr>\n",
       "      <th>KNeighborsClassifier()</th>\n",
       "      <td>0.768</td>\n",
       "      <td>0.819</td>\n",
       "      <td>0.835</td>\n",
       "      <td>0.780</td>\n",
       "      <td>0.836</td>\n",
       "      <td>0.808</td>\n",
       "      <td>0.032</td>\n",
       "    </tr>\n",
       "    <tr>\n",
       "      <th>LinearSVC(class_weight='balanced', max_iter=1000000.0, random_state=0)</th>\n",
       "      <td>0.696</td>\n",
       "      <td>0.678</td>\n",
       "      <td>0.727</td>\n",
       "      <td>0.763</td>\n",
       "      <td>0.690</td>\n",
       "      <td>0.711</td>\n",
       "      <td>0.034</td>\n",
       "    </tr>\n",
       "    <tr>\n",
       "      <th>LinearSVC(max_iter=1000000.0, random_state=0)</th>\n",
       "      <td>0.677</td>\n",
       "      <td>0.696</td>\n",
       "      <td>0.727</td>\n",
       "      <td>0.745</td>\n",
       "      <td>0.690</td>\n",
       "      <td>0.707</td>\n",
       "      <td>0.028</td>\n",
       "    </tr>\n",
       "    <tr>\n",
       "      <th>RandomForestClassifier(class_weight='balanced', random_state=0)</th>\n",
       "      <td>0.768</td>\n",
       "      <td>0.875</td>\n",
       "      <td>0.764</td>\n",
       "      <td>0.776</td>\n",
       "      <td>0.778</td>\n",
       "      <td>0.792</td>\n",
       "      <td>0.047</td>\n",
       "    </tr>\n",
       "    <tr>\n",
       "      <th>RandomForestClassifier(random_state=0)</th>\n",
       "      <td>0.768</td>\n",
       "      <td>0.893</td>\n",
       "      <td>0.726</td>\n",
       "      <td>0.778</td>\n",
       "      <td>0.738</td>\n",
       "      <td>0.781</td>\n",
       "      <td>0.066</td>\n",
       "    </tr>\n",
       "    <tr>\n",
       "      <th>SGDClassifier(random_state=0)</th>\n",
       "      <td>0.607</td>\n",
       "      <td>0.679</td>\n",
       "      <td>0.654</td>\n",
       "      <td>0.673</td>\n",
       "      <td>0.673</td>\n",
       "      <td>0.657</td>\n",
       "      <td>0.030</td>\n",
       "    </tr>\n",
       "    <tr>\n",
       "      <th>SVC(class_weight='balanced', random_state=0)</th>\n",
       "      <td>0.821</td>\n",
       "      <td>0.875</td>\n",
       "      <td>0.836</td>\n",
       "      <td>0.818</td>\n",
       "      <td>0.727</td>\n",
       "      <td>0.815</td>\n",
       "      <td>0.054</td>\n",
       "    </tr>\n",
       "    <tr>\n",
       "      <th>SVC(random_state=0)</th>\n",
       "      <td>0.804</td>\n",
       "      <td>0.875</td>\n",
       "      <td>0.836</td>\n",
       "      <td>0.815</td>\n",
       "      <td>0.727</td>\n",
       "      <td>0.811</td>\n",
       "      <td>0.054</td>\n",
       "    </tr>\n",
       "  </tbody>\n",
       "</table>\n",
       "</div>"
      ],
      "text/plain": [
       "                                                        0      1      2  \\\n",
       "est                                                                       \n",
       "GaussianNB()                                        0.642  0.750  0.633   \n",
       "KNeighborsClassifier()                              0.768  0.819  0.835   \n",
       "LinearSVC(class_weight='balanced', max_iter=100...  0.696  0.678  0.727   \n",
       "LinearSVC(max_iter=1000000.0, random_state=0)       0.677  0.696  0.727   \n",
       "RandomForestClassifier(class_weight='balanced',...  0.768  0.875  0.764   \n",
       "RandomForestClassifier(random_state=0)              0.768  0.893  0.726   \n",
       "SGDClassifier(random_state=0)                       0.607  0.679  0.654   \n",
       "SVC(class_weight='balanced', random_state=0)        0.821  0.875  0.836   \n",
       "SVC(random_state=0)                                 0.804  0.875  0.836   \n",
       "\n",
       "                                                        3      4   mean    std  \n",
       "est                                                                             \n",
       "GaussianNB()                                        0.743  0.672  0.688  0.055  \n",
       "KNeighborsClassifier()                              0.780  0.836  0.808  0.032  \n",
       "LinearSVC(class_weight='balanced', max_iter=100...  0.763  0.690  0.711  0.034  \n",
       "LinearSVC(max_iter=1000000.0, random_state=0)       0.745  0.690  0.707  0.028  \n",
       "RandomForestClassifier(class_weight='balanced',...  0.776  0.778  0.792  0.047  \n",
       "RandomForestClassifier(random_state=0)              0.778  0.738  0.781  0.066  \n",
       "SGDClassifier(random_state=0)                       0.673  0.673  0.657  0.030  \n",
       "SVC(class_weight='balanced', random_state=0)        0.818  0.727  0.815  0.054  \n",
       "SVC(random_state=0)                                 0.815  0.727  0.811  0.054  "
      ]
     },
     "execution_count": 6,
     "metadata": {},
     "output_type": "execute_result"
    }
   ],
   "source": [
    "models_quick_compare(X_train, y_train)"
   ]
  },
  {
   "cell_type": "markdown",
   "metadata": {},
   "source": [
    "### Parameter tuning\n",
    "\n",
    "RBF kernel delivers slightly better results"
   ]
  },
  {
   "cell_type": "code",
   "execution_count": 7,
   "metadata": {
    "execution": {
     "iopub.execute_input": "2022-07-27T16:19:31.221165Z",
     "iopub.status.busy": "2022-07-27T16:19:31.220955Z",
     "iopub.status.idle": "2022-07-27T16:19:34.185375Z",
     "shell.execute_reply": "2022-07-27T16:19:34.184697Z"
    }
   },
   "outputs": [
    {
     "name": "stdout",
     "output_type": "stream",
     "text": [
      "{'linearsvc__C': 0.1, 'linearsvc__class_weight': 'balanced', 'linearsvc__dual': True, 'linearsvc__max_iter': 100000000.0}\n",
      "0.715\n"
     ]
    }
   ],
   "source": [
    "gsearch = optimize_hyperparams(X_train, y_train, kernel=\"linear\")"
   ]
  },
  {
   "cell_type": "code",
   "execution_count": 8,
   "metadata": {
    "execution": {
     "iopub.execute_input": "2022-07-27T16:19:34.190749Z",
     "iopub.status.busy": "2022-07-27T16:19:34.190317Z",
     "iopub.status.idle": "2022-07-27T16:19:34.623761Z",
     "shell.execute_reply": "2022-07-27T16:19:34.622492Z"
    }
   },
   "outputs": [
    {
     "name": "stdout",
     "output_type": "stream",
     "text": [
      "{'svc__C': 1, 'svc__class_weight': None, 'svc__gamma': 0.1}\n",
      "0.841\n"
     ]
    }
   ],
   "source": [
    "gsearch = optimize_hyperparams(X_train, y_train, kernel=\"rbf\", C=[0.1, 1, 10, 100])\n",
    "best_estimator_svc = gsearch"
   ]
  },
  {
   "cell_type": "markdown",
   "metadata": {},
   "source": [
    "### Dimensionality reduction"
   ]
  },
  {
   "cell_type": "markdown",
   "metadata": {},
   "source": [
    "Kbest performs slightly worse, and only removes one feature:"
   ]
  },
  {
   "cell_type": "code",
   "execution_count": 9,
   "metadata": {
    "execution": {
     "iopub.execute_input": "2022-07-27T16:19:34.629326Z",
     "iopub.status.busy": "2022-07-27T16:19:34.628801Z",
     "iopub.status.idle": "2022-07-27T16:19:37.833656Z",
     "shell.execute_reply": "2022-07-27T16:19:37.832737Z"
    }
   },
   "outputs": [
    {
     "name": "stdout",
     "output_type": "stream",
     "text": [
      "{'selectkbest__k': 19, 'svc__C': 1, 'svc__class_weight': None, 'svc__gamma': 0.1}\n",
      "0.819\n"
     ]
    }
   ],
   "source": [
    "gsearch = optimize_hyperparams(\n",
    "    X_train, y_train, kernel=\"rbf\", dim_reduction=\"kbest\"#, C=[1,10,100], gamma=[\"scale\"]\n",
    ")\n",
    "best_estimator_svc_kbest = gsearch"
   ]
  },
  {
   "cell_type": "code",
   "execution_count": 10,
   "metadata": {
    "execution": {
     "iopub.execute_input": "2022-07-27T16:19:37.837342Z",
     "iopub.status.busy": "2022-07-27T16:19:37.837025Z",
     "iopub.status.idle": "2022-07-27T16:19:37.842966Z",
     "shell.execute_reply": "2022-07-27T16:19:37.842408Z"
    }
   },
   "outputs": [
    {
     "data": {
      "text/plain": [
       "array(['N'], dtype='<U1')"
      ]
     },
     "execution_count": 10,
     "metadata": {},
     "output_type": "execute_result"
    }
   ],
   "source": [
    "feature_names[~best_estimator_svc_kbest.best_estimator_[\"selectkbest\"].get_support()]"
   ]
  },
  {
   "cell_type": "markdown",
   "metadata": {},
   "source": [
    "The amino acid whose removal improves the model is Asn."
   ]
  },
  {
   "cell_type": "markdown",
   "metadata": {},
   "source": [
    "PCA performs worse, which might be caused by the fact that it removes more information to reach 99% of variance explained:"
   ]
  },
  {
   "cell_type": "code",
   "execution_count": 11,
   "metadata": {
    "execution": {
     "iopub.execute_input": "2022-07-27T16:19:37.846164Z",
     "iopub.status.busy": "2022-07-27T16:19:37.845865Z",
     "iopub.status.idle": "2022-07-27T16:19:43.365327Z",
     "shell.execute_reply": "2022-07-27T16:19:43.364780Z"
    }
   },
   "outputs": [
    {
     "name": "stdout",
     "output_type": "stream",
     "text": [
      "{'pca__n_components': 0.99, 'svc__C': 10, 'svc__class_weight': 'balanced', 'svc__gamma': 'scale'}\n",
      "0.804\n"
     ]
    }
   ],
   "source": [
    "gsearch = optimize_hyperparams(\n",
    "    X_train,\n",
    "    y_train,\n",
    "    kernel=\"rbf\",\n",
    "    dim_reduction=\"pca\",\n",
    "    C=[0.1, 1, 10, 100],\n",
    "    gamma=[\"scale\", 1, 0.1, 0.01, 0.001],\n",
    ")\n",
    "best_estimator_svc_pca = gsearch"
   ]
  },
  {
   "cell_type": "markdown",
   "metadata": {},
   "source": [
    "### Validation\n"
   ]
  },
  {
   "cell_type": "markdown",
   "metadata": {},
   "source": [
    "#### Kbest"
   ]
  },
  {
   "cell_type": "code",
   "execution_count": 12,
   "metadata": {
    "execution": {
     "iopub.execute_input": "2022-07-27T16:19:43.368546Z",
     "iopub.status.busy": "2022-07-27T16:19:43.368311Z",
     "iopub.status.idle": "2022-07-27T16:19:43.381600Z",
     "shell.execute_reply": "2022-07-27T16:19:43.380849Z"
    }
   },
   "outputs": [
    {
     "data": {
      "text/html": [
       "<div>\n",
       "<style scoped>\n",
       "    .dataframe tbody tr th:only-of-type {\n",
       "        vertical-align: middle;\n",
       "    }\n",
       "\n",
       "    .dataframe tbody tr th {\n",
       "        vertical-align: top;\n",
       "    }\n",
       "\n",
       "    .dataframe thead th {\n",
       "        text-align: right;\n",
       "    }\n",
       "</style>\n",
       "<table border=\"1\" class=\"dataframe\">\n",
       "  <thead>\n",
       "    <tr style=\"text-align: right;\">\n",
       "      <th>predicted</th>\n",
       "      <th>Amino-acid transport</th>\n",
       "      <th>Sugar transport</th>\n",
       "    </tr>\n",
       "    <tr>\n",
       "      <th>observed</th>\n",
       "      <th></th>\n",
       "      <th></th>\n",
       "    </tr>\n",
       "  </thead>\n",
       "  <tbody>\n",
       "    <tr>\n",
       "      <th>Amino-acid transport</th>\n",
       "      <td>25</td>\n",
       "      <td>8</td>\n",
       "    </tr>\n",
       "    <tr>\n",
       "      <th>Sugar transport</th>\n",
       "      <td>11</td>\n",
       "      <td>26</td>\n",
       "    </tr>\n",
       "  </tbody>\n",
       "</table>\n",
       "</div>"
      ],
      "text/plain": [
       "predicted             Amino-acid transport  Sugar transport\n",
       "observed                                                   \n",
       "Amino-acid transport                    25                8\n",
       "Sugar transport                         11               26"
      ]
     },
     "execution_count": 12,
     "metadata": {},
     "output_type": "execute_result"
    }
   ],
   "source": [
    "get_confusion_matrix(X_test, y_test, best_estimator_svc_kbest, labels=labels)"
   ]
  },
  {
   "cell_type": "code",
   "execution_count": 13,
   "metadata": {
    "execution": {
     "iopub.execute_input": "2022-07-27T16:19:43.385591Z",
     "iopub.status.busy": "2022-07-27T16:19:43.385233Z",
     "iopub.status.idle": "2022-07-27T16:19:43.410273Z",
     "shell.execute_reply": "2022-07-27T16:19:43.409821Z"
    }
   },
   "outputs": [
    {
     "data": {
      "text/html": [
       "<div>\n",
       "<style scoped>\n",
       "    .dataframe tbody tr th:only-of-type {\n",
       "        vertical-align: middle;\n",
       "    }\n",
       "\n",
       "    .dataframe tbody tr th {\n",
       "        vertical-align: top;\n",
       "    }\n",
       "\n",
       "    .dataframe thead th {\n",
       "        text-align: right;\n",
       "    }\n",
       "</style>\n",
       "<table border=\"1\" class=\"dataframe\">\n",
       "  <thead>\n",
       "    <tr style=\"text-align: right;\">\n",
       "      <th></th>\n",
       "      <th>precision</th>\n",
       "      <th>recall</th>\n",
       "      <th>f1-score</th>\n",
       "      <th>support</th>\n",
       "    </tr>\n",
       "  </thead>\n",
       "  <tbody>\n",
       "    <tr>\n",
       "      <th>Amino-acid transport</th>\n",
       "      <td>0.694</td>\n",
       "      <td>0.758</td>\n",
       "      <td>0.725</td>\n",
       "      <td>33</td>\n",
       "    </tr>\n",
       "    <tr>\n",
       "      <th>Sugar transport</th>\n",
       "      <td>0.765</td>\n",
       "      <td>0.703</td>\n",
       "      <td>0.732</td>\n",
       "      <td>37</td>\n",
       "    </tr>\n",
       "    <tr>\n",
       "      <th>macro avg</th>\n",
       "      <td>0.730</td>\n",
       "      <td>0.730</td>\n",
       "      <td>0.729</td>\n",
       "      <td>70</td>\n",
       "    </tr>\n",
       "    <tr>\n",
       "      <th>weighted avg</th>\n",
       "      <td>0.732</td>\n",
       "      <td>0.729</td>\n",
       "      <td>0.729</td>\n",
       "      <td>70</td>\n",
       "    </tr>\n",
       "  </tbody>\n",
       "</table>\n",
       "</div>"
      ],
      "text/plain": [
       "                      precision  recall  f1-score  support\n",
       "Amino-acid transport      0.694   0.758     0.725       33\n",
       "Sugar transport           0.765   0.703     0.732       37\n",
       "macro avg                 0.730   0.730     0.729       70\n",
       "weighted avg              0.732   0.729     0.729       70"
      ]
     },
     "execution_count": 13,
     "metadata": {},
     "output_type": "execute_result"
    }
   ],
   "source": [
    "get_classification_report(X_test, y_test, best_estimator_svc_kbest, labels=labels)"
   ]
  },
  {
   "cell_type": "markdown",
   "metadata": {},
   "source": [
    "#### No feature selection:"
   ]
  },
  {
   "cell_type": "code",
   "execution_count": 14,
   "metadata": {
    "execution": {
     "iopub.execute_input": "2022-07-27T16:19:43.414304Z",
     "iopub.status.busy": "2022-07-27T16:19:43.414057Z",
     "iopub.status.idle": "2022-07-27T16:19:43.422889Z",
     "shell.execute_reply": "2022-07-27T16:19:43.422424Z"
    }
   },
   "outputs": [
    {
     "data": {
      "text/html": [
       "<div>\n",
       "<style scoped>\n",
       "    .dataframe tbody tr th:only-of-type {\n",
       "        vertical-align: middle;\n",
       "    }\n",
       "\n",
       "    .dataframe tbody tr th {\n",
       "        vertical-align: top;\n",
       "    }\n",
       "\n",
       "    .dataframe thead th {\n",
       "        text-align: right;\n",
       "    }\n",
       "</style>\n",
       "<table border=\"1\" class=\"dataframe\">\n",
       "  <thead>\n",
       "    <tr style=\"text-align: right;\">\n",
       "      <th>predicted</th>\n",
       "      <th>Amino-acid transport</th>\n",
       "      <th>Sugar transport</th>\n",
       "    </tr>\n",
       "    <tr>\n",
       "      <th>observed</th>\n",
       "      <th></th>\n",
       "      <th></th>\n",
       "    </tr>\n",
       "  </thead>\n",
       "  <tbody>\n",
       "    <tr>\n",
       "      <th>Amino-acid transport</th>\n",
       "      <td>25</td>\n",
       "      <td>8</td>\n",
       "    </tr>\n",
       "    <tr>\n",
       "      <th>Sugar transport</th>\n",
       "      <td>10</td>\n",
       "      <td>27</td>\n",
       "    </tr>\n",
       "  </tbody>\n",
       "</table>\n",
       "</div>"
      ],
      "text/plain": [
       "predicted             Amino-acid transport  Sugar transport\n",
       "observed                                                   \n",
       "Amino-acid transport                    25                8\n",
       "Sugar transport                         10               27"
      ]
     },
     "execution_count": 14,
     "metadata": {},
     "output_type": "execute_result"
    }
   ],
   "source": [
    "get_confusion_matrix(X_test, y_test, best_estimator_svc, labels=labels)"
   ]
  },
  {
   "cell_type": "code",
   "execution_count": 15,
   "metadata": {
    "execution": {
     "iopub.execute_input": "2022-07-27T16:19:43.426723Z",
     "iopub.status.busy": "2022-07-27T16:19:43.426394Z",
     "iopub.status.idle": "2022-07-27T16:19:43.445394Z",
     "shell.execute_reply": "2022-07-27T16:19:43.445074Z"
    }
   },
   "outputs": [
    {
     "data": {
      "text/html": [
       "<div>\n",
       "<style scoped>\n",
       "    .dataframe tbody tr th:only-of-type {\n",
       "        vertical-align: middle;\n",
       "    }\n",
       "\n",
       "    .dataframe tbody tr th {\n",
       "        vertical-align: top;\n",
       "    }\n",
       "\n",
       "    .dataframe thead th {\n",
       "        text-align: right;\n",
       "    }\n",
       "</style>\n",
       "<table border=\"1\" class=\"dataframe\">\n",
       "  <thead>\n",
       "    <tr style=\"text-align: right;\">\n",
       "      <th></th>\n",
       "      <th>precision</th>\n",
       "      <th>recall</th>\n",
       "      <th>f1-score</th>\n",
       "      <th>support</th>\n",
       "    </tr>\n",
       "  </thead>\n",
       "  <tbody>\n",
       "    <tr>\n",
       "      <th>Amino-acid transport</th>\n",
       "      <td>0.714</td>\n",
       "      <td>0.758</td>\n",
       "      <td>0.735</td>\n",
       "      <td>33</td>\n",
       "    </tr>\n",
       "    <tr>\n",
       "      <th>Sugar transport</th>\n",
       "      <td>0.771</td>\n",
       "      <td>0.730</td>\n",
       "      <td>0.750</td>\n",
       "      <td>37</td>\n",
       "    </tr>\n",
       "    <tr>\n",
       "      <th>macro avg</th>\n",
       "      <td>0.743</td>\n",
       "      <td>0.744</td>\n",
       "      <td>0.743</td>\n",
       "      <td>70</td>\n",
       "    </tr>\n",
       "    <tr>\n",
       "      <th>weighted avg</th>\n",
       "      <td>0.744</td>\n",
       "      <td>0.743</td>\n",
       "      <td>0.743</td>\n",
       "      <td>70</td>\n",
       "    </tr>\n",
       "  </tbody>\n",
       "</table>\n",
       "</div>"
      ],
      "text/plain": [
       "                      precision  recall  f1-score  support\n",
       "Amino-acid transport      0.714   0.758     0.735       33\n",
       "Sugar transport           0.771   0.730     0.750       37\n",
       "macro avg                 0.743   0.744     0.743       70\n",
       "weighted avg              0.744   0.743     0.743       70"
      ]
     },
     "execution_count": 15,
     "metadata": {},
     "output_type": "execute_result"
    }
   ],
   "source": [
    "get_classification_report(X_test, y_test, best_estimator_svc, labels=labels)"
   ]
  },
  {
   "cell_type": "markdown",
   "metadata": {},
   "source": [
    "#### PCA"
   ]
  },
  {
   "cell_type": "code",
   "execution_count": 16,
   "metadata": {
    "execution": {
     "iopub.execute_input": "2022-07-27T16:19:43.448616Z",
     "iopub.status.busy": "2022-07-27T16:19:43.448434Z",
     "iopub.status.idle": "2022-07-27T16:19:43.455057Z",
     "shell.execute_reply": "2022-07-27T16:19:43.454596Z"
    }
   },
   "outputs": [
    {
     "data": {
      "text/html": [
       "<div>\n",
       "<style scoped>\n",
       "    .dataframe tbody tr th:only-of-type {\n",
       "        vertical-align: middle;\n",
       "    }\n",
       "\n",
       "    .dataframe tbody tr th {\n",
       "        vertical-align: top;\n",
       "    }\n",
       "\n",
       "    .dataframe thead th {\n",
       "        text-align: right;\n",
       "    }\n",
       "</style>\n",
       "<table border=\"1\" class=\"dataframe\">\n",
       "  <thead>\n",
       "    <tr style=\"text-align: right;\">\n",
       "      <th>predicted</th>\n",
       "      <th>Amino-acid transport</th>\n",
       "      <th>Sugar transport</th>\n",
       "    </tr>\n",
       "    <tr>\n",
       "      <th>observed</th>\n",
       "      <th></th>\n",
       "      <th></th>\n",
       "    </tr>\n",
       "  </thead>\n",
       "  <tbody>\n",
       "    <tr>\n",
       "      <th>Amino-acid transport</th>\n",
       "      <td>21</td>\n",
       "      <td>12</td>\n",
       "    </tr>\n",
       "    <tr>\n",
       "      <th>Sugar transport</th>\n",
       "      <td>13</td>\n",
       "      <td>24</td>\n",
       "    </tr>\n",
       "  </tbody>\n",
       "</table>\n",
       "</div>"
      ],
      "text/plain": [
       "predicted             Amino-acid transport  Sugar transport\n",
       "observed                                                   \n",
       "Amino-acid transport                    21               12\n",
       "Sugar transport                         13               24"
      ]
     },
     "execution_count": 16,
     "metadata": {},
     "output_type": "execute_result"
    }
   ],
   "source": [
    "get_confusion_matrix(X_test, y_test, best_estimator_svc_pca, labels=labels)"
   ]
  },
  {
   "cell_type": "code",
   "execution_count": 17,
   "metadata": {
    "execution": {
     "iopub.execute_input": "2022-07-27T16:19:43.458904Z",
     "iopub.status.busy": "2022-07-27T16:19:43.458629Z",
     "iopub.status.idle": "2022-07-27T16:19:43.479423Z",
     "shell.execute_reply": "2022-07-27T16:19:43.478964Z"
    }
   },
   "outputs": [
    {
     "data": {
      "text/html": [
       "<div>\n",
       "<style scoped>\n",
       "    .dataframe tbody tr th:only-of-type {\n",
       "        vertical-align: middle;\n",
       "    }\n",
       "\n",
       "    .dataframe tbody tr th {\n",
       "        vertical-align: top;\n",
       "    }\n",
       "\n",
       "    .dataframe thead th {\n",
       "        text-align: right;\n",
       "    }\n",
       "</style>\n",
       "<table border=\"1\" class=\"dataframe\">\n",
       "  <thead>\n",
       "    <tr style=\"text-align: right;\">\n",
       "      <th></th>\n",
       "      <th>precision</th>\n",
       "      <th>recall</th>\n",
       "      <th>f1-score</th>\n",
       "      <th>support</th>\n",
       "    </tr>\n",
       "  </thead>\n",
       "  <tbody>\n",
       "    <tr>\n",
       "      <th>Amino-acid transport</th>\n",
       "      <td>0.618</td>\n",
       "      <td>0.636</td>\n",
       "      <td>0.627</td>\n",
       "      <td>33</td>\n",
       "    </tr>\n",
       "    <tr>\n",
       "      <th>Sugar transport</th>\n",
       "      <td>0.667</td>\n",
       "      <td>0.649</td>\n",
       "      <td>0.658</td>\n",
       "      <td>37</td>\n",
       "    </tr>\n",
       "    <tr>\n",
       "      <th>macro avg</th>\n",
       "      <td>0.642</td>\n",
       "      <td>0.643</td>\n",
       "      <td>0.642</td>\n",
       "      <td>70</td>\n",
       "    </tr>\n",
       "    <tr>\n",
       "      <th>weighted avg</th>\n",
       "      <td>0.644</td>\n",
       "      <td>0.643</td>\n",
       "      <td>0.643</td>\n",
       "      <td>70</td>\n",
       "    </tr>\n",
       "  </tbody>\n",
       "</table>\n",
       "</div>"
      ],
      "text/plain": [
       "                      precision  recall  f1-score  support\n",
       "Amino-acid transport      0.618   0.636     0.627       33\n",
       "Sugar transport           0.667   0.649     0.658       37\n",
       "macro avg                 0.642   0.643     0.642       70\n",
       "weighted avg              0.644   0.643     0.643       70"
      ]
     },
     "execution_count": 17,
     "metadata": {},
     "output_type": "execute_result"
    }
   ],
   "source": [
    "get_classification_report(X_test, y_test, best_estimator_svc_pca, labels=labels)"
   ]
  },
  {
   "cell_type": "markdown",
   "metadata": {},
   "source": [
    "## Checking dependence on train test split\n"
   ]
  },
  {
   "cell_type": "markdown",
   "metadata": {},
   "source": [
    "### Kbest model\n",
    "\n",
    "On average, the model performs about as good as on the split above:"
   ]
  },
  {
   "cell_type": "code",
   "execution_count": 18,
   "metadata": {
    "execution": {
     "iopub.execute_input": "2022-07-27T16:19:43.482988Z",
     "iopub.status.busy": "2022-07-27T16:19:43.482815Z",
     "iopub.status.idle": "2022-07-27T16:20:12.899057Z",
     "shell.execute_reply": "2022-07-27T16:20:12.898696Z"
    }
   },
   "outputs": [
    {
     "data": {
      "text/html": [
       "<div>\n",
       "<style scoped>\n",
       "    .dataframe tbody tr th:only-of-type {\n",
       "        vertical-align: middle;\n",
       "    }\n",
       "\n",
       "    .dataframe tbody tr th {\n",
       "        vertical-align: top;\n",
       "    }\n",
       "\n",
       "    .dataframe thead th {\n",
       "        text-align: right;\n",
       "    }\n",
       "</style>\n",
       "<table border=\"1\" class=\"dataframe\">\n",
       "  <thead>\n",
       "    <tr style=\"text-align: right;\">\n",
       "      <th>dataset</th>\n",
       "      <th>test</th>\n",
       "      <th>train</th>\n",
       "    </tr>\n",
       "    <tr>\n",
       "      <th>label</th>\n",
       "      <th></th>\n",
       "      <th></th>\n",
       "    </tr>\n",
       "  </thead>\n",
       "  <tbody>\n",
       "    <tr>\n",
       "      <th>Amino-acid transport</th>\n",
       "      <td>0.7867</td>\n",
       "      <td>0.8261</td>\n",
       "    </tr>\n",
       "    <tr>\n",
       "      <th>Sugar transport</th>\n",
       "      <td>0.8031</td>\n",
       "      <td>0.8274</td>\n",
       "    </tr>\n",
       "  </tbody>\n",
       "</table>\n",
       "</div>"
      ],
      "text/plain": [
       "dataset                 test   train\n",
       "label                               \n",
       "Amino-acid transport  0.7867  0.8261\n",
       "Sugar transport       0.8031  0.8274"
      ]
     },
     "metadata": {},
     "output_type": "display_data"
    },
    {
     "data": {
      "text/html": [
       "<div>\n",
       "<style scoped>\n",
       "    .dataframe tbody tr th:only-of-type {\n",
       "        vertical-align: middle;\n",
       "    }\n",
       "\n",
       "    .dataframe tbody tr th {\n",
       "        vertical-align: top;\n",
       "    }\n",
       "\n",
       "    .dataframe thead th {\n",
       "        text-align: right;\n",
       "    }\n",
       "</style>\n",
       "<table border=\"1\" class=\"dataframe\">\n",
       "  <thead>\n",
       "    <tr style=\"text-align: right;\">\n",
       "      <th>dataset</th>\n",
       "      <th>test</th>\n",
       "      <th>train</th>\n",
       "    </tr>\n",
       "    <tr>\n",
       "      <th>label</th>\n",
       "      <th></th>\n",
       "      <th></th>\n",
       "    </tr>\n",
       "  </thead>\n",
       "  <tbody>\n",
       "    <tr>\n",
       "      <th>Amino-acid transport</th>\n",
       "      <td>0.063523</td>\n",
       "      <td>0.021163</td>\n",
       "    </tr>\n",
       "    <tr>\n",
       "      <th>Sugar transport</th>\n",
       "      <td>0.055671</td>\n",
       "      <td>0.016641</td>\n",
       "    </tr>\n",
       "  </tbody>\n",
       "</table>\n",
       "</div>"
      ],
      "text/plain": [
       "dataset                   test     train\n",
       "label                                   \n",
       "Amino-acid transport  0.063523  0.021163\n",
       "Sugar transport       0.055671  0.016641"
      ]
     },
     "metadata": {},
     "output_type": "display_data"
    }
   ],
   "source": [
    "df_scores, df_params = full_test(\n",
    "    df_aac, labels, dim_reduction=\"kbest\", kernel=\"rbf\", repetitions=10\n",
    ")\n",
    "display(\n",
    "    df_scores.groupby([\"label\", \"dataset\"], as_index=False)\n",
    "    .mean()\n",
    "    .pivot(index=\"label\", columns=\"dataset\", values=\"F1 score\")\n",
    ")\n",
    "display(\n",
    "    df_scores.groupby([\"label\", \"dataset\"], as_index=False)\n",
    "    .std()\n",
    "    .pivot(index=\"label\", columns=\"dataset\", values=\"F1 score\")\n",
    ")"
   ]
  },
  {
   "cell_type": "markdown",
   "metadata": {},
   "source": [
    "#### PCA\n",
    "\n",
    "As before, the PCA model delivers worse results than Kbest:"
   ]
  },
  {
   "cell_type": "code",
   "execution_count": 19,
   "metadata": {
    "execution": {
     "iopub.execute_input": "2022-07-27T16:20:12.903020Z",
     "iopub.status.busy": "2022-07-27T16:20:12.902836Z",
     "iopub.status.idle": "2022-07-27T16:20:44.416639Z",
     "shell.execute_reply": "2022-07-27T16:20:44.416267Z"
    }
   },
   "outputs": [
    {
     "data": {
      "text/html": [
       "<div>\n",
       "<style scoped>\n",
       "    .dataframe tbody tr th:only-of-type {\n",
       "        vertical-align: middle;\n",
       "    }\n",
       "\n",
       "    .dataframe tbody tr th {\n",
       "        vertical-align: top;\n",
       "    }\n",
       "\n",
       "    .dataframe thead th {\n",
       "        text-align: right;\n",
       "    }\n",
       "</style>\n",
       "<table border=\"1\" class=\"dataframe\">\n",
       "  <thead>\n",
       "    <tr style=\"text-align: right;\">\n",
       "      <th>dataset</th>\n",
       "      <th>test</th>\n",
       "      <th>train</th>\n",
       "    </tr>\n",
       "    <tr>\n",
       "      <th>label</th>\n",
       "      <th></th>\n",
       "      <th></th>\n",
       "    </tr>\n",
       "  </thead>\n",
       "  <tbody>\n",
       "    <tr>\n",
       "      <th>Amino-acid transport</th>\n",
       "      <td>0.7417</td>\n",
       "      <td>0.7869</td>\n",
       "    </tr>\n",
       "    <tr>\n",
       "      <th>Sugar transport</th>\n",
       "      <td>0.7697</td>\n",
       "      <td>0.7913</td>\n",
       "    </tr>\n",
       "  </tbody>\n",
       "</table>\n",
       "</div>"
      ],
      "text/plain": [
       "dataset                 test   train\n",
       "label                               \n",
       "Amino-acid transport  0.7417  0.7869\n",
       "Sugar transport       0.7697  0.7913"
      ]
     },
     "metadata": {},
     "output_type": "display_data"
    },
    {
     "data": {
      "text/html": [
       "<div>\n",
       "<style scoped>\n",
       "    .dataframe tbody tr th:only-of-type {\n",
       "        vertical-align: middle;\n",
       "    }\n",
       "\n",
       "    .dataframe tbody tr th {\n",
       "        vertical-align: top;\n",
       "    }\n",
       "\n",
       "    .dataframe thead th {\n",
       "        text-align: right;\n",
       "    }\n",
       "</style>\n",
       "<table border=\"1\" class=\"dataframe\">\n",
       "  <thead>\n",
       "    <tr style=\"text-align: right;\">\n",
       "      <th>dataset</th>\n",
       "      <th>test</th>\n",
       "      <th>train</th>\n",
       "    </tr>\n",
       "    <tr>\n",
       "      <th>label</th>\n",
       "      <th></th>\n",
       "      <th></th>\n",
       "    </tr>\n",
       "  </thead>\n",
       "  <tbody>\n",
       "    <tr>\n",
       "      <th>Amino-acid transport</th>\n",
       "      <td>0.042301</td>\n",
       "      <td>0.031150</td>\n",
       "    </tr>\n",
       "    <tr>\n",
       "      <th>Sugar transport</th>\n",
       "      <td>0.039004</td>\n",
       "      <td>0.028269</td>\n",
       "    </tr>\n",
       "  </tbody>\n",
       "</table>\n",
       "</div>"
      ],
      "text/plain": [
       "dataset                   test     train\n",
       "label                                   \n",
       "Amino-acid transport  0.042301  0.031150\n",
       "Sugar transport       0.039004  0.028269"
      ]
     },
     "metadata": {},
     "output_type": "display_data"
    }
   ],
   "source": [
    "df_scores, df_params = full_test(\n",
    "    df_aac, labels, dim_reduction=\"pca\", kernel=\"rbf\", repetitions=10\n",
    ")\n",
    "display(\n",
    "    df_scores.groupby([\"label\", \"dataset\"], as_index=False)\n",
    "    .mean()\n",
    "    .pivot(index=\"label\", columns=\"dataset\", values=\"F1 score\")\n",
    ")\n",
    "display(\n",
    "    df_scores.groupby([\"label\", \"dataset\"], as_index=False)\n",
    "    .std()\n",
    "    .pivot(index=\"label\", columns=\"dataset\", values=\"F1 score\")\n",
    ")"
   ]
  },
  {
   "cell_type": "markdown",
   "metadata": {},
   "source": [
    "### All features\n",
    "\n",
    "Interestingly, the average performance is actually better on average without feature selection. The removal of Asn improving scores might have been something that was only the case in our split.  "
   ]
  },
  {
   "cell_type": "code",
   "execution_count": 20,
   "metadata": {
    "execution": {
     "iopub.execute_input": "2022-07-27T16:20:44.424732Z",
     "iopub.status.busy": "2022-07-27T16:20:44.424410Z",
     "iopub.status.idle": "2022-07-27T16:20:46.919101Z",
     "shell.execute_reply": "2022-07-27T16:20:46.918388Z"
    }
   },
   "outputs": [
    {
     "data": {
      "text/html": [
       "<div>\n",
       "<style scoped>\n",
       "    .dataframe tbody tr th:only-of-type {\n",
       "        vertical-align: middle;\n",
       "    }\n",
       "\n",
       "    .dataframe tbody tr th {\n",
       "        vertical-align: top;\n",
       "    }\n",
       "\n",
       "    .dataframe thead th {\n",
       "        text-align: right;\n",
       "    }\n",
       "</style>\n",
       "<table border=\"1\" class=\"dataframe\">\n",
       "  <thead>\n",
       "    <tr style=\"text-align: right;\">\n",
       "      <th>dataset</th>\n",
       "      <th>test</th>\n",
       "      <th>train</th>\n",
       "    </tr>\n",
       "    <tr>\n",
       "      <th>label</th>\n",
       "      <th></th>\n",
       "      <th></th>\n",
       "    </tr>\n",
       "  </thead>\n",
       "  <tbody>\n",
       "    <tr>\n",
       "      <th>Amino-acid transport</th>\n",
       "      <td>0.8108</td>\n",
       "      <td>0.8072</td>\n",
       "    </tr>\n",
       "    <tr>\n",
       "      <th>Sugar transport</th>\n",
       "      <td>0.8251</td>\n",
       "      <td>0.8105</td>\n",
       "    </tr>\n",
       "  </tbody>\n",
       "</table>\n",
       "</div>"
      ],
      "text/plain": [
       "dataset                 test   train\n",
       "label                               \n",
       "Amino-acid transport  0.8108  0.8072\n",
       "Sugar transport       0.8251  0.8105"
      ]
     },
     "metadata": {},
     "output_type": "display_data"
    },
    {
     "data": {
      "text/html": [
       "<div>\n",
       "<style scoped>\n",
       "    .dataframe tbody tr th:only-of-type {\n",
       "        vertical-align: middle;\n",
       "    }\n",
       "\n",
       "    .dataframe tbody tr th {\n",
       "        vertical-align: top;\n",
       "    }\n",
       "\n",
       "    .dataframe thead th {\n",
       "        text-align: right;\n",
       "    }\n",
       "</style>\n",
       "<table border=\"1\" class=\"dataframe\">\n",
       "  <thead>\n",
       "    <tr style=\"text-align: right;\">\n",
       "      <th>dataset</th>\n",
       "      <th>test</th>\n",
       "      <th>train</th>\n",
       "    </tr>\n",
       "    <tr>\n",
       "      <th>label</th>\n",
       "      <th></th>\n",
       "      <th></th>\n",
       "    </tr>\n",
       "  </thead>\n",
       "  <tbody>\n",
       "    <tr>\n",
       "      <th>Amino-acid transport</th>\n",
       "      <td>0.039440</td>\n",
       "      <td>0.025359</td>\n",
       "    </tr>\n",
       "    <tr>\n",
       "      <th>Sugar transport</th>\n",
       "      <td>0.038561</td>\n",
       "      <td>0.016715</td>\n",
       "    </tr>\n",
       "  </tbody>\n",
       "</table>\n",
       "</div>"
      ],
      "text/plain": [
       "dataset                   test     train\n",
       "label                                   \n",
       "Amino-acid transport  0.039440  0.025359\n",
       "Sugar transport       0.038561  0.016715"
      ]
     },
     "metadata": {},
     "output_type": "display_data"
    },
    {
     "data": {
      "text/html": [
       "<div>\n",
       "<style scoped>\n",
       "    .dataframe tbody tr th:only-of-type {\n",
       "        vertical-align: middle;\n",
       "    }\n",
       "\n",
       "    .dataframe tbody tr th {\n",
       "        vertical-align: top;\n",
       "    }\n",
       "\n",
       "    .dataframe thead th {\n",
       "        text-align: right;\n",
       "    }\n",
       "</style>\n",
       "<table border=\"1\" class=\"dataframe\">\n",
       "  <thead>\n",
       "    <tr style=\"text-align: right;\">\n",
       "      <th></th>\n",
       "      <th>0</th>\n",
       "      <th>1</th>\n",
       "      <th>2</th>\n",
       "      <th>3</th>\n",
       "      <th>4</th>\n",
       "      <th>5</th>\n",
       "      <th>6</th>\n",
       "      <th>7</th>\n",
       "      <th>8</th>\n",
       "      <th>9</th>\n",
       "    </tr>\n",
       "  </thead>\n",
       "  <tbody>\n",
       "    <tr>\n",
       "      <th>svc__C</th>\n",
       "      <td>1</td>\n",
       "      <td>10</td>\n",
       "      <td>1</td>\n",
       "      <td>1</td>\n",
       "      <td>10</td>\n",
       "      <td>1</td>\n",
       "      <td>10</td>\n",
       "      <td>1</td>\n",
       "      <td>1</td>\n",
       "      <td>1</td>\n",
       "    </tr>\n",
       "    <tr>\n",
       "      <th>svc__class_weight</th>\n",
       "      <td>None</td>\n",
       "      <td>balanced</td>\n",
       "      <td>balanced</td>\n",
       "      <td>balanced</td>\n",
       "      <td>balanced</td>\n",
       "      <td>balanced</td>\n",
       "      <td>balanced</td>\n",
       "      <td>None</td>\n",
       "      <td>balanced</td>\n",
       "      <td>balanced</td>\n",
       "    </tr>\n",
       "    <tr>\n",
       "      <th>svc__gamma</th>\n",
       "      <td>scale</td>\n",
       "      <td>0.1</td>\n",
       "      <td>scale</td>\n",
       "      <td>0.1</td>\n",
       "      <td>0.1</td>\n",
       "      <td>0.1</td>\n",
       "      <td>0.1</td>\n",
       "      <td>0.1</td>\n",
       "      <td>0.1</td>\n",
       "      <td>0.1</td>\n",
       "    </tr>\n",
       "  </tbody>\n",
       "</table>\n",
       "</div>"
      ],
      "text/plain": [
       "                       0         1         2         3         4         5  \\\n",
       "svc__C                 1        10         1         1        10         1   \n",
       "svc__class_weight   None  balanced  balanced  balanced  balanced  balanced   \n",
       "svc__gamma         scale       0.1     scale       0.1       0.1       0.1   \n",
       "\n",
       "                          6     7         8         9  \n",
       "svc__C                   10     1         1         1  \n",
       "svc__class_weight  balanced  None  balanced  balanced  \n",
       "svc__gamma              0.1   0.1       0.1       0.1  "
      ]
     },
     "execution_count": 20,
     "metadata": {},
     "output_type": "execute_result"
    }
   ],
   "source": [
    "df_scores, df_params = full_test(\n",
    "    df_aac, labels, kernel=\"rbf\", repetitions=10\n",
    ")\n",
    "display(\n",
    "    df_scores.groupby([\"label\", \"dataset\"], as_index=False)\n",
    "    .mean()\n",
    "    .pivot(index=\"label\", columns=\"dataset\", values=\"F1 score\")\n",
    ")\n",
    "display(\n",
    "    df_scores.groupby([\"label\", \"dataset\"], as_index=False)\n",
    "    .std()\n",
    "    .pivot(index=\"label\", columns=\"dataset\", values=\"F1 score\")\n",
    ")\n",
    "df_params"
   ]
  },
  {
   "cell_type": "markdown",
   "metadata": {},
   "source": [
    "## Conclusion\n",
    "\n",
    "Using all frequencies of the AAC together with a RBF-SVM delivers the best results for the meta-model. "
   ]
  }
 ],
 "metadata": {
  "kernelspec": {
   "display_name": "Python 3.9.12 ('subpred')",
   "language": "python",
   "name": "python3"
  },
  "language_info": {
   "codemirror_mode": {
    "name": "ipython",
    "version": 3
   },
   "file_extension": ".py",
   "mimetype": "text/x-python",
   "name": "python",
   "nbconvert_exporter": "python",
   "pygments_lexer": "ipython3",
   "version": "3.9.12"
  },
  "vscode": {
   "interpreter": {
    "hash": "a3c5a88a8b1fa059748e807688afdff6c3f31eb23364e67d8e1c7f5771f5e23f"
   }
  }
 },
 "nbformat": 4,
 "nbformat_minor": 2
}
