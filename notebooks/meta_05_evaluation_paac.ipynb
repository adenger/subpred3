{
 "cells": [
  {
   "cell_type": "markdown",
   "metadata": {},
   "source": [
    "# PAAC Feature evaluation"
   ]
  },
  {
   "cell_type": "markdown",
   "metadata": {},
   "source": [
    "# Imports"
   ]
  },
  {
   "cell_type": "code",
   "execution_count": 22,
   "metadata": {
    "execution": {
     "iopub.execute_input": "2022-07-15T14:55:50.517452Z",
     "iopub.status.busy": "2022-07-15T14:55:50.516887Z",
     "iopub.status.idle": "2022-07-15T14:55:51.119825Z",
     "shell.execute_reply": "2022-07-15T14:55:51.119305Z"
    }
   },
   "outputs": [],
   "source": [
    "from subpred.transporter_dataset import create_dataset\n",
    "from subpred.eval import (\n",
    "    get_independent_test_set,\n",
    "    optimize_hyperparams,\n",
    "    preprocess_pandas,\n",
    "    models_quick_compare,\n",
    "    get_confusion_matrix,\n",
    "    get_classification_report,\n",
    "    full_test\n",
    ")\n",
    "from subpred.compositions import calculate_paac"
   ]
  },
  {
   "cell_type": "markdown",
   "metadata": {},
   "source": [
    "# Dataset"
   ]
  },
  {
   "cell_type": "code",
   "execution_count": 23,
   "metadata": {
    "execution": {
     "iopub.execute_input": "2022-07-15T14:55:51.123015Z",
     "iopub.status.busy": "2022-07-15T14:55:51.122793Z",
     "iopub.status.idle": "2022-07-15T14:56:02.100617Z",
     "shell.execute_reply": "2022-07-15T14:56:02.099362Z"
    }
   },
   "outputs": [
    {
     "name": "stdout",
     "output_type": "stream",
     "text": [
      "cd-hit: clustered 413 sequences into 347 clusters at threshold 70\n"
     ]
    }
   ],
   "source": [
    "outliers = (\n",
    "    [\"Q9HBR0\", \"Q07837\"]\n",
    "    + [\"P76773\", \"Q47706\", \"P02943\", \"P75733\", \"P69856\", \"P64550\"]\n",
    "    + [\"O81775\", \"Q9SW07\", \"Q9FHH5\", \"Q8S8A0\", \"Q3E965\", \"Q3EAV6\", \"Q3E8L0\",]\n",
    ")\n",
    "df = create_dataset(\n",
    "    keywords_substrate_filter=[\"Amino-acid transport\", \"Sugar transport\"],\n",
    "    keywords_component_filter=[\"Transmembrane\"],\n",
    "    keywords_transport_filter=[\"Transport\"],\n",
    "    input_file=\"../data/raw/swissprot/uniprot-reviewed_yes.tab.gz\",\n",
    "    multi_substrate=\"integrate\",\n",
    "    verbose=True,\n",
    "    tax_ids_filter=[3702, 9606, 83333, 559292],\n",
    "    output_log=\"../logs/meta_amino_sugar_dataset.log\",\n",
    "    outliers=outliers,\n",
    "    sequence_clustering=70\n",
    ")\n",
    "taxid_to_organism = {\n",
    "    3702: \"A. thaliana\",\n",
    "    9606: \"Human\",\n",
    "    83333: \"E. coli\",\n",
    "    559292: \"Yeast\",\n",
    "}\n",
    "df = df.assign(organism=df.organism_id.map(taxid_to_organism))"
   ]
  },
  {
   "cell_type": "markdown",
   "metadata": {},
   "source": [
    "# Feature generation"
   ]
  },
  {
   "cell_type": "code",
   "execution_count": 24,
   "metadata": {
    "execution": {
     "iopub.execute_input": "2022-07-15T14:56:02.145262Z",
     "iopub.status.busy": "2022-07-15T14:56:02.144820Z",
     "iopub.status.idle": "2022-07-15T14:56:02.162582Z",
     "shell.execute_reply": "2022-07-15T14:56:02.161639Z"
    }
   },
   "outputs": [
    {
     "data": {
      "text/plain": [
       "Sugar transport         181\n",
       "Amino-acid transport    166\n",
       "Name: keywords_transport, dtype: int64"
      ]
     },
     "execution_count": 24,
     "metadata": {},
     "output_type": "execute_result"
    }
   ],
   "source": [
    "labels = df.keywords_transport\n",
    "labels.value_counts()"
   ]
  },
  {
   "cell_type": "code",
   "execution_count": 25,
   "metadata": {
    "execution": {
     "iopub.execute_input": "2022-07-15T14:56:02.166477Z",
     "iopub.status.busy": "2022-07-15T14:56:02.166068Z",
     "iopub.status.idle": "2022-07-15T14:56:02.244110Z",
     "shell.execute_reply": "2022-07-15T14:56:02.243402Z"
    }
   },
   "outputs": [
    {
     "data": {
      "text/html": [
       "<div>\n",
       "<style scoped>\n",
       "    .dataframe tbody tr th:only-of-type {\n",
       "        vertical-align: middle;\n",
       "    }\n",
       "\n",
       "    .dataframe tbody tr th {\n",
       "        vertical-align: top;\n",
       "    }\n",
       "\n",
       "    .dataframe thead th {\n",
       "        text-align: right;\n",
       "    }\n",
       "</style>\n",
       "<table border=\"1\" class=\"dataframe\">\n",
       "  <thead>\n",
       "    <tr style=\"text-align: right;\">\n",
       "      <th></th>\n",
       "      <th>AA</th>\n",
       "      <th>AC</th>\n",
       "      <th>AD</th>\n",
       "      <th>AE</th>\n",
       "      <th>AF</th>\n",
       "      <th>AG</th>\n",
       "      <th>AH</th>\n",
       "      <th>AI</th>\n",
       "      <th>AK</th>\n",
       "      <th>AL</th>\n",
       "      <th>...</th>\n",
       "      <th>YM</th>\n",
       "      <th>YN</th>\n",
       "      <th>YP</th>\n",
       "      <th>YQ</th>\n",
       "      <th>YR</th>\n",
       "      <th>YS</th>\n",
       "      <th>YT</th>\n",
       "      <th>YV</th>\n",
       "      <th>YW</th>\n",
       "      <th>YY</th>\n",
       "    </tr>\n",
       "    <tr>\n",
       "      <th>Uniprot</th>\n",
       "      <th></th>\n",
       "      <th></th>\n",
       "      <th></th>\n",
       "      <th></th>\n",
       "      <th></th>\n",
       "      <th></th>\n",
       "      <th></th>\n",
       "      <th></th>\n",
       "      <th></th>\n",
       "      <th></th>\n",
       "      <th></th>\n",
       "      <th></th>\n",
       "      <th></th>\n",
       "      <th></th>\n",
       "      <th></th>\n",
       "      <th></th>\n",
       "      <th></th>\n",
       "      <th></th>\n",
       "      <th></th>\n",
       "      <th></th>\n",
       "      <th></th>\n",
       "    </tr>\n",
       "  </thead>\n",
       "  <tbody>\n",
       "    <tr>\n",
       "      <th>P69801</th>\n",
       "      <td>0.030189</td>\n",
       "      <td>0.007547</td>\n",
       "      <td>0.007547</td>\n",
       "      <td>0.000000</td>\n",
       "      <td>0.007547</td>\n",
       "      <td>0.030189</td>\n",
       "      <td>0.000000</td>\n",
       "      <td>0.015094</td>\n",
       "      <td>0.000000</td>\n",
       "      <td>0.018868</td>\n",
       "      <td>...</td>\n",
       "      <td>0.000000</td>\n",
       "      <td>0.003774</td>\n",
       "      <td>0.000000</td>\n",
       "      <td>0.000000</td>\n",
       "      <td>0.000000</td>\n",
       "      <td>0.000000</td>\n",
       "      <td>0.000000</td>\n",
       "      <td>0.000000</td>\n",
       "      <td>0.000000</td>\n",
       "      <td>0.000000</td>\n",
       "    </tr>\n",
       "    <tr>\n",
       "      <th>Q9SFG0</th>\n",
       "      <td>0.005929</td>\n",
       "      <td>0.001976</td>\n",
       "      <td>0.000000</td>\n",
       "      <td>0.000000</td>\n",
       "      <td>0.005929</td>\n",
       "      <td>0.005929</td>\n",
       "      <td>0.000000</td>\n",
       "      <td>0.003953</td>\n",
       "      <td>0.003953</td>\n",
       "      <td>0.009881</td>\n",
       "      <td>...</td>\n",
       "      <td>0.001976</td>\n",
       "      <td>0.000000</td>\n",
       "      <td>0.000000</td>\n",
       "      <td>0.000000</td>\n",
       "      <td>0.001976</td>\n",
       "      <td>0.000000</td>\n",
       "      <td>0.000000</td>\n",
       "      <td>0.003953</td>\n",
       "      <td>0.000000</td>\n",
       "      <td>0.000000</td>\n",
       "    </tr>\n",
       "    <tr>\n",
       "      <th>Q08986</th>\n",
       "      <td>0.008532</td>\n",
       "      <td>0.000000</td>\n",
       "      <td>0.000000</td>\n",
       "      <td>0.006826</td>\n",
       "      <td>0.006826</td>\n",
       "      <td>0.003413</td>\n",
       "      <td>0.001706</td>\n",
       "      <td>0.008532</td>\n",
       "      <td>0.006826</td>\n",
       "      <td>0.015358</td>\n",
       "      <td>...</td>\n",
       "      <td>0.001706</td>\n",
       "      <td>0.001706</td>\n",
       "      <td>0.000000</td>\n",
       "      <td>0.001706</td>\n",
       "      <td>0.003413</td>\n",
       "      <td>0.001706</td>\n",
       "      <td>0.000000</td>\n",
       "      <td>0.003413</td>\n",
       "      <td>0.003413</td>\n",
       "      <td>0.001706</td>\n",
       "    </tr>\n",
       "    <tr>\n",
       "      <th>Q9BRV3</th>\n",
       "      <td>0.004545</td>\n",
       "      <td>0.004545</td>\n",
       "      <td>0.004545</td>\n",
       "      <td>0.000000</td>\n",
       "      <td>0.000000</td>\n",
       "      <td>0.009091</td>\n",
       "      <td>0.000000</td>\n",
       "      <td>0.000000</td>\n",
       "      <td>0.004545</td>\n",
       "      <td>0.009091</td>\n",
       "      <td>...</td>\n",
       "      <td>0.000000</td>\n",
       "      <td>0.000000</td>\n",
       "      <td>0.009091</td>\n",
       "      <td>0.000000</td>\n",
       "      <td>0.000000</td>\n",
       "      <td>0.000000</td>\n",
       "      <td>0.000000</td>\n",
       "      <td>0.000000</td>\n",
       "      <td>0.004545</td>\n",
       "      <td>0.000000</td>\n",
       "    </tr>\n",
       "    <tr>\n",
       "      <th>Q84WN3</th>\n",
       "      <td>0.004167</td>\n",
       "      <td>0.000000</td>\n",
       "      <td>0.000000</td>\n",
       "      <td>0.004167</td>\n",
       "      <td>0.004167</td>\n",
       "      <td>0.004167</td>\n",
       "      <td>0.000000</td>\n",
       "      <td>0.008333</td>\n",
       "      <td>0.004167</td>\n",
       "      <td>0.008333</td>\n",
       "      <td>...</td>\n",
       "      <td>0.004167</td>\n",
       "      <td>0.000000</td>\n",
       "      <td>0.000000</td>\n",
       "      <td>0.000000</td>\n",
       "      <td>0.004167</td>\n",
       "      <td>0.000000</td>\n",
       "      <td>0.000000</td>\n",
       "      <td>0.004167</td>\n",
       "      <td>0.000000</td>\n",
       "      <td>0.004167</td>\n",
       "    </tr>\n",
       "    <tr>\n",
       "      <th>...</th>\n",
       "      <td>...</td>\n",
       "      <td>...</td>\n",
       "      <td>...</td>\n",
       "      <td>...</td>\n",
       "      <td>...</td>\n",
       "      <td>...</td>\n",
       "      <td>...</td>\n",
       "      <td>...</td>\n",
       "      <td>...</td>\n",
       "      <td>...</td>\n",
       "      <td>...</td>\n",
       "      <td>...</td>\n",
       "      <td>...</td>\n",
       "      <td>...</td>\n",
       "      <td>...</td>\n",
       "      <td>...</td>\n",
       "      <td>...</td>\n",
       "      <td>...</td>\n",
       "      <td>...</td>\n",
       "      <td>...</td>\n",
       "      <td>...</td>\n",
       "    </tr>\n",
       "    <tr>\n",
       "      <th>F4IHS9</th>\n",
       "      <td>0.002933</td>\n",
       "      <td>0.000000</td>\n",
       "      <td>0.000000</td>\n",
       "      <td>0.000000</td>\n",
       "      <td>0.002933</td>\n",
       "      <td>0.002933</td>\n",
       "      <td>0.000000</td>\n",
       "      <td>0.008798</td>\n",
       "      <td>0.002933</td>\n",
       "      <td>0.005865</td>\n",
       "      <td>...</td>\n",
       "      <td>0.000000</td>\n",
       "      <td>0.000000</td>\n",
       "      <td>0.000000</td>\n",
       "      <td>0.008798</td>\n",
       "      <td>0.000000</td>\n",
       "      <td>0.005865</td>\n",
       "      <td>0.002933</td>\n",
       "      <td>0.000000</td>\n",
       "      <td>0.000000</td>\n",
       "      <td>0.000000</td>\n",
       "    </tr>\n",
       "    <tr>\n",
       "      <th>Q04162</th>\n",
       "      <td>0.005415</td>\n",
       "      <td>0.001805</td>\n",
       "      <td>0.001805</td>\n",
       "      <td>0.000000</td>\n",
       "      <td>0.007220</td>\n",
       "      <td>0.000000</td>\n",
       "      <td>0.000000</td>\n",
       "      <td>0.014440</td>\n",
       "      <td>0.000000</td>\n",
       "      <td>0.009025</td>\n",
       "      <td>...</td>\n",
       "      <td>0.001805</td>\n",
       "      <td>0.000000</td>\n",
       "      <td>0.003610</td>\n",
       "      <td>0.000000</td>\n",
       "      <td>0.000000</td>\n",
       "      <td>0.003610</td>\n",
       "      <td>0.003610</td>\n",
       "      <td>0.005415</td>\n",
       "      <td>0.000000</td>\n",
       "      <td>0.001805</td>\n",
       "    </tr>\n",
       "    <tr>\n",
       "      <th>P33361</th>\n",
       "      <td>0.018229</td>\n",
       "      <td>0.005208</td>\n",
       "      <td>0.000000</td>\n",
       "      <td>0.000000</td>\n",
       "      <td>0.002604</td>\n",
       "      <td>0.007812</td>\n",
       "      <td>0.000000</td>\n",
       "      <td>0.013021</td>\n",
       "      <td>0.000000</td>\n",
       "      <td>0.046875</td>\n",
       "      <td>...</td>\n",
       "      <td>0.000000</td>\n",
       "      <td>0.000000</td>\n",
       "      <td>0.000000</td>\n",
       "      <td>0.000000</td>\n",
       "      <td>0.000000</td>\n",
       "      <td>0.002604</td>\n",
       "      <td>0.000000</td>\n",
       "      <td>0.000000</td>\n",
       "      <td>0.000000</td>\n",
       "      <td>0.000000</td>\n",
       "    </tr>\n",
       "    <tr>\n",
       "      <th>P39328</th>\n",
       "      <td>0.014706</td>\n",
       "      <td>0.000000</td>\n",
       "      <td>0.005882</td>\n",
       "      <td>0.000000</td>\n",
       "      <td>0.000000</td>\n",
       "      <td>0.023529</td>\n",
       "      <td>0.000000</td>\n",
       "      <td>0.014706</td>\n",
       "      <td>0.002941</td>\n",
       "      <td>0.014706</td>\n",
       "      <td>...</td>\n",
       "      <td>0.000000</td>\n",
       "      <td>0.000000</td>\n",
       "      <td>0.000000</td>\n",
       "      <td>0.000000</td>\n",
       "      <td>0.000000</td>\n",
       "      <td>0.000000</td>\n",
       "      <td>0.000000</td>\n",
       "      <td>0.002941</td>\n",
       "      <td>0.000000</td>\n",
       "      <td>0.000000</td>\n",
       "    </tr>\n",
       "    <tr>\n",
       "      <th>P48813</th>\n",
       "      <td>0.007553</td>\n",
       "      <td>0.001511</td>\n",
       "      <td>0.003021</td>\n",
       "      <td>0.003021</td>\n",
       "      <td>0.007553</td>\n",
       "      <td>0.004532</td>\n",
       "      <td>0.000000</td>\n",
       "      <td>0.007553</td>\n",
       "      <td>0.004532</td>\n",
       "      <td>0.006042</td>\n",
       "      <td>...</td>\n",
       "      <td>0.000000</td>\n",
       "      <td>0.000000</td>\n",
       "      <td>0.001511</td>\n",
       "      <td>0.000000</td>\n",
       "      <td>0.001511</td>\n",
       "      <td>0.001511</td>\n",
       "      <td>0.003021</td>\n",
       "      <td>0.003021</td>\n",
       "      <td>0.004532</td>\n",
       "      <td>0.000000</td>\n",
       "    </tr>\n",
       "  </tbody>\n",
       "</table>\n",
       "<p>347 rows × 400 columns</p>\n",
       "</div>"
      ],
      "text/plain": [
       "               AA        AC        AD        AE        AF        AG        AH  \\\n",
       "Uniprot                                                                         \n",
       "P69801   0.030189  0.007547  0.007547  0.000000  0.007547  0.030189  0.000000   \n",
       "Q9SFG0   0.005929  0.001976  0.000000  0.000000  0.005929  0.005929  0.000000   \n",
       "Q08986   0.008532  0.000000  0.000000  0.006826  0.006826  0.003413  0.001706   \n",
       "Q9BRV3   0.004545  0.004545  0.004545  0.000000  0.000000  0.009091  0.000000   \n",
       "Q84WN3   0.004167  0.000000  0.000000  0.004167  0.004167  0.004167  0.000000   \n",
       "...           ...       ...       ...       ...       ...       ...       ...   \n",
       "F4IHS9   0.002933  0.000000  0.000000  0.000000  0.002933  0.002933  0.000000   \n",
       "Q04162   0.005415  0.001805  0.001805  0.000000  0.007220  0.000000  0.000000   \n",
       "P33361   0.018229  0.005208  0.000000  0.000000  0.002604  0.007812  0.000000   \n",
       "P39328   0.014706  0.000000  0.005882  0.000000  0.000000  0.023529  0.000000   \n",
       "P48813   0.007553  0.001511  0.003021  0.003021  0.007553  0.004532  0.000000   \n",
       "\n",
       "               AI        AK        AL  ...        YM        YN        YP  \\\n",
       "Uniprot                                ...                                 \n",
       "P69801   0.015094  0.000000  0.018868  ...  0.000000  0.003774  0.000000   \n",
       "Q9SFG0   0.003953  0.003953  0.009881  ...  0.001976  0.000000  0.000000   \n",
       "Q08986   0.008532  0.006826  0.015358  ...  0.001706  0.001706  0.000000   \n",
       "Q9BRV3   0.000000  0.004545  0.009091  ...  0.000000  0.000000  0.009091   \n",
       "Q84WN3   0.008333  0.004167  0.008333  ...  0.004167  0.000000  0.000000   \n",
       "...           ...       ...       ...  ...       ...       ...       ...   \n",
       "F4IHS9   0.008798  0.002933  0.005865  ...  0.000000  0.000000  0.000000   \n",
       "Q04162   0.014440  0.000000  0.009025  ...  0.001805  0.000000  0.003610   \n",
       "P33361   0.013021  0.000000  0.046875  ...  0.000000  0.000000  0.000000   \n",
       "P39328   0.014706  0.002941  0.014706  ...  0.000000  0.000000  0.000000   \n",
       "P48813   0.007553  0.004532  0.006042  ...  0.000000  0.000000  0.001511   \n",
       "\n",
       "               YQ        YR        YS        YT        YV        YW        YY  \n",
       "Uniprot                                                                        \n",
       "P69801   0.000000  0.000000  0.000000  0.000000  0.000000  0.000000  0.000000  \n",
       "Q9SFG0   0.000000  0.001976  0.000000  0.000000  0.003953  0.000000  0.000000  \n",
       "Q08986   0.001706  0.003413  0.001706  0.000000  0.003413  0.003413  0.001706  \n",
       "Q9BRV3   0.000000  0.000000  0.000000  0.000000  0.000000  0.004545  0.000000  \n",
       "Q84WN3   0.000000  0.004167  0.000000  0.000000  0.004167  0.000000  0.004167  \n",
       "...           ...       ...       ...       ...       ...       ...       ...  \n",
       "F4IHS9   0.008798  0.000000  0.005865  0.002933  0.000000  0.000000  0.000000  \n",
       "Q04162   0.000000  0.000000  0.003610  0.003610  0.005415  0.000000  0.001805  \n",
       "P33361   0.000000  0.000000  0.002604  0.000000  0.000000  0.000000  0.000000  \n",
       "P39328   0.000000  0.000000  0.000000  0.000000  0.002941  0.000000  0.000000  \n",
       "P48813   0.000000  0.001511  0.001511  0.003021  0.003021  0.004532  0.000000  \n",
       "\n",
       "[347 rows x 400 columns]"
      ]
     },
     "execution_count": 25,
     "metadata": {},
     "output_type": "execute_result"
    }
   ],
   "source": [
    "df_paac = calculate_paac(df.sequence)\n",
    "df_paac"
   ]
  },
  {
   "cell_type": "markdown",
   "metadata": {},
   "source": [
    "## Independent test set"
   ]
  },
  {
   "cell_type": "code",
   "execution_count": 26,
   "metadata": {
    "execution": {
     "iopub.execute_input": "2022-07-15T14:56:02.248135Z",
     "iopub.status.busy": "2022-07-15T14:56:02.248012Z",
     "iopub.status.idle": "2022-07-15T14:56:02.257950Z",
     "shell.execute_reply": "2022-07-15T14:56:02.256965Z"
    }
   },
   "outputs": [],
   "source": [
    "X, y, feature_names, sample_names = preprocess_pandas(\n",
    "    df_paac, labels, return_names=True\n",
    ")\n",
    "(\n",
    "    X_train,\n",
    "    X_test,\n",
    "    y_train,\n",
    "    y_test,\n",
    "    sample_names_train,\n",
    "    sample_names_test,\n",
    ") = get_independent_test_set(X, y, sample_names=sample_names, test_size=0.2)"
   ]
  },
  {
   "cell_type": "markdown",
   "metadata": {},
   "source": [
    "## Model comparison\n",
    "\n"
   ]
  },
  {
   "cell_type": "code",
   "execution_count": 27,
   "metadata": {
    "execution": {
     "iopub.execute_input": "2022-07-15T14:56:02.262134Z",
     "iopub.status.busy": "2022-07-15T14:56:02.261794Z",
     "iopub.status.idle": "2022-07-15T14:56:03.403810Z",
     "shell.execute_reply": "2022-07-15T14:56:03.402955Z"
    }
   },
   "outputs": [
    {
     "data": {
      "text/html": [
       "<div>\n",
       "<style scoped>\n",
       "    .dataframe tbody tr th:only-of-type {\n",
       "        vertical-align: middle;\n",
       "    }\n",
       "\n",
       "    .dataframe tbody tr th {\n",
       "        vertical-align: top;\n",
       "    }\n",
       "\n",
       "    .dataframe thead th {\n",
       "        text-align: right;\n",
       "    }\n",
       "</style>\n",
       "<table border=\"1\" class=\"dataframe\">\n",
       "  <thead>\n",
       "    <tr style=\"text-align: right;\">\n",
       "      <th></th>\n",
       "      <th>0</th>\n",
       "      <th>1</th>\n",
       "      <th>2</th>\n",
       "      <th>3</th>\n",
       "      <th>4</th>\n",
       "      <th>mean</th>\n",
       "      <th>std</th>\n",
       "    </tr>\n",
       "    <tr>\n",
       "      <th>est</th>\n",
       "      <th></th>\n",
       "      <th></th>\n",
       "      <th></th>\n",
       "      <th></th>\n",
       "      <th></th>\n",
       "      <th></th>\n",
       "      <th></th>\n",
       "    </tr>\n",
       "  </thead>\n",
       "  <tbody>\n",
       "    <tr>\n",
       "      <th>GaussianNB()</th>\n",
       "      <td>0.768</td>\n",
       "      <td>0.857</td>\n",
       "      <td>0.818</td>\n",
       "      <td>0.577</td>\n",
       "      <td>0.854</td>\n",
       "      <td>0.775</td>\n",
       "      <td>0.116</td>\n",
       "    </tr>\n",
       "    <tr>\n",
       "      <th>KNeighborsClassifier()</th>\n",
       "      <td>0.785</td>\n",
       "      <td>0.768</td>\n",
       "      <td>0.782</td>\n",
       "      <td>0.781</td>\n",
       "      <td>0.764</td>\n",
       "      <td>0.776</td>\n",
       "      <td>0.010</td>\n",
       "    </tr>\n",
       "    <tr>\n",
       "      <th>LinearSVC(class_weight='balanced', max_iter=1000000.0, random_state=0)</th>\n",
       "      <td>0.732</td>\n",
       "      <td>0.803</td>\n",
       "      <td>0.778</td>\n",
       "      <td>0.582</td>\n",
       "      <td>0.818</td>\n",
       "      <td>0.743</td>\n",
       "      <td>0.096</td>\n",
       "    </tr>\n",
       "    <tr>\n",
       "      <th>LinearSVC(max_iter=1000000.0, random_state=0)</th>\n",
       "      <td>0.732</td>\n",
       "      <td>0.803</td>\n",
       "      <td>0.778</td>\n",
       "      <td>0.582</td>\n",
       "      <td>0.818</td>\n",
       "      <td>0.743</td>\n",
       "      <td>0.096</td>\n",
       "    </tr>\n",
       "    <tr>\n",
       "      <th>RandomForestClassifier(class_weight='balanced', random_state=0)</th>\n",
       "      <td>0.764</td>\n",
       "      <td>0.804</td>\n",
       "      <td>0.817</td>\n",
       "      <td>0.626</td>\n",
       "      <td>0.780</td>\n",
       "      <td>0.758</td>\n",
       "      <td>0.076</td>\n",
       "    </tr>\n",
       "    <tr>\n",
       "      <th>RandomForestClassifier(random_state=0)</th>\n",
       "      <td>0.764</td>\n",
       "      <td>0.802</td>\n",
       "      <td>0.833</td>\n",
       "      <td>0.704</td>\n",
       "      <td>0.818</td>\n",
       "      <td>0.784</td>\n",
       "      <td>0.052</td>\n",
       "    </tr>\n",
       "    <tr>\n",
       "      <th>SGDClassifier(random_state=0)</th>\n",
       "      <td>0.692</td>\n",
       "      <td>0.747</td>\n",
       "      <td>0.741</td>\n",
       "      <td>0.580</td>\n",
       "      <td>0.763</td>\n",
       "      <td>0.705</td>\n",
       "      <td>0.075</td>\n",
       "    </tr>\n",
       "    <tr>\n",
       "      <th>SVC(class_weight='balanced', random_state=0)</th>\n",
       "      <td>0.785</td>\n",
       "      <td>0.857</td>\n",
       "      <td>0.796</td>\n",
       "      <td>0.741</td>\n",
       "      <td>0.704</td>\n",
       "      <td>0.777</td>\n",
       "      <td>0.058</td>\n",
       "    </tr>\n",
       "    <tr>\n",
       "      <th>SVC(random_state=0)</th>\n",
       "      <td>0.785</td>\n",
       "      <td>0.875</td>\n",
       "      <td>0.776</td>\n",
       "      <td>0.738</td>\n",
       "      <td>0.704</td>\n",
       "      <td>0.776</td>\n",
       "      <td>0.064</td>\n",
       "    </tr>\n",
       "  </tbody>\n",
       "</table>\n",
       "</div>"
      ],
      "text/plain": [
       "                                                        0      1      2  \\\n",
       "est                                                                       \n",
       "GaussianNB()                                        0.768  0.857  0.818   \n",
       "KNeighborsClassifier()                              0.785  0.768  0.782   \n",
       "LinearSVC(class_weight='balanced', max_iter=100...  0.732  0.803  0.778   \n",
       "LinearSVC(max_iter=1000000.0, random_state=0)       0.732  0.803  0.778   \n",
       "RandomForestClassifier(class_weight='balanced',...  0.764  0.804  0.817   \n",
       "RandomForestClassifier(random_state=0)              0.764  0.802  0.833   \n",
       "SGDClassifier(random_state=0)                       0.692  0.747  0.741   \n",
       "SVC(class_weight='balanced', random_state=0)        0.785  0.857  0.796   \n",
       "SVC(random_state=0)                                 0.785  0.875  0.776   \n",
       "\n",
       "                                                        3      4   mean    std  \n",
       "est                                                                             \n",
       "GaussianNB()                                        0.577  0.854  0.775  0.116  \n",
       "KNeighborsClassifier()                              0.781  0.764  0.776  0.010  \n",
       "LinearSVC(class_weight='balanced', max_iter=100...  0.582  0.818  0.743  0.096  \n",
       "LinearSVC(max_iter=1000000.0, random_state=0)       0.582  0.818  0.743  0.096  \n",
       "RandomForestClassifier(class_weight='balanced',...  0.626  0.780  0.758  0.076  \n",
       "RandomForestClassifier(random_state=0)              0.704  0.818  0.784  0.052  \n",
       "SGDClassifier(random_state=0)                       0.580  0.763  0.705  0.075  \n",
       "SVC(class_weight='balanced', random_state=0)        0.741  0.704  0.777  0.058  \n",
       "SVC(random_state=0)                                 0.738  0.704  0.776  0.064  "
      ]
     },
     "execution_count": 27,
     "metadata": {},
     "output_type": "execute_result"
    }
   ],
   "source": [
    "models_quick_compare(X_train, y_train)"
   ]
  },
  {
   "cell_type": "markdown",
   "metadata": {},
   "source": [
    "## Parameter tuning\n",
    "\n",
    "RBF kernel delivers better results when using all features. "
   ]
  },
  {
   "cell_type": "code",
   "execution_count": 28,
   "metadata": {
    "execution": {
     "iopub.execute_input": "2022-07-15T14:56:03.409452Z",
     "iopub.status.busy": "2022-07-15T14:56:03.409014Z",
     "iopub.status.idle": "2022-07-15T14:56:06.321828Z",
     "shell.execute_reply": "2022-07-15T14:56:06.320874Z"
    }
   },
   "outputs": [
    {
     "name": "stdout",
     "output_type": "stream",
     "text": [
      "{'linearsvc__C': 0.001, 'linearsvc__class_weight': 'balanced', 'linearsvc__dual': True, 'linearsvc__max_iter': 100000000.0}\n",
      "0.783\n"
     ]
    }
   ],
   "source": [
    "gsearch = optimize_hyperparams(X_train, y_train, kernel=\"linear\", C=[0.0001, 0.001, 0.01, 0.1, 1, 10])\n",
    "best_estimator_lsvc = gsearch"
   ]
  },
  {
   "cell_type": "code",
   "execution_count": 29,
   "metadata": {
    "execution": {
     "iopub.execute_input": "2022-07-15T14:56:06.325967Z",
     "iopub.status.busy": "2022-07-15T14:56:06.325714Z",
     "iopub.status.idle": "2022-07-15T14:56:06.515528Z",
     "shell.execute_reply": "2022-07-15T14:56:06.514710Z"
    }
   },
   "outputs": [
    {
     "name": "stdout",
     "output_type": "stream",
     "text": [
      "{'svc__C': 10, 'svc__class_weight': 'balanced', 'svc__gamma': 'scale'}\n",
      "0.791\n"
     ]
    }
   ],
   "source": [
    "gsearch = optimize_hyperparams(\n",
    "    X_train, y_train, kernel=\"rbf\", C=[0.1, 1, 10, 100]\n",
    ")\n",
    "best_estimator_svc = gsearch"
   ]
  },
  {
   "cell_type": "markdown",
   "metadata": {},
   "source": [
    "## Dimensionality reduction"
   ]
  },
  {
   "cell_type": "markdown",
   "metadata": {},
   "source": [
    "### Linear kernel"
   ]
  },
  {
   "cell_type": "markdown",
   "metadata": {},
   "source": [
    "PCA does not lead to improvements:"
   ]
  },
  {
   "cell_type": "code",
   "execution_count": 30,
   "metadata": {
    "execution": {
     "iopub.execute_input": "2022-07-15T14:56:06.520799Z",
     "iopub.status.busy": "2022-07-15T14:56:06.520414Z",
     "iopub.status.idle": "2022-07-15T14:56:09.396257Z",
     "shell.execute_reply": "2022-07-15T14:56:09.395456Z"
    }
   },
   "outputs": [
    {
     "name": "stdout",
     "output_type": "stream",
     "text": [
      "{'linearsvc__C': 0.01, 'linearsvc__class_weight': None, 'linearsvc__dual': True, 'linearsvc__max_iter': 100000000.0, 'pca__n_components': 0.8200000000000001}\n",
      "0.79\n"
     ]
    }
   ],
   "source": [
    "gsearch = optimize_hyperparams(\n",
    "    X_train,\n",
    "    y_train,\n",
    "    kernel=\"linear\",\n",
    "    dim_reduction=\"pca\",\n",
    "    C=[1, 0.01, 0.1, 10],\n",
    ")\n",
    "best_estimator_lsvc_pca = gsearch"
   ]
  },
  {
   "cell_type": "markdown",
   "metadata": {},
   "source": [
    "Kbest perform worse with the linear kernel:"
   ]
  },
  {
   "cell_type": "code",
   "execution_count": 31,
   "metadata": {
    "execution": {
     "iopub.execute_input": "2022-07-15T14:56:09.402766Z",
     "iopub.status.busy": "2022-07-15T14:56:09.402265Z",
     "iopub.status.idle": "2022-07-15T14:56:40.686880Z",
     "shell.execute_reply": "2022-07-15T14:56:40.686151Z"
    }
   },
   "outputs": [
    {
     "name": "stdout",
     "output_type": "stream",
     "text": [
      "{'linearsvc__C': 0.1, 'linearsvc__class_weight': 'balanced', 'linearsvc__dual': True, 'linearsvc__max_iter': 100000000.0, 'selectkbest__k': 321}\n",
      "0.757\n"
     ]
    }
   ],
   "source": [
    "gsearch = optimize_hyperparams(\n",
    "    X_train,\n",
    "    y_train,\n",
    "    kernel=\"linear\",\n",
    "    dim_reduction=\"kbest\",\n",
    "    select_k_steps=20,\n",
    "    remove_zero_var=True,\n",
    "    C=[0.1, 1, 10],\n",
    ")\n",
    "best_estimator_lsvc_kbest = gsearch"
   ]
  },
  {
   "cell_type": "markdown",
   "metadata": {},
   "source": [
    "#### RBF"
   ]
  },
  {
   "cell_type": "code",
   "execution_count": 32,
   "metadata": {
    "execution": {
     "iopub.execute_input": "2022-07-15T14:56:40.692599Z",
     "iopub.status.busy": "2022-07-15T14:56:40.692195Z",
     "iopub.status.idle": "2022-07-15T14:57:42.715635Z",
     "shell.execute_reply": "2022-07-15T14:57:42.714963Z"
    }
   },
   "outputs": [
    {
     "name": "stdout",
     "output_type": "stream",
     "text": [
      "{'pca__n_components': 0.87, 'svc__C': 10, 'svc__class_weight': 'balanced', 'svc__gamma': 0.01}\n",
      "0.819\n"
     ]
    }
   ],
   "source": [
    "gsearch = optimize_hyperparams(\n",
    "    X_train,\n",
    "    y_train,\n",
    "    kernel=\"rbf\",\n",
    "    dim_reduction=\"pca\",\n",
    "    C=[0.1, 1, 10, 100],\n",
    "    # gamma = [1e-0, 1e-1, 1e-2, 1e-3,\"scale\"]\n",
    ")\n",
    "best_estimator_svc_pca = gsearch"
   ]
  },
  {
   "cell_type": "markdown",
   "metadata": {},
   "source": [
    "With the RBF kernel, the kbest model performs the best. It only removes nine features."
   ]
  },
  {
   "cell_type": "code",
   "execution_count": 33,
   "metadata": {
    "execution": {
     "iopub.execute_input": "2022-07-15T14:57:42.720641Z",
     "iopub.status.busy": "2022-07-15T14:57:42.720336Z",
     "iopub.status.idle": "2022-07-15T14:57:46.207541Z",
     "shell.execute_reply": "2022-07-15T14:57:46.206790Z"
    }
   },
   "outputs": [
    {
     "name": "stdout",
     "output_type": "stream",
     "text": [
      "{'selectkbest__k': 371, 'svc__C': 10, 'svc__class_weight': 'balanced', 'svc__gamma': 'scale'}\n",
      "0.814\n"
     ]
    }
   ],
   "source": [
    "gsearch = optimize_hyperparams(\n",
    "    X_train,\n",
    "    y_train,\n",
    "    kernel=\"rbf\",\n",
    "    dim_reduction=\"kbest\",\n",
    "    select_k_steps=10,\n",
    "    remove_zero_var=True,\n",
    "    C=[0.1, 1, 10, 100],\n",
    ")\n",
    "best_estimator_svc_kbest = gsearch"
   ]
  },
  {
   "cell_type": "code",
   "execution_count": 34,
   "metadata": {},
   "outputs": [
    {
     "data": {
      "text/plain": [
       "array(['AD', 'CR', 'DH', 'FM', 'GK', 'GL', 'HD', 'IK', 'IY', 'KF', 'KI',\n",
       "       'KW', 'LE', 'LS', 'MK', 'NA', 'NH', 'PM', 'PN', 'QD', 'SK', 'TG',\n",
       "       'TM', 'TQ', 'TW', 'VV', 'WK', 'WS', 'YV'], dtype='<U2')"
      ]
     },
     "execution_count": 34,
     "metadata": {},
     "output_type": "execute_result"
    }
   ],
   "source": [
    "feature_names[~best_estimator_svc_kbest.best_estimator_[\"selectkbest\"].get_support()]"
   ]
  },
  {
   "cell_type": "markdown",
   "metadata": {},
   "source": [
    "The RBF kernel with feature selection shows the best result here."
   ]
  },
  {
   "cell_type": "markdown",
   "metadata": {},
   "source": [
    "## Validation\n",
    "\n",
    "RBF with all features delivers the best results on the test set:"
   ]
  },
  {
   "cell_type": "markdown",
   "metadata": {},
   "source": [
    "### Linear kernel"
   ]
  },
  {
   "cell_type": "code",
   "execution_count": 35,
   "metadata": {},
   "outputs": [
    {
     "data": {
      "text/html": [
       "<div>\n",
       "<style scoped>\n",
       "    .dataframe tbody tr th:only-of-type {\n",
       "        vertical-align: middle;\n",
       "    }\n",
       "\n",
       "    .dataframe tbody tr th {\n",
       "        vertical-align: top;\n",
       "    }\n",
       "\n",
       "    .dataframe thead th {\n",
       "        text-align: right;\n",
       "    }\n",
       "</style>\n",
       "<table border=\"1\" class=\"dataframe\">\n",
       "  <thead>\n",
       "    <tr style=\"text-align: right;\">\n",
       "      <th>predicted</th>\n",
       "      <th>Amino-acid transport</th>\n",
       "      <th>Sugar transport</th>\n",
       "    </tr>\n",
       "    <tr>\n",
       "      <th>observed</th>\n",
       "      <th></th>\n",
       "      <th></th>\n",
       "    </tr>\n",
       "  </thead>\n",
       "  <tbody>\n",
       "    <tr>\n",
       "      <th>Amino-acid transport</th>\n",
       "      <td>26</td>\n",
       "      <td>7</td>\n",
       "    </tr>\n",
       "    <tr>\n",
       "      <th>Sugar transport</th>\n",
       "      <td>10</td>\n",
       "      <td>27</td>\n",
       "    </tr>\n",
       "  </tbody>\n",
       "</table>\n",
       "</div>"
      ],
      "text/plain": [
       "predicted             Amino-acid transport  Sugar transport\n",
       "observed                                                   \n",
       "Amino-acid transport                    26                7\n",
       "Sugar transport                         10               27"
      ]
     },
     "metadata": {},
     "output_type": "display_data"
    },
    {
     "data": {
      "text/html": [
       "<div>\n",
       "<style scoped>\n",
       "    .dataframe tbody tr th:only-of-type {\n",
       "        vertical-align: middle;\n",
       "    }\n",
       "\n",
       "    .dataframe tbody tr th {\n",
       "        vertical-align: top;\n",
       "    }\n",
       "\n",
       "    .dataframe thead th {\n",
       "        text-align: right;\n",
       "    }\n",
       "</style>\n",
       "<table border=\"1\" class=\"dataframe\">\n",
       "  <thead>\n",
       "    <tr style=\"text-align: right;\">\n",
       "      <th></th>\n",
       "      <th>precision</th>\n",
       "      <th>recall</th>\n",
       "      <th>f1-score</th>\n",
       "      <th>support</th>\n",
       "    </tr>\n",
       "  </thead>\n",
       "  <tbody>\n",
       "    <tr>\n",
       "      <th>Amino-acid transport</th>\n",
       "      <td>0.722</td>\n",
       "      <td>0.788</td>\n",
       "      <td>0.754</td>\n",
       "      <td>33</td>\n",
       "    </tr>\n",
       "    <tr>\n",
       "      <th>Sugar transport</th>\n",
       "      <td>0.794</td>\n",
       "      <td>0.730</td>\n",
       "      <td>0.761</td>\n",
       "      <td>37</td>\n",
       "    </tr>\n",
       "    <tr>\n",
       "      <th>macro avg</th>\n",
       "      <td>0.758</td>\n",
       "      <td>0.759</td>\n",
       "      <td>0.757</td>\n",
       "      <td>70</td>\n",
       "    </tr>\n",
       "    <tr>\n",
       "      <th>weighted avg</th>\n",
       "      <td>0.760</td>\n",
       "      <td>0.757</td>\n",
       "      <td>0.757</td>\n",
       "      <td>70</td>\n",
       "    </tr>\n",
       "  </tbody>\n",
       "</table>\n",
       "</div>"
      ],
      "text/plain": [
       "                      precision  recall  f1-score  support\n",
       "Amino-acid transport      0.722   0.788     0.754       33\n",
       "Sugar transport           0.794   0.730     0.761       37\n",
       "macro avg                 0.758   0.759     0.757       70\n",
       "weighted avg              0.760   0.757     0.757       70"
      ]
     },
     "metadata": {},
     "output_type": "display_data"
    }
   ],
   "source": [
    "display(get_confusion_matrix(X_test, y_test, best_estimator_lsvc, labels=labels))\n",
    "display(get_classification_report(X_test, y_test, best_estimator_lsvc, labels=labels))"
   ]
  },
  {
   "cell_type": "code",
   "execution_count": 36,
   "metadata": {
    "execution": {
     "iopub.execute_input": "2022-07-15T14:57:46.213302Z",
     "iopub.status.busy": "2022-07-15T14:57:46.212842Z",
     "iopub.status.idle": "2022-07-15T14:57:46.226597Z",
     "shell.execute_reply": "2022-07-15T14:57:46.225897Z"
    }
   },
   "outputs": [
    {
     "data": {
      "text/html": [
       "<div>\n",
       "<style scoped>\n",
       "    .dataframe tbody tr th:only-of-type {\n",
       "        vertical-align: middle;\n",
       "    }\n",
       "\n",
       "    .dataframe tbody tr th {\n",
       "        vertical-align: top;\n",
       "    }\n",
       "\n",
       "    .dataframe thead th {\n",
       "        text-align: right;\n",
       "    }\n",
       "</style>\n",
       "<table border=\"1\" class=\"dataframe\">\n",
       "  <thead>\n",
       "    <tr style=\"text-align: right;\">\n",
       "      <th>predicted</th>\n",
       "      <th>Amino-acid transport</th>\n",
       "      <th>Sugar transport</th>\n",
       "    </tr>\n",
       "    <tr>\n",
       "      <th>observed</th>\n",
       "      <th></th>\n",
       "      <th></th>\n",
       "    </tr>\n",
       "  </thead>\n",
       "  <tbody>\n",
       "    <tr>\n",
       "      <th>Amino-acid transport</th>\n",
       "      <td>26</td>\n",
       "      <td>7</td>\n",
       "    </tr>\n",
       "    <tr>\n",
       "      <th>Sugar transport</th>\n",
       "      <td>12</td>\n",
       "      <td>25</td>\n",
       "    </tr>\n",
       "  </tbody>\n",
       "</table>\n",
       "</div>"
      ],
      "text/plain": [
       "predicted             Amino-acid transport  Sugar transport\n",
       "observed                                                   \n",
       "Amino-acid transport                    26                7\n",
       "Sugar transport                         12               25"
      ]
     },
     "metadata": {},
     "output_type": "display_data"
    },
    {
     "data": {
      "text/html": [
       "<div>\n",
       "<style scoped>\n",
       "    .dataframe tbody tr th:only-of-type {\n",
       "        vertical-align: middle;\n",
       "    }\n",
       "\n",
       "    .dataframe tbody tr th {\n",
       "        vertical-align: top;\n",
       "    }\n",
       "\n",
       "    .dataframe thead th {\n",
       "        text-align: right;\n",
       "    }\n",
       "</style>\n",
       "<table border=\"1\" class=\"dataframe\">\n",
       "  <thead>\n",
       "    <tr style=\"text-align: right;\">\n",
       "      <th></th>\n",
       "      <th>precision</th>\n",
       "      <th>recall</th>\n",
       "      <th>f1-score</th>\n",
       "      <th>support</th>\n",
       "    </tr>\n",
       "  </thead>\n",
       "  <tbody>\n",
       "    <tr>\n",
       "      <th>Amino-acid transport</th>\n",
       "      <td>0.684</td>\n",
       "      <td>0.788</td>\n",
       "      <td>0.732</td>\n",
       "      <td>33</td>\n",
       "    </tr>\n",
       "    <tr>\n",
       "      <th>Sugar transport</th>\n",
       "      <td>0.781</td>\n",
       "      <td>0.676</td>\n",
       "      <td>0.725</td>\n",
       "      <td>37</td>\n",
       "    </tr>\n",
       "    <tr>\n",
       "      <th>macro avg</th>\n",
       "      <td>0.733</td>\n",
       "      <td>0.732</td>\n",
       "      <td>0.729</td>\n",
       "      <td>70</td>\n",
       "    </tr>\n",
       "    <tr>\n",
       "      <th>weighted avg</th>\n",
       "      <td>0.736</td>\n",
       "      <td>0.729</td>\n",
       "      <td>0.728</td>\n",
       "      <td>70</td>\n",
       "    </tr>\n",
       "  </tbody>\n",
       "</table>\n",
       "</div>"
      ],
      "text/plain": [
       "                      precision  recall  f1-score  support\n",
       "Amino-acid transport      0.684   0.788     0.732       33\n",
       "Sugar transport           0.781   0.676     0.725       37\n",
       "macro avg                 0.733   0.732     0.729       70\n",
       "weighted avg              0.736   0.729     0.728       70"
      ]
     },
     "metadata": {},
     "output_type": "display_data"
    }
   ],
   "source": [
    "display(get_confusion_matrix(X_test, y_test, best_estimator_lsvc_kbest, labels=labels))\n",
    "display(get_classification_report(X_test, y_test, best_estimator_lsvc_kbest, labels=labels))"
   ]
  },
  {
   "cell_type": "code",
   "execution_count": 37,
   "metadata": {
    "execution": {
     "iopub.execute_input": "2022-07-15T14:57:46.231162Z",
     "iopub.status.busy": "2022-07-15T14:57:46.230727Z",
     "iopub.status.idle": "2022-07-15T14:57:46.256674Z",
     "shell.execute_reply": "2022-07-15T14:57:46.255866Z"
    }
   },
   "outputs": [
    {
     "data": {
      "text/html": [
       "<div>\n",
       "<style scoped>\n",
       "    .dataframe tbody tr th:only-of-type {\n",
       "        vertical-align: middle;\n",
       "    }\n",
       "\n",
       "    .dataframe tbody tr th {\n",
       "        vertical-align: top;\n",
       "    }\n",
       "\n",
       "    .dataframe thead th {\n",
       "        text-align: right;\n",
       "    }\n",
       "</style>\n",
       "<table border=\"1\" class=\"dataframe\">\n",
       "  <thead>\n",
       "    <tr style=\"text-align: right;\">\n",
       "      <th>predicted</th>\n",
       "      <th>Amino-acid transport</th>\n",
       "      <th>Sugar transport</th>\n",
       "    </tr>\n",
       "    <tr>\n",
       "      <th>observed</th>\n",
       "      <th></th>\n",
       "      <th></th>\n",
       "    </tr>\n",
       "  </thead>\n",
       "  <tbody>\n",
       "    <tr>\n",
       "      <th>Amino-acid transport</th>\n",
       "      <td>26</td>\n",
       "      <td>7</td>\n",
       "    </tr>\n",
       "    <tr>\n",
       "      <th>Sugar transport</th>\n",
       "      <td>9</td>\n",
       "      <td>28</td>\n",
       "    </tr>\n",
       "  </tbody>\n",
       "</table>\n",
       "</div>"
      ],
      "text/plain": [
       "predicted             Amino-acid transport  Sugar transport\n",
       "observed                                                   \n",
       "Amino-acid transport                    26                7\n",
       "Sugar transport                          9               28"
      ]
     },
     "metadata": {},
     "output_type": "display_data"
    },
    {
     "data": {
      "text/html": [
       "<div>\n",
       "<style scoped>\n",
       "    .dataframe tbody tr th:only-of-type {\n",
       "        vertical-align: middle;\n",
       "    }\n",
       "\n",
       "    .dataframe tbody tr th {\n",
       "        vertical-align: top;\n",
       "    }\n",
       "\n",
       "    .dataframe thead th {\n",
       "        text-align: right;\n",
       "    }\n",
       "</style>\n",
       "<table border=\"1\" class=\"dataframe\">\n",
       "  <thead>\n",
       "    <tr style=\"text-align: right;\">\n",
       "      <th></th>\n",
       "      <th>precision</th>\n",
       "      <th>recall</th>\n",
       "      <th>f1-score</th>\n",
       "      <th>support</th>\n",
       "    </tr>\n",
       "  </thead>\n",
       "  <tbody>\n",
       "    <tr>\n",
       "      <th>Amino-acid transport</th>\n",
       "      <td>0.743</td>\n",
       "      <td>0.788</td>\n",
       "      <td>0.765</td>\n",
       "      <td>33</td>\n",
       "    </tr>\n",
       "    <tr>\n",
       "      <th>Sugar transport</th>\n",
       "      <td>0.800</td>\n",
       "      <td>0.757</td>\n",
       "      <td>0.778</td>\n",
       "      <td>37</td>\n",
       "    </tr>\n",
       "    <tr>\n",
       "      <th>macro avg</th>\n",
       "      <td>0.771</td>\n",
       "      <td>0.772</td>\n",
       "      <td>0.771</td>\n",
       "      <td>70</td>\n",
       "    </tr>\n",
       "    <tr>\n",
       "      <th>weighted avg</th>\n",
       "      <td>0.773</td>\n",
       "      <td>0.771</td>\n",
       "      <td>0.772</td>\n",
       "      <td>70</td>\n",
       "    </tr>\n",
       "  </tbody>\n",
       "</table>\n",
       "</div>"
      ],
      "text/plain": [
       "                      precision  recall  f1-score  support\n",
       "Amino-acid transport      0.743   0.788     0.765       33\n",
       "Sugar transport           0.800   0.757     0.778       37\n",
       "macro avg                 0.771   0.772     0.771       70\n",
       "weighted avg              0.773   0.771     0.772       70"
      ]
     },
     "metadata": {},
     "output_type": "display_data"
    }
   ],
   "source": [
    "display(get_confusion_matrix(X_test, y_test, best_estimator_lsvc_pca, labels=labels))\n",
    "display(get_classification_report(X_test, y_test, best_estimator_lsvc_pca, labels=labels))"
   ]
  },
  {
   "cell_type": "markdown",
   "metadata": {},
   "source": [
    "### RBF kernel"
   ]
  },
  {
   "cell_type": "code",
   "execution_count": 38,
   "metadata": {},
   "outputs": [
    {
     "data": {
      "text/html": [
       "<div>\n",
       "<style scoped>\n",
       "    .dataframe tbody tr th:only-of-type {\n",
       "        vertical-align: middle;\n",
       "    }\n",
       "\n",
       "    .dataframe tbody tr th {\n",
       "        vertical-align: top;\n",
       "    }\n",
       "\n",
       "    .dataframe thead th {\n",
       "        text-align: right;\n",
       "    }\n",
       "</style>\n",
       "<table border=\"1\" class=\"dataframe\">\n",
       "  <thead>\n",
       "    <tr style=\"text-align: right;\">\n",
       "      <th>predicted</th>\n",
       "      <th>Amino-acid transport</th>\n",
       "      <th>Sugar transport</th>\n",
       "    </tr>\n",
       "    <tr>\n",
       "      <th>observed</th>\n",
       "      <th></th>\n",
       "      <th></th>\n",
       "    </tr>\n",
       "  </thead>\n",
       "  <tbody>\n",
       "    <tr>\n",
       "      <th>Amino-acid transport</th>\n",
       "      <td>25</td>\n",
       "      <td>8</td>\n",
       "    </tr>\n",
       "    <tr>\n",
       "      <th>Sugar transport</th>\n",
       "      <td>6</td>\n",
       "      <td>31</td>\n",
       "    </tr>\n",
       "  </tbody>\n",
       "</table>\n",
       "</div>"
      ],
      "text/plain": [
       "predicted             Amino-acid transport  Sugar transport\n",
       "observed                                                   \n",
       "Amino-acid transport                    25                8\n",
       "Sugar transport                          6               31"
      ]
     },
     "metadata": {},
     "output_type": "display_data"
    },
    {
     "data": {
      "text/html": [
       "<div>\n",
       "<style scoped>\n",
       "    .dataframe tbody tr th:only-of-type {\n",
       "        vertical-align: middle;\n",
       "    }\n",
       "\n",
       "    .dataframe tbody tr th {\n",
       "        vertical-align: top;\n",
       "    }\n",
       "\n",
       "    .dataframe thead th {\n",
       "        text-align: right;\n",
       "    }\n",
       "</style>\n",
       "<table border=\"1\" class=\"dataframe\">\n",
       "  <thead>\n",
       "    <tr style=\"text-align: right;\">\n",
       "      <th></th>\n",
       "      <th>precision</th>\n",
       "      <th>recall</th>\n",
       "      <th>f1-score</th>\n",
       "      <th>support</th>\n",
       "    </tr>\n",
       "  </thead>\n",
       "  <tbody>\n",
       "    <tr>\n",
       "      <th>Amino-acid transport</th>\n",
       "      <td>0.806</td>\n",
       "      <td>0.758</td>\n",
       "      <td>0.781</td>\n",
       "      <td>33</td>\n",
       "    </tr>\n",
       "    <tr>\n",
       "      <th>Sugar transport</th>\n",
       "      <td>0.795</td>\n",
       "      <td>0.838</td>\n",
       "      <td>0.816</td>\n",
       "      <td>37</td>\n",
       "    </tr>\n",
       "    <tr>\n",
       "      <th>macro avg</th>\n",
       "      <td>0.801</td>\n",
       "      <td>0.798</td>\n",
       "      <td>0.799</td>\n",
       "      <td>70</td>\n",
       "    </tr>\n",
       "    <tr>\n",
       "      <th>weighted avg</th>\n",
       "      <td>0.800</td>\n",
       "      <td>0.800</td>\n",
       "      <td>0.800</td>\n",
       "      <td>70</td>\n",
       "    </tr>\n",
       "  </tbody>\n",
       "</table>\n",
       "</div>"
      ],
      "text/plain": [
       "                      precision  recall  f1-score  support\n",
       "Amino-acid transport      0.806   0.758     0.781       33\n",
       "Sugar transport           0.795   0.838     0.816       37\n",
       "macro avg                 0.801   0.798     0.799       70\n",
       "weighted avg              0.800   0.800     0.800       70"
      ]
     },
     "metadata": {},
     "output_type": "display_data"
    }
   ],
   "source": [
    "display(get_confusion_matrix(X_test, y_test, best_estimator_svc, labels=labels))\n",
    "display(get_classification_report(X_test, y_test, best_estimator_svc, labels=labels))"
   ]
  },
  {
   "cell_type": "code",
   "execution_count": 39,
   "metadata": {
    "execution": {
     "iopub.execute_input": "2022-07-15T14:57:46.261754Z",
     "iopub.status.busy": "2022-07-15T14:57:46.261283Z",
     "iopub.status.idle": "2022-07-15T14:57:46.273567Z",
     "shell.execute_reply": "2022-07-15T14:57:46.272809Z"
    }
   },
   "outputs": [
    {
     "data": {
      "text/html": [
       "<div>\n",
       "<style scoped>\n",
       "    .dataframe tbody tr th:only-of-type {\n",
       "        vertical-align: middle;\n",
       "    }\n",
       "\n",
       "    .dataframe tbody tr th {\n",
       "        vertical-align: top;\n",
       "    }\n",
       "\n",
       "    .dataframe thead th {\n",
       "        text-align: right;\n",
       "    }\n",
       "</style>\n",
       "<table border=\"1\" class=\"dataframe\">\n",
       "  <thead>\n",
       "    <tr style=\"text-align: right;\">\n",
       "      <th>predicted</th>\n",
       "      <th>Amino-acid transport</th>\n",
       "      <th>Sugar transport</th>\n",
       "    </tr>\n",
       "    <tr>\n",
       "      <th>observed</th>\n",
       "      <th></th>\n",
       "      <th></th>\n",
       "    </tr>\n",
       "  </thead>\n",
       "  <tbody>\n",
       "    <tr>\n",
       "      <th>Amino-acid transport</th>\n",
       "      <td>24</td>\n",
       "      <td>9</td>\n",
       "    </tr>\n",
       "    <tr>\n",
       "      <th>Sugar transport</th>\n",
       "      <td>6</td>\n",
       "      <td>31</td>\n",
       "    </tr>\n",
       "  </tbody>\n",
       "</table>\n",
       "</div>"
      ],
      "text/plain": [
       "predicted             Amino-acid transport  Sugar transport\n",
       "observed                                                   \n",
       "Amino-acid transport                    24                9\n",
       "Sugar transport                          6               31"
      ]
     },
     "metadata": {},
     "output_type": "display_data"
    },
    {
     "data": {
      "text/html": [
       "<div>\n",
       "<style scoped>\n",
       "    .dataframe tbody tr th:only-of-type {\n",
       "        vertical-align: middle;\n",
       "    }\n",
       "\n",
       "    .dataframe tbody tr th {\n",
       "        vertical-align: top;\n",
       "    }\n",
       "\n",
       "    .dataframe thead th {\n",
       "        text-align: right;\n",
       "    }\n",
       "</style>\n",
       "<table border=\"1\" class=\"dataframe\">\n",
       "  <thead>\n",
       "    <tr style=\"text-align: right;\">\n",
       "      <th></th>\n",
       "      <th>precision</th>\n",
       "      <th>recall</th>\n",
       "      <th>f1-score</th>\n",
       "      <th>support</th>\n",
       "    </tr>\n",
       "  </thead>\n",
       "  <tbody>\n",
       "    <tr>\n",
       "      <th>Amino-acid transport</th>\n",
       "      <td>0.800</td>\n",
       "      <td>0.727</td>\n",
       "      <td>0.762</td>\n",
       "      <td>33</td>\n",
       "    </tr>\n",
       "    <tr>\n",
       "      <th>Sugar transport</th>\n",
       "      <td>0.775</td>\n",
       "      <td>0.838</td>\n",
       "      <td>0.805</td>\n",
       "      <td>37</td>\n",
       "    </tr>\n",
       "    <tr>\n",
       "      <th>macro avg</th>\n",
       "      <td>0.788</td>\n",
       "      <td>0.783</td>\n",
       "      <td>0.784</td>\n",
       "      <td>70</td>\n",
       "    </tr>\n",
       "    <tr>\n",
       "      <th>weighted avg</th>\n",
       "      <td>0.787</td>\n",
       "      <td>0.786</td>\n",
       "      <td>0.785</td>\n",
       "      <td>70</td>\n",
       "    </tr>\n",
       "  </tbody>\n",
       "</table>\n",
       "</div>"
      ],
      "text/plain": [
       "                      precision  recall  f1-score  support\n",
       "Amino-acid transport      0.800   0.727     0.762       33\n",
       "Sugar transport           0.775   0.838     0.805       37\n",
       "macro avg                 0.788   0.783     0.784       70\n",
       "weighted avg              0.787   0.786     0.785       70"
      ]
     },
     "metadata": {},
     "output_type": "display_data"
    }
   ],
   "source": [
    "display(get_confusion_matrix(X_test, y_test, best_estimator_svc_kbest, labels=labels))\n",
    "display(get_classification_report(X_test, y_test, best_estimator_svc_kbest, labels=labels))"
   ]
  },
  {
   "cell_type": "code",
   "execution_count": 40,
   "metadata": {
    "execution": {
     "iopub.execute_input": "2022-07-15T14:57:46.278194Z",
     "iopub.status.busy": "2022-07-15T14:57:46.277723Z",
     "iopub.status.idle": "2022-07-15T14:57:46.305163Z",
     "shell.execute_reply": "2022-07-15T14:57:46.304392Z"
    }
   },
   "outputs": [
    {
     "data": {
      "text/html": [
       "<div>\n",
       "<style scoped>\n",
       "    .dataframe tbody tr th:only-of-type {\n",
       "        vertical-align: middle;\n",
       "    }\n",
       "\n",
       "    .dataframe tbody tr th {\n",
       "        vertical-align: top;\n",
       "    }\n",
       "\n",
       "    .dataframe thead th {\n",
       "        text-align: right;\n",
       "    }\n",
       "</style>\n",
       "<table border=\"1\" class=\"dataframe\">\n",
       "  <thead>\n",
       "    <tr style=\"text-align: right;\">\n",
       "      <th>predicted</th>\n",
       "      <th>Amino-acid transport</th>\n",
       "      <th>Sugar transport</th>\n",
       "    </tr>\n",
       "    <tr>\n",
       "      <th>observed</th>\n",
       "      <th></th>\n",
       "      <th></th>\n",
       "    </tr>\n",
       "  </thead>\n",
       "  <tbody>\n",
       "    <tr>\n",
       "      <th>Amino-acid transport</th>\n",
       "      <td>27</td>\n",
       "      <td>6</td>\n",
       "    </tr>\n",
       "    <tr>\n",
       "      <th>Sugar transport</th>\n",
       "      <td>10</td>\n",
       "      <td>27</td>\n",
       "    </tr>\n",
       "  </tbody>\n",
       "</table>\n",
       "</div>"
      ],
      "text/plain": [
       "predicted             Amino-acid transport  Sugar transport\n",
       "observed                                                   \n",
       "Amino-acid transport                    27                6\n",
       "Sugar transport                         10               27"
      ]
     },
     "metadata": {},
     "output_type": "display_data"
    },
    {
     "data": {
      "text/html": [
       "<div>\n",
       "<style scoped>\n",
       "    .dataframe tbody tr th:only-of-type {\n",
       "        vertical-align: middle;\n",
       "    }\n",
       "\n",
       "    .dataframe tbody tr th {\n",
       "        vertical-align: top;\n",
       "    }\n",
       "\n",
       "    .dataframe thead th {\n",
       "        text-align: right;\n",
       "    }\n",
       "</style>\n",
       "<table border=\"1\" class=\"dataframe\">\n",
       "  <thead>\n",
       "    <tr style=\"text-align: right;\">\n",
       "      <th></th>\n",
       "      <th>precision</th>\n",
       "      <th>recall</th>\n",
       "      <th>f1-score</th>\n",
       "      <th>support</th>\n",
       "    </tr>\n",
       "  </thead>\n",
       "  <tbody>\n",
       "    <tr>\n",
       "      <th>Amino-acid transport</th>\n",
       "      <td>0.730</td>\n",
       "      <td>0.818</td>\n",
       "      <td>0.771</td>\n",
       "      <td>33</td>\n",
       "    </tr>\n",
       "    <tr>\n",
       "      <th>Sugar transport</th>\n",
       "      <td>0.818</td>\n",
       "      <td>0.730</td>\n",
       "      <td>0.771</td>\n",
       "      <td>37</td>\n",
       "    </tr>\n",
       "    <tr>\n",
       "      <th>macro avg</th>\n",
       "      <td>0.774</td>\n",
       "      <td>0.774</td>\n",
       "      <td>0.771</td>\n",
       "      <td>70</td>\n",
       "    </tr>\n",
       "    <tr>\n",
       "      <th>weighted avg</th>\n",
       "      <td>0.776</td>\n",
       "      <td>0.771</td>\n",
       "      <td>0.771</td>\n",
       "      <td>70</td>\n",
       "    </tr>\n",
       "  </tbody>\n",
       "</table>\n",
       "</div>"
      ],
      "text/plain": [
       "                      precision  recall  f1-score  support\n",
       "Amino-acid transport      0.730   0.818     0.771       33\n",
       "Sugar transport           0.818   0.730     0.771       37\n",
       "macro avg                 0.774   0.774     0.771       70\n",
       "weighted avg              0.776   0.771     0.771       70"
      ]
     },
     "metadata": {},
     "output_type": "display_data"
    }
   ],
   "source": [
    "display(get_confusion_matrix(X_test, y_test, best_estimator_svc_pca, labels=labels))\n",
    "display(get_classification_report(X_test, y_test, best_estimator_svc_pca, labels=labels))"
   ]
  },
  {
   "cell_type": "markdown",
   "metadata": {},
   "source": [
    "## Conclusion"
   ]
  },
  {
   "cell_type": "markdown",
   "metadata": {},
   "source": [
    "The models achieve F1 scores of around 0.80 with only PAAC. This is relatively consistent between training set and test set, and between the two substrates."
   ]
  },
  {
   "cell_type": "markdown",
   "metadata": {},
   "source": [
    "## Estimating validation variance \n"
   ]
  },
  {
   "cell_type": "code",
   "execution_count": 41,
   "metadata": {
    "execution": {
     "iopub.execute_input": "2022-07-15T14:57:46.309246Z",
     "iopub.status.busy": "2022-07-15T14:57:46.308772Z",
     "iopub.status.idle": "2022-07-15T15:07:58.710508Z",
     "shell.execute_reply": "2022-07-15T15:07:58.709947Z"
    }
   },
   "outputs": [
    {
     "data": {
      "text/html": [
       "<div>\n",
       "<style scoped>\n",
       "    .dataframe tbody tr th:only-of-type {\n",
       "        vertical-align: middle;\n",
       "    }\n",
       "\n",
       "    .dataframe tbody tr th {\n",
       "        vertical-align: top;\n",
       "    }\n",
       "\n",
       "    .dataframe thead th {\n",
       "        text-align: right;\n",
       "    }\n",
       "</style>\n",
       "<table border=\"1\" class=\"dataframe\">\n",
       "  <thead>\n",
       "    <tr style=\"text-align: right;\">\n",
       "      <th>dataset</th>\n",
       "      <th>test</th>\n",
       "      <th>train</th>\n",
       "    </tr>\n",
       "    <tr>\n",
       "      <th>label</th>\n",
       "      <th></th>\n",
       "      <th></th>\n",
       "    </tr>\n",
       "  </thead>\n",
       "  <tbody>\n",
       "    <tr>\n",
       "      <th>Amino-acid transport</th>\n",
       "      <td>0.7610</td>\n",
       "      <td>0.7710</td>\n",
       "    </tr>\n",
       "    <tr>\n",
       "      <th>Sugar transport</th>\n",
       "      <td>0.7943</td>\n",
       "      <td>0.7775</td>\n",
       "    </tr>\n",
       "  </tbody>\n",
       "</table>\n",
       "</div>"
      ],
      "text/plain": [
       "dataset                 test   train\n",
       "label                               \n",
       "Amino-acid transport  0.7610  0.7710\n",
       "Sugar transport       0.7943  0.7775"
      ]
     },
     "metadata": {},
     "output_type": "display_data"
    },
    {
     "data": {
      "text/html": [
       "<div>\n",
       "<style scoped>\n",
       "    .dataframe tbody tr th:only-of-type {\n",
       "        vertical-align: middle;\n",
       "    }\n",
       "\n",
       "    .dataframe tbody tr th {\n",
       "        vertical-align: top;\n",
       "    }\n",
       "\n",
       "    .dataframe thead th {\n",
       "        text-align: right;\n",
       "    }\n",
       "</style>\n",
       "<table border=\"1\" class=\"dataframe\">\n",
       "  <thead>\n",
       "    <tr style=\"text-align: right;\">\n",
       "      <th>dataset</th>\n",
       "      <th>test</th>\n",
       "      <th>train</th>\n",
       "    </tr>\n",
       "    <tr>\n",
       "      <th>label</th>\n",
       "      <th></th>\n",
       "      <th></th>\n",
       "    </tr>\n",
       "  </thead>\n",
       "  <tbody>\n",
       "    <tr>\n",
       "      <th>Amino-acid transport</th>\n",
       "      <td>0.078019</td>\n",
       "      <td>0.027051</td>\n",
       "    </tr>\n",
       "    <tr>\n",
       "      <th>Sugar transport</th>\n",
       "      <td>0.045870</td>\n",
       "      <td>0.027334</td>\n",
       "    </tr>\n",
       "  </tbody>\n",
       "</table>\n",
       "</div>"
      ],
      "text/plain": [
       "dataset                   test     train\n",
       "label                                   \n",
       "Amino-acid transport  0.078019  0.027051\n",
       "Sugar transport       0.045870  0.027334"
      ]
     },
     "metadata": {},
     "output_type": "display_data"
    },
    {
     "data": {
      "text/html": [
       "<div>\n",
       "<style scoped>\n",
       "    .dataframe tbody tr th:only-of-type {\n",
       "        vertical-align: middle;\n",
       "    }\n",
       "\n",
       "    .dataframe tbody tr th {\n",
       "        vertical-align: top;\n",
       "    }\n",
       "\n",
       "    .dataframe thead th {\n",
       "        text-align: right;\n",
       "    }\n",
       "</style>\n",
       "<table border=\"1\" class=\"dataframe\">\n",
       "  <thead>\n",
       "    <tr style=\"text-align: right;\">\n",
       "      <th></th>\n",
       "      <th>0</th>\n",
       "      <th>1</th>\n",
       "      <th>2</th>\n",
       "      <th>3</th>\n",
       "      <th>4</th>\n",
       "      <th>5</th>\n",
       "      <th>6</th>\n",
       "      <th>7</th>\n",
       "      <th>8</th>\n",
       "      <th>9</th>\n",
       "    </tr>\n",
       "  </thead>\n",
       "  <tbody>\n",
       "    <tr>\n",
       "      <th>pca__n_components</th>\n",
       "      <td>0.89</td>\n",
       "      <td>0.81</td>\n",
       "      <td>0.94</td>\n",
       "      <td>0.99</td>\n",
       "      <td>0.9</td>\n",
       "      <td>0.94</td>\n",
       "      <td>0.96</td>\n",
       "      <td>0.87</td>\n",
       "      <td>0.91</td>\n",
       "      <td>0.87</td>\n",
       "    </tr>\n",
       "    <tr>\n",
       "      <th>svc__C</th>\n",
       "      <td>1</td>\n",
       "      <td>1</td>\n",
       "      <td>1</td>\n",
       "      <td>10</td>\n",
       "      <td>10</td>\n",
       "      <td>1</td>\n",
       "      <td>10</td>\n",
       "      <td>10</td>\n",
       "      <td>1</td>\n",
       "      <td>10</td>\n",
       "    </tr>\n",
       "    <tr>\n",
       "      <th>svc__class_weight</th>\n",
       "      <td>balanced</td>\n",
       "      <td>balanced</td>\n",
       "      <td>None</td>\n",
       "      <td>balanced</td>\n",
       "      <td>balanced</td>\n",
       "      <td>balanced</td>\n",
       "      <td>balanced</td>\n",
       "      <td>balanced</td>\n",
       "      <td>None</td>\n",
       "      <td>balanced</td>\n",
       "    </tr>\n",
       "    <tr>\n",
       "      <th>svc__gamma</th>\n",
       "      <td>0.01</td>\n",
       "      <td>scale</td>\n",
       "      <td>0.01</td>\n",
       "      <td>scale</td>\n",
       "      <td>scale</td>\n",
       "      <td>0.01</td>\n",
       "      <td>0.01</td>\n",
       "      <td>0.01</td>\n",
       "      <td>0.01</td>\n",
       "      <td>scale</td>\n",
       "    </tr>\n",
       "  </tbody>\n",
       "</table>\n",
       "</div>"
      ],
      "text/plain": [
       "                          0         1     2         3         4         5  \\\n",
       "pca__n_components      0.89      0.81  0.94      0.99       0.9      0.94   \n",
       "svc__C                    1         1     1        10        10         1   \n",
       "svc__class_weight  balanced  balanced  None  balanced  balanced  balanced   \n",
       "svc__gamma             0.01     scale  0.01     scale     scale      0.01   \n",
       "\n",
       "                          6         7     8         9  \n",
       "pca__n_components      0.96      0.87  0.91      0.87  \n",
       "svc__C                   10        10     1        10  \n",
       "svc__class_weight  balanced  balanced  None  balanced  \n",
       "svc__gamma             0.01      0.01  0.01     scale  "
      ]
     },
     "execution_count": 41,
     "metadata": {},
     "output_type": "execute_result"
    }
   ],
   "source": [
    "df_scores, df_params = full_test(\n",
    "    df_paac, labels, dim_reduction=\"pca\", kernel=\"rbf\", repetitions=10, remove_zero_var=True, select_k_steps=20\n",
    ")\n",
    "df_scores_gr = df_scores.groupby([\"label\", \"dataset\"], as_index=False)\n",
    "display(df_scores_gr.mean().pivot(index=\"label\", columns=\"dataset\", values=\"F1 score\"))\n",
    "display(df_scores_gr.std().pivot(index=\"label\", columns=\"dataset\", values=\"F1 score\"))\n",
    "df_params"
   ]
  },
  {
   "cell_type": "code",
   "execution_count": 42,
   "metadata": {},
   "outputs": [
    {
     "data": {
      "text/html": [
       "<div>\n",
       "<style scoped>\n",
       "    .dataframe tbody tr th:only-of-type {\n",
       "        vertical-align: middle;\n",
       "    }\n",
       "\n",
       "    .dataframe tbody tr th {\n",
       "        vertical-align: top;\n",
       "    }\n",
       "\n",
       "    .dataframe thead th {\n",
       "        text-align: right;\n",
       "    }\n",
       "</style>\n",
       "<table border=\"1\" class=\"dataframe\">\n",
       "  <thead>\n",
       "    <tr style=\"text-align: right;\">\n",
       "      <th>dataset</th>\n",
       "      <th>test</th>\n",
       "      <th>train</th>\n",
       "    </tr>\n",
       "    <tr>\n",
       "      <th>label</th>\n",
       "      <th></th>\n",
       "      <th></th>\n",
       "    </tr>\n",
       "  </thead>\n",
       "  <tbody>\n",
       "    <tr>\n",
       "      <th>Amino-acid transport</th>\n",
       "      <td>0.7718</td>\n",
       "      <td>0.7465</td>\n",
       "    </tr>\n",
       "    <tr>\n",
       "      <th>Sugar transport</th>\n",
       "      <td>0.8211</td>\n",
       "      <td>0.7863</td>\n",
       "    </tr>\n",
       "  </tbody>\n",
       "</table>\n",
       "</div>"
      ],
      "text/plain": [
       "dataset                 test   train\n",
       "label                               \n",
       "Amino-acid transport  0.7718  0.7465\n",
       "Sugar transport       0.8211  0.7863"
      ]
     },
     "metadata": {},
     "output_type": "display_data"
    },
    {
     "data": {
      "text/html": [
       "<div>\n",
       "<style scoped>\n",
       "    .dataframe tbody tr th:only-of-type {\n",
       "        vertical-align: middle;\n",
       "    }\n",
       "\n",
       "    .dataframe tbody tr th {\n",
       "        vertical-align: top;\n",
       "    }\n",
       "\n",
       "    .dataframe thead th {\n",
       "        text-align: right;\n",
       "    }\n",
       "</style>\n",
       "<table border=\"1\" class=\"dataframe\">\n",
       "  <thead>\n",
       "    <tr style=\"text-align: right;\">\n",
       "      <th>dataset</th>\n",
       "      <th>test</th>\n",
       "      <th>train</th>\n",
       "    </tr>\n",
       "    <tr>\n",
       "      <th>label</th>\n",
       "      <th></th>\n",
       "      <th></th>\n",
       "    </tr>\n",
       "  </thead>\n",
       "  <tbody>\n",
       "    <tr>\n",
       "      <th>Amino-acid transport</th>\n",
       "      <td>0.085864</td>\n",
       "      <td>0.026277</td>\n",
       "    </tr>\n",
       "    <tr>\n",
       "      <th>Sugar transport</th>\n",
       "      <td>0.055260</td>\n",
       "      <td>0.018209</td>\n",
       "    </tr>\n",
       "  </tbody>\n",
       "</table>\n",
       "</div>"
      ],
      "text/plain": [
       "dataset                   test     train\n",
       "label                                   \n",
       "Amino-acid transport  0.085864  0.026277\n",
       "Sugar transport       0.055260  0.018209"
      ]
     },
     "metadata": {},
     "output_type": "display_data"
    },
    {
     "data": {
      "text/html": [
       "<div>\n",
       "<style scoped>\n",
       "    .dataframe tbody tr th:only-of-type {\n",
       "        vertical-align: middle;\n",
       "    }\n",
       "\n",
       "    .dataframe tbody tr th {\n",
       "        vertical-align: top;\n",
       "    }\n",
       "\n",
       "    .dataframe thead th {\n",
       "        text-align: right;\n",
       "    }\n",
       "</style>\n",
       "<table border=\"1\" class=\"dataframe\">\n",
       "  <thead>\n",
       "    <tr style=\"text-align: right;\">\n",
       "      <th></th>\n",
       "      <th>0</th>\n",
       "      <th>1</th>\n",
       "      <th>2</th>\n",
       "      <th>3</th>\n",
       "      <th>4</th>\n",
       "      <th>5</th>\n",
       "      <th>6</th>\n",
       "      <th>7</th>\n",
       "      <th>8</th>\n",
       "      <th>9</th>\n",
       "    </tr>\n",
       "  </thead>\n",
       "  <tbody>\n",
       "    <tr>\n",
       "      <th>svc__C</th>\n",
       "      <td>1</td>\n",
       "      <td>1</td>\n",
       "      <td>10</td>\n",
       "      <td>10</td>\n",
       "      <td>10</td>\n",
       "      <td>10</td>\n",
       "      <td>10</td>\n",
       "      <td>1</td>\n",
       "      <td>1</td>\n",
       "      <td>1</td>\n",
       "    </tr>\n",
       "    <tr>\n",
       "      <th>svc__class_weight</th>\n",
       "      <td>None</td>\n",
       "      <td>None</td>\n",
       "      <td>balanced</td>\n",
       "      <td>balanced</td>\n",
       "      <td>balanced</td>\n",
       "      <td>balanced</td>\n",
       "      <td>balanced</td>\n",
       "      <td>None</td>\n",
       "      <td>None</td>\n",
       "      <td>None</td>\n",
       "    </tr>\n",
       "    <tr>\n",
       "      <th>svc__gamma</th>\n",
       "      <td>scale</td>\n",
       "      <td>scale</td>\n",
       "      <td>scale</td>\n",
       "      <td>scale</td>\n",
       "      <td>scale</td>\n",
       "      <td>scale</td>\n",
       "      <td>scale</td>\n",
       "      <td>scale</td>\n",
       "      <td>scale</td>\n",
       "      <td>scale</td>\n",
       "    </tr>\n",
       "  </tbody>\n",
       "</table>\n",
       "</div>"
      ],
      "text/plain": [
       "                       0      1         2         3         4         5  \\\n",
       "svc__C                 1      1        10        10        10        10   \n",
       "svc__class_weight   None   None  balanced  balanced  balanced  balanced   \n",
       "svc__gamma         scale  scale     scale     scale     scale     scale   \n",
       "\n",
       "                          6      7      8      9  \n",
       "svc__C                   10      1      1      1  \n",
       "svc__class_weight  balanced   None   None   None  \n",
       "svc__gamma            scale  scale  scale  scale  "
      ]
     },
     "execution_count": 42,
     "metadata": {},
     "output_type": "execute_result"
    }
   ],
   "source": [
    "df_scores, df_params = full_test(\n",
    "    df_paac, labels, kernel=\"rbf\", repetitions=10, remove_zero_var=True, select_k_steps=20\n",
    ")\n",
    "df_scores_gr = df_scores.groupby([\"label\", \"dataset\"], as_index=False)\n",
    "display(df_scores_gr.mean().pivot(index=\"label\", columns=\"dataset\", values=\"F1 score\"))\n",
    "display(df_scores_gr.std().pivot(index=\"label\", columns=\"dataset\", values=\"F1 score\"))\n",
    "df_params"
   ]
  },
  {
   "cell_type": "markdown",
   "metadata": {},
   "source": [
    "For the meta-organism, the AAC actually performs better than the PAAC, possibly because of increased noise. Only a small subset of PAAC features have high frequencies. The AAC better captures the fact that H and G are among the most important features."
   ]
  }
 ],
 "metadata": {
  "kernelspec": {
   "display_name": "Python 3.9.12 ('subpred')",
   "language": "python",
   "name": "python3"
  },
  "language_info": {
   "codemirror_mode": {
    "name": "ipython",
    "version": 3
   },
   "file_extension": ".py",
   "mimetype": "text/x-python",
   "name": "python",
   "nbconvert_exporter": "python",
   "pygments_lexer": "ipython3",
   "version": "3.9.12"
  },
  "vscode": {
   "interpreter": {
    "hash": "a3c5a88a8b1fa059748e807688afdff6c3f31eb23364e67d8e1c7f5771f5e23f"
   }
  }
 },
 "nbformat": 4,
 "nbformat_minor": 2
}
