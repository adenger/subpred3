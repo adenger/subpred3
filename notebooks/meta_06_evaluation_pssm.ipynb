{
 "cells": [
  {
   "cell_type": "markdown",
   "metadata": {},
   "source": [
    "# PSSM Feature evaluation"
   ]
  },
  {
   "cell_type": "markdown",
   "metadata": {},
   "source": [
    "# Imports"
   ]
  },
  {
   "cell_type": "code",
   "execution_count": 1,
   "metadata": {
    "execution": {
     "iopub.execute_input": "2022-07-27T16:22:46.279827Z",
     "iopub.status.busy": "2022-07-27T16:22:46.279262Z",
     "iopub.status.idle": "2022-07-27T16:22:46.854906Z",
     "shell.execute_reply": "2022-07-27T16:22:46.854489Z"
    }
   },
   "outputs": [],
   "source": [
    "from subpred.transporter_dataset import create_dataset\n",
    "from subpred.eval import (\n",
    "    get_independent_test_set,\n",
    "    optimize_hyperparams,\n",
    "    preprocess_pandas,\n",
    "    models_quick_compare,\n",
    "    get_confusion_matrix,\n",
    "    get_classification_report,\n",
    "    full_test,\n",
    ")\n",
    "from subpred.pssm import calculate_pssms_notebook"
   ]
  },
  {
   "cell_type": "markdown",
   "metadata": {},
   "source": [
    "# Dataset"
   ]
  },
  {
   "cell_type": "code",
   "execution_count": 2,
   "metadata": {
    "execution": {
     "iopub.execute_input": "2022-07-27T16:22:46.858619Z",
     "iopub.status.busy": "2022-07-27T16:22:46.858413Z",
     "iopub.status.idle": "2022-07-27T16:22:58.191129Z",
     "shell.execute_reply": "2022-07-27T16:22:58.190220Z"
    }
   },
   "outputs": [
    {
     "name": "stdout",
     "output_type": "stream",
     "text": [
      "cd-hit: clustered 413 sequences into 347 clusters at threshold 70\n"
     ]
    }
   ],
   "source": [
    "outliers = (\n",
    "    [\"Q9HBR0\", \"Q07837\"]\n",
    "    + [\"P76773\", \"Q47706\", \"P02943\", \"P75733\", \"P69856\", \"P64550\"]\n",
    "    + [\"O81775\", \"Q9SW07\", \"Q9FHH5\", \"Q8S8A0\", \"Q3E965\", \"Q3EAV6\", \"Q3E8L0\",]\n",
    ")\n",
    "df = create_dataset(\n",
    "    keywords_substrate_filter=[\"Amino-acid transport\", \"Sugar transport\"],\n",
    "    keywords_component_filter=[\"Transmembrane\"],\n",
    "    keywords_transport_filter=[\"Transport\"],\n",
    "    input_file=\"../data/raw/swissprot/uniprot-reviewed_yes.tab.gz\",\n",
    "    multi_substrate=\"integrate\",\n",
    "    verbose=True,\n",
    "    tax_ids_filter=[3702, 9606, 83333, 559292],\n",
    "    output_log=\"../logs/meta_amino_sugar_dataset.log\",\n",
    "    outliers=outliers,\n",
    "    sequence_clustering=70\n",
    ")\n",
    "taxid_to_organism = {\n",
    "    3702: \"A. thaliana\",\n",
    "    9606: \"Human\",\n",
    "    83333: \"E. coli\",\n",
    "    559292: \"Yeast\",\n",
    "}\n",
    "df = df.assign(organism=df.organism_id.map(taxid_to_organism))"
   ]
  },
  {
   "cell_type": "markdown",
   "metadata": {},
   "source": [
    "# Feature generation"
   ]
  },
  {
   "cell_type": "code",
   "execution_count": 3,
   "metadata": {
    "execution": {
     "iopub.execute_input": "2022-07-27T16:22:58.235995Z",
     "iopub.status.busy": "2022-07-27T16:22:58.235708Z",
     "iopub.status.idle": "2022-07-27T16:22:58.255888Z",
     "shell.execute_reply": "2022-07-27T16:22:58.255224Z"
    }
   },
   "outputs": [
    {
     "data": {
      "text/plain": [
       "Sugar transport         181\n",
       "Amino-acid transport    166\n",
       "Name: keywords_transport, dtype: int64"
      ]
     },
     "execution_count": 3,
     "metadata": {},
     "output_type": "execute_result"
    }
   ],
   "source": [
    "labels = df.keywords_transport\n",
    "labels.value_counts()"
   ]
  },
  {
   "cell_type": "code",
   "execution_count": 4,
   "metadata": {
    "execution": {
     "iopub.execute_input": "2022-07-27T16:22:58.259872Z",
     "iopub.status.busy": "2022-07-27T16:22:58.259550Z",
     "iopub.status.idle": "2022-07-27T16:23:01.982719Z",
     "shell.execute_reply": "2022-07-27T16:23:01.982178Z"
    }
   },
   "outputs": [
    {
     "data": {
      "text/html": [
       "<div>\n",
       "<style scoped>\n",
       "    .dataframe tbody tr th:only-of-type {\n",
       "        vertical-align: middle;\n",
       "    }\n",
       "\n",
       "    .dataframe tbody tr th {\n",
       "        vertical-align: top;\n",
       "    }\n",
       "\n",
       "    .dataframe thead th {\n",
       "        text-align: right;\n",
       "    }\n",
       "</style>\n",
       "<table border=\"1\" class=\"dataframe\">\n",
       "  <thead>\n",
       "    <tr style=\"text-align: right;\">\n",
       "      <th></th>\n",
       "      <th>AA_50_1</th>\n",
       "      <th>AR_50_1</th>\n",
       "      <th>AN_50_1</th>\n",
       "      <th>AD_50_1</th>\n",
       "      <th>AC_50_1</th>\n",
       "      <th>AQ_50_1</th>\n",
       "      <th>AE_50_1</th>\n",
       "      <th>AG_50_1</th>\n",
       "      <th>AH_50_1</th>\n",
       "      <th>AI_50_1</th>\n",
       "      <th>...</th>\n",
       "      <th>VL_90_3</th>\n",
       "      <th>VK_90_3</th>\n",
       "      <th>VM_90_3</th>\n",
       "      <th>VF_90_3</th>\n",
       "      <th>VP_90_3</th>\n",
       "      <th>VS_90_3</th>\n",
       "      <th>VT_90_3</th>\n",
       "      <th>VW_90_3</th>\n",
       "      <th>VY_90_3</th>\n",
       "      <th>VV_90_3</th>\n",
       "    </tr>\n",
       "    <tr>\n",
       "      <th>Uniprot</th>\n",
       "      <th></th>\n",
       "      <th></th>\n",
       "      <th></th>\n",
       "      <th></th>\n",
       "      <th></th>\n",
       "      <th></th>\n",
       "      <th></th>\n",
       "      <th></th>\n",
       "      <th></th>\n",
       "      <th></th>\n",
       "      <th></th>\n",
       "      <th></th>\n",
       "      <th></th>\n",
       "      <th></th>\n",
       "      <th></th>\n",
       "      <th></th>\n",
       "      <th></th>\n",
       "      <th></th>\n",
       "      <th></th>\n",
       "      <th></th>\n",
       "      <th></th>\n",
       "    </tr>\n",
       "  </thead>\n",
       "  <tbody>\n",
       "    <tr>\n",
       "      <th>P69801</th>\n",
       "      <td>0.873913</td>\n",
       "      <td>0.156522</td>\n",
       "      <td>0.273913</td>\n",
       "      <td>0.108696</td>\n",
       "      <td>0.421739</td>\n",
       "      <td>0.295652</td>\n",
       "      <td>0.178261</td>\n",
       "      <td>0.513043</td>\n",
       "      <td>0.134783</td>\n",
       "      <td>0.408696</td>\n",
       "      <td>...</td>\n",
       "      <td>0.496933</td>\n",
       "      <td>0.487730</td>\n",
       "      <td>0.503067</td>\n",
       "      <td>0.558282</td>\n",
       "      <td>0.450920</td>\n",
       "      <td>0.472393</td>\n",
       "      <td>0.475460</td>\n",
       "      <td>0.490798</td>\n",
       "      <td>0.592025</td>\n",
       "      <td>0.481595</td>\n",
       "    </tr>\n",
       "    <tr>\n",
       "      <th>Q9SFG0</th>\n",
       "      <td>0.784223</td>\n",
       "      <td>0.252900</td>\n",
       "      <td>0.327146</td>\n",
       "      <td>0.238979</td>\n",
       "      <td>0.394432</td>\n",
       "      <td>0.350348</td>\n",
       "      <td>0.276102</td>\n",
       "      <td>0.545244</td>\n",
       "      <td>0.227378</td>\n",
       "      <td>0.317865</td>\n",
       "      <td>...</td>\n",
       "      <td>0.434307</td>\n",
       "      <td>0.381387</td>\n",
       "      <td>0.421533</td>\n",
       "      <td>0.578467</td>\n",
       "      <td>0.357664</td>\n",
       "      <td>0.390511</td>\n",
       "      <td>0.392336</td>\n",
       "      <td>0.512774</td>\n",
       "      <td>0.656934</td>\n",
       "      <td>0.417883</td>\n",
       "    </tr>\n",
       "    <tr>\n",
       "      <th>Q08986</th>\n",
       "      <td>0.734091</td>\n",
       "      <td>0.259091</td>\n",
       "      <td>0.313636</td>\n",
       "      <td>0.220455</td>\n",
       "      <td>0.393182</td>\n",
       "      <td>0.295455</td>\n",
       "      <td>0.234091</td>\n",
       "      <td>0.529545</td>\n",
       "      <td>0.265909</td>\n",
       "      <td>0.415909</td>\n",
       "      <td>...</td>\n",
       "      <td>0.425047</td>\n",
       "      <td>0.345351</td>\n",
       "      <td>0.402277</td>\n",
       "      <td>0.584440</td>\n",
       "      <td>0.282732</td>\n",
       "      <td>0.351044</td>\n",
       "      <td>0.351044</td>\n",
       "      <td>0.605313</td>\n",
       "      <td>0.759013</td>\n",
       "      <td>0.387097</td>\n",
       "    </tr>\n",
       "    <tr>\n",
       "      <th>Q9BRV3</th>\n",
       "      <td>0.676768</td>\n",
       "      <td>0.488215</td>\n",
       "      <td>0.508418</td>\n",
       "      <td>0.464646</td>\n",
       "      <td>0.602694</td>\n",
       "      <td>0.511785</td>\n",
       "      <td>0.478114</td>\n",
       "      <td>0.565657</td>\n",
       "      <td>0.511785</td>\n",
       "      <td>0.612795</td>\n",
       "      <td>...</td>\n",
       "      <td>0.484375</td>\n",
       "      <td>0.403125</td>\n",
       "      <td>0.471875</td>\n",
       "      <td>0.706250</td>\n",
       "      <td>0.368750</td>\n",
       "      <td>0.443750</td>\n",
       "      <td>0.440625</td>\n",
       "      <td>0.568750</td>\n",
       "      <td>0.856250</td>\n",
       "      <td>0.478125</td>\n",
       "    </tr>\n",
       "    <tr>\n",
       "      <th>Q84WN3</th>\n",
       "      <td>0.664740</td>\n",
       "      <td>0.416185</td>\n",
       "      <td>0.462428</td>\n",
       "      <td>0.427746</td>\n",
       "      <td>0.624277</td>\n",
       "      <td>0.445087</td>\n",
       "      <td>0.456647</td>\n",
       "      <td>0.526012</td>\n",
       "      <td>0.479769</td>\n",
       "      <td>0.543353</td>\n",
       "      <td>...</td>\n",
       "      <td>0.383260</td>\n",
       "      <td>0.264317</td>\n",
       "      <td>0.374449</td>\n",
       "      <td>0.726872</td>\n",
       "      <td>0.215859</td>\n",
       "      <td>0.286344</td>\n",
       "      <td>0.312775</td>\n",
       "      <td>0.493392</td>\n",
       "      <td>0.982379</td>\n",
       "      <td>0.352423</td>\n",
       "    </tr>\n",
       "    <tr>\n",
       "      <th>...</th>\n",
       "      <td>...</td>\n",
       "      <td>...</td>\n",
       "      <td>...</td>\n",
       "      <td>...</td>\n",
       "      <td>...</td>\n",
       "      <td>...</td>\n",
       "      <td>...</td>\n",
       "      <td>...</td>\n",
       "      <td>...</td>\n",
       "      <td>...</td>\n",
       "      <td>...</td>\n",
       "      <td>...</td>\n",
       "      <td>...</td>\n",
       "      <td>...</td>\n",
       "      <td>...</td>\n",
       "      <td>...</td>\n",
       "      <td>...</td>\n",
       "      <td>...</td>\n",
       "      <td>...</td>\n",
       "      <td>...</td>\n",
       "      <td>...</td>\n",
       "    </tr>\n",
       "    <tr>\n",
       "      <th>F4IHS9</th>\n",
       "      <td>0.745981</td>\n",
       "      <td>0.495177</td>\n",
       "      <td>0.520900</td>\n",
       "      <td>0.450161</td>\n",
       "      <td>0.649518</td>\n",
       "      <td>0.520900</td>\n",
       "      <td>0.485531</td>\n",
       "      <td>0.578778</td>\n",
       "      <td>0.469453</td>\n",
       "      <td>0.604502</td>\n",
       "      <td>...</td>\n",
       "      <td>0.533654</td>\n",
       "      <td>0.492788</td>\n",
       "      <td>0.543269</td>\n",
       "      <td>0.639423</td>\n",
       "      <td>0.492788</td>\n",
       "      <td>0.526442</td>\n",
       "      <td>0.524038</td>\n",
       "      <td>0.661058</td>\n",
       "      <td>0.713942</td>\n",
       "      <td>0.533654</td>\n",
       "    </tr>\n",
       "    <tr>\n",
       "      <th>Q04162</th>\n",
       "      <td>0.786925</td>\n",
       "      <td>0.305085</td>\n",
       "      <td>0.392252</td>\n",
       "      <td>0.295400</td>\n",
       "      <td>0.513317</td>\n",
       "      <td>0.372881</td>\n",
       "      <td>0.341404</td>\n",
       "      <td>0.624697</td>\n",
       "      <td>0.278450</td>\n",
       "      <td>0.411622</td>\n",
       "      <td>...</td>\n",
       "      <td>0.527721</td>\n",
       "      <td>0.501027</td>\n",
       "      <td>0.503080</td>\n",
       "      <td>0.694045</td>\n",
       "      <td>0.435318</td>\n",
       "      <td>0.525667</td>\n",
       "      <td>0.519507</td>\n",
       "      <td>0.624230</td>\n",
       "      <td>0.837782</td>\n",
       "      <td>0.517454</td>\n",
       "    </tr>\n",
       "    <tr>\n",
       "      <th>P33361</th>\n",
       "      <td>0.822430</td>\n",
       "      <td>0.420561</td>\n",
       "      <td>0.370093</td>\n",
       "      <td>0.315888</td>\n",
       "      <td>0.429907</td>\n",
       "      <td>0.400000</td>\n",
       "      <td>0.355140</td>\n",
       "      <td>0.568224</td>\n",
       "      <td>0.351402</td>\n",
       "      <td>0.457944</td>\n",
       "      <td>...</td>\n",
       "      <td>0.547009</td>\n",
       "      <td>0.527066</td>\n",
       "      <td>0.539886</td>\n",
       "      <td>0.574074</td>\n",
       "      <td>0.521368</td>\n",
       "      <td>0.531339</td>\n",
       "      <td>0.532764</td>\n",
       "      <td>0.571225</td>\n",
       "      <td>0.589744</td>\n",
       "      <td>0.544160</td>\n",
       "    </tr>\n",
       "    <tr>\n",
       "      <th>P39328</th>\n",
       "      <td>0.871111</td>\n",
       "      <td>0.277778</td>\n",
       "      <td>0.271111</td>\n",
       "      <td>0.186667</td>\n",
       "      <td>0.506667</td>\n",
       "      <td>0.284444</td>\n",
       "      <td>0.226667</td>\n",
       "      <td>0.528889</td>\n",
       "      <td>0.208889</td>\n",
       "      <td>0.402222</td>\n",
       "      <td>...</td>\n",
       "      <td>0.530752</td>\n",
       "      <td>0.528474</td>\n",
       "      <td>0.530752</td>\n",
       "      <td>0.542141</td>\n",
       "      <td>0.526196</td>\n",
       "      <td>0.530752</td>\n",
       "      <td>0.530752</td>\n",
       "      <td>0.539863</td>\n",
       "      <td>0.562642</td>\n",
       "      <td>0.530752</td>\n",
       "    </tr>\n",
       "    <tr>\n",
       "      <th>P48813</th>\n",
       "      <td>0.780220</td>\n",
       "      <td>0.178022</td>\n",
       "      <td>0.323077</td>\n",
       "      <td>0.156044</td>\n",
       "      <td>0.459341</td>\n",
       "      <td>0.219780</td>\n",
       "      <td>0.167033</td>\n",
       "      <td>0.542857</td>\n",
       "      <td>0.195604</td>\n",
       "      <td>0.404396</td>\n",
       "      <td>...</td>\n",
       "      <td>0.413386</td>\n",
       "      <td>0.338583</td>\n",
       "      <td>0.419291</td>\n",
       "      <td>0.667323</td>\n",
       "      <td>0.281496</td>\n",
       "      <td>0.350394</td>\n",
       "      <td>0.354331</td>\n",
       "      <td>0.629921</td>\n",
       "      <td>0.818898</td>\n",
       "      <td>0.379921</td>\n",
       "    </tr>\n",
       "  </tbody>\n",
       "</table>\n",
       "<p>347 rows × 1600 columns</p>\n",
       "</div>"
      ],
      "text/plain": [
       "          AA_50_1   AR_50_1   AN_50_1   AD_50_1   AC_50_1   AQ_50_1   AE_50_1  \\\n",
       "Uniprot                                                                         \n",
       "P69801   0.873913  0.156522  0.273913  0.108696  0.421739  0.295652  0.178261   \n",
       "Q9SFG0   0.784223  0.252900  0.327146  0.238979  0.394432  0.350348  0.276102   \n",
       "Q08986   0.734091  0.259091  0.313636  0.220455  0.393182  0.295455  0.234091   \n",
       "Q9BRV3   0.676768  0.488215  0.508418  0.464646  0.602694  0.511785  0.478114   \n",
       "Q84WN3   0.664740  0.416185  0.462428  0.427746  0.624277  0.445087  0.456647   \n",
       "...           ...       ...       ...       ...       ...       ...       ...   \n",
       "F4IHS9   0.745981  0.495177  0.520900  0.450161  0.649518  0.520900  0.485531   \n",
       "Q04162   0.786925  0.305085  0.392252  0.295400  0.513317  0.372881  0.341404   \n",
       "P33361   0.822430  0.420561  0.370093  0.315888  0.429907  0.400000  0.355140   \n",
       "P39328   0.871111  0.277778  0.271111  0.186667  0.506667  0.284444  0.226667   \n",
       "P48813   0.780220  0.178022  0.323077  0.156044  0.459341  0.219780  0.167033   \n",
       "\n",
       "          AG_50_1   AH_50_1   AI_50_1  ...   VL_90_3   VK_90_3   VM_90_3  \\\n",
       "Uniprot                                ...                                 \n",
       "P69801   0.513043  0.134783  0.408696  ...  0.496933  0.487730  0.503067   \n",
       "Q9SFG0   0.545244  0.227378  0.317865  ...  0.434307  0.381387  0.421533   \n",
       "Q08986   0.529545  0.265909  0.415909  ...  0.425047  0.345351  0.402277   \n",
       "Q9BRV3   0.565657  0.511785  0.612795  ...  0.484375  0.403125  0.471875   \n",
       "Q84WN3   0.526012  0.479769  0.543353  ...  0.383260  0.264317  0.374449   \n",
       "...           ...       ...       ...  ...       ...       ...       ...   \n",
       "F4IHS9   0.578778  0.469453  0.604502  ...  0.533654  0.492788  0.543269   \n",
       "Q04162   0.624697  0.278450  0.411622  ...  0.527721  0.501027  0.503080   \n",
       "P33361   0.568224  0.351402  0.457944  ...  0.547009  0.527066  0.539886   \n",
       "P39328   0.528889  0.208889  0.402222  ...  0.530752  0.528474  0.530752   \n",
       "P48813   0.542857  0.195604  0.404396  ...  0.413386  0.338583  0.419291   \n",
       "\n",
       "          VF_90_3   VP_90_3   VS_90_3   VT_90_3   VW_90_3   VY_90_3   VV_90_3  \n",
       "Uniprot                                                                        \n",
       "P69801   0.558282  0.450920  0.472393  0.475460  0.490798  0.592025  0.481595  \n",
       "Q9SFG0   0.578467  0.357664  0.390511  0.392336  0.512774  0.656934  0.417883  \n",
       "Q08986   0.584440  0.282732  0.351044  0.351044  0.605313  0.759013  0.387097  \n",
       "Q9BRV3   0.706250  0.368750  0.443750  0.440625  0.568750  0.856250  0.478125  \n",
       "Q84WN3   0.726872  0.215859  0.286344  0.312775  0.493392  0.982379  0.352423  \n",
       "...           ...       ...       ...       ...       ...       ...       ...  \n",
       "F4IHS9   0.639423  0.492788  0.526442  0.524038  0.661058  0.713942  0.533654  \n",
       "Q04162   0.694045  0.435318  0.525667  0.519507  0.624230  0.837782  0.517454  \n",
       "P33361   0.574074  0.521368  0.531339  0.532764  0.571225  0.589744  0.544160  \n",
       "P39328   0.542141  0.526196  0.530752  0.530752  0.539863  0.562642  0.530752  \n",
       "P48813   0.667323  0.281496  0.350394  0.354331  0.629921  0.818898  0.379921  \n",
       "\n",
       "[347 rows x 1600 columns]"
      ]
     },
     "execution_count": 4,
     "metadata": {},
     "output_type": "execute_result"
    }
   ],
   "source": [
    "df_pssm = calculate_pssms_notebook(df.sequence)\n",
    "df_pssm"
   ]
  },
  {
   "cell_type": "markdown",
   "metadata": {},
   "source": [
    "## Independent test set"
   ]
  },
  {
   "cell_type": "code",
   "execution_count": 5,
   "metadata": {
    "execution": {
     "iopub.execute_input": "2022-07-27T16:23:01.989023Z",
     "iopub.status.busy": "2022-07-27T16:23:01.988735Z",
     "iopub.status.idle": "2022-07-27T16:23:02.006108Z",
     "shell.execute_reply": "2022-07-27T16:23:02.005288Z"
    }
   },
   "outputs": [],
   "source": [
    "X, y, feature_names, sample_names = preprocess_pandas(\n",
    "    df_pssm, labels, return_names=True\n",
    ")\n",
    "(\n",
    "    X_train,\n",
    "    X_test,\n",
    "    y_train,\n",
    "    y_test,\n",
    "    sample_names_train,\n",
    "    sample_names_test,\n",
    ") = get_independent_test_set(X, y, sample_names=sample_names, test_size=0.2)\n",
    "\n"
   ]
  },
  {
   "cell_type": "markdown",
   "metadata": {},
   "source": [
    "## Model comparison\n",
    "\n",
    "PSSM seems to work better than the sequence-based features. SVC looks the most promising."
   ]
  },
  {
   "cell_type": "code",
   "execution_count": 6,
   "metadata": {
    "execution": {
     "iopub.execute_input": "2022-07-27T16:23:02.010662Z",
     "iopub.status.busy": "2022-07-27T16:23:02.010355Z",
     "iopub.status.idle": "2022-07-27T16:23:07.584275Z",
     "shell.execute_reply": "2022-07-27T16:23:07.583861Z"
    }
   },
   "outputs": [
    {
     "data": {
      "text/html": [
       "<div>\n",
       "<style scoped>\n",
       "    .dataframe tbody tr th:only-of-type {\n",
       "        vertical-align: middle;\n",
       "    }\n",
       "\n",
       "    .dataframe tbody tr th {\n",
       "        vertical-align: top;\n",
       "    }\n",
       "\n",
       "    .dataframe thead th {\n",
       "        text-align: right;\n",
       "    }\n",
       "</style>\n",
       "<table border=\"1\" class=\"dataframe\">\n",
       "  <thead>\n",
       "    <tr style=\"text-align: right;\">\n",
       "      <th></th>\n",
       "      <th>0</th>\n",
       "      <th>1</th>\n",
       "      <th>2</th>\n",
       "      <th>3</th>\n",
       "      <th>4</th>\n",
       "      <th>mean</th>\n",
       "      <th>std</th>\n",
       "    </tr>\n",
       "    <tr>\n",
       "      <th>est</th>\n",
       "      <th></th>\n",
       "      <th></th>\n",
       "      <th></th>\n",
       "      <th></th>\n",
       "      <th></th>\n",
       "      <th></th>\n",
       "      <th></th>\n",
       "    </tr>\n",
       "  </thead>\n",
       "  <tbody>\n",
       "    <tr>\n",
       "      <th>GaussianNB()</th>\n",
       "      <td>0.607</td>\n",
       "      <td>0.588</td>\n",
       "      <td>0.647</td>\n",
       "      <td>0.762</td>\n",
       "      <td>0.560</td>\n",
       "      <td>0.633</td>\n",
       "      <td>0.079</td>\n",
       "    </tr>\n",
       "    <tr>\n",
       "      <th>KNeighborsClassifier()</th>\n",
       "      <td>0.856</td>\n",
       "      <td>0.892</td>\n",
       "      <td>0.800</td>\n",
       "      <td>0.834</td>\n",
       "      <td>0.762</td>\n",
       "      <td>0.829</td>\n",
       "      <td>0.050</td>\n",
       "    </tr>\n",
       "    <tr>\n",
       "      <th>LinearSVC(class_weight='balanced', max_iter=1000000.0, random_state=0)</th>\n",
       "      <td>0.854</td>\n",
       "      <td>0.893</td>\n",
       "      <td>0.873</td>\n",
       "      <td>0.800</td>\n",
       "      <td>0.853</td>\n",
       "      <td>0.855</td>\n",
       "      <td>0.034</td>\n",
       "    </tr>\n",
       "    <tr>\n",
       "      <th>LinearSVC(max_iter=1000000.0, random_state=0)</th>\n",
       "      <td>0.854</td>\n",
       "      <td>0.893</td>\n",
       "      <td>0.873</td>\n",
       "      <td>0.800</td>\n",
       "      <td>0.853</td>\n",
       "      <td>0.855</td>\n",
       "      <td>0.034</td>\n",
       "    </tr>\n",
       "    <tr>\n",
       "      <th>RandomForestClassifier(class_weight='balanced', random_state=0)</th>\n",
       "      <td>0.802</td>\n",
       "      <td>0.875</td>\n",
       "      <td>0.854</td>\n",
       "      <td>0.854</td>\n",
       "      <td>0.873</td>\n",
       "      <td>0.852</td>\n",
       "      <td>0.029</td>\n",
       "    </tr>\n",
       "    <tr>\n",
       "      <th>RandomForestClassifier(random_state=0)</th>\n",
       "      <td>0.838</td>\n",
       "      <td>0.910</td>\n",
       "      <td>0.817</td>\n",
       "      <td>0.873</td>\n",
       "      <td>0.800</td>\n",
       "      <td>0.848</td>\n",
       "      <td>0.044</td>\n",
       "    </tr>\n",
       "    <tr>\n",
       "      <th>SGDClassifier(random_state=0)</th>\n",
       "      <td>0.892</td>\n",
       "      <td>0.875</td>\n",
       "      <td>0.836</td>\n",
       "      <td>0.872</td>\n",
       "      <td>0.853</td>\n",
       "      <td>0.866</td>\n",
       "      <td>0.021</td>\n",
       "    </tr>\n",
       "    <tr>\n",
       "      <th>SVC(class_weight='balanced', random_state=0)</th>\n",
       "      <td>0.893</td>\n",
       "      <td>0.964</td>\n",
       "      <td>0.873</td>\n",
       "      <td>0.909</td>\n",
       "      <td>0.818</td>\n",
       "      <td>0.891</td>\n",
       "      <td>0.053</td>\n",
       "    </tr>\n",
       "    <tr>\n",
       "      <th>SVC(random_state=0)</th>\n",
       "      <td>0.893</td>\n",
       "      <td>0.946</td>\n",
       "      <td>0.854</td>\n",
       "      <td>0.927</td>\n",
       "      <td>0.818</td>\n",
       "      <td>0.888</td>\n",
       "      <td>0.052</td>\n",
       "    </tr>\n",
       "  </tbody>\n",
       "</table>\n",
       "</div>"
      ],
      "text/plain": [
       "                                                        0      1      2  \\\n",
       "est                                                                       \n",
       "GaussianNB()                                        0.607  0.588  0.647   \n",
       "KNeighborsClassifier()                              0.856  0.892  0.800   \n",
       "LinearSVC(class_weight='balanced', max_iter=100...  0.854  0.893  0.873   \n",
       "LinearSVC(max_iter=1000000.0, random_state=0)       0.854  0.893  0.873   \n",
       "RandomForestClassifier(class_weight='balanced',...  0.802  0.875  0.854   \n",
       "RandomForestClassifier(random_state=0)              0.838  0.910  0.817   \n",
       "SGDClassifier(random_state=0)                       0.892  0.875  0.836   \n",
       "SVC(class_weight='balanced', random_state=0)        0.893  0.964  0.873   \n",
       "SVC(random_state=0)                                 0.893  0.946  0.854   \n",
       "\n",
       "                                                        3      4   mean    std  \n",
       "est                                                                             \n",
       "GaussianNB()                                        0.762  0.560  0.633  0.079  \n",
       "KNeighborsClassifier()                              0.834  0.762  0.829  0.050  \n",
       "LinearSVC(class_weight='balanced', max_iter=100...  0.800  0.853  0.855  0.034  \n",
       "LinearSVC(max_iter=1000000.0, random_state=0)       0.800  0.853  0.855  0.034  \n",
       "RandomForestClassifier(class_weight='balanced',...  0.854  0.873  0.852  0.029  \n",
       "RandomForestClassifier(random_state=0)              0.873  0.800  0.848  0.044  \n",
       "SGDClassifier(random_state=0)                       0.872  0.853  0.866  0.021  \n",
       "SVC(class_weight='balanced', random_state=0)        0.909  0.818  0.891  0.053  \n",
       "SVC(random_state=0)                                 0.927  0.818  0.888  0.052  "
      ]
     },
     "execution_count": 6,
     "metadata": {},
     "output_type": "execute_result"
    }
   ],
   "source": [
    "models_quick_compare(X_train, y_train)"
   ]
  },
  {
   "cell_type": "markdown",
   "metadata": {},
   "source": [
    "## Parameter tuning"
   ]
  },
  {
   "cell_type": "markdown",
   "metadata": {},
   "source": [
    "#### Custom transformer\n",
    "\n",
    "Here, we try the multi-pssm feature, which tries all combinations of feature generation parameters, and selects the best ones based on the training set. First without the transformer:"
   ]
  },
  {
   "cell_type": "code",
   "execution_count": 7,
   "metadata": {
    "execution": {
     "iopub.execute_input": "2022-07-27T16:23:07.590065Z",
     "iopub.status.busy": "2022-07-27T16:23:07.589834Z",
     "iopub.status.idle": "2022-07-27T16:23:14.142273Z",
     "shell.execute_reply": "2022-07-27T16:23:14.141823Z"
    }
   },
   "outputs": [
    {
     "name": "stdout",
     "output_type": "stream",
     "text": [
      "{'linearsvc__C': 10, 'linearsvc__class_weight': None, 'linearsvc__dual': False, 'linearsvc__max_iter': 100000000.0}\n",
      "0.888\n"
     ]
    }
   ],
   "source": [
    "gsearch = optimize_hyperparams(\n",
    "    X_train,\n",
    "    y_train,\n",
    "    kernel=\"linear\",\n",
    "    dim_reduction=None,\n",
    "    C=[0.1, 1, 10, 100, 1000],\n",
    ")"
   ]
  },
  {
   "cell_type": "markdown",
   "metadata": {},
   "source": [
    "Here, the pssmselector chooses to select all pssms, leading to the same model: "
   ]
  },
  {
   "cell_type": "code",
   "execution_count": 8,
   "metadata": {
    "execution": {
     "iopub.execute_input": "2022-07-27T16:23:14.147295Z",
     "iopub.status.busy": "2022-07-27T16:23:14.147009Z",
     "iopub.status.idle": "2022-07-27T16:23:24.552599Z",
     "shell.execute_reply": "2022-07-27T16:23:24.551848Z"
    }
   },
   "outputs": [
    {
     "name": "stdout",
     "output_type": "stream",
     "text": [
      "{'linearsvc__C': 10, 'linearsvc__class_weight': None, 'linearsvc__dual': False, 'linearsvc__max_iter': 100000000.0, 'pssmselector__iterations': 'all', 'pssmselector__uniref_threshold': 'all'}\n",
      "0.888\n"
     ]
    }
   ],
   "source": [
    "gsearch = optimize_hyperparams(\n",
    "    X_train,\n",
    "    y_train,\n",
    "    kernel=\"linear\",\n",
    "    dim_reduction=None,\n",
    "    feature_transformer=\"pssm\", \n",
    "    feature_names = feature_names,\n",
    "    C=[0.1, 1, 10, 100, 1000]\n",
    ")"
   ]
  },
  {
   "cell_type": "markdown",
   "metadata": {},
   "source": [
    "The RBF kernel improves the results further:"
   ]
  },
  {
   "cell_type": "code",
   "execution_count": 9,
   "metadata": {
    "execution": {
     "iopub.execute_input": "2022-07-27T16:23:24.557812Z",
     "iopub.status.busy": "2022-07-27T16:23:24.557469Z",
     "iopub.status.idle": "2022-07-27T16:23:27.195754Z",
     "shell.execute_reply": "2022-07-27T16:23:27.195218Z"
    }
   },
   "outputs": [
    {
     "name": "stdout",
     "output_type": "stream",
     "text": [
      "{'svc__C': 10, 'svc__class_weight': 'balanced', 'svc__gamma': 'scale'}\n",
      "0.909\n"
     ]
    }
   ],
   "source": [
    "gsearch = optimize_hyperparams(\n",
    "    X_train,\n",
    "    y_train,\n",
    "    kernel=\"rbf\",\n",
    "    dim_reduction=None,\n",
    "    C=[0.1, 1, 10, 100],\n",
    ")"
   ]
  },
  {
   "cell_type": "markdown",
   "metadata": {},
   "source": [
    "Slightly better scores with the selector:"
   ]
  },
  {
   "cell_type": "code",
   "execution_count": 10,
   "metadata": {
    "execution": {
     "iopub.execute_input": "2022-07-27T16:23:27.199900Z",
     "iopub.status.busy": "2022-07-27T16:23:27.199619Z",
     "iopub.status.idle": "2022-07-27T16:23:33.749272Z",
     "shell.execute_reply": "2022-07-27T16:23:33.748863Z"
    }
   },
   "outputs": [
    {
     "name": "stdout",
     "output_type": "stream",
     "text": [
      "{'pssmselector__iterations': 3, 'pssmselector__uniref_threshold': 'all', 'svc__C': 10, 'svc__class_weight': 'balanced', 'svc__gamma': 'scale'}\n",
      "0.91\n"
     ]
    }
   ],
   "source": [
    "gsearch = optimize_hyperparams(\n",
    "    X_train,\n",
    "    y_train,\n",
    "    kernel=\"rbf\",\n",
    "    dim_reduction=None,\n",
    "    C=[0.1, 1, 10, 100],\n",
    "    feature_transformer=\"pssm\",\n",
    "    feature_names=feature_names,\n",
    ")\n",
    "best_estimator_rbf = gsearch"
   ]
  },
  {
   "cell_type": "markdown",
   "metadata": {},
   "source": [
    "RBF is the best one so far."
   ]
  },
  {
   "cell_type": "markdown",
   "metadata": {},
   "source": [
    "## Dimensionality reduction"
   ]
  },
  {
   "cell_type": "code",
   "execution_count": 11,
   "metadata": {
    "execution": {
     "iopub.execute_input": "2022-07-27T16:23:33.754292Z",
     "iopub.status.busy": "2022-07-27T16:23:33.754091Z",
     "iopub.status.idle": "2022-07-27T16:23:40.784022Z",
     "shell.execute_reply": "2022-07-27T16:23:40.783200Z"
    }
   },
   "outputs": [
    {
     "name": "stdout",
     "output_type": "stream",
     "text": [
      "{'linearsvc__C': 0.1, 'linearsvc__class_weight': 'balanced', 'linearsvc__dual': True, 'linearsvc__max_iter': 100000000.0, 'pca__n_components': 0.98}\n",
      "0.895\n"
     ]
    }
   ],
   "source": [
    "gsearch = optimize_hyperparams(\n",
    "    X_train,\n",
    "    y_train,\n",
    "    kernel=\"linear\",\n",
    "    dim_reduction=\"pca\",\n",
    ")"
   ]
  },
  {
   "cell_type": "code",
   "execution_count": 12,
   "metadata": {
    "execution": {
     "iopub.execute_input": "2022-07-27T16:23:40.788621Z",
     "iopub.status.busy": "2022-07-27T16:23:40.788076Z",
     "iopub.status.idle": "2022-07-27T16:24:30.193963Z",
     "shell.execute_reply": "2022-07-27T16:24:30.192864Z"
    }
   },
   "outputs": [
    {
     "name": "stdout",
     "output_type": "stream",
     "text": [
      "{'linearsvc__C': 0.01, 'linearsvc__class_weight': None, 'linearsvc__dual': True, 'linearsvc__max_iter': 100000000.0, 'pca__n_components': 0.96, 'pssmselector__iterations': 'all', 'pssmselector__uniref_threshold': 'all'}\n",
      "0.917\n"
     ]
    }
   ],
   "source": [
    "gsearch = optimize_hyperparams(\n",
    "    X_train,\n",
    "    y_train,\n",
    "    kernel=\"linear\",\n",
    "    dim_reduction=\"pca\",\n",
    "    C=[10, 1, 0.1, 0.01, 0.001],\n",
    "    feature_transformer=\"pssm\",\n",
    "    feature_names=feature_names,\n",
    ")\n",
    "best_estimator_linearsvc_pca = gsearch"
   ]
  },
  {
   "cell_type": "code",
   "execution_count": 13,
   "metadata": {
    "execution": {
     "iopub.execute_input": "2022-07-27T16:24:30.199654Z",
     "iopub.status.busy": "2022-07-27T16:24:30.199026Z",
     "iopub.status.idle": "2022-07-27T16:24:50.455075Z",
     "shell.execute_reply": "2022-07-27T16:24:50.454253Z"
    }
   },
   "outputs": [
    {
     "name": "stdout",
     "output_type": "stream",
     "text": [
      "{'pca__n_components': 0.97, 'svc__C': 10, 'svc__class_weight': 'balanced', 'svc__gamma': 'scale'}\n",
      "0.935\n"
     ]
    }
   ],
   "source": [
    "gsearch = optimize_hyperparams(\n",
    "    X_train,\n",
    "    y_train,\n",
    "    kernel=\"rbf\",\n",
    "    dim_reduction=\"pca\",\n",
    "    C=[0.1, 1, 10, 100],\n",
    "    # gamma=[\"scale\"],\n",
    ")"
   ]
  },
  {
   "cell_type": "markdown",
   "metadata": {},
   "source": [
    "That already looks good, now with the PSSMSelector:"
   ]
  },
  {
   "cell_type": "code",
   "execution_count": 14,
   "metadata": {
    "execution": {
     "iopub.execute_input": "2022-07-27T16:24:50.460434Z",
     "iopub.status.busy": "2022-07-27T16:24:50.459888Z",
     "iopub.status.idle": "2022-07-27T16:26:12.319827Z",
     "shell.execute_reply": "2022-07-27T16:26:12.318731Z"
    }
   },
   "outputs": [
    {
     "name": "stdout",
     "output_type": "stream",
     "text": [
      "{'pca__n_components': 0.97, 'pssmselector__iterations': 'all', 'pssmselector__uniref_threshold': 'all', 'svc__C': 10, 'svc__class_weight': 'balanced', 'svc__gamma': 'scale'}\n",
      "0.935\n"
     ]
    }
   ],
   "source": [
    "gsearch = optimize_hyperparams(\n",
    "    X_train,\n",
    "    y_train,\n",
    "    kernel=\"rbf\",\n",
    "    dim_reduction=\"pca\",\n",
    "    feature_transformer=\"pssm\",\n",
    "    feature_names=feature_names,\n",
    "    C=[0.1, 1, 10, 100],\n",
    "    # C=[1, 0.1, 10],\n",
    "    # gamma=[\"scale\"],\n",
    ")\n",
    "best_estimator_svc_pca = gsearch"
   ]
  },
  {
   "cell_type": "markdown",
   "metadata": {},
   "source": [
    "The selector selects all PSSMs"
   ]
  },
  {
   "cell_type": "markdown",
   "metadata": {},
   "source": [
    "## Validation\n"
   ]
  },
  {
   "cell_type": "markdown",
   "metadata": {},
   "source": [
    "### RBF kernel without feature selection\n",
    "\n"
   ]
  },
  {
   "cell_type": "code",
   "execution_count": 15,
   "metadata": {
    "execution": {
     "iopub.execute_input": "2022-07-27T16:26:12.325692Z",
     "iopub.status.busy": "2022-07-27T16:26:12.324784Z",
     "iopub.status.idle": "2022-07-27T16:26:12.372130Z",
     "shell.execute_reply": "2022-07-27T16:26:12.371320Z"
    }
   },
   "outputs": [
    {
     "data": {
      "text/html": [
       "<div>\n",
       "<style scoped>\n",
       "    .dataframe tbody tr th:only-of-type {\n",
       "        vertical-align: middle;\n",
       "    }\n",
       "\n",
       "    .dataframe tbody tr th {\n",
       "        vertical-align: top;\n",
       "    }\n",
       "\n",
       "    .dataframe thead th {\n",
       "        text-align: right;\n",
       "    }\n",
       "</style>\n",
       "<table border=\"1\" class=\"dataframe\">\n",
       "  <thead>\n",
       "    <tr style=\"text-align: right;\">\n",
       "      <th>predicted</th>\n",
       "      <th>Amino-acid transport</th>\n",
       "      <th>Sugar transport</th>\n",
       "    </tr>\n",
       "    <tr>\n",
       "      <th>observed</th>\n",
       "      <th></th>\n",
       "      <th></th>\n",
       "    </tr>\n",
       "  </thead>\n",
       "  <tbody>\n",
       "    <tr>\n",
       "      <th>Amino-acid transport</th>\n",
       "      <td>30</td>\n",
       "      <td>3</td>\n",
       "    </tr>\n",
       "    <tr>\n",
       "      <th>Sugar transport</th>\n",
       "      <td>5</td>\n",
       "      <td>32</td>\n",
       "    </tr>\n",
       "  </tbody>\n",
       "</table>\n",
       "</div>"
      ],
      "text/plain": [
       "predicted             Amino-acid transport  Sugar transport\n",
       "observed                                                   \n",
       "Amino-acid transport                    30                3\n",
       "Sugar transport                          5               32"
      ]
     },
     "execution_count": 15,
     "metadata": {},
     "output_type": "execute_result"
    }
   ],
   "source": [
    "get_confusion_matrix(X_test, y_test, best_estimator_rbf, labels=labels)"
   ]
  },
  {
   "cell_type": "code",
   "execution_count": 16,
   "metadata": {
    "execution": {
     "iopub.execute_input": "2022-07-27T16:26:12.376360Z",
     "iopub.status.busy": "2022-07-27T16:26:12.375824Z",
     "iopub.status.idle": "2022-07-27T16:26:12.407874Z",
     "shell.execute_reply": "2022-07-27T16:26:12.407511Z"
    }
   },
   "outputs": [
    {
     "data": {
      "text/html": [
       "<div>\n",
       "<style scoped>\n",
       "    .dataframe tbody tr th:only-of-type {\n",
       "        vertical-align: middle;\n",
       "    }\n",
       "\n",
       "    .dataframe tbody tr th {\n",
       "        vertical-align: top;\n",
       "    }\n",
       "\n",
       "    .dataframe thead th {\n",
       "        text-align: right;\n",
       "    }\n",
       "</style>\n",
       "<table border=\"1\" class=\"dataframe\">\n",
       "  <thead>\n",
       "    <tr style=\"text-align: right;\">\n",
       "      <th></th>\n",
       "      <th>precision</th>\n",
       "      <th>recall</th>\n",
       "      <th>f1-score</th>\n",
       "      <th>support</th>\n",
       "    </tr>\n",
       "  </thead>\n",
       "  <tbody>\n",
       "    <tr>\n",
       "      <th>Amino-acid transport</th>\n",
       "      <td>0.857</td>\n",
       "      <td>0.909</td>\n",
       "      <td>0.882</td>\n",
       "      <td>33</td>\n",
       "    </tr>\n",
       "    <tr>\n",
       "      <th>Sugar transport</th>\n",
       "      <td>0.914</td>\n",
       "      <td>0.865</td>\n",
       "      <td>0.889</td>\n",
       "      <td>37</td>\n",
       "    </tr>\n",
       "    <tr>\n",
       "      <th>macro avg</th>\n",
       "      <td>0.886</td>\n",
       "      <td>0.887</td>\n",
       "      <td>0.886</td>\n",
       "      <td>70</td>\n",
       "    </tr>\n",
       "    <tr>\n",
       "      <th>weighted avg</th>\n",
       "      <td>0.887</td>\n",
       "      <td>0.886</td>\n",
       "      <td>0.886</td>\n",
       "      <td>70</td>\n",
       "    </tr>\n",
       "  </tbody>\n",
       "</table>\n",
       "</div>"
      ],
      "text/plain": [
       "                      precision  recall  f1-score  support\n",
       "Amino-acid transport      0.857   0.909     0.882       33\n",
       "Sugar transport           0.914   0.865     0.889       37\n",
       "macro avg                 0.886   0.887     0.886       70\n",
       "weighted avg              0.887   0.886     0.886       70"
      ]
     },
     "execution_count": 16,
     "metadata": {},
     "output_type": "execute_result"
    }
   ],
   "source": [
    "get_classification_report(X_test, y_test, best_estimator_rbf, labels=labels)"
   ]
  },
  {
   "cell_type": "markdown",
   "metadata": {},
   "source": [
    "### Linear kernel with PCA\n",
    "\n",
    "Slightly better results, only one correct classification more"
   ]
  },
  {
   "cell_type": "code",
   "execution_count": 17,
   "metadata": {
    "execution": {
     "iopub.execute_input": "2022-07-27T16:26:12.412527Z",
     "iopub.status.busy": "2022-07-27T16:26:12.411988Z",
     "iopub.status.idle": "2022-07-27T16:26:12.429113Z",
     "shell.execute_reply": "2022-07-27T16:26:12.428552Z"
    }
   },
   "outputs": [
    {
     "data": {
      "text/html": [
       "<div>\n",
       "<style scoped>\n",
       "    .dataframe tbody tr th:only-of-type {\n",
       "        vertical-align: middle;\n",
       "    }\n",
       "\n",
       "    .dataframe tbody tr th {\n",
       "        vertical-align: top;\n",
       "    }\n",
       "\n",
       "    .dataframe thead th {\n",
       "        text-align: right;\n",
       "    }\n",
       "</style>\n",
       "<table border=\"1\" class=\"dataframe\">\n",
       "  <thead>\n",
       "    <tr style=\"text-align: right;\">\n",
       "      <th>predicted</th>\n",
       "      <th>Amino-acid transport</th>\n",
       "      <th>Sugar transport</th>\n",
       "    </tr>\n",
       "    <tr>\n",
       "      <th>observed</th>\n",
       "      <th></th>\n",
       "      <th></th>\n",
       "    </tr>\n",
       "  </thead>\n",
       "  <tbody>\n",
       "    <tr>\n",
       "      <th>Amino-acid transport</th>\n",
       "      <td>30</td>\n",
       "      <td>3</td>\n",
       "    </tr>\n",
       "    <tr>\n",
       "      <th>Sugar transport</th>\n",
       "      <td>4</td>\n",
       "      <td>33</td>\n",
       "    </tr>\n",
       "  </tbody>\n",
       "</table>\n",
       "</div>"
      ],
      "text/plain": [
       "predicted             Amino-acid transport  Sugar transport\n",
       "observed                                                   \n",
       "Amino-acid transport                    30                3\n",
       "Sugar transport                          4               33"
      ]
     },
     "execution_count": 17,
     "metadata": {},
     "output_type": "execute_result"
    }
   ],
   "source": [
    "get_confusion_matrix(X_test, y_test, best_estimator_linearsvc_pca, labels=labels)"
   ]
  },
  {
   "cell_type": "code",
   "execution_count": 18,
   "metadata": {
    "execution": {
     "iopub.execute_input": "2022-07-27T16:26:12.432496Z",
     "iopub.status.busy": "2022-07-27T16:26:12.432264Z",
     "iopub.status.idle": "2022-07-27T16:26:12.452180Z",
     "shell.execute_reply": "2022-07-27T16:26:12.451546Z"
    }
   },
   "outputs": [
    {
     "data": {
      "text/html": [
       "<div>\n",
       "<style scoped>\n",
       "    .dataframe tbody tr th:only-of-type {\n",
       "        vertical-align: middle;\n",
       "    }\n",
       "\n",
       "    .dataframe tbody tr th {\n",
       "        vertical-align: top;\n",
       "    }\n",
       "\n",
       "    .dataframe thead th {\n",
       "        text-align: right;\n",
       "    }\n",
       "</style>\n",
       "<table border=\"1\" class=\"dataframe\">\n",
       "  <thead>\n",
       "    <tr style=\"text-align: right;\">\n",
       "      <th></th>\n",
       "      <th>precision</th>\n",
       "      <th>recall</th>\n",
       "      <th>f1-score</th>\n",
       "      <th>support</th>\n",
       "    </tr>\n",
       "  </thead>\n",
       "  <tbody>\n",
       "    <tr>\n",
       "      <th>Amino-acid transport</th>\n",
       "      <td>0.882</td>\n",
       "      <td>0.909</td>\n",
       "      <td>0.896</td>\n",
       "      <td>33</td>\n",
       "    </tr>\n",
       "    <tr>\n",
       "      <th>Sugar transport</th>\n",
       "      <td>0.917</td>\n",
       "      <td>0.892</td>\n",
       "      <td>0.904</td>\n",
       "      <td>37</td>\n",
       "    </tr>\n",
       "    <tr>\n",
       "      <th>macro avg</th>\n",
       "      <td>0.900</td>\n",
       "      <td>0.900</td>\n",
       "      <td>0.900</td>\n",
       "      <td>70</td>\n",
       "    </tr>\n",
       "    <tr>\n",
       "      <th>weighted avg</th>\n",
       "      <td>0.900</td>\n",
       "      <td>0.900</td>\n",
       "      <td>0.900</td>\n",
       "      <td>70</td>\n",
       "    </tr>\n",
       "  </tbody>\n",
       "</table>\n",
       "</div>"
      ],
      "text/plain": [
       "                      precision  recall  f1-score  support\n",
       "Amino-acid transport      0.882   0.909     0.896       33\n",
       "Sugar transport           0.917   0.892     0.904       37\n",
       "macro avg                 0.900   0.900     0.900       70\n",
       "weighted avg              0.900   0.900     0.900       70"
      ]
     },
     "execution_count": 18,
     "metadata": {},
     "output_type": "execute_result"
    }
   ],
   "source": [
    "get_classification_report(X_test, y_test, best_estimator_linearsvc_pca, labels=labels)"
   ]
  },
  {
   "cell_type": "markdown",
   "metadata": {},
   "source": [
    "### RBF + PCA\n",
    "\n",
    "RBF kernel and pca leads to the best model on the training set."
   ]
  },
  {
   "cell_type": "code",
   "execution_count": 19,
   "metadata": {
    "execution": {
     "iopub.execute_input": "2022-07-27T16:26:12.455912Z",
     "iopub.status.busy": "2022-07-27T16:26:12.455648Z",
     "iopub.status.idle": "2022-07-27T16:26:12.471044Z",
     "shell.execute_reply": "2022-07-27T16:26:12.470397Z"
    }
   },
   "outputs": [
    {
     "data": {
      "text/html": [
       "<div>\n",
       "<style scoped>\n",
       "    .dataframe tbody tr th:only-of-type {\n",
       "        vertical-align: middle;\n",
       "    }\n",
       "\n",
       "    .dataframe tbody tr th {\n",
       "        vertical-align: top;\n",
       "    }\n",
       "\n",
       "    .dataframe thead th {\n",
       "        text-align: right;\n",
       "    }\n",
       "</style>\n",
       "<table border=\"1\" class=\"dataframe\">\n",
       "  <thead>\n",
       "    <tr style=\"text-align: right;\">\n",
       "      <th>predicted</th>\n",
       "      <th>Amino-acid transport</th>\n",
       "      <th>Sugar transport</th>\n",
       "    </tr>\n",
       "    <tr>\n",
       "      <th>observed</th>\n",
       "      <th></th>\n",
       "      <th></th>\n",
       "    </tr>\n",
       "  </thead>\n",
       "  <tbody>\n",
       "    <tr>\n",
       "      <th>Amino-acid transport</th>\n",
       "      <td>29</td>\n",
       "      <td>4</td>\n",
       "    </tr>\n",
       "    <tr>\n",
       "      <th>Sugar transport</th>\n",
       "      <td>2</td>\n",
       "      <td>35</td>\n",
       "    </tr>\n",
       "  </tbody>\n",
       "</table>\n",
       "</div>"
      ],
      "text/plain": [
       "predicted             Amino-acid transport  Sugar transport\n",
       "observed                                                   \n",
       "Amino-acid transport                    29                4\n",
       "Sugar transport                          2               35"
      ]
     },
     "execution_count": 19,
     "metadata": {},
     "output_type": "execute_result"
    }
   ],
   "source": [
    "get_confusion_matrix(X_test, y_test, best_estimator_svc_pca, labels=labels)"
   ]
  },
  {
   "cell_type": "code",
   "execution_count": 20,
   "metadata": {
    "execution": {
     "iopub.execute_input": "2022-07-27T16:26:12.474725Z",
     "iopub.status.busy": "2022-07-27T16:26:12.474453Z",
     "iopub.status.idle": "2022-07-27T16:26:12.498988Z",
     "shell.execute_reply": "2022-07-27T16:26:12.498413Z"
    }
   },
   "outputs": [
    {
     "data": {
      "text/html": [
       "<div>\n",
       "<style scoped>\n",
       "    .dataframe tbody tr th:only-of-type {\n",
       "        vertical-align: middle;\n",
       "    }\n",
       "\n",
       "    .dataframe tbody tr th {\n",
       "        vertical-align: top;\n",
       "    }\n",
       "\n",
       "    .dataframe thead th {\n",
       "        text-align: right;\n",
       "    }\n",
       "</style>\n",
       "<table border=\"1\" class=\"dataframe\">\n",
       "  <thead>\n",
       "    <tr style=\"text-align: right;\">\n",
       "      <th></th>\n",
       "      <th>precision</th>\n",
       "      <th>recall</th>\n",
       "      <th>f1-score</th>\n",
       "      <th>support</th>\n",
       "    </tr>\n",
       "  </thead>\n",
       "  <tbody>\n",
       "    <tr>\n",
       "      <th>Amino-acid transport</th>\n",
       "      <td>0.935</td>\n",
       "      <td>0.879</td>\n",
       "      <td>0.906</td>\n",
       "      <td>33</td>\n",
       "    </tr>\n",
       "    <tr>\n",
       "      <th>Sugar transport</th>\n",
       "      <td>0.897</td>\n",
       "      <td>0.946</td>\n",
       "      <td>0.921</td>\n",
       "      <td>37</td>\n",
       "    </tr>\n",
       "    <tr>\n",
       "      <th>macro avg</th>\n",
       "      <td>0.916</td>\n",
       "      <td>0.912</td>\n",
       "      <td>0.914</td>\n",
       "      <td>70</td>\n",
       "    </tr>\n",
       "    <tr>\n",
       "      <th>weighted avg</th>\n",
       "      <td>0.915</td>\n",
       "      <td>0.914</td>\n",
       "      <td>0.914</td>\n",
       "      <td>70</td>\n",
       "    </tr>\n",
       "  </tbody>\n",
       "</table>\n",
       "</div>"
      ],
      "text/plain": [
       "                      precision  recall  f1-score  support\n",
       "Amino-acid transport      0.935   0.879     0.906       33\n",
       "Sugar transport           0.897   0.946     0.921       37\n",
       "macro avg                 0.916   0.912     0.914       70\n",
       "weighted avg              0.915   0.914     0.914       70"
      ]
     },
     "execution_count": 20,
     "metadata": {},
     "output_type": "execute_result"
    }
   ],
   "source": [
    "get_classification_report(X_test, y_test, best_estimator_svc_pca, labels=labels)"
   ]
  },
  {
   "cell_type": "markdown",
   "metadata": {},
   "source": [
    "### Conclusion\n",
    "\n",
    "PSSM with PCA and RBF-SVC is suitable for stable multi-organism models."
   ]
  },
  {
   "cell_type": "markdown",
   "metadata": {},
   "source": [
    "## Estimating validation variance\n",
    "\n",
    "How much did the result depend on choosing the training and test sets?\n",
    "\n",
    "Mean and standard deviation for randomly selected training and validation sets."
   ]
  },
  {
   "cell_type": "markdown",
   "metadata": {},
   "source": [
    "#### RBF+PCA "
   ]
  },
  {
   "cell_type": "code",
   "execution_count": 21,
   "metadata": {
    "execution": {
     "iopub.execute_input": "2022-07-27T16:26:12.502651Z",
     "iopub.status.busy": "2022-07-27T16:26:12.502443Z",
     "iopub.status.idle": "2022-07-27T16:36:26.089424Z",
     "shell.execute_reply": "2022-07-27T16:36:26.088581Z"
    }
   },
   "outputs": [
    {
     "name": "stdout",
     "output_type": "stream",
     "text": [
      "Mean F1\n"
     ]
    },
    {
     "data": {
      "text/html": [
       "<div>\n",
       "<style scoped>\n",
       "    .dataframe tbody tr th:only-of-type {\n",
       "        vertical-align: middle;\n",
       "    }\n",
       "\n",
       "    .dataframe tbody tr th {\n",
       "        vertical-align: top;\n",
       "    }\n",
       "\n",
       "    .dataframe thead th {\n",
       "        text-align: right;\n",
       "    }\n",
       "</style>\n",
       "<table border=\"1\" class=\"dataframe\">\n",
       "  <thead>\n",
       "    <tr style=\"text-align: right;\">\n",
       "      <th>dataset</th>\n",
       "      <th>test</th>\n",
       "      <th>train</th>\n",
       "    </tr>\n",
       "    <tr>\n",
       "      <th>label</th>\n",
       "      <th></th>\n",
       "      <th></th>\n",
       "    </tr>\n",
       "  </thead>\n",
       "  <tbody>\n",
       "    <tr>\n",
       "      <th>Amino-acid transport</th>\n",
       "      <td>0.9188</td>\n",
       "      <td>0.9287</td>\n",
       "    </tr>\n",
       "    <tr>\n",
       "      <th>Sugar transport</th>\n",
       "      <td>0.9290</td>\n",
       "      <td>0.9338</td>\n",
       "    </tr>\n",
       "  </tbody>\n",
       "</table>\n",
       "</div>"
      ],
      "text/plain": [
       "dataset                 test   train\n",
       "label                               \n",
       "Amino-acid transport  0.9188  0.9287\n",
       "Sugar transport       0.9290  0.9338"
      ]
     },
     "metadata": {},
     "output_type": "display_data"
    },
    {
     "name": "stdout",
     "output_type": "stream",
     "text": [
      "Sdev F1\n"
     ]
    },
    {
     "data": {
      "text/html": [
       "<div>\n",
       "<style scoped>\n",
       "    .dataframe tbody tr th:only-of-type {\n",
       "        vertical-align: middle;\n",
       "    }\n",
       "\n",
       "    .dataframe tbody tr th {\n",
       "        vertical-align: top;\n",
       "    }\n",
       "\n",
       "    .dataframe thead th {\n",
       "        text-align: right;\n",
       "    }\n",
       "</style>\n",
       "<table border=\"1\" class=\"dataframe\">\n",
       "  <thead>\n",
       "    <tr style=\"text-align: right;\">\n",
       "      <th>dataset</th>\n",
       "      <th>test</th>\n",
       "      <th>train</th>\n",
       "    </tr>\n",
       "    <tr>\n",
       "      <th>label</th>\n",
       "      <th></th>\n",
       "      <th></th>\n",
       "    </tr>\n",
       "  </thead>\n",
       "  <tbody>\n",
       "    <tr>\n",
       "      <th>Amino-acid transport</th>\n",
       "      <td>0.042415</td>\n",
       "      <td>0.010393</td>\n",
       "    </tr>\n",
       "    <tr>\n",
       "      <th>Sugar transport</th>\n",
       "      <td>0.037642</td>\n",
       "      <td>0.008548</td>\n",
       "    </tr>\n",
       "  </tbody>\n",
       "</table>\n",
       "</div>"
      ],
      "text/plain": [
       "dataset                   test     train\n",
       "label                                   \n",
       "Amino-acid transport  0.042415  0.010393\n",
       "Sugar transport       0.037642  0.008548"
      ]
     },
     "metadata": {},
     "output_type": "display_data"
    },
    {
     "name": "stdout",
     "output_type": "stream",
     "text": [
      "Parameters\n"
     ]
    },
    {
     "data": {
      "text/html": [
       "<div>\n",
       "<style scoped>\n",
       "    .dataframe tbody tr th:only-of-type {\n",
       "        vertical-align: middle;\n",
       "    }\n",
       "\n",
       "    .dataframe tbody tr th {\n",
       "        vertical-align: top;\n",
       "    }\n",
       "\n",
       "    .dataframe thead th {\n",
       "        text-align: right;\n",
       "    }\n",
       "</style>\n",
       "<table border=\"1\" class=\"dataframe\">\n",
       "  <thead>\n",
       "    <tr style=\"text-align: right;\">\n",
       "      <th></th>\n",
       "      <th>0</th>\n",
       "      <th>1</th>\n",
       "      <th>2</th>\n",
       "      <th>3</th>\n",
       "      <th>4</th>\n",
       "      <th>5</th>\n",
       "      <th>6</th>\n",
       "      <th>7</th>\n",
       "      <th>8</th>\n",
       "      <th>9</th>\n",
       "    </tr>\n",
       "  </thead>\n",
       "  <tbody>\n",
       "    <tr>\n",
       "      <th>pca__n_components</th>\n",
       "      <td>0.97</td>\n",
       "      <td>0.97</td>\n",
       "      <td>0.86</td>\n",
       "      <td>0.97</td>\n",
       "      <td>0.85</td>\n",
       "      <td>0.99</td>\n",
       "      <td>0.97</td>\n",
       "      <td>0.98</td>\n",
       "      <td>0.97</td>\n",
       "      <td>0.97</td>\n",
       "    </tr>\n",
       "    <tr>\n",
       "      <th>pssmselector__iterations</th>\n",
       "      <td>all</td>\n",
       "      <td>3</td>\n",
       "      <td>1</td>\n",
       "      <td>all</td>\n",
       "      <td>all</td>\n",
       "      <td>all</td>\n",
       "      <td>all</td>\n",
       "      <td>all</td>\n",
       "      <td>all</td>\n",
       "      <td>all</td>\n",
       "    </tr>\n",
       "    <tr>\n",
       "      <th>pssmselector__uniref_threshold</th>\n",
       "      <td>50</td>\n",
       "      <td>50</td>\n",
       "      <td>50</td>\n",
       "      <td>all</td>\n",
       "      <td>50</td>\n",
       "      <td>50</td>\n",
       "      <td>50</td>\n",
       "      <td>all</td>\n",
       "      <td>50</td>\n",
       "      <td>all</td>\n",
       "    </tr>\n",
       "    <tr>\n",
       "      <th>svc__C</th>\n",
       "      <td>1</td>\n",
       "      <td>1</td>\n",
       "      <td>1</td>\n",
       "      <td>10</td>\n",
       "      <td>1</td>\n",
       "      <td>10</td>\n",
       "      <td>10</td>\n",
       "      <td>10</td>\n",
       "      <td>10</td>\n",
       "      <td>10</td>\n",
       "    </tr>\n",
       "    <tr>\n",
       "      <th>svc__class_weight</th>\n",
       "      <td>None</td>\n",
       "      <td>None</td>\n",
       "      <td>None</td>\n",
       "      <td>balanced</td>\n",
       "      <td>balanced</td>\n",
       "      <td>balanced</td>\n",
       "      <td>balanced</td>\n",
       "      <td>balanced</td>\n",
       "      <td>balanced</td>\n",
       "      <td>balanced</td>\n",
       "    </tr>\n",
       "    <tr>\n",
       "      <th>svc__gamma</th>\n",
       "      <td>scale</td>\n",
       "      <td>scale</td>\n",
       "      <td>0.1</td>\n",
       "      <td>0.01</td>\n",
       "      <td>0.1</td>\n",
       "      <td>0.01</td>\n",
       "      <td>0.01</td>\n",
       "      <td>scale</td>\n",
       "      <td>0.01</td>\n",
       "      <td>0.01</td>\n",
       "    </tr>\n",
       "  </tbody>\n",
       "</table>\n",
       "</div>"
      ],
      "text/plain": [
       "                                    0      1     2         3         4  \\\n",
       "pca__n_components                0.97   0.97  0.86      0.97      0.85   \n",
       "pssmselector__iterations          all      3     1       all       all   \n",
       "pssmselector__uniref_threshold     50     50    50       all        50   \n",
       "svc__C                              1      1     1        10         1   \n",
       "svc__class_weight                None   None  None  balanced  balanced   \n",
       "svc__gamma                      scale  scale   0.1      0.01       0.1   \n",
       "\n",
       "                                       5         6         7         8  \\\n",
       "pca__n_components                   0.99      0.97      0.98      0.97   \n",
       "pssmselector__iterations             all       all       all       all   \n",
       "pssmselector__uniref_threshold        50        50       all        50   \n",
       "svc__C                                10        10        10        10   \n",
       "svc__class_weight               balanced  balanced  balanced  balanced   \n",
       "svc__gamma                          0.01      0.01     scale      0.01   \n",
       "\n",
       "                                       9  \n",
       "pca__n_components                   0.97  \n",
       "pssmselector__iterations             all  \n",
       "pssmselector__uniref_threshold       all  \n",
       "svc__C                                10  \n",
       "svc__class_weight               balanced  \n",
       "svc__gamma                          0.01  "
      ]
     },
     "metadata": {},
     "output_type": "display_data"
    }
   ],
   "source": [
    "df_scores, df_params = full_test(\n",
    "    df_pssm,\n",
    "    labels,\n",
    "    dim_reduction=\"pca\",\n",
    "    kernel=\"rbf\",\n",
    "    repetitions=10,\n",
    "    feature_transformer=\"pssm\",\n",
    ")\n",
    "df_scores_gr = df_scores.groupby([\"label\", \"dataset\"], as_index=False)\n",
    "print(\"Mean F1\")\n",
    "display(df_scores_gr.mean().pivot(index=\"label\", columns=\"dataset\", values=\"F1 score\"))\n",
    "print(\"Sdev F1\")\n",
    "display(df_scores_gr.std().pivot(index=\"label\", columns=\"dataset\", values=\"F1 score\"))\n",
    "print(\"Parameters\")\n",
    "display(df_params)"
   ]
  },
  {
   "cell_type": "markdown",
   "metadata": {},
   "source": [
    "The PSSM feature leads to a good average performance across the 10 random seeds, even better than the split we tested before."
   ]
  }
 ],
 "metadata": {
  "kernelspec": {
   "display_name": "Python 3.9.12 ('subpred')",
   "language": "python",
   "name": "python3"
  },
  "language_info": {
   "codemirror_mode": {
    "name": "ipython",
    "version": 3
   },
   "file_extension": ".py",
   "mimetype": "text/x-python",
   "name": "python",
   "nbconvert_exporter": "python",
   "pygments_lexer": "ipython3",
   "version": "3.9.12"
  },
  "vscode": {
   "interpreter": {
    "hash": "a3c5a88a8b1fa059748e807688afdff6c3f31eb23364e67d8e1c7f5771f5e23f"
   }
  }
 },
 "nbformat": 4,
 "nbformat_minor": 2
}
