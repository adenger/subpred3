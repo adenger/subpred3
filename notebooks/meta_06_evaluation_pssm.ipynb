{
 "cells": [
  {
   "cell_type": "markdown",
   "metadata": {},
   "source": [
    "# PSSM Feature evaluation"
   ]
  },
  {
   "cell_type": "markdown",
   "metadata": {},
   "source": [
    "# Imports"
   ]
  },
  {
   "cell_type": "code",
   "execution_count": 1,
   "metadata": {
    "execution": {
     "iopub.execute_input": "2022-07-26T15:44:46.476624Z",
     "iopub.status.busy": "2022-07-26T15:44:46.476169Z",
     "iopub.status.idle": "2022-07-26T15:44:47.090317Z",
     "shell.execute_reply": "2022-07-26T15:44:47.089533Z"
    }
   },
   "outputs": [],
   "source": [
    "from subpred.transporter_dataset import create_dataset\n",
    "from subpred.eval import (\n",
    "    get_independent_test_set,\n",
    "    optimize_hyperparams,\n",
    "    preprocess_pandas,\n",
    "    models_quick_compare,\n",
    "    get_confusion_matrix,\n",
    "    get_classification_report,\n",
    "    full_test,\n",
    ")\n",
    "from subpred.pssm import calculate_pssms_notebook"
   ]
  },
  {
   "cell_type": "markdown",
   "metadata": {},
   "source": [
    "# Dataset"
   ]
  },
  {
   "cell_type": "code",
   "execution_count": 2,
   "metadata": {
    "execution": {
     "iopub.execute_input": "2022-07-26T15:44:47.092848Z",
     "iopub.status.busy": "2022-07-26T15:44:47.092626Z",
     "iopub.status.idle": "2022-07-26T15:44:57.942612Z",
     "shell.execute_reply": "2022-07-26T15:44:57.941861Z"
    }
   },
   "outputs": [
    {
     "name": "stdout",
     "output_type": "stream",
     "text": [
      "cd-hit: clustered 428 sequences into 362 clusters at threshold 70\n"
     ]
    }
   ],
   "source": [
    "outliers = (\n",
    "    [\"Q9HBR0\", \"Q07837\"]\n",
    "    + [\"P76773\", \"Q47706\", \"P02943\", \"P75733\", \"P69856\", \"P64550\"]\n",
    "    + [\"O81775\", \"Q9SW07\", \"Q9FHH5\", \"Q8S8A0\", \"Q3E965\", \"Q3EAV6\", \"Q3E8L0\",],\n",
    ")\n",
    "df = create_dataset(\n",
    "    keywords_substrate_filter=[\"Amino-acid transport\", \"Sugar transport\"],\n",
    "    keywords_component_filter=[\"Transmembrane\"],\n",
    "    keywords_transport_filter=[\"Transport\"],\n",
    "    input_file=\"../data/raw/swissprot/uniprot-reviewed_yes.tab.gz\",\n",
    "    multi_substrate=\"integrate\",\n",
    "    verbose=True,\n",
    "    tax_ids_filter=[3702, 9606, 83333, 559292],\n",
    "    output_log=\"../logs/meta_amino_sugar_dataset.log\",\n",
    "    outliers=outliers,\n",
    "    sequence_clustering=70\n",
    ")\n",
    "taxid_to_organism = {\n",
    "    3702: \"A. thaliana\",\n",
    "    9606: \"Human\",\n",
    "    83333: \"E. coli\",\n",
    "    559292: \"Yeast\",\n",
    "}\n",
    "df = df.assign(organism=df.organism_id.map(taxid_to_organism))"
   ]
  },
  {
   "cell_type": "markdown",
   "metadata": {},
   "source": [
    "# Feature generation"
   ]
  },
  {
   "cell_type": "code",
   "execution_count": 3,
   "metadata": {
    "execution": {
     "iopub.execute_input": "2022-07-26T15:44:57.974594Z",
     "iopub.status.busy": "2022-07-26T15:44:57.974166Z",
     "iopub.status.idle": "2022-07-26T15:44:57.993334Z",
     "shell.execute_reply": "2022-07-26T15:44:57.992674Z"
    }
   },
   "outputs": [
    {
     "data": {
      "text/plain": [
       "Sugar transport         186\n",
       "Amino-acid transport    176\n",
       "Name: keywords_transport, dtype: int64"
      ]
     },
     "execution_count": 3,
     "metadata": {},
     "output_type": "execute_result"
    }
   ],
   "source": [
    "labels = df.keywords_transport\n",
    "labels.value_counts()"
   ]
  },
  {
   "cell_type": "code",
   "execution_count": 4,
   "metadata": {
    "execution": {
     "iopub.execute_input": "2022-07-26T15:44:57.997475Z",
     "iopub.status.busy": "2022-07-26T15:44:57.997137Z",
     "iopub.status.idle": "2022-07-26T15:45:02.836447Z",
     "shell.execute_reply": "2022-07-26T15:45:02.835186Z"
    }
   },
   "outputs": [
    {
     "data": {
      "text/html": [
       "<div>\n",
       "<style scoped>\n",
       "    .dataframe tbody tr th:only-of-type {\n",
       "        vertical-align: middle;\n",
       "    }\n",
       "\n",
       "    .dataframe tbody tr th {\n",
       "        vertical-align: top;\n",
       "    }\n",
       "\n",
       "    .dataframe thead th {\n",
       "        text-align: right;\n",
       "    }\n",
       "</style>\n",
       "<table border=\"1\" class=\"dataframe\">\n",
       "  <thead>\n",
       "    <tr style=\"text-align: right;\">\n",
       "      <th></th>\n",
       "      <th>AA_50_1</th>\n",
       "      <th>AR_50_1</th>\n",
       "      <th>AN_50_1</th>\n",
       "      <th>AD_50_1</th>\n",
       "      <th>AC_50_1</th>\n",
       "      <th>AQ_50_1</th>\n",
       "      <th>AE_50_1</th>\n",
       "      <th>AG_50_1</th>\n",
       "      <th>AH_50_1</th>\n",
       "      <th>AI_50_1</th>\n",
       "      <th>...</th>\n",
       "      <th>VL_90_3</th>\n",
       "      <th>VK_90_3</th>\n",
       "      <th>VM_90_3</th>\n",
       "      <th>VF_90_3</th>\n",
       "      <th>VP_90_3</th>\n",
       "      <th>VS_90_3</th>\n",
       "      <th>VT_90_3</th>\n",
       "      <th>VW_90_3</th>\n",
       "      <th>VY_90_3</th>\n",
       "      <th>VV_90_3</th>\n",
       "    </tr>\n",
       "    <tr>\n",
       "      <th>Uniprot</th>\n",
       "      <th></th>\n",
       "      <th></th>\n",
       "      <th></th>\n",
       "      <th></th>\n",
       "      <th></th>\n",
       "      <th></th>\n",
       "      <th></th>\n",
       "      <th></th>\n",
       "      <th></th>\n",
       "      <th></th>\n",
       "      <th></th>\n",
       "      <th></th>\n",
       "      <th></th>\n",
       "      <th></th>\n",
       "      <th></th>\n",
       "      <th></th>\n",
       "      <th></th>\n",
       "      <th></th>\n",
       "      <th></th>\n",
       "      <th></th>\n",
       "      <th></th>\n",
       "    </tr>\n",
       "  </thead>\n",
       "  <tbody>\n",
       "    <tr>\n",
       "      <th>P69801</th>\n",
       "      <td>0.873913</td>\n",
       "      <td>0.156522</td>\n",
       "      <td>0.273913</td>\n",
       "      <td>0.108696</td>\n",
       "      <td>0.421739</td>\n",
       "      <td>0.295652</td>\n",
       "      <td>0.178261</td>\n",
       "      <td>0.513043</td>\n",
       "      <td>0.134783</td>\n",
       "      <td>0.408696</td>\n",
       "      <td>...</td>\n",
       "      <td>0.496933</td>\n",
       "      <td>0.487730</td>\n",
       "      <td>0.503067</td>\n",
       "      <td>0.558282</td>\n",
       "      <td>0.450920</td>\n",
       "      <td>0.472393</td>\n",
       "      <td>0.475460</td>\n",
       "      <td>0.490798</td>\n",
       "      <td>0.592025</td>\n",
       "      <td>0.481595</td>\n",
       "    </tr>\n",
       "    <tr>\n",
       "      <th>Q9SFG0</th>\n",
       "      <td>0.784223</td>\n",
       "      <td>0.252900</td>\n",
       "      <td>0.327146</td>\n",
       "      <td>0.238979</td>\n",
       "      <td>0.394432</td>\n",
       "      <td>0.350348</td>\n",
       "      <td>0.276102</td>\n",
       "      <td>0.545244</td>\n",
       "      <td>0.227378</td>\n",
       "      <td>0.317865</td>\n",
       "      <td>...</td>\n",
       "      <td>0.434307</td>\n",
       "      <td>0.381387</td>\n",
       "      <td>0.421533</td>\n",
       "      <td>0.578467</td>\n",
       "      <td>0.357664</td>\n",
       "      <td>0.390511</td>\n",
       "      <td>0.392336</td>\n",
       "      <td>0.512774</td>\n",
       "      <td>0.656934</td>\n",
       "      <td>0.417883</td>\n",
       "    </tr>\n",
       "    <tr>\n",
       "      <th>Q08986</th>\n",
       "      <td>0.734091</td>\n",
       "      <td>0.259091</td>\n",
       "      <td>0.313636</td>\n",
       "      <td>0.220455</td>\n",
       "      <td>0.393182</td>\n",
       "      <td>0.295455</td>\n",
       "      <td>0.234091</td>\n",
       "      <td>0.529545</td>\n",
       "      <td>0.265909</td>\n",
       "      <td>0.415909</td>\n",
       "      <td>...</td>\n",
       "      <td>0.425047</td>\n",
       "      <td>0.345351</td>\n",
       "      <td>0.402277</td>\n",
       "      <td>0.584440</td>\n",
       "      <td>0.282732</td>\n",
       "      <td>0.351044</td>\n",
       "      <td>0.351044</td>\n",
       "      <td>0.605313</td>\n",
       "      <td>0.759013</td>\n",
       "      <td>0.387097</td>\n",
       "    </tr>\n",
       "    <tr>\n",
       "      <th>Q9BRV3</th>\n",
       "      <td>0.676768</td>\n",
       "      <td>0.488215</td>\n",
       "      <td>0.508418</td>\n",
       "      <td>0.464646</td>\n",
       "      <td>0.602694</td>\n",
       "      <td>0.511785</td>\n",
       "      <td>0.478114</td>\n",
       "      <td>0.565657</td>\n",
       "      <td>0.511785</td>\n",
       "      <td>0.612795</td>\n",
       "      <td>...</td>\n",
       "      <td>0.484375</td>\n",
       "      <td>0.403125</td>\n",
       "      <td>0.471875</td>\n",
       "      <td>0.706250</td>\n",
       "      <td>0.368750</td>\n",
       "      <td>0.443750</td>\n",
       "      <td>0.440625</td>\n",
       "      <td>0.568750</td>\n",
       "      <td>0.856250</td>\n",
       "      <td>0.478125</td>\n",
       "    </tr>\n",
       "    <tr>\n",
       "      <th>Q84WN3</th>\n",
       "      <td>0.664740</td>\n",
       "      <td>0.416185</td>\n",
       "      <td>0.462428</td>\n",
       "      <td>0.427746</td>\n",
       "      <td>0.624277</td>\n",
       "      <td>0.445087</td>\n",
       "      <td>0.456647</td>\n",
       "      <td>0.526012</td>\n",
       "      <td>0.479769</td>\n",
       "      <td>0.543353</td>\n",
       "      <td>...</td>\n",
       "      <td>0.383260</td>\n",
       "      <td>0.264317</td>\n",
       "      <td>0.374449</td>\n",
       "      <td>0.726872</td>\n",
       "      <td>0.215859</td>\n",
       "      <td>0.286344</td>\n",
       "      <td>0.312775</td>\n",
       "      <td>0.493392</td>\n",
       "      <td>0.982379</td>\n",
       "      <td>0.352423</td>\n",
       "    </tr>\n",
       "    <tr>\n",
       "      <th>...</th>\n",
       "      <td>...</td>\n",
       "      <td>...</td>\n",
       "      <td>...</td>\n",
       "      <td>...</td>\n",
       "      <td>...</td>\n",
       "      <td>...</td>\n",
       "      <td>...</td>\n",
       "      <td>...</td>\n",
       "      <td>...</td>\n",
       "      <td>...</td>\n",
       "      <td>...</td>\n",
       "      <td>...</td>\n",
       "      <td>...</td>\n",
       "      <td>...</td>\n",
       "      <td>...</td>\n",
       "      <td>...</td>\n",
       "      <td>...</td>\n",
       "      <td>...</td>\n",
       "      <td>...</td>\n",
       "      <td>...</td>\n",
       "      <td>...</td>\n",
       "    </tr>\n",
       "    <tr>\n",
       "      <th>Q9FHH5</th>\n",
       "      <td>0.685484</td>\n",
       "      <td>0.193548</td>\n",
       "      <td>0.241935</td>\n",
       "      <td>0.217742</td>\n",
       "      <td>0.266129</td>\n",
       "      <td>0.266129</td>\n",
       "      <td>0.250000</td>\n",
       "      <td>0.314516</td>\n",
       "      <td>0.209677</td>\n",
       "      <td>0.266129</td>\n",
       "      <td>...</td>\n",
       "      <td>0.339130</td>\n",
       "      <td>0.295652</td>\n",
       "      <td>0.304348</td>\n",
       "      <td>0.634783</td>\n",
       "      <td>0.373913</td>\n",
       "      <td>0.365217</td>\n",
       "      <td>0.339130</td>\n",
       "      <td>0.513043</td>\n",
       "      <td>0.747826</td>\n",
       "      <td>0.278261</td>\n",
       "    </tr>\n",
       "    <tr>\n",
       "      <th>Q8S8A0</th>\n",
       "      <td>0.898305</td>\n",
       "      <td>0.186441</td>\n",
       "      <td>0.254237</td>\n",
       "      <td>0.262712</td>\n",
       "      <td>0.288136</td>\n",
       "      <td>0.279661</td>\n",
       "      <td>0.322034</td>\n",
       "      <td>0.381356</td>\n",
       "      <td>0.262712</td>\n",
       "      <td>0.322034</td>\n",
       "      <td>...</td>\n",
       "      <td>0.500000</td>\n",
       "      <td>0.532787</td>\n",
       "      <td>0.508197</td>\n",
       "      <td>0.598361</td>\n",
       "      <td>0.483607</td>\n",
       "      <td>0.516393</td>\n",
       "      <td>0.516393</td>\n",
       "      <td>0.557377</td>\n",
       "      <td>0.704918</td>\n",
       "      <td>0.500000</td>\n",
       "    </tr>\n",
       "    <tr>\n",
       "      <th>Q3E965</th>\n",
       "      <td>0.880342</td>\n",
       "      <td>0.273504</td>\n",
       "      <td>0.333333</td>\n",
       "      <td>0.264957</td>\n",
       "      <td>0.367521</td>\n",
       "      <td>0.316239</td>\n",
       "      <td>0.307692</td>\n",
       "      <td>0.401709</td>\n",
       "      <td>0.290598</td>\n",
       "      <td>0.324786</td>\n",
       "      <td>...</td>\n",
       "      <td>0.505155</td>\n",
       "      <td>0.556701</td>\n",
       "      <td>0.525773</td>\n",
       "      <td>0.608247</td>\n",
       "      <td>0.505155</td>\n",
       "      <td>0.536082</td>\n",
       "      <td>0.515464</td>\n",
       "      <td>0.587629</td>\n",
       "      <td>0.742268</td>\n",
       "      <td>0.484536</td>\n",
       "    </tr>\n",
       "    <tr>\n",
       "      <th>Q3EAV6</th>\n",
       "      <td>0.611511</td>\n",
       "      <td>0.294964</td>\n",
       "      <td>0.309353</td>\n",
       "      <td>0.316547</td>\n",
       "      <td>0.330935</td>\n",
       "      <td>0.323741</td>\n",
       "      <td>0.323741</td>\n",
       "      <td>0.374101</td>\n",
       "      <td>0.302158</td>\n",
       "      <td>0.338129</td>\n",
       "      <td>...</td>\n",
       "      <td>0.444444</td>\n",
       "      <td>0.444444</td>\n",
       "      <td>0.487179</td>\n",
       "      <td>0.538462</td>\n",
       "      <td>0.435897</td>\n",
       "      <td>0.487179</td>\n",
       "      <td>0.461538</td>\n",
       "      <td>0.538462</td>\n",
       "      <td>0.606838</td>\n",
       "      <td>0.461538</td>\n",
       "    </tr>\n",
       "    <tr>\n",
       "      <th>Q3E8L0</th>\n",
       "      <td>0.786667</td>\n",
       "      <td>0.146667</td>\n",
       "      <td>0.173333</td>\n",
       "      <td>0.133333</td>\n",
       "      <td>0.293333</td>\n",
       "      <td>0.200000</td>\n",
       "      <td>0.173333</td>\n",
       "      <td>0.413333</td>\n",
       "      <td>0.133333</td>\n",
       "      <td>0.240000</td>\n",
       "      <td>...</td>\n",
       "      <td>0.430556</td>\n",
       "      <td>0.402778</td>\n",
       "      <td>0.361111</td>\n",
       "      <td>0.486111</td>\n",
       "      <td>0.375000</td>\n",
       "      <td>0.458333</td>\n",
       "      <td>0.430556</td>\n",
       "      <td>0.583333</td>\n",
       "      <td>0.555556</td>\n",
       "      <td>0.375000</td>\n",
       "    </tr>\n",
       "  </tbody>\n",
       "</table>\n",
       "<p>362 rows × 1600 columns</p>\n",
       "</div>"
      ],
      "text/plain": [
       "          AA_50_1   AR_50_1   AN_50_1   AD_50_1   AC_50_1   AQ_50_1   AE_50_1  \\\n",
       "Uniprot                                                                         \n",
       "P69801   0.873913  0.156522  0.273913  0.108696  0.421739  0.295652  0.178261   \n",
       "Q9SFG0   0.784223  0.252900  0.327146  0.238979  0.394432  0.350348  0.276102   \n",
       "Q08986   0.734091  0.259091  0.313636  0.220455  0.393182  0.295455  0.234091   \n",
       "Q9BRV3   0.676768  0.488215  0.508418  0.464646  0.602694  0.511785  0.478114   \n",
       "Q84WN3   0.664740  0.416185  0.462428  0.427746  0.624277  0.445087  0.456647   \n",
       "...           ...       ...       ...       ...       ...       ...       ...   \n",
       "Q9FHH5   0.685484  0.193548  0.241935  0.217742  0.266129  0.266129  0.250000   \n",
       "Q8S8A0   0.898305  0.186441  0.254237  0.262712  0.288136  0.279661  0.322034   \n",
       "Q3E965   0.880342  0.273504  0.333333  0.264957  0.367521  0.316239  0.307692   \n",
       "Q3EAV6   0.611511  0.294964  0.309353  0.316547  0.330935  0.323741  0.323741   \n",
       "Q3E8L0   0.786667  0.146667  0.173333  0.133333  0.293333  0.200000  0.173333   \n",
       "\n",
       "          AG_50_1   AH_50_1   AI_50_1  ...   VL_90_3   VK_90_3   VM_90_3  \\\n",
       "Uniprot                                ...                                 \n",
       "P69801   0.513043  0.134783  0.408696  ...  0.496933  0.487730  0.503067   \n",
       "Q9SFG0   0.545244  0.227378  0.317865  ...  0.434307  0.381387  0.421533   \n",
       "Q08986   0.529545  0.265909  0.415909  ...  0.425047  0.345351  0.402277   \n",
       "Q9BRV3   0.565657  0.511785  0.612795  ...  0.484375  0.403125  0.471875   \n",
       "Q84WN3   0.526012  0.479769  0.543353  ...  0.383260  0.264317  0.374449   \n",
       "...           ...       ...       ...  ...       ...       ...       ...   \n",
       "Q9FHH5   0.314516  0.209677  0.266129  ...  0.339130  0.295652  0.304348   \n",
       "Q8S8A0   0.381356  0.262712  0.322034  ...  0.500000  0.532787  0.508197   \n",
       "Q3E965   0.401709  0.290598  0.324786  ...  0.505155  0.556701  0.525773   \n",
       "Q3EAV6   0.374101  0.302158  0.338129  ...  0.444444  0.444444  0.487179   \n",
       "Q3E8L0   0.413333  0.133333  0.240000  ...  0.430556  0.402778  0.361111   \n",
       "\n",
       "          VF_90_3   VP_90_3   VS_90_3   VT_90_3   VW_90_3   VY_90_3   VV_90_3  \n",
       "Uniprot                                                                        \n",
       "P69801   0.558282  0.450920  0.472393  0.475460  0.490798  0.592025  0.481595  \n",
       "Q9SFG0   0.578467  0.357664  0.390511  0.392336  0.512774  0.656934  0.417883  \n",
       "Q08986   0.584440  0.282732  0.351044  0.351044  0.605313  0.759013  0.387097  \n",
       "Q9BRV3   0.706250  0.368750  0.443750  0.440625  0.568750  0.856250  0.478125  \n",
       "Q84WN3   0.726872  0.215859  0.286344  0.312775  0.493392  0.982379  0.352423  \n",
       "...           ...       ...       ...       ...       ...       ...       ...  \n",
       "Q9FHH5   0.634783  0.373913  0.365217  0.339130  0.513043  0.747826  0.278261  \n",
       "Q8S8A0   0.598361  0.483607  0.516393  0.516393  0.557377  0.704918  0.500000  \n",
       "Q3E965   0.608247  0.505155  0.536082  0.515464  0.587629  0.742268  0.484536  \n",
       "Q3EAV6   0.538462  0.435897  0.487179  0.461538  0.538462  0.606838  0.461538  \n",
       "Q3E8L0   0.486111  0.375000  0.458333  0.430556  0.583333  0.555556  0.375000  \n",
       "\n",
       "[362 rows x 1600 columns]"
      ]
     },
     "execution_count": 4,
     "metadata": {},
     "output_type": "execute_result"
    }
   ],
   "source": [
    "df_pssm = calculate_pssms_notebook(df.sequence)\n",
    "df_pssm"
   ]
  },
  {
   "cell_type": "markdown",
   "metadata": {},
   "source": [
    "## Independent test set"
   ]
  },
  {
   "cell_type": "code",
   "execution_count": 5,
   "metadata": {
    "execution": {
     "iopub.execute_input": "2022-07-26T15:45:02.843123Z",
     "iopub.status.busy": "2022-07-26T15:45:02.842835Z",
     "iopub.status.idle": "2022-07-26T15:45:02.860439Z",
     "shell.execute_reply": "2022-07-26T15:45:02.859677Z"
    }
   },
   "outputs": [],
   "source": [
    "X, y, feature_names, sample_names = preprocess_pandas(\n",
    "    df_pssm, labels, return_names=True\n",
    ")\n",
    "(\n",
    "    X_train,\n",
    "    X_test,\n",
    "    y_train,\n",
    "    y_test,\n",
    "    sample_names_train,\n",
    "    sample_names_test,\n",
    ") = get_independent_test_set(X, y, sample_names=sample_names, test_size=0.2)\n",
    "\n"
   ]
  },
  {
   "cell_type": "markdown",
   "metadata": {},
   "source": [
    "## Model comparison\n",
    "\n",
    "PSSM seems to work better than the sequence-based features. SVC looks the most promising."
   ]
  },
  {
   "cell_type": "code",
   "execution_count": 6,
   "metadata": {
    "execution": {
     "iopub.execute_input": "2022-07-26T15:45:02.863932Z",
     "iopub.status.busy": "2022-07-26T15:45:02.863735Z",
     "iopub.status.idle": "2022-07-26T15:45:08.996504Z",
     "shell.execute_reply": "2022-07-26T15:45:08.996088Z"
    }
   },
   "outputs": [
    {
     "data": {
      "text/html": [
       "<div>\n",
       "<style scoped>\n",
       "    .dataframe tbody tr th:only-of-type {\n",
       "        vertical-align: middle;\n",
       "    }\n",
       "\n",
       "    .dataframe tbody tr th {\n",
       "        vertical-align: top;\n",
       "    }\n",
       "\n",
       "    .dataframe thead th {\n",
       "        text-align: right;\n",
       "    }\n",
       "</style>\n",
       "<table border=\"1\" class=\"dataframe\">\n",
       "  <thead>\n",
       "    <tr style=\"text-align: right;\">\n",
       "      <th></th>\n",
       "      <th>0</th>\n",
       "      <th>1</th>\n",
       "      <th>2</th>\n",
       "      <th>3</th>\n",
       "      <th>4</th>\n",
       "      <th>mean</th>\n",
       "      <th>std</th>\n",
       "    </tr>\n",
       "    <tr>\n",
       "      <th>est</th>\n",
       "      <th></th>\n",
       "      <th></th>\n",
       "      <th></th>\n",
       "      <th></th>\n",
       "      <th></th>\n",
       "      <th></th>\n",
       "      <th></th>\n",
       "    </tr>\n",
       "  </thead>\n",
       "  <tbody>\n",
       "    <tr>\n",
       "      <th>GaussianNB()</th>\n",
       "      <td>0.619</td>\n",
       "      <td>0.651</td>\n",
       "      <td>0.635</td>\n",
       "      <td>0.523</td>\n",
       "      <td>0.613</td>\n",
       "      <td>0.608</td>\n",
       "      <td>0.050</td>\n",
       "    </tr>\n",
       "    <tr>\n",
       "      <th>KNeighborsClassifier()</th>\n",
       "      <td>0.791</td>\n",
       "      <td>0.844</td>\n",
       "      <td>0.828</td>\n",
       "      <td>0.792</td>\n",
       "      <td>0.806</td>\n",
       "      <td>0.812</td>\n",
       "      <td>0.023</td>\n",
       "    </tr>\n",
       "    <tr>\n",
       "      <th>LinearSVC(class_weight='balanced', max_iter=1000000.0, random_state=0)</th>\n",
       "      <td>0.879</td>\n",
       "      <td>0.896</td>\n",
       "      <td>0.861</td>\n",
       "      <td>0.879</td>\n",
       "      <td>0.807</td>\n",
       "      <td>0.865</td>\n",
       "      <td>0.035</td>\n",
       "    </tr>\n",
       "    <tr>\n",
       "      <th>LinearSVC(max_iter=1000000.0, random_state=0)</th>\n",
       "      <td>0.879</td>\n",
       "      <td>0.896</td>\n",
       "      <td>0.861</td>\n",
       "      <td>0.879</td>\n",
       "      <td>0.807</td>\n",
       "      <td>0.865</td>\n",
       "      <td>0.035</td>\n",
       "    </tr>\n",
       "    <tr>\n",
       "      <th>RandomForestClassifier(class_weight='balanced', random_state=0)</th>\n",
       "      <td>0.879</td>\n",
       "      <td>0.826</td>\n",
       "      <td>0.844</td>\n",
       "      <td>0.844</td>\n",
       "      <td>0.860</td>\n",
       "      <td>0.851</td>\n",
       "      <td>0.020</td>\n",
       "    </tr>\n",
       "    <tr>\n",
       "      <th>RandomForestClassifier(random_state=0)</th>\n",
       "      <td>0.862</td>\n",
       "      <td>0.789</td>\n",
       "      <td>0.879</td>\n",
       "      <td>0.759</td>\n",
       "      <td>0.877</td>\n",
       "      <td>0.833</td>\n",
       "      <td>0.056</td>\n",
       "    </tr>\n",
       "    <tr>\n",
       "      <th>SGDClassifier(random_state=0)</th>\n",
       "      <td>0.844</td>\n",
       "      <td>0.896</td>\n",
       "      <td>0.914</td>\n",
       "      <td>0.862</td>\n",
       "      <td>0.824</td>\n",
       "      <td>0.868</td>\n",
       "      <td>0.037</td>\n",
       "    </tr>\n",
       "    <tr>\n",
       "      <th>SVC(class_weight='balanced', random_state=0)</th>\n",
       "      <td>0.862</td>\n",
       "      <td>0.914</td>\n",
       "      <td>0.931</td>\n",
       "      <td>0.861</td>\n",
       "      <td>0.930</td>\n",
       "      <td>0.899</td>\n",
       "      <td>0.035</td>\n",
       "    </tr>\n",
       "    <tr>\n",
       "      <th>SVC(random_state=0)</th>\n",
       "      <td>0.862</td>\n",
       "      <td>0.896</td>\n",
       "      <td>0.931</td>\n",
       "      <td>0.861</td>\n",
       "      <td>0.930</td>\n",
       "      <td>0.896</td>\n",
       "      <td>0.035</td>\n",
       "    </tr>\n",
       "  </tbody>\n",
       "</table>\n",
       "</div>"
      ],
      "text/plain": [
       "                                                        0      1      2  \\\n",
       "est                                                                       \n",
       "GaussianNB()                                        0.619  0.651  0.635   \n",
       "KNeighborsClassifier()                              0.791  0.844  0.828   \n",
       "LinearSVC(class_weight='balanced', max_iter=100...  0.879  0.896  0.861   \n",
       "LinearSVC(max_iter=1000000.0, random_state=0)       0.879  0.896  0.861   \n",
       "RandomForestClassifier(class_weight='balanced',...  0.879  0.826  0.844   \n",
       "RandomForestClassifier(random_state=0)              0.862  0.789  0.879   \n",
       "SGDClassifier(random_state=0)                       0.844  0.896  0.914   \n",
       "SVC(class_weight='balanced', random_state=0)        0.862  0.914  0.931   \n",
       "SVC(random_state=0)                                 0.862  0.896  0.931   \n",
       "\n",
       "                                                        3      4   mean    std  \n",
       "est                                                                             \n",
       "GaussianNB()                                        0.523  0.613  0.608  0.050  \n",
       "KNeighborsClassifier()                              0.792  0.806  0.812  0.023  \n",
       "LinearSVC(class_weight='balanced', max_iter=100...  0.879  0.807  0.865  0.035  \n",
       "LinearSVC(max_iter=1000000.0, random_state=0)       0.879  0.807  0.865  0.035  \n",
       "RandomForestClassifier(class_weight='balanced',...  0.844  0.860  0.851  0.020  \n",
       "RandomForestClassifier(random_state=0)              0.759  0.877  0.833  0.056  \n",
       "SGDClassifier(random_state=0)                       0.862  0.824  0.868  0.037  \n",
       "SVC(class_weight='balanced', random_state=0)        0.861  0.930  0.899  0.035  \n",
       "SVC(random_state=0)                                 0.861  0.930  0.896  0.035  "
      ]
     },
     "execution_count": 6,
     "metadata": {},
     "output_type": "execute_result"
    }
   ],
   "source": [
    "models_quick_compare(X_train, y_train)"
   ]
  },
  {
   "cell_type": "markdown",
   "metadata": {},
   "source": [
    "## Parameter tuning"
   ]
  },
  {
   "cell_type": "markdown",
   "metadata": {},
   "source": [
    "#### Custom transformer\n",
    "\n",
    "Here, we try the multi-pssm feature, which tries all combinations of feature generation parameters, and selects the best ones based on the training set. First without the transformer:"
   ]
  },
  {
   "cell_type": "code",
   "execution_count": 7,
   "metadata": {
    "execution": {
     "iopub.execute_input": "2022-07-26T15:45:09.002648Z",
     "iopub.status.busy": "2022-07-26T15:45:09.002408Z",
     "iopub.status.idle": "2022-07-26T15:45:15.731151Z",
     "shell.execute_reply": "2022-07-26T15:45:15.730582Z"
    }
   },
   "outputs": [
    {
     "name": "stdout",
     "output_type": "stream",
     "text": [
      "{'linearsvc__C': 10, 'linearsvc__class_weight': 'balanced', 'linearsvc__dual': False, 'linearsvc__max_iter': 100000000.0}\n",
      "0.875\n"
     ]
    }
   ],
   "source": [
    "gsearch = optimize_hyperparams(\n",
    "    X_train,\n",
    "    y_train,\n",
    "    kernel=\"linear\",\n",
    "    dim_reduction=None,\n",
    "    C=[0.01, 0.1, 1, 10],\n",
    ")"
   ]
  },
  {
   "cell_type": "markdown",
   "metadata": {},
   "source": [
    "The pssmselector increases the scores a bit:"
   ]
  },
  {
   "cell_type": "code",
   "execution_count": 8,
   "metadata": {
    "execution": {
     "iopub.execute_input": "2022-07-26T15:45:15.737651Z",
     "iopub.status.busy": "2022-07-26T15:45:15.737033Z",
     "iopub.status.idle": "2022-07-26T15:45:23.637425Z",
     "shell.execute_reply": "2022-07-26T15:45:23.637030Z"
    }
   },
   "outputs": [
    {
     "name": "stdout",
     "output_type": "stream",
     "text": [
      "{'linearsvc__C': 0.01, 'linearsvc__class_weight': 'balanced', 'linearsvc__dual': True, 'linearsvc__max_iter': 100000000.0, 'pssmselector__iterations': 'all', 'pssmselector__uniref_threshold': 50}\n",
      "0.889\n"
     ]
    }
   ],
   "source": [
    "gsearch = optimize_hyperparams(\n",
    "    X_train,\n",
    "    y_train,\n",
    "    kernel=\"linear\",\n",
    "    dim_reduction=None,\n",
    "    feature_transformer=\"pssm\", \n",
    "    feature_names = feature_names,\n",
    "    C=[0.001, 0.01, 0.1, 1]\n",
    ")"
   ]
  },
  {
   "cell_type": "markdown",
   "metadata": {},
   "source": [
    "The RBF kernel improves the results further:"
   ]
  },
  {
   "cell_type": "code",
   "execution_count": 9,
   "metadata": {
    "execution": {
     "iopub.execute_input": "2022-07-26T15:45:23.642963Z",
     "iopub.status.busy": "2022-07-26T15:45:23.642706Z",
     "iopub.status.idle": "2022-07-26T15:45:26.651549Z",
     "shell.execute_reply": "2022-07-26T15:45:26.651158Z"
    }
   },
   "outputs": [
    {
     "name": "stdout",
     "output_type": "stream",
     "text": [
      "{'svc__C': 10, 'svc__class_weight': 'balanced', 'svc__gamma': 'scale'}\n",
      "0.924\n"
     ]
    }
   ],
   "source": [
    "gsearch = optimize_hyperparams(\n",
    "    X_train,\n",
    "    y_train,\n",
    "    kernel=\"rbf\",\n",
    "    dim_reduction=None,\n",
    "    C=[0.1, 1, 10, 100],\n",
    ")"
   ]
  },
  {
   "cell_type": "markdown",
   "metadata": {},
   "source": [
    "Here, the pssmselector chooses to select all pssms, leading to the same model: "
   ]
  },
  {
   "cell_type": "code",
   "execution_count": 10,
   "metadata": {
    "execution": {
     "iopub.execute_input": "2022-07-26T15:45:26.657211Z",
     "iopub.status.busy": "2022-07-26T15:45:26.656870Z",
     "iopub.status.idle": "2022-07-26T15:45:34.157556Z",
     "shell.execute_reply": "2022-07-26T15:45:34.157051Z"
    }
   },
   "outputs": [
    {
     "name": "stdout",
     "output_type": "stream",
     "text": [
      "{'pssmselector__iterations': 'all', 'pssmselector__uniref_threshold': 'all', 'svc__C': 10, 'svc__class_weight': 'balanced', 'svc__gamma': 'scale'}\n",
      "0.924\n"
     ]
    }
   ],
   "source": [
    "gsearch = optimize_hyperparams(\n",
    "    X_train,\n",
    "    y_train,\n",
    "    kernel=\"rbf\",\n",
    "    dim_reduction=None,\n",
    "    C=[0.1, 1, 10, 100],\n",
    "    feature_transformer=\"pssm\",\n",
    "    feature_names=feature_names,\n",
    ")\n",
    "best_estimator_rbf = gsearch"
   ]
  },
  {
   "cell_type": "markdown",
   "metadata": {},
   "source": [
    "RBF is the best one so far."
   ]
  },
  {
   "cell_type": "markdown",
   "metadata": {},
   "source": [
    "## Dimensionality reduction"
   ]
  },
  {
   "cell_type": "code",
   "execution_count": 11,
   "metadata": {
    "execution": {
     "iopub.execute_input": "2022-07-26T15:45:34.162010Z",
     "iopub.status.busy": "2022-07-26T15:45:34.161808Z",
     "iopub.status.idle": "2022-07-26T15:45:41.897997Z",
     "shell.execute_reply": "2022-07-26T15:45:41.896967Z"
    }
   },
   "outputs": [
    {
     "name": "stdout",
     "output_type": "stream",
     "text": [
      "{'linearsvc__C': 0.1, 'linearsvc__class_weight': None, 'linearsvc__dual': True, 'linearsvc__max_iter': 100000000.0, 'pca__n_components': 0.95}\n",
      "0.885\n"
     ]
    }
   ],
   "source": [
    "gsearch = optimize_hyperparams(\n",
    "    X_train,\n",
    "    y_train,\n",
    "    kernel=\"linear\",\n",
    "    dim_reduction=\"pca\",\n",
    ")"
   ]
  },
  {
   "cell_type": "code",
   "execution_count": 12,
   "metadata": {
    "execution": {
     "iopub.execute_input": "2022-07-26T15:45:41.903537Z",
     "iopub.status.busy": "2022-07-26T15:45:41.902979Z",
     "iopub.status.idle": "2022-07-26T15:46:33.088207Z",
     "shell.execute_reply": "2022-07-26T15:46:33.087002Z"
    }
   },
   "outputs": [
    {
     "name": "stdout",
     "output_type": "stream",
     "text": [
      "{'linearsvc__C': 0.01, 'linearsvc__class_weight': 'balanced', 'linearsvc__dual': True, 'linearsvc__max_iter': 100000000.0, 'pca__n_components': 0.96, 'pssmselector__iterations': 'all', 'pssmselector__uniref_threshold': 50}\n",
      "0.91\n"
     ]
    }
   ],
   "source": [
    "gsearch = optimize_hyperparams(\n",
    "    X_train,\n",
    "    y_train,\n",
    "    kernel=\"linear\",\n",
    "    dim_reduction=\"pca\",\n",
    "    C=[10, 1, 0.1, 0.01],\n",
    "    feature_transformer=\"pssm\",\n",
    "    feature_names=feature_names,\n",
    ")\n",
    "best_estimator_linearsvc_pca = gsearch"
   ]
  },
  {
   "cell_type": "code",
   "execution_count": 13,
   "metadata": {
    "execution": {
     "iopub.execute_input": "2022-07-26T15:46:33.094019Z",
     "iopub.status.busy": "2022-07-26T15:46:33.093640Z",
     "iopub.status.idle": "2022-07-26T15:46:52.655476Z",
     "shell.execute_reply": "2022-07-26T15:46:52.654124Z"
    }
   },
   "outputs": [
    {
     "name": "stdout",
     "output_type": "stream",
     "text": [
      "{'pca__n_components': 0.96, 'svc__C': 10, 'svc__class_weight': 'balanced', 'svc__gamma': 'scale'}\n",
      "0.927\n"
     ]
    }
   ],
   "source": [
    "gsearch = optimize_hyperparams(\n",
    "    X_train,\n",
    "    y_train,\n",
    "    kernel=\"rbf\",\n",
    "    dim_reduction=\"pca\",\n",
    "    C=[0.1, 1, 10, 100],\n",
    "    # gamma=[\"scale\"],\n",
    ")"
   ]
  },
  {
   "cell_type": "markdown",
   "metadata": {},
   "source": [
    "That already looks good, now with the PSSMSelector:"
   ]
  },
  {
   "cell_type": "code",
   "execution_count": 14,
   "metadata": {
    "execution": {
     "iopub.execute_input": "2022-07-26T15:46:52.660993Z",
     "iopub.status.busy": "2022-07-26T15:46:52.660398Z",
     "iopub.status.idle": "2022-07-26T15:47:58.164059Z",
     "shell.execute_reply": "2022-07-26T15:47:58.162611Z"
    }
   },
   "outputs": [
    {
     "name": "stdout",
     "output_type": "stream",
     "text": [
      "{'pca__n_components': 0.96, 'pssmselector__iterations': 'all', 'pssmselector__uniref_threshold': 50, 'svc__C': 1, 'svc__class_weight': None, 'svc__gamma': 'scale'}\n",
      "0.934\n"
     ]
    }
   ],
   "source": [
    "gsearch = optimize_hyperparams(\n",
    "    X_train,\n",
    "    y_train,\n",
    "    kernel=\"rbf\",\n",
    "    dim_reduction=\"pca\",\n",
    "    feature_transformer=\"pssm\",\n",
    "    feature_names=feature_names,\n",
    "    # C=[1, 0.1, 10],\n",
    "    # gamma=[\"scale\"],\n",
    ")\n",
    "best_estimator_svc_pca = gsearch"
   ]
  },
  {
   "cell_type": "markdown",
   "metadata": {},
   "source": [
    "A good score with default parameters, and 99% of the variance. "
   ]
  },
  {
   "cell_type": "markdown",
   "metadata": {},
   "source": [
    "## Validation\n"
   ]
  },
  {
   "cell_type": "markdown",
   "metadata": {},
   "source": [
    "### RBF kernel without feature selection\n",
    "\n",
    "Without lowering dimensions, we get worse performance for Sugar:"
   ]
  },
  {
   "cell_type": "code",
   "execution_count": 15,
   "metadata": {
    "execution": {
     "iopub.execute_input": "2022-07-26T15:47:58.170226Z",
     "iopub.status.busy": "2022-07-26T15:47:58.169654Z",
     "iopub.status.idle": "2022-07-26T15:47:58.238237Z",
     "shell.execute_reply": "2022-07-26T15:47:58.237551Z"
    }
   },
   "outputs": [
    {
     "data": {
      "text/html": [
       "<div>\n",
       "<style scoped>\n",
       "    .dataframe tbody tr th:only-of-type {\n",
       "        vertical-align: middle;\n",
       "    }\n",
       "\n",
       "    .dataframe tbody tr th {\n",
       "        vertical-align: top;\n",
       "    }\n",
       "\n",
       "    .dataframe thead th {\n",
       "        text-align: right;\n",
       "    }\n",
       "</style>\n",
       "<table border=\"1\" class=\"dataframe\">\n",
       "  <thead>\n",
       "    <tr style=\"text-align: right;\">\n",
       "      <th>predicted</th>\n",
       "      <th>Amino-acid transport</th>\n",
       "      <th>Sugar transport</th>\n",
       "    </tr>\n",
       "    <tr>\n",
       "      <th>observed</th>\n",
       "      <th></th>\n",
       "      <th></th>\n",
       "    </tr>\n",
       "  </thead>\n",
       "  <tbody>\n",
       "    <tr>\n",
       "      <th>Amino-acid transport</th>\n",
       "      <td>33</td>\n",
       "      <td>2</td>\n",
       "    </tr>\n",
       "    <tr>\n",
       "      <th>Sugar transport</th>\n",
       "      <td>11</td>\n",
       "      <td>27</td>\n",
       "    </tr>\n",
       "  </tbody>\n",
       "</table>\n",
       "</div>"
      ],
      "text/plain": [
       "predicted             Amino-acid transport  Sugar transport\n",
       "observed                                                   \n",
       "Amino-acid transport                    33                2\n",
       "Sugar transport                         11               27"
      ]
     },
     "execution_count": 15,
     "metadata": {},
     "output_type": "execute_result"
    }
   ],
   "source": [
    "get_confusion_matrix(X_test, y_test, best_estimator_rbf, labels=labels)"
   ]
  },
  {
   "cell_type": "code",
   "execution_count": 16,
   "metadata": {
    "execution": {
     "iopub.execute_input": "2022-07-26T15:47:58.242418Z",
     "iopub.status.busy": "2022-07-26T15:47:58.241994Z",
     "iopub.status.idle": "2022-07-26T15:47:58.278103Z",
     "shell.execute_reply": "2022-07-26T15:47:58.277778Z"
    }
   },
   "outputs": [
    {
     "data": {
      "text/html": [
       "<div>\n",
       "<style scoped>\n",
       "    .dataframe tbody tr th:only-of-type {\n",
       "        vertical-align: middle;\n",
       "    }\n",
       "\n",
       "    .dataframe tbody tr th {\n",
       "        vertical-align: top;\n",
       "    }\n",
       "\n",
       "    .dataframe thead th {\n",
       "        text-align: right;\n",
       "    }\n",
       "</style>\n",
       "<table border=\"1\" class=\"dataframe\">\n",
       "  <thead>\n",
       "    <tr style=\"text-align: right;\">\n",
       "      <th></th>\n",
       "      <th>precision</th>\n",
       "      <th>recall</th>\n",
       "      <th>f1-score</th>\n",
       "      <th>support</th>\n",
       "    </tr>\n",
       "  </thead>\n",
       "  <tbody>\n",
       "    <tr>\n",
       "      <th>Amino-acid transport</th>\n",
       "      <td>0.750</td>\n",
       "      <td>0.943</td>\n",
       "      <td>0.835</td>\n",
       "      <td>35</td>\n",
       "    </tr>\n",
       "    <tr>\n",
       "      <th>Sugar transport</th>\n",
       "      <td>0.931</td>\n",
       "      <td>0.711</td>\n",
       "      <td>0.806</td>\n",
       "      <td>38</td>\n",
       "    </tr>\n",
       "    <tr>\n",
       "      <th>macro avg</th>\n",
       "      <td>0.841</td>\n",
       "      <td>0.827</td>\n",
       "      <td>0.821</td>\n",
       "      <td>73</td>\n",
       "    </tr>\n",
       "    <tr>\n",
       "      <th>weighted avg</th>\n",
       "      <td>0.844</td>\n",
       "      <td>0.822</td>\n",
       "      <td>0.820</td>\n",
       "      <td>73</td>\n",
       "    </tr>\n",
       "  </tbody>\n",
       "</table>\n",
       "</div>"
      ],
      "text/plain": [
       "                      precision  recall  f1-score  support\n",
       "Amino-acid transport      0.750   0.943     0.835       35\n",
       "Sugar transport           0.931   0.711     0.806       38\n",
       "macro avg                 0.841   0.827     0.821       73\n",
       "weighted avg              0.844   0.822     0.820       73"
      ]
     },
     "execution_count": 16,
     "metadata": {},
     "output_type": "execute_result"
    }
   ],
   "source": [
    "get_classification_report(X_test, y_test, best_estimator_rbf, labels=labels)"
   ]
  },
  {
   "cell_type": "markdown",
   "metadata": {},
   "source": [
    "### Linear kernel with PCA\n",
    "\n",
    "Improves the results for sugar transporters."
   ]
  },
  {
   "cell_type": "code",
   "execution_count": 17,
   "metadata": {
    "execution": {
     "iopub.execute_input": "2022-07-26T15:47:58.282019Z",
     "iopub.status.busy": "2022-07-26T15:47:58.281862Z",
     "iopub.status.idle": "2022-07-26T15:47:58.290470Z",
     "shell.execute_reply": "2022-07-26T15:47:58.290094Z"
    }
   },
   "outputs": [
    {
     "data": {
      "text/html": [
       "<div>\n",
       "<style scoped>\n",
       "    .dataframe tbody tr th:only-of-type {\n",
       "        vertical-align: middle;\n",
       "    }\n",
       "\n",
       "    .dataframe tbody tr th {\n",
       "        vertical-align: top;\n",
       "    }\n",
       "\n",
       "    .dataframe thead th {\n",
       "        text-align: right;\n",
       "    }\n",
       "</style>\n",
       "<table border=\"1\" class=\"dataframe\">\n",
       "  <thead>\n",
       "    <tr style=\"text-align: right;\">\n",
       "      <th>predicted</th>\n",
       "      <th>Amino-acid transport</th>\n",
       "      <th>Sugar transport</th>\n",
       "    </tr>\n",
       "    <tr>\n",
       "      <th>observed</th>\n",
       "      <th></th>\n",
       "      <th></th>\n",
       "    </tr>\n",
       "  </thead>\n",
       "  <tbody>\n",
       "    <tr>\n",
       "      <th>Amino-acid transport</th>\n",
       "      <td>33</td>\n",
       "      <td>2</td>\n",
       "    </tr>\n",
       "    <tr>\n",
       "      <th>Sugar transport</th>\n",
       "      <td>5</td>\n",
       "      <td>33</td>\n",
       "    </tr>\n",
       "  </tbody>\n",
       "</table>\n",
       "</div>"
      ],
      "text/plain": [
       "predicted             Amino-acid transport  Sugar transport\n",
       "observed                                                   \n",
       "Amino-acid transport                    33                2\n",
       "Sugar transport                          5               33"
      ]
     },
     "execution_count": 17,
     "metadata": {},
     "output_type": "execute_result"
    }
   ],
   "source": [
    "get_confusion_matrix(X_test, y_test, best_estimator_linearsvc_pca, labels=labels)"
   ]
  },
  {
   "cell_type": "code",
   "execution_count": 18,
   "metadata": {
    "execution": {
     "iopub.execute_input": "2022-07-26T15:47:58.294052Z",
     "iopub.status.busy": "2022-07-26T15:47:58.293875Z",
     "iopub.status.idle": "2022-07-26T15:47:58.310145Z",
     "shell.execute_reply": "2022-07-26T15:47:58.309734Z"
    }
   },
   "outputs": [
    {
     "data": {
      "text/html": [
       "<div>\n",
       "<style scoped>\n",
       "    .dataframe tbody tr th:only-of-type {\n",
       "        vertical-align: middle;\n",
       "    }\n",
       "\n",
       "    .dataframe tbody tr th {\n",
       "        vertical-align: top;\n",
       "    }\n",
       "\n",
       "    .dataframe thead th {\n",
       "        text-align: right;\n",
       "    }\n",
       "</style>\n",
       "<table border=\"1\" class=\"dataframe\">\n",
       "  <thead>\n",
       "    <tr style=\"text-align: right;\">\n",
       "      <th></th>\n",
       "      <th>precision</th>\n",
       "      <th>recall</th>\n",
       "      <th>f1-score</th>\n",
       "      <th>support</th>\n",
       "    </tr>\n",
       "  </thead>\n",
       "  <tbody>\n",
       "    <tr>\n",
       "      <th>Amino-acid transport</th>\n",
       "      <td>0.868</td>\n",
       "      <td>0.943</td>\n",
       "      <td>0.904</td>\n",
       "      <td>35</td>\n",
       "    </tr>\n",
       "    <tr>\n",
       "      <th>Sugar transport</th>\n",
       "      <td>0.943</td>\n",
       "      <td>0.868</td>\n",
       "      <td>0.904</td>\n",
       "      <td>38</td>\n",
       "    </tr>\n",
       "    <tr>\n",
       "      <th>macro avg</th>\n",
       "      <td>0.906</td>\n",
       "      <td>0.906</td>\n",
       "      <td>0.904</td>\n",
       "      <td>73</td>\n",
       "    </tr>\n",
       "    <tr>\n",
       "      <th>weighted avg</th>\n",
       "      <td>0.907</td>\n",
       "      <td>0.904</td>\n",
       "      <td>0.904</td>\n",
       "      <td>73</td>\n",
       "    </tr>\n",
       "  </tbody>\n",
       "</table>\n",
       "</div>"
      ],
      "text/plain": [
       "                      precision  recall  f1-score  support\n",
       "Amino-acid transport      0.868   0.943     0.904       35\n",
       "Sugar transport           0.943   0.868     0.904       38\n",
       "macro avg                 0.906   0.906     0.904       73\n",
       "weighted avg              0.907   0.904     0.904       73"
      ]
     },
     "execution_count": 18,
     "metadata": {},
     "output_type": "execute_result"
    }
   ],
   "source": [
    "get_classification_report(X_test, y_test, best_estimator_linearsvc_pca, labels=labels)"
   ]
  },
  {
   "cell_type": "markdown",
   "metadata": {},
   "source": [
    "### RBF + PCA\n",
    "\n",
    "RBF kernel and pca leads to the best model.\n"
   ]
  },
  {
   "cell_type": "code",
   "execution_count": 19,
   "metadata": {
    "execution": {
     "iopub.execute_input": "2022-07-26T15:47:58.313740Z",
     "iopub.status.busy": "2022-07-26T15:47:58.313545Z",
     "iopub.status.idle": "2022-07-26T15:47:58.323649Z",
     "shell.execute_reply": "2022-07-26T15:47:58.323277Z"
    }
   },
   "outputs": [
    {
     "data": {
      "text/html": [
       "<div>\n",
       "<style scoped>\n",
       "    .dataframe tbody tr th:only-of-type {\n",
       "        vertical-align: middle;\n",
       "    }\n",
       "\n",
       "    .dataframe tbody tr th {\n",
       "        vertical-align: top;\n",
       "    }\n",
       "\n",
       "    .dataframe thead th {\n",
       "        text-align: right;\n",
       "    }\n",
       "</style>\n",
       "<table border=\"1\" class=\"dataframe\">\n",
       "  <thead>\n",
       "    <tr style=\"text-align: right;\">\n",
       "      <th>predicted</th>\n",
       "      <th>Amino-acid transport</th>\n",
       "      <th>Sugar transport</th>\n",
       "    </tr>\n",
       "    <tr>\n",
       "      <th>observed</th>\n",
       "      <th></th>\n",
       "      <th></th>\n",
       "    </tr>\n",
       "  </thead>\n",
       "  <tbody>\n",
       "    <tr>\n",
       "      <th>Amino-acid transport</th>\n",
       "      <td>33</td>\n",
       "      <td>2</td>\n",
       "    </tr>\n",
       "    <tr>\n",
       "      <th>Sugar transport</th>\n",
       "      <td>4</td>\n",
       "      <td>34</td>\n",
       "    </tr>\n",
       "  </tbody>\n",
       "</table>\n",
       "</div>"
      ],
      "text/plain": [
       "predicted             Amino-acid transport  Sugar transport\n",
       "observed                                                   \n",
       "Amino-acid transport                    33                2\n",
       "Sugar transport                          4               34"
      ]
     },
     "execution_count": 19,
     "metadata": {},
     "output_type": "execute_result"
    }
   ],
   "source": [
    "get_confusion_matrix(X_test, y_test, best_estimator_svc_pca, labels=labels)"
   ]
  },
  {
   "cell_type": "code",
   "execution_count": 20,
   "metadata": {
    "execution": {
     "iopub.execute_input": "2022-07-26T15:47:58.327210Z",
     "iopub.status.busy": "2022-07-26T15:47:58.327015Z",
     "iopub.status.idle": "2022-07-26T15:47:58.346277Z",
     "shell.execute_reply": "2022-07-26T15:47:58.345699Z"
    }
   },
   "outputs": [
    {
     "data": {
      "text/html": [
       "<div>\n",
       "<style scoped>\n",
       "    .dataframe tbody tr th:only-of-type {\n",
       "        vertical-align: middle;\n",
       "    }\n",
       "\n",
       "    .dataframe tbody tr th {\n",
       "        vertical-align: top;\n",
       "    }\n",
       "\n",
       "    .dataframe thead th {\n",
       "        text-align: right;\n",
       "    }\n",
       "</style>\n",
       "<table border=\"1\" class=\"dataframe\">\n",
       "  <thead>\n",
       "    <tr style=\"text-align: right;\">\n",
       "      <th></th>\n",
       "      <th>precision</th>\n",
       "      <th>recall</th>\n",
       "      <th>f1-score</th>\n",
       "      <th>support</th>\n",
       "    </tr>\n",
       "  </thead>\n",
       "  <tbody>\n",
       "    <tr>\n",
       "      <th>Amino-acid transport</th>\n",
       "      <td>0.892</td>\n",
       "      <td>0.943</td>\n",
       "      <td>0.917</td>\n",
       "      <td>35</td>\n",
       "    </tr>\n",
       "    <tr>\n",
       "      <th>Sugar transport</th>\n",
       "      <td>0.944</td>\n",
       "      <td>0.895</td>\n",
       "      <td>0.919</td>\n",
       "      <td>38</td>\n",
       "    </tr>\n",
       "    <tr>\n",
       "      <th>macro avg</th>\n",
       "      <td>0.918</td>\n",
       "      <td>0.919</td>\n",
       "      <td>0.918</td>\n",
       "      <td>73</td>\n",
       "    </tr>\n",
       "    <tr>\n",
       "      <th>weighted avg</th>\n",
       "      <td>0.919</td>\n",
       "      <td>0.918</td>\n",
       "      <td>0.918</td>\n",
       "      <td>73</td>\n",
       "    </tr>\n",
       "  </tbody>\n",
       "</table>\n",
       "</div>"
      ],
      "text/plain": [
       "                      precision  recall  f1-score  support\n",
       "Amino-acid transport      0.892   0.943     0.917       35\n",
       "Sugar transport           0.944   0.895     0.919       38\n",
       "macro avg                 0.918   0.919     0.918       73\n",
       "weighted avg              0.919   0.918     0.918       73"
      ]
     },
     "execution_count": 20,
     "metadata": {},
     "output_type": "execute_result"
    }
   ],
   "source": [
    "get_classification_report(X_test, y_test, best_estimator_svc_pca, labels=labels)"
   ]
  },
  {
   "cell_type": "markdown",
   "metadata": {},
   "source": [
    "### Conclusion\n",
    "\n",
    "PSSM with PCA and RBF-SVC is suitable for stable multi-organism models."
   ]
  },
  {
   "cell_type": "markdown",
   "metadata": {},
   "source": [
    "## Estimating validation variance\n",
    "\n",
    "How much did the result depend on choosing the training and test sets?\n",
    "\n",
    "Mean and standard deviation for randomly selected training and validation sets."
   ]
  },
  {
   "cell_type": "markdown",
   "metadata": {},
   "source": [
    "#### RBF+PCA "
   ]
  },
  {
   "cell_type": "code",
   "execution_count": 21,
   "metadata": {
    "execution": {
     "iopub.execute_input": "2022-07-26T15:47:58.349938Z",
     "iopub.status.busy": "2022-07-26T15:47:58.349717Z",
     "iopub.status.idle": "2022-07-26T15:58:35.644690Z",
     "shell.execute_reply": "2022-07-26T15:58:35.643703Z"
    }
   },
   "outputs": [
    {
     "name": "stdout",
     "output_type": "stream",
     "text": [
      "Mean F1\n"
     ]
    },
    {
     "data": {
      "text/html": [
       "<div>\n",
       "<style scoped>\n",
       "    .dataframe tbody tr th:only-of-type {\n",
       "        vertical-align: middle;\n",
       "    }\n",
       "\n",
       "    .dataframe tbody tr th {\n",
       "        vertical-align: top;\n",
       "    }\n",
       "\n",
       "    .dataframe thead th {\n",
       "        text-align: right;\n",
       "    }\n",
       "</style>\n",
       "<table border=\"1\" class=\"dataframe\">\n",
       "  <thead>\n",
       "    <tr style=\"text-align: right;\">\n",
       "      <th>dataset</th>\n",
       "      <th>test</th>\n",
       "      <th>train</th>\n",
       "    </tr>\n",
       "    <tr>\n",
       "      <th>label</th>\n",
       "      <th></th>\n",
       "      <th></th>\n",
       "    </tr>\n",
       "  </thead>\n",
       "  <tbody>\n",
       "    <tr>\n",
       "      <th>Amino-acid transport</th>\n",
       "      <td>0.8928</td>\n",
       "      <td>0.9289</td>\n",
       "    </tr>\n",
       "    <tr>\n",
       "      <th>Sugar transport</th>\n",
       "      <td>0.9035</td>\n",
       "      <td>0.9333</td>\n",
       "    </tr>\n",
       "  </tbody>\n",
       "</table>\n",
       "</div>"
      ],
      "text/plain": [
       "dataset                 test   train\n",
       "label                               \n",
       "Amino-acid transport  0.8928  0.9289\n",
       "Sugar transport       0.9035  0.9333"
      ]
     },
     "metadata": {},
     "output_type": "display_data"
    },
    {
     "name": "stdout",
     "output_type": "stream",
     "text": [
      "Sdev F1\n"
     ]
    },
    {
     "data": {
      "text/html": [
       "<div>\n",
       "<style scoped>\n",
       "    .dataframe tbody tr th:only-of-type {\n",
       "        vertical-align: middle;\n",
       "    }\n",
       "\n",
       "    .dataframe tbody tr th {\n",
       "        vertical-align: top;\n",
       "    }\n",
       "\n",
       "    .dataframe thead th {\n",
       "        text-align: right;\n",
       "    }\n",
       "</style>\n",
       "<table border=\"1\" class=\"dataframe\">\n",
       "  <thead>\n",
       "    <tr style=\"text-align: right;\">\n",
       "      <th>dataset</th>\n",
       "      <th>test</th>\n",
       "      <th>train</th>\n",
       "    </tr>\n",
       "    <tr>\n",
       "      <th>label</th>\n",
       "      <th></th>\n",
       "      <th></th>\n",
       "    </tr>\n",
       "  </thead>\n",
       "  <tbody>\n",
       "    <tr>\n",
       "      <th>Amino-acid transport</th>\n",
       "      <td>0.037779</td>\n",
       "      <td>0.012261</td>\n",
       "    </tr>\n",
       "    <tr>\n",
       "      <th>Sugar transport</th>\n",
       "      <td>0.035259</td>\n",
       "      <td>0.010945</td>\n",
       "    </tr>\n",
       "  </tbody>\n",
       "</table>\n",
       "</div>"
      ],
      "text/plain": [
       "dataset                   test     train\n",
       "label                                   \n",
       "Amino-acid transport  0.037779  0.012261\n",
       "Sugar transport       0.035259  0.010945"
      ]
     },
     "metadata": {},
     "output_type": "display_data"
    },
    {
     "name": "stdout",
     "output_type": "stream",
     "text": [
      "Parameters\n"
     ]
    },
    {
     "data": {
      "text/html": [
       "<div>\n",
       "<style scoped>\n",
       "    .dataframe tbody tr th:only-of-type {\n",
       "        vertical-align: middle;\n",
       "    }\n",
       "\n",
       "    .dataframe tbody tr th {\n",
       "        vertical-align: top;\n",
       "    }\n",
       "\n",
       "    .dataframe thead th {\n",
       "        text-align: right;\n",
       "    }\n",
       "</style>\n",
       "<table border=\"1\" class=\"dataframe\">\n",
       "  <thead>\n",
       "    <tr style=\"text-align: right;\">\n",
       "      <th></th>\n",
       "      <th>0</th>\n",
       "      <th>1</th>\n",
       "      <th>2</th>\n",
       "      <th>3</th>\n",
       "      <th>4</th>\n",
       "      <th>5</th>\n",
       "      <th>6</th>\n",
       "      <th>7</th>\n",
       "      <th>8</th>\n",
       "      <th>9</th>\n",
       "    </tr>\n",
       "  </thead>\n",
       "  <tbody>\n",
       "    <tr>\n",
       "      <th>pca__n_components</th>\n",
       "      <td>0.89</td>\n",
       "      <td>0.99</td>\n",
       "      <td>0.97</td>\n",
       "      <td>0.96</td>\n",
       "      <td>0.98</td>\n",
       "      <td>0.97</td>\n",
       "      <td>0.99</td>\n",
       "      <td>0.89</td>\n",
       "      <td>0.96</td>\n",
       "      <td>0.97</td>\n",
       "    </tr>\n",
       "    <tr>\n",
       "      <th>pssmselector__iterations</th>\n",
       "      <td>3</td>\n",
       "      <td>all</td>\n",
       "      <td>1</td>\n",
       "      <td>1</td>\n",
       "      <td>all</td>\n",
       "      <td>all</td>\n",
       "      <td>all</td>\n",
       "      <td>3</td>\n",
       "      <td>all</td>\n",
       "      <td>1</td>\n",
       "    </tr>\n",
       "    <tr>\n",
       "      <th>pssmselector__uniref_threshold</th>\n",
       "      <td>50</td>\n",
       "      <td>50</td>\n",
       "      <td>all</td>\n",
       "      <td>all</td>\n",
       "      <td>50</td>\n",
       "      <td>all</td>\n",
       "      <td>50</td>\n",
       "      <td>50</td>\n",
       "      <td>50</td>\n",
       "      <td>50</td>\n",
       "    </tr>\n",
       "    <tr>\n",
       "      <th>svc__C</th>\n",
       "      <td>10</td>\n",
       "      <td>10</td>\n",
       "      <td>10</td>\n",
       "      <td>10</td>\n",
       "      <td>10</td>\n",
       "      <td>1</td>\n",
       "      <td>10</td>\n",
       "      <td>10</td>\n",
       "      <td>10</td>\n",
       "      <td>1</td>\n",
       "    </tr>\n",
       "    <tr>\n",
       "      <th>svc__class_weight</th>\n",
       "      <td>balanced</td>\n",
       "      <td>balanced</td>\n",
       "      <td>balanced</td>\n",
       "      <td>balanced</td>\n",
       "      <td>balanced</td>\n",
       "      <td>None</td>\n",
       "      <td>balanced</td>\n",
       "      <td>balanced</td>\n",
       "      <td>balanced</td>\n",
       "      <td>balanced</td>\n",
       "    </tr>\n",
       "    <tr>\n",
       "      <th>svc__gamma</th>\n",
       "      <td>0.1</td>\n",
       "      <td>scale</td>\n",
       "      <td>0.01</td>\n",
       "      <td>scale</td>\n",
       "      <td>scale</td>\n",
       "      <td>scale</td>\n",
       "      <td>scale</td>\n",
       "      <td>0.1</td>\n",
       "      <td>scale</td>\n",
       "      <td>0.01</td>\n",
       "    </tr>\n",
       "  </tbody>\n",
       "</table>\n",
       "</div>"
      ],
      "text/plain": [
       "                                       0         1         2         3  \\\n",
       "pca__n_components                   0.89      0.99      0.97      0.96   \n",
       "pssmselector__iterations               3       all         1         1   \n",
       "pssmselector__uniref_threshold        50        50       all       all   \n",
       "svc__C                                10        10        10        10   \n",
       "svc__class_weight               balanced  balanced  balanced  balanced   \n",
       "svc__gamma                           0.1     scale      0.01     scale   \n",
       "\n",
       "                                       4      5         6         7         8  \\\n",
       "pca__n_components                   0.98   0.97      0.99      0.89      0.96   \n",
       "pssmselector__iterations             all    all       all         3       all   \n",
       "pssmselector__uniref_threshold        50    all        50        50        50   \n",
       "svc__C                                10      1        10        10        10   \n",
       "svc__class_weight               balanced   None  balanced  balanced  balanced   \n",
       "svc__gamma                         scale  scale     scale       0.1     scale   \n",
       "\n",
       "                                       9  \n",
       "pca__n_components                   0.97  \n",
       "pssmselector__iterations               1  \n",
       "pssmselector__uniref_threshold        50  \n",
       "svc__C                                 1  \n",
       "svc__class_weight               balanced  \n",
       "svc__gamma                          0.01  "
      ]
     },
     "metadata": {},
     "output_type": "display_data"
    }
   ],
   "source": [
    "df_scores, df_params = full_test(\n",
    "    df_pssm,\n",
    "    labels,\n",
    "    dim_reduction=\"pca\",\n",
    "    kernel=\"rbf\",\n",
    "    repetitions=10,\n",
    "    feature_transformer=\"pssm\",\n",
    ")\n",
    "df_scores_gr = df_scores.groupby([\"label\", \"dataset\"], as_index=False)\n",
    "print(\"Mean F1\")\n",
    "display(df_scores_gr.mean().pivot(index=\"label\", columns=\"dataset\", values=\"F1 score\"))\n",
    "print(\"Sdev F1\")\n",
    "display(df_scores_gr.std().pivot(index=\"label\", columns=\"dataset\", values=\"F1 score\"))\n",
    "print(\"Parameters\")\n",
    "display(df_params)"
   ]
  },
  {
   "cell_type": "markdown",
   "metadata": {},
   "source": [
    "The PSSM feature leads to a good average performance across the 10 random seeds."
   ]
  }
 ],
 "metadata": {
  "kernelspec": {
   "display_name": "Python 3.9.12 ('subpred')",
   "language": "python",
   "name": "python3"
  },
  "language_info": {
   "codemirror_mode": {
    "name": "ipython",
    "version": 3
   },
   "file_extension": ".py",
   "mimetype": "text/x-python",
   "name": "python",
   "nbconvert_exporter": "python",
   "pygments_lexer": "ipython3",
   "version": "3.9.12"
  },
  "vscode": {
   "interpreter": {
    "hash": "a3c5a88a8b1fa059748e807688afdff6c3f31eb23364e67d8e1c7f5771f5e23f"
   }
  }
 },
 "nbformat": 4,
 "nbformat_minor": 2
}
