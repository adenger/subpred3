{
 "cells": [
  {
   "cell_type": "markdown",
   "metadata": {},
   "source": [
    "# AAC feature evaluation (only Eukaryotes)\n",
    "\n",
    "During the dataset evaluation, we found that E Coli transports form its own cluster in the PCA plot. How does the model perform without E Coli transporters?"
   ]
  },
  {
   "cell_type": "markdown",
   "metadata": {},
   "source": [
    "# Imports"
   ]
  },
  {
   "cell_type": "code",
   "execution_count": 1,
   "metadata": {
    "execution": {
     "iopub.execute_input": "2022-07-27T17:00:12.376102Z",
     "iopub.status.busy": "2022-07-27T17:00:12.375649Z",
     "iopub.status.idle": "2022-07-27T17:00:13.546428Z",
     "shell.execute_reply": "2022-07-27T17:00:13.546022Z"
    }
   },
   "outputs": [],
   "source": [
    "from subpred.transporter_dataset import create_dataset\n",
    "from subpred.eval import (\n",
    "    get_independent_test_set,\n",
    "    optimize_hyperparams,\n",
    "    preprocess_pandas,\n",
    "    models_quick_compare,\n",
    "    get_confusion_matrix,\n",
    "    get_classification_report,\n",
    "    full_test\n",
    ")\n",
    "from subpred.compositions import calculate_aac\n",
    "from subpred.plots import pca_plot_2d"
   ]
  },
  {
   "cell_type": "markdown",
   "metadata": {},
   "source": [
    "# Dataset"
   ]
  },
  {
   "cell_type": "code",
   "execution_count": 2,
   "metadata": {
    "execution": {
     "iopub.execute_input": "2022-07-27T17:00:13.548868Z",
     "iopub.status.busy": "2022-07-27T17:00:13.548652Z",
     "iopub.status.idle": "2022-07-27T17:00:24.700540Z",
     "shell.execute_reply": "2022-07-27T17:00:24.699363Z"
    }
   },
   "outputs": [
    {
     "name": "stdout",
     "output_type": "stream",
     "text": [
      "cd-hit: clustered 314 sequences into 249 clusters at threshold 70\n"
     ]
    }
   ],
   "source": [
    "outliers = (\n",
    "    [\"Q9HBR0\", \"Q07837\"]  + [\"O81775\", \"Q9SW07\", \"Q9FHH5\", \"Q8S8A0\", \"Q3E965\", \"Q3EAV6\", \"Q3E8L0\"]\n",
    "    \n",
    ")\n",
    "df = create_dataset(\n",
    "    keywords_substrate_filter=[\"Amino-acid transport\", \"Sugar transport\"],\n",
    "    keywords_component_filter=[\"Transmembrane\"],\n",
    "    keywords_transport_filter=[\"Transport\"],\n",
    "    input_file=\"../data/raw/swissprot/uniprot-reviewed_yes.tab.gz\",\n",
    "    multi_substrate=\"integrate\",\n",
    "    verbose=True,\n",
    "    tax_ids_filter=[3702, 9606, 559292],\n",
    "    output_log=\"../logs/meta_amino_sugar_dataset.log\",\n",
    "    outliers=outliers,\n",
    "    sequence_clustering=70\n",
    ")\n",
    "taxid_to_organism = {\n",
    "    3702: \"A. thaliana\",\n",
    "    9606: \"Human\",\n",
    "    559292: \"Yeast\",\n",
    "}\n",
    "df = df.assign(organism=df.organism_id.map(taxid_to_organism))\n"
   ]
  },
  {
   "cell_type": "markdown",
   "metadata": {},
   "source": [
    "# Feature generation\n",
    "\n",
    "## Labels"
   ]
  },
  {
   "cell_type": "code",
   "execution_count": 3,
   "metadata": {
    "execution": {
     "iopub.execute_input": "2022-07-27T17:00:24.769582Z",
     "iopub.status.busy": "2022-07-27T17:00:24.769334Z",
     "iopub.status.idle": "2022-07-27T17:00:24.777466Z",
     "shell.execute_reply": "2022-07-27T17:00:24.776382Z"
    }
   },
   "outputs": [
    {
     "data": {
      "text/plain": [
       "Sugar transport         134\n",
       "Amino-acid transport    115\n",
       "Name: keywords_transport, dtype: int64"
      ]
     },
     "execution_count": 3,
     "metadata": {},
     "output_type": "execute_result"
    }
   ],
   "source": [
    "labels = df.keywords_transport\n",
    "labels.value_counts()"
   ]
  },
  {
   "cell_type": "markdown",
   "metadata": {},
   "source": [
    "## AAC"
   ]
  },
  {
   "cell_type": "code",
   "execution_count": 4,
   "metadata": {
    "execution": {
     "iopub.execute_input": "2022-07-27T17:00:24.781677Z",
     "iopub.status.busy": "2022-07-27T17:00:24.781315Z",
     "iopub.status.idle": "2022-07-27T17:00:24.826606Z",
     "shell.execute_reply": "2022-07-27T17:00:24.825667Z"
    }
   },
   "outputs": [
    {
     "data": {
      "text/html": [
       "<div>\n",
       "<style scoped>\n",
       "    .dataframe tbody tr th:only-of-type {\n",
       "        vertical-align: middle;\n",
       "    }\n",
       "\n",
       "    .dataframe tbody tr th {\n",
       "        vertical-align: top;\n",
       "    }\n",
       "\n",
       "    .dataframe thead th {\n",
       "        text-align: right;\n",
       "    }\n",
       "</style>\n",
       "<table border=\"1\" class=\"dataframe\">\n",
       "  <thead>\n",
       "    <tr style=\"text-align: right;\">\n",
       "      <th></th>\n",
       "      <th>A</th>\n",
       "      <th>C</th>\n",
       "      <th>D</th>\n",
       "      <th>E</th>\n",
       "      <th>F</th>\n",
       "      <th>G</th>\n",
       "      <th>H</th>\n",
       "      <th>I</th>\n",
       "      <th>K</th>\n",
       "      <th>L</th>\n",
       "      <th>M</th>\n",
       "      <th>N</th>\n",
       "      <th>P</th>\n",
       "      <th>Q</th>\n",
       "      <th>R</th>\n",
       "      <th>S</th>\n",
       "      <th>T</th>\n",
       "      <th>V</th>\n",
       "      <th>W</th>\n",
       "      <th>Y</th>\n",
       "    </tr>\n",
       "    <tr>\n",
       "      <th>Uniprot</th>\n",
       "      <th></th>\n",
       "      <th></th>\n",
       "      <th></th>\n",
       "      <th></th>\n",
       "      <th></th>\n",
       "      <th></th>\n",
       "      <th></th>\n",
       "      <th></th>\n",
       "      <th></th>\n",
       "      <th></th>\n",
       "      <th></th>\n",
       "      <th></th>\n",
       "      <th></th>\n",
       "      <th></th>\n",
       "      <th></th>\n",
       "      <th></th>\n",
       "      <th></th>\n",
       "      <th></th>\n",
       "      <th></th>\n",
       "      <th></th>\n",
       "    </tr>\n",
       "  </thead>\n",
       "  <tbody>\n",
       "    <tr>\n",
       "      <th>Q9SFG0</th>\n",
       "      <td>0.090730</td>\n",
       "      <td>0.015779</td>\n",
       "      <td>0.033531</td>\n",
       "      <td>0.035503</td>\n",
       "      <td>0.086785</td>\n",
       "      <td>0.088757</td>\n",
       "      <td>0.015779</td>\n",
       "      <td>0.092702</td>\n",
       "      <td>0.033531</td>\n",
       "      <td>0.104536</td>\n",
       "      <td>0.033531</td>\n",
       "      <td>0.033531</td>\n",
       "      <td>0.039448</td>\n",
       "      <td>0.029586</td>\n",
       "      <td>0.039448</td>\n",
       "      <td>0.055227</td>\n",
       "      <td>0.041420</td>\n",
       "      <td>0.086785</td>\n",
       "      <td>0.017751</td>\n",
       "      <td>0.025641</td>\n",
       "    </tr>\n",
       "    <tr>\n",
       "      <th>Q08986</th>\n",
       "      <td>0.085179</td>\n",
       "      <td>0.025554</td>\n",
       "      <td>0.027257</td>\n",
       "      <td>0.047700</td>\n",
       "      <td>0.069847</td>\n",
       "      <td>0.078365</td>\n",
       "      <td>0.010221</td>\n",
       "      <td>0.091993</td>\n",
       "      <td>0.044293</td>\n",
       "      <td>0.090290</td>\n",
       "      <td>0.018739</td>\n",
       "      <td>0.035775</td>\n",
       "      <td>0.032368</td>\n",
       "      <td>0.027257</td>\n",
       "      <td>0.035775</td>\n",
       "      <td>0.105622</td>\n",
       "      <td>0.044293</td>\n",
       "      <td>0.074957</td>\n",
       "      <td>0.017036</td>\n",
       "      <td>0.037479</td>\n",
       "    </tr>\n",
       "    <tr>\n",
       "      <th>Q9BRV3</th>\n",
       "      <td>0.058824</td>\n",
       "      <td>0.022624</td>\n",
       "      <td>0.031674</td>\n",
       "      <td>0.018100</td>\n",
       "      <td>0.058824</td>\n",
       "      <td>0.072398</td>\n",
       "      <td>0.009050</td>\n",
       "      <td>0.045249</td>\n",
       "      <td>0.022624</td>\n",
       "      <td>0.176471</td>\n",
       "      <td>0.027149</td>\n",
       "      <td>0.031674</td>\n",
       "      <td>0.040724</td>\n",
       "      <td>0.045249</td>\n",
       "      <td>0.045249</td>\n",
       "      <td>0.063348</td>\n",
       "      <td>0.072398</td>\n",
       "      <td>0.072398</td>\n",
       "      <td>0.027149</td>\n",
       "      <td>0.058824</td>\n",
       "    </tr>\n",
       "    <tr>\n",
       "      <th>Q84WN3</th>\n",
       "      <td>0.066390</td>\n",
       "      <td>0.004149</td>\n",
       "      <td>0.020747</td>\n",
       "      <td>0.053942</td>\n",
       "      <td>0.070539</td>\n",
       "      <td>0.074689</td>\n",
       "      <td>0.008299</td>\n",
       "      <td>0.070539</td>\n",
       "      <td>0.041494</td>\n",
       "      <td>0.120332</td>\n",
       "      <td>0.029046</td>\n",
       "      <td>0.033195</td>\n",
       "      <td>0.041494</td>\n",
       "      <td>0.016598</td>\n",
       "      <td>0.029046</td>\n",
       "      <td>0.087137</td>\n",
       "      <td>0.058091</td>\n",
       "      <td>0.103734</td>\n",
       "      <td>0.016598</td>\n",
       "      <td>0.053942</td>\n",
       "    </tr>\n",
       "    <tr>\n",
       "      <th>O04249</th>\n",
       "      <td>0.079922</td>\n",
       "      <td>0.013645</td>\n",
       "      <td>0.017544</td>\n",
       "      <td>0.042885</td>\n",
       "      <td>0.066277</td>\n",
       "      <td>0.107212</td>\n",
       "      <td>0.011696</td>\n",
       "      <td>0.076023</td>\n",
       "      <td>0.035088</td>\n",
       "      <td>0.120858</td>\n",
       "      <td>0.031189</td>\n",
       "      <td>0.038986</td>\n",
       "      <td>0.035088</td>\n",
       "      <td>0.035088</td>\n",
       "      <td>0.037037</td>\n",
       "      <td>0.064327</td>\n",
       "      <td>0.058480</td>\n",
       "      <td>0.081871</td>\n",
       "      <td>0.017544</td>\n",
       "      <td>0.029240</td>\n",
       "    </tr>\n",
       "    <tr>\n",
       "      <th>...</th>\n",
       "      <td>...</td>\n",
       "      <td>...</td>\n",
       "      <td>...</td>\n",
       "      <td>...</td>\n",
       "      <td>...</td>\n",
       "      <td>...</td>\n",
       "      <td>...</td>\n",
       "      <td>...</td>\n",
       "      <td>...</td>\n",
       "      <td>...</td>\n",
       "      <td>...</td>\n",
       "      <td>...</td>\n",
       "      <td>...</td>\n",
       "      <td>...</td>\n",
       "      <td>...</td>\n",
       "      <td>...</td>\n",
       "      <td>...</td>\n",
       "      <td>...</td>\n",
       "      <td>...</td>\n",
       "      <td>...</td>\n",
       "    </tr>\n",
       "    <tr>\n",
       "      <th>Q94EI9</th>\n",
       "      <td>0.082353</td>\n",
       "      <td>0.014706</td>\n",
       "      <td>0.014706</td>\n",
       "      <td>0.041176</td>\n",
       "      <td>0.058824</td>\n",
       "      <td>0.064706</td>\n",
       "      <td>0.011765</td>\n",
       "      <td>0.088235</td>\n",
       "      <td>0.052941</td>\n",
       "      <td>0.132353</td>\n",
       "      <td>0.044118</td>\n",
       "      <td>0.044118</td>\n",
       "      <td>0.029412</td>\n",
       "      <td>0.011765</td>\n",
       "      <td>0.020588</td>\n",
       "      <td>0.073529</td>\n",
       "      <td>0.052941</td>\n",
       "      <td>0.105882</td>\n",
       "      <td>0.017647</td>\n",
       "      <td>0.038235</td>\n",
       "    </tr>\n",
       "    <tr>\n",
       "      <th>Q92536</th>\n",
       "      <td>0.073786</td>\n",
       "      <td>0.025243</td>\n",
       "      <td>0.029126</td>\n",
       "      <td>0.044660</td>\n",
       "      <td>0.069903</td>\n",
       "      <td>0.066019</td>\n",
       "      <td>0.011650</td>\n",
       "      <td>0.083495</td>\n",
       "      <td>0.027184</td>\n",
       "      <td>0.114563</td>\n",
       "      <td>0.021359</td>\n",
       "      <td>0.031068</td>\n",
       "      <td>0.052427</td>\n",
       "      <td>0.027184</td>\n",
       "      <td>0.034951</td>\n",
       "      <td>0.085437</td>\n",
       "      <td>0.058252</td>\n",
       "      <td>0.089320</td>\n",
       "      <td>0.015534</td>\n",
       "      <td>0.038835</td>\n",
       "    </tr>\n",
       "    <tr>\n",
       "      <th>F4IHS9</th>\n",
       "      <td>0.055556</td>\n",
       "      <td>0.017544</td>\n",
       "      <td>0.023392</td>\n",
       "      <td>0.017544</td>\n",
       "      <td>0.076023</td>\n",
       "      <td>0.064327</td>\n",
       "      <td>0.023392</td>\n",
       "      <td>0.067251</td>\n",
       "      <td>0.055556</td>\n",
       "      <td>0.154971</td>\n",
       "      <td>0.026316</td>\n",
       "      <td>0.046784</td>\n",
       "      <td>0.032164</td>\n",
       "      <td>0.035088</td>\n",
       "      <td>0.011696</td>\n",
       "      <td>0.093567</td>\n",
       "      <td>0.081871</td>\n",
       "      <td>0.084795</td>\n",
       "      <td>0.002924</td>\n",
       "      <td>0.029240</td>\n",
       "    </tr>\n",
       "    <tr>\n",
       "      <th>Q04162</th>\n",
       "      <td>0.072072</td>\n",
       "      <td>0.018018</td>\n",
       "      <td>0.036036</td>\n",
       "      <td>0.032432</td>\n",
       "      <td>0.063063</td>\n",
       "      <td>0.057658</td>\n",
       "      <td>0.009009</td>\n",
       "      <td>0.095495</td>\n",
       "      <td>0.027027</td>\n",
       "      <td>0.122523</td>\n",
       "      <td>0.030631</td>\n",
       "      <td>0.037838</td>\n",
       "      <td>0.037838</td>\n",
       "      <td>0.019820</td>\n",
       "      <td>0.048649</td>\n",
       "      <td>0.106306</td>\n",
       "      <td>0.070270</td>\n",
       "      <td>0.063063</td>\n",
       "      <td>0.010811</td>\n",
       "      <td>0.041441</td>\n",
       "    </tr>\n",
       "    <tr>\n",
       "      <th>P48813</th>\n",
       "      <td>0.081448</td>\n",
       "      <td>0.019608</td>\n",
       "      <td>0.039216</td>\n",
       "      <td>0.052790</td>\n",
       "      <td>0.057315</td>\n",
       "      <td>0.079940</td>\n",
       "      <td>0.015083</td>\n",
       "      <td>0.075415</td>\n",
       "      <td>0.054299</td>\n",
       "      <td>0.085973</td>\n",
       "      <td>0.028658</td>\n",
       "      <td>0.043741</td>\n",
       "      <td>0.036199</td>\n",
       "      <td>0.031674</td>\n",
       "      <td>0.040724</td>\n",
       "      <td>0.082956</td>\n",
       "      <td>0.040724</td>\n",
       "      <td>0.075415</td>\n",
       "      <td>0.019608</td>\n",
       "      <td>0.039216</td>\n",
       "    </tr>\n",
       "  </tbody>\n",
       "</table>\n",
       "<p>249 rows × 20 columns</p>\n",
       "</div>"
      ],
      "text/plain": [
       "                A         C         D         E         F         G         H  \\\n",
       "Uniprot                                                                         \n",
       "Q9SFG0   0.090730  0.015779  0.033531  0.035503  0.086785  0.088757  0.015779   \n",
       "Q08986   0.085179  0.025554  0.027257  0.047700  0.069847  0.078365  0.010221   \n",
       "Q9BRV3   0.058824  0.022624  0.031674  0.018100  0.058824  0.072398  0.009050   \n",
       "Q84WN3   0.066390  0.004149  0.020747  0.053942  0.070539  0.074689  0.008299   \n",
       "O04249   0.079922  0.013645  0.017544  0.042885  0.066277  0.107212  0.011696   \n",
       "...           ...       ...       ...       ...       ...       ...       ...   \n",
       "Q94EI9   0.082353  0.014706  0.014706  0.041176  0.058824  0.064706  0.011765   \n",
       "Q92536   0.073786  0.025243  0.029126  0.044660  0.069903  0.066019  0.011650   \n",
       "F4IHS9   0.055556  0.017544  0.023392  0.017544  0.076023  0.064327  0.023392   \n",
       "Q04162   0.072072  0.018018  0.036036  0.032432  0.063063  0.057658  0.009009   \n",
       "P48813   0.081448  0.019608  0.039216  0.052790  0.057315  0.079940  0.015083   \n",
       "\n",
       "                I         K         L         M         N         P         Q  \\\n",
       "Uniprot                                                                         \n",
       "Q9SFG0   0.092702  0.033531  0.104536  0.033531  0.033531  0.039448  0.029586   \n",
       "Q08986   0.091993  0.044293  0.090290  0.018739  0.035775  0.032368  0.027257   \n",
       "Q9BRV3   0.045249  0.022624  0.176471  0.027149  0.031674  0.040724  0.045249   \n",
       "Q84WN3   0.070539  0.041494  0.120332  0.029046  0.033195  0.041494  0.016598   \n",
       "O04249   0.076023  0.035088  0.120858  0.031189  0.038986  0.035088  0.035088   \n",
       "...           ...       ...       ...       ...       ...       ...       ...   \n",
       "Q94EI9   0.088235  0.052941  0.132353  0.044118  0.044118  0.029412  0.011765   \n",
       "Q92536   0.083495  0.027184  0.114563  0.021359  0.031068  0.052427  0.027184   \n",
       "F4IHS9   0.067251  0.055556  0.154971  0.026316  0.046784  0.032164  0.035088   \n",
       "Q04162   0.095495  0.027027  0.122523  0.030631  0.037838  0.037838  0.019820   \n",
       "P48813   0.075415  0.054299  0.085973  0.028658  0.043741  0.036199  0.031674   \n",
       "\n",
       "                R         S         T         V         W         Y  \n",
       "Uniprot                                                              \n",
       "Q9SFG0   0.039448  0.055227  0.041420  0.086785  0.017751  0.025641  \n",
       "Q08986   0.035775  0.105622  0.044293  0.074957  0.017036  0.037479  \n",
       "Q9BRV3   0.045249  0.063348  0.072398  0.072398  0.027149  0.058824  \n",
       "Q84WN3   0.029046  0.087137  0.058091  0.103734  0.016598  0.053942  \n",
       "O04249   0.037037  0.064327  0.058480  0.081871  0.017544  0.029240  \n",
       "...           ...       ...       ...       ...       ...       ...  \n",
       "Q94EI9   0.020588  0.073529  0.052941  0.105882  0.017647  0.038235  \n",
       "Q92536   0.034951  0.085437  0.058252  0.089320  0.015534  0.038835  \n",
       "F4IHS9   0.011696  0.093567  0.081871  0.084795  0.002924  0.029240  \n",
       "Q04162   0.048649  0.106306  0.070270  0.063063  0.010811  0.041441  \n",
       "P48813   0.040724  0.082956  0.040724  0.075415  0.019608  0.039216  \n",
       "\n",
       "[249 rows x 20 columns]"
      ]
     },
     "execution_count": 4,
     "metadata": {},
     "output_type": "execute_result"
    }
   ],
   "source": [
    "df_aac = calculate_aac(df.sequence)\n",
    "df_aac"
   ]
  },
  {
   "cell_type": "code",
   "execution_count": 5,
   "metadata": {
    "execution": {
     "iopub.execute_input": "2022-07-27T17:00:24.830144Z",
     "iopub.status.busy": "2022-07-27T17:00:24.829823Z",
     "iopub.status.idle": "2022-07-27T17:00:25.247712Z",
     "shell.execute_reply": "2022-07-27T17:00:25.247370Z"
    }
   },
   "outputs": [
    {
     "data": {
      "text/plain": [
       "<AxesSubplot:xlabel='PC1', ylabel='PC2'>"
      ]
     },
     "execution_count": 5,
     "metadata": {},
     "output_type": "execute_result"
    },
    {
     "data": {
      "image/png": "[encoded data removed]",
      "text/plain": [
       "<Figure size 720x432 with 1 Axes>"
      ]
     },
     "metadata": {
      "needs_background": "light"
     },
     "output_type": "display_data"
    }
   ],
   "source": [
    "pca_plot_2d(df_aac, df.organism, df.keywords_transport)"
   ]
  },
  {
   "cell_type": "markdown",
   "metadata": {},
   "source": [
    "### Independent test set"
   ]
  },
  {
   "cell_type": "code",
   "execution_count": 6,
   "metadata": {
    "execution": {
     "iopub.execute_input": "2022-07-27T17:00:25.250094Z",
     "iopub.status.busy": "2022-07-27T17:00:25.249964Z",
     "iopub.status.idle": "2022-07-27T17:00:25.255394Z",
     "shell.execute_reply": "2022-07-27T17:00:25.254981Z"
    }
   },
   "outputs": [],
   "source": [
    "X, y, feature_names, sample_names = preprocess_pandas(\n",
    "    df_aac, labels, return_names=True\n",
    ")\n",
    "(\n",
    "    X_train,\n",
    "    X_test,\n",
    "    y_train,\n",
    "    y_test,\n",
    "    sample_names_train,\n",
    "    sample_names_test,\n",
    ") = get_independent_test_set(X, y, sample_names=sample_names, test_size=0.2)"
   ]
  },
  {
   "cell_type": "markdown",
   "metadata": {},
   "source": [
    "### Model selection\n"
   ]
  },
  {
   "cell_type": "code",
   "execution_count": 8,
   "metadata": {
    "execution": {
     "iopub.execute_input": "2022-07-27T17:00:25.257731Z",
     "iopub.status.busy": "2022-07-27T17:00:25.257527Z",
     "iopub.status.idle": "2022-07-27T17:00:26.670270Z",
     "shell.execute_reply": "2022-07-27T17:00:26.669651Z"
    }
   },
   "outputs": [
    {
     "data": {
      "text/html": [
       "<div>\n",
       "<style scoped>\n",
       "    .dataframe tbody tr th:only-of-type {\n",
       "        vertical-align: middle;\n",
       "    }\n",
       "\n",
       "    .dataframe tbody tr th {\n",
       "        vertical-align: top;\n",
       "    }\n",
       "\n",
       "    .dataframe thead th {\n",
       "        text-align: right;\n",
       "    }\n",
       "</style>\n",
       "<table border=\"1\" class=\"dataframe\">\n",
       "  <thead>\n",
       "    <tr style=\"text-align: right;\">\n",
       "      <th></th>\n",
       "      <th>0</th>\n",
       "      <th>1</th>\n",
       "      <th>2</th>\n",
       "      <th>3</th>\n",
       "      <th>4</th>\n",
       "      <th>mean</th>\n",
       "      <th>std</th>\n",
       "    </tr>\n",
       "    <tr>\n",
       "      <th>est</th>\n",
       "      <th></th>\n",
       "      <th></th>\n",
       "      <th></th>\n",
       "      <th></th>\n",
       "      <th></th>\n",
       "      <th></th>\n",
       "      <th></th>\n",
       "    </tr>\n",
       "  </thead>\n",
       "  <tbody>\n",
       "    <tr>\n",
       "      <th>GaussianNB()</th>\n",
       "      <td>0.725</td>\n",
       "      <td>0.600</td>\n",
       "      <td>0.693</td>\n",
       "      <td>0.716</td>\n",
       "      <td>0.583</td>\n",
       "      <td>0.663</td>\n",
       "      <td>0.067</td>\n",
       "    </tr>\n",
       "    <tr>\n",
       "      <th>KNeighborsClassifier()</th>\n",
       "      <td>0.749</td>\n",
       "      <td>0.625</td>\n",
       "      <td>0.747</td>\n",
       "      <td>0.649</td>\n",
       "      <td>0.820</td>\n",
       "      <td>0.718</td>\n",
       "      <td>0.080</td>\n",
       "    </tr>\n",
       "    <tr>\n",
       "      <th>LinearSVC(class_weight='balanced', max_iter=1000000.0, random_state=0)</th>\n",
       "      <td>0.749</td>\n",
       "      <td>0.573</td>\n",
       "      <td>0.699</td>\n",
       "      <td>0.688</td>\n",
       "      <td>0.717</td>\n",
       "      <td>0.685</td>\n",
       "      <td>0.067</td>\n",
       "    </tr>\n",
       "    <tr>\n",
       "      <th>LinearSVC(max_iter=1000000.0, random_state=0)</th>\n",
       "      <td>0.693</td>\n",
       "      <td>0.599</td>\n",
       "      <td>0.699</td>\n",
       "      <td>0.710</td>\n",
       "      <td>0.690</td>\n",
       "      <td>0.678</td>\n",
       "      <td>0.045</td>\n",
       "    </tr>\n",
       "    <tr>\n",
       "      <th>RandomForestClassifier(class_weight='balanced', random_state=0)</th>\n",
       "      <td>0.795</td>\n",
       "      <td>0.649</td>\n",
       "      <td>0.747</td>\n",
       "      <td>0.648</td>\n",
       "      <td>0.652</td>\n",
       "      <td>0.698</td>\n",
       "      <td>0.069</td>\n",
       "    </tr>\n",
       "    <tr>\n",
       "      <th>RandomForestClassifier(random_state=0)</th>\n",
       "      <td>0.798</td>\n",
       "      <td>0.649</td>\n",
       "      <td>0.721</td>\n",
       "      <td>0.665</td>\n",
       "      <td>0.675</td>\n",
       "      <td>0.701</td>\n",
       "      <td>0.060</td>\n",
       "    </tr>\n",
       "    <tr>\n",
       "      <th>SGDClassifier(random_state=0)</th>\n",
       "      <td>0.824</td>\n",
       "      <td>0.575</td>\n",
       "      <td>0.646</td>\n",
       "      <td>0.650</td>\n",
       "      <td>0.538</td>\n",
       "      <td>0.647</td>\n",
       "      <td>0.110</td>\n",
       "    </tr>\n",
       "    <tr>\n",
       "      <th>SVC(class_weight='balanced', random_state=0)</th>\n",
       "      <td>0.900</td>\n",
       "      <td>0.693</td>\n",
       "      <td>0.774</td>\n",
       "      <td>0.740</td>\n",
       "      <td>0.820</td>\n",
       "      <td>0.785</td>\n",
       "      <td>0.079</td>\n",
       "    </tr>\n",
       "    <tr>\n",
       "      <th>SVC(random_state=0)</th>\n",
       "      <td>0.850</td>\n",
       "      <td>0.670</td>\n",
       "      <td>0.774</td>\n",
       "      <td>0.763</td>\n",
       "      <td>0.794</td>\n",
       "      <td>0.770</td>\n",
       "      <td>0.065</td>\n",
       "    </tr>\n",
       "  </tbody>\n",
       "</table>\n",
       "</div>"
      ],
      "text/plain": [
       "                                                        0      1      2  \\\n",
       "est                                                                       \n",
       "GaussianNB()                                        0.725  0.600  0.693   \n",
       "KNeighborsClassifier()                              0.749  0.625  0.747   \n",
       "LinearSVC(class_weight='balanced', max_iter=100...  0.749  0.573  0.699   \n",
       "LinearSVC(max_iter=1000000.0, random_state=0)       0.693  0.599  0.699   \n",
       "RandomForestClassifier(class_weight='balanced',...  0.795  0.649  0.747   \n",
       "RandomForestClassifier(random_state=0)              0.798  0.649  0.721   \n",
       "SGDClassifier(random_state=0)                       0.824  0.575  0.646   \n",
       "SVC(class_weight='balanced', random_state=0)        0.900  0.693  0.774   \n",
       "SVC(random_state=0)                                 0.850  0.670  0.774   \n",
       "\n",
       "                                                        3      4   mean    std  \n",
       "est                                                                             \n",
       "GaussianNB()                                        0.716  0.583  0.663  0.067  \n",
       "KNeighborsClassifier()                              0.649  0.820  0.718  0.080  \n",
       "LinearSVC(class_weight='balanced', max_iter=100...  0.688  0.717  0.685  0.067  \n",
       "LinearSVC(max_iter=1000000.0, random_state=0)       0.710  0.690  0.678  0.045  \n",
       "RandomForestClassifier(class_weight='balanced',...  0.648  0.652  0.698  0.069  \n",
       "RandomForestClassifier(random_state=0)              0.665  0.675  0.701  0.060  \n",
       "SGDClassifier(random_state=0)                       0.650  0.538  0.647  0.110  \n",
       "SVC(class_weight='balanced', random_state=0)        0.740  0.820  0.785  0.079  \n",
       "SVC(random_state=0)                                 0.763  0.794  0.770  0.065  "
      ]
     },
     "execution_count": 8,
     "metadata": {},
     "output_type": "execute_result"
    }
   ],
   "source": [
    "models_quick_compare(X_train, y_train)"
   ]
  },
  {
   "cell_type": "markdown",
   "metadata": {},
   "source": [
    "### Parameter tuning\n",
    "\n",
    "The linear model works considerably worse than *with* the E Coli transporters. The RBF kernel already looks better."
   ]
  },
  {
   "cell_type": "code",
   "execution_count": 9,
   "metadata": {
    "execution": {
     "iopub.execute_input": "2022-07-27T17:00:26.674973Z",
     "iopub.status.busy": "2022-07-27T17:00:26.674837Z",
     "iopub.status.idle": "2022-07-27T17:00:29.177665Z",
     "shell.execute_reply": "2022-07-27T17:00:29.176881Z"
    }
   },
   "outputs": [
    {
     "name": "stdout",
     "output_type": "stream",
     "text": [
      "{'linearsvc__C': 1, 'linearsvc__class_weight': 'balanced', 'linearsvc__dual': True, 'linearsvc__max_iter': 100000000.0}\n",
      "0.685\n"
     ]
    }
   ],
   "source": [
    "gsearch = optimize_hyperparams(X_train, y_train, kernel=\"linear\")"
   ]
  },
  {
   "cell_type": "code",
   "execution_count": 10,
   "metadata": {
    "execution": {
     "iopub.execute_input": "2022-07-27T17:00:29.182438Z",
     "iopub.status.busy": "2022-07-27T17:00:29.182140Z",
     "iopub.status.idle": "2022-07-27T17:00:29.669347Z",
     "shell.execute_reply": "2022-07-27T17:00:29.668519Z"
    }
   },
   "outputs": [
    {
     "name": "stdout",
     "output_type": "stream",
     "text": [
      "{'svc__C': 1, 'svc__class_weight': 'balanced', 'svc__gamma': 'scale'}\n",
      "0.785\n"
     ]
    }
   ],
   "source": [
    "gsearch = optimize_hyperparams(X_train, y_train, kernel=\"rbf\", C=[0.1, 1, 10, 100])\n",
    "best_estimator_svc = gsearch"
   ]
  },
  {
   "cell_type": "markdown",
   "metadata": {},
   "source": [
    "### Dimensionality reduction"
   ]
  },
  {
   "cell_type": "markdown",
   "metadata": {},
   "source": [
    "Kbest does not improve the results my much, and removes four features (C, R, S, W)"
   ]
  },
  {
   "cell_type": "code",
   "execution_count": 7,
   "metadata": {
    "execution": {
     "iopub.execute_input": "2022-07-27T17:00:29.671630Z",
     "iopub.status.busy": "2022-07-27T17:00:29.671331Z",
     "iopub.status.idle": "2022-07-27T17:00:32.466580Z",
     "shell.execute_reply": "2022-07-27T17:00:32.465840Z"
    }
   },
   "outputs": [
    {
     "name": "stdout",
     "output_type": "stream",
     "text": [
      "{'selectkbest__k': 16, 'svc__C': 10, 'svc__class_weight': 'balanced', 'svc__gamma': 'scale'}\n",
      "0.786\n"
     ]
    }
   ],
   "source": [
    "gsearch = optimize_hyperparams(\n",
    "    X_train, y_train, kernel=\"rbf\", dim_reduction=\"kbest\", C=[0.1, 1,10,100], gamma=[\"scale\"]\n",
    ")\n",
    "best_estimator_svc_kbest = gsearch"
   ]
  },
  {
   "cell_type": "code",
   "execution_count": 8,
   "metadata": {
    "execution": {
     "iopub.execute_input": "2022-07-27T17:00:32.472437Z",
     "iopub.status.busy": "2022-07-27T17:00:32.472204Z",
     "iopub.status.idle": "2022-07-27T17:00:32.478289Z",
     "shell.execute_reply": "2022-07-27T17:00:32.477645Z"
    }
   },
   "outputs": [
    {
     "data": {
      "text/plain": [
       "array(['C', 'R', 'S', 'W'], dtype='<U1')"
      ]
     },
     "execution_count": 8,
     "metadata": {},
     "output_type": "execute_result"
    }
   ],
   "source": [
    "feature_names[~best_estimator_svc_kbest.best_estimator_[\"selectkbest\"].get_support()]"
   ]
  },
  {
   "cell_type": "markdown",
   "metadata": {},
   "source": [
    "The amino acid whose removal improves the model is Glu."
   ]
  },
  {
   "cell_type": "markdown",
   "metadata": {},
   "source": [
    "PCA performs worse, which might be caused by the fact that it removes more information to reach 99% of variance explained:"
   ]
  },
  {
   "cell_type": "code",
   "execution_count": 13,
   "metadata": {
    "execution": {
     "iopub.execute_input": "2022-07-27T17:00:32.483830Z",
     "iopub.status.busy": "2022-07-27T17:00:32.483466Z",
     "iopub.status.idle": "2022-07-27T17:00:38.083047Z",
     "shell.execute_reply": "2022-07-27T17:00:38.082037Z"
    }
   },
   "outputs": [
    {
     "name": "stdout",
     "output_type": "stream",
     "text": [
      "{'pca__n_components': 0.97, 'svc__C': 1, 'svc__class_weight': 'balanced', 'svc__gamma': 0.1}\n",
      "0.751\n"
     ]
    }
   ],
   "source": [
    "gsearch = optimize_hyperparams(\n",
    "    X_train,\n",
    "    y_train,\n",
    "    kernel=\"rbf\",\n",
    "    dim_reduction=\"pca\",\n",
    "    C=[0.1, 1, 10, 100],\n",
    "    gamma=[\"scale\", 1, 0.1, 0.01, 0.001],\n",
    ")\n",
    "best_estimator_svc_pca = gsearch"
   ]
  },
  {
   "cell_type": "markdown",
   "metadata": {},
   "source": [
    "### Validation\n",
    "\n",
    "Kbest had a slightly worse performance on the training set than PCA, and a much better performance on the test set.The performance of the model without feature selection is between that of PCA and Kbest."
   ]
  },
  {
   "cell_type": "markdown",
   "metadata": {},
   "source": [
    "#### Kbest"
   ]
  },
  {
   "cell_type": "code",
   "execution_count": 14,
   "metadata": {
    "execution": {
     "iopub.execute_input": "2022-07-27T17:00:38.089171Z",
     "iopub.status.busy": "2022-07-27T17:00:38.088712Z",
     "iopub.status.idle": "2022-07-27T17:00:38.110458Z",
     "shell.execute_reply": "2022-07-27T17:00:38.109786Z"
    }
   },
   "outputs": [
    {
     "data": {
      "text/html": [
       "<div>\n",
       "<style scoped>\n",
       "    .dataframe tbody tr th:only-of-type {\n",
       "        vertical-align: middle;\n",
       "    }\n",
       "\n",
       "    .dataframe tbody tr th {\n",
       "        vertical-align: top;\n",
       "    }\n",
       "\n",
       "    .dataframe thead th {\n",
       "        text-align: right;\n",
       "    }\n",
       "</style>\n",
       "<table border=\"1\" class=\"dataframe\">\n",
       "  <thead>\n",
       "    <tr style=\"text-align: right;\">\n",
       "      <th>predicted</th>\n",
       "      <th>Amino-acid transport</th>\n",
       "      <th>Sugar transport</th>\n",
       "    </tr>\n",
       "    <tr>\n",
       "      <th>observed</th>\n",
       "      <th></th>\n",
       "      <th></th>\n",
       "    </tr>\n",
       "  </thead>\n",
       "  <tbody>\n",
       "    <tr>\n",
       "      <th>Amino-acid transport</th>\n",
       "      <td>19</td>\n",
       "      <td>4</td>\n",
       "    </tr>\n",
       "    <tr>\n",
       "      <th>Sugar transport</th>\n",
       "      <td>7</td>\n",
       "      <td>20</td>\n",
       "    </tr>\n",
       "  </tbody>\n",
       "</table>\n",
       "</div>"
      ],
      "text/plain": [
       "predicted             Amino-acid transport  Sugar transport\n",
       "observed                                                   \n",
       "Amino-acid transport                    19                4\n",
       "Sugar transport                          7               20"
      ]
     },
     "execution_count": 14,
     "metadata": {},
     "output_type": "execute_result"
    }
   ],
   "source": [
    "get_confusion_matrix(X_test, y_test, best_estimator_svc_kbest, labels=labels)"
   ]
  },
  {
   "cell_type": "code",
   "execution_count": 15,
   "metadata": {
    "execution": {
     "iopub.execute_input": "2022-07-27T17:00:38.114508Z",
     "iopub.status.busy": "2022-07-27T17:00:38.114231Z",
     "iopub.status.idle": "2022-07-27T17:00:38.147927Z",
     "shell.execute_reply": "2022-07-27T17:00:38.147556Z"
    }
   },
   "outputs": [
    {
     "data": {
      "text/html": [
       "<div>\n",
       "<style scoped>\n",
       "    .dataframe tbody tr th:only-of-type {\n",
       "        vertical-align: middle;\n",
       "    }\n",
       "\n",
       "    .dataframe tbody tr th {\n",
       "        vertical-align: top;\n",
       "    }\n",
       "\n",
       "    .dataframe thead th {\n",
       "        text-align: right;\n",
       "    }\n",
       "</style>\n",
       "<table border=\"1\" class=\"dataframe\">\n",
       "  <thead>\n",
       "    <tr style=\"text-align: right;\">\n",
       "      <th></th>\n",
       "      <th>precision</th>\n",
       "      <th>recall</th>\n",
       "      <th>f1-score</th>\n",
       "      <th>support</th>\n",
       "    </tr>\n",
       "  </thead>\n",
       "  <tbody>\n",
       "    <tr>\n",
       "      <th>Amino-acid transport</th>\n",
       "      <td>0.731</td>\n",
       "      <td>0.826</td>\n",
       "      <td>0.776</td>\n",
       "      <td>23</td>\n",
       "    </tr>\n",
       "    <tr>\n",
       "      <th>Sugar transport</th>\n",
       "      <td>0.833</td>\n",
       "      <td>0.741</td>\n",
       "      <td>0.784</td>\n",
       "      <td>27</td>\n",
       "    </tr>\n",
       "    <tr>\n",
       "      <th>macro avg</th>\n",
       "      <td>0.782</td>\n",
       "      <td>0.783</td>\n",
       "      <td>0.780</td>\n",
       "      <td>50</td>\n",
       "    </tr>\n",
       "    <tr>\n",
       "      <th>weighted avg</th>\n",
       "      <td>0.786</td>\n",
       "      <td>0.780</td>\n",
       "      <td>0.780</td>\n",
       "      <td>50</td>\n",
       "    </tr>\n",
       "  </tbody>\n",
       "</table>\n",
       "</div>"
      ],
      "text/plain": [
       "                      precision  recall  f1-score  support\n",
       "Amino-acid transport      0.731   0.826     0.776       23\n",
       "Sugar transport           0.833   0.741     0.784       27\n",
       "macro avg                 0.782   0.783     0.780       50\n",
       "weighted avg              0.786   0.780     0.780       50"
      ]
     },
     "execution_count": 15,
     "metadata": {},
     "output_type": "execute_result"
    }
   ],
   "source": [
    "get_classification_report(X_test, y_test, best_estimator_svc_kbest, labels=labels)"
   ]
  },
  {
   "cell_type": "markdown",
   "metadata": {},
   "source": [
    "#### No feature selection:"
   ]
  },
  {
   "cell_type": "code",
   "execution_count": 16,
   "metadata": {
    "execution": {
     "iopub.execute_input": "2022-07-27T17:00:38.152335Z",
     "iopub.status.busy": "2022-07-27T17:00:38.152146Z",
     "iopub.status.idle": "2022-07-27T17:00:38.158969Z",
     "shell.execute_reply": "2022-07-27T17:00:38.158480Z"
    }
   },
   "outputs": [
    {
     "data": {
      "text/html": [
       "<div>\n",
       "<style scoped>\n",
       "    .dataframe tbody tr th:only-of-type {\n",
       "        vertical-align: middle;\n",
       "    }\n",
       "\n",
       "    .dataframe tbody tr th {\n",
       "        vertical-align: top;\n",
       "    }\n",
       "\n",
       "    .dataframe thead th {\n",
       "        text-align: right;\n",
       "    }\n",
       "</style>\n",
       "<table border=\"1\" class=\"dataframe\">\n",
       "  <thead>\n",
       "    <tr style=\"text-align: right;\">\n",
       "      <th>predicted</th>\n",
       "      <th>Amino-acid transport</th>\n",
       "      <th>Sugar transport</th>\n",
       "    </tr>\n",
       "    <tr>\n",
       "      <th>observed</th>\n",
       "      <th></th>\n",
       "      <th></th>\n",
       "    </tr>\n",
       "  </thead>\n",
       "  <tbody>\n",
       "    <tr>\n",
       "      <th>Amino-acid transport</th>\n",
       "      <td>20</td>\n",
       "      <td>3</td>\n",
       "    </tr>\n",
       "    <tr>\n",
       "      <th>Sugar transport</th>\n",
       "      <td>7</td>\n",
       "      <td>20</td>\n",
       "    </tr>\n",
       "  </tbody>\n",
       "</table>\n",
       "</div>"
      ],
      "text/plain": [
       "predicted             Amino-acid transport  Sugar transport\n",
       "observed                                                   \n",
       "Amino-acid transport                    20                3\n",
       "Sugar transport                          7               20"
      ]
     },
     "execution_count": 16,
     "metadata": {},
     "output_type": "execute_result"
    }
   ],
   "source": [
    "get_confusion_matrix(X_test, y_test, best_estimator_svc, labels=labels)"
   ]
  },
  {
   "cell_type": "code",
   "execution_count": 17,
   "metadata": {
    "execution": {
     "iopub.execute_input": "2022-07-27T17:00:38.162826Z",
     "iopub.status.busy": "2022-07-27T17:00:38.162518Z",
     "iopub.status.idle": "2022-07-27T17:00:38.183444Z",
     "shell.execute_reply": "2022-07-27T17:00:38.183029Z"
    }
   },
   "outputs": [
    {
     "data": {
      "text/html": [
       "<div>\n",
       "<style scoped>\n",
       "    .dataframe tbody tr th:only-of-type {\n",
       "        vertical-align: middle;\n",
       "    }\n",
       "\n",
       "    .dataframe tbody tr th {\n",
       "        vertical-align: top;\n",
       "    }\n",
       "\n",
       "    .dataframe thead th {\n",
       "        text-align: right;\n",
       "    }\n",
       "</style>\n",
       "<table border=\"1\" class=\"dataframe\">\n",
       "  <thead>\n",
       "    <tr style=\"text-align: right;\">\n",
       "      <th></th>\n",
       "      <th>precision</th>\n",
       "      <th>recall</th>\n",
       "      <th>f1-score</th>\n",
       "      <th>support</th>\n",
       "    </tr>\n",
       "  </thead>\n",
       "  <tbody>\n",
       "    <tr>\n",
       "      <th>Amino-acid transport</th>\n",
       "      <td>0.741</td>\n",
       "      <td>0.870</td>\n",
       "      <td>0.8</td>\n",
       "      <td>23</td>\n",
       "    </tr>\n",
       "    <tr>\n",
       "      <th>Sugar transport</th>\n",
       "      <td>0.870</td>\n",
       "      <td>0.741</td>\n",
       "      <td>0.8</td>\n",
       "      <td>27</td>\n",
       "    </tr>\n",
       "    <tr>\n",
       "      <th>macro avg</th>\n",
       "      <td>0.805</td>\n",
       "      <td>0.805</td>\n",
       "      <td>0.8</td>\n",
       "      <td>50</td>\n",
       "    </tr>\n",
       "    <tr>\n",
       "      <th>weighted avg</th>\n",
       "      <td>0.810</td>\n",
       "      <td>0.800</td>\n",
       "      <td>0.8</td>\n",
       "      <td>50</td>\n",
       "    </tr>\n",
       "  </tbody>\n",
       "</table>\n",
       "</div>"
      ],
      "text/plain": [
       "                      precision  recall  f1-score  support\n",
       "Amino-acid transport      0.741   0.870       0.8       23\n",
       "Sugar transport           0.870   0.741       0.8       27\n",
       "macro avg                 0.805   0.805       0.8       50\n",
       "weighted avg              0.810   0.800       0.8       50"
      ]
     },
     "execution_count": 17,
     "metadata": {},
     "output_type": "execute_result"
    }
   ],
   "source": [
    "get_classification_report(X_test, y_test, best_estimator_svc, labels=labels)"
   ]
  },
  {
   "cell_type": "markdown",
   "metadata": {},
   "source": [
    "#### PCA"
   ]
  },
  {
   "cell_type": "code",
   "execution_count": 18,
   "metadata": {
    "execution": {
     "iopub.execute_input": "2022-07-27T17:00:38.186971Z",
     "iopub.status.busy": "2022-07-27T17:00:38.186783Z",
     "iopub.status.idle": "2022-07-27T17:00:38.193764Z",
     "shell.execute_reply": "2022-07-27T17:00:38.193106Z"
    }
   },
   "outputs": [
    {
     "data": {
      "text/html": [
       "<div>\n",
       "<style scoped>\n",
       "    .dataframe tbody tr th:only-of-type {\n",
       "        vertical-align: middle;\n",
       "    }\n",
       "\n",
       "    .dataframe tbody tr th {\n",
       "        vertical-align: top;\n",
       "    }\n",
       "\n",
       "    .dataframe thead th {\n",
       "        text-align: right;\n",
       "    }\n",
       "</style>\n",
       "<table border=\"1\" class=\"dataframe\">\n",
       "  <thead>\n",
       "    <tr style=\"text-align: right;\">\n",
       "      <th>predicted</th>\n",
       "      <th>Amino-acid transport</th>\n",
       "      <th>Sugar transport</th>\n",
       "    </tr>\n",
       "    <tr>\n",
       "      <th>observed</th>\n",
       "      <th></th>\n",
       "      <th></th>\n",
       "    </tr>\n",
       "  </thead>\n",
       "  <tbody>\n",
       "    <tr>\n",
       "      <th>Amino-acid transport</th>\n",
       "      <td>19</td>\n",
       "      <td>4</td>\n",
       "    </tr>\n",
       "    <tr>\n",
       "      <th>Sugar transport</th>\n",
       "      <td>8</td>\n",
       "      <td>19</td>\n",
       "    </tr>\n",
       "  </tbody>\n",
       "</table>\n",
       "</div>"
      ],
      "text/plain": [
       "predicted             Amino-acid transport  Sugar transport\n",
       "observed                                                   \n",
       "Amino-acid transport                    19                4\n",
       "Sugar transport                          8               19"
      ]
     },
     "execution_count": 18,
     "metadata": {},
     "output_type": "execute_result"
    }
   ],
   "source": [
    "get_confusion_matrix(X_test, y_test, best_estimator_svc_pca, labels=labels)"
   ]
  },
  {
   "cell_type": "code",
   "execution_count": 19,
   "metadata": {
    "execution": {
     "iopub.execute_input": "2022-07-27T17:00:38.197271Z",
     "iopub.status.busy": "2022-07-27T17:00:38.196971Z",
     "iopub.status.idle": "2022-07-27T17:00:38.218554Z",
     "shell.execute_reply": "2022-07-27T17:00:38.218217Z"
    }
   },
   "outputs": [
    {
     "data": {
      "text/html": [
       "<div>\n",
       "<style scoped>\n",
       "    .dataframe tbody tr th:only-of-type {\n",
       "        vertical-align: middle;\n",
       "    }\n",
       "\n",
       "    .dataframe tbody tr th {\n",
       "        vertical-align: top;\n",
       "    }\n",
       "\n",
       "    .dataframe thead th {\n",
       "        text-align: right;\n",
       "    }\n",
       "</style>\n",
       "<table border=\"1\" class=\"dataframe\">\n",
       "  <thead>\n",
       "    <tr style=\"text-align: right;\">\n",
       "      <th></th>\n",
       "      <th>precision</th>\n",
       "      <th>recall</th>\n",
       "      <th>f1-score</th>\n",
       "      <th>support</th>\n",
       "    </tr>\n",
       "  </thead>\n",
       "  <tbody>\n",
       "    <tr>\n",
       "      <th>Amino-acid transport</th>\n",
       "      <td>0.704</td>\n",
       "      <td>0.826</td>\n",
       "      <td>0.76</td>\n",
       "      <td>23</td>\n",
       "    </tr>\n",
       "    <tr>\n",
       "      <th>Sugar transport</th>\n",
       "      <td>0.826</td>\n",
       "      <td>0.704</td>\n",
       "      <td>0.76</td>\n",
       "      <td>27</td>\n",
       "    </tr>\n",
       "    <tr>\n",
       "      <th>macro avg</th>\n",
       "      <td>0.765</td>\n",
       "      <td>0.765</td>\n",
       "      <td>0.76</td>\n",
       "      <td>50</td>\n",
       "    </tr>\n",
       "    <tr>\n",
       "      <th>weighted avg</th>\n",
       "      <td>0.770</td>\n",
       "      <td>0.760</td>\n",
       "      <td>0.76</td>\n",
       "      <td>50</td>\n",
       "    </tr>\n",
       "  </tbody>\n",
       "</table>\n",
       "</div>"
      ],
      "text/plain": [
       "                      precision  recall  f1-score  support\n",
       "Amino-acid transport      0.704   0.826      0.76       23\n",
       "Sugar transport           0.826   0.704      0.76       27\n",
       "macro avg                 0.765   0.765      0.76       50\n",
       "weighted avg              0.770   0.760      0.76       50"
      ]
     },
     "execution_count": 19,
     "metadata": {},
     "output_type": "execute_result"
    }
   ],
   "source": [
    "get_classification_report(X_test, y_test, best_estimator_svc_pca, labels=labels)"
   ]
  },
  {
   "cell_type": "markdown",
   "metadata": {},
   "source": [
    "## Checking dependence on train test split\n"
   ]
  },
  {
   "cell_type": "markdown",
   "metadata": {},
   "source": [
    "### Kbest model\n",
    "\n",
    "On average, the model performs about as good as on the split above:"
   ]
  },
  {
   "cell_type": "code",
   "execution_count": 20,
   "metadata": {
    "execution": {
     "iopub.execute_input": "2022-07-27T17:00:38.221630Z",
     "iopub.status.busy": "2022-07-27T17:00:38.221399Z",
     "iopub.status.idle": "2022-07-27T17:01:08.522127Z",
     "shell.execute_reply": "2022-07-27T17:01:08.521411Z"
    }
   },
   "outputs": [
    {
     "data": {
      "text/html": [
       "<div>\n",
       "<style scoped>\n",
       "    .dataframe tbody tr th:only-of-type {\n",
       "        vertical-align: middle;\n",
       "    }\n",
       "\n",
       "    .dataframe tbody tr th {\n",
       "        vertical-align: top;\n",
       "    }\n",
       "\n",
       "    .dataframe thead th {\n",
       "        text-align: right;\n",
       "    }\n",
       "</style>\n",
       "<table border=\"1\" class=\"dataframe\">\n",
       "  <thead>\n",
       "    <tr style=\"text-align: right;\">\n",
       "      <th>dataset</th>\n",
       "      <th>test</th>\n",
       "      <th>train</th>\n",
       "    </tr>\n",
       "    <tr>\n",
       "      <th>label</th>\n",
       "      <th></th>\n",
       "      <th></th>\n",
       "    </tr>\n",
       "  </thead>\n",
       "  <tbody>\n",
       "    <tr>\n",
       "      <th>Amino-acid transport</th>\n",
       "      <td>0.7574</td>\n",
       "      <td>0.8106</td>\n",
       "    </tr>\n",
       "    <tr>\n",
       "      <th>Sugar transport</th>\n",
       "      <td>0.7950</td>\n",
       "      <td>0.8303</td>\n",
       "    </tr>\n",
       "  </tbody>\n",
       "</table>\n",
       "</div>"
      ],
      "text/plain": [
       "dataset                 test   train\n",
       "label                               \n",
       "Amino-acid transport  0.7574  0.8106\n",
       "Sugar transport       0.7950  0.8303"
      ]
     },
     "metadata": {},
     "output_type": "display_data"
    },
    {
     "data": {
      "text/html": [
       "<div>\n",
       "<style scoped>\n",
       "    .dataframe tbody tr th:only-of-type {\n",
       "        vertical-align: middle;\n",
       "    }\n",
       "\n",
       "    .dataframe tbody tr th {\n",
       "        vertical-align: top;\n",
       "    }\n",
       "\n",
       "    .dataframe thead th {\n",
       "        text-align: right;\n",
       "    }\n",
       "</style>\n",
       "<table border=\"1\" class=\"dataframe\">\n",
       "  <thead>\n",
       "    <tr style=\"text-align: right;\">\n",
       "      <th>dataset</th>\n",
       "      <th>test</th>\n",
       "      <th>train</th>\n",
       "    </tr>\n",
       "    <tr>\n",
       "      <th>label</th>\n",
       "      <th></th>\n",
       "      <th></th>\n",
       "    </tr>\n",
       "  </thead>\n",
       "  <tbody>\n",
       "    <tr>\n",
       "      <th>Amino-acid transport</th>\n",
       "      <td>0.076635</td>\n",
       "      <td>0.023282</td>\n",
       "    </tr>\n",
       "    <tr>\n",
       "      <th>Sugar transport</th>\n",
       "      <td>0.045505</td>\n",
       "      <td>0.015305</td>\n",
       "    </tr>\n",
       "  </tbody>\n",
       "</table>\n",
       "</div>"
      ],
      "text/plain": [
       "dataset                   test     train\n",
       "label                                   \n",
       "Amino-acid transport  0.076635  0.023282\n",
       "Sugar transport       0.045505  0.015305"
      ]
     },
     "metadata": {},
     "output_type": "display_data"
    }
   ],
   "source": [
    "df_scores, df_params = full_test(\n",
    "    df_aac, labels, dim_reduction=\"kbest\", kernel=\"rbf\", repetitions=10\n",
    ")\n",
    "display(\n",
    "    df_scores.groupby([\"label\", \"dataset\"], as_index=False)\n",
    "    .mean()\n",
    "    .pivot(index=\"label\", columns=\"dataset\", values=\"F1 score\")\n",
    ")\n",
    "display(\n",
    "    df_scores.groupby([\"label\", \"dataset\"], as_index=False)\n",
    "    .std()\n",
    "    .pivot(index=\"label\", columns=\"dataset\", values=\"F1 score\")\n",
    ")"
   ]
  },
  {
   "cell_type": "markdown",
   "metadata": {},
   "source": [
    "#### PCA\n",
    "\n",
    "As before, the PCA model delivers worse results than Kbest:"
   ]
  },
  {
   "cell_type": "code",
   "execution_count": 21,
   "metadata": {
    "execution": {
     "iopub.execute_input": "2022-07-27T17:01:08.527205Z",
     "iopub.status.busy": "2022-07-27T17:01:08.526829Z",
     "iopub.status.idle": "2022-07-27T17:01:41.321990Z",
     "shell.execute_reply": "2022-07-27T17:01:41.320977Z"
    }
   },
   "outputs": [
    {
     "data": {
      "text/html": [
       "<div>\n",
       "<style scoped>\n",
       "    .dataframe tbody tr th:only-of-type {\n",
       "        vertical-align: middle;\n",
       "    }\n",
       "\n",
       "    .dataframe tbody tr th {\n",
       "        vertical-align: top;\n",
       "    }\n",
       "\n",
       "    .dataframe thead th {\n",
       "        text-align: right;\n",
       "    }\n",
       "</style>\n",
       "<table border=\"1\" class=\"dataframe\">\n",
       "  <thead>\n",
       "    <tr style=\"text-align: right;\">\n",
       "      <th>dataset</th>\n",
       "      <th>test</th>\n",
       "      <th>train</th>\n",
       "    </tr>\n",
       "    <tr>\n",
       "      <th>label</th>\n",
       "      <th></th>\n",
       "      <th></th>\n",
       "    </tr>\n",
       "  </thead>\n",
       "  <tbody>\n",
       "    <tr>\n",
       "      <th>Amino-acid transport</th>\n",
       "      <td>0.6893</td>\n",
       "      <td>0.796</td>\n",
       "    </tr>\n",
       "    <tr>\n",
       "      <th>Sugar transport</th>\n",
       "      <td>0.7377</td>\n",
       "      <td>0.826</td>\n",
       "    </tr>\n",
       "  </tbody>\n",
       "</table>\n",
       "</div>"
      ],
      "text/plain": [
       "dataset                 test  train\n",
       "label                              \n",
       "Amino-acid transport  0.6893  0.796\n",
       "Sugar transport       0.7377  0.826"
      ]
     },
     "metadata": {},
     "output_type": "display_data"
    },
    {
     "data": {
      "text/html": [
       "<div>\n",
       "<style scoped>\n",
       "    .dataframe tbody tr th:only-of-type {\n",
       "        vertical-align: middle;\n",
       "    }\n",
       "\n",
       "    .dataframe tbody tr th {\n",
       "        vertical-align: top;\n",
       "    }\n",
       "\n",
       "    .dataframe thead th {\n",
       "        text-align: right;\n",
       "    }\n",
       "</style>\n",
       "<table border=\"1\" class=\"dataframe\">\n",
       "  <thead>\n",
       "    <tr style=\"text-align: right;\">\n",
       "      <th>dataset</th>\n",
       "      <th>test</th>\n",
       "      <th>train</th>\n",
       "    </tr>\n",
       "    <tr>\n",
       "      <th>label</th>\n",
       "      <th></th>\n",
       "      <th></th>\n",
       "    </tr>\n",
       "  </thead>\n",
       "  <tbody>\n",
       "    <tr>\n",
       "      <th>Amino-acid transport</th>\n",
       "      <td>0.102366</td>\n",
       "      <td>0.047826</td>\n",
       "    </tr>\n",
       "    <tr>\n",
       "      <th>Sugar transport</th>\n",
       "      <td>0.072094</td>\n",
       "      <td>0.031503</td>\n",
       "    </tr>\n",
       "  </tbody>\n",
       "</table>\n",
       "</div>"
      ],
      "text/plain": [
       "dataset                   test     train\n",
       "label                                   \n",
       "Amino-acid transport  0.102366  0.047826\n",
       "Sugar transport       0.072094  0.031503"
      ]
     },
     "metadata": {},
     "output_type": "display_data"
    }
   ],
   "source": [
    "df_scores, df_params = full_test(\n",
    "    df_aac, labels, dim_reduction=\"pca\", kernel=\"rbf\", repetitions=10\n",
    ")\n",
    "display(\n",
    "    df_scores.groupby([\"label\", \"dataset\"], as_index=False)\n",
    "    .mean()\n",
    "    .pivot(index=\"label\", columns=\"dataset\", values=\"F1 score\")\n",
    ")\n",
    "display(\n",
    "    df_scores.groupby([\"label\", \"dataset\"], as_index=False)\n",
    "    .std()\n",
    "    .pivot(index=\"label\", columns=\"dataset\", values=\"F1 score\")\n",
    ")"
   ]
  },
  {
   "cell_type": "markdown",
   "metadata": {},
   "source": [
    "### All features\n",
    "\n",
    "Interestingly, the average performance is actually better on average without feature selection. The removal of Glu improving scores might have been something that was only the case in our split.  "
   ]
  },
  {
   "cell_type": "code",
   "execution_count": 22,
   "metadata": {
    "execution": {
     "iopub.execute_input": "2022-07-27T17:01:41.327034Z",
     "iopub.status.busy": "2022-07-27T17:01:41.326787Z",
     "iopub.status.idle": "2022-07-27T17:01:43.715117Z",
     "shell.execute_reply": "2022-07-27T17:01:43.714039Z"
    }
   },
   "outputs": [
    {
     "data": {
      "text/html": [
       "<div>\n",
       "<style scoped>\n",
       "    .dataframe tbody tr th:only-of-type {\n",
       "        vertical-align: middle;\n",
       "    }\n",
       "\n",
       "    .dataframe tbody tr th {\n",
       "        vertical-align: top;\n",
       "    }\n",
       "\n",
       "    .dataframe thead th {\n",
       "        text-align: right;\n",
       "    }\n",
       "</style>\n",
       "<table border=\"1\" class=\"dataframe\">\n",
       "  <thead>\n",
       "    <tr style=\"text-align: right;\">\n",
       "      <th>dataset</th>\n",
       "      <th>test</th>\n",
       "      <th>train</th>\n",
       "    </tr>\n",
       "    <tr>\n",
       "      <th>label</th>\n",
       "      <th></th>\n",
       "      <th></th>\n",
       "    </tr>\n",
       "  </thead>\n",
       "  <tbody>\n",
       "    <tr>\n",
       "      <th>Amino-acid transport</th>\n",
       "      <td>0.7741</td>\n",
       "      <td>0.8061</td>\n",
       "    </tr>\n",
       "    <tr>\n",
       "      <th>Sugar transport</th>\n",
       "      <td>0.8109</td>\n",
       "      <td>0.8264</td>\n",
       "    </tr>\n",
       "  </tbody>\n",
       "</table>\n",
       "</div>"
      ],
      "text/plain": [
       "dataset                 test   train\n",
       "label                               \n",
       "Amino-acid transport  0.7741  0.8061\n",
       "Sugar transport       0.8109  0.8264"
      ]
     },
     "metadata": {},
     "output_type": "display_data"
    },
    {
     "data": {
      "text/html": [
       "<div>\n",
       "<style scoped>\n",
       "    .dataframe tbody tr th:only-of-type {\n",
       "        vertical-align: middle;\n",
       "    }\n",
       "\n",
       "    .dataframe tbody tr th {\n",
       "        vertical-align: top;\n",
       "    }\n",
       "\n",
       "    .dataframe thead th {\n",
       "        text-align: right;\n",
       "    }\n",
       "</style>\n",
       "<table border=\"1\" class=\"dataframe\">\n",
       "  <thead>\n",
       "    <tr style=\"text-align: right;\">\n",
       "      <th>dataset</th>\n",
       "      <th>test</th>\n",
       "      <th>train</th>\n",
       "    </tr>\n",
       "    <tr>\n",
       "      <th>label</th>\n",
       "      <th></th>\n",
       "      <th></th>\n",
       "    </tr>\n",
       "  </thead>\n",
       "  <tbody>\n",
       "    <tr>\n",
       "      <th>Amino-acid transport</th>\n",
       "      <td>0.076638</td>\n",
       "      <td>0.032206</td>\n",
       "    </tr>\n",
       "    <tr>\n",
       "      <th>Sugar transport</th>\n",
       "      <td>0.053602</td>\n",
       "      <td>0.021578</td>\n",
       "    </tr>\n",
       "  </tbody>\n",
       "</table>\n",
       "</div>"
      ],
      "text/plain": [
       "dataset                   test     train\n",
       "label                                   \n",
       "Amino-acid transport  0.076638  0.032206\n",
       "Sugar transport       0.053602  0.021578"
      ]
     },
     "metadata": {},
     "output_type": "display_data"
    },
    {
     "data": {
      "text/html": [
       "<div>\n",
       "<style scoped>\n",
       "    .dataframe tbody tr th:only-of-type {\n",
       "        vertical-align: middle;\n",
       "    }\n",
       "\n",
       "    .dataframe tbody tr th {\n",
       "        vertical-align: top;\n",
       "    }\n",
       "\n",
       "    .dataframe thead th {\n",
       "        text-align: right;\n",
       "    }\n",
       "</style>\n",
       "<table border=\"1\" class=\"dataframe\">\n",
       "  <thead>\n",
       "    <tr style=\"text-align: right;\">\n",
       "      <th></th>\n",
       "      <th>0</th>\n",
       "      <th>1</th>\n",
       "      <th>2</th>\n",
       "      <th>3</th>\n",
       "      <th>4</th>\n",
       "      <th>5</th>\n",
       "      <th>6</th>\n",
       "      <th>7</th>\n",
       "      <th>8</th>\n",
       "      <th>9</th>\n",
       "    </tr>\n",
       "  </thead>\n",
       "  <tbody>\n",
       "    <tr>\n",
       "      <th>svc__C</th>\n",
       "      <td>1</td>\n",
       "      <td>10</td>\n",
       "      <td>1</td>\n",
       "      <td>1</td>\n",
       "      <td>1</td>\n",
       "      <td>1</td>\n",
       "      <td>1</td>\n",
       "      <td>1</td>\n",
       "      <td>10</td>\n",
       "      <td>1</td>\n",
       "    </tr>\n",
       "    <tr>\n",
       "      <th>svc__class_weight</th>\n",
       "      <td>balanced</td>\n",
       "      <td>balanced</td>\n",
       "      <td>balanced</td>\n",
       "      <td>None</td>\n",
       "      <td>balanced</td>\n",
       "      <td>balanced</td>\n",
       "      <td>balanced</td>\n",
       "      <td>None</td>\n",
       "      <td>balanced</td>\n",
       "      <td>balanced</td>\n",
       "    </tr>\n",
       "    <tr>\n",
       "      <th>svc__gamma</th>\n",
       "      <td>0.1</td>\n",
       "      <td>scale</td>\n",
       "      <td>0.1</td>\n",
       "      <td>0.1</td>\n",
       "      <td>0.1</td>\n",
       "      <td>scale</td>\n",
       "      <td>scale</td>\n",
       "      <td>0.1</td>\n",
       "      <td>0.1</td>\n",
       "      <td>0.1</td>\n",
       "    </tr>\n",
       "  </tbody>\n",
       "</table>\n",
       "</div>"
      ],
      "text/plain": [
       "                          0         1         2     3         4         5  \\\n",
       "svc__C                    1        10         1     1         1         1   \n",
       "svc__class_weight  balanced  balanced  balanced  None  balanced  balanced   \n",
       "svc__gamma              0.1     scale       0.1   0.1       0.1     scale   \n",
       "\n",
       "                          6     7         8         9  \n",
       "svc__C                    1     1        10         1  \n",
       "svc__class_weight  balanced  None  balanced  balanced  \n",
       "svc__gamma            scale   0.1       0.1       0.1  "
      ]
     },
     "execution_count": 22,
     "metadata": {},
     "output_type": "execute_result"
    }
   ],
   "source": [
    "df_scores, df_params = full_test(\n",
    "    df_aac, labels, kernel=\"rbf\", repetitions=10\n",
    ")\n",
    "display(\n",
    "    df_scores.groupby([\"label\", \"dataset\"], as_index=False)\n",
    "    .mean()\n",
    "    .pivot(index=\"label\", columns=\"dataset\", values=\"F1 score\")\n",
    ")\n",
    "display(\n",
    "    df_scores.groupby([\"label\", \"dataset\"], as_index=False)\n",
    "    .std()\n",
    "    .pivot(index=\"label\", columns=\"dataset\", values=\"F1 score\")\n",
    ")\n",
    "df_params"
   ]
  },
  {
   "cell_type": "markdown",
   "metadata": {},
   "source": [
    "## Conclusion\n",
    "\n",
    "As without E Coli, the AAC works best with all amino acids in the feature dataset. Removing the prokaryotic transporters did not lead to a clear improvement of the model. "
   ]
  }
 ],
 "metadata": {
  "kernelspec": {
   "display_name": "Python 3.9.12 ('subpred')",
   "language": "python",
   "name": "python3"
  },
  "language_info": {
   "codemirror_mode": {
    "name": "ipython",
    "version": 3
   },
   "file_extension": ".py",
   "mimetype": "text/x-python",
   "name": "python",
   "nbconvert_exporter": "python",
   "pygments_lexer": "ipython3",
   "version": "3.9.12"
  },
  "vscode": {
   "interpreter": {
    "hash": "a3c5a88a8b1fa059748e807688afdff6c3f31eb23364e67d8e1c7f5771f5e23f"
   }
  }
 },
 "nbformat": 4,
 "nbformat_minor": 2
}
