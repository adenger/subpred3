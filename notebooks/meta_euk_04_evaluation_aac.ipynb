{
 "cells": [
  {
   "cell_type": "markdown",
   "metadata": {},
   "source": [
    "# AAC feature evaluation (only Eukaryotes)\n",
    "\n",
    "During the dataset evaluation, we found that E Coli transports form its own cluster in the PCA plot. How does the model perform without E Coli transporters?"
   ]
  },
  {
   "cell_type": "markdown",
   "metadata": {},
   "source": [
    "# Imports"
   ]
  },
  {
   "cell_type": "code",
   "execution_count": null,
   "metadata": {
    "execution": {
     "iopub.execute_input": "2022-07-15T14:36:02.318364Z",
     "iopub.status.busy": "2022-07-15T14:36:02.317913Z",
     "iopub.status.idle": "2022-07-15T14:36:02.923322Z",
     "shell.execute_reply": "2022-07-15T14:36:02.922696Z"
    }
   },
   "outputs": [],
   "source": [
    "from subpred.transporter_dataset import create_dataset\n",
    "from subpred.eval import (\n",
    "    get_independent_test_set,\n",
    "    optimize_hyperparams,\n",
    "    preprocess_pandas,\n",
    "    models_quick_compare,\n",
    "    get_confusion_matrix,\n",
    "    get_classification_report,\n",
    "    full_test\n",
    ")\n",
    "from subpred.compositions import calculate_aac\n",
    "from subpred.plots import pca_plot_2d"
   ]
  },
  {
   "cell_type": "markdown",
   "metadata": {},
   "source": [
    "# Dataset"
   ]
  },
  {
   "cell_type": "code",
   "execution_count": null,
   "metadata": {
    "execution": {
     "iopub.execute_input": "2022-07-15T14:36:02.926547Z",
     "iopub.status.busy": "2022-07-15T14:36:02.926297Z",
     "iopub.status.idle": "2022-07-15T14:36:13.442130Z",
     "shell.execute_reply": "2022-07-15T14:36:13.441498Z"
    }
   },
   "outputs": [],
   "source": [
    "outliers = (\n",
    "    [\"Q9HBR0\", \"Q07837\"]  + [\"O81775\", \"Q9SW07\", \"Q9FHH5\", \"Q8S8A0\", \"Q3E965\", \"Q3EAV6\", \"Q3E8L0\"]\n",
    "    \n",
    ")\n",
    "df = create_dataset(\n",
    "    keywords_substrate_filter=[\"Amino-acid transport\", \"Sugar transport\"],\n",
    "    keywords_component_filter=[\"Transmembrane\"],\n",
    "    keywords_transport_filter=[\"Transport\"],\n",
    "    input_file=\"../data/raw/swissprot/uniprot-reviewed_yes.tab.gz\",\n",
    "    multi_substrate=\"integrate\",\n",
    "    verbose=True,\n",
    "    tax_ids_filter=[3702, 9606, 559292],\n",
    "    output_log=\"../logs/meta_amino_sugar_dataset.log\",\n",
    "    outliers=outliers,\n",
    "    sequence_clustering=70\n",
    ")\n",
    "taxid_to_organism = {\n",
    "    3702: \"A. thaliana\",\n",
    "    9606: \"Human\",\n",
    "    559292: \"Yeast\",\n",
    "}\n",
    "df = df.assign(organism=df.organism_id.map(taxid_to_organism))\n"
   ]
  },
  {
   "cell_type": "code",
   "execution_count": null,
   "metadata": {},
   "outputs": [],
   "source": [
    "df[df.gene_names.str.contains(\"GDU\")]\n",
    "\n",
    "# print(outliers)"
   ]
  },
  {
   "cell_type": "markdown",
   "metadata": {},
   "source": [
    "# Feature generation\n",
    "\n",
    "## Labels"
   ]
  },
  {
   "cell_type": "code",
   "execution_count": null,
   "metadata": {
    "execution": {
     "iopub.execute_input": "2022-07-15T14:36:13.491900Z",
     "iopub.status.busy": "2022-07-15T14:36:13.491600Z",
     "iopub.status.idle": "2022-07-15T14:36:13.501220Z",
     "shell.execute_reply": "2022-07-15T14:36:13.500808Z"
    }
   },
   "outputs": [],
   "source": [
    "labels = df.keywords_transport\n",
    "labels.value_counts()"
   ]
  },
  {
   "cell_type": "markdown",
   "metadata": {},
   "source": [
    "## AAC"
   ]
  },
  {
   "cell_type": "code",
   "execution_count": null,
   "metadata": {
    "execution": {
     "iopub.execute_input": "2022-07-15T14:36:13.504878Z",
     "iopub.status.busy": "2022-07-15T14:36:13.504629Z",
     "iopub.status.idle": "2022-07-15T14:36:13.548354Z",
     "shell.execute_reply": "2022-07-15T14:36:13.547918Z"
    }
   },
   "outputs": [],
   "source": [
    "df_aac = calculate_aac(df.sequence)\n",
    "df_aac"
   ]
  },
  {
   "cell_type": "code",
   "execution_count": null,
   "metadata": {},
   "outputs": [],
   "source": [
    "pca_plot_2d(df_aac, df.organism, df.keywords_transport)\n",
    "\n",
    "df"
   ]
  },
  {
   "cell_type": "markdown",
   "metadata": {},
   "source": [
    "### Independent test set"
   ]
  },
  {
   "cell_type": "code",
   "execution_count": null,
   "metadata": {
    "execution": {
     "iopub.execute_input": "2022-07-15T14:36:13.553750Z",
     "iopub.status.busy": "2022-07-15T14:36:13.553524Z",
     "iopub.status.idle": "2022-07-15T14:36:13.560241Z",
     "shell.execute_reply": "2022-07-15T14:36:13.559548Z"
    }
   },
   "outputs": [],
   "source": [
    "X, y, feature_names, sample_names = preprocess_pandas(\n",
    "    df_aac, labels, return_names=True\n",
    ")\n",
    "(\n",
    "    X_train,\n",
    "    X_test,\n",
    "    y_train,\n",
    "    y_test,\n",
    "    sample_names_train,\n",
    "    sample_names_test,\n",
    ") = get_independent_test_set(X, y, sample_names=sample_names, test_size=0.2)"
   ]
  },
  {
   "cell_type": "markdown",
   "metadata": {},
   "source": [
    "### Model selection\n"
   ]
  },
  {
   "cell_type": "code",
   "execution_count": null,
   "metadata": {
    "execution": {
     "iopub.execute_input": "2022-07-15T14:36:13.564140Z",
     "iopub.status.busy": "2022-07-15T14:36:13.563858Z",
     "iopub.status.idle": "2022-07-15T14:36:14.621153Z",
     "shell.execute_reply": "2022-07-15T14:36:14.620799Z"
    }
   },
   "outputs": [],
   "source": [
    "models_quick_compare(X_train, y_train)"
   ]
  },
  {
   "cell_type": "markdown",
   "metadata": {},
   "source": [
    "### Parameter tuning\n",
    "\n",
    "RBF kernel delivers slightly better results"
   ]
  },
  {
   "cell_type": "code",
   "execution_count": null,
   "metadata": {
    "execution": {
     "iopub.execute_input": "2022-07-15T14:36:14.626387Z",
     "iopub.status.busy": "2022-07-15T14:36:14.626157Z",
     "iopub.status.idle": "2022-07-15T14:36:17.130039Z",
     "shell.execute_reply": "2022-07-15T14:36:17.129311Z"
    }
   },
   "outputs": [],
   "source": [
    "gsearch = optimize_hyperparams(X_train, y_train, kernel=\"linear\")"
   ]
  },
  {
   "cell_type": "code",
   "execution_count": null,
   "metadata": {
    "execution": {
     "iopub.execute_input": "2022-07-15T14:36:17.135029Z",
     "iopub.status.busy": "2022-07-15T14:36:17.134740Z",
     "iopub.status.idle": "2022-07-15T14:36:17.787853Z",
     "shell.execute_reply": "2022-07-15T14:36:17.787108Z"
    }
   },
   "outputs": [],
   "source": [
    "gsearch = optimize_hyperparams(X_train, y_train, kernel=\"rbf\", C=[0.1, 1, 10, 100])\n",
    "best_estimator_svc = gsearch"
   ]
  },
  {
   "cell_type": "markdown",
   "metadata": {},
   "source": [
    "### Dimensionality reduction"
   ]
  },
  {
   "cell_type": "markdown",
   "metadata": {},
   "source": [
    "Kbest performs slightly worse, and only removes one feature:"
   ]
  },
  {
   "cell_type": "code",
   "execution_count": null,
   "metadata": {
    "execution": {
     "iopub.execute_input": "2022-07-15T14:36:17.792807Z",
     "iopub.status.busy": "2022-07-15T14:36:17.792526Z",
     "iopub.status.idle": "2022-07-15T14:36:20.754056Z",
     "shell.execute_reply": "2022-07-15T14:36:20.752782Z"
    }
   },
   "outputs": [],
   "source": [
    "gsearch = optimize_hyperparams(\n",
    "    X_train, y_train, kernel=\"rbf\", dim_reduction=\"kbest\"#, C=[1,10,100], gamma=[\"scale\"]\n",
    ")\n",
    "best_estimator_svc_kbest = gsearch"
   ]
  },
  {
   "cell_type": "code",
   "execution_count": null,
   "metadata": {},
   "outputs": [],
   "source": [
    "feature_names[~best_estimator_svc_kbest.best_estimator_[\"selectkbest\"].get_support()]"
   ]
  },
  {
   "cell_type": "markdown",
   "metadata": {},
   "source": [
    "The amino acid whose removal improves the model is Glu."
   ]
  },
  {
   "cell_type": "markdown",
   "metadata": {},
   "source": [
    "PCA performs worse, which might be caused by the fact that it removes more information to reach 99% of variance explained:"
   ]
  },
  {
   "cell_type": "code",
   "execution_count": null,
   "metadata": {
    "execution": {
     "iopub.execute_input": "2022-07-15T14:36:20.759624Z",
     "iopub.status.busy": "2022-07-15T14:36:20.759210Z",
     "iopub.status.idle": "2022-07-15T14:36:24.057918Z",
     "shell.execute_reply": "2022-07-15T14:36:24.056949Z"
    }
   },
   "outputs": [],
   "source": [
    "gsearch = optimize_hyperparams(\n",
    "    X_train,\n",
    "    y_train,\n",
    "    kernel=\"rbf\",\n",
    "    dim_reduction=\"pca\",\n",
    "    C=[0.1, 1, 10, 100],\n",
    "    gamma=[\"scale\", 1, 0.1, 0.01, 0.001],\n",
    ")\n",
    "best_estimator_svc_pca = gsearch"
   ]
  },
  {
   "cell_type": "markdown",
   "metadata": {},
   "source": [
    "### Validation\n",
    "\n",
    "Kbest had a slightly worse performance on the training set than PCA, and a much better performance on the test set.The performance of the model without feature selection is between that of PCA and Kbest."
   ]
  },
  {
   "cell_type": "markdown",
   "metadata": {},
   "source": [
    "#### Kbest"
   ]
  },
  {
   "cell_type": "code",
   "execution_count": null,
   "metadata": {
    "execution": {
     "iopub.execute_input": "2022-07-15T14:36:24.062774Z",
     "iopub.status.busy": "2022-07-15T14:36:24.062509Z",
     "iopub.status.idle": "2022-07-15T14:36:24.075340Z",
     "shell.execute_reply": "2022-07-15T14:36:24.074363Z"
    }
   },
   "outputs": [],
   "source": [
    "get_confusion_matrix(X_test, y_test, best_estimator_svc_kbest, labels=labels)"
   ]
  },
  {
   "cell_type": "code",
   "execution_count": null,
   "metadata": {
    "execution": {
     "iopub.execute_input": "2022-07-15T14:36:24.079031Z",
     "iopub.status.busy": "2022-07-15T14:36:24.078741Z",
     "iopub.status.idle": "2022-07-15T14:36:24.100247Z",
     "shell.execute_reply": "2022-07-15T14:36:24.099435Z"
    }
   },
   "outputs": [],
   "source": [
    "get_classification_report(X_test, y_test, best_estimator_svc_kbest, labels=labels)"
   ]
  },
  {
   "cell_type": "markdown",
   "metadata": {},
   "source": [
    "#### No feature selection:"
   ]
  },
  {
   "cell_type": "code",
   "execution_count": null,
   "metadata": {},
   "outputs": [],
   "source": [
    "get_confusion_matrix(X_test, y_test, best_estimator_svc, labels=labels)"
   ]
  },
  {
   "cell_type": "code",
   "execution_count": null,
   "metadata": {},
   "outputs": [],
   "source": [
    "get_classification_report(X_test, y_test, best_estimator_svc, labels=labels)"
   ]
  },
  {
   "cell_type": "markdown",
   "metadata": {},
   "source": [
    "#### PCA"
   ]
  },
  {
   "cell_type": "code",
   "execution_count": null,
   "metadata": {
    "execution": {
     "iopub.execute_input": "2022-07-15T14:36:24.103901Z",
     "iopub.status.busy": "2022-07-15T14:36:24.103688Z",
     "iopub.status.idle": "2022-07-15T14:36:24.110619Z",
     "shell.execute_reply": "2022-07-15T14:36:24.109880Z"
    }
   },
   "outputs": [],
   "source": [
    "get_confusion_matrix(X_test, y_test, best_estimator_svc_pca, labels=labels)"
   ]
  },
  {
   "cell_type": "code",
   "execution_count": null,
   "metadata": {
    "execution": {
     "iopub.execute_input": "2022-07-15T14:36:24.115045Z",
     "iopub.status.busy": "2022-07-15T14:36:24.114679Z",
     "iopub.status.idle": "2022-07-15T14:36:24.134693Z",
     "shell.execute_reply": "2022-07-15T14:36:24.133858Z"
    }
   },
   "outputs": [],
   "source": [
    "get_classification_report(X_test, y_test, best_estimator_svc_pca, labels=labels)"
   ]
  },
  {
   "cell_type": "markdown",
   "metadata": {},
   "source": [
    "## Checking dependence on train test split\n"
   ]
  },
  {
   "cell_type": "markdown",
   "metadata": {},
   "source": [
    "### Kbest model\n",
    "\n",
    "On average, the model performs about as good as on the split above:"
   ]
  },
  {
   "cell_type": "code",
   "execution_count": null,
   "metadata": {
    "execution": {
     "iopub.execute_input": "2022-07-15T14:36:24.138550Z",
     "iopub.status.busy": "2022-07-15T14:36:24.138347Z",
     "iopub.status.idle": "2022-07-15T14:36:55.998574Z",
     "shell.execute_reply": "2022-07-15T14:36:55.997741Z"
    }
   },
   "outputs": [],
   "source": [
    "df_scores, df_params = full_test(\n",
    "    df_aac, labels, dim_reduction=\"kbest\", kernel=\"rbf\", repetitions=10\n",
    ")\n",
    "display(\n",
    "    df_scores.groupby([\"label\", \"dataset\"], as_index=False)\n",
    "    .mean()\n",
    "    .pivot(index=\"label\", columns=\"dataset\", values=\"F1 score\")\n",
    ")\n",
    "display(\n",
    "    df_scores.groupby([\"label\", \"dataset\"], as_index=False)\n",
    "    .std()\n",
    "    .pivot(index=\"label\", columns=\"dataset\", values=\"F1 score\")\n",
    ")"
   ]
  },
  {
   "cell_type": "markdown",
   "metadata": {},
   "source": [
    "#### PCA\n",
    "\n",
    "As before, the PCA model delivers worse results than Kbest:"
   ]
  },
  {
   "cell_type": "code",
   "execution_count": null,
   "metadata": {
    "execution": {
     "iopub.execute_input": "2022-07-15T14:36:56.003737Z",
     "iopub.status.busy": "2022-07-15T14:36:56.003344Z",
     "iopub.status.idle": "2022-07-15T14:37:25.601000Z",
     "shell.execute_reply": "2022-07-15T14:37:25.599865Z"
    }
   },
   "outputs": [],
   "source": [
    "df_scores, df_params = full_test(\n",
    "    df_aac, labels, dim_reduction=\"pca\", kernel=\"rbf\", repetitions=10\n",
    ")\n",
    "display(\n",
    "    df_scores.groupby([\"label\", \"dataset\"], as_index=False)\n",
    "    .mean()\n",
    "    .pivot(index=\"label\", columns=\"dataset\", values=\"F1 score\")\n",
    ")\n",
    "display(\n",
    "    df_scores.groupby([\"label\", \"dataset\"], as_index=False)\n",
    "    .std()\n",
    "    .pivot(index=\"label\", columns=\"dataset\", values=\"F1 score\")\n",
    ")"
   ]
  },
  {
   "cell_type": "markdown",
   "metadata": {},
   "source": [
    "### All features\n",
    "\n",
    "Interestingly, the average performance is actually better on average without feature selection. The removal of Glu improving scores might have been something that was only the case in our split.  "
   ]
  },
  {
   "cell_type": "code",
   "execution_count": null,
   "metadata": {},
   "outputs": [],
   "source": [
    "df_scores, df_params = full_test(\n",
    "    df_aac, labels, kernel=\"rbf\", repetitions=10\n",
    ")\n",
    "display(\n",
    "    df_scores.groupby([\"label\", \"dataset\"], as_index=False)\n",
    "    .mean()\n",
    "    .pivot(index=\"label\", columns=\"dataset\", values=\"F1 score\")\n",
    ")\n",
    "display(\n",
    "    df_scores.groupby([\"label\", \"dataset\"], as_index=False)\n",
    "    .std()\n",
    "    .pivot(index=\"label\", columns=\"dataset\", values=\"F1 score\")\n",
    ")\n",
    "df_params"
   ]
  },
  {
   "cell_type": "markdown",
   "metadata": {},
   "source": [
    "## Conclusion\n",
    "\n"
   ]
  }
 ],
 "metadata": {
  "kernelspec": {
   "display_name": "Python 3.9.12 ('subpred')",
   "language": "python",
   "name": "python3"
  },
  "language_info": {
   "codemirror_mode": {
    "name": "ipython",
    "version": 3
   },
   "file_extension": ".py",
   "mimetype": "text/x-python",
   "name": "python",
   "nbconvert_exporter": "python",
   "pygments_lexer": "ipython3",
   "version": "3.9.12"
  },
  "vscode": {
   "interpreter": {
    "hash": "a3c5a88a8b1fa059748e807688afdff6c3f31eb23364e67d8e1c7f5771f5e23f"
   }
  }
 },
 "nbformat": 4,
 "nbformat_minor": 2
}
