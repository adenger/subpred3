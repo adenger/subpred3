{
 "cells": [
  {
   "cell_type": "markdown",
   "metadata": {},
   "source": [
    "# PAAC Feature evaluation"
   ]
  },
  {
   "cell_type": "markdown",
   "metadata": {},
   "source": [
    "# Imports"
   ]
  },
  {
   "cell_type": "code",
   "execution_count": null,
   "metadata": {
    "execution": {
     "iopub.execute_input": "2022-07-15T14:55:50.517452Z",
     "iopub.status.busy": "2022-07-15T14:55:50.516887Z",
     "iopub.status.idle": "2022-07-15T14:55:51.119825Z",
     "shell.execute_reply": "2022-07-15T14:55:51.119305Z"
    }
   },
   "outputs": [],
   "source": [
    "from subpred.transporter_dataset import create_dataset\n",
    "from subpred.eval import (\n",
    "    get_independent_test_set,\n",
    "    optimize_hyperparams,\n",
    "    preprocess_pandas,\n",
    "    models_quick_compare,\n",
    "    get_confusion_matrix,\n",
    "    get_classification_report,\n",
    "    full_test\n",
    ")\n",
    "from subpred.compositions import calculate_paac"
   ]
  },
  {
   "cell_type": "markdown",
   "metadata": {},
   "source": [
    "# Dataset"
   ]
  },
  {
   "cell_type": "code",
   "execution_count": null,
   "metadata": {
    "execution": {
     "iopub.execute_input": "2022-07-15T14:55:51.123015Z",
     "iopub.status.busy": "2022-07-15T14:55:51.122793Z",
     "iopub.status.idle": "2022-07-15T14:56:02.100617Z",
     "shell.execute_reply": "2022-07-15T14:56:02.099362Z"
    }
   },
   "outputs": [],
   "source": [
    "outliers = (\n",
    "    [\"Q9HBR0\", \"Q07837\"]  + [\"O81775\", \"Q9SW07\", \"Q9FHH5\", \"Q8S8A0\", \"Q3E965\", \"Q3EAV6\", \"Q3E8L0\"]\n",
    "    \n",
    ")\n",
    "df = create_dataset(\n",
    "    keywords_substrate_filter=[\"Amino-acid transport\", \"Sugar transport\"],\n",
    "    keywords_component_filter=[\"Transmembrane\"],\n",
    "    keywords_transport_filter=[\"Transport\"],\n",
    "    input_file=\"../data/raw/swissprot/uniprot-reviewed_yes.tab.gz\",\n",
    "    multi_substrate=\"integrate\",\n",
    "    verbose=True,\n",
    "    tax_ids_filter=[3702, 9606, 559292],\n",
    "    output_log=\"../logs/meta_amino_sugar_dataset.log\",\n",
    "    outliers=outliers,\n",
    "    sequence_clustering=70\n",
    ")\n",
    "taxid_to_organism = {\n",
    "    3702: \"A. thaliana\",\n",
    "    9606: \"Human\",\n",
    "    559292: \"Yeast\",\n",
    "}\n",
    "df = df.assign(organism=df.organism_id.map(taxid_to_organism))\n"
   ]
  },
  {
   "cell_type": "markdown",
   "metadata": {},
   "source": [
    "# Feature generation"
   ]
  },
  {
   "cell_type": "code",
   "execution_count": null,
   "metadata": {
    "execution": {
     "iopub.execute_input": "2022-07-15T14:56:02.145262Z",
     "iopub.status.busy": "2022-07-15T14:56:02.144820Z",
     "iopub.status.idle": "2022-07-15T14:56:02.162582Z",
     "shell.execute_reply": "2022-07-15T14:56:02.161639Z"
    }
   },
   "outputs": [],
   "source": [
    "labels = df.keywords_transport\n",
    "labels.value_counts()"
   ]
  },
  {
   "cell_type": "code",
   "execution_count": null,
   "metadata": {
    "execution": {
     "iopub.execute_input": "2022-07-15T14:56:02.166477Z",
     "iopub.status.busy": "2022-07-15T14:56:02.166068Z",
     "iopub.status.idle": "2022-07-15T14:56:02.244110Z",
     "shell.execute_reply": "2022-07-15T14:56:02.243402Z"
    }
   },
   "outputs": [],
   "source": [
    "df_paac = calculate_paac(df.sequence)\n",
    "df_paac"
   ]
  },
  {
   "cell_type": "markdown",
   "metadata": {},
   "source": [
    "## Independent test set"
   ]
  },
  {
   "cell_type": "code",
   "execution_count": null,
   "metadata": {
    "execution": {
     "iopub.execute_input": "2022-07-15T14:56:02.248135Z",
     "iopub.status.busy": "2022-07-15T14:56:02.248012Z",
     "iopub.status.idle": "2022-07-15T14:56:02.257950Z",
     "shell.execute_reply": "2022-07-15T14:56:02.256965Z"
    }
   },
   "outputs": [],
   "source": [
    "X, y, feature_names, sample_names = preprocess_pandas(\n",
    "    df_paac, labels, return_names=True\n",
    ")\n",
    "(\n",
    "    X_train,\n",
    "    X_test,\n",
    "    y_train,\n",
    "    y_test,\n",
    "    sample_names_train,\n",
    "    sample_names_test,\n",
    ") = get_independent_test_set(X, y, sample_names=sample_names, test_size=0.2)"
   ]
  },
  {
   "cell_type": "markdown",
   "metadata": {},
   "source": [
    "## Model comparison\n",
    "\n"
   ]
  },
  {
   "cell_type": "code",
   "execution_count": null,
   "metadata": {
    "execution": {
     "iopub.execute_input": "2022-07-15T14:56:02.262134Z",
     "iopub.status.busy": "2022-07-15T14:56:02.261794Z",
     "iopub.status.idle": "2022-07-15T14:56:03.403810Z",
     "shell.execute_reply": "2022-07-15T14:56:03.402955Z"
    }
   },
   "outputs": [],
   "source": [
    "models_quick_compare(X_train, y_train)"
   ]
  },
  {
   "cell_type": "markdown",
   "metadata": {},
   "source": [
    "## Parameter tuning\n",
    "\n",
    "RBF kernel delivers better results when using all features. "
   ]
  },
  {
   "cell_type": "code",
   "execution_count": null,
   "metadata": {
    "execution": {
     "iopub.execute_input": "2022-07-15T14:56:03.409452Z",
     "iopub.status.busy": "2022-07-15T14:56:03.409014Z",
     "iopub.status.idle": "2022-07-15T14:56:06.321828Z",
     "shell.execute_reply": "2022-07-15T14:56:06.320874Z"
    }
   },
   "outputs": [],
   "source": [
    "gsearch = optimize_hyperparams(X_train, y_train, kernel=\"linear\", C=[0.0001, 0.001, 0.01, 0.1, 1, 10])\n",
    "best_estimator_lsvc = gsearch"
   ]
  },
  {
   "cell_type": "code",
   "execution_count": null,
   "metadata": {
    "execution": {
     "iopub.execute_input": "2022-07-15T14:56:06.325967Z",
     "iopub.status.busy": "2022-07-15T14:56:06.325714Z",
     "iopub.status.idle": "2022-07-15T14:56:06.515528Z",
     "shell.execute_reply": "2022-07-15T14:56:06.514710Z"
    }
   },
   "outputs": [],
   "source": [
    "gsearch = optimize_hyperparams(\n",
    "    X_train, y_train, kernel=\"rbf\", C=[0.1, 1, 10, 100]\n",
    ")\n",
    "best_estimator_svc = gsearch"
   ]
  },
  {
   "cell_type": "markdown",
   "metadata": {},
   "source": [
    "## Dimensionality reduction"
   ]
  },
  {
   "cell_type": "markdown",
   "metadata": {},
   "source": [
    "### Linear kernel"
   ]
  },
  {
   "cell_type": "markdown",
   "metadata": {},
   "source": [
    "PCA does not lead to improvements:"
   ]
  },
  {
   "cell_type": "code",
   "execution_count": null,
   "metadata": {
    "execution": {
     "iopub.execute_input": "2022-07-15T14:56:06.520799Z",
     "iopub.status.busy": "2022-07-15T14:56:06.520414Z",
     "iopub.status.idle": "2022-07-15T14:56:09.396257Z",
     "shell.execute_reply": "2022-07-15T14:56:09.395456Z"
    }
   },
   "outputs": [],
   "source": [
    "gsearch = optimize_hyperparams(\n",
    "    X_train,\n",
    "    y_train,\n",
    "    kernel=\"linear\",\n",
    "    dim_reduction=\"pca\",\n",
    "    C=[1, 0.01, 0.1, 10],\n",
    ")\n",
    "best_estimator_lsvc_pca = gsearch"
   ]
  },
  {
   "cell_type": "markdown",
   "metadata": {},
   "source": [
    "Kbest perform worse with the linear kernel:"
   ]
  },
  {
   "cell_type": "code",
   "execution_count": null,
   "metadata": {
    "execution": {
     "iopub.execute_input": "2022-07-15T14:56:09.402766Z",
     "iopub.status.busy": "2022-07-15T14:56:09.402265Z",
     "iopub.status.idle": "2022-07-15T14:56:40.686880Z",
     "shell.execute_reply": "2022-07-15T14:56:40.686151Z"
    }
   },
   "outputs": [],
   "source": [
    "gsearch = optimize_hyperparams(\n",
    "    X_train,\n",
    "    y_train,\n",
    "    kernel=\"linear\",\n",
    "    dim_reduction=\"kbest\",\n",
    "    select_k_steps=20,\n",
    "    remove_zero_var=True,\n",
    "    C=[0.1, 1, 10],\n",
    ")\n",
    "best_estimator_lsvc_kbest = gsearch"
   ]
  },
  {
   "cell_type": "markdown",
   "metadata": {},
   "source": [
    "#### RBF"
   ]
  },
  {
   "cell_type": "code",
   "execution_count": null,
   "metadata": {
    "execution": {
     "iopub.execute_input": "2022-07-15T14:56:40.692599Z",
     "iopub.status.busy": "2022-07-15T14:56:40.692195Z",
     "iopub.status.idle": "2022-07-15T14:57:42.715635Z",
     "shell.execute_reply": "2022-07-15T14:57:42.714963Z"
    }
   },
   "outputs": [],
   "source": [
    "gsearch = optimize_hyperparams(\n",
    "    X_train,\n",
    "    y_train,\n",
    "    kernel=\"rbf\",\n",
    "    dim_reduction=\"pca\",\n",
    "    C=[0.1, 1, 10, 100],\n",
    "    # gamma = [1e-0, 1e-1, 1e-2, 1e-3,\"scale\"]\n",
    ")\n",
    "best_estimator_svc_pca = gsearch"
   ]
  },
  {
   "cell_type": "markdown",
   "metadata": {},
   "source": [
    "With the RBF kernel, the kbest model performs the best. It only removes nine features."
   ]
  },
  {
   "cell_type": "code",
   "execution_count": null,
   "metadata": {
    "execution": {
     "iopub.execute_input": "2022-07-15T14:57:42.720641Z",
     "iopub.status.busy": "2022-07-15T14:57:42.720336Z",
     "iopub.status.idle": "2022-07-15T14:57:46.207541Z",
     "shell.execute_reply": "2022-07-15T14:57:46.206790Z"
    }
   },
   "outputs": [],
   "source": [
    "gsearch = optimize_hyperparams(\n",
    "    X_train,\n",
    "    y_train,\n",
    "    kernel=\"rbf\",\n",
    "    dim_reduction=\"kbest\",\n",
    "    select_k_steps=10,\n",
    "    remove_zero_var=True,\n",
    "    C=[0.1, 1, 10, 100],\n",
    ")\n",
    "best_estimator_svc_kbest = gsearch"
   ]
  },
  {
   "cell_type": "code",
   "execution_count": null,
   "metadata": {},
   "outputs": [],
   "source": [
    "feature_names[~best_estimator_svc_kbest.best_estimator_[\"selectkbest\"].get_support()]"
   ]
  },
  {
   "cell_type": "markdown",
   "metadata": {},
   "source": [
    "The linear kernel with feature selection shows the best result here."
   ]
  },
  {
   "cell_type": "markdown",
   "metadata": {},
   "source": [
    "## Validation\n",
    "\n",
    "RBF with PCA delivers the best results on the test set:"
   ]
  },
  {
   "cell_type": "markdown",
   "metadata": {},
   "source": [
    "### Linear kernel"
   ]
  },
  {
   "cell_type": "code",
   "execution_count": null,
   "metadata": {},
   "outputs": [],
   "source": [
    "display(get_confusion_matrix(X_test, y_test, best_estimator_lsvc, labels=labels))\n",
    "display(get_classification_report(X_test, y_test, best_estimator_lsvc, labels=labels))"
   ]
  },
  {
   "cell_type": "code",
   "execution_count": null,
   "metadata": {
    "execution": {
     "iopub.execute_input": "2022-07-15T14:57:46.213302Z",
     "iopub.status.busy": "2022-07-15T14:57:46.212842Z",
     "iopub.status.idle": "2022-07-15T14:57:46.226597Z",
     "shell.execute_reply": "2022-07-15T14:57:46.225897Z"
    }
   },
   "outputs": [],
   "source": [
    "display(get_confusion_matrix(X_test, y_test, best_estimator_lsvc_kbest, labels=labels))\n",
    "display(get_classification_report(X_test, y_test, best_estimator_lsvc_kbest, labels=labels))"
   ]
  },
  {
   "cell_type": "code",
   "execution_count": null,
   "metadata": {
    "execution": {
     "iopub.execute_input": "2022-07-15T14:57:46.231162Z",
     "iopub.status.busy": "2022-07-15T14:57:46.230727Z",
     "iopub.status.idle": "2022-07-15T14:57:46.256674Z",
     "shell.execute_reply": "2022-07-15T14:57:46.255866Z"
    }
   },
   "outputs": [],
   "source": [
    "display(get_confusion_matrix(X_test, y_test, best_estimator_lsvc_pca, labels=labels))\n",
    "display(get_classification_report(X_test, y_test, best_estimator_lsvc_pca, labels=labels))"
   ]
  },
  {
   "cell_type": "markdown",
   "metadata": {},
   "source": [
    "### RBF kernel"
   ]
  },
  {
   "cell_type": "code",
   "execution_count": null,
   "metadata": {},
   "outputs": [],
   "source": [
    "display(get_confusion_matrix(X_test, y_test, best_estimator_svc, labels=labels))\n",
    "display(get_classification_report(X_test, y_test, best_estimator_svc, labels=labels))"
   ]
  },
  {
   "cell_type": "code",
   "execution_count": null,
   "metadata": {
    "execution": {
     "iopub.execute_input": "2022-07-15T14:57:46.261754Z",
     "iopub.status.busy": "2022-07-15T14:57:46.261283Z",
     "iopub.status.idle": "2022-07-15T14:57:46.273567Z",
     "shell.execute_reply": "2022-07-15T14:57:46.272809Z"
    }
   },
   "outputs": [],
   "source": [
    "display(get_confusion_matrix(X_test, y_test, best_estimator_svc_kbest, labels=labels))\n",
    "display(get_classification_report(X_test, y_test, best_estimator_svc_kbest, labels=labels))"
   ]
  },
  {
   "cell_type": "code",
   "execution_count": null,
   "metadata": {
    "execution": {
     "iopub.execute_input": "2022-07-15T14:57:46.278194Z",
     "iopub.status.busy": "2022-07-15T14:57:46.277723Z",
     "iopub.status.idle": "2022-07-15T14:57:46.305163Z",
     "shell.execute_reply": "2022-07-15T14:57:46.304392Z"
    }
   },
   "outputs": [],
   "source": [
    "display(get_confusion_matrix(X_test, y_test, best_estimator_svc_pca, labels=labels))\n",
    "display(get_classification_report(X_test, y_test, best_estimator_svc_pca, labels=labels))"
   ]
  },
  {
   "cell_type": "markdown",
   "metadata": {},
   "source": [
    "## Conclusion"
   ]
  },
  {
   "cell_type": "markdown",
   "metadata": {},
   "source": [
    "The models achieve F1 scores of around 0.80 with only PAAC. This is relatively consistent between training set and test set, and between the two substrates."
   ]
  },
  {
   "cell_type": "markdown",
   "metadata": {},
   "source": [
    "## Estimating validation variance \n"
   ]
  },
  {
   "cell_type": "code",
   "execution_count": null,
   "metadata": {
    "execution": {
     "iopub.execute_input": "2022-07-15T14:57:46.309246Z",
     "iopub.status.busy": "2022-07-15T14:57:46.308772Z",
     "iopub.status.idle": "2022-07-15T15:07:58.710508Z",
     "shell.execute_reply": "2022-07-15T15:07:58.709947Z"
    }
   },
   "outputs": [],
   "source": [
    "df_scores, df_params = full_test(\n",
    "    df_paac, labels, dim_reduction=\"pca\", kernel=\"rbf\", repetitions=10, remove_zero_var=True, select_k_steps=20\n",
    ")\n",
    "df_scores_gr = df_scores.groupby([\"label\", \"dataset\"], as_index=False)\n",
    "display(df_scores_gr.mean().pivot(index=\"label\", columns=\"dataset\", values=\"F1 score\"))\n",
    "display(df_scores_gr.std().pivot(index=\"label\", columns=\"dataset\", values=\"F1 score\"))\n",
    "df_params"
   ]
  },
  {
   "cell_type": "markdown",
   "metadata": {},
   "source": [
    "For the meta-organism, the AAC actually performs better than the PAAC, possibly because of increased noise. Only a small subset of PAAC features have high frequencies. The AAC better captures the fact that H and G are among the most important features."
   ]
  }
 ],
 "metadata": {
  "kernelspec": {
   "display_name": "Python 3.9.12 ('subpred')",
   "language": "python",
   "name": "python3"
  },
  "language_info": {
   "codemirror_mode": {
    "name": "ipython",
    "version": 3
   },
   "file_extension": ".py",
   "mimetype": "text/x-python",
   "name": "python",
   "nbconvert_exporter": "python",
   "pygments_lexer": "ipython3",
   "version": "3.9.12"
  },
  "vscode": {
   "interpreter": {
    "hash": "a3c5a88a8b1fa059748e807688afdff6c3f31eb23364e67d8e1c7f5771f5e23f"
   }
  }
 },
 "nbformat": 4,
 "nbformat_minor": 2
}
