{
 "cells": [
  {
   "cell_type": "markdown",
   "metadata": {},
   "source": [
    "# PAAC Feature evaluation\n",
    "\n",
    "During the dataset evaluation, we found that E Coli transports form its own cluster in the PCA plot. How does the model perform without E Coli transporters?"
   ]
  },
  {
   "cell_type": "markdown",
   "metadata": {},
   "source": [
    "# Imports"
   ]
  },
  {
   "cell_type": "code",
   "execution_count": 1,
   "metadata": {
    "execution": {
     "iopub.execute_input": "2022-07-27T17:01:48.686292Z",
     "iopub.status.busy": "2022-07-27T17:01:48.685723Z",
     "iopub.status.idle": "2022-07-27T17:01:49.337462Z",
     "shell.execute_reply": "2022-07-27T17:01:49.336882Z"
    }
   },
   "outputs": [],
   "source": [
    "from subpred.transporter_dataset import create_dataset\n",
    "from subpred.eval import (\n",
    "    get_independent_test_set,\n",
    "    optimize_hyperparams,\n",
    "    preprocess_pandas,\n",
    "    models_quick_compare,\n",
    "    get_confusion_matrix,\n",
    "    get_classification_report,\n",
    "    full_test\n",
    ")\n",
    "from subpred.compositions import calculate_paac"
   ]
  },
  {
   "cell_type": "markdown",
   "metadata": {},
   "source": [
    "# Dataset"
   ]
  },
  {
   "cell_type": "code",
   "execution_count": 2,
   "metadata": {
    "execution": {
     "iopub.execute_input": "2022-07-27T17:01:49.340511Z",
     "iopub.status.busy": "2022-07-27T17:01:49.340330Z",
     "iopub.status.idle": "2022-07-27T17:02:00.290004Z",
     "shell.execute_reply": "2022-07-27T17:02:00.289172Z"
    }
   },
   "outputs": [
    {
     "name": "stdout",
     "output_type": "stream",
     "text": [
      "cd-hit: clustered 314 sequences into 249 clusters at threshold 70\n"
     ]
    }
   ],
   "source": [
    "outliers = (\n",
    "    [\"Q9HBR0\", \"Q07837\"]  + [\"O81775\", \"Q9SW07\", \"Q9FHH5\", \"Q8S8A0\", \"Q3E965\", \"Q3EAV6\", \"Q3E8L0\"]\n",
    "    \n",
    ")\n",
    "df = create_dataset(\n",
    "    keywords_substrate_filter=[\"Amino-acid transport\", \"Sugar transport\"],\n",
    "    keywords_component_filter=[\"Transmembrane\"],\n",
    "    keywords_transport_filter=[\"Transport\"],\n",
    "    input_file=\"../data/raw/swissprot/uniprot-reviewed_yes.tab.gz\",\n",
    "    multi_substrate=\"integrate\",\n",
    "    verbose=True,\n",
    "    tax_ids_filter=[3702, 9606, 559292],\n",
    "    output_log=\"../logs/meta_amino_sugar_dataset.log\",\n",
    "    outliers=outliers,\n",
    "    sequence_clustering=70\n",
    ")\n",
    "taxid_to_organism = {\n",
    "    3702: \"A. thaliana\",\n",
    "    9606: \"Human\",\n",
    "    559292: \"Yeast\",\n",
    "}\n",
    "df = df.assign(organism=df.organism_id.map(taxid_to_organism))\n"
   ]
  },
  {
   "cell_type": "markdown",
   "metadata": {},
   "source": [
    "# Feature generation"
   ]
  },
  {
   "cell_type": "code",
   "execution_count": 3,
   "metadata": {
    "execution": {
     "iopub.execute_input": "2022-07-27T17:02:00.334285Z",
     "iopub.status.busy": "2022-07-27T17:02:00.333891Z",
     "iopub.status.idle": "2022-07-27T17:02:00.349813Z",
     "shell.execute_reply": "2022-07-27T17:02:00.349172Z"
    }
   },
   "outputs": [
    {
     "data": {
      "text/plain": [
       "Sugar transport         134\n",
       "Amino-acid transport    115\n",
       "Name: keywords_transport, dtype: int64"
      ]
     },
     "execution_count": 3,
     "metadata": {},
     "output_type": "execute_result"
    }
   ],
   "source": [
    "labels = df.keywords_transport\n",
    "labels.value_counts()"
   ]
  },
  {
   "cell_type": "code",
   "execution_count": 4,
   "metadata": {
    "execution": {
     "iopub.execute_input": "2022-07-27T17:02:00.353543Z",
     "iopub.status.busy": "2022-07-27T17:02:00.353239Z",
     "iopub.status.idle": "2022-07-27T17:02:00.538993Z",
     "shell.execute_reply": "2022-07-27T17:02:00.538473Z"
    }
   },
   "outputs": [
    {
     "data": {
      "text/html": [
       "<div>\n",
       "<style scoped>\n",
       "    .dataframe tbody tr th:only-of-type {\n",
       "        vertical-align: middle;\n",
       "    }\n",
       "\n",
       "    .dataframe tbody tr th {\n",
       "        vertical-align: top;\n",
       "    }\n",
       "\n",
       "    .dataframe thead th {\n",
       "        text-align: right;\n",
       "    }\n",
       "</style>\n",
       "<table border=\"1\" class=\"dataframe\">\n",
       "  <thead>\n",
       "    <tr style=\"text-align: right;\">\n",
       "      <th></th>\n",
       "      <th>AA</th>\n",
       "      <th>AC</th>\n",
       "      <th>AD</th>\n",
       "      <th>AE</th>\n",
       "      <th>AF</th>\n",
       "      <th>AG</th>\n",
       "      <th>AH</th>\n",
       "      <th>AI</th>\n",
       "      <th>AK</th>\n",
       "      <th>AL</th>\n",
       "      <th>...</th>\n",
       "      <th>YM</th>\n",
       "      <th>YN</th>\n",
       "      <th>YP</th>\n",
       "      <th>YQ</th>\n",
       "      <th>YR</th>\n",
       "      <th>YS</th>\n",
       "      <th>YT</th>\n",
       "      <th>YV</th>\n",
       "      <th>YW</th>\n",
       "      <th>YY</th>\n",
       "    </tr>\n",
       "    <tr>\n",
       "      <th>Uniprot</th>\n",
       "      <th></th>\n",
       "      <th></th>\n",
       "      <th></th>\n",
       "      <th></th>\n",
       "      <th></th>\n",
       "      <th></th>\n",
       "      <th></th>\n",
       "      <th></th>\n",
       "      <th></th>\n",
       "      <th></th>\n",
       "      <th></th>\n",
       "      <th></th>\n",
       "      <th></th>\n",
       "      <th></th>\n",
       "      <th></th>\n",
       "      <th></th>\n",
       "      <th></th>\n",
       "      <th></th>\n",
       "      <th></th>\n",
       "      <th></th>\n",
       "      <th></th>\n",
       "    </tr>\n",
       "  </thead>\n",
       "  <tbody>\n",
       "    <tr>\n",
       "      <th>Q9SFG0</th>\n",
       "      <td>0.005929</td>\n",
       "      <td>0.001976</td>\n",
       "      <td>0.000000</td>\n",
       "      <td>0.000000</td>\n",
       "      <td>0.005929</td>\n",
       "      <td>0.005929</td>\n",
       "      <td>0.000000</td>\n",
       "      <td>0.003953</td>\n",
       "      <td>0.003953</td>\n",
       "      <td>0.009881</td>\n",
       "      <td>...</td>\n",
       "      <td>0.001976</td>\n",
       "      <td>0.000000</td>\n",
       "      <td>0.000000</td>\n",
       "      <td>0.000000</td>\n",
       "      <td>0.001976</td>\n",
       "      <td>0.000000</td>\n",
       "      <td>0.000000</td>\n",
       "      <td>0.003953</td>\n",
       "      <td>0.000000</td>\n",
       "      <td>0.000000</td>\n",
       "    </tr>\n",
       "    <tr>\n",
       "      <th>Q08986</th>\n",
       "      <td>0.008532</td>\n",
       "      <td>0.000000</td>\n",
       "      <td>0.000000</td>\n",
       "      <td>0.006826</td>\n",
       "      <td>0.006826</td>\n",
       "      <td>0.003413</td>\n",
       "      <td>0.001706</td>\n",
       "      <td>0.008532</td>\n",
       "      <td>0.006826</td>\n",
       "      <td>0.015358</td>\n",
       "      <td>...</td>\n",
       "      <td>0.001706</td>\n",
       "      <td>0.001706</td>\n",
       "      <td>0.000000</td>\n",
       "      <td>0.001706</td>\n",
       "      <td>0.003413</td>\n",
       "      <td>0.001706</td>\n",
       "      <td>0.000000</td>\n",
       "      <td>0.003413</td>\n",
       "      <td>0.003413</td>\n",
       "      <td>0.001706</td>\n",
       "    </tr>\n",
       "    <tr>\n",
       "      <th>Q9BRV3</th>\n",
       "      <td>0.004545</td>\n",
       "      <td>0.004545</td>\n",
       "      <td>0.004545</td>\n",
       "      <td>0.000000</td>\n",
       "      <td>0.000000</td>\n",
       "      <td>0.009091</td>\n",
       "      <td>0.000000</td>\n",
       "      <td>0.000000</td>\n",
       "      <td>0.004545</td>\n",
       "      <td>0.009091</td>\n",
       "      <td>...</td>\n",
       "      <td>0.000000</td>\n",
       "      <td>0.000000</td>\n",
       "      <td>0.009091</td>\n",
       "      <td>0.000000</td>\n",
       "      <td>0.000000</td>\n",
       "      <td>0.000000</td>\n",
       "      <td>0.000000</td>\n",
       "      <td>0.000000</td>\n",
       "      <td>0.004545</td>\n",
       "      <td>0.000000</td>\n",
       "    </tr>\n",
       "    <tr>\n",
       "      <th>Q84WN3</th>\n",
       "      <td>0.004167</td>\n",
       "      <td>0.000000</td>\n",
       "      <td>0.000000</td>\n",
       "      <td>0.004167</td>\n",
       "      <td>0.004167</td>\n",
       "      <td>0.004167</td>\n",
       "      <td>0.000000</td>\n",
       "      <td>0.008333</td>\n",
       "      <td>0.004167</td>\n",
       "      <td>0.008333</td>\n",
       "      <td>...</td>\n",
       "      <td>0.004167</td>\n",
       "      <td>0.000000</td>\n",
       "      <td>0.000000</td>\n",
       "      <td>0.000000</td>\n",
       "      <td>0.004167</td>\n",
       "      <td>0.000000</td>\n",
       "      <td>0.000000</td>\n",
       "      <td>0.004167</td>\n",
       "      <td>0.000000</td>\n",
       "      <td>0.004167</td>\n",
       "    </tr>\n",
       "    <tr>\n",
       "      <th>O04249</th>\n",
       "      <td>0.005859</td>\n",
       "      <td>0.001953</td>\n",
       "      <td>0.000000</td>\n",
       "      <td>0.003906</td>\n",
       "      <td>0.009766</td>\n",
       "      <td>0.011719</td>\n",
       "      <td>0.001953</td>\n",
       "      <td>0.003906</td>\n",
       "      <td>0.001953</td>\n",
       "      <td>0.005859</td>\n",
       "      <td>...</td>\n",
       "      <td>0.000000</td>\n",
       "      <td>0.000000</td>\n",
       "      <td>0.000000</td>\n",
       "      <td>0.001953</td>\n",
       "      <td>0.000000</td>\n",
       "      <td>0.003906</td>\n",
       "      <td>0.000000</td>\n",
       "      <td>0.001953</td>\n",
       "      <td>0.000000</td>\n",
       "      <td>0.000000</td>\n",
       "    </tr>\n",
       "    <tr>\n",
       "      <th>...</th>\n",
       "      <td>...</td>\n",
       "      <td>...</td>\n",
       "      <td>...</td>\n",
       "      <td>...</td>\n",
       "      <td>...</td>\n",
       "      <td>...</td>\n",
       "      <td>...</td>\n",
       "      <td>...</td>\n",
       "      <td>...</td>\n",
       "      <td>...</td>\n",
       "      <td>...</td>\n",
       "      <td>...</td>\n",
       "      <td>...</td>\n",
       "      <td>...</td>\n",
       "      <td>...</td>\n",
       "      <td>...</td>\n",
       "      <td>...</td>\n",
       "      <td>...</td>\n",
       "      <td>...</td>\n",
       "      <td>...</td>\n",
       "      <td>...</td>\n",
       "    </tr>\n",
       "    <tr>\n",
       "      <th>Q94EI9</th>\n",
       "      <td>0.005900</td>\n",
       "      <td>0.000000</td>\n",
       "      <td>0.005900</td>\n",
       "      <td>0.005900</td>\n",
       "      <td>0.002950</td>\n",
       "      <td>0.008850</td>\n",
       "      <td>0.000000</td>\n",
       "      <td>0.011799</td>\n",
       "      <td>0.000000</td>\n",
       "      <td>0.014749</td>\n",
       "      <td>...</td>\n",
       "      <td>0.000000</td>\n",
       "      <td>0.002950</td>\n",
       "      <td>0.002950</td>\n",
       "      <td>0.002950</td>\n",
       "      <td>0.000000</td>\n",
       "      <td>0.000000</td>\n",
       "      <td>0.000000</td>\n",
       "      <td>0.005900</td>\n",
       "      <td>0.000000</td>\n",
       "      <td>0.002950</td>\n",
       "    </tr>\n",
       "    <tr>\n",
       "      <th>Q92536</th>\n",
       "      <td>0.005837</td>\n",
       "      <td>0.003891</td>\n",
       "      <td>0.001946</td>\n",
       "      <td>0.003891</td>\n",
       "      <td>0.005837</td>\n",
       "      <td>0.000000</td>\n",
       "      <td>0.000000</td>\n",
       "      <td>0.011673</td>\n",
       "      <td>0.001946</td>\n",
       "      <td>0.015564</td>\n",
       "      <td>...</td>\n",
       "      <td>0.000000</td>\n",
       "      <td>0.000000</td>\n",
       "      <td>0.000000</td>\n",
       "      <td>0.000000</td>\n",
       "      <td>0.000000</td>\n",
       "      <td>0.003891</td>\n",
       "      <td>0.001946</td>\n",
       "      <td>0.001946</td>\n",
       "      <td>0.001946</td>\n",
       "      <td>0.001946</td>\n",
       "    </tr>\n",
       "    <tr>\n",
       "      <th>F4IHS9</th>\n",
       "      <td>0.002933</td>\n",
       "      <td>0.000000</td>\n",
       "      <td>0.000000</td>\n",
       "      <td>0.000000</td>\n",
       "      <td>0.002933</td>\n",
       "      <td>0.002933</td>\n",
       "      <td>0.000000</td>\n",
       "      <td>0.008798</td>\n",
       "      <td>0.002933</td>\n",
       "      <td>0.005865</td>\n",
       "      <td>...</td>\n",
       "      <td>0.000000</td>\n",
       "      <td>0.000000</td>\n",
       "      <td>0.000000</td>\n",
       "      <td>0.008798</td>\n",
       "      <td>0.000000</td>\n",
       "      <td>0.005865</td>\n",
       "      <td>0.002933</td>\n",
       "      <td>0.000000</td>\n",
       "      <td>0.000000</td>\n",
       "      <td>0.000000</td>\n",
       "    </tr>\n",
       "    <tr>\n",
       "      <th>Q04162</th>\n",
       "      <td>0.005415</td>\n",
       "      <td>0.001805</td>\n",
       "      <td>0.001805</td>\n",
       "      <td>0.000000</td>\n",
       "      <td>0.007220</td>\n",
       "      <td>0.000000</td>\n",
       "      <td>0.000000</td>\n",
       "      <td>0.014440</td>\n",
       "      <td>0.000000</td>\n",
       "      <td>0.009025</td>\n",
       "      <td>...</td>\n",
       "      <td>0.001805</td>\n",
       "      <td>0.000000</td>\n",
       "      <td>0.003610</td>\n",
       "      <td>0.000000</td>\n",
       "      <td>0.000000</td>\n",
       "      <td>0.003610</td>\n",
       "      <td>0.003610</td>\n",
       "      <td>0.005415</td>\n",
       "      <td>0.000000</td>\n",
       "      <td>0.001805</td>\n",
       "    </tr>\n",
       "    <tr>\n",
       "      <th>P48813</th>\n",
       "      <td>0.007553</td>\n",
       "      <td>0.001511</td>\n",
       "      <td>0.003021</td>\n",
       "      <td>0.003021</td>\n",
       "      <td>0.007553</td>\n",
       "      <td>0.004532</td>\n",
       "      <td>0.000000</td>\n",
       "      <td>0.007553</td>\n",
       "      <td>0.004532</td>\n",
       "      <td>0.006042</td>\n",
       "      <td>...</td>\n",
       "      <td>0.000000</td>\n",
       "      <td>0.000000</td>\n",
       "      <td>0.001511</td>\n",
       "      <td>0.000000</td>\n",
       "      <td>0.001511</td>\n",
       "      <td>0.001511</td>\n",
       "      <td>0.003021</td>\n",
       "      <td>0.003021</td>\n",
       "      <td>0.004532</td>\n",
       "      <td>0.000000</td>\n",
       "    </tr>\n",
       "  </tbody>\n",
       "</table>\n",
       "<p>249 rows × 400 columns</p>\n",
       "</div>"
      ],
      "text/plain": [
       "               AA        AC        AD        AE        AF        AG        AH  \\\n",
       "Uniprot                                                                         \n",
       "Q9SFG0   0.005929  0.001976  0.000000  0.000000  0.005929  0.005929  0.000000   \n",
       "Q08986   0.008532  0.000000  0.000000  0.006826  0.006826  0.003413  0.001706   \n",
       "Q9BRV3   0.004545  0.004545  0.004545  0.000000  0.000000  0.009091  0.000000   \n",
       "Q84WN3   0.004167  0.000000  0.000000  0.004167  0.004167  0.004167  0.000000   \n",
       "O04249   0.005859  0.001953  0.000000  0.003906  0.009766  0.011719  0.001953   \n",
       "...           ...       ...       ...       ...       ...       ...       ...   \n",
       "Q94EI9   0.005900  0.000000  0.005900  0.005900  0.002950  0.008850  0.000000   \n",
       "Q92536   0.005837  0.003891  0.001946  0.003891  0.005837  0.000000  0.000000   \n",
       "F4IHS9   0.002933  0.000000  0.000000  0.000000  0.002933  0.002933  0.000000   \n",
       "Q04162   0.005415  0.001805  0.001805  0.000000  0.007220  0.000000  0.000000   \n",
       "P48813   0.007553  0.001511  0.003021  0.003021  0.007553  0.004532  0.000000   \n",
       "\n",
       "               AI        AK        AL  ...        YM        YN        YP  \\\n",
       "Uniprot                                ...                                 \n",
       "Q9SFG0   0.003953  0.003953  0.009881  ...  0.001976  0.000000  0.000000   \n",
       "Q08986   0.008532  0.006826  0.015358  ...  0.001706  0.001706  0.000000   \n",
       "Q9BRV3   0.000000  0.004545  0.009091  ...  0.000000  0.000000  0.009091   \n",
       "Q84WN3   0.008333  0.004167  0.008333  ...  0.004167  0.000000  0.000000   \n",
       "O04249   0.003906  0.001953  0.005859  ...  0.000000  0.000000  0.000000   \n",
       "...           ...       ...       ...  ...       ...       ...       ...   \n",
       "Q94EI9   0.011799  0.000000  0.014749  ...  0.000000  0.002950  0.002950   \n",
       "Q92536   0.011673  0.001946  0.015564  ...  0.000000  0.000000  0.000000   \n",
       "F4IHS9   0.008798  0.002933  0.005865  ...  0.000000  0.000000  0.000000   \n",
       "Q04162   0.014440  0.000000  0.009025  ...  0.001805  0.000000  0.003610   \n",
       "P48813   0.007553  0.004532  0.006042  ...  0.000000  0.000000  0.001511   \n",
       "\n",
       "               YQ        YR        YS        YT        YV        YW        YY  \n",
       "Uniprot                                                                        \n",
       "Q9SFG0   0.000000  0.001976  0.000000  0.000000  0.003953  0.000000  0.000000  \n",
       "Q08986   0.001706  0.003413  0.001706  0.000000  0.003413  0.003413  0.001706  \n",
       "Q9BRV3   0.000000  0.000000  0.000000  0.000000  0.000000  0.004545  0.000000  \n",
       "Q84WN3   0.000000  0.004167  0.000000  0.000000  0.004167  0.000000  0.004167  \n",
       "O04249   0.001953  0.000000  0.003906  0.000000  0.001953  0.000000  0.000000  \n",
       "...           ...       ...       ...       ...       ...       ...       ...  \n",
       "Q94EI9   0.002950  0.000000  0.000000  0.000000  0.005900  0.000000  0.002950  \n",
       "Q92536   0.000000  0.000000  0.003891  0.001946  0.001946  0.001946  0.001946  \n",
       "F4IHS9   0.008798  0.000000  0.005865  0.002933  0.000000  0.000000  0.000000  \n",
       "Q04162   0.000000  0.000000  0.003610  0.003610  0.005415  0.000000  0.001805  \n",
       "P48813   0.000000  0.001511  0.001511  0.003021  0.003021  0.004532  0.000000  \n",
       "\n",
       "[249 rows x 400 columns]"
      ]
     },
     "execution_count": 4,
     "metadata": {},
     "output_type": "execute_result"
    }
   ],
   "source": [
    "df_paac = calculate_paac(df.sequence)\n",
    "df_paac"
   ]
  },
  {
   "cell_type": "markdown",
   "metadata": {},
   "source": [
    "## Independent test set"
   ]
  },
  {
   "cell_type": "code",
   "execution_count": 5,
   "metadata": {
    "execution": {
     "iopub.execute_input": "2022-07-27T17:02:00.544265Z",
     "iopub.status.busy": "2022-07-27T17:02:00.543962Z",
     "iopub.status.idle": "2022-07-27T17:02:00.552511Z",
     "shell.execute_reply": "2022-07-27T17:02:00.551787Z"
    }
   },
   "outputs": [],
   "source": [
    "X, y, feature_names, sample_names = preprocess_pandas(\n",
    "    df_paac, labels, return_names=True\n",
    ")\n",
    "(\n",
    "    X_train,\n",
    "    X_test,\n",
    "    y_train,\n",
    "    y_test,\n",
    "    sample_names_train,\n",
    "    sample_names_test,\n",
    ") = get_independent_test_set(X, y, sample_names=sample_names, test_size=0.2)"
   ]
  },
  {
   "cell_type": "markdown",
   "metadata": {},
   "source": [
    "## Model comparison\n",
    "\n"
   ]
  },
  {
   "cell_type": "code",
   "execution_count": 6,
   "metadata": {
    "execution": {
     "iopub.execute_input": "2022-07-27T17:02:00.556363Z",
     "iopub.status.busy": "2022-07-27T17:02:00.556009Z",
     "iopub.status.idle": "2022-07-27T17:02:02.286291Z",
     "shell.execute_reply": "2022-07-27T17:02:02.285944Z"
    }
   },
   "outputs": [
    {
     "data": {
      "text/html": [
       "<div>\n",
       "<style scoped>\n",
       "    .dataframe tbody tr th:only-of-type {\n",
       "        vertical-align: middle;\n",
       "    }\n",
       "\n",
       "    .dataframe tbody tr th {\n",
       "        vertical-align: top;\n",
       "    }\n",
       "\n",
       "    .dataframe thead th {\n",
       "        text-align: right;\n",
       "    }\n",
       "</style>\n",
       "<table border=\"1\" class=\"dataframe\">\n",
       "  <thead>\n",
       "    <tr style=\"text-align: right;\">\n",
       "      <th></th>\n",
       "      <th>0</th>\n",
       "      <th>1</th>\n",
       "      <th>2</th>\n",
       "      <th>3</th>\n",
       "      <th>4</th>\n",
       "      <th>mean</th>\n",
       "      <th>std</th>\n",
       "    </tr>\n",
       "    <tr>\n",
       "      <th>est</th>\n",
       "      <th></th>\n",
       "      <th></th>\n",
       "      <th></th>\n",
       "      <th></th>\n",
       "      <th></th>\n",
       "      <th></th>\n",
       "      <th></th>\n",
       "    </tr>\n",
       "  </thead>\n",
       "  <tbody>\n",
       "    <tr>\n",
       "      <th>GaussianNB()</th>\n",
       "      <td>0.824</td>\n",
       "      <td>0.749</td>\n",
       "      <td>0.774</td>\n",
       "      <td>0.749</td>\n",
       "      <td>0.795</td>\n",
       "      <td>0.778</td>\n",
       "      <td>0.032</td>\n",
       "    </tr>\n",
       "    <tr>\n",
       "      <th>KNeighborsClassifier()</th>\n",
       "      <td>0.774</td>\n",
       "      <td>0.635</td>\n",
       "      <td>0.749</td>\n",
       "      <td>0.749</td>\n",
       "      <td>0.715</td>\n",
       "      <td>0.725</td>\n",
       "      <td>0.054</td>\n",
       "    </tr>\n",
       "    <tr>\n",
       "      <th>LinearSVC(class_weight='balanced', max_iter=1000000.0, random_state=0)</th>\n",
       "      <td>0.875</td>\n",
       "      <td>0.749</td>\n",
       "      <td>0.750</td>\n",
       "      <td>0.775</td>\n",
       "      <td>0.845</td>\n",
       "      <td>0.799</td>\n",
       "      <td>0.058</td>\n",
       "    </tr>\n",
       "    <tr>\n",
       "      <th>LinearSVC(max_iter=1000000.0, random_state=0)</th>\n",
       "      <td>0.875</td>\n",
       "      <td>0.749</td>\n",
       "      <td>0.750</td>\n",
       "      <td>0.775</td>\n",
       "      <td>0.845</td>\n",
       "      <td>0.799</td>\n",
       "      <td>0.058</td>\n",
       "    </tr>\n",
       "    <tr>\n",
       "      <th>RandomForestClassifier(class_weight='balanced', random_state=0)</th>\n",
       "      <td>0.819</td>\n",
       "      <td>0.822</td>\n",
       "      <td>0.795</td>\n",
       "      <td>0.768</td>\n",
       "      <td>0.717</td>\n",
       "      <td>0.784</td>\n",
       "      <td>0.044</td>\n",
       "    </tr>\n",
       "    <tr>\n",
       "      <th>RandomForestClassifier(random_state=0)</th>\n",
       "      <td>0.763</td>\n",
       "      <td>0.822</td>\n",
       "      <td>0.740</td>\n",
       "      <td>0.768</td>\n",
       "      <td>0.743</td>\n",
       "      <td>0.767</td>\n",
       "      <td>0.033</td>\n",
       "    </tr>\n",
       "    <tr>\n",
       "      <th>SGDClassifier(random_state=0)</th>\n",
       "      <td>0.850</td>\n",
       "      <td>0.670</td>\n",
       "      <td>0.848</td>\n",
       "      <td>0.775</td>\n",
       "      <td>0.820</td>\n",
       "      <td>0.793</td>\n",
       "      <td>0.075</td>\n",
       "    </tr>\n",
       "    <tr>\n",
       "      <th>SVC(class_weight='balanced', random_state=0)</th>\n",
       "      <td>0.899</td>\n",
       "      <td>0.799</td>\n",
       "      <td>0.819</td>\n",
       "      <td>0.898</td>\n",
       "      <td>0.844</td>\n",
       "      <td>0.852</td>\n",
       "      <td>0.045</td>\n",
       "    </tr>\n",
       "    <tr>\n",
       "      <th>SVC(random_state=0)</th>\n",
       "      <td>0.899</td>\n",
       "      <td>0.824</td>\n",
       "      <td>0.819</td>\n",
       "      <td>0.898</td>\n",
       "      <td>0.816</td>\n",
       "      <td>0.851</td>\n",
       "      <td>0.043</td>\n",
       "    </tr>\n",
       "  </tbody>\n",
       "</table>\n",
       "</div>"
      ],
      "text/plain": [
       "                                                        0      1      2  \\\n",
       "est                                                                       \n",
       "GaussianNB()                                        0.824  0.749  0.774   \n",
       "KNeighborsClassifier()                              0.774  0.635  0.749   \n",
       "LinearSVC(class_weight='balanced', max_iter=100...  0.875  0.749  0.750   \n",
       "LinearSVC(max_iter=1000000.0, random_state=0)       0.875  0.749  0.750   \n",
       "RandomForestClassifier(class_weight='balanced',...  0.819  0.822  0.795   \n",
       "RandomForestClassifier(random_state=0)              0.763  0.822  0.740   \n",
       "SGDClassifier(random_state=0)                       0.850  0.670  0.848   \n",
       "SVC(class_weight='balanced', random_state=0)        0.899  0.799  0.819   \n",
       "SVC(random_state=0)                                 0.899  0.824  0.819   \n",
       "\n",
       "                                                        3      4   mean    std  \n",
       "est                                                                             \n",
       "GaussianNB()                                        0.749  0.795  0.778  0.032  \n",
       "KNeighborsClassifier()                              0.749  0.715  0.725  0.054  \n",
       "LinearSVC(class_weight='balanced', max_iter=100...  0.775  0.845  0.799  0.058  \n",
       "LinearSVC(max_iter=1000000.0, random_state=0)       0.775  0.845  0.799  0.058  \n",
       "RandomForestClassifier(class_weight='balanced',...  0.768  0.717  0.784  0.044  \n",
       "RandomForestClassifier(random_state=0)              0.768  0.743  0.767  0.033  \n",
       "SGDClassifier(random_state=0)                       0.775  0.820  0.793  0.075  \n",
       "SVC(class_weight='balanced', random_state=0)        0.898  0.844  0.852  0.045  \n",
       "SVC(random_state=0)                                 0.898  0.816  0.851  0.043  "
      ]
     },
     "execution_count": 6,
     "metadata": {},
     "output_type": "execute_result"
    }
   ],
   "source": [
    "models_quick_compare(X_train, y_train)"
   ]
  },
  {
   "cell_type": "markdown",
   "metadata": {},
   "source": [
    "## Parameter tuning\n",
    "\n",
    "RBF kernel delivers better results when using all features, with default parameters. "
   ]
  },
  {
   "cell_type": "code",
   "execution_count": 7,
   "metadata": {
    "execution": {
     "iopub.execute_input": "2022-07-27T17:02:02.291599Z",
     "iopub.status.busy": "2022-07-27T17:02:02.291417Z",
     "iopub.status.idle": "2022-07-27T17:02:05.259141Z",
     "shell.execute_reply": "2022-07-27T17:02:05.258445Z"
    }
   },
   "outputs": [
    {
     "name": "stdout",
     "output_type": "stream",
     "text": [
      "{'linearsvc__C': 0.0001, 'linearsvc__class_weight': 'balanced', 'linearsvc__dual': True, 'linearsvc__max_iter': 100000000.0}\n",
      "0.834\n"
     ]
    }
   ],
   "source": [
    "gsearch = optimize_hyperparams(X_train, y_train, kernel=\"linear\", C=[0.0001, 0.001, 0.01, 0.1, 1, 10])\n",
    "best_estimator_lsvc = gsearch"
   ]
  },
  {
   "cell_type": "code",
   "execution_count": 8,
   "metadata": {
    "execution": {
     "iopub.execute_input": "2022-07-27T17:02:05.262053Z",
     "iopub.status.busy": "2022-07-27T17:02:05.261751Z",
     "iopub.status.idle": "2022-07-27T17:02:05.595074Z",
     "shell.execute_reply": "2022-07-27T17:02:05.594257Z"
    }
   },
   "outputs": [
    {
     "name": "stdout",
     "output_type": "stream",
     "text": [
      "{'svc__C': 1, 'svc__class_weight': 'balanced', 'svc__gamma': 'scale'}\n",
      "0.852\n"
     ]
    }
   ],
   "source": [
    "gsearch = optimize_hyperparams(\n",
    "    X_train, y_train, kernel=\"rbf\", C=[0.1, 1, 10, 100]\n",
    ")\n",
    "best_estimator_svc = gsearch"
   ]
  },
  {
   "cell_type": "markdown",
   "metadata": {},
   "source": [
    "## Dimensionality reduction"
   ]
  },
  {
   "cell_type": "markdown",
   "metadata": {},
   "source": [
    "### Linear kernel"
   ]
  },
  {
   "cell_type": "markdown",
   "metadata": {},
   "source": [
    "PCA leads to minor improvements:"
   ]
  },
  {
   "cell_type": "code",
   "execution_count": 9,
   "metadata": {
    "execution": {
     "iopub.execute_input": "2022-07-27T17:02:05.597896Z",
     "iopub.status.busy": "2022-07-27T17:02:05.597619Z",
     "iopub.status.idle": "2022-07-27T17:02:09.083795Z",
     "shell.execute_reply": "2022-07-27T17:02:09.083052Z"
    }
   },
   "outputs": [
    {
     "name": "stdout",
     "output_type": "stream",
     "text": [
      "{'linearsvc__C': 1, 'linearsvc__class_weight': 'balanced', 'linearsvc__dual': False, 'linearsvc__max_iter': 100000000.0, 'pca__n_components': 0.97}\n",
      "0.838\n"
     ]
    }
   ],
   "source": [
    "gsearch = optimize_hyperparams(\n",
    "    X_train,\n",
    "    y_train,\n",
    "    kernel=\"linear\",\n",
    "    dim_reduction=\"pca\",\n",
    "    C=[1, 0.01, 0.1, 10],\n",
    ")\n",
    "best_estimator_lsvc_pca = gsearch"
   ]
  },
  {
   "cell_type": "markdown",
   "metadata": {},
   "source": [
    "Kbest perform worse with the linear kernel:"
   ]
  },
  {
   "cell_type": "code",
   "execution_count": 10,
   "metadata": {
    "execution": {
     "iopub.execute_input": "2022-07-27T17:02:09.089068Z",
     "iopub.status.busy": "2022-07-27T17:02:09.088497Z",
     "iopub.status.idle": "2022-07-27T17:02:11.377111Z",
     "shell.execute_reply": "2022-07-27T17:02:11.376633Z"
    }
   },
   "outputs": [
    {
     "name": "stdout",
     "output_type": "stream",
     "text": [
      "{'linearsvc__C': 10, 'linearsvc__class_weight': 'balanced', 'linearsvc__dual': False, 'linearsvc__max_iter': 100000000.0, 'selectkbest__k': 341}\n",
      "0.809\n"
     ]
    }
   ],
   "source": [
    "gsearch = optimize_hyperparams(\n",
    "    X_train,\n",
    "    y_train,\n",
    "    kernel=\"linear\",\n",
    "    dim_reduction=\"kbest\",\n",
    "    select_k_steps=20,\n",
    "    remove_zero_var=True,\n",
    "    C=[0.1, 1, 10],\n",
    ")\n",
    "best_estimator_lsvc_kbest = gsearch"
   ]
  },
  {
   "cell_type": "markdown",
   "metadata": {},
   "source": [
    "#### RBF"
   ]
  },
  {
   "cell_type": "code",
   "execution_count": 11,
   "metadata": {
    "execution": {
     "iopub.execute_input": "2022-07-27T17:02:11.379614Z",
     "iopub.status.busy": "2022-07-27T17:02:11.379417Z",
     "iopub.status.idle": "2022-07-27T17:02:17.387589Z",
     "shell.execute_reply": "2022-07-27T17:02:17.386840Z"
    }
   },
   "outputs": [
    {
     "name": "stdout",
     "output_type": "stream",
     "text": [
      "{'pca__n_components': 0.97, 'svc__C': 1, 'svc__class_weight': None, 'svc__gamma': 0.01}\n",
      "0.837\n"
     ]
    }
   ],
   "source": [
    "gsearch = optimize_hyperparams(\n",
    "    X_train,\n",
    "    y_train,\n",
    "    kernel=\"rbf\",\n",
    "    dim_reduction=\"pca\",\n",
    "    C=[0.1, 1, 10, 100],\n",
    "    # gamma = [1e-0, 1e-1, 1e-2, 1e-3,\"scale\"]\n",
    ")\n",
    "best_estimator_svc_pca = gsearch"
   ]
  },
  {
   "cell_type": "markdown",
   "metadata": {},
   "source": [
    "With the RBF kernel, the kbest model performs the best. It removes more than half of the features, in contrast to the full dataset, where it only removed 29."
   ]
  },
  {
   "cell_type": "code",
   "execution_count": 12,
   "metadata": {
    "execution": {
     "iopub.execute_input": "2022-07-27T17:02:17.392471Z",
     "iopub.status.busy": "2022-07-27T17:02:17.391542Z",
     "iopub.status.idle": "2022-07-27T17:02:28.129965Z",
     "shell.execute_reply": "2022-07-27T17:02:28.129499Z"
    }
   },
   "outputs": [
    {
     "name": "stdout",
     "output_type": "stream",
     "text": [
      "{'selectkbest__k': 141, 'svc__C': 1, 'svc__class_weight': 'balanced', 'svc__gamma': 'scale'}\n",
      "0.868\n"
     ]
    }
   ],
   "source": [
    "gsearch = optimize_hyperparams(\n",
    "    X_train,\n",
    "    y_train,\n",
    "    kernel=\"rbf\",\n",
    "    dim_reduction=\"kbest\",\n",
    "    select_k_steps=10,\n",
    "    remove_zero_var=True,\n",
    "    C=[0.1, 1, 10, 100],\n",
    ")\n",
    "best_estimator_svc_kbest = gsearch"
   ]
  },
  {
   "cell_type": "code",
   "execution_count": 13,
   "metadata": {
    "execution": {
     "iopub.execute_input": "2022-07-27T17:02:28.135143Z",
     "iopub.status.busy": "2022-07-27T17:02:28.134856Z",
     "iopub.status.idle": "2022-07-27T17:02:28.140034Z",
     "shell.execute_reply": "2022-07-27T17:02:28.139645Z"
    }
   },
   "outputs": [
    {
     "data": {
      "text/plain": [
       "array(['AA', 'AC', 'AD', 'AE', 'AG', 'AH', 'AQ', 'AR', 'AS', 'AT', 'AV',\n",
       "       'CA', 'CC', 'CD', 'CE', 'CG', 'CI', 'CK', 'CL', 'CM', 'CN', 'CP',\n",
       "       'CQ', 'CR', 'CS', 'CT', 'CW', 'DA', 'DD', 'DE', 'DF', 'DG', 'DH',\n",
       "       'DK', 'DL', 'DN', 'DQ', 'DR', 'DT', 'DV', 'DY', 'EA', 'EE', 'EG',\n",
       "       'EK', 'EM', 'EQ', 'ER', 'ES', 'EV', 'EW', 'EY', 'FA', 'FD', 'FE',\n",
       "       'FF', 'FK', 'FM', 'FN', 'FR', 'FS', 'FT', 'FV', 'FY', 'GG', 'GK',\n",
       "       'GL', 'GN', 'GP', 'GS', 'GY', 'HA', 'HD', 'HE', 'HK', 'HM', 'HP',\n",
       "       'HQ', 'HR', 'HS', 'HT', 'HV', 'HW', 'IA', 'IC', 'ID', 'IE', 'IF',\n",
       "       'IG', 'IK', 'IL', 'IM', 'IN', 'IQ', 'IS', 'IT', 'IY', 'KA', 'KD',\n",
       "       'KE', 'KF', 'KG', 'KH', 'KI', 'KK', 'KL', 'KM', 'KP', 'KQ', 'KR',\n",
       "       'KS', 'KV', 'KW', 'LA', 'LC', 'LE', 'LG', 'LH', 'LK', 'LL', 'LN',\n",
       "       'LR', 'LS', 'LT', 'LV', 'LW', 'MA', 'ME', 'MK', 'ML', 'MN', 'MP',\n",
       "       'MQ', 'MR', 'MS', 'MV', 'NA', 'NC', 'NE', 'NF', 'NG', 'NH', 'NI',\n",
       "       'NM', 'NN', 'NQ', 'NR', 'NS', 'NT', 'NV', 'NY', 'PA', 'PC', 'PF',\n",
       "       'PH', 'PI', 'PL', 'PM', 'PN', 'PP', 'PR', 'PS', 'PT', 'PV', 'QA',\n",
       "       'QC', 'QD', 'QE', 'QF', 'QG', 'QH', 'QK', 'QL', 'QN', 'QP', 'QR',\n",
       "       'QS', 'QT', 'QV', 'QW', 'QY', 'RC', 'RD', 'RI', 'RL', 'RP', 'RQ',\n",
       "       'RS', 'RT', 'RW', 'RY', 'SA', 'SC', 'SF', 'SG', 'SH', 'SI', 'SK',\n",
       "       'SM', 'SN', 'SS', 'ST', 'SW', 'TA', 'TC', 'TD', 'TE', 'TH', 'TI',\n",
       "       'TL', 'TM', 'TN', 'TP', 'TR', 'TS', 'TT', 'TV', 'TW', 'VA', 'VC',\n",
       "       'VD', 'VE', 'VF', 'VH', 'VI', 'VK', 'VL', 'VN', 'VP', 'VQ', 'VR',\n",
       "       'VT', 'VV', 'VY', 'WC', 'WD', 'WE', 'WF', 'WG', 'WK', 'WL', 'WN',\n",
       "       'WP', 'WQ', 'WR', 'WT', 'WV', 'WY', 'YA', 'YD', 'YF', 'YH', 'YI',\n",
       "       'YM', 'YN', 'YP', 'YT', 'YV', 'YY'], dtype='<U2')"
      ]
     },
     "execution_count": 13,
     "metadata": {},
     "output_type": "execute_result"
    }
   ],
   "source": [
    "feature_names[~best_estimator_svc_kbest.best_estimator_[\"selectkbest\"].get_support()]"
   ]
  },
  {
   "cell_type": "markdown",
   "metadata": {},
   "source": [
    "The linear kernel with feature selection shows the best result here."
   ]
  },
  {
   "cell_type": "markdown",
   "metadata": {},
   "source": [
    "## Validation\n",
    "\n",
    "RBF with PCA delivers the best results on the test set, but in a less balanced way with six mis-classified sugar transporters and one AA transporters, compared to the other models."
   ]
  },
  {
   "cell_type": "markdown",
   "metadata": {},
   "source": [
    "### Linear kernel"
   ]
  },
  {
   "cell_type": "code",
   "execution_count": 14,
   "metadata": {
    "execution": {
     "iopub.execute_input": "2022-07-27T17:02:28.145451Z",
     "iopub.status.busy": "2022-07-27T17:02:28.145277Z",
     "iopub.status.idle": "2022-07-27T17:02:28.165599Z",
     "shell.execute_reply": "2022-07-27T17:02:28.165032Z"
    }
   },
   "outputs": [
    {
     "data": {
      "text/html": [
       "<div>\n",
       "<style scoped>\n",
       "    .dataframe tbody tr th:only-of-type {\n",
       "        vertical-align: middle;\n",
       "    }\n",
       "\n",
       "    .dataframe tbody tr th {\n",
       "        vertical-align: top;\n",
       "    }\n",
       "\n",
       "    .dataframe thead th {\n",
       "        text-align: right;\n",
       "    }\n",
       "</style>\n",
       "<table border=\"1\" class=\"dataframe\">\n",
       "  <thead>\n",
       "    <tr style=\"text-align: right;\">\n",
       "      <th>predicted</th>\n",
       "      <th>Amino-acid transport</th>\n",
       "      <th>Sugar transport</th>\n",
       "    </tr>\n",
       "    <tr>\n",
       "      <th>observed</th>\n",
       "      <th></th>\n",
       "      <th></th>\n",
       "    </tr>\n",
       "  </thead>\n",
       "  <tbody>\n",
       "    <tr>\n",
       "      <th>Amino-acid transport</th>\n",
       "      <td>17</td>\n",
       "      <td>6</td>\n",
       "    </tr>\n",
       "    <tr>\n",
       "      <th>Sugar transport</th>\n",
       "      <td>6</td>\n",
       "      <td>21</td>\n",
       "    </tr>\n",
       "  </tbody>\n",
       "</table>\n",
       "</div>"
      ],
      "text/plain": [
       "predicted             Amino-acid transport  Sugar transport\n",
       "observed                                                   \n",
       "Amino-acid transport                    17                6\n",
       "Sugar transport                          6               21"
      ]
     },
     "metadata": {},
     "output_type": "display_data"
    },
    {
     "data": {
      "text/html": [
       "<div>\n",
       "<style scoped>\n",
       "    .dataframe tbody tr th:only-of-type {\n",
       "        vertical-align: middle;\n",
       "    }\n",
       "\n",
       "    .dataframe tbody tr th {\n",
       "        vertical-align: top;\n",
       "    }\n",
       "\n",
       "    .dataframe thead th {\n",
       "        text-align: right;\n",
       "    }\n",
       "</style>\n",
       "<table border=\"1\" class=\"dataframe\">\n",
       "  <thead>\n",
       "    <tr style=\"text-align: right;\">\n",
       "      <th></th>\n",
       "      <th>precision</th>\n",
       "      <th>recall</th>\n",
       "      <th>f1-score</th>\n",
       "      <th>support</th>\n",
       "    </tr>\n",
       "  </thead>\n",
       "  <tbody>\n",
       "    <tr>\n",
       "      <th>Amino-acid transport</th>\n",
       "      <td>0.739</td>\n",
       "      <td>0.739</td>\n",
       "      <td>0.739</td>\n",
       "      <td>23</td>\n",
       "    </tr>\n",
       "    <tr>\n",
       "      <th>Sugar transport</th>\n",
       "      <td>0.778</td>\n",
       "      <td>0.778</td>\n",
       "      <td>0.778</td>\n",
       "      <td>27</td>\n",
       "    </tr>\n",
       "    <tr>\n",
       "      <th>macro avg</th>\n",
       "      <td>0.758</td>\n",
       "      <td>0.758</td>\n",
       "      <td>0.758</td>\n",
       "      <td>50</td>\n",
       "    </tr>\n",
       "    <tr>\n",
       "      <th>weighted avg</th>\n",
       "      <td>0.760</td>\n",
       "      <td>0.760</td>\n",
       "      <td>0.760</td>\n",
       "      <td>50</td>\n",
       "    </tr>\n",
       "  </tbody>\n",
       "</table>\n",
       "</div>"
      ],
      "text/plain": [
       "                      precision  recall  f1-score  support\n",
       "Amino-acid transport      0.739   0.739     0.739       23\n",
       "Sugar transport           0.778   0.778     0.778       27\n",
       "macro avg                 0.758   0.758     0.758       50\n",
       "weighted avg              0.760   0.760     0.760       50"
      ]
     },
     "metadata": {},
     "output_type": "display_data"
    }
   ],
   "source": [
    "display(get_confusion_matrix(X_test, y_test, best_estimator_lsvc, labels=labels))\n",
    "display(get_classification_report(X_test, y_test, best_estimator_lsvc, labels=labels))"
   ]
  },
  {
   "cell_type": "code",
   "execution_count": 15,
   "metadata": {
    "execution": {
     "iopub.execute_input": "2022-07-27T17:02:28.169005Z",
     "iopub.status.busy": "2022-07-27T17:02:28.168808Z",
     "iopub.status.idle": "2022-07-27T17:02:28.188612Z",
     "shell.execute_reply": "2022-07-27T17:02:28.188053Z"
    }
   },
   "outputs": [
    {
     "data": {
      "text/html": [
       "<div>\n",
       "<style scoped>\n",
       "    .dataframe tbody tr th:only-of-type {\n",
       "        vertical-align: middle;\n",
       "    }\n",
       "\n",
       "    .dataframe tbody tr th {\n",
       "        vertical-align: top;\n",
       "    }\n",
       "\n",
       "    .dataframe thead th {\n",
       "        text-align: right;\n",
       "    }\n",
       "</style>\n",
       "<table border=\"1\" class=\"dataframe\">\n",
       "  <thead>\n",
       "    <tr style=\"text-align: right;\">\n",
       "      <th>predicted</th>\n",
       "      <th>Amino-acid transport</th>\n",
       "      <th>Sugar transport</th>\n",
       "    </tr>\n",
       "    <tr>\n",
       "      <th>observed</th>\n",
       "      <th></th>\n",
       "      <th></th>\n",
       "    </tr>\n",
       "  </thead>\n",
       "  <tbody>\n",
       "    <tr>\n",
       "      <th>Amino-acid transport</th>\n",
       "      <td>16</td>\n",
       "      <td>7</td>\n",
       "    </tr>\n",
       "    <tr>\n",
       "      <th>Sugar transport</th>\n",
       "      <td>4</td>\n",
       "      <td>23</td>\n",
       "    </tr>\n",
       "  </tbody>\n",
       "</table>\n",
       "</div>"
      ],
      "text/plain": [
       "predicted             Amino-acid transport  Sugar transport\n",
       "observed                                                   \n",
       "Amino-acid transport                    16                7\n",
       "Sugar transport                          4               23"
      ]
     },
     "metadata": {},
     "output_type": "display_data"
    },
    {
     "data": {
      "text/html": [
       "<div>\n",
       "<style scoped>\n",
       "    .dataframe tbody tr th:only-of-type {\n",
       "        vertical-align: middle;\n",
       "    }\n",
       "\n",
       "    .dataframe tbody tr th {\n",
       "        vertical-align: top;\n",
       "    }\n",
       "\n",
       "    .dataframe thead th {\n",
       "        text-align: right;\n",
       "    }\n",
       "</style>\n",
       "<table border=\"1\" class=\"dataframe\">\n",
       "  <thead>\n",
       "    <tr style=\"text-align: right;\">\n",
       "      <th></th>\n",
       "      <th>precision</th>\n",
       "      <th>recall</th>\n",
       "      <th>f1-score</th>\n",
       "      <th>support</th>\n",
       "    </tr>\n",
       "  </thead>\n",
       "  <tbody>\n",
       "    <tr>\n",
       "      <th>Amino-acid transport</th>\n",
       "      <td>0.800</td>\n",
       "      <td>0.696</td>\n",
       "      <td>0.744</td>\n",
       "      <td>23</td>\n",
       "    </tr>\n",
       "    <tr>\n",
       "      <th>Sugar transport</th>\n",
       "      <td>0.767</td>\n",
       "      <td>0.852</td>\n",
       "      <td>0.807</td>\n",
       "      <td>27</td>\n",
       "    </tr>\n",
       "    <tr>\n",
       "      <th>macro avg</th>\n",
       "      <td>0.783</td>\n",
       "      <td>0.774</td>\n",
       "      <td>0.776</td>\n",
       "      <td>50</td>\n",
       "    </tr>\n",
       "    <tr>\n",
       "      <th>weighted avg</th>\n",
       "      <td>0.782</td>\n",
       "      <td>0.780</td>\n",
       "      <td>0.778</td>\n",
       "      <td>50</td>\n",
       "    </tr>\n",
       "  </tbody>\n",
       "</table>\n",
       "</div>"
      ],
      "text/plain": [
       "                      precision  recall  f1-score  support\n",
       "Amino-acid transport      0.800   0.696     0.744       23\n",
       "Sugar transport           0.767   0.852     0.807       27\n",
       "macro avg                 0.783   0.774     0.776       50\n",
       "weighted avg              0.782   0.780     0.778       50"
      ]
     },
     "metadata": {},
     "output_type": "display_data"
    }
   ],
   "source": [
    "display(get_confusion_matrix(X_test, y_test, best_estimator_lsvc_kbest, labels=labels))\n",
    "display(get_classification_report(X_test, y_test, best_estimator_lsvc_kbest, labels=labels))"
   ]
  },
  {
   "cell_type": "code",
   "execution_count": 16,
   "metadata": {
    "execution": {
     "iopub.execute_input": "2022-07-27T17:02:28.192175Z",
     "iopub.status.busy": "2022-07-27T17:02:28.191973Z",
     "iopub.status.idle": "2022-07-27T17:02:28.228833Z",
     "shell.execute_reply": "2022-07-27T17:02:28.228084Z"
    }
   },
   "outputs": [
    {
     "data": {
      "text/html": [
       "<div>\n",
       "<style scoped>\n",
       "    .dataframe tbody tr th:only-of-type {\n",
       "        vertical-align: middle;\n",
       "    }\n",
       "\n",
       "    .dataframe tbody tr th {\n",
       "        vertical-align: top;\n",
       "    }\n",
       "\n",
       "    .dataframe thead th {\n",
       "        text-align: right;\n",
       "    }\n",
       "</style>\n",
       "<table border=\"1\" class=\"dataframe\">\n",
       "  <thead>\n",
       "    <tr style=\"text-align: right;\">\n",
       "      <th>predicted</th>\n",
       "      <th>Amino-acid transport</th>\n",
       "      <th>Sugar transport</th>\n",
       "    </tr>\n",
       "    <tr>\n",
       "      <th>observed</th>\n",
       "      <th></th>\n",
       "      <th></th>\n",
       "    </tr>\n",
       "  </thead>\n",
       "  <tbody>\n",
       "    <tr>\n",
       "      <th>Amino-acid transport</th>\n",
       "      <td>16</td>\n",
       "      <td>7</td>\n",
       "    </tr>\n",
       "    <tr>\n",
       "      <th>Sugar transport</th>\n",
       "      <td>3</td>\n",
       "      <td>24</td>\n",
       "    </tr>\n",
       "  </tbody>\n",
       "</table>\n",
       "</div>"
      ],
      "text/plain": [
       "predicted             Amino-acid transport  Sugar transport\n",
       "observed                                                   \n",
       "Amino-acid transport                    16                7\n",
       "Sugar transport                          3               24"
      ]
     },
     "metadata": {},
     "output_type": "display_data"
    },
    {
     "data": {
      "text/html": [
       "<div>\n",
       "<style scoped>\n",
       "    .dataframe tbody tr th:only-of-type {\n",
       "        vertical-align: middle;\n",
       "    }\n",
       "\n",
       "    .dataframe tbody tr th {\n",
       "        vertical-align: top;\n",
       "    }\n",
       "\n",
       "    .dataframe thead th {\n",
       "        text-align: right;\n",
       "    }\n",
       "</style>\n",
       "<table border=\"1\" class=\"dataframe\">\n",
       "  <thead>\n",
       "    <tr style=\"text-align: right;\">\n",
       "      <th></th>\n",
       "      <th>precision</th>\n",
       "      <th>recall</th>\n",
       "      <th>f1-score</th>\n",
       "      <th>support</th>\n",
       "    </tr>\n",
       "  </thead>\n",
       "  <tbody>\n",
       "    <tr>\n",
       "      <th>Amino-acid transport</th>\n",
       "      <td>0.842</td>\n",
       "      <td>0.696</td>\n",
       "      <td>0.762</td>\n",
       "      <td>23</td>\n",
       "    </tr>\n",
       "    <tr>\n",
       "      <th>Sugar transport</th>\n",
       "      <td>0.774</td>\n",
       "      <td>0.889</td>\n",
       "      <td>0.828</td>\n",
       "      <td>27</td>\n",
       "    </tr>\n",
       "    <tr>\n",
       "      <th>macro avg</th>\n",
       "      <td>0.808</td>\n",
       "      <td>0.792</td>\n",
       "      <td>0.795</td>\n",
       "      <td>50</td>\n",
       "    </tr>\n",
       "    <tr>\n",
       "      <th>weighted avg</th>\n",
       "      <td>0.805</td>\n",
       "      <td>0.800</td>\n",
       "      <td>0.797</td>\n",
       "      <td>50</td>\n",
       "    </tr>\n",
       "  </tbody>\n",
       "</table>\n",
       "</div>"
      ],
      "text/plain": [
       "                      precision  recall  f1-score  support\n",
       "Amino-acid transport      0.842   0.696     0.762       23\n",
       "Sugar transport           0.774   0.889     0.828       27\n",
       "macro avg                 0.808   0.792     0.795       50\n",
       "weighted avg              0.805   0.800     0.797       50"
      ]
     },
     "metadata": {},
     "output_type": "display_data"
    }
   ],
   "source": [
    "display(get_confusion_matrix(X_test, y_test, best_estimator_lsvc_pca, labels=labels))\n",
    "display(get_classification_report(X_test, y_test, best_estimator_lsvc_pca, labels=labels))"
   ]
  },
  {
   "cell_type": "markdown",
   "metadata": {},
   "source": [
    "### RBF kernel"
   ]
  },
  {
   "cell_type": "code",
   "execution_count": 17,
   "metadata": {
    "execution": {
     "iopub.execute_input": "2022-07-27T17:02:28.233020Z",
     "iopub.status.busy": "2022-07-27T17:02:28.232627Z",
     "iopub.status.idle": "2022-07-27T17:02:28.288359Z",
     "shell.execute_reply": "2022-07-27T17:02:28.287623Z"
    }
   },
   "outputs": [
    {
     "data": {
      "text/html": [
       "<div>\n",
       "<style scoped>\n",
       "    .dataframe tbody tr th:only-of-type {\n",
       "        vertical-align: middle;\n",
       "    }\n",
       "\n",
       "    .dataframe tbody tr th {\n",
       "        vertical-align: top;\n",
       "    }\n",
       "\n",
       "    .dataframe thead th {\n",
       "        text-align: right;\n",
       "    }\n",
       "</style>\n",
       "<table border=\"1\" class=\"dataframe\">\n",
       "  <thead>\n",
       "    <tr style=\"text-align: right;\">\n",
       "      <th>predicted</th>\n",
       "      <th>Amino-acid transport</th>\n",
       "      <th>Sugar transport</th>\n",
       "    </tr>\n",
       "    <tr>\n",
       "      <th>observed</th>\n",
       "      <th></th>\n",
       "      <th></th>\n",
       "    </tr>\n",
       "  </thead>\n",
       "  <tbody>\n",
       "    <tr>\n",
       "      <th>Amino-acid transport</th>\n",
       "      <td>17</td>\n",
       "      <td>6</td>\n",
       "    </tr>\n",
       "    <tr>\n",
       "      <th>Sugar transport</th>\n",
       "      <td>5</td>\n",
       "      <td>22</td>\n",
       "    </tr>\n",
       "  </tbody>\n",
       "</table>\n",
       "</div>"
      ],
      "text/plain": [
       "predicted             Amino-acid transport  Sugar transport\n",
       "observed                                                   \n",
       "Amino-acid transport                    17                6\n",
       "Sugar transport                          5               22"
      ]
     },
     "metadata": {},
     "output_type": "display_data"
    },
    {
     "data": {
      "text/html": [
       "<div>\n",
       "<style scoped>\n",
       "    .dataframe tbody tr th:only-of-type {\n",
       "        vertical-align: middle;\n",
       "    }\n",
       "\n",
       "    .dataframe tbody tr th {\n",
       "        vertical-align: top;\n",
       "    }\n",
       "\n",
       "    .dataframe thead th {\n",
       "        text-align: right;\n",
       "    }\n",
       "</style>\n",
       "<table border=\"1\" class=\"dataframe\">\n",
       "  <thead>\n",
       "    <tr style=\"text-align: right;\">\n",
       "      <th></th>\n",
       "      <th>precision</th>\n",
       "      <th>recall</th>\n",
       "      <th>f1-score</th>\n",
       "      <th>support</th>\n",
       "    </tr>\n",
       "  </thead>\n",
       "  <tbody>\n",
       "    <tr>\n",
       "      <th>Amino-acid transport</th>\n",
       "      <td>0.773</td>\n",
       "      <td>0.739</td>\n",
       "      <td>0.756</td>\n",
       "      <td>23</td>\n",
       "    </tr>\n",
       "    <tr>\n",
       "      <th>Sugar transport</th>\n",
       "      <td>0.786</td>\n",
       "      <td>0.815</td>\n",
       "      <td>0.800</td>\n",
       "      <td>27</td>\n",
       "    </tr>\n",
       "    <tr>\n",
       "      <th>macro avg</th>\n",
       "      <td>0.779</td>\n",
       "      <td>0.777</td>\n",
       "      <td>0.778</td>\n",
       "      <td>50</td>\n",
       "    </tr>\n",
       "    <tr>\n",
       "      <th>weighted avg</th>\n",
       "      <td>0.780</td>\n",
       "      <td>0.780</td>\n",
       "      <td>0.780</td>\n",
       "      <td>50</td>\n",
       "    </tr>\n",
       "  </tbody>\n",
       "</table>\n",
       "</div>"
      ],
      "text/plain": [
       "                      precision  recall  f1-score  support\n",
       "Amino-acid transport      0.773   0.739     0.756       23\n",
       "Sugar transport           0.786   0.815     0.800       27\n",
       "macro avg                 0.779   0.777     0.778       50\n",
       "weighted avg              0.780   0.780     0.780       50"
      ]
     },
     "metadata": {},
     "output_type": "display_data"
    }
   ],
   "source": [
    "display(get_confusion_matrix(X_test, y_test, best_estimator_svc, labels=labels))\n",
    "display(get_classification_report(X_test, y_test, best_estimator_svc, labels=labels))"
   ]
  },
  {
   "cell_type": "code",
   "execution_count": 18,
   "metadata": {
    "execution": {
     "iopub.execute_input": "2022-07-27T17:02:28.292376Z",
     "iopub.status.busy": "2022-07-27T17:02:28.292017Z",
     "iopub.status.idle": "2022-07-27T17:02:28.338546Z",
     "shell.execute_reply": "2022-07-27T17:02:28.337909Z"
    }
   },
   "outputs": [
    {
     "data": {
      "text/html": [
       "<div>\n",
       "<style scoped>\n",
       "    .dataframe tbody tr th:only-of-type {\n",
       "        vertical-align: middle;\n",
       "    }\n",
       "\n",
       "    .dataframe tbody tr th {\n",
       "        vertical-align: top;\n",
       "    }\n",
       "\n",
       "    .dataframe thead th {\n",
       "        text-align: right;\n",
       "    }\n",
       "</style>\n",
       "<table border=\"1\" class=\"dataframe\">\n",
       "  <thead>\n",
       "    <tr style=\"text-align: right;\">\n",
       "      <th>predicted</th>\n",
       "      <th>Amino-acid transport</th>\n",
       "      <th>Sugar transport</th>\n",
       "    </tr>\n",
       "    <tr>\n",
       "      <th>observed</th>\n",
       "      <th></th>\n",
       "      <th></th>\n",
       "    </tr>\n",
       "  </thead>\n",
       "  <tbody>\n",
       "    <tr>\n",
       "      <th>Amino-acid transport</th>\n",
       "      <td>17</td>\n",
       "      <td>6</td>\n",
       "    </tr>\n",
       "    <tr>\n",
       "      <th>Sugar transport</th>\n",
       "      <td>5</td>\n",
       "      <td>22</td>\n",
       "    </tr>\n",
       "  </tbody>\n",
       "</table>\n",
       "</div>"
      ],
      "text/plain": [
       "predicted             Amino-acid transport  Sugar transport\n",
       "observed                                                   \n",
       "Amino-acid transport                    17                6\n",
       "Sugar transport                          5               22"
      ]
     },
     "metadata": {},
     "output_type": "display_data"
    },
    {
     "data": {
      "text/html": [
       "<div>\n",
       "<style scoped>\n",
       "    .dataframe tbody tr th:only-of-type {\n",
       "        vertical-align: middle;\n",
       "    }\n",
       "\n",
       "    .dataframe tbody tr th {\n",
       "        vertical-align: top;\n",
       "    }\n",
       "\n",
       "    .dataframe thead th {\n",
       "        text-align: right;\n",
       "    }\n",
       "</style>\n",
       "<table border=\"1\" class=\"dataframe\">\n",
       "  <thead>\n",
       "    <tr style=\"text-align: right;\">\n",
       "      <th></th>\n",
       "      <th>precision</th>\n",
       "      <th>recall</th>\n",
       "      <th>f1-score</th>\n",
       "      <th>support</th>\n",
       "    </tr>\n",
       "  </thead>\n",
       "  <tbody>\n",
       "    <tr>\n",
       "      <th>Amino-acid transport</th>\n",
       "      <td>0.773</td>\n",
       "      <td>0.739</td>\n",
       "      <td>0.756</td>\n",
       "      <td>23</td>\n",
       "    </tr>\n",
       "    <tr>\n",
       "      <th>Sugar transport</th>\n",
       "      <td>0.786</td>\n",
       "      <td>0.815</td>\n",
       "      <td>0.800</td>\n",
       "      <td>27</td>\n",
       "    </tr>\n",
       "    <tr>\n",
       "      <th>macro avg</th>\n",
       "      <td>0.779</td>\n",
       "      <td>0.777</td>\n",
       "      <td>0.778</td>\n",
       "      <td>50</td>\n",
       "    </tr>\n",
       "    <tr>\n",
       "      <th>weighted avg</th>\n",
       "      <td>0.780</td>\n",
       "      <td>0.780</td>\n",
       "      <td>0.780</td>\n",
       "      <td>50</td>\n",
       "    </tr>\n",
       "  </tbody>\n",
       "</table>\n",
       "</div>"
      ],
      "text/plain": [
       "                      precision  recall  f1-score  support\n",
       "Amino-acid transport      0.773   0.739     0.756       23\n",
       "Sugar transport           0.786   0.815     0.800       27\n",
       "macro avg                 0.779   0.777     0.778       50\n",
       "weighted avg              0.780   0.780     0.780       50"
      ]
     },
     "metadata": {},
     "output_type": "display_data"
    }
   ],
   "source": [
    "display(get_confusion_matrix(X_test, y_test, best_estimator_svc_kbest, labels=labels))\n",
    "display(get_classification_report(X_test, y_test, best_estimator_svc_kbest, labels=labels))"
   ]
  },
  {
   "cell_type": "code",
   "execution_count": 19,
   "metadata": {
    "execution": {
     "iopub.execute_input": "2022-07-27T17:02:28.340810Z",
     "iopub.status.busy": "2022-07-27T17:02:28.340542Z",
     "iopub.status.idle": "2022-07-27T17:02:28.389754Z",
     "shell.execute_reply": "2022-07-27T17:02:28.388991Z"
    }
   },
   "outputs": [
    {
     "data": {
      "text/html": [
       "<div>\n",
       "<style scoped>\n",
       "    .dataframe tbody tr th:only-of-type {\n",
       "        vertical-align: middle;\n",
       "    }\n",
       "\n",
       "    .dataframe tbody tr th {\n",
       "        vertical-align: top;\n",
       "    }\n",
       "\n",
       "    .dataframe thead th {\n",
       "        text-align: right;\n",
       "    }\n",
       "</style>\n",
       "<table border=\"1\" class=\"dataframe\">\n",
       "  <thead>\n",
       "    <tr style=\"text-align: right;\">\n",
       "      <th>predicted</th>\n",
       "      <th>Amino-acid transport</th>\n",
       "      <th>Sugar transport</th>\n",
       "    </tr>\n",
       "    <tr>\n",
       "      <th>observed</th>\n",
       "      <th></th>\n",
       "      <th></th>\n",
       "    </tr>\n",
       "  </thead>\n",
       "  <tbody>\n",
       "    <tr>\n",
       "      <th>Amino-acid transport</th>\n",
       "      <td>17</td>\n",
       "      <td>6</td>\n",
       "    </tr>\n",
       "    <tr>\n",
       "      <th>Sugar transport</th>\n",
       "      <td>1</td>\n",
       "      <td>26</td>\n",
       "    </tr>\n",
       "  </tbody>\n",
       "</table>\n",
       "</div>"
      ],
      "text/plain": [
       "predicted             Amino-acid transport  Sugar transport\n",
       "observed                                                   \n",
       "Amino-acid transport                    17                6\n",
       "Sugar transport                          1               26"
      ]
     },
     "metadata": {},
     "output_type": "display_data"
    },
    {
     "data": {
      "text/html": [
       "<div>\n",
       "<style scoped>\n",
       "    .dataframe tbody tr th:only-of-type {\n",
       "        vertical-align: middle;\n",
       "    }\n",
       "\n",
       "    .dataframe tbody tr th {\n",
       "        vertical-align: top;\n",
       "    }\n",
       "\n",
       "    .dataframe thead th {\n",
       "        text-align: right;\n",
       "    }\n",
       "</style>\n",
       "<table border=\"1\" class=\"dataframe\">\n",
       "  <thead>\n",
       "    <tr style=\"text-align: right;\">\n",
       "      <th></th>\n",
       "      <th>precision</th>\n",
       "      <th>recall</th>\n",
       "      <th>f1-score</th>\n",
       "      <th>support</th>\n",
       "    </tr>\n",
       "  </thead>\n",
       "  <tbody>\n",
       "    <tr>\n",
       "      <th>Amino-acid transport</th>\n",
       "      <td>0.944</td>\n",
       "      <td>0.739</td>\n",
       "      <td>0.829</td>\n",
       "      <td>23</td>\n",
       "    </tr>\n",
       "    <tr>\n",
       "      <th>Sugar transport</th>\n",
       "      <td>0.812</td>\n",
       "      <td>0.963</td>\n",
       "      <td>0.881</td>\n",
       "      <td>27</td>\n",
       "    </tr>\n",
       "    <tr>\n",
       "      <th>macro avg</th>\n",
       "      <td>0.878</td>\n",
       "      <td>0.851</td>\n",
       "      <td>0.855</td>\n",
       "      <td>50</td>\n",
       "    </tr>\n",
       "    <tr>\n",
       "      <th>weighted avg</th>\n",
       "      <td>0.873</td>\n",
       "      <td>0.860</td>\n",
       "      <td>0.857</td>\n",
       "      <td>50</td>\n",
       "    </tr>\n",
       "  </tbody>\n",
       "</table>\n",
       "</div>"
      ],
      "text/plain": [
       "                      precision  recall  f1-score  support\n",
       "Amino-acid transport      0.944   0.739     0.829       23\n",
       "Sugar transport           0.812   0.963     0.881       27\n",
       "macro avg                 0.878   0.851     0.855       50\n",
       "weighted avg              0.873   0.860     0.857       50"
      ]
     },
     "metadata": {},
     "output_type": "display_data"
    }
   ],
   "source": [
    "display(get_confusion_matrix(X_test, y_test, best_estimator_svc_pca, labels=labels))\n",
    "display(get_classification_report(X_test, y_test, best_estimator_svc_pca, labels=labels))"
   ]
  },
  {
   "cell_type": "markdown",
   "metadata": {},
   "source": [
    "## Conclusion"
   ]
  },
  {
   "cell_type": "markdown",
   "metadata": {},
   "source": [
    "The models achieve F1 scores of around 0.80 with only PAAC. This is relatively consistent between training set and test set, and between the two substrates."
   ]
  },
  {
   "cell_type": "markdown",
   "metadata": {},
   "source": [
    "## Estimating validation variance \n"
   ]
  },
  {
   "cell_type": "code",
   "execution_count": 20,
   "metadata": {
    "execution": {
     "iopub.execute_input": "2022-07-27T17:02:28.394058Z",
     "iopub.status.busy": "2022-07-27T17:02:28.393696Z",
     "iopub.status.idle": "2022-07-27T17:03:16.839411Z",
     "shell.execute_reply": "2022-07-27T17:03:16.838605Z"
    }
   },
   "outputs": [
    {
     "data": {
      "text/html": [
       "<div>\n",
       "<style scoped>\n",
       "    .dataframe tbody tr th:only-of-type {\n",
       "        vertical-align: middle;\n",
       "    }\n",
       "\n",
       "    .dataframe tbody tr th {\n",
       "        vertical-align: top;\n",
       "    }\n",
       "\n",
       "    .dataframe thead th {\n",
       "        text-align: right;\n",
       "    }\n",
       "</style>\n",
       "<table border=\"1\" class=\"dataframe\">\n",
       "  <thead>\n",
       "    <tr style=\"text-align: right;\">\n",
       "      <th>dataset</th>\n",
       "      <th>test</th>\n",
       "      <th>train</th>\n",
       "    </tr>\n",
       "    <tr>\n",
       "      <th>label</th>\n",
       "      <th></th>\n",
       "      <th></th>\n",
       "    </tr>\n",
       "  </thead>\n",
       "  <tbody>\n",
       "    <tr>\n",
       "      <th>Amino-acid transport</th>\n",
       "      <td>0.8156</td>\n",
       "      <td>0.8393</td>\n",
       "    </tr>\n",
       "    <tr>\n",
       "      <th>Sugar transport</th>\n",
       "      <td>0.8620</td>\n",
       "      <td>0.8602</td>\n",
       "    </tr>\n",
       "  </tbody>\n",
       "</table>\n",
       "</div>"
      ],
      "text/plain": [
       "dataset                 test   train\n",
       "label                               \n",
       "Amino-acid transport  0.8156  0.8393\n",
       "Sugar transport       0.8620  0.8602"
      ]
     },
     "metadata": {},
     "output_type": "display_data"
    },
    {
     "data": {
      "text/html": [
       "<div>\n",
       "<style scoped>\n",
       "    .dataframe tbody tr th:only-of-type {\n",
       "        vertical-align: middle;\n",
       "    }\n",
       "\n",
       "    .dataframe tbody tr th {\n",
       "        vertical-align: top;\n",
       "    }\n",
       "\n",
       "    .dataframe thead th {\n",
       "        text-align: right;\n",
       "    }\n",
       "</style>\n",
       "<table border=\"1\" class=\"dataframe\">\n",
       "  <thead>\n",
       "    <tr style=\"text-align: right;\">\n",
       "      <th>dataset</th>\n",
       "      <th>test</th>\n",
       "      <th>train</th>\n",
       "    </tr>\n",
       "    <tr>\n",
       "      <th>label</th>\n",
       "      <th></th>\n",
       "      <th></th>\n",
       "    </tr>\n",
       "  </thead>\n",
       "  <tbody>\n",
       "    <tr>\n",
       "      <th>Amino-acid transport</th>\n",
       "      <td>0.106622</td>\n",
       "      <td>0.016853</td>\n",
       "    </tr>\n",
       "    <tr>\n",
       "      <th>Sugar transport</th>\n",
       "      <td>0.046731</td>\n",
       "      <td>0.018618</td>\n",
       "    </tr>\n",
       "  </tbody>\n",
       "</table>\n",
       "</div>"
      ],
      "text/plain": [
       "dataset                   test     train\n",
       "label                                   \n",
       "Amino-acid transport  0.106622  0.016853\n",
       "Sugar transport       0.046731  0.018618"
      ]
     },
     "metadata": {},
     "output_type": "display_data"
    },
    {
     "data": {
      "text/html": [
       "<div>\n",
       "<style scoped>\n",
       "    .dataframe tbody tr th:only-of-type {\n",
       "        vertical-align: middle;\n",
       "    }\n",
       "\n",
       "    .dataframe tbody tr th {\n",
       "        vertical-align: top;\n",
       "    }\n",
       "\n",
       "    .dataframe thead th {\n",
       "        text-align: right;\n",
       "    }\n",
       "</style>\n",
       "<table border=\"1\" class=\"dataframe\">\n",
       "  <thead>\n",
       "    <tr style=\"text-align: right;\">\n",
       "      <th></th>\n",
       "      <th>0</th>\n",
       "      <th>1</th>\n",
       "      <th>2</th>\n",
       "      <th>3</th>\n",
       "      <th>4</th>\n",
       "      <th>5</th>\n",
       "      <th>6</th>\n",
       "      <th>7</th>\n",
       "      <th>8</th>\n",
       "      <th>9</th>\n",
       "    </tr>\n",
       "  </thead>\n",
       "  <tbody>\n",
       "    <tr>\n",
       "      <th>pca__n_components</th>\n",
       "      <td>0.86</td>\n",
       "      <td>0.84</td>\n",
       "      <td>0.93</td>\n",
       "      <td>0.97</td>\n",
       "      <td>0.93</td>\n",
       "      <td>0.98</td>\n",
       "      <td>0.99</td>\n",
       "      <td>0.93</td>\n",
       "      <td>0.92</td>\n",
       "      <td>0.94</td>\n",
       "    </tr>\n",
       "    <tr>\n",
       "      <th>svc__C</th>\n",
       "      <td>10</td>\n",
       "      <td>10</td>\n",
       "      <td>1</td>\n",
       "      <td>10</td>\n",
       "      <td>10</td>\n",
       "      <td>1</td>\n",
       "      <td>10</td>\n",
       "      <td>1</td>\n",
       "      <td>1</td>\n",
       "      <td>1</td>\n",
       "    </tr>\n",
       "    <tr>\n",
       "      <th>svc__class_weight</th>\n",
       "      <td>balanced</td>\n",
       "      <td>balanced</td>\n",
       "      <td>None</td>\n",
       "      <td>balanced</td>\n",
       "      <td>balanced</td>\n",
       "      <td>balanced</td>\n",
       "      <td>balanced</td>\n",
       "      <td>balanced</td>\n",
       "      <td>None</td>\n",
       "      <td>None</td>\n",
       "    </tr>\n",
       "    <tr>\n",
       "      <th>svc__gamma</th>\n",
       "      <td>scale</td>\n",
       "      <td>scale</td>\n",
       "      <td>0.01</td>\n",
       "      <td>scale</td>\n",
       "      <td>scale</td>\n",
       "      <td>0.01</td>\n",
       "      <td>0.01</td>\n",
       "      <td>0.01</td>\n",
       "      <td>0.01</td>\n",
       "      <td>0.01</td>\n",
       "    </tr>\n",
       "  </tbody>\n",
       "</table>\n",
       "</div>"
      ],
      "text/plain": [
       "                          0         1     2         3         4         5  \\\n",
       "pca__n_components      0.86      0.84  0.93      0.97      0.93      0.98   \n",
       "svc__C                   10        10     1        10        10         1   \n",
       "svc__class_weight  balanced  balanced  None  balanced  balanced  balanced   \n",
       "svc__gamma            scale     scale  0.01     scale     scale      0.01   \n",
       "\n",
       "                          6         7     8     9  \n",
       "pca__n_components      0.99      0.93  0.92  0.94  \n",
       "svc__C                   10         1     1     1  \n",
       "svc__class_weight  balanced  balanced  None  None  \n",
       "svc__gamma             0.01      0.01  0.01  0.01  "
      ]
     },
     "execution_count": 20,
     "metadata": {},
     "output_type": "execute_result"
    }
   ],
   "source": [
    "df_scores, df_params = full_test(\n",
    "    df_paac, labels, dim_reduction=\"pca\", kernel=\"rbf\", repetitions=10, remove_zero_var=True, select_k_steps=20\n",
    ")\n",
    "df_scores_gr = df_scores.groupby([\"label\", \"dataset\"], as_index=False)\n",
    "display(df_scores_gr.mean().pivot(index=\"label\", columns=\"dataset\", values=\"F1 score\"))\n",
    "display(df_scores_gr.std().pivot(index=\"label\", columns=\"dataset\", values=\"F1 score\"))\n",
    "df_params"
   ]
  },
  {
   "cell_type": "markdown",
   "metadata": {},
   "source": [
    "PAAC leads to higher evaluation scores than AAC for the META-features without E coli. With E coli in the dataset, the AAC outperformed the PAAC. In conclusion, removing Prokaryotes from the dataset improved the PAAC features by 0.04-0.05 (avg. F1)"
   ]
  }
 ],
 "metadata": {
  "kernelspec": {
   "display_name": "Python 3.9.12 ('subpred')",
   "language": "python",
   "name": "python3"
  },
  "language_info": {
   "codemirror_mode": {
    "name": "ipython",
    "version": 3
   },
   "file_extension": ".py",
   "mimetype": "text/x-python",
   "name": "python",
   "nbconvert_exporter": "python",
   "pygments_lexer": "ipython3",
   "version": "3.9.12"
  },
  "vscode": {
   "interpreter": {
    "hash": "a3c5a88a8b1fa059748e807688afdff6c3f31eb23364e67d8e1c7f5771f5e23f"
   }
  }
 },
 "nbformat": 4,
 "nbformat_minor": 2
}
