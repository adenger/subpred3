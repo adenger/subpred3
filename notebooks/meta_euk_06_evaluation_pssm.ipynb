{
 "cells": [
  {
   "cell_type": "markdown",
   "metadata": {},
   "source": [
    "# PSSM Feature evaluation\n",
    "\n",
    "During the dataset evaluation, we found that E Coli transports form its own cluster in the PCA plot. How does the model perform without E Coli transporters?"
   ]
  },
  {
   "cell_type": "markdown",
   "metadata": {},
   "source": [
    "# Imports"
   ]
  },
  {
   "cell_type": "code",
   "execution_count": 1,
   "metadata": {
    "execution": {
     "iopub.execute_input": "2022-10-04T16:12:55.941001Z",
     "iopub.status.busy": "2022-10-04T16:12:55.940324Z",
     "iopub.status.idle": "2022-10-04T16:12:56.584137Z",
     "shell.execute_reply": "2022-10-04T16:12:56.583328Z"
    }
   },
   "outputs": [],
   "source": [
    "from subpred.transporter_dataset import create_dataset\n",
    "from subpred.eval import (\n",
    "    get_independent_test_set,\n",
    "    optimize_hyperparams,\n",
    "    preprocess_pandas,\n",
    "    models_quick_compare,\n",
    "    get_confusion_matrix,\n",
    "    get_classification_report,\n",
    "    full_test,\n",
    "    get_cv_scores\n",
    ")\n",
    "from subpred.pssm import calculate_pssms_notebook"
   ]
  },
  {
   "cell_type": "markdown",
   "metadata": {},
   "source": [
    "# Dataset"
   ]
  },
  {
   "cell_type": "code",
   "execution_count": 2,
   "metadata": {
    "execution": {
     "iopub.execute_input": "2022-10-04T16:12:56.588567Z",
     "iopub.status.busy": "2022-10-04T16:12:56.588161Z",
     "iopub.status.idle": "2022-10-04T16:13:07.742081Z",
     "shell.execute_reply": "2022-10-04T16:13:07.741016Z"
    }
   },
   "outputs": [
    {
     "name": "stdout",
     "output_type": "stream",
     "text": [
      "cd-hit: clustered 314 sequences into 249 clusters at threshold 70\n"
     ]
    }
   ],
   "source": [
    "outliers = (\n",
    "    [\"Q9HBR0\", \"Q07837\"]  + [\"O81775\", \"Q9SW07\", \"Q9FHH5\", \"Q8S8A0\", \"Q3E965\", \"Q3EAV6\", \"Q3E8L0\"]\n",
    "    \n",
    ")\n",
    "df = create_dataset(\n",
    "    keywords_substrate_filter=[\"Amino-acid transport\", \"Sugar transport\"],\n",
    "    keywords_component_filter=[\"Transmembrane\"],\n",
    "    keywords_transport_filter=[\"Transport\"],\n",
    "    input_file=\"../data/raw/swissprot/uniprot-reviewed_yes.tab.gz\",\n",
    "    multi_substrate=\"integrate\",\n",
    "    verbose=True,\n",
    "    tax_ids_filter=[3702, 9606, 559292],\n",
    "    output_log=\"../logs/meta_amino_sugar_dataset.log\",\n",
    "    outliers=outliers,\n",
    "    sequence_clustering=70\n",
    ")\n",
    "taxid_to_organism = {\n",
    "    3702: \"A. thaliana\",\n",
    "    9606: \"Human\",\n",
    "    559292: \"Yeast\",\n",
    "}\n",
    "df = df.assign(organism=df.organism_id.map(taxid_to_organism))\n"
   ]
  },
  {
   "cell_type": "markdown",
   "metadata": {},
   "source": [
    "# Feature generation"
   ]
  },
  {
   "cell_type": "code",
   "execution_count": 3,
   "metadata": {
    "execution": {
     "iopub.execute_input": "2022-10-04T16:13:07.787146Z",
     "iopub.status.busy": "2022-10-04T16:13:07.786710Z",
     "iopub.status.idle": "2022-10-04T16:13:07.802247Z",
     "shell.execute_reply": "2022-10-04T16:13:07.801849Z"
    }
   },
   "outputs": [
    {
     "data": {
      "text/plain": [
       "Sugar transport         134\n",
       "Amino-acid transport    115\n",
       "Name: keywords_transport, dtype: int64"
      ]
     },
     "execution_count": 3,
     "metadata": {},
     "output_type": "execute_result"
    }
   ],
   "source": [
    "labels = df.keywords_transport\n",
    "labels.value_counts()"
   ]
  },
  {
   "cell_type": "code",
   "execution_count": 4,
   "metadata": {
    "execution": {
     "iopub.execute_input": "2022-10-04T16:13:07.805656Z",
     "iopub.status.busy": "2022-10-04T16:13:07.805419Z",
     "iopub.status.idle": "2022-10-04T16:13:10.627553Z",
     "shell.execute_reply": "2022-10-04T16:13:10.626848Z"
    }
   },
   "outputs": [
    {
     "data": {
      "text/html": [
       "<div>\n",
       "<style scoped>\n",
       "    .dataframe tbody tr th:only-of-type {\n",
       "        vertical-align: middle;\n",
       "    }\n",
       "\n",
       "    .dataframe tbody tr th {\n",
       "        vertical-align: top;\n",
       "    }\n",
       "\n",
       "    .dataframe thead th {\n",
       "        text-align: right;\n",
       "    }\n",
       "</style>\n",
       "<table border=\"1\" class=\"dataframe\">\n",
       "  <thead>\n",
       "    <tr style=\"text-align: right;\">\n",
       "      <th></th>\n",
       "      <th>AA_50_1</th>\n",
       "      <th>AR_50_1</th>\n",
       "      <th>AN_50_1</th>\n",
       "      <th>AD_50_1</th>\n",
       "      <th>AC_50_1</th>\n",
       "      <th>AQ_50_1</th>\n",
       "      <th>AE_50_1</th>\n",
       "      <th>AG_50_1</th>\n",
       "      <th>AH_50_1</th>\n",
       "      <th>AI_50_1</th>\n",
       "      <th>...</th>\n",
       "      <th>VL_90_3</th>\n",
       "      <th>VK_90_3</th>\n",
       "      <th>VM_90_3</th>\n",
       "      <th>VF_90_3</th>\n",
       "      <th>VP_90_3</th>\n",
       "      <th>VS_90_3</th>\n",
       "      <th>VT_90_3</th>\n",
       "      <th>VW_90_3</th>\n",
       "      <th>VY_90_3</th>\n",
       "      <th>VV_90_3</th>\n",
       "    </tr>\n",
       "    <tr>\n",
       "      <th>Uniprot</th>\n",
       "      <th></th>\n",
       "      <th></th>\n",
       "      <th></th>\n",
       "      <th></th>\n",
       "      <th></th>\n",
       "      <th></th>\n",
       "      <th></th>\n",
       "      <th></th>\n",
       "      <th></th>\n",
       "      <th></th>\n",
       "      <th></th>\n",
       "      <th></th>\n",
       "      <th></th>\n",
       "      <th></th>\n",
       "      <th></th>\n",
       "      <th></th>\n",
       "      <th></th>\n",
       "      <th></th>\n",
       "      <th></th>\n",
       "      <th></th>\n",
       "      <th></th>\n",
       "    </tr>\n",
       "  </thead>\n",
       "  <tbody>\n",
       "    <tr>\n",
       "      <th>Q9SFG0</th>\n",
       "      <td>0.784223</td>\n",
       "      <td>0.252900</td>\n",
       "      <td>0.327146</td>\n",
       "      <td>0.238979</td>\n",
       "      <td>0.394432</td>\n",
       "      <td>0.350348</td>\n",
       "      <td>0.276102</td>\n",
       "      <td>0.545244</td>\n",
       "      <td>0.227378</td>\n",
       "      <td>0.317865</td>\n",
       "      <td>...</td>\n",
       "      <td>0.434307</td>\n",
       "      <td>0.381387</td>\n",
       "      <td>0.421533</td>\n",
       "      <td>0.578467</td>\n",
       "      <td>0.357664</td>\n",
       "      <td>0.390511</td>\n",
       "      <td>0.392336</td>\n",
       "      <td>0.512774</td>\n",
       "      <td>0.656934</td>\n",
       "      <td>0.417883</td>\n",
       "    </tr>\n",
       "    <tr>\n",
       "      <th>Q08986</th>\n",
       "      <td>0.734091</td>\n",
       "      <td>0.259091</td>\n",
       "      <td>0.313636</td>\n",
       "      <td>0.220455</td>\n",
       "      <td>0.393182</td>\n",
       "      <td>0.295455</td>\n",
       "      <td>0.234091</td>\n",
       "      <td>0.529545</td>\n",
       "      <td>0.265909</td>\n",
       "      <td>0.415909</td>\n",
       "      <td>...</td>\n",
       "      <td>0.425047</td>\n",
       "      <td>0.345351</td>\n",
       "      <td>0.402277</td>\n",
       "      <td>0.584440</td>\n",
       "      <td>0.282732</td>\n",
       "      <td>0.351044</td>\n",
       "      <td>0.351044</td>\n",
       "      <td>0.605313</td>\n",
       "      <td>0.759013</td>\n",
       "      <td>0.387097</td>\n",
       "    </tr>\n",
       "    <tr>\n",
       "      <th>Q9BRV3</th>\n",
       "      <td>0.676768</td>\n",
       "      <td>0.488215</td>\n",
       "      <td>0.508418</td>\n",
       "      <td>0.464646</td>\n",
       "      <td>0.602694</td>\n",
       "      <td>0.511785</td>\n",
       "      <td>0.478114</td>\n",
       "      <td>0.565657</td>\n",
       "      <td>0.511785</td>\n",
       "      <td>0.612795</td>\n",
       "      <td>...</td>\n",
       "      <td>0.484375</td>\n",
       "      <td>0.403125</td>\n",
       "      <td>0.471875</td>\n",
       "      <td>0.706250</td>\n",
       "      <td>0.368750</td>\n",
       "      <td>0.443750</td>\n",
       "      <td>0.440625</td>\n",
       "      <td>0.568750</td>\n",
       "      <td>0.856250</td>\n",
       "      <td>0.478125</td>\n",
       "    </tr>\n",
       "    <tr>\n",
       "      <th>Q84WN3</th>\n",
       "      <td>0.664740</td>\n",
       "      <td>0.416185</td>\n",
       "      <td>0.462428</td>\n",
       "      <td>0.427746</td>\n",
       "      <td>0.624277</td>\n",
       "      <td>0.445087</td>\n",
       "      <td>0.456647</td>\n",
       "      <td>0.526012</td>\n",
       "      <td>0.479769</td>\n",
       "      <td>0.543353</td>\n",
       "      <td>...</td>\n",
       "      <td>0.383260</td>\n",
       "      <td>0.264317</td>\n",
       "      <td>0.374449</td>\n",
       "      <td>0.726872</td>\n",
       "      <td>0.215859</td>\n",
       "      <td>0.286344</td>\n",
       "      <td>0.312775</td>\n",
       "      <td>0.493392</td>\n",
       "      <td>0.982379</td>\n",
       "      <td>0.352423</td>\n",
       "    </tr>\n",
       "    <tr>\n",
       "      <th>O04249</th>\n",
       "      <td>0.735484</td>\n",
       "      <td>0.286022</td>\n",
       "      <td>0.352688</td>\n",
       "      <td>0.281720</td>\n",
       "      <td>0.479570</td>\n",
       "      <td>0.352688</td>\n",
       "      <td>0.318280</td>\n",
       "      <td>0.531183</td>\n",
       "      <td>0.279570</td>\n",
       "      <td>0.417204</td>\n",
       "      <td>...</td>\n",
       "      <td>0.476898</td>\n",
       "      <td>0.415842</td>\n",
       "      <td>0.471947</td>\n",
       "      <td>0.592409</td>\n",
       "      <td>0.387789</td>\n",
       "      <td>0.415842</td>\n",
       "      <td>0.422442</td>\n",
       "      <td>0.514851</td>\n",
       "      <td>0.702970</td>\n",
       "      <td>0.450495</td>\n",
       "    </tr>\n",
       "    <tr>\n",
       "      <th>...</th>\n",
       "      <td>...</td>\n",
       "      <td>...</td>\n",
       "      <td>...</td>\n",
       "      <td>...</td>\n",
       "      <td>...</td>\n",
       "      <td>...</td>\n",
       "      <td>...</td>\n",
       "      <td>...</td>\n",
       "      <td>...</td>\n",
       "      <td>...</td>\n",
       "      <td>...</td>\n",
       "      <td>...</td>\n",
       "      <td>...</td>\n",
       "      <td>...</td>\n",
       "      <td>...</td>\n",
       "      <td>...</td>\n",
       "      <td>...</td>\n",
       "      <td>...</td>\n",
       "      <td>...</td>\n",
       "      <td>...</td>\n",
       "      <td>...</td>\n",
       "    </tr>\n",
       "    <tr>\n",
       "      <th>Q94EI9</th>\n",
       "      <td>0.807471</td>\n",
       "      <td>0.396552</td>\n",
       "      <td>0.425287</td>\n",
       "      <td>0.350575</td>\n",
       "      <td>0.718391</td>\n",
       "      <td>0.465517</td>\n",
       "      <td>0.410920</td>\n",
       "      <td>0.589080</td>\n",
       "      <td>0.393678</td>\n",
       "      <td>0.591954</td>\n",
       "      <td>...</td>\n",
       "      <td>0.469697</td>\n",
       "      <td>0.412121</td>\n",
       "      <td>0.463636</td>\n",
       "      <td>0.660606</td>\n",
       "      <td>0.378788</td>\n",
       "      <td>0.433333</td>\n",
       "      <td>0.445455</td>\n",
       "      <td>0.633333</td>\n",
       "      <td>0.903030</td>\n",
       "      <td>0.463636</td>\n",
       "    </tr>\n",
       "    <tr>\n",
       "      <th>Q92536</th>\n",
       "      <td>0.800000</td>\n",
       "      <td>0.343243</td>\n",
       "      <td>0.351351</td>\n",
       "      <td>0.278378</td>\n",
       "      <td>0.556757</td>\n",
       "      <td>0.354054</td>\n",
       "      <td>0.327027</td>\n",
       "      <td>0.581081</td>\n",
       "      <td>0.310811</td>\n",
       "      <td>0.483784</td>\n",
       "      <td>...</td>\n",
       "      <td>0.462547</td>\n",
       "      <td>0.425094</td>\n",
       "      <td>0.460674</td>\n",
       "      <td>0.597378</td>\n",
       "      <td>0.376404</td>\n",
       "      <td>0.425094</td>\n",
       "      <td>0.423221</td>\n",
       "      <td>0.528090</td>\n",
       "      <td>0.820225</td>\n",
       "      <td>0.458801</td>\n",
       "    </tr>\n",
       "    <tr>\n",
       "      <th>F4IHS9</th>\n",
       "      <td>0.745981</td>\n",
       "      <td>0.495177</td>\n",
       "      <td>0.520900</td>\n",
       "      <td>0.450161</td>\n",
       "      <td>0.649518</td>\n",
       "      <td>0.520900</td>\n",
       "      <td>0.485531</td>\n",
       "      <td>0.578778</td>\n",
       "      <td>0.469453</td>\n",
       "      <td>0.604502</td>\n",
       "      <td>...</td>\n",
       "      <td>0.533654</td>\n",
       "      <td>0.492788</td>\n",
       "      <td>0.543269</td>\n",
       "      <td>0.639423</td>\n",
       "      <td>0.492788</td>\n",
       "      <td>0.526442</td>\n",
       "      <td>0.524038</td>\n",
       "      <td>0.661058</td>\n",
       "      <td>0.713942</td>\n",
       "      <td>0.533654</td>\n",
       "    </tr>\n",
       "    <tr>\n",
       "      <th>Q04162</th>\n",
       "      <td>0.786925</td>\n",
       "      <td>0.305085</td>\n",
       "      <td>0.392252</td>\n",
       "      <td>0.295400</td>\n",
       "      <td>0.513317</td>\n",
       "      <td>0.372881</td>\n",
       "      <td>0.341404</td>\n",
       "      <td>0.624697</td>\n",
       "      <td>0.278450</td>\n",
       "      <td>0.411622</td>\n",
       "      <td>...</td>\n",
       "      <td>0.527721</td>\n",
       "      <td>0.501027</td>\n",
       "      <td>0.503080</td>\n",
       "      <td>0.694045</td>\n",
       "      <td>0.435318</td>\n",
       "      <td>0.525667</td>\n",
       "      <td>0.519507</td>\n",
       "      <td>0.624230</td>\n",
       "      <td>0.837782</td>\n",
       "      <td>0.517454</td>\n",
       "    </tr>\n",
       "    <tr>\n",
       "      <th>P48813</th>\n",
       "      <td>0.780220</td>\n",
       "      <td>0.178022</td>\n",
       "      <td>0.323077</td>\n",
       "      <td>0.156044</td>\n",
       "      <td>0.459341</td>\n",
       "      <td>0.219780</td>\n",
       "      <td>0.167033</td>\n",
       "      <td>0.542857</td>\n",
       "      <td>0.195604</td>\n",
       "      <td>0.404396</td>\n",
       "      <td>...</td>\n",
       "      <td>0.413386</td>\n",
       "      <td>0.338583</td>\n",
       "      <td>0.419291</td>\n",
       "      <td>0.667323</td>\n",
       "      <td>0.281496</td>\n",
       "      <td>0.350394</td>\n",
       "      <td>0.354331</td>\n",
       "      <td>0.629921</td>\n",
       "      <td>0.818898</td>\n",
       "      <td>0.379921</td>\n",
       "    </tr>\n",
       "  </tbody>\n",
       "</table>\n",
       "<p>249 rows × 1600 columns</p>\n",
       "</div>"
      ],
      "text/plain": [
       "          AA_50_1   AR_50_1   AN_50_1   AD_50_1   AC_50_1   AQ_50_1   AE_50_1  \\\n",
       "Uniprot                                                                         \n",
       "Q9SFG0   0.784223  0.252900  0.327146  0.238979  0.394432  0.350348  0.276102   \n",
       "Q08986   0.734091  0.259091  0.313636  0.220455  0.393182  0.295455  0.234091   \n",
       "Q9BRV3   0.676768  0.488215  0.508418  0.464646  0.602694  0.511785  0.478114   \n",
       "Q84WN3   0.664740  0.416185  0.462428  0.427746  0.624277  0.445087  0.456647   \n",
       "O04249   0.735484  0.286022  0.352688  0.281720  0.479570  0.352688  0.318280   \n",
       "...           ...       ...       ...       ...       ...       ...       ...   \n",
       "Q94EI9   0.807471  0.396552  0.425287  0.350575  0.718391  0.465517  0.410920   \n",
       "Q92536   0.800000  0.343243  0.351351  0.278378  0.556757  0.354054  0.327027   \n",
       "F4IHS9   0.745981  0.495177  0.520900  0.450161  0.649518  0.520900  0.485531   \n",
       "Q04162   0.786925  0.305085  0.392252  0.295400  0.513317  0.372881  0.341404   \n",
       "P48813   0.780220  0.178022  0.323077  0.156044  0.459341  0.219780  0.167033   \n",
       "\n",
       "          AG_50_1   AH_50_1   AI_50_1  ...   VL_90_3   VK_90_3   VM_90_3  \\\n",
       "Uniprot                                ...                                 \n",
       "Q9SFG0   0.545244  0.227378  0.317865  ...  0.434307  0.381387  0.421533   \n",
       "Q08986   0.529545  0.265909  0.415909  ...  0.425047  0.345351  0.402277   \n",
       "Q9BRV3   0.565657  0.511785  0.612795  ...  0.484375  0.403125  0.471875   \n",
       "Q84WN3   0.526012  0.479769  0.543353  ...  0.383260  0.264317  0.374449   \n",
       "O04249   0.531183  0.279570  0.417204  ...  0.476898  0.415842  0.471947   \n",
       "...           ...       ...       ...  ...       ...       ...       ...   \n",
       "Q94EI9   0.589080  0.393678  0.591954  ...  0.469697  0.412121  0.463636   \n",
       "Q92536   0.581081  0.310811  0.483784  ...  0.462547  0.425094  0.460674   \n",
       "F4IHS9   0.578778  0.469453  0.604502  ...  0.533654  0.492788  0.543269   \n",
       "Q04162   0.624697  0.278450  0.411622  ...  0.527721  0.501027  0.503080   \n",
       "P48813   0.542857  0.195604  0.404396  ...  0.413386  0.338583  0.419291   \n",
       "\n",
       "          VF_90_3   VP_90_3   VS_90_3   VT_90_3   VW_90_3   VY_90_3   VV_90_3  \n",
       "Uniprot                                                                        \n",
       "Q9SFG0   0.578467  0.357664  0.390511  0.392336  0.512774  0.656934  0.417883  \n",
       "Q08986   0.584440  0.282732  0.351044  0.351044  0.605313  0.759013  0.387097  \n",
       "Q9BRV3   0.706250  0.368750  0.443750  0.440625  0.568750  0.856250  0.478125  \n",
       "Q84WN3   0.726872  0.215859  0.286344  0.312775  0.493392  0.982379  0.352423  \n",
       "O04249   0.592409  0.387789  0.415842  0.422442  0.514851  0.702970  0.450495  \n",
       "...           ...       ...       ...       ...       ...       ...       ...  \n",
       "Q94EI9   0.660606  0.378788  0.433333  0.445455  0.633333  0.903030  0.463636  \n",
       "Q92536   0.597378  0.376404  0.425094  0.423221  0.528090  0.820225  0.458801  \n",
       "F4IHS9   0.639423  0.492788  0.526442  0.524038  0.661058  0.713942  0.533654  \n",
       "Q04162   0.694045  0.435318  0.525667  0.519507  0.624230  0.837782  0.517454  \n",
       "P48813   0.667323  0.281496  0.350394  0.354331  0.629921  0.818898  0.379921  \n",
       "\n",
       "[249 rows x 1600 columns]"
      ]
     },
     "execution_count": 4,
     "metadata": {},
     "output_type": "execute_result"
    }
   ],
   "source": [
    "df_pssm = calculate_pssms_notebook(df.sequence)\n",
    "df_pssm"
   ]
  },
  {
   "cell_type": "markdown",
   "metadata": {},
   "source": [
    "## Independent test set"
   ]
  },
  {
   "cell_type": "code",
   "execution_count": 5,
   "metadata": {
    "execution": {
     "iopub.execute_input": "2022-10-04T16:13:10.632737Z",
     "iopub.status.busy": "2022-10-04T16:13:10.632506Z",
     "iopub.status.idle": "2022-10-04T16:13:10.646473Z",
     "shell.execute_reply": "2022-10-04T16:13:10.645657Z"
    }
   },
   "outputs": [],
   "source": [
    "X, y, feature_names, sample_names = preprocess_pandas(\n",
    "    df_pssm, labels, return_names=True\n",
    ")\n",
    "(\n",
    "    X_train,\n",
    "    X_test,\n",
    "    y_train,\n",
    "    y_test,\n",
    "    sample_names_train,\n",
    "    sample_names_test,\n",
    ") = get_independent_test_set(X, y, sample_names=sample_names, test_size=0.2)\n",
    "\n"
   ]
  },
  {
   "cell_type": "markdown",
   "metadata": {},
   "source": [
    "## Model comparison\n",
    "\n",
    "PSSM seems to work better than the sequence-based features. SVC looks the most promising."
   ]
  },
  {
   "cell_type": "code",
   "execution_count": 6,
   "metadata": {
    "execution": {
     "iopub.execute_input": "2022-10-04T16:13:10.651996Z",
     "iopub.status.busy": "2022-10-04T16:13:10.651503Z",
     "iopub.status.idle": "2022-10-04T16:13:14.397143Z",
     "shell.execute_reply": "2022-10-04T16:13:14.396750Z"
    }
   },
   "outputs": [
    {
     "data": {
      "text/html": [
       "<div>\n",
       "<style scoped>\n",
       "    .dataframe tbody tr th:only-of-type {\n",
       "        vertical-align: middle;\n",
       "    }\n",
       "\n",
       "    .dataframe tbody tr th {\n",
       "        vertical-align: top;\n",
       "    }\n",
       "\n",
       "    .dataframe thead th {\n",
       "        text-align: right;\n",
       "    }\n",
       "</style>\n",
       "<table border=\"1\" class=\"dataframe\">\n",
       "  <thead>\n",
       "    <tr style=\"text-align: right;\">\n",
       "      <th></th>\n",
       "      <th>0</th>\n",
       "      <th>1</th>\n",
       "      <th>2</th>\n",
       "      <th>3</th>\n",
       "      <th>4</th>\n",
       "      <th>mean</th>\n",
       "      <th>std</th>\n",
       "    </tr>\n",
       "    <tr>\n",
       "      <th>est</th>\n",
       "      <th></th>\n",
       "      <th></th>\n",
       "      <th></th>\n",
       "      <th></th>\n",
       "      <th></th>\n",
       "      <th></th>\n",
       "      <th></th>\n",
       "    </tr>\n",
       "  </thead>\n",
       "  <tbody>\n",
       "    <tr>\n",
       "      <th>GaussianNB()</th>\n",
       "      <td>0.824</td>\n",
       "      <td>0.623</td>\n",
       "      <td>0.771</td>\n",
       "      <td>0.646</td>\n",
       "      <td>0.692</td>\n",
       "      <td>0.711</td>\n",
       "      <td>0.085</td>\n",
       "    </tr>\n",
       "    <tr>\n",
       "      <th>KNeighborsClassifier()</th>\n",
       "      <td>0.825</td>\n",
       "      <td>0.848</td>\n",
       "      <td>0.771</td>\n",
       "      <td>0.847</td>\n",
       "      <td>0.794</td>\n",
       "      <td>0.817</td>\n",
       "      <td>0.034</td>\n",
       "    </tr>\n",
       "    <tr>\n",
       "      <th>LinearSVC(class_weight='balanced', max_iter=1000000.0, random_state=0)</th>\n",
       "      <td>0.975</td>\n",
       "      <td>0.774</td>\n",
       "      <td>0.975</td>\n",
       "      <td>0.949</td>\n",
       "      <td>0.897</td>\n",
       "      <td>0.914</td>\n",
       "      <td>0.085</td>\n",
       "    </tr>\n",
       "    <tr>\n",
       "      <th>LinearSVC(max_iter=1000000.0, random_state=0)</th>\n",
       "      <td>0.975</td>\n",
       "      <td>0.774</td>\n",
       "      <td>0.975</td>\n",
       "      <td>0.949</td>\n",
       "      <td>0.897</td>\n",
       "      <td>0.914</td>\n",
       "      <td>0.085</td>\n",
       "    </tr>\n",
       "    <tr>\n",
       "      <th>RandomForestClassifier(class_weight='balanced', random_state=0)</th>\n",
       "      <td>0.950</td>\n",
       "      <td>0.699</td>\n",
       "      <td>0.768</td>\n",
       "      <td>0.795</td>\n",
       "      <td>0.866</td>\n",
       "      <td>0.816</td>\n",
       "      <td>0.096</td>\n",
       "    </tr>\n",
       "    <tr>\n",
       "      <th>RandomForestClassifier(random_state=0)</th>\n",
       "      <td>0.950</td>\n",
       "      <td>0.725</td>\n",
       "      <td>0.768</td>\n",
       "      <td>0.822</td>\n",
       "      <td>0.894</td>\n",
       "      <td>0.832</td>\n",
       "      <td>0.091</td>\n",
       "    </tr>\n",
       "    <tr>\n",
       "      <th>SGDClassifier(random_state=0)</th>\n",
       "      <td>0.975</td>\n",
       "      <td>0.800</td>\n",
       "      <td>0.871</td>\n",
       "      <td>0.924</td>\n",
       "      <td>0.845</td>\n",
       "      <td>0.883</td>\n",
       "      <td>0.068</td>\n",
       "    </tr>\n",
       "    <tr>\n",
       "      <th>SVC(class_weight='balanced', random_state=0)</th>\n",
       "      <td>0.925</td>\n",
       "      <td>0.825</td>\n",
       "      <td>0.873</td>\n",
       "      <td>0.899</td>\n",
       "      <td>0.897</td>\n",
       "      <td>0.884</td>\n",
       "      <td>0.038</td>\n",
       "    </tr>\n",
       "    <tr>\n",
       "      <th>SVC(random_state=0)</th>\n",
       "      <td>0.950</td>\n",
       "      <td>0.850</td>\n",
       "      <td>0.873</td>\n",
       "      <td>0.899</td>\n",
       "      <td>0.897</td>\n",
       "      <td>0.894</td>\n",
       "      <td>0.037</td>\n",
       "    </tr>\n",
       "  </tbody>\n",
       "</table>\n",
       "</div>"
      ],
      "text/plain": [
       "                                                        0      1      2  \\\n",
       "est                                                                       \n",
       "GaussianNB()                                        0.824  0.623  0.771   \n",
       "KNeighborsClassifier()                              0.825  0.848  0.771   \n",
       "LinearSVC(class_weight='balanced', max_iter=100...  0.975  0.774  0.975   \n",
       "LinearSVC(max_iter=1000000.0, random_state=0)       0.975  0.774  0.975   \n",
       "RandomForestClassifier(class_weight='balanced',...  0.950  0.699  0.768   \n",
       "RandomForestClassifier(random_state=0)              0.950  0.725  0.768   \n",
       "SGDClassifier(random_state=0)                       0.975  0.800  0.871   \n",
       "SVC(class_weight='balanced', random_state=0)        0.925  0.825  0.873   \n",
       "SVC(random_state=0)                                 0.950  0.850  0.873   \n",
       "\n",
       "                                                        3      4   mean    std  \n",
       "est                                                                             \n",
       "GaussianNB()                                        0.646  0.692  0.711  0.085  \n",
       "KNeighborsClassifier()                              0.847  0.794  0.817  0.034  \n",
       "LinearSVC(class_weight='balanced', max_iter=100...  0.949  0.897  0.914  0.085  \n",
       "LinearSVC(max_iter=1000000.0, random_state=0)       0.949  0.897  0.914  0.085  \n",
       "RandomForestClassifier(class_weight='balanced',...  0.795  0.866  0.816  0.096  \n",
       "RandomForestClassifier(random_state=0)              0.822  0.894  0.832  0.091  \n",
       "SGDClassifier(random_state=0)                       0.924  0.845  0.883  0.068  \n",
       "SVC(class_weight='balanced', random_state=0)        0.899  0.897  0.884  0.038  \n",
       "SVC(random_state=0)                                 0.899  0.897  0.894  0.037  "
      ]
     },
     "execution_count": 6,
     "metadata": {},
     "output_type": "execute_result"
    }
   ],
   "source": [
    "models_quick_compare(X_train, y_train)"
   ]
  },
  {
   "cell_type": "markdown",
   "metadata": {},
   "source": [
    "## Parameter tuning"
   ]
  },
  {
   "cell_type": "markdown",
   "metadata": {},
   "source": [
    "#### Custom transformer\n",
    "\n",
    "Here, we try the multi-pssm feature, which tries all combinations of feature generation parameters, and selects the best ones based on the training set. First without the transformer:"
   ]
  },
  {
   "cell_type": "code",
   "execution_count": 7,
   "metadata": {
    "execution": {
     "iopub.execute_input": "2022-10-04T16:13:14.402558Z",
     "iopub.status.busy": "2022-10-04T16:13:14.402363Z",
     "iopub.status.idle": "2022-10-04T16:13:18.961606Z",
     "shell.execute_reply": "2022-10-04T16:13:18.960331Z"
    }
   },
   "outputs": [
    {
     "name": "stdout",
     "output_type": "stream",
     "text": [
      "{'linearsvc__C': 10, 'linearsvc__class_weight': 'balanced', 'linearsvc__dual': False, 'linearsvc__max_iter': 100000000.0}\n",
      "0.929\n"
     ]
    }
   ],
   "source": [
    "gsearch = optimize_hyperparams(\n",
    "    X_train,\n",
    "    y_train,\n",
    "    kernel=\"linear\",\n",
    "    dim_reduction=None,\n",
    "    C=[0.01, 0.1, 1, 10],\n",
    ")"
   ]
  },
  {
   "cell_type": "markdown",
   "metadata": {},
   "source": [
    "The pssmselector increases the scores even further:"
   ]
  },
  {
   "cell_type": "code",
   "execution_count": 8,
   "metadata": {
    "execution": {
     "iopub.execute_input": "2022-10-04T16:13:18.967189Z",
     "iopub.status.busy": "2022-10-04T16:13:18.966995Z",
     "iopub.status.idle": "2022-10-04T16:13:23.416962Z",
     "shell.execute_reply": "2022-10-04T16:13:23.416115Z"
    }
   },
   "outputs": [
    {
     "name": "stdout",
     "output_type": "stream",
     "text": [
      "{'linearsvc__C': 0.1, 'linearsvc__class_weight': 'balanced', 'linearsvc__dual': True, 'linearsvc__max_iter': 100000000.0, 'pssmselector__iterations': 3, 'pssmselector__uniref_threshold': 50}\n",
      "0.949\n"
     ]
    }
   ],
   "source": [
    "gsearch = optimize_hyperparams(\n",
    "    X_train,\n",
    "    y_train,\n",
    "    kernel=\"linear\",\n",
    "    dim_reduction=None,\n",
    "    feature_transformer=\"pssm\", \n",
    "    feature_names = feature_names,\n",
    "    C=[0.001, 0.01, 0.1, 1]\n",
    ")"
   ]
  },
  {
   "cell_type": "markdown",
   "metadata": {},
   "source": [
    "The RBF kernel improves the results further, compared to just the linear kernel:"
   ]
  },
  {
   "cell_type": "code",
   "execution_count": 9,
   "metadata": {
    "execution": {
     "iopub.execute_input": "2022-10-04T16:13:23.421599Z",
     "iopub.status.busy": "2022-10-04T16:13:23.421447Z",
     "iopub.status.idle": "2022-10-04T16:13:24.600663Z",
     "shell.execute_reply": "2022-10-04T16:13:24.599951Z"
    }
   },
   "outputs": [
    {
     "name": "stdout",
     "output_type": "stream",
     "text": [
      "{'svc__C': 10, 'svc__class_weight': 'balanced', 'svc__gamma': 'scale'}\n",
      "0.939\n"
     ]
    }
   ],
   "source": [
    "gsearch = optimize_hyperparams(\n",
    "    X_train,\n",
    "    y_train,\n",
    "    kernel=\"rbf\",\n",
    "    dim_reduction=None,\n",
    "    C=[0.1, 1, 10, 100],\n",
    ")"
   ]
  },
  {
   "cell_type": "markdown",
   "metadata": {},
   "source": [
    "The linear and RBF kernels actually perform similarly on this dataset."
   ]
  },
  {
   "cell_type": "code",
   "execution_count": 10,
   "metadata": {
    "execution": {
     "iopub.execute_input": "2022-10-04T16:13:24.605431Z",
     "iopub.status.busy": "2022-10-04T16:13:24.605285Z",
     "iopub.status.idle": "2022-10-04T16:13:28.029294Z",
     "shell.execute_reply": "2022-10-04T16:13:28.028747Z"
    }
   },
   "outputs": [
    {
     "name": "stdout",
     "output_type": "stream",
     "text": [
      "{'pssmselector__iterations': 3, 'pssmselector__uniref_threshold': 'all', 'svc__C': 10, 'svc__class_weight': 'balanced', 'svc__gamma': 'scale'}\n",
      "0.949\n"
     ]
    }
   ],
   "source": [
    "gsearch = optimize_hyperparams(\n",
    "    X_train,\n",
    "    y_train,\n",
    "    kernel=\"rbf\",\n",
    "    dim_reduction=None,\n",
    "    C=[0.1, 1, 10, 100],\n",
    "    feature_transformer=\"pssm\",\n",
    "    feature_names=feature_names,\n",
    ")\n",
    "best_estimator_rbf = gsearch"
   ]
  },
  {
   "cell_type": "markdown",
   "metadata": {},
   "source": [
    "RBF is the best one so far."
   ]
  },
  {
   "cell_type": "markdown",
   "metadata": {},
   "source": [
    "## Dimensionality reduction"
   ]
  },
  {
   "cell_type": "code",
   "execution_count": 11,
   "metadata": {
    "execution": {
     "iopub.execute_input": "2022-10-04T16:13:28.031779Z",
     "iopub.status.busy": "2022-10-04T16:13:28.031553Z",
     "iopub.status.idle": "2022-10-04T16:13:32.422875Z",
     "shell.execute_reply": "2022-10-04T16:13:32.422044Z"
    }
   },
   "outputs": [
    {
     "name": "stdout",
     "output_type": "stream",
     "text": [
      "{'linearsvc__C': 10, 'linearsvc__class_weight': None, 'linearsvc__dual': False, 'linearsvc__max_iter': 100000000.0, 'pca__n_components': 0.97}\n",
      "0.929\n"
     ]
    }
   ],
   "source": [
    "gsearch = optimize_hyperparams(\n",
    "    X_train,\n",
    "    y_train,\n",
    "    kernel=\"linear\",\n",
    "    dim_reduction=\"pca\",\n",
    ")"
   ]
  },
  {
   "cell_type": "code",
   "execution_count": 12,
   "metadata": {
    "execution": {
     "iopub.execute_input": "2022-10-04T16:13:32.429048Z",
     "iopub.status.busy": "2022-10-04T16:13:32.428675Z",
     "iopub.status.idle": "2022-10-04T16:14:02.418489Z",
     "shell.execute_reply": "2022-10-04T16:14:02.416635Z"
    }
   },
   "outputs": [
    {
     "name": "stdout",
     "output_type": "stream",
     "text": [
      "{'linearsvc__C': 0.1, 'linearsvc__class_weight': 'balanced', 'linearsvc__dual': True, 'linearsvc__max_iter': 100000000.0, 'pca__n_components': 0.98, 'pssmselector__iterations': 3, 'pssmselector__uniref_threshold': 50}\n",
      "0.964\n"
     ]
    }
   ],
   "source": [
    "gsearch = optimize_hyperparams(\n",
    "    X_train,\n",
    "    y_train,\n",
    "    kernel=\"linear\",\n",
    "    dim_reduction=\"pca\",\n",
    "    C=[10, 1, 0.1, 0.01],\n",
    "    feature_transformer=\"pssm\",\n",
    "    feature_names=feature_names,\n",
    ")\n",
    "best_estimator_linearsvc_pca = gsearch"
   ]
  },
  {
   "cell_type": "code",
   "execution_count": 13,
   "metadata": {
    "execution": {
     "iopub.execute_input": "2022-10-04T16:14:02.424762Z",
     "iopub.status.busy": "2022-10-04T16:14:02.424204Z",
     "iopub.status.idle": "2022-10-04T16:14:12.610198Z",
     "shell.execute_reply": "2022-10-04T16:14:12.609339Z"
    }
   },
   "outputs": [
    {
     "name": "stdout",
     "output_type": "stream",
     "text": [
      "{'pca__n_components': 0.96, 'svc__C': 1, 'svc__class_weight': 'balanced', 'svc__gamma': 'scale'}\n",
      "0.949\n"
     ]
    }
   ],
   "source": [
    "gsearch = optimize_hyperparams(\n",
    "    X_train,\n",
    "    y_train,\n",
    "    kernel=\"rbf\",\n",
    "    dim_reduction=\"pca\",\n",
    "    C=[0.1, 1, 10, 100],\n",
    "    # gamma=[\"scale\"],\n",
    ")"
   ]
  },
  {
   "cell_type": "markdown",
   "metadata": {},
   "source": [
    "That already looks good, now with the PSSMSelector:"
   ]
  },
  {
   "cell_type": "code",
   "execution_count": 14,
   "metadata": {
    "execution": {
     "iopub.execute_input": "2022-10-04T16:14:12.615423Z",
     "iopub.status.busy": "2022-10-04T16:14:12.614335Z",
     "iopub.status.idle": "2022-10-04T16:14:59.038507Z",
     "shell.execute_reply": "2022-10-04T16:14:59.037645Z"
    }
   },
   "outputs": [
    {
     "name": "stdout",
     "output_type": "stream",
     "text": [
      "{'pca__n_components': 0.99, 'pssmselector__iterations': 3, 'pssmselector__uniref_threshold': 'all', 'svc__C': 1, 'svc__class_weight': 'balanced', 'svc__gamma': 'scale'}\n",
      "0.965\n"
     ]
    }
   ],
   "source": [
    "gsearch = optimize_hyperparams(\n",
    "    X_train,\n",
    "    y_train,\n",
    "    kernel=\"rbf\",\n",
    "    dim_reduction=\"pca\",\n",
    "    feature_transformer=\"pssm\",\n",
    "    feature_names=feature_names,\n",
    "    # C=[1, 0.1, 10],\n",
    "    # gamma=[\"scale\"],\n",
    ")\n",
    "best_estimator_svc_pca = gsearch"
   ]
  },
  {
   "cell_type": "markdown",
   "metadata": {},
   "source": [
    "### Conclusion training set\n",
    "\n",
    "PSSMselector with RBF and PCA lead to a good score with default SVM parameters, and 99% of the variance. In almost all cases, the model trained on jsut Eukaryotes outperforms the model that also uses E coli data. "
   ]
  },
  {
   "cell_type": "markdown",
   "metadata": {},
   "source": [
    "## Validation\n"
   ]
  },
  {
   "cell_type": "markdown",
   "metadata": {},
   "source": [
    "### RBF kernel without feature selection"
   ]
  },
  {
   "cell_type": "code",
   "execution_count": 15,
   "metadata": {
    "execution": {
     "iopub.execute_input": "2022-10-04T16:14:59.043942Z",
     "iopub.status.busy": "2022-10-04T16:14:59.042906Z",
     "iopub.status.idle": "2022-10-04T16:14:59.074179Z",
     "shell.execute_reply": "2022-10-04T16:14:59.073268Z"
    }
   },
   "outputs": [
    {
     "data": {
      "text/html": [
       "<div>\n",
       "<style scoped>\n",
       "    .dataframe tbody tr th:only-of-type {\n",
       "        vertical-align: middle;\n",
       "    }\n",
       "\n",
       "    .dataframe tbody tr th {\n",
       "        vertical-align: top;\n",
       "    }\n",
       "\n",
       "    .dataframe thead th {\n",
       "        text-align: right;\n",
       "    }\n",
       "</style>\n",
       "<table border=\"1\" class=\"dataframe\">\n",
       "  <thead>\n",
       "    <tr style=\"text-align: right;\">\n",
       "      <th>predicted</th>\n",
       "      <th>Amino-acid transport</th>\n",
       "      <th>Sugar transport</th>\n",
       "    </tr>\n",
       "    <tr>\n",
       "      <th>observed</th>\n",
       "      <th></th>\n",
       "      <th></th>\n",
       "    </tr>\n",
       "  </thead>\n",
       "  <tbody>\n",
       "    <tr>\n",
       "      <th>Amino-acid transport</th>\n",
       "      <td>21</td>\n",
       "      <td>2</td>\n",
       "    </tr>\n",
       "    <tr>\n",
       "      <th>Sugar transport</th>\n",
       "      <td>2</td>\n",
       "      <td>25</td>\n",
       "    </tr>\n",
       "  </tbody>\n",
       "</table>\n",
       "</div>"
      ],
      "text/plain": [
       "predicted             Amino-acid transport  Sugar transport\n",
       "observed                                                   \n",
       "Amino-acid transport                    21                2\n",
       "Sugar transport                          2               25"
      ]
     },
     "execution_count": 15,
     "metadata": {},
     "output_type": "execute_result"
    }
   ],
   "source": [
    "get_confusion_matrix(X_test, y_test, best_estimator_rbf, labels=labels)"
   ]
  },
  {
   "cell_type": "code",
   "execution_count": 16,
   "metadata": {
    "execution": {
     "iopub.execute_input": "2022-10-04T16:14:59.079107Z",
     "iopub.status.busy": "2022-10-04T16:14:59.078373Z",
     "iopub.status.idle": "2022-10-04T16:14:59.121261Z",
     "shell.execute_reply": "2022-10-04T16:14:59.120313Z"
    }
   },
   "outputs": [
    {
     "data": {
      "text/html": [
       "<div>\n",
       "<style scoped>\n",
       "    .dataframe tbody tr th:only-of-type {\n",
       "        vertical-align: middle;\n",
       "    }\n",
       "\n",
       "    .dataframe tbody tr th {\n",
       "        vertical-align: top;\n",
       "    }\n",
       "\n",
       "    .dataframe thead th {\n",
       "        text-align: right;\n",
       "    }\n",
       "</style>\n",
       "<table border=\"1\" class=\"dataframe\">\n",
       "  <thead>\n",
       "    <tr style=\"text-align: right;\">\n",
       "      <th></th>\n",
       "      <th>precision</th>\n",
       "      <th>recall</th>\n",
       "      <th>f1-score</th>\n",
       "      <th>support</th>\n",
       "    </tr>\n",
       "  </thead>\n",
       "  <tbody>\n",
       "    <tr>\n",
       "      <th>Amino-acid transport</th>\n",
       "      <td>0.913</td>\n",
       "      <td>0.913</td>\n",
       "      <td>0.913</td>\n",
       "      <td>23</td>\n",
       "    </tr>\n",
       "    <tr>\n",
       "      <th>Sugar transport</th>\n",
       "      <td>0.926</td>\n",
       "      <td>0.926</td>\n",
       "      <td>0.926</td>\n",
       "      <td>27</td>\n",
       "    </tr>\n",
       "    <tr>\n",
       "      <th>macro avg</th>\n",
       "      <td>0.919</td>\n",
       "      <td>0.919</td>\n",
       "      <td>0.919</td>\n",
       "      <td>50</td>\n",
       "    </tr>\n",
       "    <tr>\n",
       "      <th>weighted avg</th>\n",
       "      <td>0.920</td>\n",
       "      <td>0.920</td>\n",
       "      <td>0.920</td>\n",
       "      <td>50</td>\n",
       "    </tr>\n",
       "  </tbody>\n",
       "</table>\n",
       "</div>"
      ],
      "text/plain": [
       "                      precision  recall  f1-score  support\n",
       "Amino-acid transport      0.913   0.913     0.913       23\n",
       "Sugar transport           0.926   0.926     0.926       27\n",
       "macro avg                 0.919   0.919     0.919       50\n",
       "weighted avg              0.920   0.920     0.920       50"
      ]
     },
     "execution_count": 16,
     "metadata": {},
     "output_type": "execute_result"
    }
   ],
   "source": [
    "get_classification_report(X_test, y_test, best_estimator_rbf, labels=labels)"
   ]
  },
  {
   "cell_type": "markdown",
   "metadata": {},
   "source": [
    "### Linear kernel with PCA\n"
   ]
  },
  {
   "cell_type": "code",
   "execution_count": 17,
   "metadata": {
    "execution": {
     "iopub.execute_input": "2022-10-04T16:14:59.125710Z",
     "iopub.status.busy": "2022-10-04T16:14:59.124881Z",
     "iopub.status.idle": "2022-10-04T16:14:59.139843Z",
     "shell.execute_reply": "2022-10-04T16:14:59.138837Z"
    }
   },
   "outputs": [
    {
     "data": {
      "text/html": [
       "<div>\n",
       "<style scoped>\n",
       "    .dataframe tbody tr th:only-of-type {\n",
       "        vertical-align: middle;\n",
       "    }\n",
       "\n",
       "    .dataframe tbody tr th {\n",
       "        vertical-align: top;\n",
       "    }\n",
       "\n",
       "    .dataframe thead th {\n",
       "        text-align: right;\n",
       "    }\n",
       "</style>\n",
       "<table border=\"1\" class=\"dataframe\">\n",
       "  <thead>\n",
       "    <tr style=\"text-align: right;\">\n",
       "      <th>predicted</th>\n",
       "      <th>Amino-acid transport</th>\n",
       "      <th>Sugar transport</th>\n",
       "    </tr>\n",
       "    <tr>\n",
       "      <th>observed</th>\n",
       "      <th></th>\n",
       "      <th></th>\n",
       "    </tr>\n",
       "  </thead>\n",
       "  <tbody>\n",
       "    <tr>\n",
       "      <th>Amino-acid transport</th>\n",
       "      <td>20</td>\n",
       "      <td>3</td>\n",
       "    </tr>\n",
       "    <tr>\n",
       "      <th>Sugar transport</th>\n",
       "      <td>1</td>\n",
       "      <td>26</td>\n",
       "    </tr>\n",
       "  </tbody>\n",
       "</table>\n",
       "</div>"
      ],
      "text/plain": [
       "predicted             Amino-acid transport  Sugar transport\n",
       "observed                                                   \n",
       "Amino-acid transport                    20                3\n",
       "Sugar transport                          1               26"
      ]
     },
     "execution_count": 17,
     "metadata": {},
     "output_type": "execute_result"
    }
   ],
   "source": [
    "get_confusion_matrix(X_test, y_test, best_estimator_linearsvc_pca, labels=labels)"
   ]
  },
  {
   "cell_type": "code",
   "execution_count": 18,
   "metadata": {
    "execution": {
     "iopub.execute_input": "2022-10-04T16:14:59.143656Z",
     "iopub.status.busy": "2022-10-04T16:14:59.143399Z",
     "iopub.status.idle": "2022-10-04T16:14:59.160386Z",
     "shell.execute_reply": "2022-10-04T16:14:59.159724Z"
    }
   },
   "outputs": [
    {
     "data": {
      "text/html": [
       "<div>\n",
       "<style scoped>\n",
       "    .dataframe tbody tr th:only-of-type {\n",
       "        vertical-align: middle;\n",
       "    }\n",
       "\n",
       "    .dataframe tbody tr th {\n",
       "        vertical-align: top;\n",
       "    }\n",
       "\n",
       "    .dataframe thead th {\n",
       "        text-align: right;\n",
       "    }\n",
       "</style>\n",
       "<table border=\"1\" class=\"dataframe\">\n",
       "  <thead>\n",
       "    <tr style=\"text-align: right;\">\n",
       "      <th></th>\n",
       "      <th>precision</th>\n",
       "      <th>recall</th>\n",
       "      <th>f1-score</th>\n",
       "      <th>support</th>\n",
       "    </tr>\n",
       "  </thead>\n",
       "  <tbody>\n",
       "    <tr>\n",
       "      <th>Amino-acid transport</th>\n",
       "      <td>0.952</td>\n",
       "      <td>0.870</td>\n",
       "      <td>0.909</td>\n",
       "      <td>23</td>\n",
       "    </tr>\n",
       "    <tr>\n",
       "      <th>Sugar transport</th>\n",
       "      <td>0.897</td>\n",
       "      <td>0.963</td>\n",
       "      <td>0.929</td>\n",
       "      <td>27</td>\n",
       "    </tr>\n",
       "    <tr>\n",
       "      <th>macro avg</th>\n",
       "      <td>0.924</td>\n",
       "      <td>0.916</td>\n",
       "      <td>0.919</td>\n",
       "      <td>50</td>\n",
       "    </tr>\n",
       "    <tr>\n",
       "      <th>weighted avg</th>\n",
       "      <td>0.922</td>\n",
       "      <td>0.920</td>\n",
       "      <td>0.920</td>\n",
       "      <td>50</td>\n",
       "    </tr>\n",
       "  </tbody>\n",
       "</table>\n",
       "</div>"
      ],
      "text/plain": [
       "                      precision  recall  f1-score  support\n",
       "Amino-acid transport      0.952   0.870     0.909       23\n",
       "Sugar transport           0.897   0.963     0.929       27\n",
       "macro avg                 0.924   0.916     0.919       50\n",
       "weighted avg              0.922   0.920     0.920       50"
      ]
     },
     "execution_count": 18,
     "metadata": {},
     "output_type": "execute_result"
    }
   ],
   "source": [
    "get_classification_report(X_test, y_test, best_estimator_linearsvc_pca, labels=labels)"
   ]
  },
  {
   "cell_type": "markdown",
   "metadata": {},
   "source": [
    "### RBF + PCA\n",
    "\n",
    "RBF kernel and pca leads to the best model.\n"
   ]
  },
  {
   "cell_type": "code",
   "execution_count": 19,
   "metadata": {
    "execution": {
     "iopub.execute_input": "2022-10-04T16:14:59.164163Z",
     "iopub.status.busy": "2022-10-04T16:14:59.163918Z",
     "iopub.status.idle": "2022-10-04T16:14:59.175364Z",
     "shell.execute_reply": "2022-10-04T16:14:59.174729Z"
    }
   },
   "outputs": [
    {
     "data": {
      "text/html": [
       "<div>\n",
       "<style scoped>\n",
       "    .dataframe tbody tr th:only-of-type {\n",
       "        vertical-align: middle;\n",
       "    }\n",
       "\n",
       "    .dataframe tbody tr th {\n",
       "        vertical-align: top;\n",
       "    }\n",
       "\n",
       "    .dataframe thead th {\n",
       "        text-align: right;\n",
       "    }\n",
       "</style>\n",
       "<table border=\"1\" class=\"dataframe\">\n",
       "  <thead>\n",
       "    <tr style=\"text-align: right;\">\n",
       "      <th>predicted</th>\n",
       "      <th>Amino-acid transport</th>\n",
       "      <th>Sugar transport</th>\n",
       "    </tr>\n",
       "    <tr>\n",
       "      <th>observed</th>\n",
       "      <th></th>\n",
       "      <th></th>\n",
       "    </tr>\n",
       "  </thead>\n",
       "  <tbody>\n",
       "    <tr>\n",
       "      <th>Amino-acid transport</th>\n",
       "      <td>21</td>\n",
       "      <td>2</td>\n",
       "    </tr>\n",
       "    <tr>\n",
       "      <th>Sugar transport</th>\n",
       "      <td>1</td>\n",
       "      <td>26</td>\n",
       "    </tr>\n",
       "  </tbody>\n",
       "</table>\n",
       "</div>"
      ],
      "text/plain": [
       "predicted             Amino-acid transport  Sugar transport\n",
       "observed                                                   \n",
       "Amino-acid transport                    21                2\n",
       "Sugar transport                          1               26"
      ]
     },
     "execution_count": 19,
     "metadata": {},
     "output_type": "execute_result"
    }
   ],
   "source": [
    "df_cm = get_confusion_matrix(X_test, y_test, best_estimator_svc_pca, labels=labels)\n",
    "df_cm"
   ]
  },
  {
   "cell_type": "code",
   "execution_count": 20,
   "metadata": {
    "execution": {
     "iopub.execute_input": "2022-10-04T16:14:59.178902Z",
     "iopub.status.busy": "2022-10-04T16:14:59.178662Z",
     "iopub.status.idle": "2022-10-04T16:14:59.185028Z",
     "shell.execute_reply": "2022-10-04T16:14:59.184338Z"
    }
   },
   "outputs": [
    {
     "data": {
      "text/plain": [
       "observed\n",
       "Amino-acid transport    0.913\n",
       "Sugar transport         0.963\n",
       "dtype: float64"
      ]
     },
     "execution_count": 20,
     "metadata": {},
     "output_type": "execute_result"
    }
   ],
   "source": [
    "from numpy import diag, fill_diagonal\n",
    "acc = diag(df_cm) / df_cm.sum(axis=1)\n",
    "acc.round(3)"
   ]
  },
  {
   "cell_type": "code",
   "execution_count": 21,
   "metadata": {
    "execution": {
     "iopub.execute_input": "2022-10-04T16:14:59.188811Z",
     "iopub.status.busy": "2022-10-04T16:14:59.188653Z",
     "iopub.status.idle": "2022-10-04T16:14:59.210330Z",
     "shell.execute_reply": "2022-10-04T16:14:59.209639Z"
    }
   },
   "outputs": [
    {
     "data": {
      "text/html": [
       "<div>\n",
       "<style scoped>\n",
       "    .dataframe tbody tr th:only-of-type {\n",
       "        vertical-align: middle;\n",
       "    }\n",
       "\n",
       "    .dataframe tbody tr th {\n",
       "        vertical-align: top;\n",
       "    }\n",
       "\n",
       "    .dataframe thead th {\n",
       "        text-align: right;\n",
       "    }\n",
       "</style>\n",
       "<table border=\"1\" class=\"dataframe\">\n",
       "  <thead>\n",
       "    <tr style=\"text-align: right;\">\n",
       "      <th></th>\n",
       "      <th>precision</th>\n",
       "      <th>recall</th>\n",
       "      <th>f1-score</th>\n",
       "      <th>support</th>\n",
       "    </tr>\n",
       "  </thead>\n",
       "  <tbody>\n",
       "    <tr>\n",
       "      <th>Amino-acid transport</th>\n",
       "      <td>0.955</td>\n",
       "      <td>0.913</td>\n",
       "      <td>0.933</td>\n",
       "      <td>23</td>\n",
       "    </tr>\n",
       "    <tr>\n",
       "      <th>Sugar transport</th>\n",
       "      <td>0.929</td>\n",
       "      <td>0.963</td>\n",
       "      <td>0.945</td>\n",
       "      <td>27</td>\n",
       "    </tr>\n",
       "    <tr>\n",
       "      <th>macro avg</th>\n",
       "      <td>0.942</td>\n",
       "      <td>0.938</td>\n",
       "      <td>0.939</td>\n",
       "      <td>50</td>\n",
       "    </tr>\n",
       "    <tr>\n",
       "      <th>weighted avg</th>\n",
       "      <td>0.941</td>\n",
       "      <td>0.94</td>\n",
       "      <td>0.940</td>\n",
       "      <td>50</td>\n",
       "    </tr>\n",
       "    <tr>\n",
       "      <th>balanced accuracy</th>\n",
       "      <td></td>\n",
       "      <td></td>\n",
       "      <td>0.938</td>\n",
       "      <td>50</td>\n",
       "    </tr>\n",
       "  </tbody>\n",
       "</table>\n",
       "</div>"
      ],
      "text/plain": [
       "                     precision recall  f1-score  support\n",
       "Amino-acid transport     0.955  0.913     0.933       23\n",
       "Sugar transport          0.929  0.963     0.945       27\n",
       "macro avg                0.942  0.938     0.939       50\n",
       "weighted avg             0.941   0.94     0.940       50\n",
       "balanced accuracy                         0.938       50"
      ]
     },
     "execution_count": 21,
     "metadata": {},
     "output_type": "execute_result"
    }
   ],
   "source": [
    "get_classification_report(X_test, y_test, best_estimator_svc_pca, labels=labels, add_balanced_accuracy=True)"
   ]
  },
  {
   "cell_type": "markdown",
   "metadata": {},
   "source": [
    "Training scores:"
   ]
  },
  {
   "cell_type": "code",
   "execution_count": 22,
   "metadata": {
    "execution": {
     "iopub.execute_input": "2022-10-04T16:14:59.213902Z",
     "iopub.status.busy": "2022-10-04T16:14:59.213751Z",
     "iopub.status.idle": "2022-10-04T16:14:59.271807Z",
     "shell.execute_reply": "2022-10-04T16:14:59.270891Z"
    }
   },
   "outputs": [
    {
     "data": {
      "text/html": [
       "<div>\n",
       "<style scoped>\n",
       "    .dataframe tbody tr th:only-of-type {\n",
       "        vertical-align: middle;\n",
       "    }\n",
       "\n",
       "    .dataframe tbody tr th {\n",
       "        vertical-align: top;\n",
       "    }\n",
       "\n",
       "    .dataframe thead th {\n",
       "        text-align: right;\n",
       "    }\n",
       "</style>\n",
       "<table border=\"1\" class=\"dataframe\">\n",
       "  <thead>\n",
       "    <tr style=\"text-align: right;\">\n",
       "      <th></th>\n",
       "      <th>precision</th>\n",
       "      <th>recall</th>\n",
       "      <th>f1-score</th>\n",
       "      <th>support</th>\n",
       "    </tr>\n",
       "  </thead>\n",
       "  <tbody>\n",
       "    <tr>\n",
       "      <th>Amino-acid transport</th>\n",
       "      <td>1.0</td>\n",
       "      <td>1.0</td>\n",
       "      <td>1.0</td>\n",
       "      <td>92</td>\n",
       "    </tr>\n",
       "    <tr>\n",
       "      <th>Sugar transport</th>\n",
       "      <td>1.0</td>\n",
       "      <td>1.0</td>\n",
       "      <td>1.0</td>\n",
       "      <td>107</td>\n",
       "    </tr>\n",
       "    <tr>\n",
       "      <th>macro avg</th>\n",
       "      <td>1.0</td>\n",
       "      <td>1.0</td>\n",
       "      <td>1.0</td>\n",
       "      <td>199</td>\n",
       "    </tr>\n",
       "    <tr>\n",
       "      <th>weighted avg</th>\n",
       "      <td>1.0</td>\n",
       "      <td>1.0</td>\n",
       "      <td>1.0</td>\n",
       "      <td>199</td>\n",
       "    </tr>\n",
       "    <tr>\n",
       "      <th>balanced accuracy</th>\n",
       "      <td></td>\n",
       "      <td></td>\n",
       "      <td>1.0</td>\n",
       "      <td>199</td>\n",
       "    </tr>\n",
       "  </tbody>\n",
       "</table>\n",
       "</div>"
      ],
      "text/plain": [
       "                     precision recall  f1-score  support\n",
       "Amino-acid transport       1.0    1.0       1.0       92\n",
       "Sugar transport            1.0    1.0       1.0      107\n",
       "macro avg                  1.0    1.0       1.0      199\n",
       "weighted avg               1.0    1.0       1.0      199\n",
       "balanced accuracy                           1.0      199"
      ]
     },
     "execution_count": 22,
     "metadata": {},
     "output_type": "execute_result"
    }
   ],
   "source": [
    "get_classification_report(X_train, y_train, best_estimator_svc_pca, labels=labels, add_balanced_accuracy=True)"
   ]
  },
  {
   "cell_type": "markdown",
   "metadata": {},
   "source": [
    "Training CV scores"
   ]
  },
  {
   "cell_type": "code",
   "execution_count": 23,
   "metadata": {
    "execution": {
     "iopub.execute_input": "2022-10-04T16:14:59.276731Z",
     "iopub.status.busy": "2022-10-04T16:14:59.275980Z",
     "iopub.status.idle": "2022-10-04T16:15:00.002860Z",
     "shell.execute_reply": "2022-10-04T16:15:00.001707Z"
    }
   },
   "outputs": [
    {
     "data": {
      "text/html": [
       "<div>\n",
       "<style scoped>\n",
       "    .dataframe tbody tr th:only-of-type {\n",
       "        vertical-align: middle;\n",
       "    }\n",
       "\n",
       "    .dataframe tbody tr th {\n",
       "        vertical-align: top;\n",
       "    }\n",
       "\n",
       "    .dataframe thead th {\n",
       "        text-align: right;\n",
       "    }\n",
       "</style>\n",
       "<table border=\"1\" class=\"dataframe\">\n",
       "  <thead>\n",
       "    <tr style=\"text-align: right;\">\n",
       "      <th></th>\n",
       "      <th>1</th>\n",
       "      <th>2</th>\n",
       "      <th>3</th>\n",
       "      <th>4</th>\n",
       "      <th>5</th>\n",
       "      <th>avg</th>\n",
       "      <th>sdev</th>\n",
       "    </tr>\n",
       "  </thead>\n",
       "  <tbody>\n",
       "    <tr>\n",
       "      <th>fit_time</th>\n",
       "      <td>0.065</td>\n",
       "      <td>0.056</td>\n",
       "      <td>0.063</td>\n",
       "      <td>0.041</td>\n",
       "      <td>0.022</td>\n",
       "      <td>0.050</td>\n",
       "      <td>0.018</td>\n",
       "    </tr>\n",
       "    <tr>\n",
       "      <th>score_time</th>\n",
       "      <td>0.013</td>\n",
       "      <td>0.013</td>\n",
       "      <td>0.007</td>\n",
       "      <td>0.006</td>\n",
       "      <td>0.006</td>\n",
       "      <td>0.009</td>\n",
       "      <td>0.004</td>\n",
       "    </tr>\n",
       "    <tr>\n",
       "      <th>test_acc</th>\n",
       "      <td>1.000</td>\n",
       "      <td>0.925</td>\n",
       "      <td>0.975</td>\n",
       "      <td>0.925</td>\n",
       "      <td>1.000</td>\n",
       "      <td>0.965</td>\n",
       "      <td>0.038</td>\n",
       "    </tr>\n",
       "    <tr>\n",
       "      <th>test_acc_Amino-acid transport</th>\n",
       "      <td>1.000</td>\n",
       "      <td>0.895</td>\n",
       "      <td>0.944</td>\n",
       "      <td>0.944</td>\n",
       "      <td>1.000</td>\n",
       "      <td>0.957</td>\n",
       "      <td>0.044</td>\n",
       "    </tr>\n",
       "    <tr>\n",
       "      <th>test_acc_Sugar transport</th>\n",
       "      <td>1.000</td>\n",
       "      <td>0.952</td>\n",
       "      <td>1.000</td>\n",
       "      <td>0.909</td>\n",
       "      <td>1.000</td>\n",
       "      <td>0.972</td>\n",
       "      <td>0.041</td>\n",
       "    </tr>\n",
       "    <tr>\n",
       "      <th>test_acc_bal</th>\n",
       "      <td>1.000</td>\n",
       "      <td>0.924</td>\n",
       "      <td>0.972</td>\n",
       "      <td>0.927</td>\n",
       "      <td>1.000</td>\n",
       "      <td>0.965</td>\n",
       "      <td>0.038</td>\n",
       "    </tr>\n",
       "    <tr>\n",
       "      <th>test_f1_Amino-acid transport</th>\n",
       "      <td>1.000</td>\n",
       "      <td>0.919</td>\n",
       "      <td>0.971</td>\n",
       "      <td>0.919</td>\n",
       "      <td>1.000</td>\n",
       "      <td>0.962</td>\n",
       "      <td>0.041</td>\n",
       "    </tr>\n",
       "    <tr>\n",
       "      <th>test_f1_Sugar transport</th>\n",
       "      <td>1.000</td>\n",
       "      <td>0.930</td>\n",
       "      <td>0.978</td>\n",
       "      <td>0.930</td>\n",
       "      <td>1.000</td>\n",
       "      <td>0.968</td>\n",
       "      <td>0.035</td>\n",
       "    </tr>\n",
       "    <tr>\n",
       "      <th>test_f1_macro</th>\n",
       "      <td>1.000</td>\n",
       "      <td>0.925</td>\n",
       "      <td>0.975</td>\n",
       "      <td>0.925</td>\n",
       "      <td>1.000</td>\n",
       "      <td>0.965</td>\n",
       "      <td>0.038</td>\n",
       "    </tr>\n",
       "    <tr>\n",
       "      <th>test_precision_Amino-acid transport</th>\n",
       "      <td>1.000</td>\n",
       "      <td>0.944</td>\n",
       "      <td>1.000</td>\n",
       "      <td>0.895</td>\n",
       "      <td>1.000</td>\n",
       "      <td>0.968</td>\n",
       "      <td>0.047</td>\n",
       "    </tr>\n",
       "    <tr>\n",
       "      <th>test_precision_Sugar transport</th>\n",
       "      <td>1.000</td>\n",
       "      <td>0.909</td>\n",
       "      <td>0.957</td>\n",
       "      <td>0.952</td>\n",
       "      <td>1.000</td>\n",
       "      <td>0.964</td>\n",
       "      <td>0.038</td>\n",
       "    </tr>\n",
       "    <tr>\n",
       "      <th>test_precision_macro</th>\n",
       "      <td>1.000</td>\n",
       "      <td>0.927</td>\n",
       "      <td>0.978</td>\n",
       "      <td>0.924</td>\n",
       "      <td>1.000</td>\n",
       "      <td>0.966</td>\n",
       "      <td>0.038</td>\n",
       "    </tr>\n",
       "    <tr>\n",
       "      <th>test_recall_Amino-acid transport</th>\n",
       "      <td>1.000</td>\n",
       "      <td>0.895</td>\n",
       "      <td>0.944</td>\n",
       "      <td>0.944</td>\n",
       "      <td>1.000</td>\n",
       "      <td>0.957</td>\n",
       "      <td>0.044</td>\n",
       "    </tr>\n",
       "    <tr>\n",
       "      <th>test_recall_Sugar transport</th>\n",
       "      <td>1.000</td>\n",
       "      <td>0.952</td>\n",
       "      <td>1.000</td>\n",
       "      <td>0.909</td>\n",
       "      <td>1.000</td>\n",
       "      <td>0.972</td>\n",
       "      <td>0.041</td>\n",
       "    </tr>\n",
       "    <tr>\n",
       "      <th>test_recall_macro</th>\n",
       "      <td>1.000</td>\n",
       "      <td>0.924</td>\n",
       "      <td>0.972</td>\n",
       "      <td>0.927</td>\n",
       "      <td>1.000</td>\n",
       "      <td>0.965</td>\n",
       "      <td>0.038</td>\n",
       "    </tr>\n",
       "    <tr>\n",
       "      <th>train_acc</th>\n",
       "      <td>1.000</td>\n",
       "      <td>1.000</td>\n",
       "      <td>1.000</td>\n",
       "      <td>1.000</td>\n",
       "      <td>1.000</td>\n",
       "      <td>1.000</td>\n",
       "      <td>0.000</td>\n",
       "    </tr>\n",
       "    <tr>\n",
       "      <th>train_acc_bal</th>\n",
       "      <td>1.000</td>\n",
       "      <td>1.000</td>\n",
       "      <td>1.000</td>\n",
       "      <td>1.000</td>\n",
       "      <td>1.000</td>\n",
       "      <td>1.000</td>\n",
       "      <td>0.000</td>\n",
       "    </tr>\n",
       "    <tr>\n",
       "      <th>train_f1_Amino-acid transport</th>\n",
       "      <td>1.000</td>\n",
       "      <td>1.000</td>\n",
       "      <td>1.000</td>\n",
       "      <td>1.000</td>\n",
       "      <td>1.000</td>\n",
       "      <td>1.000</td>\n",
       "      <td>0.000</td>\n",
       "    </tr>\n",
       "    <tr>\n",
       "      <th>train_f1_Sugar transport</th>\n",
       "      <td>1.000</td>\n",
       "      <td>1.000</td>\n",
       "      <td>1.000</td>\n",
       "      <td>1.000</td>\n",
       "      <td>1.000</td>\n",
       "      <td>1.000</td>\n",
       "      <td>0.000</td>\n",
       "    </tr>\n",
       "    <tr>\n",
       "      <th>train_f1_macro</th>\n",
       "      <td>1.000</td>\n",
       "      <td>1.000</td>\n",
       "      <td>1.000</td>\n",
       "      <td>1.000</td>\n",
       "      <td>1.000</td>\n",
       "      <td>1.000</td>\n",
       "      <td>0.000</td>\n",
       "    </tr>\n",
       "    <tr>\n",
       "      <th>train_precision_Amino-acid transport</th>\n",
       "      <td>1.000</td>\n",
       "      <td>1.000</td>\n",
       "      <td>1.000</td>\n",
       "      <td>1.000</td>\n",
       "      <td>1.000</td>\n",
       "      <td>1.000</td>\n",
       "      <td>0.000</td>\n",
       "    </tr>\n",
       "    <tr>\n",
       "      <th>train_precision_Sugar transport</th>\n",
       "      <td>1.000</td>\n",
       "      <td>1.000</td>\n",
       "      <td>1.000</td>\n",
       "      <td>1.000</td>\n",
       "      <td>1.000</td>\n",
       "      <td>1.000</td>\n",
       "      <td>0.000</td>\n",
       "    </tr>\n",
       "    <tr>\n",
       "      <th>train_precision_macro</th>\n",
       "      <td>1.000</td>\n",
       "      <td>1.000</td>\n",
       "      <td>1.000</td>\n",
       "      <td>1.000</td>\n",
       "      <td>1.000</td>\n",
       "      <td>1.000</td>\n",
       "      <td>0.000</td>\n",
       "    </tr>\n",
       "    <tr>\n",
       "      <th>train_recall_Amino-acid transport</th>\n",
       "      <td>1.000</td>\n",
       "      <td>1.000</td>\n",
       "      <td>1.000</td>\n",
       "      <td>1.000</td>\n",
       "      <td>1.000</td>\n",
       "      <td>1.000</td>\n",
       "      <td>0.000</td>\n",
       "    </tr>\n",
       "    <tr>\n",
       "      <th>train_recall_Sugar transport</th>\n",
       "      <td>1.000</td>\n",
       "      <td>1.000</td>\n",
       "      <td>1.000</td>\n",
       "      <td>1.000</td>\n",
       "      <td>1.000</td>\n",
       "      <td>1.000</td>\n",
       "      <td>0.000</td>\n",
       "    </tr>\n",
       "    <tr>\n",
       "      <th>train_recall_macro</th>\n",
       "      <td>1.000</td>\n",
       "      <td>1.000</td>\n",
       "      <td>1.000</td>\n",
       "      <td>1.000</td>\n",
       "      <td>1.000</td>\n",
       "      <td>1.000</td>\n",
       "      <td>0.000</td>\n",
       "    </tr>\n",
       "  </tbody>\n",
       "</table>\n",
       "</div>"
      ],
      "text/plain": [
       "                                          1      2      3      4      5  \\\n",
       "fit_time                              0.065  0.056  0.063  0.041  0.022   \n",
       "score_time                            0.013  0.013  0.007  0.006  0.006   \n",
       "test_acc                              1.000  0.925  0.975  0.925  1.000   \n",
       "test_acc_Amino-acid transport         1.000  0.895  0.944  0.944  1.000   \n",
       "test_acc_Sugar transport              1.000  0.952  1.000  0.909  1.000   \n",
       "test_acc_bal                          1.000  0.924  0.972  0.927  1.000   \n",
       "test_f1_Amino-acid transport          1.000  0.919  0.971  0.919  1.000   \n",
       "test_f1_Sugar transport               1.000  0.930  0.978  0.930  1.000   \n",
       "test_f1_macro                         1.000  0.925  0.975  0.925  1.000   \n",
       "test_precision_Amino-acid transport   1.000  0.944  1.000  0.895  1.000   \n",
       "test_precision_Sugar transport        1.000  0.909  0.957  0.952  1.000   \n",
       "test_precision_macro                  1.000  0.927  0.978  0.924  1.000   \n",
       "test_recall_Amino-acid transport      1.000  0.895  0.944  0.944  1.000   \n",
       "test_recall_Sugar transport           1.000  0.952  1.000  0.909  1.000   \n",
       "test_recall_macro                     1.000  0.924  0.972  0.927  1.000   \n",
       "train_acc                             1.000  1.000  1.000  1.000  1.000   \n",
       "train_acc_bal                         1.000  1.000  1.000  1.000  1.000   \n",
       "train_f1_Amino-acid transport         1.000  1.000  1.000  1.000  1.000   \n",
       "train_f1_Sugar transport              1.000  1.000  1.000  1.000  1.000   \n",
       "train_f1_macro                        1.000  1.000  1.000  1.000  1.000   \n",
       "train_precision_Amino-acid transport  1.000  1.000  1.000  1.000  1.000   \n",
       "train_precision_Sugar transport       1.000  1.000  1.000  1.000  1.000   \n",
       "train_precision_macro                 1.000  1.000  1.000  1.000  1.000   \n",
       "train_recall_Amino-acid transport     1.000  1.000  1.000  1.000  1.000   \n",
       "train_recall_Sugar transport          1.000  1.000  1.000  1.000  1.000   \n",
       "train_recall_macro                    1.000  1.000  1.000  1.000  1.000   \n",
       "\n",
       "                                        avg   sdev  \n",
       "fit_time                              0.050  0.018  \n",
       "score_time                            0.009  0.004  \n",
       "test_acc                              0.965  0.038  \n",
       "test_acc_Amino-acid transport         0.957  0.044  \n",
       "test_acc_Sugar transport              0.972  0.041  \n",
       "test_acc_bal                          0.965  0.038  \n",
       "test_f1_Amino-acid transport          0.962  0.041  \n",
       "test_f1_Sugar transport               0.968  0.035  \n",
       "test_f1_macro                         0.965  0.038  \n",
       "test_precision_Amino-acid transport   0.968  0.047  \n",
       "test_precision_Sugar transport        0.964  0.038  \n",
       "test_precision_macro                  0.966  0.038  \n",
       "test_recall_Amino-acid transport      0.957  0.044  \n",
       "test_recall_Sugar transport           0.972  0.041  \n",
       "test_recall_macro                     0.965  0.038  \n",
       "train_acc                             1.000  0.000  \n",
       "train_acc_bal                         1.000  0.000  \n",
       "train_f1_Amino-acid transport         1.000  0.000  \n",
       "train_f1_Sugar transport              1.000  0.000  \n",
       "train_f1_macro                        1.000  0.000  \n",
       "train_precision_Amino-acid transport  1.000  0.000  \n",
       "train_precision_Sugar transport       1.000  0.000  \n",
       "train_precision_macro                 1.000  0.000  \n",
       "train_recall_Amino-acid transport     1.000  0.000  \n",
       "train_recall_Sugar transport          1.000  0.000  \n",
       "train_recall_macro                    1.000  0.000  "
      ]
     },
     "execution_count": 23,
     "metadata": {},
     "output_type": "execute_result"
    }
   ],
   "source": [
    "df_cv_scores = get_cv_scores(X_train,y_train,gsearch.best_estimator_, labels=labels.unique())\n",
    "df_cv_scores"
   ]
  },
  {
   "cell_type": "markdown",
   "metadata": {},
   "source": [
    "### Conclusion\n",
    "\n",
    "Without the E Coli transporters, all SVM kernels and preprocessing methods we tested led to good performance on training and test set, always 0.02-0.05 better than with E coli, in terms of average F1 score."
   ]
  },
  {
   "cell_type": "markdown",
   "metadata": {},
   "source": [
    "## Estimating validation variance\n",
    "\n",
    "How much did the result depend on choosing the training and test sets?\n",
    "\n",
    "Mean and standard deviation for randomly selected training and validation sets."
   ]
  },
  {
   "cell_type": "markdown",
   "metadata": {},
   "source": [
    "#### RBF+PCA "
   ]
  },
  {
   "cell_type": "code",
   "execution_count": 24,
   "metadata": {
    "execution": {
     "iopub.execute_input": "2022-10-04T16:15:00.009078Z",
     "iopub.status.busy": "2022-10-04T16:15:00.008206Z",
     "iopub.status.idle": "2022-10-04T16:22:45.549628Z",
     "shell.execute_reply": "2022-10-04T16:22:45.548660Z"
    }
   },
   "outputs": [
    {
     "name": "stdout",
     "output_type": "stream",
     "text": [
      "Mean F1\n"
     ]
    },
    {
     "data": {
      "text/html": [
       "<div>\n",
       "<style scoped>\n",
       "    .dataframe tbody tr th:only-of-type {\n",
       "        vertical-align: middle;\n",
       "    }\n",
       "\n",
       "    .dataframe tbody tr th {\n",
       "        vertical-align: top;\n",
       "    }\n",
       "\n",
       "    .dataframe thead th {\n",
       "        text-align: right;\n",
       "    }\n",
       "</style>\n",
       "<table border=\"1\" class=\"dataframe\">\n",
       "  <thead>\n",
       "    <tr style=\"text-align: right;\">\n",
       "      <th>dataset</th>\n",
       "      <th>test</th>\n",
       "      <th>train</th>\n",
       "    </tr>\n",
       "    <tr>\n",
       "      <th>label</th>\n",
       "      <th></th>\n",
       "      <th></th>\n",
       "    </tr>\n",
       "  </thead>\n",
       "  <tbody>\n",
       "    <tr>\n",
       "      <th>Amino-acid transport</th>\n",
       "      <td>0.9332</td>\n",
       "      <td>0.964</td>\n",
       "    </tr>\n",
       "    <tr>\n",
       "      <th>Sugar transport</th>\n",
       "      <td>0.9513</td>\n",
       "      <td>0.970</td>\n",
       "    </tr>\n",
       "  </tbody>\n",
       "</table>\n",
       "</div>"
      ],
      "text/plain": [
       "dataset                 test  train\n",
       "label                              \n",
       "Amino-acid transport  0.9332  0.964\n",
       "Sugar transport       0.9513  0.970"
      ]
     },
     "metadata": {},
     "output_type": "display_data"
    },
    {
     "name": "stdout",
     "output_type": "stream",
     "text": [
      "Sdev F1\n"
     ]
    },
    {
     "data": {
      "text/html": [
       "<div>\n",
       "<style scoped>\n",
       "    .dataframe tbody tr th:only-of-type {\n",
       "        vertical-align: middle;\n",
       "    }\n",
       "\n",
       "    .dataframe tbody tr th {\n",
       "        vertical-align: top;\n",
       "    }\n",
       "\n",
       "    .dataframe thead th {\n",
       "        text-align: right;\n",
       "    }\n",
       "</style>\n",
       "<table border=\"1\" class=\"dataframe\">\n",
       "  <thead>\n",
       "    <tr style=\"text-align: right;\">\n",
       "      <th>dataset</th>\n",
       "      <th>test</th>\n",
       "      <th>train</th>\n",
       "    </tr>\n",
       "    <tr>\n",
       "      <th>label</th>\n",
       "      <th></th>\n",
       "      <th></th>\n",
       "    </tr>\n",
       "  </thead>\n",
       "  <tbody>\n",
       "    <tr>\n",
       "      <th>Amino-acid transport</th>\n",
       "      <td>0.072278</td>\n",
       "      <td>0.010541</td>\n",
       "    </tr>\n",
       "    <tr>\n",
       "      <th>Sugar transport</th>\n",
       "      <td>0.044791</td>\n",
       "      <td>0.008718</td>\n",
       "    </tr>\n",
       "  </tbody>\n",
       "</table>\n",
       "</div>"
      ],
      "text/plain": [
       "dataset                   test     train\n",
       "label                                   \n",
       "Amino-acid transport  0.072278  0.010541\n",
       "Sugar transport       0.044791  0.008718"
      ]
     },
     "metadata": {},
     "output_type": "display_data"
    },
    {
     "name": "stdout",
     "output_type": "stream",
     "text": [
      "Parameters\n"
     ]
    },
    {
     "data": {
      "text/html": [
       "<div>\n",
       "<style scoped>\n",
       "    .dataframe tbody tr th:only-of-type {\n",
       "        vertical-align: middle;\n",
       "    }\n",
       "\n",
       "    .dataframe tbody tr th {\n",
       "        vertical-align: top;\n",
       "    }\n",
       "\n",
       "    .dataframe thead th {\n",
       "        text-align: right;\n",
       "    }\n",
       "</style>\n",
       "<table border=\"1\" class=\"dataframe\">\n",
       "  <thead>\n",
       "    <tr style=\"text-align: right;\">\n",
       "      <th></th>\n",
       "      <th>0</th>\n",
       "      <th>1</th>\n",
       "      <th>2</th>\n",
       "      <th>3</th>\n",
       "      <th>4</th>\n",
       "      <th>5</th>\n",
       "      <th>6</th>\n",
       "      <th>7</th>\n",
       "      <th>8</th>\n",
       "      <th>9</th>\n",
       "    </tr>\n",
       "  </thead>\n",
       "  <tbody>\n",
       "    <tr>\n",
       "      <th>pca__n_components</th>\n",
       "      <td>0.92</td>\n",
       "      <td>0.98</td>\n",
       "      <td>0.98</td>\n",
       "      <td>0.96</td>\n",
       "      <td>0.95</td>\n",
       "      <td>0.99</td>\n",
       "      <td>0.98</td>\n",
       "      <td>0.99</td>\n",
       "      <td>0.99</td>\n",
       "      <td>0.97</td>\n",
       "    </tr>\n",
       "    <tr>\n",
       "      <th>pssmselector__iterations</th>\n",
       "      <td>3</td>\n",
       "      <td>all</td>\n",
       "      <td>3</td>\n",
       "      <td>3</td>\n",
       "      <td>3</td>\n",
       "      <td>all</td>\n",
       "      <td>all</td>\n",
       "      <td>3</td>\n",
       "      <td>all</td>\n",
       "      <td>3</td>\n",
       "    </tr>\n",
       "    <tr>\n",
       "      <th>pssmselector__uniref_threshold</th>\n",
       "      <td>all</td>\n",
       "      <td>50</td>\n",
       "      <td>50</td>\n",
       "      <td>all</td>\n",
       "      <td>50</td>\n",
       "      <td>50</td>\n",
       "      <td>50</td>\n",
       "      <td>50</td>\n",
       "      <td>50</td>\n",
       "      <td>50</td>\n",
       "    </tr>\n",
       "    <tr>\n",
       "      <th>svc__C</th>\n",
       "      <td>1</td>\n",
       "      <td>10</td>\n",
       "      <td>10</td>\n",
       "      <td>1</td>\n",
       "      <td>10</td>\n",
       "      <td>1</td>\n",
       "      <td>1</td>\n",
       "      <td>10</td>\n",
       "      <td>10</td>\n",
       "      <td>10</td>\n",
       "    </tr>\n",
       "    <tr>\n",
       "      <th>svc__class_weight</th>\n",
       "      <td>None</td>\n",
       "      <td>balanced</td>\n",
       "      <td>balanced</td>\n",
       "      <td>balanced</td>\n",
       "      <td>balanced</td>\n",
       "      <td>balanced</td>\n",
       "      <td>balanced</td>\n",
       "      <td>balanced</td>\n",
       "      <td>balanced</td>\n",
       "      <td>balanced</td>\n",
       "    </tr>\n",
       "    <tr>\n",
       "      <th>svc__gamma</th>\n",
       "      <td>0.1</td>\n",
       "      <td>0.01</td>\n",
       "      <td>scale</td>\n",
       "      <td>scale</td>\n",
       "      <td>scale</td>\n",
       "      <td>scale</td>\n",
       "      <td>0.01</td>\n",
       "      <td>scale</td>\n",
       "      <td>scale</td>\n",
       "      <td>scale</td>\n",
       "    </tr>\n",
       "  </tbody>\n",
       "</table>\n",
       "</div>"
      ],
      "text/plain": [
       "                                   0         1         2         3         4  \\\n",
       "pca__n_components               0.92      0.98      0.98      0.96      0.95   \n",
       "pssmselector__iterations           3       all         3         3         3   \n",
       "pssmselector__uniref_threshold   all        50        50       all        50   \n",
       "svc__C                             1        10        10         1        10   \n",
       "svc__class_weight               None  balanced  balanced  balanced  balanced   \n",
       "svc__gamma                       0.1      0.01     scale     scale     scale   \n",
       "\n",
       "                                       5         6         7         8  \\\n",
       "pca__n_components                   0.99      0.98      0.99      0.99   \n",
       "pssmselector__iterations             all       all         3       all   \n",
       "pssmselector__uniref_threshold        50        50        50        50   \n",
       "svc__C                                 1         1        10        10   \n",
       "svc__class_weight               balanced  balanced  balanced  balanced   \n",
       "svc__gamma                         scale      0.01     scale     scale   \n",
       "\n",
       "                                       9  \n",
       "pca__n_components                   0.97  \n",
       "pssmselector__iterations               3  \n",
       "pssmselector__uniref_threshold        50  \n",
       "svc__C                                10  \n",
       "svc__class_weight               balanced  \n",
       "svc__gamma                         scale  "
      ]
     },
     "metadata": {},
     "output_type": "display_data"
    }
   ],
   "source": [
    "df_scores, df_params = full_test(\n",
    "    df_pssm,\n",
    "    labels,\n",
    "    dim_reduction=\"pca\",\n",
    "    kernel=\"rbf\",\n",
    "    repetitions=10,\n",
    "    feature_transformer=\"pssm\",\n",
    ")\n",
    "df_scores_gr = df_scores.groupby([\"label\", \"dataset\"], as_index=False)\n",
    "print(\"Mean F1\")\n",
    "display(df_scores_gr.mean().pivot(index=\"label\", columns=\"dataset\", values=\"F1 score\"))\n",
    "print(\"Sdev F1\")\n",
    "display(df_scores_gr.std().pivot(index=\"label\", columns=\"dataset\", values=\"F1 score\"))\n",
    "print(\"Parameters\")\n",
    "display(df_params)"
   ]
  },
  {
   "cell_type": "markdown",
   "metadata": {},
   "source": [
    "Removing E coli from the dataset improves the PSSM model by up to 0.05 (F1)."
   ]
  }
 ],
 "metadata": {
  "kernelspec": {
   "display_name": "Python 3.9.12 ('subpred')",
   "language": "python",
   "name": "python3"
  },
  "language_info": {
   "codemirror_mode": {
    "name": "ipython",
    "version": 3
   },
   "file_extension": ".py",
   "mimetype": "text/x-python",
   "name": "python",
   "nbconvert_exporter": "python",
   "pygments_lexer": "ipython3",
   "version": "3.9.12"
  },
  "vscode": {
   "interpreter": {
    "hash": "a3c5a88a8b1fa059748e807688afdff6c3f31eb23364e67d8e1c7f5771f5e23f"
   }
  }
 },
 "nbformat": 4,
 "nbformat_minor": 2
}
