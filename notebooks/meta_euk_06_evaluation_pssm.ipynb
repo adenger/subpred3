{
 "cells": [
  {
   "cell_type": "markdown",
   "metadata": {},
   "source": [
    "# PSSM Feature evaluation"
   ]
  },
  {
   "cell_type": "markdown",
   "metadata": {},
   "source": [
    "# Imports"
   ]
  },
  {
   "cell_type": "code",
   "execution_count": null,
   "metadata": {
    "execution": {
     "iopub.execute_input": "2022-07-26T15:44:46.476624Z",
     "iopub.status.busy": "2022-07-26T15:44:46.476169Z",
     "iopub.status.idle": "2022-07-26T15:44:47.090317Z",
     "shell.execute_reply": "2022-07-26T15:44:47.089533Z"
    }
   },
   "outputs": [],
   "source": [
    "from subpred.transporter_dataset import create_dataset\n",
    "from subpred.eval import (\n",
    "    get_independent_test_set,\n",
    "    optimize_hyperparams,\n",
    "    preprocess_pandas,\n",
    "    models_quick_compare,\n",
    "    get_confusion_matrix,\n",
    "    get_classification_report,\n",
    "    full_test,\n",
    ")\n",
    "from subpred.pssm import calculate_pssms_notebook"
   ]
  },
  {
   "cell_type": "markdown",
   "metadata": {},
   "source": [
    "# Dataset"
   ]
  },
  {
   "cell_type": "code",
   "execution_count": null,
   "metadata": {
    "execution": {
     "iopub.execute_input": "2022-07-26T15:44:47.092848Z",
     "iopub.status.busy": "2022-07-26T15:44:47.092626Z",
     "iopub.status.idle": "2022-07-26T15:44:57.942612Z",
     "shell.execute_reply": "2022-07-26T15:44:57.941861Z"
    }
   },
   "outputs": [],
   "source": [
    "outliers = (\n",
    "    [\"Q9HBR0\", \"Q07837\"]  + [\"O81775\", \"Q9SW07\", \"Q9FHH5\", \"Q8S8A0\", \"Q3E965\", \"Q3EAV6\", \"Q3E8L0\"]\n",
    "    \n",
    ")\n",
    "df = create_dataset(\n",
    "    keywords_substrate_filter=[\"Amino-acid transport\", \"Sugar transport\"],\n",
    "    keywords_component_filter=[\"Transmembrane\"],\n",
    "    keywords_transport_filter=[\"Transport\"],\n",
    "    input_file=\"../data/raw/swissprot/uniprot-reviewed_yes.tab.gz\",\n",
    "    multi_substrate=\"integrate\",\n",
    "    verbose=True,\n",
    "    tax_ids_filter=[3702, 9606, 559292],\n",
    "    output_log=\"../logs/meta_amino_sugar_dataset.log\",\n",
    "    outliers=outliers,\n",
    "    sequence_clustering=70\n",
    ")\n",
    "taxid_to_organism = {\n",
    "    3702: \"A. thaliana\",\n",
    "    9606: \"Human\",\n",
    "    559292: \"Yeast\",\n",
    "}\n",
    "df = df.assign(organism=df.organism_id.map(taxid_to_organism))\n"
   ]
  },
  {
   "cell_type": "markdown",
   "metadata": {},
   "source": [
    "# Feature generation"
   ]
  },
  {
   "cell_type": "code",
   "execution_count": null,
   "metadata": {
    "execution": {
     "iopub.execute_input": "2022-07-26T15:44:57.974594Z",
     "iopub.status.busy": "2022-07-26T15:44:57.974166Z",
     "iopub.status.idle": "2022-07-26T15:44:57.993334Z",
     "shell.execute_reply": "2022-07-26T15:44:57.992674Z"
    }
   },
   "outputs": [],
   "source": [
    "labels = df.keywords_transport\n",
    "labels.value_counts()"
   ]
  },
  {
   "cell_type": "code",
   "execution_count": null,
   "metadata": {
    "execution": {
     "iopub.execute_input": "2022-07-26T15:44:57.997475Z",
     "iopub.status.busy": "2022-07-26T15:44:57.997137Z",
     "iopub.status.idle": "2022-07-26T15:45:02.836447Z",
     "shell.execute_reply": "2022-07-26T15:45:02.835186Z"
    }
   },
   "outputs": [],
   "source": [
    "df_pssm = calculate_pssms_notebook(df.sequence)\n",
    "df_pssm"
   ]
  },
  {
   "cell_type": "markdown",
   "metadata": {},
   "source": [
    "## Independent test set"
   ]
  },
  {
   "cell_type": "code",
   "execution_count": null,
   "metadata": {
    "execution": {
     "iopub.execute_input": "2022-07-26T15:45:02.843123Z",
     "iopub.status.busy": "2022-07-26T15:45:02.842835Z",
     "iopub.status.idle": "2022-07-26T15:45:02.860439Z",
     "shell.execute_reply": "2022-07-26T15:45:02.859677Z"
    }
   },
   "outputs": [],
   "source": [
    "X, y, feature_names, sample_names = preprocess_pandas(\n",
    "    df_pssm, labels, return_names=True\n",
    ")\n",
    "(\n",
    "    X_train,\n",
    "    X_test,\n",
    "    y_train,\n",
    "    y_test,\n",
    "    sample_names_train,\n",
    "    sample_names_test,\n",
    ") = get_independent_test_set(X, y, sample_names=sample_names, test_size=0.2)\n",
    "\n"
   ]
  },
  {
   "cell_type": "markdown",
   "metadata": {},
   "source": [
    "## Model comparison\n",
    "\n",
    "PSSM seems to work better than the sequence-based features. SVC looks the most promising."
   ]
  },
  {
   "cell_type": "code",
   "execution_count": null,
   "metadata": {
    "execution": {
     "iopub.execute_input": "2022-07-26T15:45:02.863932Z",
     "iopub.status.busy": "2022-07-26T15:45:02.863735Z",
     "iopub.status.idle": "2022-07-26T15:45:08.996504Z",
     "shell.execute_reply": "2022-07-26T15:45:08.996088Z"
    }
   },
   "outputs": [],
   "source": [
    "models_quick_compare(X_train, y_train)"
   ]
  },
  {
   "cell_type": "markdown",
   "metadata": {},
   "source": [
    "## Parameter tuning"
   ]
  },
  {
   "cell_type": "markdown",
   "metadata": {},
   "source": [
    "#### Custom transformer\n",
    "\n",
    "Here, we try the multi-pssm feature, which tries all combinations of feature generation parameters, and selects the best ones based on the training set. First without the transformer:"
   ]
  },
  {
   "cell_type": "code",
   "execution_count": null,
   "metadata": {
    "execution": {
     "iopub.execute_input": "2022-07-26T15:45:09.002648Z",
     "iopub.status.busy": "2022-07-26T15:45:09.002408Z",
     "iopub.status.idle": "2022-07-26T15:45:15.731151Z",
     "shell.execute_reply": "2022-07-26T15:45:15.730582Z"
    }
   },
   "outputs": [],
   "source": [
    "gsearch = optimize_hyperparams(\n",
    "    X_train,\n",
    "    y_train,\n",
    "    kernel=\"linear\",\n",
    "    dim_reduction=None,\n",
    "    C=[0.01, 0.1, 1, 10],\n",
    ")"
   ]
  },
  {
   "cell_type": "markdown",
   "metadata": {},
   "source": [
    "The pssmselector increases the scores a bit:"
   ]
  },
  {
   "cell_type": "code",
   "execution_count": null,
   "metadata": {
    "execution": {
     "iopub.execute_input": "2022-07-26T15:45:15.737651Z",
     "iopub.status.busy": "2022-07-26T15:45:15.737033Z",
     "iopub.status.idle": "2022-07-26T15:45:23.637425Z",
     "shell.execute_reply": "2022-07-26T15:45:23.637030Z"
    }
   },
   "outputs": [],
   "source": [
    "gsearch = optimize_hyperparams(\n",
    "    X_train,\n",
    "    y_train,\n",
    "    kernel=\"linear\",\n",
    "    dim_reduction=None,\n",
    "    feature_transformer=\"pssm\", \n",
    "    feature_names = feature_names,\n",
    "    C=[0.001, 0.01, 0.1, 1]\n",
    ")"
   ]
  },
  {
   "cell_type": "markdown",
   "metadata": {},
   "source": [
    "The RBF kernel improves the results further:"
   ]
  },
  {
   "cell_type": "code",
   "execution_count": null,
   "metadata": {
    "execution": {
     "iopub.execute_input": "2022-07-26T15:45:23.642963Z",
     "iopub.status.busy": "2022-07-26T15:45:23.642706Z",
     "iopub.status.idle": "2022-07-26T15:45:26.651549Z",
     "shell.execute_reply": "2022-07-26T15:45:26.651158Z"
    }
   },
   "outputs": [],
   "source": [
    "gsearch = optimize_hyperparams(\n",
    "    X_train,\n",
    "    y_train,\n",
    "    kernel=\"rbf\",\n",
    "    dim_reduction=None,\n",
    "    C=[0.1, 1, 10, 100],\n",
    ")"
   ]
  },
  {
   "cell_type": "markdown",
   "metadata": {},
   "source": [
    "Here, the pssmselector chooses to select all pssms, leading to the same model: "
   ]
  },
  {
   "cell_type": "code",
   "execution_count": null,
   "metadata": {
    "execution": {
     "iopub.execute_input": "2022-07-26T15:45:26.657211Z",
     "iopub.status.busy": "2022-07-26T15:45:26.656870Z",
     "iopub.status.idle": "2022-07-26T15:45:34.157556Z",
     "shell.execute_reply": "2022-07-26T15:45:34.157051Z"
    }
   },
   "outputs": [],
   "source": [
    "gsearch = optimize_hyperparams(\n",
    "    X_train,\n",
    "    y_train,\n",
    "    kernel=\"rbf\",\n",
    "    dim_reduction=None,\n",
    "    C=[0.1, 1, 10, 100],\n",
    "    feature_transformer=\"pssm\",\n",
    "    feature_names=feature_names,\n",
    ")\n",
    "best_estimator_rbf = gsearch"
   ]
  },
  {
   "cell_type": "markdown",
   "metadata": {},
   "source": [
    "RBF is the best one so far."
   ]
  },
  {
   "cell_type": "markdown",
   "metadata": {},
   "source": [
    "## Dimensionality reduction"
   ]
  },
  {
   "cell_type": "code",
   "execution_count": null,
   "metadata": {
    "execution": {
     "iopub.execute_input": "2022-07-26T15:45:34.162010Z",
     "iopub.status.busy": "2022-07-26T15:45:34.161808Z",
     "iopub.status.idle": "2022-07-26T15:45:41.897997Z",
     "shell.execute_reply": "2022-07-26T15:45:41.896967Z"
    }
   },
   "outputs": [],
   "source": [
    "gsearch = optimize_hyperparams(\n",
    "    X_train,\n",
    "    y_train,\n",
    "    kernel=\"linear\",\n",
    "    dim_reduction=\"pca\",\n",
    ")"
   ]
  },
  {
   "cell_type": "code",
   "execution_count": null,
   "metadata": {
    "execution": {
     "iopub.execute_input": "2022-07-26T15:45:41.903537Z",
     "iopub.status.busy": "2022-07-26T15:45:41.902979Z",
     "iopub.status.idle": "2022-07-26T15:46:33.088207Z",
     "shell.execute_reply": "2022-07-26T15:46:33.087002Z"
    }
   },
   "outputs": [],
   "source": [
    "gsearch = optimize_hyperparams(\n",
    "    X_train,\n",
    "    y_train,\n",
    "    kernel=\"linear\",\n",
    "    dim_reduction=\"pca\",\n",
    "    C=[10, 1, 0.1, 0.01],\n",
    "    feature_transformer=\"pssm\",\n",
    "    feature_names=feature_names,\n",
    ")\n",
    "best_estimator_linearsvc_pca = gsearch"
   ]
  },
  {
   "cell_type": "code",
   "execution_count": null,
   "metadata": {
    "execution": {
     "iopub.execute_input": "2022-07-26T15:46:33.094019Z",
     "iopub.status.busy": "2022-07-26T15:46:33.093640Z",
     "iopub.status.idle": "2022-07-26T15:46:52.655476Z",
     "shell.execute_reply": "2022-07-26T15:46:52.654124Z"
    }
   },
   "outputs": [],
   "source": [
    "gsearch = optimize_hyperparams(\n",
    "    X_train,\n",
    "    y_train,\n",
    "    kernel=\"rbf\",\n",
    "    dim_reduction=\"pca\",\n",
    "    C=[0.1, 1, 10, 100],\n",
    "    # gamma=[\"scale\"],\n",
    ")"
   ]
  },
  {
   "cell_type": "markdown",
   "metadata": {},
   "source": [
    "That already looks good, now with the PSSMSelector:"
   ]
  },
  {
   "cell_type": "code",
   "execution_count": null,
   "metadata": {
    "execution": {
     "iopub.execute_input": "2022-07-26T15:46:52.660993Z",
     "iopub.status.busy": "2022-07-26T15:46:52.660398Z",
     "iopub.status.idle": "2022-07-26T15:47:58.164059Z",
     "shell.execute_reply": "2022-07-26T15:47:58.162611Z"
    }
   },
   "outputs": [],
   "source": [
    "gsearch = optimize_hyperparams(\n",
    "    X_train,\n",
    "    y_train,\n",
    "    kernel=\"rbf\",\n",
    "    dim_reduction=\"pca\",\n",
    "    feature_transformer=\"pssm\",\n",
    "    feature_names=feature_names,\n",
    "    # C=[1, 0.1, 10],\n",
    "    # gamma=[\"scale\"],\n",
    ")\n",
    "best_estimator_svc_pca = gsearch"
   ]
  },
  {
   "cell_type": "markdown",
   "metadata": {},
   "source": [
    "A good score with default parameters, and 99% of the variance. "
   ]
  },
  {
   "cell_type": "markdown",
   "metadata": {},
   "source": [
    "## Validation\n"
   ]
  },
  {
   "cell_type": "markdown",
   "metadata": {},
   "source": [
    "### RBF kernel without feature selection\n",
    "\n",
    "Without lowering dimensions, we get worse performance for Sugar:"
   ]
  },
  {
   "cell_type": "code",
   "execution_count": null,
   "metadata": {
    "execution": {
     "iopub.execute_input": "2022-07-26T15:47:58.170226Z",
     "iopub.status.busy": "2022-07-26T15:47:58.169654Z",
     "iopub.status.idle": "2022-07-26T15:47:58.238237Z",
     "shell.execute_reply": "2022-07-26T15:47:58.237551Z"
    }
   },
   "outputs": [],
   "source": [
    "get_confusion_matrix(X_test, y_test, best_estimator_rbf, labels=labels)"
   ]
  },
  {
   "cell_type": "code",
   "execution_count": null,
   "metadata": {
    "execution": {
     "iopub.execute_input": "2022-07-26T15:47:58.242418Z",
     "iopub.status.busy": "2022-07-26T15:47:58.241994Z",
     "iopub.status.idle": "2022-07-26T15:47:58.278103Z",
     "shell.execute_reply": "2022-07-26T15:47:58.277778Z"
    }
   },
   "outputs": [],
   "source": [
    "get_classification_report(X_test, y_test, best_estimator_rbf, labels=labels)"
   ]
  },
  {
   "cell_type": "markdown",
   "metadata": {},
   "source": [
    "### Linear kernel with PCA\n",
    "\n",
    "Improves the results for sugar transporters."
   ]
  },
  {
   "cell_type": "code",
   "execution_count": null,
   "metadata": {
    "execution": {
     "iopub.execute_input": "2022-07-26T15:47:58.282019Z",
     "iopub.status.busy": "2022-07-26T15:47:58.281862Z",
     "iopub.status.idle": "2022-07-26T15:47:58.290470Z",
     "shell.execute_reply": "2022-07-26T15:47:58.290094Z"
    }
   },
   "outputs": [],
   "source": [
    "get_confusion_matrix(X_test, y_test, best_estimator_linearsvc_pca, labels=labels)"
   ]
  },
  {
   "cell_type": "code",
   "execution_count": null,
   "metadata": {
    "execution": {
     "iopub.execute_input": "2022-07-26T15:47:58.294052Z",
     "iopub.status.busy": "2022-07-26T15:47:58.293875Z",
     "iopub.status.idle": "2022-07-26T15:47:58.310145Z",
     "shell.execute_reply": "2022-07-26T15:47:58.309734Z"
    }
   },
   "outputs": [],
   "source": [
    "get_classification_report(X_test, y_test, best_estimator_linearsvc_pca, labels=labels)"
   ]
  },
  {
   "cell_type": "markdown",
   "metadata": {},
   "source": [
    "### RBF + PCA\n",
    "\n",
    "RBF kernel and pca leads to the best model.\n"
   ]
  },
  {
   "cell_type": "code",
   "execution_count": null,
   "metadata": {
    "execution": {
     "iopub.execute_input": "2022-07-26T15:47:58.313740Z",
     "iopub.status.busy": "2022-07-26T15:47:58.313545Z",
     "iopub.status.idle": "2022-07-26T15:47:58.323649Z",
     "shell.execute_reply": "2022-07-26T15:47:58.323277Z"
    }
   },
   "outputs": [],
   "source": [
    "get_confusion_matrix(X_test, y_test, best_estimator_svc_pca, labels=labels)"
   ]
  },
  {
   "cell_type": "code",
   "execution_count": null,
   "metadata": {
    "execution": {
     "iopub.execute_input": "2022-07-26T15:47:58.327210Z",
     "iopub.status.busy": "2022-07-26T15:47:58.327015Z",
     "iopub.status.idle": "2022-07-26T15:47:58.346277Z",
     "shell.execute_reply": "2022-07-26T15:47:58.345699Z"
    }
   },
   "outputs": [],
   "source": [
    "get_classification_report(X_test, y_test, best_estimator_svc_pca, labels=labels)"
   ]
  },
  {
   "cell_type": "markdown",
   "metadata": {},
   "source": [
    "### Conclusion\n",
    "\n",
    "PSSM with PCA and RBF-SVC is suitable for stable multi-organism models."
   ]
  },
  {
   "cell_type": "markdown",
   "metadata": {},
   "source": [
    "## Estimating validation variance\n",
    "\n",
    "How much did the result depend on choosing the training and test sets?\n",
    "\n",
    "Mean and standard deviation for randomly selected training and validation sets."
   ]
  },
  {
   "cell_type": "markdown",
   "metadata": {},
   "source": [
    "#### RBF+PCA "
   ]
  },
  {
   "cell_type": "code",
   "execution_count": null,
   "metadata": {
    "execution": {
     "iopub.execute_input": "2022-07-26T15:47:58.349938Z",
     "iopub.status.busy": "2022-07-26T15:47:58.349717Z",
     "iopub.status.idle": "2022-07-26T15:58:35.644690Z",
     "shell.execute_reply": "2022-07-26T15:58:35.643703Z"
    }
   },
   "outputs": [],
   "source": [
    "df_scores, df_params = full_test(\n",
    "    df_pssm,\n",
    "    labels,\n",
    "    dim_reduction=\"pca\",\n",
    "    kernel=\"rbf\",\n",
    "    repetitions=10,\n",
    "    feature_transformer=\"pssm\",\n",
    ")\n",
    "df_scores_gr = df_scores.groupby([\"label\", \"dataset\"], as_index=False)\n",
    "print(\"Mean F1\")\n",
    "display(df_scores_gr.mean().pivot(index=\"label\", columns=\"dataset\", values=\"F1 score\"))\n",
    "print(\"Sdev F1\")\n",
    "display(df_scores_gr.std().pivot(index=\"label\", columns=\"dataset\", values=\"F1 score\"))\n",
    "print(\"Parameters\")\n",
    "display(df_params)"
   ]
  },
  {
   "cell_type": "markdown",
   "metadata": {},
   "source": [
    "The PSSM feature leads to a good average performance across the 10 random seeds."
   ]
  }
 ],
 "metadata": {
  "kernelspec": {
   "display_name": "Python 3.9.12 ('subpred')",
   "language": "python",
   "name": "python3"
  },
  "language_info": {
   "codemirror_mode": {
    "name": "ipython",
    "version": 3
   },
   "file_extension": ".py",
   "mimetype": "text/x-python",
   "name": "python",
   "nbconvert_exporter": "python",
   "pygments_lexer": "ipython3",
   "version": "3.9.12"
  },
  "vscode": {
   "interpreter": {
    "hash": "a3c5a88a8b1fa059748e807688afdff6c3f31eb23364e67d8e1c7f5771f5e23f"
   }
  }
 },
 "nbformat": 4,
 "nbformat_minor": 2
}
