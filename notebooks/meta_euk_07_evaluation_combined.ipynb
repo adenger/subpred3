{
 "cells": [
  {
   "cell_type": "markdown",
   "metadata": {},
   "source": [
    "# Meta-Feature evaluation"
   ]
  },
  {
   "cell_type": "markdown",
   "metadata": {},
   "source": [
    "# Imports"
   ]
  },
  {
   "cell_type": "code",
   "execution_count": null,
   "metadata": {
    "execution": {
     "iopub.execute_input": "2022-07-26T15:58:40.667280Z",
     "iopub.status.busy": "2022-07-26T15:58:40.666705Z",
     "iopub.status.idle": "2022-07-26T15:58:41.868035Z",
     "shell.execute_reply": "2022-07-26T15:58:41.867562Z"
    }
   },
   "outputs": [],
   "source": [
    "from subpred.transporter_dataset import create_dataset\n",
    "from subpred.compositions import calculate_paac, calculate_aac\n",
    "from subpred.eval import (\n",
    "    get_independent_test_set,\n",
    "    optimize_hyperparams,\n",
    "    preprocess_pandas,\n",
    "    models_quick_compare,\n",
    "    get_confusion_matrix,\n",
    "    get_classification_report,\n",
    "    full_test,\n",
    "    quick_test\n",
    ")\n",
    "from subpred.util import get_feature_score, perform_pca\n",
    "from subpred.plots import labeled_clustermap, pca_plot_2d, pca_plot_3d\n",
    "from subpred.pssm import calculate_pssms_notebook\n",
    "\n",
    "import pandas as pd"
   ]
  },
  {
   "cell_type": "markdown",
   "metadata": {},
   "source": [
    "# Dataset"
   ]
  },
  {
   "cell_type": "code",
   "execution_count": null,
   "metadata": {
    "execution": {
     "iopub.execute_input": "2022-07-26T15:58:41.871146Z",
     "iopub.status.busy": "2022-07-26T15:58:41.870935Z",
     "iopub.status.idle": "2022-07-26T15:58:52.709144Z",
     "shell.execute_reply": "2022-07-26T15:58:52.707804Z"
    }
   },
   "outputs": [],
   "source": [
    "outliers = (\n",
    "    [\"Q9HBR0\", \"Q07837\"]  + [\"O81775\", \"Q9SW07\", \"Q9FHH5\", \"Q8S8A0\", \"Q3E965\", \"Q3EAV6\", \"Q3E8L0\"]\n",
    "    \n",
    ")\n",
    "df = create_dataset(\n",
    "    keywords_substrate_filter=[\"Amino-acid transport\", \"Sugar transport\"],\n",
    "    keywords_component_filter=[\"Transmembrane\"],\n",
    "    keywords_transport_filter=[\"Transport\"],\n",
    "    input_file=\"../data/raw/swissprot/uniprot-reviewed_yes.tab.gz\",\n",
    "    multi_substrate=\"integrate\",\n",
    "    verbose=True,\n",
    "    tax_ids_filter=[3702, 9606, 559292],\n",
    "    output_log=\"../logs/meta_amino_sugar_dataset.log\",\n",
    "    outliers=outliers,\n",
    "    sequence_clustering=70\n",
    ")\n",
    "taxid_to_organism = {\n",
    "    3702: \"A. thaliana\",\n",
    "    9606: \"Human\",\n",
    "    559292: \"Yeast\",\n",
    "}\n",
    "df = df.assign(organism=df.organism_id.map(taxid_to_organism))\n"
   ]
  },
  {
   "cell_type": "markdown",
   "metadata": {},
   "source": [
    "# Feature generation"
   ]
  },
  {
   "cell_type": "code",
   "execution_count": null,
   "metadata": {
    "execution": {
     "iopub.execute_input": "2022-07-26T15:58:52.751134Z",
     "iopub.status.busy": "2022-07-26T15:58:52.750895Z",
     "iopub.status.idle": "2022-07-26T15:58:52.761825Z",
     "shell.execute_reply": "2022-07-26T15:58:52.761015Z"
    }
   },
   "outputs": [],
   "source": [
    "labels = df.keywords_transport\n",
    "labels.value_counts()"
   ]
  },
  {
   "cell_type": "code",
   "execution_count": null,
   "metadata": {
    "execution": {
     "iopub.execute_input": "2022-07-26T15:58:52.766779Z",
     "iopub.status.busy": "2022-07-26T15:58:52.766556Z",
     "iopub.status.idle": "2022-07-26T15:58:56.959565Z",
     "shell.execute_reply": "2022-07-26T15:58:56.958766Z"
    }
   },
   "outputs": [],
   "source": [
    "df_aac = calculate_aac(df.sequence)\n",
    "df_paac = calculate_paac(df.sequence)\n",
    "df_pssm = calculate_pssms_notebook(df.sequence)"
   ]
  },
  {
   "cell_type": "code",
   "execution_count": null,
   "metadata": {
    "execution": {
     "iopub.execute_input": "2022-07-26T15:58:56.965018Z",
     "iopub.status.busy": "2022-07-26T15:58:56.964626Z",
     "iopub.status.idle": "2022-07-26T15:58:56.991722Z",
     "shell.execute_reply": "2022-07-26T15:58:56.991277Z"
    }
   },
   "outputs": [],
   "source": [
    "df_combined = pd.concat([\n",
    "    df_aac, df_paac, df_pssm\n",
    "], axis=1)\n",
    "df_combined"
   ]
  },
  {
   "cell_type": "markdown",
   "metadata": {},
   "source": [
    "## Plots"
   ]
  },
  {
   "cell_type": "markdown",
   "metadata": {},
   "source": [
    "First, let's create a plot of the three feature types, and see how they look together in a dataframe:"
   ]
  },
  {
   "cell_type": "code",
   "execution_count": null,
   "metadata": {
    "execution": {
     "iopub.execute_input": "2022-07-26T15:58:56.997481Z",
     "iopub.status.busy": "2022-07-26T15:58:56.997241Z",
     "iopub.status.idle": "2022-07-26T15:59:00.548167Z",
     "shell.execute_reply": "2022-07-26T15:59:00.547648Z"
    }
   },
   "outputs": [],
   "source": [
    "import re\n",
    "\n",
    "aac = re.compile(r\"^[ACDEFGHIKLMNPQRSTVWY]$\")\n",
    "paac = re.compile(r\"^[ACDEFGHIKLMNPQRSTVWY][ACDEFGHIKLMNPQRSTVWY]$\")\n",
    "pssm = re.compile(r\"^[ACDEFGHIKLMNPQRSTVWY][ACDEFGHIKLMNPQRSTVWY]_\\d\\d_\\d$\")\n",
    "\n",
    "def get_feature_type(feature_name):\n",
    "    if paac.match(feature_name):\n",
    "        return \"paac\"\n",
    "    elif aac.match(feature_name):\n",
    "        return \"aac\"\n",
    "    elif pssm.match(feature_name):\n",
    "        return \"pssm\"\n",
    "    else:\n",
    "        raise ValueError(\"unknown feature type!\")\n",
    "\n",
    "labeled_clustermap(df_combined.T, df_combined.columns.to_series().apply(get_feature_type))"
   ]
  },
  {
   "cell_type": "markdown",
   "metadata": {},
   "source": [
    "PAAC and AAC values are a lot lower, since they are percentages, while PSSM values are scaled to [0,1]. The scaling was done along the feature axis, to avoid information sharing. What does the data look like when we also scale PAAC and AAC to [0,1]?"
   ]
  },
  {
   "cell_type": "code",
   "execution_count": null,
   "metadata": {
    "execution": {
     "iopub.execute_input": "2022-07-26T15:59:00.565262Z",
     "iopub.status.busy": "2022-07-26T15:59:00.565000Z",
     "iopub.status.idle": "2022-07-26T15:59:03.165644Z",
     "shell.execute_reply": "2022-07-26T15:59:03.165135Z"
    }
   },
   "outputs": [],
   "source": [
    "from sklearn.preprocessing import minmax_scale\n",
    "\n",
    "\n",
    "def min_max_samples(df_feature):\n",
    "    return pd.DataFrame(\n",
    "        data=minmax_scale(df_feature, axis=1),\n",
    "        index=df_feature.index,\n",
    "        columns=df_feature.columns,\n",
    "    )\n",
    "\n",
    "\n",
    "df_combined_minmax = pd.concat(\n",
    "    [min_max_samples(df_aac), min_max_samples(df_paac), min_max_samples(df_pssm)],\n",
    "    axis=1,\n",
    ")\n",
    "# df_combined_minmax = pd.DataFrame(data=minmax_scale(df_combined, axis=1), index=df_combined.index, columns = df_combined.columns)\n",
    "labeled_clustermap(\n",
    "    df_combined_minmax.T, df_combined_minmax.columns.to_series().apply(get_feature_type)\n",
    ")\n",
    "# df_combined_minmax#.iloc[0].max()\n"
   ]
  },
  {
   "cell_type": "markdown",
   "metadata": {},
   "source": [
    "There is a cluster with almost exclusively PSSM, and one cluster that is more mixed. The latter contains features with lower values.\n",
    "\n",
    "The feature PCA plot looks similar to the other organisms and also shows the overlap:"
   ]
  },
  {
   "cell_type": "code",
   "execution_count": null,
   "metadata": {
    "execution": {
     "iopub.execute_input": "2022-07-26T15:59:03.185600Z",
     "iopub.status.busy": "2022-07-26T15:59:03.185411Z",
     "iopub.status.idle": "2022-07-26T15:59:03.547293Z",
     "shell.execute_reply": "2022-07-26T15:59:03.546919Z"
    }
   },
   "outputs": [],
   "source": [
    "pca_plot_2d(df_combined_minmax.T, df_combined_minmax.T.index.to_series().apply(get_feature_type).rename(\"Feature\"))"
   ]
  },
  {
   "cell_type": "markdown",
   "metadata": {},
   "source": [
    "What does the data look like when standardizing along the feature axis? In the model, the parameters for this will be derived from the training set and applied to the test set, to avoid data leakage."
   ]
  },
  {
   "cell_type": "code",
   "execution_count": null,
   "metadata": {
    "execution": {
     "iopub.execute_input": "2022-07-26T15:59:03.552709Z",
     "iopub.status.busy": "2022-07-26T15:59:03.552525Z",
     "iopub.status.idle": "2022-07-26T15:59:08.953408Z",
     "shell.execute_reply": "2022-07-26T15:59:08.952923Z"
    }
   },
   "outputs": [],
   "source": [
    "from sklearn.preprocessing import scale\n",
    "\n",
    "df_combined_std = pd.DataFrame(\n",
    "    data=scale(df_combined), index=df_combined.index, columns=df_combined.columns\n",
    ")\n",
    "labeled_clustermap(\n",
    "    df_combined_std.T, df_combined.columns.to_series().apply(get_feature_type)\n",
    ")\n",
    "labeled_clustermap(\n",
    "    df_combined_std, df.keywords_transport\n",
    ")"
   ]
  },
  {
   "cell_type": "markdown",
   "metadata": {},
   "source": [
    "The composition data looks a bit noisier, however this could also be caused by the fact that more PSSM features exist, and therefore have a higher impact on the h-clustering algorithm. The second plot shows that the two sample clusters do not correspond to the classes. \n",
    "\n",
    "There are two clusters, one for PSSM and one for the compositions. There are sub-clusters taht correspond to the substrates"
   ]
  },
  {
   "cell_type": "markdown",
   "metadata": {},
   "source": [
    "The PCA plot of the standardized features also looks similar. There is a separation between most PSSM features and the rest of the dataset, possibly because of their lower variance"
   ]
  },
  {
   "cell_type": "code",
   "execution_count": null,
   "metadata": {
    "execution": {
     "iopub.execute_input": "2022-07-26T15:59:08.964960Z",
     "iopub.status.busy": "2022-07-26T15:59:08.964693Z",
     "iopub.status.idle": "2022-07-26T15:59:09.302792Z",
     "shell.execute_reply": "2022-07-26T15:59:09.302421Z"
    }
   },
   "outputs": [],
   "source": [
    "pca_plot_2d(df_combined_std.T, df_combined_std.T.index.to_series().apply(get_feature_type).rename(\"Feature\"))"
   ]
  },
  {
   "cell_type": "markdown",
   "metadata": {},
   "source": [
    "## Independent test set"
   ]
  },
  {
   "cell_type": "code",
   "execution_count": null,
   "metadata": {
    "execution": {
     "iopub.execute_input": "2022-07-26T15:59:09.306213Z",
     "iopub.status.busy": "2022-07-26T15:59:09.306044Z",
     "iopub.status.idle": "2022-07-26T15:59:09.315743Z",
     "shell.execute_reply": "2022-07-26T15:59:09.315248Z"
    }
   },
   "outputs": [],
   "source": [
    "X, y, feature_names, sample_names = preprocess_pandas(\n",
    "    df_combined, labels, return_names=True\n",
    ")\n",
    "(\n",
    "    X_train,\n",
    "    X_test,\n",
    "    y_train,\n",
    "    y_test,\n",
    "    sample_names_train,\n",
    "    sample_names_test,\n",
    ") = get_independent_test_set(X, y, sample_names=sample_names, test_size=0.2)"
   ]
  },
  {
   "cell_type": "markdown",
   "metadata": {},
   "source": [
    "## Model comparison"
   ]
  },
  {
   "cell_type": "code",
   "execution_count": null,
   "metadata": {
    "execution": {
     "iopub.execute_input": "2022-07-26T15:59:09.318575Z",
     "iopub.status.busy": "2022-07-26T15:59:09.318237Z",
     "iopub.status.idle": "2022-07-26T15:59:14.168677Z",
     "shell.execute_reply": "2022-07-26T15:59:14.168084Z"
    }
   },
   "outputs": [],
   "source": [
    "models_quick_compare(X_train, y_train)"
   ]
  },
  {
   "cell_type": "markdown",
   "metadata": {},
   "source": [
    "## Feature importance\n",
    "\n",
    "How many top 50 features come from each feature type?"
   ]
  },
  {
   "cell_type": "code",
   "execution_count": null,
   "metadata": {
    "execution": {
     "iopub.execute_input": "2022-07-26T15:59:14.174993Z",
     "iopub.status.busy": "2022-07-26T15:59:14.174648Z",
     "iopub.status.idle": "2022-07-26T15:59:14.213012Z",
     "shell.execute_reply": "2022-07-26T15:59:14.212596Z"
    }
   },
   "outputs": [],
   "source": [
    "top50 = get_feature_score(df_combined, labels, remove_zero_variance=True).sort_values(\n",
    "    \"Normalized score\", ascending=False\n",
    ").head(50)\n",
    "top50.Feature.apply(get_feature_type).value_counts()"
   ]
  },
  {
   "cell_type": "markdown",
   "metadata": {},
   "source": [
    "Like in A thaliana and yeast, we get a mix again. For human and e coli, the top50 only came from PSSM."
   ]
  },
  {
   "cell_type": "code",
   "execution_count": null,
   "metadata": {
    "execution": {
     "iopub.execute_input": "2022-07-26T15:59:14.216184Z",
     "iopub.status.busy": "2022-07-26T15:59:14.215957Z",
     "iopub.status.idle": "2022-07-26T15:59:14.226644Z",
     "shell.execute_reply": "2022-07-26T15:59:14.226170Z"
    }
   },
   "outputs": [],
   "source": [
    "top50[top50.Feature.apply(get_feature_type) == \"pssm\"].head(10)"
   ]
  },
  {
   "cell_type": "markdown",
   "metadata": {},
   "source": [
    "The most important features are again related to the exchange of Methionine for Proline."
   ]
  },
  {
   "cell_type": "code",
   "execution_count": null,
   "metadata": {
    "execution": {
     "iopub.execute_input": "2022-07-26T15:59:14.230202Z",
     "iopub.status.busy": "2022-07-26T15:59:14.229935Z",
     "iopub.status.idle": "2022-07-26T15:59:14.237384Z",
     "shell.execute_reply": "2022-07-26T15:59:14.236930Z"
    }
   },
   "outputs": [],
   "source": [
    "top50[top50.Feature.apply(get_feature_type) == \"pssm\"].Feature.apply(lambda x: [x[0], x[1]]).explode().value_counts()"
   ]
  },
  {
   "cell_type": "markdown",
   "metadata": {},
   "source": [
    "The most important amino acid wrt its conservation was His (H) again. This matches the AAC feature importances of A thaliana and yeast. In human and yeast, Pro was the most important.  "
   ]
  },
  {
   "cell_type": "markdown",
   "metadata": {},
   "source": [
    "## Parameter tuning"
   ]
  },
  {
   "cell_type": "markdown",
   "metadata": {},
   "source": [
    "#### Custom transformer\n"
   ]
  },
  {
   "cell_type": "markdown",
   "metadata": {},
   "source": [
    "Whole dataset, linear svm"
   ]
  },
  {
   "cell_type": "code",
   "execution_count": null,
   "metadata": {
    "execution": {
     "iopub.execute_input": "2022-07-26T15:59:14.241027Z",
     "iopub.status.busy": "2022-07-26T15:59:14.240734Z",
     "iopub.status.idle": "2022-07-26T15:59:23.760805Z",
     "shell.execute_reply": "2022-07-26T15:59:23.759872Z"
    }
   },
   "outputs": [],
   "source": [
    "gsearch = optimize_hyperparams(\n",
    "    X_train,\n",
    "    y_train,\n",
    "    kernel=\"linear\",\n",
    "    dim_reduction=None,\n",
    "    C=[0.01, 0.1, 1, 10],\n",
    ")"
   ]
  },
  {
   "cell_type": "markdown",
   "metadata": {},
   "source": [
    "The PSSMselector selects all pssms, so we get the same score: "
   ]
  },
  {
   "cell_type": "code",
   "execution_count": null,
   "metadata": {
    "execution": {
     "iopub.execute_input": "2022-07-26T15:59:23.766298Z",
     "iopub.status.busy": "2022-07-26T15:59:23.765915Z",
     "iopub.status.idle": "2022-07-26T15:59:46.345935Z",
     "shell.execute_reply": "2022-07-26T15:59:46.345411Z"
    }
   },
   "outputs": [],
   "source": [
    "gsearch = optimize_hyperparams(\n",
    "    X_train,\n",
    "    y_train,\n",
    "    kernel=\"linear\",\n",
    "    dim_reduction=None,\n",
    "    C=[0.01, 0.1, 1, 10],\n",
    "    feature_transformer=\"pssm\",\n",
    "    feature_names=feature_names,\n",
    ")"
   ]
  },
  {
   "cell_type": "markdown",
   "metadata": {},
   "source": [
    "RBF improves the results:"
   ]
  },
  {
   "cell_type": "code",
   "execution_count": null,
   "metadata": {
    "execution": {
     "iopub.execute_input": "2022-07-26T15:59:46.351393Z",
     "iopub.status.busy": "2022-07-26T15:59:46.351139Z",
     "iopub.status.idle": "2022-07-26T15:59:49.983230Z",
     "shell.execute_reply": "2022-07-26T15:59:49.982830Z"
    }
   },
   "outputs": [],
   "source": [
    "gsearch = optimize_hyperparams(\n",
    "    X_train,\n",
    "    y_train,\n",
    "    kernel=\"rbf\",\n",
    "    dim_reduction=None,\n",
    "    C=[0.1, 1, 10],\n",
    ")"
   ]
  },
  {
   "cell_type": "markdown",
   "metadata": {},
   "source": [
    "Removing PSSMs with one iteration leads to a slight improvement:"
   ]
  },
  {
   "cell_type": "code",
   "execution_count": null,
   "metadata": {
    "execution": {
     "iopub.execute_input": "2022-07-26T15:59:49.988420Z",
     "iopub.status.busy": "2022-07-26T15:59:49.988229Z",
     "iopub.status.idle": "2022-07-26T16:00:03.509659Z",
     "shell.execute_reply": "2022-07-26T16:00:03.509149Z"
    }
   },
   "outputs": [],
   "source": [
    "gsearch = optimize_hyperparams(\n",
    "    X_train,\n",
    "    y_train,\n",
    "    kernel=\"rbf\",\n",
    "    dim_reduction=None,\n",
    "    C=[0.1, 1, 10, 100],\n",
    "    feature_transformer=\"pssm\",\n",
    "    feature_names=feature_names,\n",
    ")\n",
    "best_estimator_svc = gsearch"
   ]
  },
  {
   "cell_type": "markdown",
   "metadata": {},
   "source": [
    "## Dimensionality reduction"
   ]
  },
  {
   "cell_type": "markdown",
   "metadata": {},
   "source": [
    "Trying only in steps of 20, to reduce runtime."
   ]
  },
  {
   "cell_type": "code",
   "execution_count": null,
   "metadata": {
    "execution": {
     "iopub.execute_input": "2022-07-26T16:00:03.512357Z",
     "iopub.status.busy": "2022-07-26T16:00:03.512155Z",
     "iopub.status.idle": "2022-07-26T16:02:37.623574Z",
     "shell.execute_reply": "2022-07-26T16:02:37.622963Z"
    }
   },
   "outputs": [],
   "source": [
    "gsearch = optimize_hyperparams(\n",
    "    X_train,\n",
    "    y_train,\n",
    "    kernel=\"rbf\",\n",
    "    dim_reduction=\"kbest\",\n",
    "    C=[1, 10, 100],\n",
    "    select_k_steps=20,\n",
    "    remove_zero_var=True,\n",
    ")"
   ]
  },
  {
   "cell_type": "code",
   "execution_count": null,
   "metadata": {
    "execution": {
     "iopub.execute_input": "2022-07-26T16:02:37.626527Z",
     "iopub.status.busy": "2022-07-26T16:02:37.626242Z",
     "iopub.status.idle": "2022-07-26T16:02:58.384787Z",
     "shell.execute_reply": "2022-07-26T16:02:58.383677Z"
    }
   },
   "outputs": [],
   "source": [
    "gsearch = optimize_hyperparams(\n",
    "    X_train,\n",
    "    y_train,\n",
    "    kernel=\"rbf\",\n",
    "    dim_reduction=\"pca\",\n",
    "    # feature_transformer=\"pssm\",\n",
    "    # feature_names=feature_names,\n",
    "    # C=[0.1, 0.01, 0.001],\n",
    "    # gamma=[0.1, 0.01, 0.001],\n",
    ")\n"
   ]
  },
  {
   "cell_type": "markdown",
   "metadata": {},
   "source": [
    "Does using the pssm selector change anything?"
   ]
  },
  {
   "cell_type": "code",
   "execution_count": null,
   "metadata": {
    "execution": {
     "iopub.execute_input": "2022-07-26T16:02:58.390264Z",
     "iopub.status.busy": "2022-07-26T16:02:58.389445Z",
     "iopub.status.idle": "2022-07-26T16:04:46.330251Z",
     "shell.execute_reply": "2022-07-26T16:04:46.329177Z"
    }
   },
   "outputs": [],
   "source": [
    "gsearch = optimize_hyperparams(\n",
    "    X_train,\n",
    "    y_train,\n",
    "    kernel=\"rbf\",\n",
    "    dim_reduction=\"pca\",\n",
    "    feature_transformer=\"pssm\",\n",
    "    feature_names=feature_names,\n",
    "    # C=[0.1, 0.01, 0.001],\n",
    "    # gamma=[0.1, 0.01, 0.001],\n",
    ")\n",
    "\n",
    "best_estimator_svc_pca = gsearch"
   ]
  },
  {
   "cell_type": "markdown",
   "metadata": {},
   "source": [
    "## Validation\n",
    "\n"
   ]
  },
  {
   "cell_type": "code",
   "execution_count": null,
   "metadata": {
    "execution": {
     "iopub.execute_input": "2022-07-26T16:04:46.335426Z",
     "iopub.status.busy": "2022-07-26T16:04:46.334918Z",
     "iopub.status.idle": "2022-07-26T16:04:46.373014Z",
     "shell.execute_reply": "2022-07-26T16:04:46.372284Z"
    }
   },
   "outputs": [],
   "source": [
    "get_confusion_matrix(X_test, y_test, best_estimator_svc_pca, labels=labels)"
   ]
  },
  {
   "cell_type": "code",
   "execution_count": null,
   "metadata": {
    "execution": {
     "iopub.execute_input": "2022-07-26T16:04:46.379040Z",
     "iopub.status.busy": "2022-07-26T16:04:46.377542Z",
     "iopub.status.idle": "2022-07-26T16:04:46.422017Z",
     "shell.execute_reply": "2022-07-26T16:04:46.421164Z"
    }
   },
   "outputs": [],
   "source": [
    "get_classification_report(X_test, y_test, best_estimator_svc_pca, labels=labels)"
   ]
  },
  {
   "cell_type": "code",
   "execution_count": null,
   "metadata": {
    "execution": {
     "iopub.execute_input": "2022-07-26T16:04:46.426312Z",
     "iopub.status.busy": "2022-07-26T16:04:46.425951Z",
     "iopub.status.idle": "2022-07-26T16:04:46.488041Z",
     "shell.execute_reply": "2022-07-26T16:04:46.487240Z"
    }
   },
   "outputs": [],
   "source": [
    "get_confusion_matrix(X_test, y_test, best_estimator_svc, labels=labels)"
   ]
  },
  {
   "cell_type": "code",
   "execution_count": null,
   "metadata": {
    "execution": {
     "iopub.execute_input": "2022-07-26T16:04:46.492478Z",
     "iopub.status.busy": "2022-07-26T16:04:46.491824Z",
     "iopub.status.idle": "2022-07-26T16:04:46.536565Z",
     "shell.execute_reply": "2022-07-26T16:04:46.536137Z"
    }
   },
   "outputs": [],
   "source": [
    "get_classification_report(X_test, y_test, best_estimator_svc, labels=labels)"
   ]
  },
  {
   "cell_type": "markdown",
   "metadata": {},
   "source": [
    "## Estimating validation variance\n",
    "\n",
    "How much did the result depend on choosing the training and test sets?\n",
    "\n",
    "Mean and standard deviation for randomly selected training and validation sets."
   ]
  },
  {
   "cell_type": "code",
   "execution_count": null,
   "metadata": {
    "execution": {
     "iopub.execute_input": "2022-07-26T16:04:46.540490Z",
     "iopub.status.busy": "2022-07-26T16:04:46.540275Z",
     "iopub.status.idle": "2022-07-26T16:22:29.900163Z",
     "shell.execute_reply": "2022-07-26T16:22:29.899294Z"
    }
   },
   "outputs": [],
   "source": [
    "df_scores, df_params = full_test(\n",
    "    df_combined,\n",
    "    labels,\n",
    "    dim_reduction=\"pca\",\n",
    "    kernel=\"rbf\",\n",
    "    repetitions=10,\n",
    "    feature_transformer=\"pssm\",\n",
    ")\n",
    "df_scores_gr = df_scores.groupby([\"label\", \"dataset\"], as_index=False)\n",
    "print(\"Mean F1\")\n",
    "display(df_scores_gr.mean().pivot(index=\"label\", columns=\"dataset\", values=\"F1 score\"))\n",
    "print(\"Sdev F1\")\n",
    "display(df_scores_gr.std().pivot(index=\"label\", columns=\"dataset\", values=\"F1 score\"))\n",
    "print(\"Parameters\")\n",
    "display(df_params)"
   ]
  },
  {
   "cell_type": "markdown",
   "metadata": {},
   "source": [
    "The combined feature leads to decent performance, but it does not perform as good as the PSSM feature for the same dataset and the same pipeline."
   ]
  },
  {
   "cell_type": "code",
   "execution_count": null,
   "metadata": {},
   "outputs": [],
   "source": []
  }
 ],
 "metadata": {
  "kernelspec": {
   "display_name": "Python 3.9.12 ('subpred')",
   "language": "python",
   "name": "python3"
  },
  "language_info": {
   "codemirror_mode": {
    "name": "ipython",
    "version": 3
   },
   "file_extension": ".py",
   "mimetype": "text/x-python",
   "name": "python",
   "nbconvert_exporter": "python",
   "pygments_lexer": "ipython3",
   "version": "3.9.12"
  },
  "vscode": {
   "interpreter": {
    "hash": "a3c5a88a8b1fa059748e807688afdff6c3f31eb23364e67d8e1c7f5771f5e23f"
   }
  }
 },
 "nbformat": 4,
 "nbformat_minor": 2
}
